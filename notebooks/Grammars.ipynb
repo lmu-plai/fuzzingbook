{
 "cells": [
  {
   "cell_type": "markdown",
   "metadata": {
    "button": false,
    "new_sheet": true,
    "run_control": {
     "read_only": false
    },
    "slideshow": {
     "slide_type": "slide"
    },
    "toc-hr-collapsed": false
   },
   "source": [
    "# Fuzzing with Grammars\n",
    "\n",
    "In the chapter on [\"Mutation-Based Fuzzing\"](MutationFuzzer.ipynb), we have seen how to use extra hints – such as sample input files – to speed up test generation.  In this chapter, we take this idea one step further, by providing a _specification_ of the legal inputs to a program.  Specifying inputs via a _grammar_ allows for very systematic and efficient test generation, in particular for complex input formats.  Grammars also serve as the base for configuration fuzzing, API fuzzing, GUI fuzzing, and many more."
   ]
  },
  {
   "cell_type": "markdown",
   "metadata": {
    "button": false,
    "new_sheet": false,
    "run_control": {
     "read_only": false
    },
    "slideshow": {
     "slide_type": "skip"
    }
   },
   "source": [
    "**Prerequisites**\n",
    "\n",
    "* You should know how basic fuzzing works, e.g. from the [Chapter introducing fuzzing](Fuzzer.ipynb).\n",
    "* Knowledge on [mutation-based fuzzing](MutationFuzzer.ipynb) and [coverage](Coverage.ipynb) is _not_ required yet, but still recommended."
   ]
  },
  {
   "cell_type": "code",
   "execution_count": null,
   "metadata": {
    "button": false,
    "new_sheet": false,
    "run_control": {
     "read_only": false
    },
    "slideshow": {
     "slide_type": "skip"
    }
   },
   "outputs": [],
   "source": [
    "import fuzzingbook_utils"
   ]
  },
  {
   "cell_type": "code",
   "execution_count": null,
   "metadata": {},
   "outputs": [],
   "source": [
    "import Fuzzer"
   ]
  },
  {
   "cell_type": "markdown",
   "metadata": {},
   "source": [
    "## Synopsis\n",
    "<!-- Automatically generated. Do not edit. -->\n",
    "\n",
    "To [use the code provided in this chapter](Importing.ipynb), write\n",
    "\n",
    "```python\n",
    ">>> from fuzzingbook.Grammars import <identifier>\n",
    "```\n",
    "\n",
    "and then make use of the following features.\n",
    "\n",
    "\n",
    "This chapter introduces _grammars_ as a simple means to specify input languages, and to use them for testing programs with syntactically valid inputs.  A grammar is defined as a mapping of nonterminal symbols to lists of alternative expansions, as in the following example:\n",
    "\n",
    "```python\n",
    ">>> US_PHONE_GRAMMAR = {\n",
    ">>>     \"<start>\": [\"<phone-number>\"],\n",
    ">>>     \"<phone-number>\": [\"(<area>)<exchange>-<line>\"],\n",
    ">>>     \"<area>\": [\"<lead-digit><digit><digit>\"],\n",
    ">>>     \"<exchange>\": [\"<lead-digit><digit><digit>\"],\n",
    ">>>     \"<line>\": [\"<digit><digit><digit><digit>\"],\n",
    ">>>     \"<lead-digit>\": [\"2\", \"3\", \"4\", \"5\", \"6\", \"7\", \"8\", \"9\"],\n",
    ">>>     \"<digit>\": [\"0\", \"1\", \"2\", \"3\", \"4\", \"5\", \"6\", \"7\", \"8\", \"9\"]\n",
    ">>> }\n",
    ">>> \n",
    ">>> assert is_valid_grammar(US_PHONE_GRAMMAR)\n",
    "```\n",
    "Nonterminal symbols are enclosed in angle brackets (say, `<digit>`).  To generate an input string from a grammar, a _producer_ starts with the start symbol (`<start>`) and randomly chooses a random expansion for this symbol.  It continues the process until all nonterminal symbols are expanded.  The function `simple_grammar_fuzzer()` does just that:\n",
    "\n",
    "```python\n",
    ">>> [simple_grammar_fuzzer(US_PHONE_GRAMMAR) for i in range(5)]\n",
    "['(291)427-2390',\n",
    " '(206)588-5240',\n",
    " '(770)592-1561',\n",
    " '(650)562-4857',\n",
    " '(955)809-9273']\n",
    "```\n",
    "In practice, though, instead of `simple_grammar_fuzzer()`, you should use [the `GrammarFuzzer` class](GrammarFuzzer.ipynb) or one of its [coverage-based](GrammarCoverageFuzzer.ipynb), [probabilistic-based](ProbabilisticGrammarFuzzer.ipynb), or [generator-based](GeneratorGrammarFuzzer.ipynb) derivatives; these are more efficient, protect against infinite growth, and provide several additional features.\n",
    "\n",
    "This chapter also introduces a [grammar toolbox](#A-Grammar-Toolbox) with several helper functions that ease the writing of grammars, such as using shortcut notations for character classes and repetitions, or extending grammars \n",
    "\n"
   ]
  },
  {
   "cell_type": "markdown",
   "metadata": {
    "button": false,
    "new_sheet": true,
    "run_control": {
     "read_only": false
    },
    "slideshow": {
     "slide_type": "slide"
    }
   },
   "source": [
    "## Input Languages\n",
    "\n",
    "All possible behaviors of a program can be triggered by its input.  \"Input\" here can be a wide range of possible sources: We are talking about data that is read from files, from the environment, or over the network, data input by the user, or data acquired from interaction with other resources.  The set of all these inputs determines how the program will behave – including its failures.  When testing, it is thus very helpful to think about possible input sources, how to get them under control, and _how to systematically test them_."
   ]
  },
  {
   "cell_type": "markdown",
   "metadata": {
    "button": false,
    "new_sheet": true,
    "run_control": {
     "read_only": false
    },
    "slideshow": {
     "slide_type": "subslide"
    }
   },
   "source": [
    "For the sake of simplicity, we will assume for now that the program has only one source of inputs; this is the same assumption we have been using in the previous chapters, too.  The set of valid inputs to a program is called a _language_.  Languages range from the simple to the complex: the CSV language denotes the set of valid comma-separated inputs, whereas the Python language denotes the set of valid Python programs."
   ]
  },
  {
   "cell_type": "markdown",
   "metadata": {
    "button": false,
    "new_sheet": false,
    "run_control": {
     "read_only": false
    },
    "slideshow": {
     "slide_type": "slide"
    },
    "toc-hr-collapsed": true
   },
   "source": [
    "## Grammars\n",
    "\n",
    "Grammars are among the most popular (and best understood) formalisms to formally specify input languages.  Using a grammar, one can express a wide range of the properties of an input language.  Grammars are particularly great for expressing the *syntactical structure* of an input, and are the formalism of choice to express nested or recursive inputs.  The grammars we use are so-called *context-free grammars*, one of the easiest and most popular grammar formalisms."
   ]
  },
  {
   "cell_type": "markdown",
   "metadata": {
    "button": false,
    "new_sheet": false,
    "run_control": {
     "read_only": false
    },
    "slideshow": {
     "slide_type": "subslide"
    }
   },
   "source": [
    "### Rules and Expansions\n",
    "\n",
    "A grammar consists of a *start symbol* and a set of *expansion rules* (or simply *rules*) which indicate how the start symbol (and other symbols) can be expanded.  As an example, consider the following grammar, denoting a sequence of two digits:\n",
    "\n",
    "```\n",
    "<start> ::= <digit><digit>\n",
    "<digit> ::= 0 | 1 | 2 | 3 | 4 | 5 | 6 | 7 | 8 | 9\n",
    "```\n",
    "\n",
    "To read such a grammar, start with the start symbol (`<start>`).  An expansion rule `<A> ::= <B>` means that the symbol on the left side (`<A>`) can be replaced by the string on the right side (`<B>`).  In the above grammar, `<start>` would be replaced by `<digit><digit>`.\n",
    "\n",
    "In this string again, `<digit>` would be replaced by the string on the right side of the `<digit>` rule.  The special operator `|` denotes *expansion alternatives* (or simply *alternatives*), meaning that any of the digits can be chosen for an expansion.  Each `<digit>` thus would be expanded into one of the given digits, eventually yielding a string between `00` and `99`.  There are no further expansions for `0` to `9`, so we are all set."
   ]
  },
  {
   "cell_type": "markdown",
   "metadata": {
    "button": false,
    "new_sheet": false,
    "run_control": {
     "read_only": false
    },
    "slideshow": {
     "slide_type": "subslide"
    }
   },
   "source": [
    "The interesting thing about grammars is that they can be *recursive*. That is, expansions can make use of symbols expanded earlier – which would then be expanded again.  As an example, consider a grammar that describes integers:\n",
    "\n",
    "```\n",
    "<start>  ::= <integer>\n",
    "<integer> ::= <digit> | <digit><integer>\n",
    "<digit>   ::= 0 | 1 | 2 | 3 | 4 | 5 | 6 | 7 | 8 | 9\n",
    "```\n",
    "\n",
    "Here, a `<integer>` is either a single digit, or a digit followed by another integer.  The number `1234` thus would be represented as a single digit `1`, followed by the integer `234`, which in turn is a digit `2`, followed by the integer `34`."
   ]
  },
  {
   "cell_type": "markdown",
   "metadata": {
    "button": false,
    "new_sheet": false,
    "run_control": {
     "read_only": false
    },
    "slideshow": {
     "slide_type": "subslide"
    }
   },
   "source": [
    "If we wanted to express that an integer can be preceded by a sign (`+` or `-`), we would write the grammar as\n",
    "\n",
    "```\n",
    "<start>   ::= <number>\n",
    "<number>  ::= <integer> | +<integer> | -<integer>\n",
    "<integer> ::= <digit> | <digit><integer>\n",
    "<digit>   ::= 0 | 1 | 2 | 3 | 4 | 5 | 6 | 7 | 8 | 9\n",
    "```\n",
    "\n",
    "These rules formally define the language: Anything that can be derived from the start symbol is part of the language; anything that cannot is not."
   ]
  },
  {
   "cell_type": "markdown",
   "metadata": {
    "button": false,
    "new_sheet": false,
    "run_control": {
     "read_only": false
    },
    "slideshow": {
     "slide_type": "subslide"
    }
   },
   "source": [
    "### Arithmetic Expressions\n",
    "\n",
    "Let us expand our grammar to cover full *arithmetic expressions* – a poster child example for a grammar.  We see that an expression (`<expr>`) is either a sum, or a difference, or a term; a term is either a product or a division, or a factor; and a factor is either a number or a parenthesized expression.  Almost all rules can have recursion, and thus allow arbitrary complex expressions such as `(1 + 2) * (3.4 / 5.6 - 789)`.\n",
    "\n",
    "```\n",
    "<start>   ::= <expr>\n",
    "<expr>    ::= <term> + <expr> | <term> - <expr> | <term>\n",
    "<term>    ::= <term> * <factor> | <term> / <factor> | <factor>\n",
    "<factor>  ::= +<factor> | -<factor> | (<expr>) | <integer> | <integer>.<integer>\n",
    "<integer> ::= <digit><integer> | <digit>\n",
    "<digit>   ::= 0 | 1 | 2 | 3 | 4 | 5 | 6 | 7 | 8 | 9\n",
    "```\n",
    "\n",
    "In such a grammar, if we start with `<start>` and then expand one symbol after another, randomly choosing alternatives, we can quickly produce one valid arithmetic expression after another.  Such *grammar fuzzing* is highly effective as it comes to produce complex inputs, and this is what we will implement in this chapter."
   ]
  },
  {
   "cell_type": "markdown",
   "metadata": {
    "button": false,
    "new_sheet": false,
    "run_control": {
     "read_only": false
    },
    "slideshow": {
     "slide_type": "slide"
    }
   },
   "source": [
    "## Representing Grammars in Python\n",
    "\n",
    "Our first step in building a grammar fuzzer is to find an appropriate format for grammars.  To make the writing of grammars as simple as possible, we use a format that is based on strings and lists.  Our grammars in Python take the format of a _mapping_ between symbol names and expansions, where expansions are _lists_ of alternatives.  A one-rule grammar for digits thus takes the form"
   ]
  },
  {
   "cell_type": "code",
   "execution_count": null,
   "metadata": {
    "button": false,
    "new_sheet": false,
    "run_control": {
     "read_only": false
    },
    "slideshow": {
     "slide_type": "fragment"
    }
   },
   "outputs": [],
   "source": [
    "DIGIT_GRAMMAR = {\n",
    "    \"<start>\":\n",
    "        [\"0\", \"1\", \"2\", \"3\", \"4\", \"5\", \"6\", \"7\", \"8\", \"9\"]\n",
    "}"
   ]
  },
  {
   "cell_type": "markdown",
   "metadata": {
    "button": false,
    "new_sheet": false,
    "run_control": {
     "read_only": false
    },
    "slideshow": {
     "slide_type": "fragment"
    }
   },
   "source": [
    "whereas the full grammar for arithmetic expressions looks like this:"
   ]
  },
  {
   "cell_type": "code",
   "execution_count": null,
   "metadata": {
    "button": false,
    "new_sheet": false,
    "run_control": {
     "read_only": false
    },
    "slideshow": {
     "slide_type": "subslide"
    }
   },
   "outputs": [],
   "source": [
    "EXPR_GRAMMAR = {\n",
    "    \"<start>\":\n",
    "        [\"<expr>\"],\n",
    "\n",
    "    \"<expr>\":\n",
    "        [\"<term> + <expr>\", \"<term> - <expr>\", \"<term>\"],\n",
    "\n",
    "    \"<term>\":\n",
    "        [\"<factor> * <term>\", \"<factor> / <term>\", \"<factor>\"],\n",
    "\n",
    "    \"<factor>\":\n",
    "        [\"+<factor>\",\n",
    "         \"-<factor>\",\n",
    "         \"(<expr>)\",\n",
    "         \"<integer>.<integer>\",\n",
    "         \"<integer>\"],\n",
    "\n",
    "    \"<integer>\":\n",
    "        [\"<digit><integer>\", \"<digit>\"],\n",
    "\n",
    "    \"<digit>\":\n",
    "        [\"0\", \"1\", \"2\", \"3\", \"4\", \"5\", \"6\", \"7\", \"8\", \"9\"]\n",
    "}"
   ]
  },
  {
   "cell_type": "markdown",
   "metadata": {
    "button": false,
    "new_sheet": false,
    "run_control": {
     "read_only": false
    },
    "slideshow": {
     "slide_type": "subslide"
    }
   },
   "source": [
    "In the grammar, every symbol can be defined exactly once.  We can access any rule by its symbol..."
   ]
  },
  {
   "cell_type": "code",
   "execution_count": null,
   "metadata": {
    "button": false,
    "code_folding": [],
    "new_sheet": false,
    "run_control": {
     "read_only": false
    },
    "slideshow": {
     "slide_type": "fragment"
    }
   },
   "outputs": [],
   "source": [
    "EXPR_GRAMMAR[\"<digit>\"]"
   ]
  },
  {
   "cell_type": "markdown",
   "metadata": {
    "button": false,
    "new_sheet": false,
    "run_control": {
     "read_only": false
    },
    "slideshow": {
     "slide_type": "fragment"
    }
   },
   "source": [
    "....and we can check whether a symbol is in the grammar:"
   ]
  },
  {
   "cell_type": "code",
   "execution_count": null,
   "metadata": {
    "button": false,
    "new_sheet": false,
    "run_control": {
     "read_only": false
    },
    "slideshow": {
     "slide_type": "fragment"
    }
   },
   "outputs": [],
   "source": [
    "\"<identifier>\" in EXPR_GRAMMAR"
   ]
  },
  {
   "cell_type": "markdown",
   "metadata": {},
   "source": [
    "Note that we assume that on the left hand side of a rule (i.e., the key in the mapping) is always a single symbol.  This is the property that gives our grammars the characterization of _context-free_."
   ]
  },
  {
   "cell_type": "markdown",
   "metadata": {
    "slideshow": {
     "slide_type": "slide"
    }
   },
   "source": [
    "## Some Definitions"
   ]
  },
  {
   "cell_type": "markdown",
   "metadata": {
    "slideshow": {
     "slide_type": "fragment"
    }
   },
   "source": [
    "We assume that the canonical start symbol is `<start>`:"
   ]
  },
  {
   "cell_type": "code",
   "execution_count": null,
   "metadata": {
    "slideshow": {
     "slide_type": "fragment"
    }
   },
   "outputs": [],
   "source": [
    "START_SYMBOL = \"<start>\""
   ]
  },
  {
   "cell_type": "markdown",
   "metadata": {
    "slideshow": {
     "slide_type": "subslide"
    }
   },
   "source": [
    "The handy `nonterminals()` function extracts the list of nonterminal symbols (i.e., anything between `<` and `>`, except spaces) from an expansion."
   ]
  },
  {
   "cell_type": "code",
   "execution_count": null,
   "metadata": {
    "button": false,
    "new_sheet": false,
    "run_control": {
     "read_only": false
    },
    "slideshow": {
     "slide_type": "skip"
    }
   },
   "outputs": [],
   "source": [
    "import re"
   ]
  },
  {
   "cell_type": "code",
   "execution_count": null,
   "metadata": {
    "button": false,
    "new_sheet": false,
    "run_control": {
     "read_only": false
    },
    "slideshow": {
     "slide_type": "fragment"
    }
   },
   "outputs": [],
   "source": [
    "RE_NONTERMINAL = re.compile(r'(<[^<> ]*>)')"
   ]
  },
  {
   "cell_type": "code",
   "execution_count": null,
   "metadata": {
    "button": false,
    "new_sheet": false,
    "run_control": {
     "read_only": false
    },
    "slideshow": {
     "slide_type": "fragment"
    }
   },
   "outputs": [],
   "source": [
    "def nonterminals(expansion):\n",
    "    # In later chapters, we allow expansions to be tuples,\n",
    "    # with the expansion being the first element\n",
    "    if isinstance(expansion, tuple):\n",
    "        expansion = expansion[0]\n",
    "\n",
    "    return re.findall(RE_NONTERMINAL, expansion)"
   ]
  },
  {
   "cell_type": "code",
   "execution_count": null,
   "metadata": {
    "button": false,
    "new_sheet": false,
    "run_control": {
     "read_only": false
    },
    "slideshow": {
     "slide_type": "fragment"
    }
   },
   "outputs": [],
   "source": [
    "assert nonterminals(\"<term> * <factor>\") == [\"<term>\", \"<factor>\"]\n",
    "assert nonterminals(\"<digit><integer>\") == [\"<digit>\", \"<integer>\"]\n",
    "assert nonterminals(\"1 < 3 > 2\") == []\n",
    "assert nonterminals(\"1 <3> 2\") == [\"<3>\"]\n",
    "assert nonterminals(\"1 + 2\") == []\n",
    "assert nonterminals((\"<1>\", {'option': 'value'})) == [\"<1>\"]"
   ]
  },
  {
   "cell_type": "markdown",
   "metadata": {
    "button": false,
    "new_sheet": false,
    "run_control": {
     "read_only": false
    },
    "slideshow": {
     "slide_type": "subslide"
    }
   },
   "source": [
    "Likewise, `is_nonterminal()` checks whether some symbol is a nonterminal:"
   ]
  },
  {
   "cell_type": "code",
   "execution_count": null,
   "metadata": {
    "button": false,
    "new_sheet": false,
    "run_control": {
     "read_only": false
    },
    "slideshow": {
     "slide_type": "fragment"
    }
   },
   "outputs": [],
   "source": [
    "def is_nonterminal(s):\n",
    "    return re.match(RE_NONTERMINAL, s)"
   ]
  },
  {
   "cell_type": "code",
   "execution_count": null,
   "metadata": {
    "button": false,
    "new_sheet": false,
    "run_control": {
     "read_only": false
    },
    "slideshow": {
     "slide_type": "fragment"
    }
   },
   "outputs": [],
   "source": [
    "assert is_nonterminal(\"<abc>\")\n",
    "assert is_nonterminal(\"<symbol-1>\")\n",
    "assert not is_nonterminal(\"+\")"
   ]
  },
  {
   "cell_type": "markdown",
   "metadata": {
    "button": false,
    "new_sheet": false,
    "run_control": {
     "read_only": false
    },
    "slideshow": {
     "slide_type": "slide"
    }
   },
   "source": [
    "## A Simple Grammar Fuzzer\n",
    "\n",
    "Let us now put the above grammars to use.   We will build a very simple grammar fuzzer that starts with a start symbol (`<start>`) and then keeps on expanding it.  To avoid expansion to infinite inputs, we place a limit (`max_nonterminals`) on the number of nonterminals.  Furthermore, to avoid being stuck in a situation where we cannot reduce the number of symbols any further, we also limit the total number of expansion steps."
   ]
  },
  {
   "cell_type": "code",
   "execution_count": null,
   "metadata": {
    "button": false,
    "new_sheet": false,
    "run_control": {
     "read_only": false
    },
    "slideshow": {
     "slide_type": "skip"
    }
   },
   "outputs": [],
   "source": [
    "import random"
   ]
  },
  {
   "cell_type": "code",
   "execution_count": null,
   "metadata": {
    "button": false,
    "new_sheet": false,
    "run_control": {
     "read_only": false
    },
    "slideshow": {
     "slide_type": "fragment"
    }
   },
   "outputs": [],
   "source": [
    "class ExpansionError(Exception):\n",
    "    pass"
   ]
  },
  {
   "cell_type": "code",
   "execution_count": null,
   "metadata": {
    "button": false,
    "new_sheet": false,
    "run_control": {
     "read_only": false
    },
    "slideshow": {
     "slide_type": "subslide"
    }
   },
   "outputs": [],
   "source": [
    "def simple_grammar_fuzzer(grammar, start_symbol=START_SYMBOL,\n",
    "                          max_nonterminals=10, max_expansion_trials=100,\n",
    "                          log=False):\n",
    "    term = start_symbol\n",
    "    expansion_trials = 0\n",
    "\n",
    "    while len(nonterminals(term)) > 0:\n",
    "        symbol_to_expand = random.choice(nonterminals(term))\n",
    "        expansions = grammar[symbol_to_expand]\n",
    "        expansion = random.choice(expansions)\n",
    "        new_term = term.replace(symbol_to_expand, expansion, 1)\n",
    "\n",
    "        if len(nonterminals(new_term)) < max_nonterminals:\n",
    "            term = new_term\n",
    "            if log:\n",
    "                print(\"%-40s\" % (symbol_to_expand + \" -> \" + expansion), term)\n",
    "            expansion_trials = 0\n",
    "        else:\n",
    "            expansion_trials += 1\n",
    "            if expansion_trials >= max_expansion_trials:\n",
    "                raise ExpansionError(\"Cannot expand \" + repr(term))\n",
    "\n",
    "    return term"
   ]
  },
  {
   "cell_type": "markdown",
   "metadata": {
    "button": false,
    "new_sheet": false,
    "run_control": {
     "read_only": false
    },
    "slideshow": {
     "slide_type": "subslide"
    }
   },
   "source": [
    "Let us see how this simple grammar fuzzer obtains an arithmetic expression from the start symbol:"
   ]
  },
  {
   "cell_type": "code",
   "execution_count": null,
   "metadata": {
    "button": false,
    "new_sheet": false,
    "run_control": {
     "read_only": false
    },
    "slideshow": {
     "slide_type": "subslide"
    }
   },
   "outputs": [],
   "source": [
    "simple_grammar_fuzzer(grammar=EXPR_GRAMMAR, max_nonterminals=3, log=True)"
   ]
  },
  {
   "cell_type": "markdown",
   "metadata": {
    "slideshow": {
     "slide_type": "subslide"
    }
   },
   "source": [
    "By increasing the limit of nonterminals, we can quickly get much longer productions:"
   ]
  },
  {
   "cell_type": "code",
   "execution_count": null,
   "metadata": {
    "button": false,
    "new_sheet": false,
    "run_control": {
     "read_only": false
    },
    "slideshow": {
     "slide_type": "subslide"
    }
   },
   "outputs": [],
   "source": [
    "for i in range(10):\n",
    "    print(simple_grammar_fuzzer(grammar=EXPR_GRAMMAR, max_nonterminals=5))"
   ]
  },
  {
   "cell_type": "markdown",
   "metadata": {
    "button": false,
    "new_sheet": false,
    "run_control": {
     "read_only": false
    },
    "slideshow": {
     "slide_type": "subslide"
    }
   },
   "source": [
    "Note that this fuzzer is rather inefficient due to the large number of search and replace operations.  On the other hand, the implementation is straightforward and does the job in most cases.  For this chapter, we'll stick to it; in the [next chapter](GrammarFuzzer.ipynb), we'll show how to build a more efficient one."
   ]
  },
  {
   "cell_type": "markdown",
   "metadata": {
    "button": false,
    "new_sheet": false,
    "run_control": {
     "read_only": false
    },
    "slideshow": {
     "slide_type": "slide"
    },
    "toc-hr-collapsed": false
   },
   "source": [
    "## Some Grammars\n",
    "\n",
    "Let us create (and visualize) some more grammars and use them for fuzzing."
   ]
  },
  {
   "cell_type": "markdown",
   "metadata": {
    "button": false,
    "new_sheet": false,
    "run_control": {
     "read_only": false
    },
    "slideshow": {
     "slide_type": "subslide"
    }
   },
   "source": [
    "### A CGI Grammar\n",
    "\n",
    "Here's a grammar for `cgi_decode()` introduced in the [chapter on coverage](Coverage.ipynb)."
   ]
  },
  {
   "cell_type": "code",
   "execution_count": null,
   "metadata": {
    "button": false,
    "new_sheet": false,
    "run_control": {
     "read_only": false
    },
    "slideshow": {
     "slide_type": "fragment"
    }
   },
   "outputs": [],
   "source": [
    "CGI_GRAMMAR = {\n",
    "    \"<start>\":\n",
    "        [\"<string>\"],\n",
    "\n",
    "    \"<string>\":\n",
    "        [\"<letter>\", \"<letter><string>\"],\n",
    "\n",
    "    \"<letter>\":\n",
    "        [\"<plus>\", \"<percent>\", \"<other>\"],\n",
    "\n",
    "    \"<plus>\":\n",
    "        [\"+\"],\n",
    "\n",
    "    \"<percent>\":\n",
    "        [\"%<hexdigit><hexdigit>\"],\n",
    "\n",
    "    \"<hexdigit>\":\n",
    "        [\"0\", \"1\", \"2\", \"3\", \"4\", \"5\", \"6\", \"7\",\n",
    "            \"8\", \"9\", \"a\", \"b\", \"c\", \"d\", \"e\", \"f\"],\n",
    "\n",
    "    \"<other>\":  # Actually, could be _all_ letters\n",
    "        [\"0\", \"1\", \"2\", \"3\", \"4\", \"5\", \"a\", \"b\", \"c\", \"d\", \"e\", \"-\", \"_\"],\n",
    "}"
   ]
  },
  {
   "cell_type": "markdown",
   "metadata": {
    "slideshow": {
     "slide_type": "subslide"
    }
   },
   "source": [
    "In contrast to [basic fuzzing](Fuzzer.ipynb) or [mutation-based fuzzing](MutationFuzzer.ipynb), the grammar quickly produces all sorts of combinations:"
   ]
  },
  {
   "cell_type": "code",
   "execution_count": null,
   "metadata": {
    "button": false,
    "new_sheet": false,
    "run_control": {
     "read_only": false
    },
    "slideshow": {
     "slide_type": "subslide"
    }
   },
   "outputs": [],
   "source": [
    "for i in range(10):\n",
    "    print(simple_grammar_fuzzer(grammar=CGI_GRAMMAR, max_nonterminals=10))"
   ]
  },
  {
   "cell_type": "markdown",
   "metadata": {
    "button": false,
    "new_sheet": false,
    "run_control": {
     "read_only": false
    },
    "slideshow": {
     "slide_type": "subslide"
    }
   },
   "source": [
    "### A URL Grammar\n",
    "\n",
    "The same properties we have seen for CGI input also hold for more complex inputs.  Let us use a grammar to produce a large number of valid URLs:"
   ]
  },
  {
   "cell_type": "code",
   "execution_count": null,
   "metadata": {
    "button": false,
    "new_sheet": false,
    "run_control": {
     "read_only": false
    },
    "slideshow": {
     "slide_type": "subslide"
    }
   },
   "outputs": [],
   "source": [
    "URL_GRAMMAR = {\n",
    "    \"<start>\":\n",
    "        [\"<url>\"],\n",
    "    \"<url>\":\n",
    "        [\"<scheme>://<authority><path><query>\"],\n",
    "    \"<scheme>\":\n",
    "        [\"http\", \"https\", \"ftp\", \"ftps\"],\n",
    "    \"<authority>\":\n",
    "        [\"<host>\", \"<host>:<port>\", \"<userinfo>@<host>\", \"<userinfo>@<host>:<port>\"],\n",
    "    \"<host>\":  # Just a few\n",
    "        [\"unibw.de\", \"www.google.com\", \"example.com\"],\n",
    "    \"<port>\":\n",
    "        [\"80\", \"8080\", \"<nat>\"],\n",
    "    \"<nat>\":\n",
    "        [\"<digit>\", \"<digit><digit>\"],\n",
    "    \"<digit>\":\n",
    "        [\"0\", \"1\", \"2\", \"3\", \"4\", \"5\", \"6\", \"7\", \"8\", \"9\"],\n",
    "    \"<userinfo>\":  # Just one\n",
    "        [\"user:password\"],\n",
    "    \"<path>\":  # Just a few\n",
    "        [\"\", \"/\", \"/<id>\"],\n",
    "    \"<id>\":  # Just a few\n",
    "        [\"abc\", \"def\", \"x<digit><digit>\"],\n",
    "    \"<query>\":\n",
    "        [\"\", \"?<params>\"],\n",
    "    \"<params>\":\n",
    "        [\"<param>\", \"<param>&<params>\"],\n",
    "    \"<param>\":  # Just a few\n",
    "        [\"<id>=<id>\", \"<id>=<nat>\"],\n",
    "}"
   ]
  },
  {
   "cell_type": "markdown",
   "metadata": {
    "slideshow": {
     "slide_type": "subslide"
    }
   },
   "source": [
    "Again, within milliseconds, we can produce plenty of valid inputs."
   ]
  },
  {
   "cell_type": "code",
   "execution_count": null,
   "metadata": {
    "button": false,
    "new_sheet": false,
    "run_control": {
     "read_only": false
    },
    "slideshow": {
     "slide_type": "fragment"
    }
   },
   "outputs": [],
   "source": [
    "for i in range(10):\n",
    "    print(simple_grammar_fuzzer(grammar=URL_GRAMMAR, max_nonterminals=10))"
   ]
  },
  {
   "cell_type": "markdown",
   "metadata": {
    "slideshow": {
     "slide_type": "slide"
    }
   },
   "source": [
    "## Grammars as Mutation Seeds\n",
    "\n",
    "One very useful property of grammars is that they produce mostly valid inputs.  From a syntactical standpoint, the inputs are actually _always_ valid, as they satisfy the constraints of the given grammar.  (Of course, one needs a valid grammar in the first place.)  However, there are also _semantical_ properties that cannot be easily expressed in a grammar.  If, say, for a URL, the port range is supposed to be between 1024 and 2048, this is hard to write in a grammar.  If one has to satisfy more complex constraints, one quickly reaches the limits of what a grammar can express."
   ]
  },
  {
   "cell_type": "markdown",
   "metadata": {
    "slideshow": {
     "slide_type": "fragment"
    }
   },
   "source": [
    "One way around this is to attach constraints to grammars, as we will discuss [later in this book](ConstraintFuzzer.ipynb).  Another possibility is to put together the strengths of grammar-based fuzzing and [mutation-based fuzzing](MutationFuzzer.ipynb).  The idea is to use the grammar-generated inputs as *seeds* for further mutation-based fuzzing.  This way, we can explore not only _valid_ inputs, but also check out the _boundaries_ between valid and invalid inputs.  This is particularly interesting as  slightly invalid inputs allow to find parser errors (which are often abundant).  As with fuzzing in general, it is the unexpected which reveals errors in programs."
   ]
  },
  {
   "cell_type": "markdown",
   "metadata": {
    "slideshow": {
     "slide_type": "subslide"
    }
   },
   "source": [
    "To use our generated inputs as seeds, we can feed them directly into the mutation fuzzers introduced earlier:"
   ]
  },
  {
   "cell_type": "code",
   "execution_count": null,
   "metadata": {
    "slideshow": {
     "slide_type": "skip"
    }
   },
   "outputs": [],
   "source": [
    "from MutationFuzzer import MutationFuzzer  # minor dependency"
   ]
  },
  {
   "cell_type": "code",
   "execution_count": null,
   "metadata": {
    "slideshow": {
     "slide_type": "fragment"
    }
   },
   "outputs": [],
   "source": [
    "number_of_seeds = 10\n",
    "seeds = [\n",
    "    simple_grammar_fuzzer(\n",
    "        grammar=URL_GRAMMAR,\n",
    "        max_nonterminals=10) for i in range(number_of_seeds)]\n",
    "seeds"
   ]
  },
  {
   "cell_type": "code",
   "execution_count": null,
   "metadata": {
    "slideshow": {
     "slide_type": "subslide"
    }
   },
   "outputs": [],
   "source": [
    "m = MutationFuzzer(seeds)"
   ]
  },
  {
   "cell_type": "code",
   "execution_count": null,
   "metadata": {
    "slideshow": {
     "slide_type": "fragment"
    }
   },
   "outputs": [],
   "source": [
    "[m.fuzz() for i in range(20)]"
   ]
  },
  {
   "cell_type": "markdown",
   "metadata": {
    "slideshow": {
     "slide_type": "subslide"
    }
   },
   "source": [
    "While the first 10 `fuzz()` calls return the seeded inputs (as designed), the later ones again create arbitrary mutations.  Using `MutationCoverageFuzzer` instead of `MutationFuzzer`, we could again have our search guided by coverage – and thus bring together the best of multiple worlds."
   ]
  },
  {
   "cell_type": "markdown",
   "metadata": {
    "button": false,
    "new_sheet": false,
    "run_control": {
     "read_only": false
    },
    "slideshow": {
     "slide_type": "slide"
    },
    "toc-hr-collapsed": false
   },
   "source": [
    "## A Grammar Toolbox\n",
    "\n",
    "Let us now introduce a few techniques that help us writing grammars."
   ]
  },
  {
   "cell_type": "markdown",
   "metadata": {
    "button": false,
    "new_sheet": false,
    "run_control": {
     "read_only": false
    },
    "slideshow": {
     "slide_type": "subslide"
    }
   },
   "source": [
    "### Escapes\n",
    "\n",
    "With `<` and `>` delimiting nonterminals in our grammars, how can we actually express that some input should contain `<` and `>`?  The answer is simple: Just introduce a symbol for them."
   ]
  },
  {
   "cell_type": "code",
   "execution_count": null,
   "metadata": {
    "slideshow": {
     "slide_type": "fragment"
    }
   },
   "outputs": [],
   "source": [
    "simple_nonterminal_grammar = {\n",
    "    \"<start>\": [\"<nonterminal>\"],\n",
    "    \"<nonterminal>\": [\"<left-angle><identifier><right-angle>\"],\n",
    "    \"<left-angle>\": [\"<\"],\n",
    "    \"<right-angle>\": [\">\"],\n",
    "    \"<identifier>\": [\"id\"]  # for now\n",
    "}"
   ]
  },
  {
   "cell_type": "markdown",
   "metadata": {
    "slideshow": {
     "slide_type": "fragment"
    }
   },
   "source": [
    "In `simple_nonterminal_grammar`, neither the expansion for `<left-angle>` nor the expansion for `<right-angle>` can be mistaken as a nonterminal.  Hence, we can produce as many as we want."
   ]
  },
  {
   "cell_type": "markdown",
   "metadata": {},
   "source": [
    "### Extending Grammars\n",
    "\n",
    "In the course of this book, we frequently run into the issue of creating a grammar by _extending_ an existing grammar with new features.  Such an extension is very much like subclassing in object-oriented programming."
   ]
  },
  {
   "cell_type": "markdown",
   "metadata": {},
   "source": [
    "To create a new grammar $g'$ from an existing grammar $g$, we first copy $g$ into $g'$, and then go and extend existing rules with new alternatives and/or add new symbols.  Here's an example, extending the above `nonterminal` grammar with a better rule for identifiers:"
   ]
  },
  {
   "cell_type": "code",
   "execution_count": null,
   "metadata": {},
   "outputs": [],
   "source": [
    "import copy"
   ]
  },
  {
   "cell_type": "code",
   "execution_count": null,
   "metadata": {},
   "outputs": [],
   "source": [
    "nonterminal_grammar = copy.deepcopy(simple_nonterminal_grammar)\n",
    "nonterminal_grammar[\"<identifier>\"] = [\"<idchar>\", \"<identifier><idchar>\"]\n",
    "nonterminal_grammar[\"<idchar>\"] = ['a', 'b', 'c', 'd']  # for now"
   ]
  },
  {
   "cell_type": "code",
   "execution_count": null,
   "metadata": {},
   "outputs": [],
   "source": [
    "nonterminal_grammar"
   ]
  },
  {
   "cell_type": "markdown",
   "metadata": {},
   "source": [
    "Since such an extension of grammars is a common operation, we introduce a custom function `extend_grammar()` which first copies the given grammar and then updates it from a dictionary, using the Python dictionary `update()` method:"
   ]
  },
  {
   "cell_type": "code",
   "execution_count": null,
   "metadata": {},
   "outputs": [],
   "source": [
    "def extend_grammar(grammar, extension={}):\n",
    "    new_grammar = copy.deepcopy(grammar)\n",
    "    new_grammar.update(extension)\n",
    "    return new_grammar"
   ]
  },
  {
   "cell_type": "markdown",
   "metadata": {},
   "source": [
    "This call to `extend_grammar()` extends `simple_nonterminal_grammar` to `nonterminal_grammar` just like the \"manual\" example above:"
   ]
  },
  {
   "cell_type": "code",
   "execution_count": null,
   "metadata": {},
   "outputs": [],
   "source": [
    "nonterminal_grammar = extend_grammar(simple_nonterminal_grammar,\n",
    "                                     {\n",
    "                                         \"<identifier>\": [\"<idchar>\", \"<identifier><idchar>\"],\n",
    "                                         # for now\n",
    "                                         \"<idchar>\": ['a', 'b', 'c', 'd']\n",
    "                                     }\n",
    "                                     )"
   ]
  },
  {
   "cell_type": "markdown",
   "metadata": {
    "slideshow": {
     "slide_type": "subslide"
    }
   },
   "source": [
    "### Character Classes"
   ]
  },
  {
   "cell_type": "markdown",
   "metadata": {
    "slideshow": {
     "slide_type": "fragment"
    }
   },
   "source": [
    "In the above `nonterminal_grammar`, we have enumerated only the first few letters; indeed, enumerating all letters or digits in a grammar manually, as in `<idchar> ::= 'a' | 'b' | 'c' ...` is a bit painful."
   ]
  },
  {
   "cell_type": "markdown",
   "metadata": {
    "slideshow": {
     "slide_type": "fragment"
    }
   },
   "source": [
    "However, remember that grammars are part of a program, and can thus also be constructed programmatically.  We introduce a function `srange()` which constructs a list of characters in a string:"
   ]
  },
  {
   "cell_type": "code",
   "execution_count": null,
   "metadata": {
    "slideshow": {
     "slide_type": "fragment"
    }
   },
   "outputs": [],
   "source": [
    "import string"
   ]
  },
  {
   "cell_type": "code",
   "execution_count": null,
   "metadata": {
    "slideshow": {
     "slide_type": "fragment"
    }
   },
   "outputs": [],
   "source": [
    "def srange(characters):\n",
    "    \"\"\"Construct a list with all characters in the string\"\"\"\n",
    "    return [c for c in characters]"
   ]
  },
  {
   "cell_type": "markdown",
   "metadata": {},
   "source": [
    "If we pass it the constant `string.ascii_letters`, which holds all ASCII letters, `srange()` returns a list of all ASCII letters:"
   ]
  },
  {
   "cell_type": "code",
   "execution_count": null,
   "metadata": {},
   "outputs": [],
   "source": [
    "string.ascii_letters"
   ]
  },
  {
   "cell_type": "code",
   "execution_count": null,
   "metadata": {
    "slideshow": {
     "slide_type": "fragment"
    }
   },
   "outputs": [],
   "source": [
    "srange(string.ascii_letters)[:10]"
   ]
  },
  {
   "cell_type": "markdown",
   "metadata": {
    "slideshow": {
     "slide_type": "subslide"
    }
   },
   "source": [
    "We can use such constants in our grammar to quickly define identifiers:"
   ]
  },
  {
   "cell_type": "code",
   "execution_count": null,
   "metadata": {
    "slideshow": {
     "slide_type": "fragment"
    }
   },
   "outputs": [],
   "source": [
    "nonterminal_grammar = extend_grammar(nonterminal_grammar,\n",
    "                                     {\n",
    "                                         \"<idchar>\": srange(string.ascii_letters) + srange(string.digits) + srange(\"-_\")\n",
    "                                     }\n",
    "                                     )"
   ]
  },
  {
   "cell_type": "code",
   "execution_count": null,
   "metadata": {
    "slideshow": {
     "slide_type": "fragment"
    }
   },
   "outputs": [],
   "source": [
    "[simple_grammar_fuzzer(nonterminal_grammar, \"<identifier>\") for i in range(10)]"
   ]
  },
  {
   "cell_type": "markdown",
   "metadata": {
    "slideshow": {
     "slide_type": "subslide"
    }
   },
   "source": [
    "The shortcut `crange(start, end)` returns a list of all characters in the ASCII range of `start` to (including) `end`:"
   ]
  },
  {
   "cell_type": "code",
   "execution_count": null,
   "metadata": {
    "slideshow": {
     "slide_type": "fragment"
    }
   },
   "outputs": [],
   "source": [
    "def crange(character_start, character_end):\n",
    "    return [chr(i)\n",
    "            for i in range(ord(character_start), ord(character_end) + 1)]"
   ]
  },
  {
   "cell_type": "markdown",
   "metadata": {
    "slideshow": {
     "slide_type": "fragment"
    }
   },
   "source": [
    "We can use this to express ranges of characters:"
   ]
  },
  {
   "cell_type": "code",
   "execution_count": null,
   "metadata": {
    "slideshow": {
     "slide_type": "fragment"
    }
   },
   "outputs": [],
   "source": [
    "crange('0', '9')"
   ]
  },
  {
   "cell_type": "code",
   "execution_count": null,
   "metadata": {
    "slideshow": {
     "slide_type": "fragment"
    }
   },
   "outputs": [],
   "source": [
    "assert crange('a', 'z') == srange(string.ascii_lowercase)"
   ]
  },
  {
   "cell_type": "markdown",
   "metadata": {
    "slideshow": {
     "slide_type": "subslide"
    },
    "toc-hr-collapsed": false
   },
   "source": [
    "### Grammar Shortcuts"
   ]
  },
  {
   "cell_type": "markdown",
   "metadata": {
    "slideshow": {
     "slide_type": "fragment"
    }
   },
   "source": [
    "In the above `nonterminal_grammar`, as in other grammars, we have to express repetitions of characters using _recursion_, that is, by referring to the original definition:"
   ]
  },
  {
   "cell_type": "code",
   "execution_count": null,
   "metadata": {
    "slideshow": {
     "slide_type": "fragment"
    }
   },
   "outputs": [],
   "source": [
    "nonterminal_grammar[\"<identifier>\"]"
   ]
  },
  {
   "cell_type": "markdown",
   "metadata": {
    "slideshow": {
     "slide_type": "fragment"
    }
   },
   "source": [
    "It could be a bit easier if we simply could state that a nonterminal should be a non-empty sequence of letters – for instance, as in\n",
    "\n",
    "```\n",
    "<identifier> = <idchar>+\n",
    "```\n",
    "\n",
    "where `+` denotes a non-empty repetition of the symbol it follows."
   ]
  },
  {
   "cell_type": "markdown",
   "metadata": {
    "slideshow": {
     "slide_type": "subslide"
    }
   },
   "source": [
    "Operators such as `+` are frequently introduced as handy _shortcuts_ in grammars.  Formally, our grammars come in the so-called [Backus-Naur form](https://en.wikipedia.org/wiki/Backus-Naur_form), or *BNF* for short.  Operators _extend_ BNF to so-called _extended BNF*, or *EBNF* for short:\n",
    "\n",
    "* The form `<symbol>?` indicates that `<symbol>` is optional – that is, it can occur 0 or 1 times.\n",
    "* The form `<symbol>+` indicates that `<symbol>` can occur 1 or more times repeatedly.\n",
    "* The form `<symbol>*` indicates that `<symbol>` can occur 0 or more times.  (In other words, it is an optional repetition.)\n",
    "\n",
    "To make matters even more interesting, we would like to use _parentheses_ with the above shortcuts.  Thus, `(<foo><bar>)?` indicates that the sequence of `<foo>` and `<bar>` is optional."
   ]
  },
  {
   "cell_type": "markdown",
   "metadata": {
    "slideshow": {
     "slide_type": "subslide"
    }
   },
   "source": [
    "Using such operators, we can define the identifier rule in a simpler way.  To this end, let us create a copy of the original grammar and modify the `<identifier>` rule:"
   ]
  },
  {
   "cell_type": "code",
   "execution_count": null,
   "metadata": {
    "slideshow": {
     "slide_type": "fragment"
    }
   },
   "outputs": [],
   "source": [
    "nonterminal_ebnf_grammar = extend_grammar(nonterminal_grammar,\n",
    "                                          {\n",
    "                                              \"<identifier>\": [\"<idchar>+\"]\n",
    "                                          }\n",
    "                                          )"
   ]
  },
  {
   "cell_type": "markdown",
   "metadata": {
    "slideshow": {
     "slide_type": "subslide"
    }
   },
   "source": [
    "Likewise, we can simplify the expression grammar.  Consider how signs are optional, and how integers can be expressed as sequences of digits."
   ]
  },
  {
   "cell_type": "code",
   "execution_count": null,
   "metadata": {
    "slideshow": {
     "slide_type": "fragment"
    }
   },
   "outputs": [],
   "source": [
    "EXPR_EBNF_GRAMMAR = {\n",
    "    \"<start>\":\n",
    "        [\"<expr>\"],\n",
    "\n",
    "    \"<expr>\":\n",
    "        [\"<term> + <expr>\", \"<term> - <expr>\", \"<term>\"],\n",
    "\n",
    "    \"<term>\":\n",
    "        [\"<factor> * <term>\", \"<factor> / <term>\", \"<factor>\"],\n",
    "\n",
    "    \"<factor>\":\n",
    "        [\"<sign>?<factor>\", \"(<expr>)\", \"<integer>(.<integer>)?\"],\n",
    "\n",
    "    \"<sign>\":\n",
    "        [\"+\", \"-\"],\n",
    "\n",
    "    \"<integer>\":\n",
    "        [\"<digit>+\"],\n",
    "\n",
    "    \"<digit>\":\n",
    "        srange(string.digits)\n",
    "}"
   ]
  },
  {
   "cell_type": "markdown",
   "metadata": {
    "slideshow": {
     "slide_type": "subslide"
    }
   },
   "source": [
    "Our aim is to convert EBNF grammars such as the ones above into a regular BNF grammar.  This is done by four rules:\n",
    "\n",
    "1. An expression `(content)op`, where `op` is one of `?`, `+`, `*`, becomes `<new-symbol>op`, with a new rule `<new-symbol> ::= content`.\n",
    "2. An expression `<symbol>?` becomes `<new-symbol>`, where `<new-symbol> ::= <empty> | <symbol>`.\n",
    "3. An expression `<symbol>+` becomes `<new-symbol>`, where `<new-symbol> ::= <symbol> | <symbol><new-symbol>`.\n",
    "4. An expression `<symbol>*` becomes `<new-symbol>`, where `<new-symbol> ::= <empty> | <symbol><new-symbol>`.\n",
    "\n",
    "Here, `<empty>` expands to the empty string, as in `<empty> ::= `.  (This is also called an *epsilon expansion*.)"
   ]
  },
  {
   "cell_type": "markdown",
   "metadata": {
    "slideshow": {
     "slide_type": "fragment"
    }
   },
   "source": [
    "If these operators remind you of _regular expressions_, this is not by accident: Actually, any basic regular expression can be converted into a grammar using the above rules (and character classes with `crange()`, as defined above)."
   ]
  },
  {
   "cell_type": "markdown",
   "metadata": {
    "slideshow": {
     "slide_type": "subslide"
    }
   },
   "source": [
    "Applying these rules on the examples above yields the following results:\n",
    "\n",
    "* `<idchar>+` becomes `<idchar><new-symbol>` with `<new-symbol> ::= <idchar> | <idchar><new-symbol>`.  \n",
    "* `<integer>(.<integer>)?` becomes `<integer><new-symbol>` with `<new-symbol> ::= <empty> | .<integer>`."
   ]
  },
  {
   "cell_type": "markdown",
   "metadata": {
    "slideshow": {
     "slide_type": "skip"
    }
   },
   "source": [
    "Let us implement these rules in three steps."
   ]
  },
  {
   "cell_type": "markdown",
   "metadata": {
    "slideshow": {
     "slide_type": "subslide"
    }
   },
   "source": [
    "#### Creating New Symbols\n",
    "\n",
    "First, we need a mechanism to create new symbols.  This is fairly straightforward."
   ]
  },
  {
   "cell_type": "code",
   "execution_count": null,
   "metadata": {
    "slideshow": {
     "slide_type": "fragment"
    }
   },
   "outputs": [],
   "source": [
    "def new_symbol(grammar, symbol_name=\"<symbol>\"):\n",
    "    \"\"\"Return a new symbol for `grammar` based on `symbol_name`\"\"\"\n",
    "    if symbol_name not in grammar:\n",
    "        return symbol_name\n",
    "\n",
    "    count = 1\n",
    "    while True:\n",
    "        tentative_symbol_name = symbol_name[:-1] + \"-\" + repr(count) + \">\"\n",
    "        if tentative_symbol_name not in grammar:\n",
    "            return tentative_symbol_name\n",
    "        count += 1"
   ]
  },
  {
   "cell_type": "code",
   "execution_count": null,
   "metadata": {
    "slideshow": {
     "slide_type": "fragment"
    }
   },
   "outputs": [],
   "source": [
    "assert new_symbol(EXPR_EBNF_GRAMMAR, '<expr>') == '<expr-1>'"
   ]
  },
  {
   "cell_type": "markdown",
   "metadata": {
    "slideshow": {
     "slide_type": "subslide"
    }
   },
   "source": [
    "#### Expanding Parenthesized Expressions"
   ]
  },
  {
   "cell_type": "markdown",
   "metadata": {
    "slideshow": {
     "slide_type": "fragment"
    }
   },
   "source": [
    "Next, we need a means to extract parenthesized expressions from our expansions and expand them according to the rules above.  Let's start with extracting expressions:"
   ]
  },
  {
   "cell_type": "code",
   "execution_count": null,
   "metadata": {
    "slideshow": {
     "slide_type": "fragment"
    }
   },
   "outputs": [],
   "source": [
    "RE_PARENTHESIZED_EXPR = re.compile(r'\\([^()]*\\)[?+*]')"
   ]
  },
  {
   "cell_type": "code",
   "execution_count": null,
   "metadata": {
    "button": false,
    "new_sheet": false,
    "run_control": {
     "read_only": false
    },
    "slideshow": {
     "slide_type": "fragment"
    }
   },
   "outputs": [],
   "source": [
    "def parenthesized_expressions(expansion):\n",
    "    # In later chapters, we allow expansions to be tuples,\n",
    "    # with the expansion being the first element\n",
    "    if isinstance(expansion, tuple):\n",
    "        expansion = expansion[0]\n",
    "\n",
    "    return re.findall(RE_PARENTHESIZED_EXPR, expansion)"
   ]
  },
  {
   "cell_type": "code",
   "execution_count": null,
   "metadata": {
    "slideshow": {
     "slide_type": "fragment"
    }
   },
   "outputs": [],
   "source": [
    "assert parenthesized_expressions(\"(<foo>)* (<foo><bar>)+ (+<foo>)? <integer>(.<integer>)?\") == [\n",
    "    '(<foo>)*', '(<foo><bar>)+', '(+<foo>)?', '(.<integer>)?']"
   ]
  },
  {
   "cell_type": "markdown",
   "metadata": {
    "slideshow": {
     "slide_type": "subslide"
    }
   },
   "source": [
    "We can now use these to apply rule number 1, above, introducing new symbols for expressions in parentheses."
   ]
  },
  {
   "cell_type": "code",
   "execution_count": null,
   "metadata": {
    "slideshow": {
     "slide_type": "fragment"
    }
   },
   "outputs": [],
   "source": [
    "def convert_ebnf_parentheses(ebnf_grammar):\n",
    "    \"\"\"Convert a grammar in extended BNF to BNF\"\"\"\n",
    "    grammar = extend_grammar(ebnf_grammar)\n",
    "    for nonterminal in ebnf_grammar:\n",
    "        expansions = ebnf_grammar[nonterminal]\n",
    "\n",
    "        for i in range(len(expansions)):\n",
    "            expansion = expansions[i]\n",
    "\n",
    "            while True:\n",
    "                parenthesized_exprs = parenthesized_expressions(expansion)\n",
    "                if len(parenthesized_exprs) == 0:\n",
    "                    break\n",
    "\n",
    "                for expr in parenthesized_exprs:\n",
    "                    operator = expr[-1:]\n",
    "                    contents = expr[1:-2]\n",
    "\n",
    "                    new_sym = new_symbol(grammar)\n",
    "                    expansion = grammar[nonterminal][i].replace(\n",
    "                        expr, new_sym + operator, 1)\n",
    "                    grammar[nonterminal][i] = expansion\n",
    "                    grammar[new_sym] = [contents]\n",
    "\n",
    "    return grammar"
   ]
  },
  {
   "cell_type": "markdown",
   "metadata": {
    "slideshow": {
     "slide_type": "subslide"
    }
   },
   "source": [
    "This does the conversion as sketched above:"
   ]
  },
  {
   "cell_type": "code",
   "execution_count": null,
   "metadata": {
    "slideshow": {
     "slide_type": "fragment"
    }
   },
   "outputs": [],
   "source": [
    "convert_ebnf_parentheses({\"<number>\": [\"<integer>(.<integer>)?\"]})"
   ]
  },
  {
   "cell_type": "markdown",
   "metadata": {
    "slideshow": {
     "slide_type": "fragment"
    }
   },
   "source": [
    "It even works for nested parenthesized expressions:"
   ]
  },
  {
   "cell_type": "code",
   "execution_count": null,
   "metadata": {
    "slideshow": {
     "slide_type": "fragment"
    }
   },
   "outputs": [],
   "source": [
    "convert_ebnf_parentheses({\"<foo>\": [\"((<foo>)?)+\"]})"
   ]
  },
  {
   "cell_type": "markdown",
   "metadata": {
    "slideshow": {
     "slide_type": "subslide"
    }
   },
   "source": [
    "#### Expanding Operators\n",
    "\n",
    "After expanding parenthesized expressions, we now need to take care of symbols followed by operators (`?`, `*`, `+`).  As with `convert_ebnf_parentheses()`, above, we first extract all symbols followed by an operator."
   ]
  },
  {
   "cell_type": "code",
   "execution_count": null,
   "metadata": {
    "button": false,
    "new_sheet": false,
    "run_control": {
     "read_only": false
    },
    "slideshow": {
     "slide_type": "fragment"
    }
   },
   "outputs": [],
   "source": [
    "RE_EXTENDED_NONTERMINAL = re.compile(r'(<[^<> ]*>[?+*])')"
   ]
  },
  {
   "cell_type": "code",
   "execution_count": null,
   "metadata": {
    "button": false,
    "new_sheet": false,
    "run_control": {
     "read_only": false
    },
    "slideshow": {
     "slide_type": "fragment"
    }
   },
   "outputs": [],
   "source": [
    "def extended_nonterminals(expansion):\n",
    "    # In later chapters, we allow expansions to be tuples,\n",
    "    # with the expansion being the first element\n",
    "    if isinstance(expansion, tuple):\n",
    "        expansion = expansion[0]\n",
    "\n",
    "    return re.findall(RE_EXTENDED_NONTERMINAL, expansion)"
   ]
  },
  {
   "cell_type": "code",
   "execution_count": null,
   "metadata": {
    "slideshow": {
     "slide_type": "fragment"
    }
   },
   "outputs": [],
   "source": [
    "assert extended_nonterminals(\n",
    "    \"<foo>* <bar>+ <elem>? <none>\") == ['<foo>*', '<bar>+', '<elem>?']"
   ]
  },
  {
   "cell_type": "markdown",
   "metadata": {
    "slideshow": {
     "slide_type": "subslide"
    }
   },
   "source": [
    "Our converter extracts the symbol and the operator, and adds new symbols according to the rules laid out above."
   ]
  },
  {
   "cell_type": "code",
   "execution_count": null,
   "metadata": {
    "slideshow": {
     "slide_type": "fragment"
    }
   },
   "outputs": [],
   "source": [
    "def convert_ebnf_operators(ebnf_grammar):\n",
    "    \"\"\"Convert a grammar in extended BNF to BNF\"\"\"\n",
    "    grammar = extend_grammar(ebnf_grammar)\n",
    "    for nonterminal in ebnf_grammar:\n",
    "        expansions = ebnf_grammar[nonterminal]\n",
    "\n",
    "        for i in range(len(expansions)):\n",
    "            expansion = expansions[i]\n",
    "            extended_symbols = extended_nonterminals(expansion)\n",
    "\n",
    "            for extended_symbol in extended_symbols:\n",
    "                operator = extended_symbol[-1:]\n",
    "                original_symbol = extended_symbol[:-1]\n",
    "\n",
    "                new_sym = new_symbol(grammar, original_symbol)\n",
    "                grammar[nonterminal][i] = grammar[nonterminal][i].replace(\n",
    "                    extended_symbol, new_sym, 1)\n",
    "\n",
    "                if operator == '?':\n",
    "                    grammar[new_sym] = [\"\", original_symbol]\n",
    "                elif operator == '*':\n",
    "                    grammar[new_sym] = [\"\", original_symbol + new_sym]\n",
    "                elif operator == '+':\n",
    "                    grammar[new_sym] = [\n",
    "                        original_symbol, original_symbol + new_sym]\n",
    "\n",
    "    return grammar"
   ]
  },
  {
   "cell_type": "code",
   "execution_count": null,
   "metadata": {
    "slideshow": {
     "slide_type": "subslide"
    }
   },
   "outputs": [],
   "source": [
    "convert_ebnf_operators({\"<integer>\": [\"<digit>+\"]})"
   ]
  },
  {
   "cell_type": "markdown",
   "metadata": {
    "slideshow": {
     "slide_type": "subslide"
    }
   },
   "source": [
    "#### All Together\n",
    "\n",
    "We can combine the two, first extending parentheses and then operators:"
   ]
  },
  {
   "cell_type": "code",
   "execution_count": null,
   "metadata": {
    "slideshow": {
     "slide_type": "fragment"
    }
   },
   "outputs": [],
   "source": [
    "def convert_ebnf_grammar(ebnf_grammar):\n",
    "    return convert_ebnf_operators(convert_ebnf_parentheses(ebnf_grammar))"
   ]
  },
  {
   "cell_type": "code",
   "execution_count": null,
   "metadata": {
    "slideshow": {
     "slide_type": "fragment"
    }
   },
   "outputs": [],
   "source": [
    "convert_ebnf_grammar({\"<authority>\": [\"(<userinfo>@)?<host>(:<port>)?\"]})"
   ]
  },
  {
   "cell_type": "code",
   "execution_count": null,
   "metadata": {
    "slideshow": {
     "slide_type": "subslide"
    }
   },
   "outputs": [],
   "source": [
    "expr_grammar = convert_ebnf_grammar(EXPR_EBNF_GRAMMAR)\n",
    "expr_grammar"
   ]
  },
  {
   "cell_type": "markdown",
   "metadata": {
    "slideshow": {
     "slide_type": "fragment"
    }
   },
   "source": [
    "Success! We have nicely converted the EBNF grammar into BNF."
   ]
  },
  {
   "cell_type": "markdown",
   "metadata": {
    "slideshow": {
     "slide_type": "fragment"
    }
   },
   "source": [
    "With character classes and EBNF grammar conversion, we have two powerful tools that make the writing of grammars easier.  We will use these again and again as it comes to working with grammars."
   ]
  },
  {
   "cell_type": "markdown",
   "metadata": {},
   "source": [
    "### Grammar Extensions\n",
    "\n",
    "During the course of this book, we frequently want to specify _additional information_ for grammars, such as [_probabilities_](ProbabilisticGrammarFuzzer.ipynb) or [_constraints_](GeneratorGrammarFuzzer.ipynb).  To support these extensions, as well as possibly others, we define an _annotation_ mechanism."
   ]
  },
  {
   "cell_type": "markdown",
   "metadata": {},
   "source": [
    "Our concept for annotating grammars is to add _annotations_ to individual expansions.  To this end, we allow that an expansion cannot only be a string, but also a _pair_ of a string and a set of attributes, as in\n",
    "\n",
    "```python\n",
    "    \"<expr>\":\n",
    "        [(\"<term> + <expr>\", opts(min_depth=10)),\n",
    "         (\"<term> - <expr>\", opts(max_depth=2)),\n",
    "         \"<term>\"]\n",
    "```\n",
    "\n",
    "Here, the `opts()` function would allow us to express annotations that apply to the individual expansions; in this case, the addition would be annotated with a `min_depth` value of 10, and the subtraction with a `max_depth` value of 2.  The meaning of these annotations is left to the individual algorithms dealing with the grammars; the general idea, though, is that they can be ignored."
   ]
  },
  {
   "cell_type": "markdown",
   "metadata": {},
   "source": [
    "Our `opts()` helper function returns a mapping of its arguments to values:"
   ]
  },
  {
   "cell_type": "code",
   "execution_count": null,
   "metadata": {},
   "outputs": [],
   "source": [
    "def opts(**kwargs):\n",
    "    return kwargs"
   ]
  },
  {
   "cell_type": "code",
   "execution_count": null,
   "metadata": {},
   "outputs": [],
   "source": [
    "opts(min_depth=10)"
   ]
  },
  {
   "cell_type": "markdown",
   "metadata": {},
   "source": [
    "To deal with both expansion strings and pairs of expansions and annotations, we access the expansion string and the associated annotations via designated helper functions, `exp_string()` and `exp_opts()`:"
   ]
  },
  {
   "cell_type": "code",
   "execution_count": null,
   "metadata": {},
   "outputs": [],
   "source": [
    "def exp_string(expansion):\n",
    "    \"\"\"Return the string to be expanded\"\"\"\n",
    "    if isinstance(expansion, str):\n",
    "        return expansion\n",
    "    return expansion[0]"
   ]
  },
  {
   "cell_type": "code",
   "execution_count": null,
   "metadata": {},
   "outputs": [],
   "source": [
    "exp_string((\"<term> + <expr>\", opts(min_depth=10)))"
   ]
  },
  {
   "cell_type": "code",
   "execution_count": null,
   "metadata": {},
   "outputs": [],
   "source": [
    "def exp_opts(expansion):\n",
    "    \"\"\"Return the options of an expansion.  If options are not defined, return {}\"\"\"\n",
    "    if isinstance(expansion, str):\n",
    "        return {}\n",
    "    return expansion[1]"
   ]
  },
  {
   "cell_type": "code",
   "execution_count": null,
   "metadata": {},
   "outputs": [],
   "source": [
    "def exp_opt(expansion, attribute):\n",
    "    \"\"\"Return the given attribution of an expansion.\n",
    "    If attribute is not defined, return None\"\"\"\n",
    "    return exp_opts(expansion).get(attribute, None)"
   ]
  },
  {
   "cell_type": "code",
   "execution_count": null,
   "metadata": {},
   "outputs": [],
   "source": [
    "exp_opts((\"<term> + <expr>\", opts(min_depth=10)))"
   ]
  },
  {
   "cell_type": "code",
   "execution_count": null,
   "metadata": {},
   "outputs": [],
   "source": [
    "exp_opt((\"<term> - <expr>\", opts(max_depth=2)), 'max_depth')"
   ]
  },
  {
   "cell_type": "markdown",
   "metadata": {},
   "source": [
    "Finally, we define a helper function that sets a particular option:"
   ]
  },
  {
   "cell_type": "code",
   "execution_count": null,
   "metadata": {},
   "outputs": [],
   "source": [
    "def set_opts(grammar, symbol, expansion, opts=None):\n",
    "    \"\"\"Set the options of the given expansion of grammar[symbol] to opts\"\"\"\n",
    "    expansions = grammar[symbol]\n",
    "    for i, exp in enumerate(expansions):\n",
    "        if exp_string(exp) != exp_string(expansion):\n",
    "            continue\n",
    "\n",
    "        new_opts = exp_opts(exp)\n",
    "        if opts is None or new_opts == {}:\n",
    "            new_opts = opts\n",
    "        else:\n",
    "            for key in opts:\n",
    "                new_opts[key] = opts[key]\n",
    "        if new_opts == {}:\n",
    "            grammar[symbol][i] = exp_string(exp)\n",
    "        else:\n",
    "            grammar[symbol][i] = (exp_string(exp), new_opts)\n",
    "        return\n",
    "\n",
    "    raise KeyError(\n",
    "        \"no expansion \" +\n",
    "        repr(symbol) +\n",
    "        \" -> \" +\n",
    "        repr(\n",
    "            exp_string(expansion)))"
   ]
  },
  {
   "cell_type": "markdown",
   "metadata": {
    "button": false,
    "new_sheet": false,
    "run_control": {
     "read_only": false
    },
    "slideshow": {
     "slide_type": "slide"
    }
   },
   "source": [
    "## Checking Grammars\n",
    "\n",
    "Since grammars are represented as strings, it is fairly easy to introduce errors.  So let us introduce a helper function that checks a grammar for consistency."
   ]
  },
  {
   "cell_type": "markdown",
   "metadata": {
    "button": false,
    "new_sheet": false,
    "run_control": {
     "read_only": false
    },
    "slideshow": {
     "slide_type": "fragment"
    }
   },
   "source": [
    "The helper function `is_valid_grammar()` iterates over a grammar to check whether all used symbols are defined, and vice versa, which is very useful for debugging; it also checks whether all symbols are reachable from the start symbol.  You don't have to delve into details here, but as always, it is important to get the input data straight before we make use of it."
   ]
  },
  {
   "cell_type": "code",
   "execution_count": null,
   "metadata": {
    "button": false,
    "new_sheet": false,
    "run_control": {
     "read_only": false
    },
    "slideshow": {
     "slide_type": "skip"
    }
   },
   "outputs": [],
   "source": [
    "import sys"
   ]
  },
  {
   "cell_type": "code",
   "execution_count": null,
   "metadata": {
    "button": false,
    "new_sheet": false,
    "run_control": {
     "read_only": false
    },
    "slideshow": {
     "slide_type": "subslide"
    }
   },
   "outputs": [],
   "source": [
    "def def_used_nonterminals(grammar, start_symbol=START_SYMBOL):\n",
    "    defined_nonterminals = set()\n",
    "    used_nonterminals = {start_symbol}\n",
    "\n",
    "    for defined_nonterminal in grammar:\n",
    "        defined_nonterminals.add(defined_nonterminal)\n",
    "        expansions = grammar[defined_nonterminal]\n",
    "        if not isinstance(expansions, list):\n",
    "            print(repr(defined_nonterminal) + \": expansion is not a list\",\n",
    "                  file=sys.stderr)\n",
    "            return None, None\n",
    "\n",
    "        if len(expansions) == 0:\n",
    "            print(repr(defined_nonterminal) + \": expansion list empty\",\n",
    "                  file=sys.stderr)\n",
    "            return None, None\n",
    "\n",
    "        for expansion in expansions:\n",
    "            if isinstance(expansion, tuple):\n",
    "                expansion = expansion[0]\n",
    "            if not isinstance(expansion, str):\n",
    "                print(repr(defined_nonterminal) + \": \"\n",
    "                      + repr(expansion) + \": not a string\",\n",
    "                      file=sys.stderr)\n",
    "                return None, None\n",
    "\n",
    "            for used_nonterminal in nonterminals(expansion):\n",
    "                used_nonterminals.add(used_nonterminal)\n",
    "\n",
    "    return defined_nonterminals, used_nonterminals"
   ]
  },
  {
   "cell_type": "code",
   "execution_count": null,
   "metadata": {
    "slideshow": {
     "slide_type": "fragment"
    }
   },
   "outputs": [],
   "source": [
    "def reachable_nonterminals(grammar, start_symbol=START_SYMBOL):\n",
    "    reachable = set()\n",
    "\n",
    "    def _find_reachable_nonterminals(grammar, symbol):\n",
    "        nonlocal reachable\n",
    "        reachable.add(symbol)\n",
    "        for expansion in grammar.get(symbol, []):\n",
    "            for nonterminal in nonterminals(expansion):\n",
    "                if nonterminal not in reachable:\n",
    "                    _find_reachable_nonterminals(grammar, nonterminal)\n",
    "\n",
    "    _find_reachable_nonterminals(grammar, start_symbol)\n",
    "    return reachable"
   ]
  },
  {
   "cell_type": "code",
   "execution_count": null,
   "metadata": {
    "slideshow": {
     "slide_type": "fragment"
    }
   },
   "outputs": [],
   "source": [
    "def unreachable_nonterminals(grammar, start_symbol=START_SYMBOL):\n",
    "    return grammar.keys() - reachable_nonterminals(grammar, start_symbol)"
   ]
  },
  {
   "cell_type": "code",
   "execution_count": null,
   "metadata": {},
   "outputs": [],
   "source": [
    "def opts_used(grammar):\n",
    "    used_opts = set()\n",
    "    for symbol in grammar:\n",
    "        for expansion in grammar[symbol]:\n",
    "            used_opts |= set(exp_opts(expansion).keys())\n",
    "    return used_opts"
   ]
  },
  {
   "cell_type": "code",
   "execution_count": null,
   "metadata": {
    "button": false,
    "new_sheet": false,
    "run_control": {
     "read_only": false
    },
    "slideshow": {
     "slide_type": "subslide"
    }
   },
   "outputs": [],
   "source": [
    "def is_valid_grammar(grammar, start_symbol=START_SYMBOL, supported_opts=None):\n",
    "    defined_nonterminals, used_nonterminals = \\\n",
    "        def_used_nonterminals(grammar, start_symbol)\n",
    "    if defined_nonterminals is None or used_nonterminals is None:\n",
    "        return False\n",
    "\n",
    "    # Do not complain about '<start>' being not used,\n",
    "    # even if start_symbol is different\n",
    "    if START_SYMBOL in grammar:\n",
    "        used_nonterminals.add(START_SYMBOL)\n",
    "\n",
    "    for unused_nonterminal in defined_nonterminals - used_nonterminals:\n",
    "        print(repr(unused_nonterminal) + \": defined, but not used\",\n",
    "              file=sys.stderr)\n",
    "    for undefined_nonterminal in used_nonterminals - defined_nonterminals:\n",
    "        print(repr(undefined_nonterminal) + \": used, but not defined\",\n",
    "              file=sys.stderr)\n",
    "\n",
    "    # Symbols must be reachable either from <start> or given start symbol\n",
    "    unreachable = unreachable_nonterminals(grammar, start_symbol)\n",
    "    msg_start_symbol = start_symbol\n",
    "    if START_SYMBOL in grammar:\n",
    "        unreachable = unreachable - \\\n",
    "            reachable_nonterminals(grammar, START_SYMBOL)\n",
    "        if start_symbol != START_SYMBOL:\n",
    "            msg_start_symbol += \" or \" + START_SYMBOL\n",
    "    for unreachable_nonterminal in unreachable:\n",
    "        print(repr(unreachable_nonterminal) + \": unreachable from \" + msg_start_symbol,\n",
    "              file=sys.stderr)\n",
    "\n",
    "    used_but_not_supported_opts = set()\n",
    "    if supported_opts is not None:\n",
    "        used_but_not_supported_opts = opts_used(\n",
    "            grammar).difference(supported_opts)\n",
    "        for opt in used_but_not_supported_opts:\n",
    "            print(\n",
    "                \"warning: option \" +\n",
    "                repr(opt) +\n",
    "                \" is not supported\",\n",
    "                file=sys.stderr)\n",
    "\n",
    "    return used_nonterminals == defined_nonterminals and len(unreachable) == 0"
   ]
  },
  {
   "cell_type": "markdown",
   "metadata": {
    "button": false,
    "new_sheet": false,
    "run_control": {
     "read_only": false
    },
    "slideshow": {
     "slide_type": "subslide"
    }
   },
   "source": [
    "Our grammars defined above pass the test:"
   ]
  },
  {
   "cell_type": "code",
   "execution_count": null,
   "metadata": {
    "button": false,
    "new_sheet": false,
    "run_control": {
     "read_only": false
    },
    "slideshow": {
     "slide_type": "fragment"
    }
   },
   "outputs": [],
   "source": [
    "assert is_valid_grammar(EXPR_GRAMMAR)\n",
    "assert is_valid_grammar(CGI_GRAMMAR)\n",
    "assert is_valid_grammar(URL_GRAMMAR)"
   ]
  },
  {
   "cell_type": "markdown",
   "metadata": {
    "slideshow": {
     "slide_type": "fragment"
    }
   },
   "source": [
    "The check can also be applied to EBNF grammars:"
   ]
  },
  {
   "cell_type": "code",
   "execution_count": null,
   "metadata": {
    "button": false,
    "new_sheet": false,
    "run_control": {
     "read_only": false
    },
    "slideshow": {
     "slide_type": "fragment"
    }
   },
   "outputs": [],
   "source": [
    "assert is_valid_grammar(EXPR_EBNF_GRAMMAR)"
   ]
  },
  {
   "cell_type": "markdown",
   "metadata": {
    "button": false,
    "new_sheet": false,
    "run_control": {
     "read_only": false
    },
    "slideshow": {
     "slide_type": "subslide"
    }
   },
   "source": [
    "These ones do not pass the test, though:"
   ]
  },
  {
   "cell_type": "code",
   "execution_count": null,
   "metadata": {
    "button": false,
    "new_sheet": false,
    "run_control": {
     "read_only": false
    },
    "slideshow": {
     "slide_type": "fragment"
    }
   },
   "outputs": [],
   "source": [
    "assert not is_valid_grammar({\"<start>\": [\"<x>\"], \"<y>\": [\"1\"]})"
   ]
  },
  {
   "cell_type": "code",
   "execution_count": null,
   "metadata": {
    "button": false,
    "new_sheet": false,
    "run_control": {
     "read_only": false
    },
    "slideshow": {
     "slide_type": "fragment"
    }
   },
   "outputs": [],
   "source": [
    "assert not is_valid_grammar({\"<start>\": \"123\"})"
   ]
  },
  {
   "cell_type": "code",
   "execution_count": null,
   "metadata": {
    "button": false,
    "new_sheet": false,
    "run_control": {
     "read_only": false
    },
    "slideshow": {
     "slide_type": "fragment"
    }
   },
   "outputs": [],
   "source": [
    "assert not is_valid_grammar({\"<start>\": []})"
   ]
  },
  {
   "cell_type": "code",
   "execution_count": null,
   "metadata": {
    "button": false,
    "new_sheet": false,
    "run_control": {
     "read_only": false
    },
    "slideshow": {
     "slide_type": "fragment"
    }
   },
   "outputs": [],
   "source": [
    "assert not is_valid_grammar({\"<start>\": [1, 2, 3]})"
   ]
  },
  {
   "cell_type": "markdown",
   "metadata": {
    "slideshow": {
     "slide_type": "fragment"
    }
   },
   "source": [
    "From here on, we will always use `is_valid_grammar()` when defining a grammar."
   ]
  },
  {
   "cell_type": "markdown",
   "metadata": {},
   "source": [
    "## Synopsis\n",
    "\n",
    "This chapter introduces _grammars_ as a simple means to specify input languages, and to use them for testing programs with syntactically valid inputs.  A grammar is defined as a mapping of nonterminal symbols to lists of alternative expansions, as in the following example:"
   ]
  },
  {
   "cell_type": "code",
   "execution_count": null,
   "metadata": {},
   "outputs": [],
   "source": [
    "US_PHONE_GRAMMAR = {\n",
    "    \"<start>\": [\"<phone-number>\"],\n",
    "    \"<phone-number>\": [\"(<area>)<exchange>-<line>\"],\n",
    "    \"<area>\": [\"<lead-digit><digit><digit>\"],\n",
    "    \"<exchange>\": [\"<lead-digit><digit><digit>\"],\n",
    "    \"<line>\": [\"<digit><digit><digit><digit>\"],\n",
    "    \"<lead-digit>\": [\"2\", \"3\", \"4\", \"5\", \"6\", \"7\", \"8\", \"9\"],\n",
    "    \"<digit>\": [\"0\", \"1\", \"2\", \"3\", \"4\", \"5\", \"6\", \"7\", \"8\", \"9\"]\n",
    "}\n",
    "\n",
    "assert is_valid_grammar(US_PHONE_GRAMMAR)"
   ]
  },
  {
   "cell_type": "markdown",
   "metadata": {},
   "source": [
    "Nonterminal symbols are enclosed in angle brackets (say, `<digit>`).  To generate an input string from a grammar, a _producer_ starts with the start symbol (`<start>`) and randomly chooses a random expansion for this symbol.  It continues the process until all nonterminal symbols are expanded.  The function `simple_grammar_fuzzer()` does just that:"
   ]
  },
  {
   "cell_type": "code",
   "execution_count": null,
   "metadata": {},
   "outputs": [],
   "source": [
    "[simple_grammar_fuzzer(US_PHONE_GRAMMAR) for i in range(5)]"
   ]
  },
  {
   "cell_type": "markdown",
   "metadata": {},
   "source": [
    "In practice, though, instead of `simple_grammar_fuzzer()`, you should use [the `GrammarFuzzer` class](GrammarFuzzer.ipynb) or one of its [coverage-based](GrammarCoverageFuzzer.ipynb), [probabilistic-based](ProbabilisticGrammarFuzzer.ipynb), or [generator-based](GeneratorGrammarFuzzer.ipynb) derivatives; these are more efficient, protect against infinite growth, and provide several additional features."
   ]
  },
  {
   "cell_type": "markdown",
   "metadata": {},
   "source": [
    "This chapter also introduces a [grammar toolbox](#A-Grammar-Toolbox) with several helper functions that ease the writing of grammars, such as using shortcut notations for character classes and repetitions, or extending grammars "
   ]
  },
  {
   "cell_type": "markdown",
   "metadata": {
    "button": false,
    "new_sheet": true,
    "run_control": {
     "read_only": false
    },
    "slideshow": {
     "slide_type": "slide"
    }
   },
   "source": [
    "## Lessons Learned\n",
    "\n",
    "* Grammars are powerful tools to express and produce syntactically valid inputs.\n",
    "* Inputs produced from grammars can be used as is, or used as seeds for mutation-based fuzzing.\n",
    "* Grammars can be extended with character classes and operators to make writing easier."
   ]
  },
  {
   "cell_type": "markdown",
   "metadata": {
    "button": false,
    "new_sheet": false,
    "run_control": {
     "read_only": false
    },
    "slideshow": {
     "slide_type": "slide"
    }
   },
   "source": [
    "## Next Steps\n",
    "\n",
    "As they make a great foundation for generating software tests, we use grammars again and again in this book.  As a sneak preview, we can use grammars to [fuzz configurations](ConfigurationFuzzer.ipynb):\n",
    "\n",
    "```\n",
    "<options> ::= <option>*\n",
    "<option> ::= -h | --version | -v | -d | -i | --global-config <filename>\n",
    "```"
   ]
  },
  {
   "cell_type": "markdown",
   "metadata": {
    "button": false,
    "new_sheet": false,
    "run_control": {
     "read_only": false
    },
    "slideshow": {
     "slide_type": "fragment"
    }
   },
   "source": [
    "We can use grammars for [fuzzing functions and APIs](APIFuzzer.ipynb) and [fuzzing graphical user interfaces](WebFuzzer.ipynb):\n",
    "\n",
    "```\n",
    "<call-sequence> ::= <call>*\n",
    "<call> ::= urlparse(<url>) | urlsplit(<url>)\n",
    "```"
   ]
  },
  {
   "cell_type": "markdown",
   "metadata": {
    "button": false,
    "new_sheet": false,
    "run_control": {
     "read_only": false
    },
    "slideshow": {
     "slide_type": "fragment"
    }
   },
   "source": [
    "We can assign [probabilities](ProbabilisticGrammarFuzzer.ipynb) and [constraints](GeneratorGrammarFuzzer.ipynb) to individual expansions:\n",
    "\n",
    "```\n",
    "<term>: 50% <factor> * <term> |  30% <factor> / <term> | 20% <factor>\n",
    "<integer>: <digit>+ { <integer> >= 100 }\n",
    "```"
   ]
  },
  {
   "cell_type": "markdown",
   "metadata": {
    "button": false,
    "new_sheet": false,
    "run_control": {
     "read_only": false
    },
    "slideshow": {
     "slide_type": "subslide"
    }
   },
   "source": [
    "All these extras become especially valuable as we can\n",
    "\n",
    "1. _infer grammars automatically_, dropping the need to specify them manually, and\n",
    "2. _guide them towards specific goals_ such as coverage or critical functions;\n",
    "\n",
    "which we also discuss for all techniques in this book."
   ]
  },
  {
   "cell_type": "markdown",
   "metadata": {
    "button": false,
    "new_sheet": false,
    "run_control": {
     "read_only": false
    },
    "slideshow": {
     "slide_type": "fragment"
    }
   },
   "source": [
    "To get there, however, we still have bit of homework to do.  In particular, we first have to learn how to \n",
    "\n",
    "* [create an efficient grammar fuzzer](GrammarFuzzer.ipynb)"
   ]
  },
  {
   "cell_type": "markdown",
   "metadata": {
    "button": false,
    "new_sheet": false,
    "run_control": {
     "read_only": false
    },
    "slideshow": {
     "slide_type": "slide"
    },
    "toc-hr-collapsed": true
   },
   "source": [
    "## Exercises"
   ]
  },
  {
   "cell_type": "markdown",
   "metadata": {
    "slideshow": {
     "slide_type": "subslide"
    },
    "solution2": "hidden",
    "solution2_first": true
   },
   "source": [
    "### Exercise 1: A JSON Grammar\n",
    "\n",
    "Take a look at the [JSON specification](http://www.json.org) and derive a grammar from it:\n",
    "\n",
    "* Use _character classes_ to express valid characters\n",
    "* Use EBNF to express repetitions and optional parts\n",
    "* Assume that\n",
    "    - a string is a sequence of digits, ASCII letters, punctuation and space characters without quotes or escapes\n",
    "    - whitespace is just a single space.\n",
    "* Use `is_valid_grammar()` to ensure the grammar is valid.\n",
    "\n",
    "Feed the grammar into `simple_grammar_fuzzer()`.  Do you encounter any errors, and why?"
   ]
  },
  {
   "cell_type": "markdown",
   "metadata": {
    "slideshow": {
     "slide_type": "skip"
    },
    "solution2": "hidden"
   },
   "source": [
    "**Solution.** This is a fairly straightforward translation:"
   ]
  },
  {
   "cell_type": "code",
   "execution_count": null,
   "metadata": {
    "slideshow": {
     "slide_type": "skip"
    },
    "solution2": "hidden"
   },
   "outputs": [],
   "source": [
    "CHARACTERS_WITHOUT_QUOTE = (string.digits\n",
    "                            + string.ascii_letters\n",
    "                            + string.punctuation.replace('\"', '').replace('\\\\', '')\n",
    "                            + ' ')"
   ]
  },
  {
   "cell_type": "code",
   "execution_count": null,
   "metadata": {
    "slideshow": {
     "slide_type": "skip"
    },
    "solution2": "hidden"
   },
   "outputs": [],
   "source": [
    "JSON_EBNF_GRAMMAR = {\n",
    "    \"<start>\": [\"<json>\"],\n",
    "\n",
    "    \"<json>\": [\"<element>\"],\n",
    "\n",
    "    \"<element>\": [\"<ws><value><ws>\"],\n",
    "\n",
    "    \"<value>\": [\"<object>\", \"<array>\", \"<string>\", \"<number>\", \"true\", \"false\", \"null\"],\n",
    "\n",
    "    \"<object>\": [\"{<ws>}\", \"{<members>}\"],\n",
    "\n",
    "    \"<members>\": [\"<member>(,<members>)*\"],\n",
    "\n",
    "    \"<member>\": [\"<ws><string><ws>:<element>\"],\n",
    "\n",
    "    \"<array>\": [\"[<ws>]\", \"[<elements>]\"],\n",
    "\n",
    "    \"<elements>\": [\"<element>(,<elements>)*\"],\n",
    "\n",
    "    \"<element>\": [\"<ws><value><ws>\"],\n",
    "\n",
    "    \"<string>\": ['\"' + \"<characters>\" + '\"'],\n",
    "    \n",
    "    \"<characters>\": [\"<character>*\"],\n",
    "\n",
    "    \"<character>\": srange(CHARACTERS_WITHOUT_QUOTE),\n",
    "\n",
    "    \"<number>\": [\"<int><frac><exp>\"],\n",
    "\n",
    "    \"<int>\": [\"<digit>\", \"<onenine><digits>\", \"-<digits>\", \"-<onenine><digits>\"],\n",
    "\n",
    "    \"<digits>\": [\"<digit>+\"],\n",
    "\n",
    "    \"<digit>\": ['0', \"<onenine>\"],\n",
    "\n",
    "    \"<onenine>\": crange('1', '9'),\n",
    "\n",
    "    \"<frac>\": [\"\", \".<digits>\"],\n",
    "\n",
    "    \"<exp>\": [\"\", \"E<sign><digits>\", \"e<sign><digits>\"],\n",
    "\n",
    "    \"<sign>\": [\"\", '+', '-'],\n",
    "\n",
    "    # \"<ws>\": srange(string.whitespace)\n",
    "\n",
    "    \"<ws>\": [\" \"]\n",
    "}\n",
    "\n",
    "assert is_valid_grammar(JSON_EBNF_GRAMMAR)"
   ]
  },
  {
   "cell_type": "code",
   "execution_count": null,
   "metadata": {
    "slideshow": {
     "slide_type": "skip"
    },
    "solution2": "hidden"
   },
   "outputs": [],
   "source": [
    "JSON_GRAMMAR = convert_ebnf_grammar(JSON_EBNF_GRAMMAR)"
   ]
  },
  {
   "cell_type": "code",
   "execution_count": null,
   "metadata": {
    "slideshow": {
     "slide_type": "skip"
    },
    "solution2": "hidden"
   },
   "outputs": [],
   "source": [
    "from ExpectError import ExpectError"
   ]
  },
  {
   "cell_type": "code",
   "execution_count": null,
   "metadata": {
    "slideshow": {
     "slide_type": "skip"
    },
    "solution2": "hidden"
   },
   "outputs": [],
   "source": [
    "for i in range(50):\n",
    "    with ExpectError():\n",
    "        print(simple_grammar_fuzzer(JSON_GRAMMAR, '<object>'))"
   ]
  },
  {
   "cell_type": "markdown",
   "metadata": {
    "slideshow": {
     "slide_type": "skip"
    },
    "solution2": "hidden"
   },
   "source": [
    "We get these errors because `simple_grammar_fuzzer()` first expands to a maximum number of elements, and then is limited because every further expansion would _increase_ the number of nonterminals, even though these may eventually reduce the string length.  This issue is addressed in the [next chapter](GrammarFuzzer.ipynb), introducing a more solid algorithm for producing strings from grammars."
   ]
  },
  {
   "cell_type": "markdown",
   "metadata": {
    "slideshow": {
     "slide_type": "subslide"
    },
    "solution2": "hidden",
    "solution2_first": true
   },
   "source": [
    "### Exercise 2: Finding Bugs\n",
    "\n",
    "The name `simple_grammar_fuzzer()` does not come by accident: The way it expands grammars is limited in several ways.  What happens if you apply `simple_grammar_fuzzer()` on `nonterminal_grammar` and `expr_grammar`, as defined above, and why?"
   ]
  },
  {
   "cell_type": "markdown",
   "metadata": {
    "slideshow": {
     "slide_type": "skip"
    },
    "solution2": "hidden"
   },
   "source": [
    "**Solution**.  `nonterminal_grammar` does not work because `simple_grammar_fuzzer()` eventually tries to expand the just generated nonterminal:"
   ]
  },
  {
   "cell_type": "code",
   "execution_count": null,
   "metadata": {
    "slideshow": {
     "slide_type": "skip"
    },
    "solution2": "hidden"
   },
   "outputs": [],
   "source": [
    "from ExpectError import ExpectError, ExpectTimeout"
   ]
  },
  {
   "cell_type": "code",
   "execution_count": null,
   "metadata": {
    "slideshow": {
     "slide_type": "skip"
    },
    "solution2": "hidden"
   },
   "outputs": [],
   "source": [
    "with ExpectError():\n",
    "    simple_grammar_fuzzer(nonterminal_grammar, log=True)"
   ]
  },
  {
   "cell_type": "markdown",
   "metadata": {
    "slideshow": {
     "slide_type": "skip"
    },
    "solution2": "hidden"
   },
   "source": [
    "For `expr_grammar`, things are even worse, as `simple_grammar_fuzzer()` can start a series of infinite expansions:"
   ]
  },
  {
   "cell_type": "code",
   "execution_count": null,
   "metadata": {
    "slideshow": {
     "slide_type": "skip"
    },
    "solution2": "hidden"
   },
   "outputs": [],
   "source": [
    "with ExpectTimeout(1):\n",
    "    for i in range(10):\n",
    "        print(simple_grammar_fuzzer(expr_grammar))"
   ]
  },
  {
   "cell_type": "markdown",
   "metadata": {
    "slideshow": {
     "slide_type": "skip"
    },
    "solution2": "hidden"
   },
   "source": [
    "Both issues are addressed and discussed in the [next chapter](GrammarFuzzer.ipynb), introducing a more solid algorithm for producing strings from grammars."
   ]
  }
 ],
 "metadata": {
  "ipub": {
   "bibliography": "fuzzingbook.bib",
   "toc": true
  },
  "kernelspec": {
   "display_name": "Python 3",
   "language": "python",
   "name": "python3"
  },
  "language_info": {
   "codemirror_mode": {
    "name": "ipython",
    "version": 3
   },
   "file_extension": ".py",
   "mimetype": "text/x-python",
   "name": "python",
   "nbconvert_exporter": "python",
   "pygments_lexer": "ipython3",
   "version": "3.7.4"
  },
  "toc": {
   "base_numbering": 1,
   "nav_menu": {},
   "number_sections": true,
   "sideBar": true,
   "skip_h1_title": true,
   "title_cell": "",
   "title_sidebar": "Contents",
   "toc_cell": false,
   "toc_position": {},
   "toc_section_display": true,
   "toc_window_display": true
  },
  "toc-autonumbering": false,
  "varInspector": {
   "cols": {
    "lenName": 16,
    "lenType": 16,
    "lenVar": 40
   },
   "kernels_config": {
    "python": {
     "delete_cmd_postfix": "",
     "delete_cmd_prefix": "del ",
     "library": "var_list.py",
     "varRefreshCmd": "print(var_dic_list())"
    },
    "r": {
     "delete_cmd_postfix": ") ",
     "delete_cmd_prefix": "rm(",
     "library": "var_list.r",
     "varRefreshCmd": "cat(var_dic_list()) "
    }
   },
   "types_to_exclude": [
    "module",
    "function",
    "builtin_function_or_method",
    "instance",
    "_Feature"
   ],
   "window_display": false
  }
 },
 "nbformat": 4,
 "nbformat_minor": 2
}
