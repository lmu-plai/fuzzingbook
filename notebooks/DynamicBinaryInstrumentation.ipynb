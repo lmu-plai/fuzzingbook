{
 "cells": [
  {
   "cell_type": "markdown",
   "metadata": {},
   "source": [
    "# Dynamic Binary Instrumentation\n",
    "\n",
    "Dynamic binary instrumentation (DBI) allows to inspect and modify program behavior at runtime. In this chapter, we will be using Intel's Pin framework to instrument programs at runtime.\n",
    "\n",
    "**Prerequisites**\n",
    "\n",
    "* You should be familiar with the chapter on [\"Mutation-based Fuzzing\"](MutationFuzzer.ipynb)"
   ]
  },
  {
   "cell_type": "markdown",
   "metadata": {},
   "source": [
    "## Synopsis\n",
    "TBD"
   ]
  },
  {
   "cell_type": "code",
   "execution_count": null,
   "metadata": {},
   "outputs": [],
   "source": [
    "import fuzzingbook_utils\n",
    "from Fuzzer import ProgramRunner\n",
    "from MutationFuzzer import MutationCoverageFuzzer"
   ]
  },
  {
   "cell_type": "markdown",
   "metadata": {},
   "source": [
    "## Pintools\n",
    "Pintools are _plugins_ to Pin, which control the type of instrumentation to be applied. A pintool's `main` function is responsible to inform Pin about which instrumentation functions should be used when JITing application code. Pintools are written in C++ and compiled as shared objects to be used by pin.\n",
    "\n",
    "The [instruction counter](../../../edit/fuzzingbook/dbi/inscount.cpp) is a simple example of a pintool. Click on the link and have a look at the source code. You can edit the code directly in the browser.\n",
    "\n",
    "We can build pintools from source using Pin's make system."
   ]
  },
  {
   "cell_type": "code",
   "execution_count": null,
   "metadata": {},
   "outputs": [],
   "source": [
    "!cd ../dbi/; PIN_ROOT=/usr/local/share/pin make tools"
   ]
  },
  {
   "cell_type": "markdown",
   "metadata": {},
   "source": [
    "Now we can use our newly built pintool to count he instructions in any binary, say `ls`."
   ]
  },
  {
   "cell_type": "code",
   "execution_count": null,
   "metadata": {
    "scrolled": true
   },
   "outputs": [],
   "source": [
    "!cd ../dbi/; pin -t ./obj-intel64/inscount.so -- ls"
   ]
  },
  {
   "cell_type": "markdown",
   "metadata": {},
   "source": [
    "The pintool stored its output in `inscount.out`, which now contains the number of instructions executed by `ls`."
   ]
  },
  {
   "cell_type": "code",
   "execution_count": null,
   "metadata": {},
   "outputs": [],
   "source": [
    "%cat ../dbi/inscount.out"
   ]
  },
  {
   "cell_type": "markdown",
   "metadata": {},
   "source": [
    "## Exercises\n",
    "### Exercise 1: Coverage instrumentation with Pin"
   ]
  },
  {
   "cell_type": "markdown",
   "metadata": {},
   "source": [
    "**Getting Coverage**\n",
    "\n",
    "Create a pintool `coverage` that measures code coverage in a target binary. You can start from the `inscount` pintool. The build system is set up to expect a file `coverage.cpp` in the same directory as `inscount.cpp`. To build the tool, run make again."
   ]
  },
  {
   "cell_type": "code",
   "execution_count": null,
   "metadata": {},
   "outputs": [],
   "source": [
    "!cd ../dbi/; PIN_ROOT=/usr/local/share/pin make tools"
   ]
  },
  {
   "cell_type": "markdown",
   "metadata": {},
   "source": [
    "Then run on a target program, e.g., the system-wide `ls`. No recompilation or `gcov` needed!"
   ]
  },
  {
   "cell_type": "code",
   "execution_count": null,
   "metadata": {},
   "outputs": [],
   "source": [
    "!pin -t ../dbi/obj-intel64/coverage.so -- ls"
   ]
  },
  {
   "cell_type": "markdown",
   "metadata": {},
   "source": [
    "You will notice that the addresses of basic blocks are different each time the program runs. This renders the results unusable for measuring coverage. \n",
    "\n",
    "We need to disable Address Space Layout Randomization temporarily when running Pin. This is possible using `setarch` and invoking pin as `setarch x86_64 -R pin -t ../dbi/obj-intel64/coverage.so -- ls`"
   ]
  },
  {
   "cell_type": "markdown",
   "metadata": {
    "solution2": "hidden",
    "solution2_first": true
   },
   "source": [
    "**Feedback-driven Fuzzing**\n",
    "\n",
    "Write a new `PinCoverageRunner` that runs a binary program using Pin and collects the coverage instrumentation. Then, like in the chapter on [\"Mutation-based Fuzzing\"](MutationFuzzer.ipynb), use a `MutationCoverageFuzzer` to fuzz `bc` (or another program) with your new runner class and plot the results."
   ]
  },
  {
   "cell_type": "code",
   "execution_count": null,
   "metadata": {
    "solution2": "hidden"
   },
   "outputs": [],
   "source": [
    "import subprocess\n",
    "\n",
    "class PinCoverageRunner(ProgramRunner):\n",
    "\n",
    "    def __init__(self, program):\n",
    "        self.program = program\n",
    "\n",
    "    def coverage(self):\n",
    "        return self._coverage\n",
    "    \n",
    "    def run_process(self, inp=\"\"):\n",
    "        result = subprocess.run(['setarch', 'x86_64', '-R', \n",
    "                                 'pin', '-t', '../dbi/obj-intel64/coverage.so', '--', \n",
    "                                 self.program],\n",
    "                              input=inp,\n",
    "                              stdout=subprocess.PIPE,\n",
    "                              stderr=subprocess.PIPE,\n",
    "                              universal_newlines=True)\n",
    "        self._coverage = []\n",
    "        cov_file = 'coverage.out'\n",
    "        with open(cov_file) as file:\n",
    "            for line in file.readlines():\n",
    "                line_number = int(line)\n",
    "                self._coverage.append(('binary', line_number))\n",
    "\n",
    "        return result"
   ]
  },
  {
   "cell_type": "code",
   "execution_count": null,
   "metadata": {
    "solution2": "hidden"
   },
   "outputs": [],
   "source": [
    "pinrunner = PinCoverageRunner('bc')\n",
    "mutation_fuzzer = MutationCoverageFuzzer(min_mutations=1, max_mutations=3, seed=['', 'f', '2+2\\n'])\n",
    "results = mutation_fuzzer.runs(pinrunner, trials=100)"
   ]
  },
  {
   "cell_type": "code",
   "execution_count": null,
   "metadata": {
    "solution2": "hidden"
   },
   "outputs": [],
   "source": [
    "import matplotlib.pyplot as plt\n",
    "plt.plot(mutation_fuzzer.cumulative_coverage)\n",
    "plt.title('Coverage of bc with MutationCoverageFuzzer')\n",
    "plt.xlabel('# of inputs')\n",
    "plt.ylabel('basic blocks covered');"
   ]
  }
 ],
 "metadata": {
  "kernelspec": {
   "display_name": "Python 3",
   "language": "python",
   "name": "python3"
  },
  "language_info": {
   "codemirror_mode": {
    "name": "ipython",
    "version": 3
   },
   "file_extension": ".py",
   "mimetype": "text/x-python",
   "name": "python",
   "nbconvert_exporter": "python",
   "pygments_lexer": "ipython3",
   "version": "3.6.7"
  },
  "toc": {
   "base_numbering": 1,
   "nav_menu": {},
   "number_sections": true,
   "sideBar": true,
   "skip_h1_title": true,
   "title_cell": "Table of Contents",
   "title_sidebar": "Contents",
   "toc_cell": false,
   "toc_position": {},
   "toc_section_display": true,
   "toc_window_display": true
  }
 },
 "nbformat": 4,
 "nbformat_minor": 2
}
