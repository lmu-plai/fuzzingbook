{
 "cells": [
  {
   "cell_type": "markdown",
   "metadata": {},
   "source": [
    "# Dynamic Binary Instrumentation\n",
    "\n",
    "Dynamic binary instrumentation (DBI) allows to inspect and modify program behavior at runtime. In this chapter, we will be using Intel's Pin framework to instrument programs at runtime.\n",
    "\n",
    "**Prerequisites**\n",
    "\n",
    "* You should be familiar with the chapter on [\"Mutation-based Fuzzing\"](MutationFuzzer.ipynb)"
   ]
  },
  {
   "cell_type": "markdown",
   "metadata": {},
   "source": [
    "## Synopsis\n",
    "TBD"
   ]
  },
  {
   "cell_type": "code",
   "execution_count": null,
   "metadata": {},
   "outputs": [],
   "source": [
    "import fuzzingbook_utils\n",
    "from Fuzzer import ProgramRunner"
   ]
  },
  {
   "cell_type": "markdown",
   "metadata": {},
   "source": [
    "## Pintools\n",
    "Pintools are _plugins_ to Pin, which control the type of instrumentation to be applied. A pintool's `main` function is responsible to inform Pin about which instrumentation functions should be used when JITing application code. Pintools are written in C++ and compiled as shared objects to be used by pin.\n",
    "\n",
    "The [instruction counter](https://fuzz.plai.ifi.lmu.de/user-redirect/edit/fuzzingbook.git/dbi/inscount.cpp) is a simple example of a pintool. Click on the link and have a look at the source code. You can edit the code directly in the browser.\n",
    "\n",
    "We can build pintools from source using Pin's make system."
   ]
  },
  {
   "cell_type": "code",
   "execution_count": null,
   "metadata": {},
   "outputs": [],
   "source": [
    "!cd ../dbi/; PIN_ROOT=/usr/local/share/pin make tools"
   ]
  },
  {
   "cell_type": "markdown",
   "metadata": {},
   "source": [
    "Now we can use our newly built pintool to count he instructions in any binary, say `ls`."
   ]
  },
  {
   "cell_type": "code",
   "execution_count": null,
   "metadata": {
    "scrolled": true
   },
   "outputs": [],
   "source": [
    "!cd ../dbi/; pin -t ./obj-intel64/inscount.so -- ls"
   ]
  },
  {
   "cell_type": "markdown",
   "metadata": {},
   "source": [
    "The pintool stored its output in `inscount.out`, which now contains the number of instructions executed by `ls`."
   ]
  },
  {
   "cell_type": "code",
   "execution_count": null,
   "metadata": {},
   "outputs": [],
   "source": [
    "%cat ../dbi/inscount.out"
   ]
  },
  {
   "cell_type": "markdown",
   "metadata": {},
   "source": [
    "## Exercises\n",
    "### Exercise 1: Coverage instrumentation with Pin"
   ]
  },
  {
   "cell_type": "markdown",
   "metadata": {},
   "source": [
    "**Getting Coverage**\n",
    "\n",
    "Write a pintool `coverage` that measures code coverage in a target binary. The `dbi` directory contains a copy of `inscount` in the file `coverage.cpp`, [which you can edit here](https://fuzz.plai.ifi.lmu.de/user-redirect/edit/fuzzingbook.git/dbi/coverage.cpp). To build the tool, run make again."
   ]
  },
  {
   "cell_type": "code",
   "execution_count": null,
   "metadata": {},
   "outputs": [],
   "source": [
    "!cd ../dbi/; PIN_ROOT=/usr/local/share/pin make tools"
   ]
  },
  {
   "cell_type": "markdown",
   "metadata": {},
   "source": [
    "Then run on a target program, e.g., the system-wide `ls`. No recompilation or `gcov` needed!"
   ]
  },
  {
   "cell_type": "code",
   "execution_count": null,
   "metadata": {},
   "outputs": [],
   "source": [
    "!pin -t ../dbi/obj-intel64/coverage.so -- ls"
   ]
  },
  {
   "cell_type": "markdown",
   "metadata": {},
   "source": [
    "You will notice that the addresses of basic blocks are different each time the program runs. This renders the results unusable for measuring coverage. \n",
    "\n",
    "We need to disable Address Space Layout Randomization temporarily when running Pin. This is possible using `setarch` and invoking pin as `setarch x86_64 -R pin -t ../dbi/obj-intel64/coverage.so -- ls`"
   ]
  },
  {
   "cell_type": "markdown",
   "metadata": {
    "solution2": "hidden",
    "solution2_first": true
   },
   "source": [
    "**Feedback-driven Fuzzing**\n",
    "\n",
    "Write a new `PinCoverageRunner` that runs a binary program using Pin and collects the coverage instrumentation. Then, like in the chapter on [\"Mutation-based Fuzzing\"](MutationFuzzer.ipynb), use a `MutationCoverageFuzzer` to fuzz `bc` (or another program) with your new runner class and plot the results."
   ]
  },
  {
   "cell_type": "code",
   "execution_count": null,
   "metadata": {
    "solution2": "hidden"
   },
   "outputs": [],
   "source": []
  },
  {
   "cell_type": "code",
   "execution_count": null,
   "metadata": {
    "solution2": "hidden"
   },
   "outputs": [],
   "source": [
    "\n"
   ]
  },
  {
   "cell_type": "code",
   "execution_count": null,
   "metadata": {
    "solution2": "hidden"
   },
   "outputs": [],
   "source": []
  }
 ],
 "metadata": {
  "kernelspec": {
   "display_name": "Python 3.8.2 64-bit",
   "language": "python",
   "name": "python3"
  },
  "language_info": {
   "codemirror_mode": {
    "name": "ipython",
    "version": 3
   },
   "file_extension": ".py",
   "mimetype": "text/x-python",
   "name": "python",
   "nbconvert_exporter": "python",
   "pygments_lexer": "ipython3",
   "version": "3.8.2"
  },
  "toc": {
   "base_numbering": 1,
   "nav_menu": {},
   "number_sections": true,
   "sideBar": true,
   "skip_h1_title": true,
   "title_cell": "Table of Contents",
   "title_sidebar": "Contents",
   "toc_cell": false,
   "toc_position": {},
   "toc_section_display": true,
   "toc_window_display": true
  },
  "vscode": {
   "interpreter": {
    "hash": "31f2aee4e71d21fbe5cf8b01ff0e069b9275f58929596ceb00d14d90e3e16cd6"
   }
  }
 },
 "nbformat": 4,
 "nbformat_minor": 2
}
