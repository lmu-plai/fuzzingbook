{
 "cells": [
  {
   "cell_type": "markdown",
   "metadata": {},
   "source": [
    "# Dynamic Binary Instrumentation\n",
    "\n",
    "Dynamic binary instrumentation (DBI) allows to inspect and modify program behavior at runtime. In this chapter, we will be using Intel's Pin framework to instrument programs at runtime.\n",
    "\n",
    "**Prerequisites**\n",
    "\n",
    "* You should be familiar with the chapter on [\"Mutation-based Fuzzing\"](MutationFuzzer.ipynb)"
   ]
  },
  {
   "cell_type": "markdown",
   "metadata": {},
   "source": [
    "## Synopsis\n",
    "TBD"
   ]
  },
  {
   "cell_type": "code",
   "execution_count": 44,
   "metadata": {},
   "outputs": [],
   "source": [
    "import fuzzingbook_utils\n",
    "from Fuzzer import ProgramRunner"
   ]
  },
  {
   "cell_type": "markdown",
   "metadata": {},
   "source": [
    "## Pintools\n",
    "Pintools are _plugins_ to Pin, which control the type of instrumentation to be applied. A pintool's `main` function is responsible to inform Pin about which instrumentation functions should be used when JITing application code. Pintools are written in C++ and compiled as shared objects to be used by pin.\n",
    "\n",
    "The [instruction counter](../../../edit/fuzzingbook/dbi/inscount.cpp) is a simple example of a pintool. Click on the link and have a look at the source code. You can edit the code directly in the browser.\n",
    "\n",
    "We can build pintools from source using Pin's make system."
   ]
  },
  {
   "cell_type": "code",
   "execution_count": 45,
   "metadata": {},
   "outputs": [
    {
     "name": "stdout",
     "output_type": "stream",
     "text": [
      "makefile:13: /usr/local/share/pin/source/tools/Config/makefile.config: No such file or directory\n",
      "makefile:15: /Config/makefile.default.rules: No such file or directory\n",
      "make: *** No rule to make target `/Config/makefile.default.rules'.  Stop.\n"
     ]
    }
   ],
   "source": [
    "!cd ../dbi/; PIN_ROOT=/usr/local/share/pin make tools"
   ]
  },
  {
   "cell_type": "markdown",
   "metadata": {},
   "source": [
    "Now we can use our newly built pintool to count he instructions in any binary, say `ls`."
   ]
  },
  {
   "cell_type": "code",
   "execution_count": 46,
   "metadata": {
    "scrolled": true
   },
   "outputs": [
    {
     "name": "stdout",
     "output_type": "stream",
     "text": [
      "zsh:1: command not found: pin\n"
     ]
    }
   ],
   "source": [
    "!cd ../dbi/; pin -t ./obj-intel64/inscount.so -- ls"
   ]
  },
  {
   "cell_type": "markdown",
   "metadata": {},
   "source": [
    "The pintool stored its output in `inscount.out`, which now contains the number of instructions executed by `ls`."
   ]
  },
  {
   "cell_type": "code",
   "execution_count": 47,
   "metadata": {},
   "outputs": [
    {
     "name": "stdout",
     "output_type": "stream",
     "text": [
      "cat: ../dbi/inscount.out: No such file or directory\n"
     ]
    }
   ],
   "source": [
    "%cat ../dbi/inscount.out"
   ]
  },
  {
   "cell_type": "markdown",
   "metadata": {},
   "source": [
    "## Exercises\n",
    "### Exercise 1: Coverage instrumentation with Pin"
   ]
  },
  {
   "cell_type": "markdown",
   "metadata": {},
   "source": [
    "**Getting Coverage**\n",
    "\n",
    "Write a pintool `coverage` that measures code coverage in a target binary. The `dbi` directory contains a copy of `inscount` in the file `coverage.cpp`, [which you can edit here](../../../edit/fuzzingbook/dbi/coverage.cpp). To build the tool, run make again."
   ]
  },
  {
   "cell_type": "code",
   "execution_count": 48,
   "metadata": {},
   "outputs": [
    {
     "name": "stdout",
     "output_type": "stream",
     "text": [
      "makefile:13: /usr/local/share/pin/source/tools/Config/makefile.config: No such file or directory\n",
      "makefile:15: /Config/makefile.default.rules: No such file or directory\n",
      "make: *** No rule to make target `/Config/makefile.default.rules'.  Stop.\n"
     ]
    }
   ],
   "source": [
    "!cd ../dbi/; PIN_ROOT=/usr/local/share/pin make tools"
   ]
  },
  {
   "cell_type": "markdown",
   "metadata": {},
   "source": [
    "Then run on a target program, e.g., the system-wide `ls`. No recompilation or `gcov` needed!"
   ]
  },
  {
   "cell_type": "code",
   "execution_count": 49,
   "metadata": {},
   "outputs": [
    {
     "name": "stdout",
     "output_type": "stream",
     "text": [
      "zsh:1: command not found: pin\n"
     ]
    }
   ],
   "source": [
    "!pin -t ../dbi/obj-intel64/coverage.so -- ls"
   ]
  },
  {
   "cell_type": "markdown",
   "metadata": {},
   "source": [
    "You will notice that the addresses of basic blocks are different each time the program runs. This renders the results unusable for measuring coverage. \n",
    "\n",
    "We need to disable Address Space Layout Randomization temporarily when running Pin. This is possible using `setarch` and invoking pin as `setarch x86_64 -R pin -t ../dbi/obj-intel64/coverage.so -- ls`"
   ]
  },
  {
   "cell_type": "markdown",
   "metadata": {
    "solution2": "hidden",
    "solution2_first": true
   },
   "source": [
    "**Feedback-driven Fuzzing**\n",
    "\n",
    "Write a new `PinCoverageRunner` that runs a binary program using Pin and collects the coverage instrumentation. Then, like in the chapter on [\"Mutation-based Fuzzing\"](MutationFuzzer.ipynb), use a `MutationCoverageFuzzer` to fuzz `bc` (or another program) with your new runner class and plot the results."
   ]
  },
  {
   "cell_type": "code",
   "execution_count": 50,
   "metadata": {
    "solution2": "hidden"
   },
   "outputs": [],
   "source": [
    "import subprocess\n",
    "\n",
    "class PinCoverageRunner(ProgramRunner):\n",
    "\n",
    "    def __init__(self, program):\n",
    "        self.program = program\n",
    "\n",
    "    def coverage(self):\n",
    "        return self._coverage\n",
    "    \n",
    "    def run_process(self, inp=\"\"):\n",
    "        result = subprocess.run(['setarch', 'x86_64', '-R', \n",
    "                                 'pin', '-t', '../dbi/obj-intel64/coverage.so', '--', \n",
    "                                 self.program],\n",
    "                              input=inp,\n",
    "                              stdout=subprocess.PIPE,\n",
    "                              stderr=subprocess.PIPE,\n",
    "                              universal_newlines=True)\n",
    "        self._coverage = []\n",
    "        cov_file = 'coverage.out'\n",
    "        with open(cov_file) as file:\n",
    "            for line in file.readlines():\n",
    "                line_number = int(line)\n",
    "                self._coverage.append(('binary', line_number))\n",
    "\n",
    "        return result"
   ]
  },
  {
   "cell_type": "code",
   "execution_count": 51,
   "metadata": {
    "solution2": "hidden"
   },
   "outputs": [
    {
     "ename": "ImportError",
     "evalue": "cannot import name 'MutationCoverageFuzzer' from 'MutationFuzzer' (MutationFuzzer.ipynb)",
     "output_type": "error",
     "traceback": [
      "\u001b[0;31m---------------------------------------------------------------------------\u001b[0m",
      "\u001b[0;31mImportError\u001b[0m                               Traceback (most recent call last)",
      "\u001b[1;32m/Users/sebastian/Teaching/Fuzzing/fuzzingbook/notebooks/DynamicBinaryInstrumentation.ipynb Cell 18\u001b[0m in \u001b[0;36m<cell line: 1>\u001b[0;34m()\u001b[0m\n\u001b[0;32m----> <a href='vscode-notebook-cell:/Users/sebastian/Teaching/Fuzzing/fuzzingbook/notebooks/DynamicBinaryInstrumentation.ipynb#X23sZmlsZQ%3D%3D?line=0'>1</a>\u001b[0m \u001b[39mfrom\u001b[39;00m \u001b[39mMutationFuzzer\u001b[39;00m \u001b[39mimport\u001b[39;00m MutationCoverageFuzzer\n\u001b[1;32m      <a href='vscode-notebook-cell:/Users/sebastian/Teaching/Fuzzing/fuzzingbook/notebooks/DynamicBinaryInstrumentation.ipynb#X23sZmlsZQ%3D%3D?line=2'>3</a>\u001b[0m pinrunner \u001b[39m=\u001b[39m PinCoverageRunner(\u001b[39m'\u001b[39m\u001b[39mbc\u001b[39m\u001b[39m'\u001b[39m)\n\u001b[1;32m      <a href='vscode-notebook-cell:/Users/sebastian/Teaching/Fuzzing/fuzzingbook/notebooks/DynamicBinaryInstrumentation.ipynb#X23sZmlsZQ%3D%3D?line=3'>4</a>\u001b[0m mutation_fuzzer \u001b[39m=\u001b[39m MutationCoverageFuzzer(min_mutations\u001b[39m=\u001b[39m\u001b[39m1\u001b[39m, max_mutations\u001b[39m=\u001b[39m\u001b[39m3\u001b[39m, seed\u001b[39m=\u001b[39m[\u001b[39m'\u001b[39m\u001b[39m'\u001b[39m, \u001b[39m'\u001b[39m\u001b[39mf\u001b[39m\u001b[39m'\u001b[39m, \u001b[39m'\u001b[39m\u001b[39m2+2\u001b[39m\u001b[39m\\n\u001b[39;00m\u001b[39m'\u001b[39m])\n",
      "\u001b[0;31mImportError\u001b[0m: cannot import name 'MutationCoverageFuzzer' from 'MutationFuzzer' (MutationFuzzer.ipynb)"
     ]
    }
   ],
   "source": [
    "\n",
    "from MutationFuzzer import\n",
    "\n",
    "pinrunner = PinCoverageRunner('bc')\n",
    "mutation_fuzzer = MutationCoverageFuzzer(min_mutations=1, max_mutations=3, seed=['', 'f', '2+2\\n'])\n",
    "results = mutation_fuzzer.runs(pinrunner, trials=100)"
   ]
  },
  {
   "cell_type": "code",
   "execution_count": null,
   "metadata": {
    "solution2": "hidden"
   },
   "outputs": [],
   "source": [
    "import matplotlib.pyplot as plt\n",
    "plt.plot(mutation_fuzzer.cumulative_coverage)\n",
    "plt.title('Coverage of bc with MutationCoverageFuzzer')\n",
    "plt.xlabel('# of inputs')\n",
    "plt.ylabel('basic blocks covered');"
   ]
  }
 ],
 "metadata": {
  "kernelspec": {
   "display_name": "Python 3.8.2 64-bit",
   "language": "python",
   "name": "python3"
  },
  "language_info": {
   "codemirror_mode": {
    "name": "ipython",
    "version": 3
   },
   "file_extension": ".py",
   "mimetype": "text/x-python",
   "name": "python",
   "nbconvert_exporter": "python",
   "pygments_lexer": "ipython3",
   "version": "3.8.2"
  },
  "toc": {
   "base_numbering": 1,
   "nav_menu": {},
   "number_sections": true,
   "sideBar": true,
   "skip_h1_title": true,
   "title_cell": "Table of Contents",
   "title_sidebar": "Contents",
   "toc_cell": false,
   "toc_position": {},
   "toc_section_display": true,
   "toc_window_display": true
  },
  "vscode": {
   "interpreter": {
    "hash": "31f2aee4e71d21fbe5cf8b01ff0e069b9275f58929596ceb00d14d90e3e16cd6"
   }
  }
 },
 "nbformat": 4,
 "nbformat_minor": 2
}
