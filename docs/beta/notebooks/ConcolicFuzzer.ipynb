{
 "cells": [
  {
   "cell_type": "markdown",
   "metadata": {
    "button": false,
    "new_sheet": false,
    "run_control": {
     "read_only": false
    },
    "slideshow": {
     "slide_type": "slide"
    }
   },
   "source": [
    "# Concolic Fuzzing\n",
    "\n",
    "We have previously seen how one can use dynamic taints to produce more intelligent test cases than simply looking for program crashes. We have also seen how one can use the taints to update the grammar, and hence focus more on the dangerous methods. \n",
    "\n",
    "While taints are helpful, uninterpreted strings is only one of the attack vectors. Can we say anything more about the properties of variables at any point in the execution? For example, can we say for sure that a function will always receive the buffers with the correct length? Concolic execution offers a solution.\n",
    "\n",
    "The idea of _concolic execution_ over a function is as follows: We start with a sample input for the function, and execute the function under trace. At each point the execution passes through a conditional, we save the conditional encountered in the form of relations between symbolic variables.\n",
    "(A _symbolic variable_ can be thought of as a sort of placeholder for the real variable, sort of like the x in solving for x in Algebra. The symbolic variables can be used to specify relations without actually solving them.)\n",
    "\n",
    "With concolic execution, one can collect the constraints that an execution path encounters, and use it to answer questions about the program behavior at any point we prefer along the program execution path. We can further use concolic execution to enhance fuzzing.\n",
    "\n",
    "In this chapter, we explore in depth how to execute a Python function concolically, and how concolic execution can be used to enhance fuzzing."
   ]
  },
  {
   "cell_type": "markdown",
   "metadata": {
    "button": false,
    "new_sheet": false,
    "run_control": {
     "read_only": false
    },
    "slideshow": {
     "slide_type": "subslide"
    }
   },
   "source": [
    "**Prerequisites**\n",
    "\n",
    "* You should have read the [chapter on coverage](Coverage.ipynb).\n",
    "* You should have read the [chapter on information flow](InformationFlow.ipynb).\n",
    "* A familiarity with the basic idea of [SMT solvers](https://en.wikipedia.org/wiki/Satisfiability_modulo_theories) would be useful."
   ]
  },
  {
   "cell_type": "markdown",
   "metadata": {
    "slideshow": {
     "slide_type": "fragment"
    }
   },
   "source": [
    "We first set up our infrastructure so that we can make use of previously defined functions."
   ]
  },
  {
   "cell_type": "code",
   "execution_count": 1,
   "metadata": {
    "slideshow": {
     "slide_type": "skip"
    }
   },
   "outputs": [],
   "source": [
    "import fuzzingbook_utils"
   ]
  },
  {
   "cell_type": "markdown",
   "metadata": {
    "slideshow": {
     "slide_type": "slide"
    }
   },
   "source": [
    "## Synopsis\n",
    "<!-- Automatically generated. Do not edit. -->\n",
    "\n",
    "To [use the code provided in this chapter](Importing.ipynb), write\n",
    "\n",
    "```python\n",
    ">>> from fuzzingbook.ConcolicFuzzer import <identifier>\n",
    "```\n",
    "\n",
    "and then make use of the following features.\n",
    "\n",
    "\n",
    "This chapter defines two main classes: `SimpleConcolicFuzzer` and `ConcolicGrammarFuzzer`. The `SimpleConcolicFuzzer` first uses a sample input to collect predicates encountered. The fuzzer then negates random predicates to generate new input constraints. These, when solved, produce inputs that explore paths that are close to the original path. It can be used as follows.\n",
    "\n",
    "We first obtain the constraints using `ConcolicTracer`.\n",
    "\n",
    "```python\n",
    ">>> with ConcolicTracer() as _:\n",
    ">>>     _[cgi_decode]('a%20d')\n",
    "```\n",
    "These constraints are added to the concolic fuzzer as follows:\n",
    "\n",
    "```python\n",
    ">>> scf = SimpleConcolicFuzzer()\n",
    ">>> scf.add_trace(_, 'a%20d')\n",
    "```\n",
    "The concolic fuzzer then uses the constraints added to guide its fuzzing as follows:\n",
    "\n",
    "```python\n",
    ">>> scf = SimpleConcolicFuzzer()\n",
    ">>> for i in range(10):\n",
    ">>>     v = scf.fuzz()\n",
    ">>>     if v is None:\n",
    ">>>         break\n",
    ">>>     print(repr(v))\n",
    ">>>     with ExpectError():\n",
    ">>>         with ConcolicTracer() as _:\n",
    ">>>             _[cgi_decode](v)\n",
    ">>>     scf.add_trace(_, v)\n",
    "' '\n",
    "'+\\\\x00'\n",
    "'++\\\\x00'\n",
    "'+++\\\\x00'\n",
    "'+\\\\x00%\\\\x00'\n",
    "'+\\\\x00\\\\x00%\\\\x00'\n",
    "\n",
    "Traceback (most recent call last):\n",
    "  File \"<ipython-input-287-2a3454213b54>\", line 9, in <module>\n",
    "    _[cgi_decode](v)\n",
    "  File \"<ipython-input-33-635d2b1b13c2>\", line 3, in __call__\n",
    "    self.result = self.fn(*self.concolic(args))\n",
    "  File \"<ipython-input-241-630ee123bed8>\", line 42, in cgi_decode\n",
    "    raise ValueError(\"Invalid encoding\")\n",
    "ValueError: Invalid encoding (expected)\n",
    "Traceback (most recent call last):\n",
    "  File \"<ipython-input-287-2a3454213b54>\", line 9, in <module>\n",
    "    _[cgi_decode](v)\n",
    "  File \"<ipython-input-33-635d2b1b13c2>\", line 3, in __call__\n",
    "    self.result = self.fn(*self.concolic(args))\n",
    "  File \"<ipython-input-241-630ee123bed8>\", line 42, in cgi_decode\n",
    "    raise ValueError(\"Invalid encoding\")\n",
    "ValueError: Invalid encoding (expected)\n",
    "\n",
    "'+\\\\x00\\\\x00\\\\x00\\\\x00\\\\x00\\\\x00\\\\x00\\\\x00%B\\\\x00'\n",
    "\n",
    "Traceback (most recent call last):\n",
    "  File \"<ipython-input-287-2a3454213b54>\", line 9, in <module>\n",
    "    _[cgi_decode](v)\n",
    "  File \"<ipython-input-33-635d2b1b13c2>\", line 3, in __call__\n",
    "    self.result = self.fn(*self.concolic(args))\n",
    "  File \"<ipython-input-241-630ee123bed8>\", line 42, in cgi_decode\n",
    "    raise ValueError(\"Invalid encoding\")\n",
    "ValueError: Invalid encoding (expected)\n",
    "\n",
    "'+\\\\x00\\\\x00\\\\x00\\\\x00\\\\x00\\\\x00\\\\x00\\\\x00%b\\\\x00'\n",
    "\n",
    "Traceback (most recent call last):\n",
    "  File \"<ipython-input-287-2a3454213b54>\", line 9, in <module>\n",
    "    _[cgi_decode](v)\n",
    "  File \"<ipython-input-33-635d2b1b13c2>\", line 3, in __call__\n",
    "    self.result = self.fn(*self.concolic(args))\n",
    "  File \"<ipython-input-241-630ee123bed8>\", line 42, in cgi_decode\n",
    "    raise ValueError(\"Invalid encoding\")\n",
    "ValueError: Invalid encoding (expected)\n",
    "\n",
    "'+\\\\x10\\\\x01\\\\x08\\\\x01\\\\x01\\\\x02\\\\x01\\\\x08%\\\\x000\\\\x00'\n",
    "'+ \\\\x10\\\\x00@%\\\\x00E\\\\x00'\n",
    "\n",
    "Traceback (most recent call last):\n",
    "  File \"<ipython-input-287-2a3454213b54>\", line 9, in <module>\n",
    "    _[cgi_decode](v)\n",
    "  File \"<ipython-input-33-635d2b1b13c2>\", line 3, in __call__\n",
    "    self.result = self.fn(*self.concolic(args))\n",
    "  File \"<ipython-input-241-630ee123bed8>\", line 42, in cgi_decode\n",
    "    raise ValueError(\"Invalid encoding\")\n",
    "ValueError: Invalid encoding (expected)\n",
    "Traceback (most recent call last):\n",
    "  File \"<ipython-input-287-2a3454213b54>\", line 9, in <module>\n",
    "    _[cgi_decode](v)\n",
    "  File \"<ipython-input-33-635d2b1b13c2>\", line 3, in __call__\n",
    "    self.result = self.fn(*self.concolic(args))\n",
    "  File \"<ipython-input-241-630ee123bed8>\", line 42, in cgi_decode\n",
    "    raise ValueError(\"Invalid encoding\")\n",
    "ValueError: Invalid encoding (expected)\n",
    "\n",
    "```\n",
    "The `SimpleConcolicFuzzer` simply explores all paths near the original path traversed by the sample input. It uses a simple mechanism to explore the paths that are near the paths that it knows about, and other than code paths, knows nothing about the input.\n",
    "The `ConcolicGrammarFuzzer` on the other hand, knows about the input grammar, and can collect feedback from the subject under fuzzing. It can lift some of the constraints encountered to the grammar, enabling deeper fuzzing. It is used as follows:\n",
    "\n",
    "```python\n",
    ">>> from InformationFlow import INVENTORY_GRAMMAR, SQLException\n",
    ">>> cgf = ConcolicGrammarFuzzer(INVENTORY_GRAMMAR)\n",
    ">>> cgf.prune_tokens(prune_tokens)\n",
    ">>> for i in range(10):\n",
    ">>>     query = cgf.fuzz()\n",
    ">>>     print(query)\n",
    ">>>     with ConcolicTracer() as _:\n",
    ">>>         with ExpectError():\n",
    ">>>             try:\n",
    ">>>                 res = _[db_select](query)\n",
    ">>>                 print(repr(res))\n",
    ">>>             except SQLException as e:\n",
    ">>>                 print(e)\n",
    ">>>         cgf.update_grammar(_)\n",
    ">>>         print()\n",
    "insert into Y (M871X,k1NK8,s) values ('$')\n",
    "Table ('Y') was not found\n",
    "\n",
    "insert into :5 (Xs4i,B,E5) values ('z')\n",
    "Table (':5') was not found\n",
    "\n",
    "select A,S from n\n",
    "Table ('n') was not found\n",
    "\n",
    "delete from months where F(_)<.(c!=d-F*v<K(:)*./d)\n",
    "Invalid WHERE ('F(_)<.(c!=d-F*v<K(:)*./d)')\n",
    "\n",
    "delete from months where F==A*o(F)-z<s+FA(a,m,B)\n",
    "Invalid WHERE ('F==A*o(F)-z<s+FA(a,m,B)')\n",
    "\n",
    "update months set C1=L,X=s,f=I,l=O where S!=m\n",
    "Column ('C1') was not found\n",
    "\n",
    "insert into months (f2,L3ucoo6p,JJI) values ('5')\n",
    "Column ('f2') was not found\n",
    "\n",
    "insert into months (z,Rd,a) values ('zno',93.64)\n",
    "Column ('z') was not found\n",
    "\n",
    "delete from vehicles where (u+K<_!=k*S)==w-O+d!=O==y\n",
    "Invalid WHERE ('(u+K<_!=k*S)==w-O+d!=O==y')\n",
    "\n",
    "select eV from months where --8*:!=o>_0(V)-q(T,z)*((Y))\n",
    "Invalid WHERE ('(--8*:!=o>_0(V)-q(T,z)*((Y)))')\n",
    "\n",
    "\n",
    "```\n"
   ]
  },
  {
   "cell_type": "markdown",
   "metadata": {
    "slideshow": {
     "slide_type": "slide"
    },
    "toc-hr-collapsed": false
   },
   "source": [
    "## Tracking Constraints"
   ]
  },
  {
   "cell_type": "markdown",
   "metadata": {
    "slideshow": {
     "slide_type": "fragment"
    }
   },
   "source": [
    "In the chapter on [information flow](InformationFlow), we have seen how dynamic taints can be used to direct fuzzing by indicating which part of input reached interesting places. However, dynamic taint tracking is limited in the information that it can propagate. For example, we might want to explore what happens when certain properties of the input changes."
   ]
  },
  {
   "cell_type": "markdown",
   "metadata": {
    "slideshow": {
     "slide_type": "fragment"
    }
   },
   "source": [
    "For example, say we have a function `factorial()` that returns the *factorial value* of its input."
   ]
  },
  {
   "cell_type": "code",
   "execution_count": 2,
   "metadata": {
    "slideshow": {
     "slide_type": "subslide"
    }
   },
   "outputs": [],
   "source": [
    "def factorial(n):\n",
    "    if n < 0:\n",
    "        return None\n",
    "    if n == 0:\n",
    "        return 1\n",
    "    if n == 1:\n",
    "        return 1\n",
    "    v = 1\n",
    "    while n != 0:\n",
    "        v = v * n\n",
    "        n = n - 1\n",
    "    return v"
   ]
  },
  {
   "cell_type": "markdown",
   "metadata": {
    "slideshow": {
     "slide_type": "fragment"
    }
   },
   "source": [
    "We exercise the function with a value of `5`."
   ]
  },
  {
   "cell_type": "code",
   "execution_count": 3,
   "metadata": {
    "slideshow": {
     "slide_type": "fragment"
    }
   },
   "outputs": [
    {
     "data": {
      "text/plain": [
       "120"
      ]
     },
     "execution_count": 3,
     "metadata": {},
     "output_type": "execute_result"
    }
   ],
   "source": [
    "factorial(5)"
   ]
  },
  {
   "cell_type": "markdown",
   "metadata": {
    "slideshow": {
     "slide_type": "subslide"
    }
   },
   "source": [
    "Is this sufficient to explore all the features of the function? How do we know? One way to verify that we have explored all features is to look at the coverage obtained. First we need to extend the `Coverage` class from the [chapter on coverage](Coverage.ipynb) to provide us with coverage arcs."
   ]
  },
  {
   "cell_type": "code",
   "execution_count": 4,
   "metadata": {
    "slideshow": {
     "slide_type": "skip"
    }
   },
   "outputs": [],
   "source": [
    "from Coverage import Coverage"
   ]
  },
  {
   "cell_type": "code",
   "execution_count": 5,
   "metadata": {
    "slideshow": {
     "slide_type": "skip"
    }
   },
   "outputs": [],
   "source": [
    "import inspect"
   ]
  },
  {
   "cell_type": "code",
   "execution_count": 6,
   "metadata": {
    "slideshow": {
     "slide_type": "fragment"
    }
   },
   "outputs": [],
   "source": [
    "class ArcCoverage(Coverage):\n",
    "    def traceit(self, frame, event, args):\n",
    "        if event != 'return':\n",
    "            f = inspect.getframeinfo(frame)\n",
    "            self._trace.append((f.function, f.lineno))\n",
    "        return self.traceit\n",
    "\n",
    "    def arcs(self):\n",
    "        t = [i for f, i in self._trace]\n",
    "        return list(zip(t, t[1:]))"
   ]
  },
  {
   "cell_type": "markdown",
   "metadata": {
    "slideshow": {
     "slide_type": "subslide"
    }
   },
   "source": [
    "Next, we use the `Tracer` to obtain the coverage arcs."
   ]
  },
  {
   "cell_type": "code",
   "execution_count": 7,
   "metadata": {
    "slideshow": {
     "slide_type": "fragment"
    }
   },
   "outputs": [],
   "source": [
    "with ArcCoverage() as cov:\n",
    "    factorial(5)"
   ]
  },
  {
   "cell_type": "markdown",
   "metadata": {
    "slideshow": {
     "slide_type": "fragment"
    }
   },
   "source": [
    "We can now use the coverage arcs to visualize the coverage obtained."
   ]
  },
  {
   "cell_type": "code",
   "execution_count": 8,
   "metadata": {
    "slideshow": {
     "slide_type": "skip"
    }
   },
   "outputs": [],
   "source": [
    "from ControlFlow import PyCFG, CFGNode, to_graph, gen_cfg"
   ]
  },
  {
   "cell_type": "code",
   "execution_count": 9,
   "metadata": {
    "slideshow": {
     "slide_type": "skip"
    }
   },
   "outputs": [],
   "source": [
    "from graphviz import Source, Graph"
   ]
  },
  {
   "cell_type": "code",
   "execution_count": 10,
   "metadata": {
    "slideshow": {
     "slide_type": "fragment"
    }
   },
   "outputs": [
    {
     "data": {
      "image/svg+xml": [
       "<?xml version=\"1.0\" encoding=\"UTF-8\" standalone=\"no\"?>\n",
       "<!DOCTYPE svg PUBLIC \"-//W3C//DTD SVG 1.1//EN\"\n",
       " \"http://www.w3.org/Graphics/SVG/1.1/DTD/svg11.dtd\">\n",
       "<!-- Generated by graphviz version 2.40.1 (20161225.0304)\n",
       " -->\n",
       "<!-- Title: %3 Pages: 1 -->\n",
       "<svg width=\"423pt\" height=\"564pt\"\n",
       " viewBox=\"0.00 0.00 422.50 564.00\" xmlns=\"http://www.w3.org/2000/svg\" xmlns:xlink=\"http://www.w3.org/1999/xlink\">\n",
       "<g id=\"graph0\" class=\"graph\" transform=\"scale(1 1) rotate(0) translate(4 560)\">\n",
       "<title>%3</title>\n",
       "<polygon fill=\"#ffffff\" stroke=\"transparent\" points=\"-4,4 -4,-560 418.5,-560 418.5,4 -4,4\"/>\n",
       "<!-- 1 -->\n",
       "<g id=\"node1\" class=\"node\">\n",
       "<title>1</title>\n",
       "<ellipse fill=\"none\" stroke=\"#000000\" cx=\"101\" cy=\"-534\" rx=\"83.6926\" ry=\"18\"/>\n",
       "<ellipse fill=\"none\" stroke=\"#000000\" cx=\"101\" cy=\"-534\" rx=\"87.6854\" ry=\"22\"/>\n",
       "<text text-anchor=\"middle\" x=\"101\" y=\"-530.3\" font-family=\"Times,serif\" font-size=\"14.00\" fill=\"#000000\">1: enter: factorial(n)</text>\n",
       "</g>\n",
       "<!-- 3 -->\n",
       "<g id=\"node7\" class=\"node\">\n",
       "<title>3</title>\n",
       "<polygon fill=\"none\" stroke=\"#000000\" points=\"101,-476 31.2878,-458 101,-440 170.7122,-458 101,-476\"/>\n",
       "<text text-anchor=\"middle\" x=\"101\" y=\"-454.3\" font-family=\"Times,serif\" font-size=\"14.00\" fill=\"#000000\">2: if: n &lt; 0</text>\n",
       "</g>\n",
       "<!-- 1&#45;&gt;3 -->\n",
       "<g id=\"edge5\" class=\"edge\">\n",
       "<title>1&#45;&gt;3</title>\n",
       "<path fill=\"none\" stroke=\"#00ff00\" d=\"M101,-511.6086C101,-503.7272 101,-494.7616 101,-486.4482\"/>\n",
       "<polygon fill=\"#00ff00\" stroke=\"#00ff00\" points=\"104.5001,-486.3974 101,-476.3975 97.5001,-486.3975 104.5001,-486.3974\"/>\n",
       "</g>\n",
       "<!-- 2 -->\n",
       "<g id=\"node2\" class=\"node\">\n",
       "<title>2</title>\n",
       "<ellipse fill=\"none\" stroke=\"#000000\" cx=\"145\" cy=\"-22\" rx=\"79.0964\" ry=\"18\"/>\n",
       "<ellipse fill=\"none\" stroke=\"#000000\" cx=\"145\" cy=\"-22\" rx=\"83.0864\" ry=\"22\"/>\n",
       "<text text-anchor=\"middle\" x=\"145\" y=\"-18.3\" font-family=\"Times,serif\" font-size=\"14.00\" fill=\"#000000\">1: exit: factorial(n)</text>\n",
       "</g>\n",
       "<!-- 4 -->\n",
       "<g id=\"node3\" class=\"node\">\n",
       "<title>4</title>\n",
       "<polygon fill=\"none\" stroke=\"#000000\" points=\"98,-188 0,-188 0,-152 98,-152 98,-188\"/>\n",
       "<text text-anchor=\"middle\" x=\"49\" y=\"-166.3\" font-family=\"Times,serif\" font-size=\"14.00\" fill=\"#000000\">3: return None</text>\n",
       "</g>\n",
       "<!-- 4&#45;&gt;2 -->\n",
       "<g id=\"edge1\" class=\"edge\">\n",
       "<title>4&#45;&gt;2</title>\n",
       "<path fill=\"none\" stroke=\"#ff0000\" d=\"M60.7715,-151.8523C76.812,-127.1232 105.7573,-82.4992 125.177,-52.5605\"/>\n",
       "<polygon fill=\"#ff0000\" stroke=\"#ff0000\" points=\"128.1222,-54.4514 130.6278,-44.1571 122.2495,-50.642 128.1222,-54.4514\"/>\n",
       "</g>\n",
       "<!-- 6 -->\n",
       "<g id=\"node4\" class=\"node\">\n",
       "<title>6</title>\n",
       "<polygon fill=\"none\" stroke=\"#000000\" points=\"163.5,-332 88.5,-332 88.5,-296 163.5,-296 163.5,-332\"/>\n",
       "<text text-anchor=\"middle\" x=\"126\" y=\"-310.3\" font-family=\"Times,serif\" font-size=\"14.00\" fill=\"#000000\">5: return 1</text>\n",
       "</g>\n",
       "<!-- 6&#45;&gt;2 -->\n",
       "<g id=\"edge2\" class=\"edge\">\n",
       "<title>6&#45;&gt;2</title>\n",
       "<path fill=\"none\" stroke=\"#ff0000\" d=\"M127.1885,-295.7341C130.3308,-247.4429 138.89,-115.9016 142.8887,-54.4467\"/>\n",
       "<polygon fill=\"#ff0000\" stroke=\"#ff0000\" points=\"146.4007,-54.3746 143.5575,-44.1684 139.4155,-53.92 146.4007,-54.3746\"/>\n",
       "</g>\n",
       "<!-- 8 -->\n",
       "<g id=\"node5\" class=\"node\">\n",
       "<title>8</title>\n",
       "<polygon fill=\"none\" stroke=\"#000000\" points=\"233.5,-260 158.5,-260 158.5,-224 233.5,-224 233.5,-260\"/>\n",
       "<text text-anchor=\"middle\" x=\"196\" y=\"-238.3\" font-family=\"Times,serif\" font-size=\"14.00\" fill=\"#000000\">7: return 1</text>\n",
       "</g>\n",
       "<!-- 8&#45;&gt;2 -->\n",
       "<g id=\"edge3\" class=\"edge\">\n",
       "<title>8&#45;&gt;2</title>\n",
       "<path fill=\"none\" stroke=\"#ff0000\" d=\"M191.8265,-223.9965C183.2009,-186.788 163.3088,-100.9792 152.4329,-54.0635\"/>\n",
       "<polygon fill=\"#ff0000\" stroke=\"#ff0000\" points=\"155.7967,-53.0752 150.1287,-44.124 148.9775,-54.6561 155.7967,-53.0752\"/>\n",
       "</g>\n",
       "<!-- 13 -->\n",
       "<g id=\"node6\" class=\"node\">\n",
       "<title>13</title>\n",
       "<polygon fill=\"none\" stroke=\"#000000\" points=\"274,-116 192,-116 192,-80 274,-80 274,-116\"/>\n",
       "<text text-anchor=\"middle\" x=\"233\" y=\"-94.3\" font-family=\"Times,serif\" font-size=\"14.00\" fill=\"#000000\">12: return v</text>\n",
       "</g>\n",
       "<!-- 13&#45;&gt;2 -->\n",
       "<g id=\"edge4\" class=\"edge\">\n",
       "<title>13&#45;&gt;2</title>\n",
       "<path fill=\"none\" stroke=\"#00ff00\" d=\"M212.1452,-79.9891C201.7387,-71.0016 188.9173,-59.9286 177.2768,-49.8754\"/>\n",
       "<polygon fill=\"#00ff00\" stroke=\"#00ff00\" points=\"179.3067,-47.0039 169.4508,-43.1166 174.7314,-52.3017 179.3067,-47.0039\"/>\n",
       "</g>\n",
       "<!-- 3&#45;&gt;4 -->\n",
       "<g id=\"edge6\" class=\"edge\">\n",
       "<title>3&#45;&gt;4</title>\n",
       "<path fill=\"none\" stroke=\"#ff0000\" d=\"M89.0944,-442.8936C81.6506,-432.5603 72.6263,-418.2081 68,-404 44.8004,-332.7504 45.123,-243.157 47.148,-198.3108\"/>\n",
       "<polygon fill=\"#ff0000\" stroke=\"#ff0000\" points=\"50.6515,-198.3328 47.6714,-188.1658 43.6608,-197.9721 50.6515,-198.3328\"/>\n",
       "</g>\n",
       "<!-- 5 -->\n",
       "<g id=\"node8\" class=\"node\">\n",
       "<title>5</title>\n",
       "<polygon fill=\"none\" stroke=\"#000000\" points=\"154,-404 76.581,-386 154,-368 231.419,-386 154,-404\"/>\n",
       "<text text-anchor=\"middle\" x=\"154\" y=\"-382.3\" font-family=\"Times,serif\" font-size=\"14.00\" fill=\"#000000\">4: if: n == 0</text>\n",
       "</g>\n",
       "<!-- 3&#45;&gt;5 -->\n",
       "<g id=\"edge7\" class=\"edge\">\n",
       "<title>3&#45;&gt;5</title>\n",
       "<path fill=\"none\" stroke=\"#00ff00\" d=\"M112.2399,-442.7307C119.2411,-433.2197 128.3979,-420.7802 136.3524,-409.9741\"/>\n",
       "<polygon fill=\"#00ff00\" stroke=\"#00ff00\" points=\"139.3003,-411.8733 142.4099,-401.7451 133.663,-407.7236 139.3003,-411.8733\"/>\n",
       "</g>\n",
       "<!-- 5&#45;&gt;6 -->\n",
       "<g id=\"edge8\" class=\"edge\">\n",
       "<title>5&#45;&gt;6</title>\n",
       "<path fill=\"none\" stroke=\"#ff0000\" d=\"M147.5059,-369.3008C144.2925,-361.0378 140.3301,-350.8488 136.6856,-341.4773\"/>\n",
       "<polygon fill=\"#ff0000\" stroke=\"#ff0000\" points=\"139.934,-340.1736 133.0475,-332.1222 133.41,-342.7108 139.934,-340.1736\"/>\n",
       "</g>\n",
       "<!-- 7 -->\n",
       "<g id=\"node9\" class=\"node\">\n",
       "<title>7</title>\n",
       "<polygon fill=\"none\" stroke=\"#000000\" points=\"259,-332 181.581,-314 259,-296 336.419,-314 259,-332\"/>\n",
       "<text text-anchor=\"middle\" x=\"259\" y=\"-310.3\" font-family=\"Times,serif\" font-size=\"14.00\" fill=\"#000000\">6: if: n == 1</text>\n",
       "</g>\n",
       "<!-- 5&#45;&gt;7 -->\n",
       "<g id=\"edge9\" class=\"edge\">\n",
       "<title>5&#45;&gt;7</title>\n",
       "<path fill=\"none\" stroke=\"#00ff00\" d=\"M173.7497,-372.4574C189.8822,-361.3951 212.884,-345.6224 230.9299,-333.2481\"/>\n",
       "<polygon fill=\"#00ff00\" stroke=\"#00ff00\" points=\"233.0709,-336.0238 239.3389,-327.4819 229.1122,-330.2507 233.0709,-336.0238\"/>\n",
       "</g>\n",
       "<!-- 7&#45;&gt;8 -->\n",
       "<g id=\"edge10\" class=\"edge\">\n",
       "<title>7&#45;&gt;8</title>\n",
       "<path fill=\"none\" stroke=\"#ff0000\" d=\"M245.6393,-298.7307C237.7529,-289.7176 227.5653,-278.0747 218.4736,-267.6841\"/>\n",
       "<polygon fill=\"#ff0000\" stroke=\"#ff0000\" points=\"221.01,-265.2677 211.7909,-260.0467 215.7419,-269.8773 221.01,-265.2677\"/>\n",
       "</g>\n",
       "<!-- 9 -->\n",
       "<g id=\"node10\" class=\"node\">\n",
       "<title>9</title>\n",
       "<polygon fill=\"none\" stroke=\"#000000\" points=\"314,-260 254,-260 254,-224 314,-224 314,-260\"/>\n",
       "<text text-anchor=\"middle\" x=\"284\" y=\"-238.3\" font-family=\"Times,serif\" font-size=\"14.00\" fill=\"#000000\">8: v = 1</text>\n",
       "</g>\n",
       "<!-- 7&#45;&gt;9 -->\n",
       "<g id=\"edge11\" class=\"edge\">\n",
       "<title>7&#45;&gt;9</title>\n",
       "<path fill=\"none\" stroke=\"#00ff00\" d=\"M264.7983,-297.3008C267.6372,-289.1248 271.1309,-279.0631 274.3564,-269.7735\"/>\n",
       "<polygon fill=\"#00ff00\" stroke=\"#00ff00\" points=\"277.7338,-270.717 277.7076,-260.1222 271.121,-268.4208 277.7338,-270.717\"/>\n",
       "</g>\n",
       "<!-- 10 -->\n",
       "<g id=\"node11\" class=\"node\">\n",
       "<title>10</title>\n",
       "<polygon fill=\"none\" stroke=\"#000000\" points=\"311,-188 216.1533,-170 311,-152 405.8467,-170 311,-188\"/>\n",
       "<text text-anchor=\"middle\" x=\"311\" y=\"-166.3\" font-family=\"Times,serif\" font-size=\"14.00\" fill=\"#000000\">9: while: n != 0</text>\n",
       "</g>\n",
       "<!-- 9&#45;&gt;10 -->\n",
       "<g id=\"edge12\" class=\"edge\">\n",
       "<title>9&#45;&gt;10</title>\n",
       "<path fill=\"none\" stroke=\"#00ff00\" d=\"M290.8132,-223.8314C293.9338,-215.51 297.692,-205.4881 301.1154,-196.3591\"/>\n",
       "<polygon fill=\"#00ff00\" stroke=\"#00ff00\" points=\"304.4185,-197.5185 304.6526,-186.9263 297.8642,-195.0606 304.4185,-197.5185\"/>\n",
       "</g>\n",
       "<!-- 10&#45;&gt;13 -->\n",
       "<g id=\"edge16\" class=\"edge\">\n",
       "<title>10&#45;&gt;13</title>\n",
       "<path fill=\"none\" stroke=\"#00ff00\" d=\"M294.4582,-154.7307C284.5026,-145.5409 271.5852,-133.6171 260.1638,-123.0743\"/>\n",
       "<polygon fill=\"#00ff00\" stroke=\"#00ff00\" points=\"262.2726,-120.2577 252.5506,-116.0467 257.5247,-125.4013 262.2726,-120.2577\"/>\n",
       "</g>\n",
       "<!-- 11 -->\n",
       "<g id=\"node13\" class=\"node\">\n",
       "<title>11</title>\n",
       "<polygon fill=\"none\" stroke=\"#000000\" points=\"380,-116 292,-116 292,-80 380,-80 380,-116\"/>\n",
       "<text text-anchor=\"middle\" x=\"336\" y=\"-94.3\" font-family=\"Times,serif\" font-size=\"14.00\" fill=\"#000000\">10: v = v * n</text>\n",
       "</g>\n",
       "<!-- 10&#45;&gt;11 -->\n",
       "<g id=\"edge14\" class=\"edge\">\n",
       "<title>10&#45;&gt;11</title>\n",
       "<path fill=\"none\" stroke=\"#00ff00\" d=\"M316.9247,-152.937C319.7452,-144.8137 323.1903,-134.892 326.3727,-125.7267\"/>\n",
       "<polygon fill=\"#00ff00\" stroke=\"#00ff00\" points=\"329.707,-126.794 329.6808,-116.1992 323.0943,-124.4978 329.707,-126.794\"/>\n",
       "</g>\n",
       "<!-- 12 -->\n",
       "<g id=\"node12\" class=\"node\">\n",
       "<title>12</title>\n",
       "<polygon fill=\"none\" stroke=\"#000000\" points=\"414.5,-40 329.5,-40 329.5,-4 414.5,-4 414.5,-40\"/>\n",
       "<text text-anchor=\"middle\" x=\"372\" y=\"-18.3\" font-family=\"Times,serif\" font-size=\"14.00\" fill=\"#000000\">11: n = n &#45; 1</text>\n",
       "</g>\n",
       "<!-- 12&#45;&gt;10 -->\n",
       "<g id=\"edge13\" class=\"edge\">\n",
       "<title>12&#45;&gt;10</title>\n",
       "<path fill=\"none\" stroke=\"#00ff00\" d=\"M381.7313,-40.0006C390.9666,-59.7185 401.6998,-91.7616 389,-116 380.7075,-131.8267 365.4361,-143.937 350.5897,-152.6385\"/>\n",
       "<polygon fill=\"#00ff00\" stroke=\"#00ff00\" points=\"348.5672,-149.755 341.4669,-157.6187 351.9213,-155.8992 348.5672,-149.755\"/>\n",
       "</g>\n",
       "<!-- 11&#45;&gt;12 -->\n",
       "<g id=\"edge15\" class=\"edge\">\n",
       "<title>11&#45;&gt;12</title>\n",
       "<path fill=\"none\" stroke=\"#00ff00\" d=\"M344.5315,-79.9891C348.8488,-70.8747 354.1821,-59.6155 358.9973,-49.4502\"/>\n",
       "<polygon fill=\"#00ff00\" stroke=\"#00ff00\" points=\"362.2871,-50.6807 363.405,-40.145 355.961,-47.6841 362.2871,-50.6807\"/>\n",
       "</g>\n",
       "</g>\n",
       "</svg>\n"
      ],
      "text/plain": [
       "<graphviz.files.Source at 0x7fe44a3ad898>"
      ]
     },
     "execution_count": 10,
     "metadata": {},
     "output_type": "execute_result"
    }
   ],
   "source": [
    "Source(to_graph(gen_cfg(inspect.getsource(factorial)), arcs=cov.arcs()))"
   ]
  },
  {
   "cell_type": "markdown",
   "metadata": {
    "slideshow": {
     "slide_type": "fragment"
    }
   },
   "source": [
    "We see that the path `[1, 2, 4, 6, 8, 9, 10, 11, 12]` is covered (green) but sub-paths such as  `[2, 3]`,  `[4, 5]` and `[6, 7]` are unexplored (red). What we need is the ability to generate inputs such that the `True` branch is taken at `2`. How do we do that?"
   ]
  },
  {
   "cell_type": "markdown",
   "metadata": {
    "slideshow": {
     "slide_type": "slide"
    },
    "toc-hr-collapsed": false
   },
   "source": [
    "## Concolic Execution\n",
    "\n",
    "One way is to look at the execution path being taken, and collect the conditional constraints that the path encounters. Then we can try to produce inputs that lead us to taking the non-traversed path."
   ]
  },
  {
   "cell_type": "markdown",
   "metadata": {
    "slideshow": {
     "slide_type": "fragment"
    }
   },
   "source": [
    "First, let us step through the function."
   ]
  },
  {
   "cell_type": "code",
   "execution_count": 11,
   "metadata": {
    "slideshow": {
     "slide_type": "fragment"
    }
   },
   "outputs": [],
   "source": [
    "lines = [i[1] for i in cov._trace if i[0] == 'factorial']\n",
    "src = {i + 1: s for i, s in enumerate(\n",
    "    inspect.getsource(factorial).split('\\n'))}"
   ]
  },
  {
   "cell_type": "markdown",
   "metadata": {
    "slideshow": {
     "slide_type": "fragment"
    }
   },
   "source": [
    "* The line (1) is simply the entry point of the function. We know that the input is `n`, which is an integer."
   ]
  },
  {
   "cell_type": "code",
   "execution_count": 12,
   "metadata": {
    "slideshow": {
     "slide_type": "fragment"
    }
   },
   "outputs": [
    {
     "data": {
      "text/plain": [
       "'def factorial(n):'"
      ]
     },
     "execution_count": 12,
     "metadata": {},
     "output_type": "execute_result"
    }
   ],
   "source": [
    "src[1]"
   ]
  },
  {
   "cell_type": "markdown",
   "metadata": {
    "slideshow": {
     "slide_type": "subslide"
    }
   },
   "source": [
    "* The line (2) is a predicate `n < 0`. Since the next line taken is line (4), we know that at this point in the execution path, the predicate was `false`."
   ]
  },
  {
   "cell_type": "code",
   "execution_count": 13,
   "metadata": {
    "slideshow": {
     "slide_type": "fragment"
    }
   },
   "outputs": [
    {
     "data": {
      "text/plain": [
       "('    if n < 0:', '        return None', '    if n == 0:')"
      ]
     },
     "execution_count": 13,
     "metadata": {},
     "output_type": "execute_result"
    }
   ],
   "source": [
    "src[2], src[3], src[4]"
   ]
  },
  {
   "cell_type": "markdown",
   "metadata": {
    "slideshow": {
     "slide_type": "fragment"
    }
   },
   "source": [
    "We notice that this is one of the predicates where the `true` branch was not taken. How do we generate a value that takes the `true` branch here? One way is to use symbolic variables to represent the input, encode the constraint, and use an *SMT Solver* to solve the negation of the constraint."
   ]
  },
  {
   "cell_type": "markdown",
   "metadata": {
    "slideshow": {
     "slide_type": "subslide"
    }
   },
   "source": [
    "As we mentioned in the introduction to the chapter, a symbolic variable can be thought of as a sort of placeholder for the real variable, sort of like the `x` in solving for `x` in Algebra. These variables can be used to encode constraints placed on the variables in the program. We identify what constraints the variable is supposed to obey, and finally produce a value that obeys all constraints imposed."
   ]
  },
  {
   "cell_type": "markdown",
   "metadata": {
    "slideshow": {
     "slide_type": "slide"
    }
   },
   "source": [
    "## SMT Solvers"
   ]
  },
  {
   "cell_type": "markdown",
   "metadata": {
    "slideshow": {
     "slide_type": "subslide"
    }
   },
   "source": [
    "To solve these constraints, one can use a _Satisfiability Modulo Theories_ (SMT) solver. An SMT solver is built on top of a _SATISFIABILITY_ (SAT) solver. A SAT solver is being used to check whether boolean formulas in first order logic (e.g `(a | b ) & (~a | ~b)`) can be satisfied using any assignments for the variables (e.g `a = true, b = false`). An SMT solver extends these SAT solvers to specific background theories -- for example, _theory of integers_, or _theory of strings_. That is, given a string constraint expressed as a formula with string variables (e.g `h + t == 'hello,world'`), an SMT solver that understands _theory of strings_ can be used to check if that constraint can be satisfied, and if satisfiable, provide an instantiation of concrete values for the variables used in the formula (e.g `h = 'hello,', t = 'world'`).\n",
    "\n",
    "We use the SMT solver, `Z3` in this chapter."
   ]
  },
  {
   "cell_type": "code",
   "execution_count": 14,
   "metadata": {
    "slideshow": {
     "slide_type": "skip"
    }
   },
   "outputs": [],
   "source": [
    "import z3"
   ]
  },
  {
   "cell_type": "markdown",
   "metadata": {
    "slideshow": {
     "slide_type": "subslide"
    }
   },
   "source": [
    "To ensure that the string constraints we use in this chapter are successfully evaluated, we need to specify the `z3str3` solver. Further, we set the timeout for Z3 computations to to 30 seconds."
   ]
  },
  {
   "cell_type": "code",
   "execution_count": 15,
   "metadata": {
    "slideshow": {
     "slide_type": "fragment"
    }
   },
   "outputs": [],
   "source": [
    "assert z3.get_version() >= (4, 8, 6, 0)\n",
    "z3.set_option('smt.string_solver', 'z3str3')\n",
    "z3.set_option('timeout', 30 * 1000)  # milliseconds"
   ]
  },
  {
   "cell_type": "markdown",
   "metadata": {
    "slideshow": {
     "slide_type": "fragment"
    }
   },
   "source": [
    "Encoding the constraint requires declaring a corresponding symbolic variable to the input `n`."
   ]
  },
  {
   "cell_type": "code",
   "execution_count": 16,
   "metadata": {
    "slideshow": {
     "slide_type": "fragment"
    }
   },
   "outputs": [],
   "source": [
    "zn = z3.Int('n')"
   ]
  },
  {
   "cell_type": "markdown",
   "metadata": {
    "slideshow": {
     "slide_type": "fragment"
    }
   },
   "source": [
    "Remember the constraint `(n < 0)` from line 2 in `factorial()`? We can now encode the constraint as follows. "
   ]
  },
  {
   "cell_type": "code",
   "execution_count": 17,
   "metadata": {
    "slideshow": {
     "slide_type": "fragment"
    }
   },
   "outputs": [
    {
     "data": {
      "text/html": [
       "n &lt; 0"
      ],
      "text/plain": [
       "n < 0"
      ]
     },
     "execution_count": 17,
     "metadata": {},
     "output_type": "execute_result"
    }
   ],
   "source": [
    "zn < 0"
   ]
  },
  {
   "cell_type": "markdown",
   "metadata": {
    "slideshow": {
     "slide_type": "subslide"
    }
   },
   "source": [
    "We previously traced `factorial(5)`. We saw that with input `5`, the execution took the `else` branch on the predicate `n < 0`. We can express this observation as follows."
   ]
  },
  {
   "cell_type": "code",
   "execution_count": 18,
   "metadata": {
    "slideshow": {
     "slide_type": "fragment"
    }
   },
   "outputs": [
    {
     "data": {
      "text/html": [
       "&not;(n &lt; 0)"
      ],
      "text/plain": [
       "Not(n < 0)"
      ]
     },
     "execution_count": 18,
     "metadata": {},
     "output_type": "execute_result"
    }
   ],
   "source": [
    "z3.Not(zn < 0)"
   ]
  },
  {
   "cell_type": "markdown",
   "metadata": {
    "slideshow": {
     "slide_type": "fragment"
    }
   },
   "source": [
    "The `z3.solve()` method can also be used to check if the constraints are satisfiable, and if they are, provide values for variables such that the constraints are satisfied. For example, we can ask z3 for an input that will take the `else` branch as follows:"
   ]
  },
  {
   "cell_type": "code",
   "execution_count": 19,
   "metadata": {
    "slideshow": {
     "slide_type": "fragment"
    }
   },
   "outputs": [
    {
     "name": "stdout",
     "output_type": "stream",
     "text": [
      "[n = 0]\n"
     ]
    }
   ],
   "source": [
    "z3.solve(z3.Not(zn < 0))"
   ]
  },
  {
   "cell_type": "markdown",
   "metadata": {
    "slideshow": {
     "slide_type": "fragment"
    }
   },
   "source": [
    "This is *a solution* (albeit a trivial one). SMT solvers can be used to solve much harder problems. For example, here is how one can solve a quadratic equation."
   ]
  },
  {
   "cell_type": "code",
   "execution_count": 20,
   "metadata": {
    "slideshow": {
     "slide_type": "subslide"
    }
   },
   "outputs": [
    {
     "name": "stdout",
     "output_type": "stream",
     "text": [
      "[x = 5]\n"
     ]
    }
   ],
   "source": [
    "x = z3.Real('x')\n",
    "eqn = (2 * x**2 - 11 * x + 5 == 0)\n",
    "z3.solve(eqn)"
   ]
  },
  {
   "cell_type": "markdown",
   "metadata": {
    "slideshow": {
     "slide_type": "fragment"
    }
   },
   "source": [
    "Again, this is _one solution_. We can ask z3 to give us another solution as follows."
   ]
  },
  {
   "cell_type": "code",
   "execution_count": 21,
   "metadata": {
    "slideshow": {
     "slide_type": "fragment"
    }
   },
   "outputs": [
    {
     "name": "stdout",
     "output_type": "stream",
     "text": [
      "[x = 1/2]\n"
     ]
    }
   ],
   "source": [
    "z3.solve(x != 5, eqn)"
   ]
  },
  {
   "cell_type": "markdown",
   "metadata": {
    "slideshow": {
     "slide_type": "fragment"
    }
   },
   "source": [
    "Indeed, both `x = 5` and `x = 1/2` are solutions to the quadratic equation $ 2x^2 -11x + 5 = 0 $"
   ]
  },
  {
   "cell_type": "markdown",
   "metadata": {
    "slideshow": {
     "slide_type": "fragment"
    }
   },
   "source": [
    "Similarly, we can ask *Z3* for an input that satisfies the constraint encoded in line 2 of `factorial()` so that we take the `if` branch."
   ]
  },
  {
   "cell_type": "code",
   "execution_count": 22,
   "metadata": {
    "slideshow": {
     "slide_type": "subslide"
    }
   },
   "outputs": [
    {
     "name": "stdout",
     "output_type": "stream",
     "text": [
      "[n = -1]\n"
     ]
    }
   ],
   "source": [
    "z3.solve(zn < 0)"
   ]
  },
  {
   "cell_type": "markdown",
   "metadata": {
    "slideshow": {
     "slide_type": "fragment"
    }
   },
   "source": [
    "That is, if one uses `-1` as an input to `factorial()`, it is guaranteed to take the `if` branch in line 2 during execution."
   ]
  },
  {
   "cell_type": "markdown",
   "metadata": {
    "slideshow": {
     "slide_type": "fragment"
    }
   },
   "source": [
    "Let us try using that with our coverage. Here, the `-1` is the solution from above."
   ]
  },
  {
   "cell_type": "code",
   "execution_count": 23,
   "metadata": {
    "slideshow": {
     "slide_type": "fragment"
    }
   },
   "outputs": [],
   "source": [
    "with cov as cov:\n",
    "    factorial(-1)"
   ]
  },
  {
   "cell_type": "code",
   "execution_count": 24,
   "metadata": {
    "slideshow": {
     "slide_type": "fragment"
    }
   },
   "outputs": [
    {
     "data": {
      "image/svg+xml": [
       "<?xml version=\"1.0\" encoding=\"UTF-8\" standalone=\"no\"?>\n",
       "<!DOCTYPE svg PUBLIC \"-//W3C//DTD SVG 1.1//EN\"\n",
       " \"http://www.w3.org/Graphics/SVG/1.1/DTD/svg11.dtd\">\n",
       "<!-- Generated by graphviz version 2.40.1 (20161225.0304)\n",
       " -->\n",
       "<!-- Title: %3 Pages: 1 -->\n",
       "<svg width=\"423pt\" height=\"564pt\"\n",
       " viewBox=\"0.00 0.00 422.50 564.00\" xmlns=\"http://www.w3.org/2000/svg\" xmlns:xlink=\"http://www.w3.org/1999/xlink\">\n",
       "<g id=\"graph0\" class=\"graph\" transform=\"scale(1 1) rotate(0) translate(4 560)\">\n",
       "<title>%3</title>\n",
       "<polygon fill=\"#ffffff\" stroke=\"transparent\" points=\"-4,4 -4,-560 418.5,-560 418.5,4 -4,4\"/>\n",
       "<!-- 1 -->\n",
       "<g id=\"node1\" class=\"node\">\n",
       "<title>1</title>\n",
       "<ellipse fill=\"none\" stroke=\"#000000\" cx=\"101\" cy=\"-534\" rx=\"83.6926\" ry=\"18\"/>\n",
       "<ellipse fill=\"none\" stroke=\"#000000\" cx=\"101\" cy=\"-534\" rx=\"87.6854\" ry=\"22\"/>\n",
       "<text text-anchor=\"middle\" x=\"101\" y=\"-530.3\" font-family=\"Times,serif\" font-size=\"14.00\" fill=\"#000000\">1: enter: factorial(n)</text>\n",
       "</g>\n",
       "<!-- 3 -->\n",
       "<g id=\"node7\" class=\"node\">\n",
       "<title>3</title>\n",
       "<polygon fill=\"none\" stroke=\"#000000\" points=\"101,-476 31.2878,-458 101,-440 170.7122,-458 101,-476\"/>\n",
       "<text text-anchor=\"middle\" x=\"101\" y=\"-454.3\" font-family=\"Times,serif\" font-size=\"14.00\" fill=\"#000000\">2: if: n &lt; 0</text>\n",
       "</g>\n",
       "<!-- 1&#45;&gt;3 -->\n",
       "<g id=\"edge5\" class=\"edge\">\n",
       "<title>1&#45;&gt;3</title>\n",
       "<path fill=\"none\" stroke=\"#00ff00\" d=\"M101,-511.6086C101,-503.7272 101,-494.7616 101,-486.4482\"/>\n",
       "<polygon fill=\"#00ff00\" stroke=\"#00ff00\" points=\"104.5001,-486.3974 101,-476.3975 97.5001,-486.3975 104.5001,-486.3974\"/>\n",
       "</g>\n",
       "<!-- 2 -->\n",
       "<g id=\"node2\" class=\"node\">\n",
       "<title>2</title>\n",
       "<ellipse fill=\"none\" stroke=\"#000000\" cx=\"145\" cy=\"-22\" rx=\"79.0964\" ry=\"18\"/>\n",
       "<ellipse fill=\"none\" stroke=\"#000000\" cx=\"145\" cy=\"-22\" rx=\"83.0864\" ry=\"22\"/>\n",
       "<text text-anchor=\"middle\" x=\"145\" y=\"-18.3\" font-family=\"Times,serif\" font-size=\"14.00\" fill=\"#000000\">1: exit: factorial(n)</text>\n",
       "</g>\n",
       "<!-- 4 -->\n",
       "<g id=\"node3\" class=\"node\">\n",
       "<title>4</title>\n",
       "<polygon fill=\"none\" stroke=\"#000000\" points=\"98,-188 0,-188 0,-152 98,-152 98,-188\"/>\n",
       "<text text-anchor=\"middle\" x=\"49\" y=\"-166.3\" font-family=\"Times,serif\" font-size=\"14.00\" fill=\"#000000\">3: return None</text>\n",
       "</g>\n",
       "<!-- 4&#45;&gt;2 -->\n",
       "<g id=\"edge1\" class=\"edge\">\n",
       "<title>4&#45;&gt;2</title>\n",
       "<path fill=\"none\" stroke=\"#00ff00\" d=\"M60.7715,-151.8523C76.812,-127.1232 105.7573,-82.4992 125.177,-52.5605\"/>\n",
       "<polygon fill=\"#00ff00\" stroke=\"#00ff00\" points=\"128.1222,-54.4514 130.6278,-44.1571 122.2495,-50.642 128.1222,-54.4514\"/>\n",
       "</g>\n",
       "<!-- 6 -->\n",
       "<g id=\"node4\" class=\"node\">\n",
       "<title>6</title>\n",
       "<polygon fill=\"none\" stroke=\"#000000\" points=\"163.5,-332 88.5,-332 88.5,-296 163.5,-296 163.5,-332\"/>\n",
       "<text text-anchor=\"middle\" x=\"126\" y=\"-310.3\" font-family=\"Times,serif\" font-size=\"14.00\" fill=\"#000000\">5: return 1</text>\n",
       "</g>\n",
       "<!-- 6&#45;&gt;2 -->\n",
       "<g id=\"edge2\" class=\"edge\">\n",
       "<title>6&#45;&gt;2</title>\n",
       "<path fill=\"none\" stroke=\"#ff0000\" d=\"M127.1885,-295.7341C130.3308,-247.4429 138.89,-115.9016 142.8887,-54.4467\"/>\n",
       "<polygon fill=\"#ff0000\" stroke=\"#ff0000\" points=\"146.4007,-54.3746 143.5575,-44.1684 139.4155,-53.92 146.4007,-54.3746\"/>\n",
       "</g>\n",
       "<!-- 8 -->\n",
       "<g id=\"node5\" class=\"node\">\n",
       "<title>8</title>\n",
       "<polygon fill=\"none\" stroke=\"#000000\" points=\"233.5,-260 158.5,-260 158.5,-224 233.5,-224 233.5,-260\"/>\n",
       "<text text-anchor=\"middle\" x=\"196\" y=\"-238.3\" font-family=\"Times,serif\" font-size=\"14.00\" fill=\"#000000\">7: return 1</text>\n",
       "</g>\n",
       "<!-- 8&#45;&gt;2 -->\n",
       "<g id=\"edge3\" class=\"edge\">\n",
       "<title>8&#45;&gt;2</title>\n",
       "<path fill=\"none\" stroke=\"#ff0000\" d=\"M191.8265,-223.9965C183.2009,-186.788 163.3088,-100.9792 152.4329,-54.0635\"/>\n",
       "<polygon fill=\"#ff0000\" stroke=\"#ff0000\" points=\"155.7967,-53.0752 150.1287,-44.124 148.9775,-54.6561 155.7967,-53.0752\"/>\n",
       "</g>\n",
       "<!-- 13 -->\n",
       "<g id=\"node6\" class=\"node\">\n",
       "<title>13</title>\n",
       "<polygon fill=\"none\" stroke=\"#000000\" points=\"274,-116 192,-116 192,-80 274,-80 274,-116\"/>\n",
       "<text text-anchor=\"middle\" x=\"233\" y=\"-94.3\" font-family=\"Times,serif\" font-size=\"14.00\" fill=\"#000000\">12: return v</text>\n",
       "</g>\n",
       "<!-- 13&#45;&gt;2 -->\n",
       "<g id=\"edge4\" class=\"edge\">\n",
       "<title>13&#45;&gt;2</title>\n",
       "<path fill=\"none\" stroke=\"#00ff00\" d=\"M212.1452,-79.9891C201.7387,-71.0016 188.9173,-59.9286 177.2768,-49.8754\"/>\n",
       "<polygon fill=\"#00ff00\" stroke=\"#00ff00\" points=\"179.3067,-47.0039 169.4508,-43.1166 174.7314,-52.3017 179.3067,-47.0039\"/>\n",
       "</g>\n",
       "<!-- 3&#45;&gt;4 -->\n",
       "<g id=\"edge6\" class=\"edge\">\n",
       "<title>3&#45;&gt;4</title>\n",
       "<path fill=\"none\" stroke=\"#00ff00\" d=\"M89.0944,-442.8936C81.6506,-432.5603 72.6263,-418.2081 68,-404 44.8004,-332.7504 45.123,-243.157 47.148,-198.3108\"/>\n",
       "<polygon fill=\"#00ff00\" stroke=\"#00ff00\" points=\"50.6515,-198.3328 47.6714,-188.1658 43.6608,-197.9721 50.6515,-198.3328\"/>\n",
       "</g>\n",
       "<!-- 5 -->\n",
       "<g id=\"node8\" class=\"node\">\n",
       "<title>5</title>\n",
       "<polygon fill=\"none\" stroke=\"#000000\" points=\"154,-404 76.581,-386 154,-368 231.419,-386 154,-404\"/>\n",
       "<text text-anchor=\"middle\" x=\"154\" y=\"-382.3\" font-family=\"Times,serif\" font-size=\"14.00\" fill=\"#000000\">4: if: n == 0</text>\n",
       "</g>\n",
       "<!-- 3&#45;&gt;5 -->\n",
       "<g id=\"edge7\" class=\"edge\">\n",
       "<title>3&#45;&gt;5</title>\n",
       "<path fill=\"none\" stroke=\"#00ff00\" d=\"M112.2399,-442.7307C119.2411,-433.2197 128.3979,-420.7802 136.3524,-409.9741\"/>\n",
       "<polygon fill=\"#00ff00\" stroke=\"#00ff00\" points=\"139.3003,-411.8733 142.4099,-401.7451 133.663,-407.7236 139.3003,-411.8733\"/>\n",
       "</g>\n",
       "<!-- 5&#45;&gt;6 -->\n",
       "<g id=\"edge8\" class=\"edge\">\n",
       "<title>5&#45;&gt;6</title>\n",
       "<path fill=\"none\" stroke=\"#ff0000\" d=\"M147.5059,-369.3008C144.2925,-361.0378 140.3301,-350.8488 136.6856,-341.4773\"/>\n",
       "<polygon fill=\"#ff0000\" stroke=\"#ff0000\" points=\"139.934,-340.1736 133.0475,-332.1222 133.41,-342.7108 139.934,-340.1736\"/>\n",
       "</g>\n",
       "<!-- 7 -->\n",
       "<g id=\"node9\" class=\"node\">\n",
       "<title>7</title>\n",
       "<polygon fill=\"none\" stroke=\"#000000\" points=\"259,-332 181.581,-314 259,-296 336.419,-314 259,-332\"/>\n",
       "<text text-anchor=\"middle\" x=\"259\" y=\"-310.3\" font-family=\"Times,serif\" font-size=\"14.00\" fill=\"#000000\">6: if: n == 1</text>\n",
       "</g>\n",
       "<!-- 5&#45;&gt;7 -->\n",
       "<g id=\"edge9\" class=\"edge\">\n",
       "<title>5&#45;&gt;7</title>\n",
       "<path fill=\"none\" stroke=\"#00ff00\" d=\"M173.7497,-372.4574C189.8822,-361.3951 212.884,-345.6224 230.9299,-333.2481\"/>\n",
       "<polygon fill=\"#00ff00\" stroke=\"#00ff00\" points=\"233.0709,-336.0238 239.3389,-327.4819 229.1122,-330.2507 233.0709,-336.0238\"/>\n",
       "</g>\n",
       "<!-- 7&#45;&gt;8 -->\n",
       "<g id=\"edge10\" class=\"edge\">\n",
       "<title>7&#45;&gt;8</title>\n",
       "<path fill=\"none\" stroke=\"#ff0000\" d=\"M245.6393,-298.7307C237.7529,-289.7176 227.5653,-278.0747 218.4736,-267.6841\"/>\n",
       "<polygon fill=\"#ff0000\" stroke=\"#ff0000\" points=\"221.01,-265.2677 211.7909,-260.0467 215.7419,-269.8773 221.01,-265.2677\"/>\n",
       "</g>\n",
       "<!-- 9 -->\n",
       "<g id=\"node10\" class=\"node\">\n",
       "<title>9</title>\n",
       "<polygon fill=\"none\" stroke=\"#000000\" points=\"314,-260 254,-260 254,-224 314,-224 314,-260\"/>\n",
       "<text text-anchor=\"middle\" x=\"284\" y=\"-238.3\" font-family=\"Times,serif\" font-size=\"14.00\" fill=\"#000000\">8: v = 1</text>\n",
       "</g>\n",
       "<!-- 7&#45;&gt;9 -->\n",
       "<g id=\"edge11\" class=\"edge\">\n",
       "<title>7&#45;&gt;9</title>\n",
       "<path fill=\"none\" stroke=\"#00ff00\" d=\"M264.7983,-297.3008C267.6372,-289.1248 271.1309,-279.0631 274.3564,-269.7735\"/>\n",
       "<polygon fill=\"#00ff00\" stroke=\"#00ff00\" points=\"277.7338,-270.717 277.7076,-260.1222 271.121,-268.4208 277.7338,-270.717\"/>\n",
       "</g>\n",
       "<!-- 10 -->\n",
       "<g id=\"node11\" class=\"node\">\n",
       "<title>10</title>\n",
       "<polygon fill=\"none\" stroke=\"#000000\" points=\"311,-188 216.1533,-170 311,-152 405.8467,-170 311,-188\"/>\n",
       "<text text-anchor=\"middle\" x=\"311\" y=\"-166.3\" font-family=\"Times,serif\" font-size=\"14.00\" fill=\"#000000\">9: while: n != 0</text>\n",
       "</g>\n",
       "<!-- 9&#45;&gt;10 -->\n",
       "<g id=\"edge12\" class=\"edge\">\n",
       "<title>9&#45;&gt;10</title>\n",
       "<path fill=\"none\" stroke=\"#00ff00\" d=\"M290.8132,-223.8314C293.9338,-215.51 297.692,-205.4881 301.1154,-196.3591\"/>\n",
       "<polygon fill=\"#00ff00\" stroke=\"#00ff00\" points=\"304.4185,-197.5185 304.6526,-186.9263 297.8642,-195.0606 304.4185,-197.5185\"/>\n",
       "</g>\n",
       "<!-- 10&#45;&gt;13 -->\n",
       "<g id=\"edge16\" class=\"edge\">\n",
       "<title>10&#45;&gt;13</title>\n",
       "<path fill=\"none\" stroke=\"#00ff00\" d=\"M294.4582,-154.7307C284.5026,-145.5409 271.5852,-133.6171 260.1638,-123.0743\"/>\n",
       "<polygon fill=\"#00ff00\" stroke=\"#00ff00\" points=\"262.2726,-120.2577 252.5506,-116.0467 257.5247,-125.4013 262.2726,-120.2577\"/>\n",
       "</g>\n",
       "<!-- 11 -->\n",
       "<g id=\"node13\" class=\"node\">\n",
       "<title>11</title>\n",
       "<polygon fill=\"none\" stroke=\"#000000\" points=\"380,-116 292,-116 292,-80 380,-80 380,-116\"/>\n",
       "<text text-anchor=\"middle\" x=\"336\" y=\"-94.3\" font-family=\"Times,serif\" font-size=\"14.00\" fill=\"#000000\">10: v = v * n</text>\n",
       "</g>\n",
       "<!-- 10&#45;&gt;11 -->\n",
       "<g id=\"edge14\" class=\"edge\">\n",
       "<title>10&#45;&gt;11</title>\n",
       "<path fill=\"none\" stroke=\"#00ff00\" d=\"M316.9247,-152.937C319.7452,-144.8137 323.1903,-134.892 326.3727,-125.7267\"/>\n",
       "<polygon fill=\"#00ff00\" stroke=\"#00ff00\" points=\"329.707,-126.794 329.6808,-116.1992 323.0943,-124.4978 329.707,-126.794\"/>\n",
       "</g>\n",
       "<!-- 12 -->\n",
       "<g id=\"node12\" class=\"node\">\n",
       "<title>12</title>\n",
       "<polygon fill=\"none\" stroke=\"#000000\" points=\"414.5,-40 329.5,-40 329.5,-4 414.5,-4 414.5,-40\"/>\n",
       "<text text-anchor=\"middle\" x=\"372\" y=\"-18.3\" font-family=\"Times,serif\" font-size=\"14.00\" fill=\"#000000\">11: n = n &#45; 1</text>\n",
       "</g>\n",
       "<!-- 12&#45;&gt;10 -->\n",
       "<g id=\"edge13\" class=\"edge\">\n",
       "<title>12&#45;&gt;10</title>\n",
       "<path fill=\"none\" stroke=\"#00ff00\" d=\"M381.7313,-40.0006C390.9666,-59.7185 401.6998,-91.7616 389,-116 380.7075,-131.8267 365.4361,-143.937 350.5897,-152.6385\"/>\n",
       "<polygon fill=\"#00ff00\" stroke=\"#00ff00\" points=\"348.5672,-149.755 341.4669,-157.6187 351.9213,-155.8992 348.5672,-149.755\"/>\n",
       "</g>\n",
       "<!-- 11&#45;&gt;12 -->\n",
       "<g id=\"edge15\" class=\"edge\">\n",
       "<title>11&#45;&gt;12</title>\n",
       "<path fill=\"none\" stroke=\"#00ff00\" d=\"M344.5315,-79.9891C348.8488,-70.8747 354.1821,-59.6155 358.9973,-49.4502\"/>\n",
       "<polygon fill=\"#00ff00\" stroke=\"#00ff00\" points=\"362.2871,-50.6807 363.405,-40.145 355.961,-47.6841 362.2871,-50.6807\"/>\n",
       "</g>\n",
       "</g>\n",
       "</svg>\n"
      ],
      "text/plain": [
       "<graphviz.files.Source at 0x7fe44b129550>"
      ]
     },
     "execution_count": 24,
     "metadata": {},
     "output_type": "execute_result"
    }
   ],
   "source": [
    "Source(to_graph(gen_cfg(inspect.getsource(factorial)), arcs=cov.arcs()))"
   ]
  },
  {
   "cell_type": "markdown",
   "metadata": {
    "slideshow": {
     "slide_type": "subslide"
    }
   },
   "source": [
    "Ok, so we have managed to cover a little more of the graph. Let us continue with our original input of `factorial(5)`:\n",
    "* In line (4) we encounter a new predicate `n == 0`, for which we again took the false branch."
   ]
  },
  {
   "cell_type": "code",
   "execution_count": 25,
   "metadata": {
    "slideshow": {
     "slide_type": "fragment"
    }
   },
   "outputs": [
    {
     "data": {
      "text/plain": [
       "'    if n == 0:'"
      ]
     },
     "execution_count": 25,
     "metadata": {},
     "output_type": "execute_result"
    }
   ],
   "source": [
    "src[4]"
   ]
  },
  {
   "cell_type": "markdown",
   "metadata": {
    "slideshow": {
     "slide_type": "fragment"
    }
   },
   "source": [
    "The predicates required, to follow the path until this point are as follows."
   ]
  },
  {
   "cell_type": "code",
   "execution_count": 26,
   "metadata": {
    "slideshow": {
     "slide_type": "fragment"
    }
   },
   "outputs": [],
   "source": [
    "predicates = [z3.Not(zn < 0), z3.Not(zn == 0)]"
   ]
  },
  {
   "cell_type": "markdown",
   "metadata": {
    "slideshow": {
     "slide_type": "fragment"
    }
   },
   "source": [
    "* If we continue to line (6), we encounter another predicate, for which again, we took the `false` branch"
   ]
  },
  {
   "cell_type": "code",
   "execution_count": 27,
   "metadata": {
    "slideshow": {
     "slide_type": "fragment"
    }
   },
   "outputs": [
    {
     "data": {
      "text/plain": [
       "'    if n == 1:'"
      ]
     },
     "execution_count": 27,
     "metadata": {},
     "output_type": "execute_result"
    }
   ],
   "source": [
    "src[6]"
   ]
  },
  {
   "cell_type": "markdown",
   "metadata": {
    "slideshow": {
     "slide_type": "fragment"
    }
   },
   "source": [
    "The predicates encountered so far are as follows"
   ]
  },
  {
   "cell_type": "code",
   "execution_count": 28,
   "metadata": {
    "slideshow": {
     "slide_type": "subslide"
    }
   },
   "outputs": [],
   "source": [
    "predicates = [z3.Not(zn < 0), z3.Not(zn == 0), z3.Not(zn == 1)]"
   ]
  },
  {
   "cell_type": "markdown",
   "metadata": {
    "slideshow": {
     "slide_type": "fragment"
    }
   },
   "source": [
    "To take the branch at (6), we essentially have to obey the predicates until that point, but invert the last predicate."
   ]
  },
  {
   "cell_type": "code",
   "execution_count": 29,
   "metadata": {
    "slideshow": {
     "slide_type": "fragment"
    }
   },
   "outputs": [
    {
     "name": "stdout",
     "output_type": "stream",
     "text": [
      "[n = 1]\n"
     ]
    }
   ],
   "source": [
    "last = len(predicates) - 1\n",
    "z3.solve(predicates[0:-1] + [z3.Not(predicates[-1])])"
   ]
  },
  {
   "cell_type": "markdown",
   "metadata": {
    "slideshow": {
     "slide_type": "subslide"
    }
   },
   "source": [
    "What we are doing here is tracing the execution corresponding to a particular input `factorial(5)`, using concrete values, and along with it, keeping *symbolic shadow variables* that enable us to capture the constraints. As we mentioned in the introduction, this particular method of execution where one tracks concrete  execution using symbolic variables is called *Concolic Execution*.\n",
    "\n",
    "How do we automate this process? One method is to use a similar infrastructure as that of the chapter on [information flow](InformationFlow.ipynb), and use the Python inheritance to create symbolic proxy objects that can track the concrete execution."
   ]
  },
  {
   "cell_type": "markdown",
   "metadata": {
    "slideshow": {
     "slide_type": "slide"
    },
    "toc-hr-collapsed": true
   },
   "source": [
    "## A Concolic Tracer\n",
    "\n",
    "Given that there is a symbolic context under which the program is executed (that is the symbolic variables that are used in the program execution) we define a context manager called `ConcolicTracer` that keeps track of the context."
   ]
  },
  {
   "cell_type": "markdown",
   "metadata": {
    "slideshow": {
     "slide_type": "fragment"
    }
   },
   "source": [
    "The `ConcolicTracer` accepts a single argument which contains the declarations for the symbolic variables seen so far, and the pre-conditions if any."
   ]
  },
  {
   "cell_type": "code",
   "execution_count": 30,
   "metadata": {
    "slideshow": {
     "slide_type": "fragment"
    }
   },
   "outputs": [],
   "source": [
    "class ConcolicTracer:\n",
    "    def __init__(self, context=None):\n",
    "        self.context = context if context is not None else ({}, [])\n",
    "        self.decls, self.path = self.context"
   ]
  },
  {
   "cell_type": "markdown",
   "metadata": {
    "slideshow": {
     "slide_type": "fragment"
    }
   },
   "source": [
    "We add the `enter` and `exit` methods for the context manager."
   ]
  },
  {
   "cell_type": "code",
   "execution_count": 31,
   "metadata": {
    "slideshow": {
     "slide_type": "subslide"
    }
   },
   "outputs": [],
   "source": [
    "class ConcolicTracer(ConcolicTracer):\n",
    "    def __enter__(self):\n",
    "        return self\n",
    "\n",
    "    def __exit__(self, exc_type, exc_value, tb):\n",
    "        return"
   ]
  },
  {
   "cell_type": "markdown",
   "metadata": {
    "slideshow": {
     "slide_type": "fragment"
    }
   },
   "source": [
    "We use introspection to determine the arguments to the function, which is hooked into the `getitem` method."
   ]
  },
  {
   "cell_type": "code",
   "execution_count": 32,
   "metadata": {
    "slideshow": {
     "slide_type": "fragment"
    }
   },
   "outputs": [],
   "source": [
    "class ConcolicTracer(ConcolicTracer):\n",
    "    def __getitem__(self, fn):\n",
    "        self.fn = fn\n",
    "        self.fn_args = {i: None for i in inspect.signature(fn).parameters}\n",
    "        return self"
   ]
  },
  {
   "cell_type": "markdown",
   "metadata": {
    "slideshow": {
     "slide_type": "fragment"
    }
   },
   "source": [
    "Finally, the function itself is invoked using the `call` method."
   ]
  },
  {
   "cell_type": "code",
   "execution_count": 33,
   "metadata": {
    "slideshow": {
     "slide_type": "subslide"
    }
   },
   "outputs": [],
   "source": [
    "class ConcolicTracer(ConcolicTracer):\n",
    "    def __call__(self, *args):\n",
    "        self.result = self.fn(*self.concolic(args))\n",
    "        return self.result"
   ]
  },
  {
   "cell_type": "markdown",
   "metadata": {
    "slideshow": {
     "slide_type": "fragment"
    }
   },
   "source": [
    "For now, we define `concolic()` as a transparent function. It will be modified to produce symbolic variables later."
   ]
  },
  {
   "cell_type": "code",
   "execution_count": 34,
   "metadata": {
    "slideshow": {
     "slide_type": "fragment"
    }
   },
   "outputs": [],
   "source": [
    "class ConcolicTracer(ConcolicTracer):\n",
    "    def concolic(self, args):\n",
    "        return args"
   ]
  },
  {
   "cell_type": "markdown",
   "metadata": {
    "slideshow": {
     "slide_type": "fragment"
    }
   },
   "source": [
    "It can be used as follows"
   ]
  },
  {
   "cell_type": "code",
   "execution_count": 35,
   "metadata": {
    "slideshow": {
     "slide_type": "fragment"
    }
   },
   "outputs": [],
   "source": [
    "with ConcolicTracer() as _:\n",
    "    _[factorial](1)"
   ]
  },
  {
   "cell_type": "code",
   "execution_count": 36,
   "metadata": {
    "slideshow": {
     "slide_type": "fragment"
    }
   },
   "outputs": [
    {
     "data": {
      "text/plain": [
       "({}, [])"
      ]
     },
     "execution_count": 36,
     "metadata": {},
     "output_type": "execute_result"
    }
   ],
   "source": [
    "_.context"
   ]
  },
  {
   "cell_type": "markdown",
   "metadata": {
    "slideshow": {
     "slide_type": "subslide"
    }
   },
   "source": [
    "The `context` is empty as we are yet to hook up the necessary infrastructure to `ConcolicTracer`."
   ]
  },
  {
   "cell_type": "markdown",
   "metadata": {
    "slideshow": {
     "slide_type": "subslide"
    },
    "toc-hr-collapsed": true
   },
   "source": [
    "### Concolic Proxy Objects\n",
    "\n",
    "We now define the concolic proxy objects that can be used for concolic tracing. First, we define the `zproxy_create()` method that given a class name, correctly creates an instance of that class, and the symbolic corresponding variable, and registers the symbolic variable in the context information `context`."
   ]
  },
  {
   "cell_type": "code",
   "execution_count": 37,
   "metadata": {
    "slideshow": {
     "slide_type": "fragment"
    }
   },
   "outputs": [],
   "source": [
    "def zproxy_create(cls, sname, z3var, context, zn, v=None):\n",
    "    zv = cls(context, z3var(zn), v)\n",
    "    context[0][zn] = sname\n",
    "    return zv"
   ]
  },
  {
   "cell_type": "markdown",
   "metadata": {
    "slideshow": {
     "slide_type": "subslide"
    },
    "toc-hr-collapsed": false
   },
   "source": [
    "#### A Proxy Class for Booleans\n",
    "\n",
    "First, we define the `zbool` class which is used to track the predicates encountered. It is a wrapper class that contains both symbolic (`z`) as well as concrete (`v`) values. The concrete value is used to determine which path to take, and the symbolic value is used to collect the predicates encountered.\n",
    "\n",
    "The initialization is done in two parts. The first one is using `zproxy_create()` to correctly initialize and register the shadow symbolic variable corresponding to the passed argument. This is used exclusively when the symbolic variable needs to be initialized first. In all other cases, the constructor is called with the preexisting symbolic value."
   ]
  },
  {
   "cell_type": "code",
   "execution_count": 38,
   "metadata": {
    "slideshow": {
     "slide_type": "subslide"
    }
   },
   "outputs": [],
   "source": [
    "class zbool:\n",
    "    @classmethod\n",
    "    def create(cls, context, zn, v):\n",
    "        return zproxy_create(cls, 'Bool', z3.Bool, context, zn, v)\n",
    "\n",
    "    def __init__(self, context, z, v=None):\n",
    "        self.context, self.z, self.v = context, z, v\n",
    "        self.decl, self.path = self.context"
   ]
  },
  {
   "cell_type": "markdown",
   "metadata": {
    "slideshow": {
     "slide_type": "fragment"
    }
   },
   "source": [
    "Here is how it can be used."
   ]
  },
  {
   "cell_type": "code",
   "execution_count": 39,
   "metadata": {
    "slideshow": {
     "slide_type": "subslide"
    }
   },
   "outputs": [
    {
     "name": "stdout",
     "output_type": "stream",
     "text": [
      "my_bool_arg True\n"
     ]
    },
    {
     "data": {
      "text/plain": [
       "({'my_bool_arg': 'Bool'}, [])"
      ]
     },
     "execution_count": 39,
     "metadata": {},
     "output_type": "execute_result"
    }
   ],
   "source": [
    "with ConcolicTracer() as _:\n",
    "    za, zb = z3.Ints('a b')\n",
    "    val = zbool.create(_.context, 'my_bool_arg', True)\n",
    "    print(val.z, val.v)\n",
    "_.context"
   ]
  },
  {
   "cell_type": "markdown",
   "metadata": {
    "slideshow": {
     "slide_type": "subslide"
    }
   },
   "source": [
    "##### Negation of Encoded formula\n",
    "\n",
    "The `zbool` class allows negation of its concrete and symbolic values."
   ]
  },
  {
   "cell_type": "code",
   "execution_count": 40,
   "metadata": {
    "slideshow": {
     "slide_type": "fragment"
    }
   },
   "outputs": [],
   "source": [
    "class zbool(zbool):\n",
    "    def __not__(self):\n",
    "        return zbool(self.context, z3.Not(self.z), not self.v)"
   ]
  },
  {
   "cell_type": "markdown",
   "metadata": {
    "slideshow": {
     "slide_type": "fragment"
    }
   },
   "source": [
    "Here is how it can be used."
   ]
  },
  {
   "cell_type": "code",
   "execution_count": 41,
   "metadata": {
    "slideshow": {
     "slide_type": "fragment"
    }
   },
   "outputs": [
    {
     "name": "stdout",
     "output_type": "stream",
     "text": [
      "Not(my_bool_arg) False\n"
     ]
    },
    {
     "data": {
      "text/plain": [
       "({'my_bool_arg': 'Bool'}, [])"
      ]
     },
     "execution_count": 41,
     "metadata": {},
     "output_type": "execute_result"
    }
   ],
   "source": [
    "with ConcolicTracer() as _:\n",
    "    val = zbool.create(_.context, 'my_bool_arg', True).__not__()\n",
    "    print(val.z, val.v)\n",
    "_.context"
   ]
  },
  {
   "cell_type": "markdown",
   "metadata": {
    "slideshow": {
     "slide_type": "subslide"
    }
   },
   "source": [
    "##### Registering Predicates on Conditionals\n",
    "\n",
    "The `zbool` class is being used to track boolean conditions that arise during program execution. It tracks such conditions by registering the corresponding symbolic expressions in the context."
   ]
  },
  {
   "cell_type": "code",
   "execution_count": 42,
   "metadata": {
    "slideshow": {
     "slide_type": "fragment"
    }
   },
   "outputs": [],
   "source": [
    "class zbool(zbool):\n",
    "    def __bool__(self):\n",
    "        r, pred = (True, self.z) if self.v else (False, z3.Not(self.z))\n",
    "        self.path.append(pred)\n",
    "        return r"
   ]
  },
  {
   "cell_type": "markdown",
   "metadata": {
    "slideshow": {
     "slide_type": "fragment"
    }
   },
   "source": [
    "The `zbool` class can be used to keep track of boolean values and conditions encountered during the execution. For example, we can encode the conditions encountered by line 6 in `factorial()` as follows:"
   ]
  },
  {
   "cell_type": "markdown",
   "metadata": {
    "slideshow": {
     "slide_type": "subslide"
    }
   },
   "source": [
    "First, we define the concrete value (`ca`), and its shadow symbolic variable (`za`)."
   ]
  },
  {
   "cell_type": "code",
   "execution_count": 43,
   "metadata": {
    "slideshow": {
     "slide_type": "fragment"
    }
   },
   "outputs": [],
   "source": [
    "ca, za = 5, z3.Int('a')"
   ]
  },
  {
   "cell_type": "markdown",
   "metadata": {
    "slideshow": {
     "slide_type": "fragment"
    }
   },
   "source": [
    "Then, we wrap it in `zbool`, and use it in a conditional, forcing the conditional to be registered in the context."
   ]
  },
  {
   "cell_type": "code",
   "execution_count": 44,
   "metadata": {
    "slideshow": {
     "slide_type": "fragment"
    }
   },
   "outputs": [
    {
     "name": "stdout",
     "output_type": "stream",
     "text": [
      "success\n"
     ]
    }
   ],
   "source": [
    "with ConcolicTracer() as _:\n",
    "    if zbool(_.context, za == z3.IntVal(5), ca == 5):\n",
    "        print('success')"
   ]
  },
  {
   "cell_type": "markdown",
   "metadata": {
    "slideshow": {
     "slide_type": "fragment"
    }
   },
   "source": [
    "We can retrieve the registered conditional as follows."
   ]
  },
  {
   "cell_type": "code",
   "execution_count": 45,
   "metadata": {
    "slideshow": {
     "slide_type": "fragment"
    }
   },
   "outputs": [
    {
     "data": {
      "text/plain": [
       "[5 == a]"
      ]
     },
     "execution_count": 45,
     "metadata": {},
     "output_type": "execute_result"
    }
   ],
   "source": [
    "_.path"
   ]
  },
  {
   "cell_type": "markdown",
   "metadata": {
    "slideshow": {
     "slide_type": "subslide"
    },
    "toc-hr-collapsed": false
   },
   "source": [
    "#### A Proxy Class for Integers"
   ]
  },
  {
   "cell_type": "markdown",
   "metadata": {
    "slideshow": {
     "slide_type": "fragment"
    }
   },
   "source": [
    "Next, we define a symbolic wrapper `zint` for `int`.\n",
    "This class keeps track of the `int` variables used and the predicates encountered in `context`. Finally, it also keeps the concrete value so that it can be used to determine the path to take. As the `zint` extends the primitive `int` class, we have to define a _new_ method to open it for extension."
   ]
  },
  {
   "cell_type": "code",
   "execution_count": 46,
   "metadata": {
    "slideshow": {
     "slide_type": "fragment"
    }
   },
   "outputs": [],
   "source": [
    "class zint(int):\n",
    "    def __new__(cls, context, zn, v, *args, **kw):\n",
    "        return int.__new__(cls, v, *args, **kw)"
   ]
  },
  {
   "cell_type": "markdown",
   "metadata": {
    "slideshow": {
     "slide_type": "fragment"
    }
   },
   "source": [
    "As in the case of `zbool`, the initialization takes place in two parts. The first using `create()` if a new symbolic argument is being registered, and then the usual initialization."
   ]
  },
  {
   "cell_type": "code",
   "execution_count": 47,
   "metadata": {
    "slideshow": {
     "slide_type": "subslide"
    }
   },
   "outputs": [],
   "source": [
    "class zint(zint):\n",
    "    @classmethod\n",
    "    def create(cls, context, zn, v=None):\n",
    "        return zproxy_create(cls, 'Int', z3.Int, context, zn, v)\n",
    "\n",
    "    def __init__(self, context, z, v=None):\n",
    "        self.z, self.v = z, v\n",
    "        self.context = context"
   ]
  },
  {
   "cell_type": "markdown",
   "metadata": {
    "slideshow": {
     "slide_type": "fragment"
    }
   },
   "source": [
    "The `int` value of a `zint` object is its concrete value."
   ]
  },
  {
   "cell_type": "code",
   "execution_count": 48,
   "metadata": {
    "slideshow": {
     "slide_type": "fragment"
    }
   },
   "outputs": [],
   "source": [
    "class zint(zint):\n",
    "    def __int__(self):\n",
    "        return self.v\n",
    "\n",
    "    def __pos__(self):\n",
    "        return self.v"
   ]
  },
  {
   "cell_type": "markdown",
   "metadata": {
    "slideshow": {
     "slide_type": "subslide"
    }
   },
   "source": [
    "Using these proxies is as follows."
   ]
  },
  {
   "cell_type": "code",
   "execution_count": 49,
   "metadata": {
    "slideshow": {
     "slide_type": "fragment"
    }
   },
   "outputs": [
    {
     "name": "stdout",
     "output_type": "stream",
     "text": [
      "int_arg 0\n"
     ]
    },
    {
     "data": {
      "text/plain": [
       "({'int_arg': 'Int'}, [])"
      ]
     },
     "execution_count": 49,
     "metadata": {},
     "output_type": "execute_result"
    }
   ],
   "source": [
    "with ConcolicTracer() as _:\n",
    "    val = zint.create(_.context, 'int_arg', 0)\n",
    "    print(val.z, val.v)\n",
    "_.context"
   ]
  },
  {
   "cell_type": "markdown",
   "metadata": {
    "slideshow": {
     "slide_type": "fragment"
    }
   },
   "source": [
    "The `zint` class is often used to do arithmetic with, or compare to other `int`s. These `int`s can be either a variable or a constant value. We define a helper method `_zv()` that checks what kind of `int` a given value is, and produces the correct symbolic equivalent."
   ]
  },
  {
   "cell_type": "code",
   "execution_count": 50,
   "metadata": {
    "slideshow": {
     "slide_type": "fragment"
    }
   },
   "outputs": [],
   "source": [
    "class zint(zint):\n",
    "    def _zv(self, o):\n",
    "        return (o.z, o.v) if isinstance(o, zint) else (z3.IntVal(o), o)"
   ]
  },
  {
   "cell_type": "markdown",
   "metadata": {
    "slideshow": {
     "slide_type": "subslide"
    }
   },
   "source": [
    "It can be used as follows"
   ]
  },
  {
   "cell_type": "code",
   "execution_count": 51,
   "metadata": {
    "slideshow": {
     "slide_type": "fragment"
    }
   },
   "outputs": [
    {
     "name": "stdout",
     "output_type": "stream",
     "text": [
      "(0, 0)\n",
      "(int_arg, 0)\n"
     ]
    }
   ],
   "source": [
    "with ConcolicTracer() as _:\n",
    "    val = zint.create(_.context, 'int_arg', 0)\n",
    "    print(val._zv(0))\n",
    "    print(val._zv(val))"
   ]
  },
  {
   "cell_type": "markdown",
   "metadata": {
    "slideshow": {
     "slide_type": "subslide"
    }
   },
   "source": [
    "##### Equality between Integers\n",
    "\n",
    "Two integers can be compared for equality using _ne_ and _eq_."
   ]
  },
  {
   "cell_type": "code",
   "execution_count": 52,
   "metadata": {
    "slideshow": {
     "slide_type": "fragment"
    }
   },
   "outputs": [],
   "source": [
    "class zint(zint):\n",
    "    def __ne__(self, other):\n",
    "        z, v = self._zv(other)\n",
    "        return zbool(self.context, self.z != z, self.v != v)\n",
    "\n",
    "    def __eq__(self, other):\n",
    "        z, v = self._zv(other)\n",
    "        return zbool(self.context, self.z == z, self.v == v)"
   ]
  },
  {
   "cell_type": "markdown",
   "metadata": {
    "slideshow": {
     "slide_type": "fragment"
    }
   },
   "source": [
    " We also define _req_ using _eq_ in case the int being compared is on the left hand side."
   ]
  },
  {
   "cell_type": "code",
   "execution_count": 53,
   "metadata": {
    "slideshow": {
     "slide_type": "subslide"
    }
   },
   "outputs": [],
   "source": [
    "class zint(zint):\n",
    "    def __req__(self, other):\n",
    "        return self.__eq__(other)"
   ]
  },
  {
   "cell_type": "markdown",
   "metadata": {
    "slideshow": {
     "slide_type": "fragment"
    }
   },
   "source": [
    "It can be used as follows."
   ]
  },
  {
   "cell_type": "code",
   "execution_count": 54,
   "metadata": {
    "slideshow": {
     "slide_type": "fragment"
    }
   },
   "outputs": [
    {
     "name": "stdout",
     "output_type": "stream",
     "text": [
      "int_a == int_b int_a != int_b 0 != int_b\n"
     ]
    }
   ],
   "source": [
    "with ConcolicTracer() as _:\n",
    "    ia = zint.create(_.context, 'int_a', 0)\n",
    "    ib = zint.create(_.context, 'int_b', 0)\n",
    "    v1 = ia == ib\n",
    "    v2 = ia != ib\n",
    "    v3 = 0 != ib\n",
    "    print(v1.z, v2.z, v3.z)"
   ]
  },
  {
   "cell_type": "markdown",
   "metadata": {
    "slideshow": {
     "slide_type": "subslide"
    }
   },
   "source": [
    "##### Comparisons between Integers\n",
    "\n",
    "Integers can also be compared for ordering, and the methods for this are defined below."
   ]
  },
  {
   "cell_type": "code",
   "execution_count": 55,
   "metadata": {
    "slideshow": {
     "slide_type": "fragment"
    }
   },
   "outputs": [],
   "source": [
    "class zint(zint):\n",
    "    def __lt__(self, other):\n",
    "        z, v = self._zv(other)\n",
    "        return zbool(self.context, self.z < z, self.v < v)\n",
    "\n",
    "    def __gt__(self, other):\n",
    "        z, v = self._zv(other)\n",
    "        return zbool(self.context, self.z > z, self.v > v)"
   ]
  },
  {
   "cell_type": "markdown",
   "metadata": {
    "slideshow": {
     "slide_type": "fragment"
    }
   },
   "source": [
    "We use the comparisons and equality operators to provide the other missing operators."
   ]
  },
  {
   "cell_type": "code",
   "execution_count": 56,
   "metadata": {
    "slideshow": {
     "slide_type": "subslide"
    }
   },
   "outputs": [],
   "source": [
    "class zint(zint):\n",
    "    def __le__(self, other):\n",
    "        z, v = self._zv(other)\n",
    "        return zbool(self.context, z3.Or(self.z < z, self.z == z),\n",
    "                     self.v < v or self.v == v)\n",
    "\n",
    "    def __ge__(self, other):\n",
    "        z, v = self._zv(other)\n",
    "        return zbool(self.context, z3.Or(self.z > z, self.z == z),\n",
    "                     self.v > v or self.v == v)"
   ]
  },
  {
   "cell_type": "markdown",
   "metadata": {
    "slideshow": {
     "slide_type": "fragment"
    }
   },
   "source": [
    "These functions can be used as follows."
   ]
  },
  {
   "cell_type": "code",
   "execution_count": 57,
   "metadata": {
    "slideshow": {
     "slide_type": "subslide"
    }
   },
   "outputs": [
    {
     "name": "stdout",
     "output_type": "stream",
     "text": [
      "int_a > int_b int_a < int_b\n",
      "Or(int_a > int_b, int_a == int_b) Or(int_a < int_b, int_a == int_b)\n"
     ]
    }
   ],
   "source": [
    "with ConcolicTracer() as _:\n",
    "    ia = zint.create(_.context, 'int_a', 0)\n",
    "    ib = zint.create(_.context, 'int_b', 1)\n",
    "    v1 = ia > ib\n",
    "    v2 = ia < ib\n",
    "    print(v1.z, v2.z)\n",
    "    v3 = ia >= ib\n",
    "    v4 = ia <= ib\n",
    "    print(v3.z, v4.z)"
   ]
  },
  {
   "cell_type": "markdown",
   "metadata": {
    "slideshow": {
     "slide_type": "subslide"
    }
   },
   "source": [
    "##### Binary Operators for Integers\n",
    "\n",
    "We implement relevant arithmetic operators for integers as described in the [Python documentation](https://docs.python.org/3/reference/datamodel.html#object.__add__). (The commented out operators are not directly available for `z3.ArithRef`. They need to be implemented separately if needed. See the exercises for how it can be done.)"
   ]
  },
  {
   "cell_type": "code",
   "execution_count": 58,
   "metadata": {
    "slideshow": {
     "slide_type": "subslide"
    }
   },
   "outputs": [],
   "source": [
    "INT_BINARY_OPS = [\n",
    "    '__add__',\n",
    "    '__sub__',\n",
    "    '__mul__',\n",
    "    '__truediv__',\n",
    "    # '__div__',\n",
    "    '__mod__',\n",
    "    # '__divmod__',\n",
    "    '__pow__',\n",
    "    # '__lshift__',\n",
    "    # '__rshift__',\n",
    "    # '__and__',\n",
    "    # '__xor__',\n",
    "    # '__or__',\n",
    "    '__radd__',\n",
    "    '__rsub__',\n",
    "    '__rmul__',\n",
    "    '__rtruediv__',\n",
    "    # '__rdiv__',\n",
    "    '__rmod__',\n",
    "    # '__rdivmod__',\n",
    "    '__rpow__',\n",
    "    # '__rlshift__',\n",
    "    # '__rrshift__',\n",
    "    # '__rand__',\n",
    "    # '__rxor__',\n",
    "    # '__ror__',\n",
    "]"
   ]
  },
  {
   "cell_type": "code",
   "execution_count": 59,
   "metadata": {
    "slideshow": {
     "slide_type": "subslide"
    }
   },
   "outputs": [],
   "source": [
    "def make_int_binary_wrapper(fname, fun, zfun):\n",
    "    def proxy(self, other):\n",
    "        z, v = self._zv(other)\n",
    "        z_ = zfun(self.z, z)\n",
    "        v_ = fun(self.v, v)\n",
    "        if isinstance(v_, float):\n",
    "            # we do not implement float results yet.\n",
    "            assert round(v_) == v_\n",
    "            v_ = round(v_)\n",
    "        return zint(self.context, z_, v_)\n",
    "\n",
    "    return proxy"
   ]
  },
  {
   "cell_type": "code",
   "execution_count": 60,
   "metadata": {
    "slideshow": {
     "slide_type": "fragment"
    }
   },
   "outputs": [],
   "source": [
    "INITIALIZER_LIST = []"
   ]
  },
  {
   "cell_type": "code",
   "execution_count": 61,
   "metadata": {
    "slideshow": {
     "slide_type": "subslide"
    }
   },
   "outputs": [],
   "source": [
    "def initialize():\n",
    "    for fn in INITIALIZER_LIST:\n",
    "        fn()"
   ]
  },
  {
   "cell_type": "code",
   "execution_count": 62,
   "metadata": {
    "slideshow": {
     "slide_type": "fragment"
    }
   },
   "outputs": [],
   "source": [
    "def init_concolic_1():\n",
    "    for fname in INT_BINARY_OPS:\n",
    "        fun = getattr(int, fname)\n",
    "        zfun = getattr(z3.ArithRef, fname)\n",
    "        setattr(zint, fname, make_int_binary_wrapper(fname, fun, zfun))"
   ]
  },
  {
   "cell_type": "code",
   "execution_count": 63,
   "metadata": {
    "slideshow": {
     "slide_type": "fragment"
    }
   },
   "outputs": [],
   "source": [
    "INITIALIZER_LIST.append(init_concolic_1)"
   ]
  },
  {
   "cell_type": "code",
   "execution_count": 64,
   "metadata": {
    "slideshow": {
     "slide_type": "fragment"
    }
   },
   "outputs": [],
   "source": [
    "init_concolic_1()"
   ]
  },
  {
   "cell_type": "code",
   "execution_count": 65,
   "metadata": {
    "slideshow": {
     "slide_type": "subslide"
    }
   },
   "outputs": [
    {
     "name": "stdout",
     "output_type": "stream",
     "text": [
      "int_a + int_b\n",
      "int_a + 10\n",
      "11 + int_b\n",
      "int_a - int_b\n",
      "int_a*int_b\n",
      "int_a/int_b\n",
      "int_a**int_b\n"
     ]
    }
   ],
   "source": [
    "with ConcolicTracer() as _:\n",
    "    ia = zint.create(_.context, 'int_a', 0)\n",
    "    ib = zint.create(_.context, 'int_b', 1)\n",
    "    print((ia + ib).z)\n",
    "    print((ia + 10).z)\n",
    "    print((11 + ib).z)\n",
    "    print((ia - ib).z)\n",
    "    print((ia * ib).z)\n",
    "    print((ia / ib).z)\n",
    "    print((ia ** ib).z)"
   ]
  },
  {
   "cell_type": "markdown",
   "metadata": {
    "slideshow": {
     "slide_type": "subslide"
    }
   },
   "source": [
    "##### Integer Unary Operators\n",
    "\n",
    "We also implement the relevant unary operators as below."
   ]
  },
  {
   "cell_type": "code",
   "execution_count": 66,
   "metadata": {
    "slideshow": {
     "slide_type": "fragment"
    }
   },
   "outputs": [],
   "source": [
    "INT_UNARY_OPS = [\n",
    "    '__neg__',\n",
    "    '__pos__',\n",
    "    # '__abs__',\n",
    "    # '__invert__',\n",
    "    # '__round__',\n",
    "    # '__ceil__',\n",
    "    # '__floor__',\n",
    "    # '__trunc__',\n",
    "]"
   ]
  },
  {
   "cell_type": "code",
   "execution_count": 67,
   "metadata": {
    "slideshow": {
     "slide_type": "subslide"
    }
   },
   "outputs": [],
   "source": [
    "def make_int_unary_wrapper(fname, fun, zfun):\n",
    "    def proxy(self):\n",
    "        return zint(self.context, zfun(self.z), fun(self.v))\n",
    "\n",
    "    return proxy"
   ]
  },
  {
   "cell_type": "code",
   "execution_count": 68,
   "metadata": {
    "slideshow": {
     "slide_type": "fragment"
    }
   },
   "outputs": [],
   "source": [
    "def init_concolic_2():\n",
    "    for fname in INT_UNARY_OPS:\n",
    "        fun = getattr(int, fname)\n",
    "        zfun = getattr(z3.ArithRef, fname)\n",
    "        setattr(zint, fname, make_int_unary_wrapper(fname, fun, zfun))"
   ]
  },
  {
   "cell_type": "code",
   "execution_count": 69,
   "metadata": {
    "slideshow": {
     "slide_type": "fragment"
    }
   },
   "outputs": [],
   "source": [
    "INITIALIZER_LIST.append(init_concolic_2)"
   ]
  },
  {
   "cell_type": "code",
   "execution_count": 70,
   "metadata": {
    "slideshow": {
     "slide_type": "fragment"
    }
   },
   "outputs": [],
   "source": [
    "init_concolic_2()"
   ]
  },
  {
   "cell_type": "markdown",
   "metadata": {
    "slideshow": {
     "slide_type": "fragment"
    }
   },
   "source": [
    "We can use the unary operators we defined above as follows:"
   ]
  },
  {
   "cell_type": "code",
   "execution_count": 71,
   "metadata": {
    "slideshow": {
     "slide_type": "subslide"
    }
   },
   "outputs": [
    {
     "name": "stdout",
     "output_type": "stream",
     "text": [
      "-int_a\n",
      "int_a\n"
     ]
    }
   ],
   "source": [
    "with ConcolicTracer() as _:\n",
    "    ia = zint.create(_.context, 'int_a', 0)\n",
    "    print((-ia).z)\n",
    "    print((+ia).z)"
   ]
  },
  {
   "cell_type": "markdown",
   "metadata": {
    "slideshow": {
     "slide_type": "subslide"
    }
   },
   "source": [
    "##### Using an Integer in a Boolean Context\n",
    "\n",
    "An integer may be converted to a boolean context in conditionals or as part of boolean predicates such as `or`, `and` and `not`. In these cases, the `__bool__()` method gets called. Unfortunately, this method requires a primitive boolean value. Hence, we force the current integer formula to a boolean predicate and register it in the current context."
   ]
  },
  {
   "cell_type": "code",
   "execution_count": 72,
   "metadata": {
    "slideshow": {
     "slide_type": "fragment"
    }
   },
   "outputs": [],
   "source": [
    "class zint(zint):\n",
    "    def __bool__(self):\n",
    "        # return zbool(self.context, self.z, self.v) <-- not allowed\n",
    "        # force registering boolean condition\n",
    "        if self != 0:\n",
    "            return True\n",
    "        return False"
   ]
  },
  {
   "cell_type": "markdown",
   "metadata": {
    "slideshow": {
     "slide_type": "subslide"
    }
   },
   "source": [
    "It is used as follows"
   ]
  },
  {
   "cell_type": "code",
   "execution_count": 73,
   "metadata": {
    "slideshow": {
     "slide_type": "fragment"
    }
   },
   "outputs": [],
   "source": [
    "with ConcolicTracer() as _:\n",
    "    za = zint.create(_.context, 'int_a', 1)\n",
    "    zb = zint.create(_.context, 'int_b', 0)\n",
    "    if za and zb:\n",
    "        print(1)"
   ]
  },
  {
   "cell_type": "code",
   "execution_count": 74,
   "metadata": {
    "slideshow": {
     "slide_type": "fragment"
    }
   },
   "outputs": [
    {
     "data": {
      "text/plain": [
       "({'int_a': 'Int', 'int_b': 'Int'}, [0 != int_a, Not(0 != int_b)])"
      ]
     },
     "execution_count": 74,
     "metadata": {},
     "output_type": "execute_result"
    }
   ],
   "source": [
    "_.context"
   ]
  },
  {
   "cell_type": "markdown",
   "metadata": {
    "slideshow": {
     "slide_type": "subslide"
    },
    "toc-hr-collapsed": true
   },
   "source": [
    "#### Remaining Methods of the  ConcolicTracer\n",
    "\n",
    "We now complete some of the methods of the `ConcolicTracer`."
   ]
  },
  {
   "cell_type": "markdown",
   "metadata": {
    "slideshow": {
     "slide_type": "subslide"
    }
   },
   "source": [
    "##### Translating to the SMT Expression Format\n",
    "\n",
    "Given that we are using an SMT Solver z3, it is often useful to retrieve the corresponding SMT expression for a symbolic expression. This can be used as an argument to `z3` or other SMT solvers.\n",
    "\n",
    "The format of the SMT expression ([SMT-LIB](http://smtlib.github.io/jSMTLIB/SMTLIBTutorial.pdf)) is as follows:\n",
    "\n",
    "* Variables declarations in [S-EXP](https://en.wikipedia.org/wiki/S-expression) format.\n",
    "  E.g. The following declares a symbolic integer variable `x`\n",
    "```\n",
    "(declare-const x Int)\n",
    "```\n",
    " This declares a `bit vector` `b` of length `8`\n",
    "```\n",
    "(declare-const b (_ BitVec 8))\n",
    "```\n",
    " This declares a symbolic real variable `r`\n",
    "```\n",
    "(declare-const x Real)\n",
    "```\n",
    " This declares a symbolic string variable `s`\n",
    "```\n",
    "(declare-const s String)\n",
    "```\n",
    "\n",
    "The declared variables can be used in logical formulas that are encoded in *S-EXP* format. For example, here is a logical formula.\n",
    "\n",
    "```\n",
    "(assert\n",
    "    (and\n",
    "        (= a b)\n",
    "        (= a c)\n",
    "        (! b c)))\n",
    "```\n",
    "Here is another example, using string variables.\n",
    "\n",
    "```\n",
    "(or (< 0 (str.indexof (str.substr my_str1 7 19) \" where \" 0))\n",
    "    (= (str.indexof (str.substr my_str1 7 19) \" where \" 0) 0))\n",
    "```\n"
   ]
  },
  {
   "cell_type": "code",
   "execution_count": 75,
   "metadata": {
    "slideshow": {
     "slide_type": "subslide"
    }
   },
   "outputs": [],
   "source": [
    "class ConcolicTracer(ConcolicTracer):\n",
    "    def smt_expr(self, show_decl=False, simplify=False, path=[]):\n",
    "        r = []\n",
    "        if show_decl:\n",
    "            for decl in self.decls:\n",
    "                v = self.decls[decl]\n",
    "                v = '(_ BitVec 8)' if v == 'BitVec' else v\n",
    "                r.append(\"(declare-const %s %s)\" % (decl, v))\n",
    "        path = path if path else self.path\n",
    "        if path:\n",
    "            path = z3.And(path)\n",
    "            if show_decl:\n",
    "                if simplify:\n",
    "                    return '\\n'.join([\n",
    "                        *r,\n",
    "                        \"(assert %s)\" % z3.simplify(path).sexpr()\n",
    "                    ])\n",
    "                else:\n",
    "                    return '\\n'.join(\n",
    "                        [*r, \"(assert %s)\" % path.sexpr()])\n",
    "            else:\n",
    "                return z3.simplify(path).sexpr()\n",
    "        else:\n",
    "            return ''"
   ]
  },
  {
   "cell_type": "markdown",
   "metadata": {
    "slideshow": {
     "slide_type": "subslide"
    }
   },
   "source": [
    "To see how to use `smt_expr()`, let us consider an example. The `triangle()` function is used to determine if the given sides to a triangle result in an `equilateral` triangle, an `isosceles` triangle, or a `scalene` triangle. It is implemented as follows."
   ]
  },
  {
   "cell_type": "code",
   "execution_count": 76,
   "metadata": {
    "slideshow": {
     "slide_type": "subslide"
    }
   },
   "outputs": [],
   "source": [
    "def triangle(a, b, c):\n",
    "    if a == b:\n",
    "        if b == c:\n",
    "            return 'equilateral'\n",
    "        else:\n",
    "            return 'isosceles'\n",
    "    else:\n",
    "        if b == c:\n",
    "            return 'isosceles'\n",
    "        else:\n",
    "            if a == c:\n",
    "                return 'isosceles'\n",
    "            else:\n",
    "                return 'scalene'"
   ]
  },
  {
   "cell_type": "code",
   "execution_count": 77,
   "metadata": {
    "slideshow": {
     "slide_type": "subslide"
    }
   },
   "outputs": [
    {
     "data": {
      "text/plain": [
       "'isosceles'"
      ]
     },
     "execution_count": 77,
     "metadata": {},
     "output_type": "execute_result"
    }
   ],
   "source": [
    "triangle(1, 2, 1)"
   ]
  },
  {
   "cell_type": "markdown",
   "metadata": {
    "slideshow": {
     "slide_type": "fragment"
    }
   },
   "source": [
    "To translate make it run under `ConcolicTracer`, we first define the arguments. The triangle being defined has sides `1, 1, 1`. i.e. it is an `equilateral` triangle."
   ]
  },
  {
   "cell_type": "code",
   "execution_count": 78,
   "metadata": {
    "slideshow": {
     "slide_type": "fragment"
    }
   },
   "outputs": [
    {
     "name": "stdout",
     "output_type": "stream",
     "text": [
      "({'int_a': 'Int', 'int_b': 'Int', 'int_c': 'Int'}, [int_a == int_b, int_b == int_c])\n"
     ]
    }
   ],
   "source": [
    "with ConcolicTracer() as _:\n",
    "    za = zint.create(_.context, 'int_a', 1)\n",
    "    zb = zint.create(_.context, 'int_b', 1)\n",
    "    zc = zint.create(_.context, 'int_c', 1)\n",
    "    triangle(za, zb, zc)\n",
    "print(_.context)"
   ]
  },
  {
   "cell_type": "markdown",
   "metadata": {
    "slideshow": {
     "slide_type": "fragment"
    }
   },
   "source": [
    "We can now call `smt_expr()` to retrieve the SMT expression as below."
   ]
  },
  {
   "cell_type": "code",
   "execution_count": 79,
   "metadata": {
    "slideshow": {
     "slide_type": "subslide"
    }
   },
   "outputs": [
    {
     "name": "stdout",
     "output_type": "stream",
     "text": [
      "(declare-const int_a Int)\n",
      "(declare-const int_b Int)\n",
      "(declare-const int_c Int)\n",
      "(assert (and (= int_a int_b) (= int_b int_c)))\n"
     ]
    }
   ],
   "source": [
    "print(_.smt_expr(show_decl=True))"
   ]
  },
  {
   "cell_type": "markdown",
   "metadata": {
    "slideshow": {
     "slide_type": "fragment"
    }
   },
   "source": [
    "The collected predicates can also be solved directly using the Python z3 API."
   ]
  },
  {
   "cell_type": "code",
   "execution_count": 80,
   "metadata": {
    "slideshow": {
     "slide_type": "fragment"
    }
   },
   "outputs": [
    {
     "name": "stdout",
     "output_type": "stream",
     "text": [
      "[int_c = 0, int_a = 0, int_b = 0]\n"
     ]
    }
   ],
   "source": [
    "z3.solve(_.path)"
   ]
  },
  {
   "cell_type": "markdown",
   "metadata": {
    "slideshow": {
     "slide_type": "subslide"
    }
   },
   "source": [
    "##### Generating Fresh Names\n",
    "While using the proxy classes, we often will have to generate new symbolic variables, with names that have not been used before. For this, we define `fresh_name()` that always generates unique integers for names."
   ]
  },
  {
   "cell_type": "code",
   "execution_count": 81,
   "metadata": {
    "slideshow": {
     "slide_type": "fragment"
    }
   },
   "outputs": [],
   "source": [
    "COUNTER = 0"
   ]
  },
  {
   "cell_type": "code",
   "execution_count": 82,
   "metadata": {
    "slideshow": {
     "slide_type": "fragment"
    }
   },
   "outputs": [],
   "source": [
    "def fresh_name():\n",
    "    global COUNTER\n",
    "    COUNTER += 1\n",
    "    return COUNTER"
   ]
  },
  {
   "cell_type": "markdown",
   "metadata": {
    "slideshow": {
     "slide_type": "fragment"
    }
   },
   "source": [
    "It can be used as follows"
   ]
  },
  {
   "cell_type": "code",
   "execution_count": 83,
   "metadata": {
    "slideshow": {
     "slide_type": "fragment"
    }
   },
   "outputs": [
    {
     "data": {
      "text/plain": [
       "1"
      ]
     },
     "execution_count": 83,
     "metadata": {},
     "output_type": "execute_result"
    }
   ],
   "source": [
    "fresh_name()"
   ]
  },
  {
   "cell_type": "code",
   "execution_count": 84,
   "metadata": {
    "slideshow": {
     "slide_type": "subslide"
    }
   },
   "outputs": [],
   "source": [
    "def reset_counter():\n",
    "    global COUNTER\n",
    "    COUNTER = 0"
   ]
  },
  {
   "cell_type": "code",
   "execution_count": 85,
   "metadata": {
    "slideshow": {
     "slide_type": "fragment"
    }
   },
   "outputs": [],
   "source": [
    "class ConcolicTracer(ConcolicTracer):\n",
    "    def __enter__(self):\n",
    "        reset_counter()\n",
    "        return self\n",
    "\n",
    "    def __exit__(self, exc_type, exc_value, tb):\n",
    "        return"
   ]
  },
  {
   "cell_type": "markdown",
   "metadata": {
    "slideshow": {
     "slide_type": "subslide"
    }
   },
   "source": [
    " ##### Translating Arguments to Concolic Proxies\n",
    " \n",
    "We had previously defined `concolic()` as a transparent function. We now provide the full implementation of this function. It inspects a given function's parameters, and infers the parameter types from the concrete arguments passed in. It then uses this information to instantiate the correct proxy classes for each argument."
   ]
  },
  {
   "cell_type": "code",
   "execution_count": 86,
   "metadata": {
    "slideshow": {
     "slide_type": "subslide"
    }
   },
   "outputs": [],
   "source": [
    "class ConcolicTracer(ConcolicTracer):\n",
    "    def concolic(self, args):\n",
    "        my_args = []\n",
    "        for name, arg in zip(self.fn_args, args):\n",
    "            t = type(arg).__name__\n",
    "            zwrap = globals()['z' + t]\n",
    "            vname = \"%s_%s_%s_%s\" % (self.fn.__name__, name, t, fresh_name())\n",
    "            my_args.append(zwrap.create(self.context, vname, arg))\n",
    "            self.fn_args[name] = vname\n",
    "        return my_args"
   ]
  },
  {
   "cell_type": "markdown",
   "metadata": {
    "slideshow": {
     "slide_type": "fragment"
    }
   },
   "source": [
    "This is how it gets used:"
   ]
  },
  {
   "cell_type": "code",
   "execution_count": 87,
   "metadata": {
    "slideshow": {
     "slide_type": "fragment"
    }
   },
   "outputs": [],
   "source": [
    "with ConcolicTracer() as _:\n",
    "    _[factorial](5)"
   ]
  },
  {
   "cell_type": "markdown",
   "metadata": {
    "slideshow": {
     "slide_type": "subslide"
    }
   },
   "source": [
    "With the new `concolic()` method, the arguments to the factorial are correctly associated with symbolic variables, which allows us to retrieve the predicates encountered."
   ]
  },
  {
   "cell_type": "code",
   "execution_count": 88,
   "metadata": {
    "slideshow": {
     "slide_type": "fragment"
    }
   },
   "outputs": [
    {
     "data": {
      "text/plain": [
       "({'factorial_n_int_1': 'Int'},\n",
       " [Not(0 > factorial_n_int_1),\n",
       "  Not(0 == factorial_n_int_1),\n",
       "  Not(1 == factorial_n_int_1),\n",
       "  0 != factorial_n_int_1,\n",
       "  0 != factorial_n_int_1 - 1,\n",
       "  0 != factorial_n_int_1 - 1 - 1,\n",
       "  0 != factorial_n_int_1 - 1 - 1 - 1,\n",
       "  0 != factorial_n_int_1 - 1 - 1 - 1 - 1,\n",
       "  Not(0 != factorial_n_int_1 - 1 - 1 - 1 - 1 - 1)])"
      ]
     },
     "execution_count": 88,
     "metadata": {},
     "output_type": "execute_result"
    }
   ],
   "source": [
    "_.context"
   ]
  },
  {
   "cell_type": "markdown",
   "metadata": {
    "slideshow": {
     "slide_type": "subslide"
    }
   },
   "source": [
    "As before, we can also print out the SMT expression which can be passed directly to command line SMT solvers."
   ]
  },
  {
   "cell_type": "code",
   "execution_count": 89,
   "metadata": {
    "slideshow": {
     "slide_type": "subslide"
    }
   },
   "outputs": [
    {
     "name": "stdout",
     "output_type": "stream",
     "text": [
      "(declare-const factorial_n_int_1 Int)\n",
      "(assert (let ((a!1 (distinct 0 (- (- (- factorial_n_int_1 1) 1) 1)))\n",
      "      (a!2 (- (- (- (- factorial_n_int_1 1) 1) 1) 1)))\n",
      "  (and (not (> 0 factorial_n_int_1))\n",
      "       (not (= 0 factorial_n_int_1))\n",
      "       (not (= 1 factorial_n_int_1))\n",
      "       (distinct 0 factorial_n_int_1)\n",
      "       (distinct 0 (- factorial_n_int_1 1))\n",
      "       (distinct 0 (- (- factorial_n_int_1 1) 1))\n",
      "       a!1\n",
      "       (distinct 0 a!2)\n",
      "       (not (distinct 0 (- a!2 1))))))\n"
     ]
    }
   ],
   "source": [
    "print(_.smt_expr(show_decl=True))"
   ]
  },
  {
   "cell_type": "markdown",
   "metadata": {
    "slideshow": {
     "slide_type": "subslide"
    }
   },
   "source": [
    "We next define methods to evaluate the SMT expression both in Python and from command line."
   ]
  },
  {
   "cell_type": "markdown",
   "metadata": {
    "slideshow": {
     "slide_type": "subslide"
    }
   },
   "source": [
    "##### Evaluating the Concolic Expressions\n",
    "\n",
    "We define `zeval()` to solve the predicates in a context, and return results. It has two modes. The `python` mode uses `z3` Python API to solve and return the results. If the `python` mode is false, it writes the SMT expression to a file, and invokes the command line `z3` for a solution."
   ]
  },
  {
   "cell_type": "code",
   "execution_count": 90,
   "metadata": {
    "slideshow": {
     "slide_type": "fragment"
    }
   },
   "outputs": [],
   "source": [
    "class ConcolicTracer(ConcolicTracer):\n",
    "    def zeval(self, python=False, log=False):\n",
    "        r, sol = (zeval_py if python else zeval_smt)(self.path, self, log)\n",
    "        if r == 'sat':\n",
    "            return r, {k: sol.get(self.fn_args[k], None) for k in self.fn_args}\n",
    "        else:\n",
    "            return r, None"
   ]
  },
  {
   "cell_type": "markdown",
   "metadata": {
    "slideshow": {
     "slide_type": "subslide"
    }
   },
   "source": [
    "##### Using the Python API\n",
    "Given a set of predicates that the function encountered, and the tracer under which the function was executed, the `zeval_py()` function first declares the relevant symbolic variables, and uses the `z3.Solver()`to provide a set of inputs that would trace the same path through the function."
   ]
  },
  {
   "cell_type": "code",
   "execution_count": 91,
   "metadata": {
    "slideshow": {
     "slide_type": "subslide"
    }
   },
   "outputs": [],
   "source": [
    "def zeval_py(path, cc, log):\n",
    "    for decl in cc.decls:\n",
    "        if cc.decls[decl] == 'BitVec':\n",
    "            v = \"z3.%s('%s', 8)\" % (cc.decls[decl], decl)\n",
    "        else:\n",
    "            v = \"z3.%s('%s')\" % (cc.decls[decl], decl)\n",
    "        exec(v)\n",
    "    s = z3.Solver()\n",
    "    s.add(z3.And(path))\n",
    "    if s.check() == z3.unsat:\n",
    "        return 'No Solutions', {}\n",
    "    elif s.check() == z3.unknown:\n",
    "        return 'Gave up', None\n",
    "    assert s.check() == z3.sat\n",
    "    m = s.model()\n",
    "    return 'sat', {d.name(): m[d] for d in m.decls()}"
   ]
  },
  {
   "cell_type": "markdown",
   "metadata": {
    "slideshow": {
     "slide_type": "subslide"
    }
   },
   "source": [
    "It can be used as follows:"
   ]
  },
  {
   "cell_type": "code",
   "execution_count": 92,
   "metadata": {
    "slideshow": {
     "slide_type": "fragment"
    }
   },
   "outputs": [],
   "source": [
    "with ConcolicTracer() as _:\n",
    "    _[factorial](5)"
   ]
  },
  {
   "cell_type": "code",
   "execution_count": 93,
   "metadata": {
    "slideshow": {
     "slide_type": "fragment"
    }
   },
   "outputs": [
    {
     "data": {
      "text/plain": [
       "('sat', {'n': 5})"
      ]
     },
     "execution_count": 93,
     "metadata": {},
     "output_type": "execute_result"
    }
   ],
   "source": [
    "_.zeval(python=True)"
   ]
  },
  {
   "cell_type": "markdown",
   "metadata": {
    "slideshow": {
     "slide_type": "fragment"
    }
   },
   "source": [
    "That is, given the set of constraints, the assignment `n == 5` conforms to all constraints."
   ]
  },
  {
   "cell_type": "markdown",
   "metadata": {
    "slideshow": {
     "slide_type": "subslide"
    }
   },
   "source": [
    "##### Using the Command Line\n",
    "\n",
    "The `zeval_smt()` function writes the SMT expression to the file system, and calls the `z3` SMT solver command line to solve it. The result of SMT expression is again an `sexpr`. Hence, we first define `parse_sexp()` to parse and return the correct values."
   ]
  },
  {
   "cell_type": "code",
   "execution_count": 94,
   "metadata": {
    "slideshow": {
     "slide_type": "skip"
    }
   },
   "outputs": [],
   "source": [
    "import re"
   ]
  },
  {
   "cell_type": "code",
   "execution_count": 95,
   "metadata": {
    "slideshow": {
     "slide_type": "skip"
    }
   },
   "outputs": [],
   "source": [
    "import subprocess"
   ]
  },
  {
   "cell_type": "code",
   "execution_count": 96,
   "metadata": {
    "slideshow": {
     "slide_type": "fragment"
    }
   },
   "outputs": [],
   "source": [
    "SEXPR_TOKEN = r'''(?mx)\n",
    "    \\s*(?:\n",
    "        (?P<bra>\\()|\n",
    "        (?P<ket>\\))|\n",
    "        (?P<token>[^\"()\\s]+)|\n",
    "        (?P<string>\"[^\"]*\")\n",
    "       )'''"
   ]
  },
  {
   "cell_type": "code",
   "execution_count": 97,
   "metadata": {
    "slideshow": {
     "slide_type": "subslide"
    }
   },
   "outputs": [],
   "source": [
    "def parse_sexp(sexp):\n",
    "    stack, res = [], []\n",
    "    for elements in re.finditer(SEXPR_TOKEN, sexp):\n",
    "        kind, value = [(t, v) for t, v in elements.groupdict().items() if v][0]\n",
    "        if kind == 'bra':\n",
    "            stack.append(res)\n",
    "            res = []\n",
    "        elif kind == 'ket':\n",
    "            last, res = res, stack.pop(-1)\n",
    "            res.append(last)\n",
    "        elif kind == 'token':\n",
    "            res.append(value)\n",
    "        elif kind == 'string':\n",
    "            res.append(value[1:-1])\n",
    "        else:\n",
    "            assert False\n",
    "    return res"
   ]
  },
  {
   "cell_type": "markdown",
   "metadata": {
    "slideshow": {
     "slide_type": "subslide"
    }
   },
   "source": [
    "The `parse_sexp()` function can be used as follows"
   ]
  },
  {
   "cell_type": "code",
   "execution_count": 98,
   "metadata": {
    "slideshow": {
     "slide_type": "fragment"
    }
   },
   "outputs": [
    {
     "data": {
      "text/plain": [
       "['abcd', ['hello', '123', ['world', 'hello world']]]"
      ]
     },
     "execution_count": 98,
     "metadata": {},
     "output_type": "execute_result"
    }
   ],
   "source": [
    "parse_sexp('abcd (hello 123 (world \"hello world\"))')"
   ]
  },
  {
   "cell_type": "markdown",
   "metadata": {
    "slideshow": {
     "slide_type": "fragment"
    }
   },
   "source": [
    "We now define `zeval_smt()` which uses the `z3` command line directly, and uses `parse_sexp()` to parse and return the solutions to function arguments if any."
   ]
  },
  {
   "cell_type": "code",
   "execution_count": 99,
   "metadata": {
    "slideshow": {
     "slide_type": "skip"
    }
   },
   "outputs": [],
   "source": [
    "import tempfile"
   ]
  },
  {
   "cell_type": "code",
   "execution_count": 100,
   "metadata": {
    "slideshow": {
     "slide_type": "subslide"
    }
   },
   "outputs": [],
   "source": [
    "def zeval_smt(path, cc, log):\n",
    "    s = cc.smt_expr(True, True, path)\n",
    "\n",
    "    with tempfile.NamedTemporaryFile(mode='w', suffix='.smt') as f:\n",
    "        f.write(s)\n",
    "        f.write(\"\\n(check-sat)\")\n",
    "        f.write(\"\\n(get-model)\")\n",
    "        f.flush()\n",
    "\n",
    "        if log:\n",
    "            print(s, '(check-sat)', '(get-model)', sep='\\n')\n",
    "        output = subprocess.getoutput(\"z3 \" + f.name)\n",
    "\n",
    "    if log:\n",
    "        print(output)\n",
    "    o = parse_sexp(output)\n",
    "    if not o:\n",
    "        return 'Gave up', None\n",
    "    kind = o[0]\n",
    "    if kind == 'unknown':\n",
    "        return 'Gave up', None\n",
    "    elif kind == 'unsat':\n",
    "        return 'No Solutions', {}\n",
    "    assert kind == 'sat'\n",
    "    assert o[1][0] == 'model'\n",
    "    return 'sat', {i[1]: (i[-1], i[-2]) for i in o[1][1:]}"
   ]
  },
  {
   "cell_type": "markdown",
   "metadata": {
    "slideshow": {
     "slide_type": "subslide"
    }
   },
   "source": [
    "We can now use `zeval()` as follows."
   ]
  },
  {
   "cell_type": "code",
   "execution_count": 101,
   "metadata": {
    "slideshow": {
     "slide_type": "fragment"
    }
   },
   "outputs": [],
   "source": [
    "with ConcolicTracer() as _:\n",
    "    _[factorial](5)"
   ]
  },
  {
   "cell_type": "code",
   "execution_count": 102,
   "metadata": {
    "slideshow": {
     "slide_type": "fragment"
    }
   },
   "outputs": [
    {
     "data": {
      "text/plain": [
       "('sat', {'n': ('5', 'Int')})"
      ]
     },
     "execution_count": 102,
     "metadata": {},
     "output_type": "execute_result"
    }
   ],
   "source": [
    "_.zeval()"
   ]
  },
  {
   "cell_type": "markdown",
   "metadata": {
    "slideshow": {
     "slide_type": "fragment"
    }
   },
   "source": [
    "Indeed, we get similar results (`n == 5`)  from using the command line as from using the Python API."
   ]
  },
  {
   "cell_type": "markdown",
   "metadata": {
    "slideshow": {
     "slide_type": "subslide"
    },
    "toc-hr-collapsed": true
   },
   "source": [
    "#### A Proxy Class for Strings\n",
    "\n",
    "Here, we define the proxy string class `zstr`. First we define our initialization routines. Since `str` is a primitive type, we define `new` to extend it."
   ]
  },
  {
   "cell_type": "code",
   "execution_count": 103,
   "metadata": {
    "slideshow": {
     "slide_type": "fragment"
    }
   },
   "outputs": [],
   "source": [
    "class zstr(str):\n",
    "    def __new__(cls, context, zn, v):\n",
    "        return str.__new__(cls, v)"
   ]
  },
  {
   "cell_type": "markdown",
   "metadata": {
    "slideshow": {
     "slide_type": "fragment"
    }
   },
   "source": [
    "As before, initialization proceeds with `create()` and the constructor."
   ]
  },
  {
   "cell_type": "code",
   "execution_count": 104,
   "metadata": {
    "slideshow": {
     "slide_type": "subslide"
    }
   },
   "outputs": [],
   "source": [
    "class zstr(zstr):\n",
    "    @classmethod\n",
    "    def create(cls, context, zn, v=None):\n",
    "        return zproxy_create(cls, 'String', z3.String, context, zn, v)\n",
    "\n",
    "    def __init__(self, context, z, v=None):\n",
    "        self.context, self.z, self.v = context, z, v\n",
    "        self._len = zint(context, z3.Length(z), len(v))\n",
    "        #self.context[1].append(z3.Length(z) == z3.IntVal(len(v)))"
   ]
  },
  {
   "cell_type": "markdown",
   "metadata": {
    "slideshow": {
     "slide_type": "fragment"
    }
   },
   "source": [
    "We also define `_zv()` helper to help us with methods that accept another string"
   ]
  },
  {
   "cell_type": "code",
   "execution_count": 105,
   "metadata": {
    "slideshow": {
     "slide_type": "fragment"
    }
   },
   "outputs": [],
   "source": [
    "class zstr(zstr):\n",
    "    def _zv(self, o):\n",
    "        return (o.z, o.v) if isinstance(o, zstr) else (z3.StringVal(o), o)"
   ]
  },
  {
   "cell_type": "markdown",
   "metadata": {
    "slideshow": {
     "slide_type": "subslide"
    }
   },
   "source": [
    "##### Retrieving Ordinal Value\n",
    "We define `zord` that given a symbolic one character long string, obtains the `ord()` for that. It returns two values. The first one is the variable that corresponds to `ord()`, and second is the predicate that links the variable to the passed in single character string."
   ]
  },
  {
   "cell_type": "code",
   "execution_count": 106,
   "metadata": {
    "slideshow": {
     "slide_type": "fragment"
    }
   },
   "outputs": [],
   "source": [
    "def zord(context, c):\n",
    "    bn = \"bitvec_%d\" % fresh_name()\n",
    "    v = z3.BitVec(bn, 8)\n",
    "    context[0][bn] = 'BitVec'\n",
    "    z = (z3.Unit(v) == c)\n",
    "    context[1].append(z)\n",
    "    return v"
   ]
  },
  {
   "cell_type": "markdown",
   "metadata": {
    "slideshow": {
     "slide_type": "fragment"
    }
   },
   "source": [
    "We use it as follows"
   ]
  },
  {
   "cell_type": "code",
   "execution_count": 107,
   "metadata": {
    "slideshow": {
     "slide_type": "fragment"
    }
   },
   "outputs": [],
   "source": [
    "zc = z3.String('arg_%d' % fresh_name())"
   ]
  },
  {
   "cell_type": "code",
   "execution_count": 108,
   "metadata": {
    "slideshow": {
     "slide_type": "subslide"
    }
   },
   "outputs": [],
   "source": [
    "with ConcolicTracer() as _:\n",
    "    zi = zord(_.context, zc)"
   ]
  },
  {
   "cell_type": "markdown",
   "metadata": {
    "slideshow": {
     "slide_type": "fragment"
    }
   },
   "source": [
    "The symbolic bitvector is in `zi`. It is linked to the passed in argument in `context`"
   ]
  },
  {
   "cell_type": "code",
   "execution_count": 109,
   "metadata": {
    "slideshow": {
     "slide_type": "fragment"
    }
   },
   "outputs": [
    {
     "data": {
      "text/plain": [
       "({'bitvec_1': 'BitVec'}, [Unit(bitvec_1) == arg_2])"
      ]
     },
     "execution_count": 109,
     "metadata": {},
     "output_type": "execute_result"
    }
   ],
   "source": [
    "_.context"
   ]
  },
  {
   "cell_type": "markdown",
   "metadata": {
    "slideshow": {
     "slide_type": "fragment"
    }
   },
   "source": [
    "We can specify what the result of `ord()` should be, and call `z3.solve()` to provide us with a solution that will provide the required result."
   ]
  },
  {
   "cell_type": "code",
   "execution_count": 110,
   "metadata": {
    "slideshow": {
     "slide_type": "fragment"
    }
   },
   "outputs": [
    {
     "name": "stdout",
     "output_type": "stream",
     "text": [
      "[bitvec_1 = 65, arg_2 = \"A\"]\n"
     ]
    }
   ],
   "source": [
    "z3.solve(_.path + [zi == 65])"
   ]
  },
  {
   "cell_type": "markdown",
   "metadata": {
    "slideshow": {
     "slide_type": "subslide"
    }
   },
   "source": [
    "##### Translating an Ordinal Value to ASCII\n",
    "Similarly, we can convert the ASCII value back to a single character string using `zchr()`"
   ]
  },
  {
   "cell_type": "code",
   "execution_count": 111,
   "metadata": {
    "slideshow": {
     "slide_type": "fragment"
    }
   },
   "outputs": [],
   "source": [
    "def zchr(context, i):\n",
    "    sn = 'string_%d' % fresh_name()\n",
    "    s = z3.String(sn)\n",
    "    context[0][sn] = 'String'\n",
    "    z = z3.And([s == z3.Unit(i), z3.Length(s) == 1])\n",
    "    context[1].append(z)\n",
    "    return s"
   ]
  },
  {
   "cell_type": "markdown",
   "metadata": {
    "slideshow": {
     "slide_type": "fragment"
    }
   },
   "source": [
    "For using it, we first define a bitvector that is 8 bits long."
   ]
  },
  {
   "cell_type": "code",
   "execution_count": 112,
   "metadata": {
    "slideshow": {
     "slide_type": "fragment"
    }
   },
   "outputs": [],
   "source": [
    "i = z3.BitVec('bv_%d' % fresh_name(), 8)"
   ]
  },
  {
   "cell_type": "markdown",
   "metadata": {
    "slideshow": {
     "slide_type": "fragment"
    }
   },
   "source": [
    "We can now retrieve the `chr()` representation as below."
   ]
  },
  {
   "cell_type": "code",
   "execution_count": 113,
   "metadata": {
    "slideshow": {
     "slide_type": "fragment"
    }
   },
   "outputs": [],
   "source": [
    "with ConcolicTracer() as _:\n",
    "    zc = zchr(_.context, i)"
   ]
  },
  {
   "cell_type": "code",
   "execution_count": 114,
   "metadata": {
    "slideshow": {
     "slide_type": "subslide"
    }
   },
   "outputs": [
    {
     "data": {
      "text/plain": [
       "({'string_1': 'String'}, [And(string_1 == Unit(bv_2), Length(string_1) == 1)])"
      ]
     },
     "execution_count": 114,
     "metadata": {},
     "output_type": "execute_result"
    }
   ],
   "source": [
    "_.context"
   ]
  },
  {
   "cell_type": "markdown",
   "metadata": {
    "slideshow": {
     "slide_type": "fragment"
    }
   },
   "source": [
    "As before, we can specify what the end result of calling `chr()` should be to get the original argument."
   ]
  },
  {
   "cell_type": "code",
   "execution_count": 115,
   "metadata": {
    "slideshow": {
     "slide_type": "fragment"
    }
   },
   "outputs": [
    {
     "name": "stdout",
     "output_type": "stream",
     "text": [
      "[string_1 = \"a\", bv_2 = 97]\n"
     ]
    }
   ],
   "source": [
    "z3.solve(_.path + [zc == z3.StringVal('a')])"
   ]
  },
  {
   "cell_type": "markdown",
   "metadata": {
    "slideshow": {
     "slide_type": "subslide"
    }
   },
   "source": [
    "##### Equality between Strings\n",
    "\n",
    "The equality of `zstr` is defined similar to that of `zint`"
   ]
  },
  {
   "cell_type": "code",
   "execution_count": 116,
   "metadata": {
    "slideshow": {
     "slide_type": "fragment"
    }
   },
   "outputs": [],
   "source": [
    "class zstr(zstr):\n",
    "    def __eq__(self, other):\n",
    "        z, v = self._zv(other)\n",
    "        return zbool(self.context, self.z == z, self.v == v)\n",
    "\n",
    "    def __req__(self, other):\n",
    "        return self.__eq__(other)"
   ]
  },
  {
   "cell_type": "markdown",
   "metadata": {
    "slideshow": {
     "slide_type": "fragment"
    }
   },
   "source": [
    "The `zstr` class is used as follows."
   ]
  },
  {
   "cell_type": "code",
   "execution_count": 117,
   "metadata": {
    "slideshow": {
     "slide_type": "subslide"
    }
   },
   "outputs": [],
   "source": [
    "def tstr1(s):\n",
    "    if s == 'h':\n",
    "        return True\n",
    "    else:\n",
    "        return False"
   ]
  },
  {
   "cell_type": "code",
   "execution_count": 118,
   "metadata": {
    "slideshow": {
     "slide_type": "fragment"
    }
   },
   "outputs": [],
   "source": [
    "with ConcolicTracer() as _:\n",
    "    r = _[tstr1]('h')"
   ]
  },
  {
   "cell_type": "code",
   "execution_count": 119,
   "metadata": {
    "slideshow": {
     "slide_type": "fragment"
    }
   },
   "outputs": [
    {
     "data": {
      "text/plain": [
       "('sat', {'s': ('h', 'String')})"
      ]
     },
     "execution_count": 119,
     "metadata": {},
     "output_type": "execute_result"
    }
   ],
   "source": [
    "_.zeval()"
   ]
  },
  {
   "cell_type": "markdown",
   "metadata": {
    "slideshow": {
     "slide_type": "fragment"
    }
   },
   "source": [
    "It works even if we have more than one character."
   ]
  },
  {
   "cell_type": "code",
   "execution_count": 120,
   "metadata": {
    "slideshow": {
     "slide_type": "fragment"
    }
   },
   "outputs": [],
   "source": [
    "def tstr1(s):\n",
    "    if s == 'hello world':\n",
    "        return True\n",
    "    else:\n",
    "        return False"
   ]
  },
  {
   "cell_type": "code",
   "execution_count": 121,
   "metadata": {
    "slideshow": {
     "slide_type": "subslide"
    }
   },
   "outputs": [],
   "source": [
    "with ConcolicTracer() as _:\n",
    "    r = _[tstr1]('hello world')"
   ]
  },
  {
   "cell_type": "code",
   "execution_count": 122,
   "metadata": {
    "slideshow": {
     "slide_type": "fragment"
    }
   },
   "outputs": [
    {
     "data": {
      "text/plain": [
       "({'tstr1_s_str_1': 'String'}, [tstr1_s_str_1 == \"hello world\"])"
      ]
     },
     "execution_count": 122,
     "metadata": {},
     "output_type": "execute_result"
    }
   ],
   "source": [
    "_.context"
   ]
  },
  {
   "cell_type": "code",
   "execution_count": 123,
   "metadata": {
    "slideshow": {
     "slide_type": "fragment"
    }
   },
   "outputs": [
    {
     "data": {
      "text/plain": [
       "('sat', {'s': ('hello world', 'String')})"
      ]
     },
     "execution_count": 123,
     "metadata": {},
     "output_type": "execute_result"
    }
   ],
   "source": [
    "_.zeval()"
   ]
  },
  {
   "cell_type": "markdown",
   "metadata": {
    "slideshow": {
     "slide_type": "subslide"
    }
   },
   "source": [
    "##### Concatenation of Strings\n",
    "What if we need to concatenate two strings? We need additional helpers to accomplish that."
   ]
  },
  {
   "cell_type": "code",
   "execution_count": 124,
   "metadata": {
    "slideshow": {
     "slide_type": "fragment"
    }
   },
   "outputs": [],
   "source": [
    "class zstr(zstr):\n",
    "    def __add__(self, other):\n",
    "        z, v = self._zv(other)\n",
    "        return zstr(self.context, self.z + z, self.v + v)\n",
    "\n",
    "    def __radd__(self, other):\n",
    "        return self.__add__(other)"
   ]
  },
  {
   "cell_type": "markdown",
   "metadata": {
    "slideshow": {
     "slide_type": "fragment"
    }
   },
   "source": [
    "Here is how it can be used. First, we create the wrapped arguments"
   ]
  },
  {
   "cell_type": "code",
   "execution_count": 125,
   "metadata": {
    "slideshow": {
     "slide_type": "subslide"
    }
   },
   "outputs": [
    {
     "name": "stdout",
     "output_type": "stream",
     "text": [
      "hello world\n"
     ]
    }
   ],
   "source": [
    "with ConcolicTracer() as _:\n",
    "    v1, v2 = [zstr.create(_.context, 'arg_%d' % fresh_name(), s)\n",
    "              for s in ['hello', 'world']]\n",
    "    if (v1 + ' ' + v2) == 'hello world':\n",
    "        print('hello world')"
   ]
  },
  {
   "cell_type": "markdown",
   "metadata": {
    "slideshow": {
     "slide_type": "fragment"
    }
   },
   "source": [
    "The addition of symbolic variables is preserved in `context`"
   ]
  },
  {
   "cell_type": "code",
   "execution_count": 126,
   "metadata": {
    "slideshow": {
     "slide_type": "fragment"
    }
   },
   "outputs": [
    {
     "data": {
      "text/plain": [
       "({'arg_1': 'String', 'arg_2': 'String'},\n",
       " [Concat(Concat(arg_1, \" \"), arg_2) == \"hello world\"])"
      ]
     },
     "execution_count": 126,
     "metadata": {},
     "output_type": "execute_result"
    }
   ],
   "source": [
    "_.context"
   ]
  },
  {
   "cell_type": "markdown",
   "metadata": {
    "slideshow": {
     "slide_type": "subslide"
    }
   },
   "source": [
    "##### Producing Substrings\n",
    "Similarly, accessing substrings also require extra help."
   ]
  },
  {
   "cell_type": "code",
   "execution_count": 127,
   "metadata": {
    "slideshow": {
     "slide_type": "subslide"
    }
   },
   "outputs": [],
   "source": [
    "class zstr(zstr):\n",
    "    def __getitem__(self, idx):\n",
    "        if isinstance(idx, slice):\n",
    "            start, stop, step = idx.indices(len(self.v))\n",
    "            assert step == 1  # for now\n",
    "            assert stop >= start  # for now\n",
    "            rz = z3.SubString(self.z, start, stop - start)\n",
    "            rv = self.v[idx]\n",
    "        elif isinstance(idx, int):\n",
    "            rz = z3.SubString(self.z, idx, 1)\n",
    "            rv = self.v[idx]\n",
    "        else:\n",
    "            assert False  # for now\n",
    "        return zstr(self.context, rz, rv)\n",
    "\n",
    "    def __iter__(self):\n",
    "        return zstr_iterator(self.context, self)"
   ]
  },
  {
   "cell_type": "markdown",
   "metadata": {
    "slideshow": {
     "slide_type": "subslide"
    }
   },
   "source": [
    "##### An Iterator Class for Strings\n",
    "\n",
    "We define the iterator as follows."
   ]
  },
  {
   "cell_type": "code",
   "execution_count": 128,
   "metadata": {
    "slideshow": {
     "slide_type": "subslide"
    }
   },
   "outputs": [],
   "source": [
    "class zstr_iterator():\n",
    "    def __init__(self, context, zstr):\n",
    "        self.context = context\n",
    "        self._zstr = zstr\n",
    "        self._str_idx = 0\n",
    "        self._str_max = zstr._len  # intz is not an _int_\n",
    "\n",
    "    def __next__(self):\n",
    "        if self._str_idx == self._str_max:  # intz#eq\n",
    "            raise StopIteration\n",
    "        c = self._zstr[self._str_idx]\n",
    "        self._str_idx += 1\n",
    "        return c\n",
    "\n",
    "    def __len__(self):\n",
    "        return self._len"
   ]
  },
  {
   "cell_type": "markdown",
   "metadata": {
    "slideshow": {
     "slide_type": "subslide"
    }
   },
   "source": [
    "Here is how it can be used."
   ]
  },
  {
   "cell_type": "code",
   "execution_count": 129,
   "metadata": {
    "slideshow": {
     "slide_type": "fragment"
    }
   },
   "outputs": [],
   "source": [
    "def tstr2(s):\n",
    "    if s[0] == 'h' and s[1] == 'e' and s[3] == 'l':\n",
    "        return True\n",
    "    else:\n",
    "        return False"
   ]
  },
  {
   "cell_type": "code",
   "execution_count": 130,
   "metadata": {
    "slideshow": {
     "slide_type": "fragment"
    }
   },
   "outputs": [],
   "source": [
    "with ConcolicTracer() as _:\n",
    "    r = _[tstr2]('hello')"
   ]
  },
  {
   "cell_type": "markdown",
   "metadata": {
    "slideshow": {
     "slide_type": "fragment"
    }
   },
   "source": [
    "Again, the context shows predicates encountered."
   ]
  },
  {
   "cell_type": "code",
   "execution_count": 131,
   "metadata": {
    "slideshow": {
     "slide_type": "fragment"
    }
   },
   "outputs": [
    {
     "data": {
      "text/plain": [
       "({'tstr2_s_str_1': 'String'},\n",
       " [str.substr(tstr2_s_str_1, 0, 1) == \"h\",\n",
       "  str.substr(tstr2_s_str_1, 1, 1) == \"e\",\n",
       "  str.substr(tstr2_s_str_1, 3, 1) == \"l\"])"
      ]
     },
     "execution_count": 131,
     "metadata": {},
     "output_type": "execute_result"
    }
   ],
   "source": [
    "_.context"
   ]
  },
  {
   "cell_type": "markdown",
   "metadata": {
    "slideshow": {
     "slide_type": "subslide"
    }
   },
   "source": [
    "The function `zeval()` returns a solution for the predicate. Note that the value returned is not exactly the argument that we passed in. This is a consequence of the predicates we have. That is, we have no constraints on what the character value on `s[2]` should be."
   ]
  },
  {
   "cell_type": "code",
   "execution_count": 132,
   "metadata": {
    "slideshow": {
     "slide_type": "fragment"
    }
   },
   "outputs": [
    {
     "data": {
      "text/plain": [
       "('sat', {'s': ('he\\\\x00l\\\\x00', 'String')})"
      ]
     },
     "execution_count": 132,
     "metadata": {},
     "output_type": "execute_result"
    }
   ],
   "source": [
    "_.zeval()"
   ]
  },
  {
   "cell_type": "markdown",
   "metadata": {
    "slideshow": {
     "slide_type": "subslide"
    }
   },
   "source": [
    "##### Translating to Upper and Lower Equivalents\n",
    "\n",
    "A major complication is supporting `upper()` and `lower()` methods. We use the previously defined `zchr()` and `zord()` functions to accomplish this."
   ]
  },
  {
   "cell_type": "code",
   "execution_count": 133,
   "metadata": {
    "slideshow": {
     "slide_type": "subslide"
    }
   },
   "outputs": [],
   "source": [
    "class zstr(zstr):\n",
    "    def upper(self):\n",
    "        empty = ''\n",
    "        ne = 'empty_%d' % fresh_name()\n",
    "        result = zstr.create(self.context, ne, empty)\n",
    "        self.context[1].append(z3.StringVal(empty) == result.z)\n",
    "        cdiff = (ord('a') - ord('A'))\n",
    "        for i in self:\n",
    "            oz = zord(self.context, i.z)\n",
    "            uz = zchr(self.context, oz - cdiff)\n",
    "            rz = z3.And([oz >= ord('a'), oz <= ord('z')])\n",
    "            ov = ord(i.v)\n",
    "            uv = chr(ov - cdiff)\n",
    "            rv = ov >= ord('a') and ov <= ord('z')\n",
    "            if zbool(self.context, rz, rv):\n",
    "                i = zstr(self.context, uz, uv)\n",
    "            else:\n",
    "                i = zstr(self.context, i.z, i.v)\n",
    "            result += i\n",
    "        return result"
   ]
  },
  {
   "cell_type": "markdown",
   "metadata": {
    "slideshow": {
     "slide_type": "subslide"
    }
   },
   "source": [
    "The `lower()` function is similar to `upper()` except that the character ranges are switched, and the lowercase is above uppercase. Hence, we add the difference to the ordinal to make a character to lowercase."
   ]
  },
  {
   "cell_type": "code",
   "execution_count": 134,
   "metadata": {
    "slideshow": {
     "slide_type": "subslide"
    }
   },
   "outputs": [],
   "source": [
    "class zstr(zstr):\n",
    "    def lower(self):\n",
    "        empty = ''\n",
    "        ne = 'empty_%d' % fresh_name()\n",
    "        result = zstr.create(self.context, ne, empty)\n",
    "        self.context[1].append(z3.StringVal(empty) == result.z)\n",
    "        cdiff = (ord('a') - ord('A'))\n",
    "        for i in self:\n",
    "            oz = zord(self.context, i.z)\n",
    "            uz = zchr(self.context, oz + cdiff)\n",
    "            rz = z3.And([oz >= ord('A'), oz <= ord('Z')])\n",
    "            ov = ord(i.v)\n",
    "            uv = chr(ov + cdiff)\n",
    "            rv = ov >= ord('A') and ov <= ord('Z')\n",
    "            if zbool(self.context, rz, rv):\n",
    "                i = zstr(self.context, uz, uv)\n",
    "            else:\n",
    "                i = zstr(self.context, i.z, i.v)\n",
    "            result += i\n",
    "        return result"
   ]
  },
  {
   "cell_type": "markdown",
   "metadata": {
    "slideshow": {
     "slide_type": "subslide"
    }
   },
   "source": [
    "Here is how it is used."
   ]
  },
  {
   "cell_type": "code",
   "execution_count": 135,
   "metadata": {
    "slideshow": {
     "slide_type": "fragment"
    }
   },
   "outputs": [],
   "source": [
    "def tstr3(s):\n",
    "    if s.upper() == 'H':\n",
    "        return True\n",
    "    else:\n",
    "        return False"
   ]
  },
  {
   "cell_type": "code",
   "execution_count": 136,
   "metadata": {
    "slideshow": {
     "slide_type": "fragment"
    }
   },
   "outputs": [],
   "source": [
    "with ConcolicTracer() as _:\n",
    "    r = _[tstr3]('h')"
   ]
  },
  {
   "cell_type": "markdown",
   "metadata": {
    "slideshow": {
     "slide_type": "fragment"
    }
   },
   "source": [
    "Again, we use `zeval()` to solve the collected constraints, and verify that our constraints are correct. "
   ]
  },
  {
   "cell_type": "code",
   "execution_count": 137,
   "metadata": {
    "slideshow": {
     "slide_type": "fragment"
    }
   },
   "outputs": [
    {
     "data": {
      "text/plain": [
       "('sat', {'s': ('h', 'String')})"
      ]
     },
     "execution_count": 137,
     "metadata": {},
     "output_type": "execute_result"
    }
   ],
   "source": [
    "_.zeval()"
   ]
  },
  {
   "cell_type": "markdown",
   "metadata": {
    "slideshow": {
     "slide_type": "fragment"
    }
   },
   "source": [
    "Here is a larger example using `upper()`"
   ]
  },
  {
   "cell_type": "code",
   "execution_count": 138,
   "metadata": {
    "slideshow": {
     "slide_type": "subslide"
    }
   },
   "outputs": [],
   "source": [
    "def tstr4(s):\n",
    "    if s.lower() == 'hello world':\n",
    "        return True\n",
    "    else:\n",
    "        return False"
   ]
  },
  {
   "cell_type": "code",
   "execution_count": 139,
   "metadata": {
    "slideshow": {
     "slide_type": "fragment"
    }
   },
   "outputs": [],
   "source": [
    "with ConcolicTracer() as _:\n",
    "    r = _[tstr4]('Hello World')"
   ]
  },
  {
   "cell_type": "code",
   "execution_count": 140,
   "metadata": {
    "slideshow": {
     "slide_type": "fragment"
    }
   },
   "outputs": [
    {
     "data": {
      "text/plain": [
       "('sat', {'s': ('Hello World', 'String')})"
      ]
     },
     "execution_count": 140,
     "metadata": {},
     "output_type": "execute_result"
    }
   ],
   "source": [
    "_.zeval()"
   ]
  },
  {
   "cell_type": "markdown",
   "metadata": {
    "slideshow": {
     "slide_type": "fragment"
    }
   },
   "source": [
    "Again, we obtain the right input value."
   ]
  },
  {
   "cell_type": "markdown",
   "metadata": {
    "slideshow": {
     "slide_type": "subslide"
    }
   },
   "source": [
    "##### Checking for String Prefixes\n",
    "We define `startswith()`."
   ]
  },
  {
   "cell_type": "code",
   "execution_count": 141,
   "metadata": {
    "slideshow": {
     "slide_type": "subslide"
    }
   },
   "outputs": [],
   "source": [
    "class zstr(zstr):\n",
    "    def startswith(self, other, beg=0, end=None):\n",
    "        assert end is None  # for now\n",
    "        assert isinstance(beg, int)  # for now\n",
    "        zb = z3.IntVal(beg)\n",
    "\n",
    "        others = other if isinstance(other, tuple) else (other, )\n",
    "\n",
    "        last = False\n",
    "        for o in others:\n",
    "            z, v = self._zv(o)\n",
    "            r = z3.IndexOf(self.z, z, zb)\n",
    "            last = zbool(self.context, r == zb, self.v.startswith(v))\n",
    "            if last:\n",
    "                return last\n",
    "        return last"
   ]
  },
  {
   "cell_type": "markdown",
   "metadata": {
    "slideshow": {
     "slide_type": "subslide"
    }
   },
   "source": [
    "An example."
   ]
  },
  {
   "cell_type": "code",
   "execution_count": 142,
   "metadata": {
    "slideshow": {
     "slide_type": "fragment"
    }
   },
   "outputs": [],
   "source": [
    "def tstr5(s):\n",
    "    if s.startswith('hello'):\n",
    "        return True\n",
    "    else:\n",
    "        return False"
   ]
  },
  {
   "cell_type": "code",
   "execution_count": 143,
   "metadata": {
    "slideshow": {
     "slide_type": "fragment"
    }
   },
   "outputs": [],
   "source": [
    "with ConcolicTracer() as _:\n",
    "    r = _[tstr5]('hello world')"
   ]
  },
  {
   "cell_type": "code",
   "execution_count": 144,
   "metadata": {
    "slideshow": {
     "slide_type": "fragment"
    }
   },
   "outputs": [
    {
     "data": {
      "text/plain": [
       "('sat', {'s': ('hello', 'String')})"
      ]
     },
     "execution_count": 144,
     "metadata": {},
     "output_type": "execute_result"
    }
   ],
   "source": [
    "_.zeval()"
   ]
  },
  {
   "cell_type": "code",
   "execution_count": 145,
   "metadata": {
    "slideshow": {
     "slide_type": "fragment"
    }
   },
   "outputs": [],
   "source": [
    "with ConcolicTracer() as _:\n",
    "    r = _[tstr5]('my world')"
   ]
  },
  {
   "cell_type": "code",
   "execution_count": 146,
   "metadata": {
    "slideshow": {
     "slide_type": "fragment"
    }
   },
   "outputs": [
    {
     "data": {
      "text/plain": [
       "('sat', {'s': ('\\\\x00hello', 'String')})"
      ]
     },
     "execution_count": 146,
     "metadata": {},
     "output_type": "execute_result"
    }
   ],
   "source": [
    "_.zeval()"
   ]
  },
  {
   "cell_type": "markdown",
   "metadata": {
    "slideshow": {
     "slide_type": "subslide"
    }
   },
   "source": [
    "As before, the predicates only ensure that the `startswith()` returned a true value. Hence, our solution reflects that."
   ]
  },
  {
   "cell_type": "markdown",
   "metadata": {
    "slideshow": {
     "slide_type": "subslide"
    }
   },
   "source": [
    "##### Finding Substrings\n",
    "We also define `find()`"
   ]
  },
  {
   "cell_type": "code",
   "execution_count": 147,
   "metadata": {
    "slideshow": {
     "slide_type": "fragment"
    }
   },
   "outputs": [],
   "source": [
    "class zstr(zstr):\n",
    "    def find(self, other, beg=0, end=None):\n",
    "        assert end is None  # for now\n",
    "        assert isinstance(beg, int)  # for now\n",
    "        zb = z3.IntVal(beg)\n",
    "        z, v = self._zv(other)\n",
    "        zi = z3.IndexOf(self.z, z, zb)\n",
    "        vi = self.v.find(v, beg, end)\n",
    "        return zint(self.context, zi, vi)"
   ]
  },
  {
   "cell_type": "markdown",
   "metadata": {
    "slideshow": {
     "slide_type": "fragment"
    }
   },
   "source": [
    "An example."
   ]
  },
  {
   "cell_type": "code",
   "execution_count": 148,
   "metadata": {
    "slideshow": {
     "slide_type": "subslide"
    }
   },
   "outputs": [],
   "source": [
    "def tstr6(s):\n",
    "    if s.find('world') != -1:\n",
    "        return True\n",
    "    else:\n",
    "        return False"
   ]
  },
  {
   "cell_type": "code",
   "execution_count": 149,
   "metadata": {
    "slideshow": {
     "slide_type": "fragment"
    }
   },
   "outputs": [],
   "source": [
    "with ConcolicTracer() as _:\n",
    "    r = _[tstr6]('hello world')"
   ]
  },
  {
   "cell_type": "code",
   "execution_count": 150,
   "metadata": {
    "slideshow": {
     "slide_type": "fragment"
    }
   },
   "outputs": [
    {
     "data": {
      "text/plain": [
       "('sat', {'s': ('world', 'String')})"
      ]
     },
     "execution_count": 150,
     "metadata": {},
     "output_type": "execute_result"
    }
   ],
   "source": [
    "_.zeval()"
   ]
  },
  {
   "cell_type": "markdown",
   "metadata": {
    "slideshow": {
     "slide_type": "fragment"
    }
   },
   "source": [
    "As before, the predicates only ensure that the `find()` returned a value greater than -1. Hence, our solution reflects that."
   ]
  },
  {
   "cell_type": "markdown",
   "metadata": {
    "slideshow": {
     "slide_type": "subslide"
    }
   },
   "source": [
    "##### Remove Space from Ends"
   ]
  },
  {
   "cell_type": "markdown",
   "metadata": {
    "slideshow": {
     "slide_type": "fragment"
    }
   },
   "source": [
    "We next implement `strip()`."
   ]
  },
  {
   "cell_type": "code",
   "execution_count": 151,
   "metadata": {
    "slideshow": {
     "slide_type": "skip"
    }
   },
   "outputs": [],
   "source": [
    "import string"
   ]
  },
  {
   "cell_type": "code",
   "execution_count": 152,
   "metadata": {
    "slideshow": {
     "slide_type": "subslide"
    }
   },
   "outputs": [],
   "source": [
    "class zstr(zstr):\n",
    "    def rstrip(self, chars=None):\n",
    "        if chars is None:\n",
    "            chars = string.whitespace\n",
    "        if self._len == 0:\n",
    "            return self\n",
    "        else:\n",
    "            last_idx = self._len - 1\n",
    "            cz = z3.SubString(self.z, last_idx.z, 1)\n",
    "            cv = self.v[-1]\n",
    "            zcheck_space = z3.Or([cz == z3.StringVal(char) for char in chars])\n",
    "            vcheck_space = any(cv == char for char in chars)\n",
    "            if zbool(self.context, zcheck_space, vcheck_space):\n",
    "                return zstr(self.context, z3.SubString(self.z, 0, last_idx.z),\n",
    "                            self.v[0:-1]).rstrip(chars)\n",
    "            else:\n",
    "                return self"
   ]
  },
  {
   "cell_type": "code",
   "execution_count": 153,
   "metadata": {
    "slideshow": {
     "slide_type": "subslide"
    }
   },
   "outputs": [],
   "source": [
    "def tstr7(s):\n",
    "    if s.rstrip(' ') == 'a b':\n",
    "        return True\n",
    "    else:\n",
    "        return False"
   ]
  },
  {
   "cell_type": "code",
   "execution_count": 154,
   "metadata": {
    "slideshow": {
     "slide_type": "fragment"
    }
   },
   "outputs": [
    {
     "name": "stdout",
     "output_type": "stream",
     "text": [
      "True\n"
     ]
    }
   ],
   "source": [
    "with ConcolicTracer() as _:\n",
    "    r = _[tstr7]('a b   ')\n",
    "    print(r)"
   ]
  },
  {
   "cell_type": "code",
   "execution_count": 155,
   "metadata": {
    "slideshow": {
     "slide_type": "fragment"
    }
   },
   "outputs": [
    {
     "data": {
      "text/plain": [
       "('sat', {'s': ('a b   ', 'String')})"
      ]
     },
     "execution_count": 155,
     "metadata": {},
     "output_type": "execute_result"
    }
   ],
   "source": [
    "_.zeval()"
   ]
  },
  {
   "cell_type": "code",
   "execution_count": 156,
   "metadata": {
    "slideshow": {
     "slide_type": "subslide"
    }
   },
   "outputs": [],
   "source": [
    "class zstr(zstr):\n",
    "    def lstrip(self, chars=None):\n",
    "        if chars is None:\n",
    "            chars = string.whitespace\n",
    "        if self._len == 0:\n",
    "            return self\n",
    "        else:\n",
    "            first_idx = 0\n",
    "            cz = z3.SubString(self.z, 0, 1)\n",
    "            cv = self.v[0]\n",
    "            zcheck_space = z3.Or([cz == z3.StringVal(char) for char in chars])\n",
    "            vcheck_space = any(cv == char for char in chars)\n",
    "            if zbool(self.context, zcheck_space, vcheck_space):\n",
    "                return zstr(self.context, z3.SubString(\n",
    "                    self.z, 1, self._len.z), self.v[1:]).lstrip(chars)\n",
    "            else:\n",
    "                return self"
   ]
  },
  {
   "cell_type": "code",
   "execution_count": 157,
   "metadata": {
    "slideshow": {
     "slide_type": "subslide"
    }
   },
   "outputs": [],
   "source": [
    "def tstr8(s):\n",
    "    if s.lstrip(' ') == 'a b':\n",
    "        return True\n",
    "    else:\n",
    "        return False"
   ]
  },
  {
   "cell_type": "code",
   "execution_count": 158,
   "metadata": {
    "slideshow": {
     "slide_type": "fragment"
    }
   },
   "outputs": [
    {
     "name": "stdout",
     "output_type": "stream",
     "text": [
      "True\n"
     ]
    }
   ],
   "source": [
    "with ConcolicTracer() as _:\n",
    "    r = _[tstr8]('   a b')\n",
    "    print(r)"
   ]
  },
  {
   "cell_type": "code",
   "execution_count": 159,
   "metadata": {
    "slideshow": {
     "slide_type": "fragment"
    }
   },
   "outputs": [
    {
     "data": {
      "text/plain": [
       "('sat', {'s': ('   a b', 'String')})"
      ]
     },
     "execution_count": 159,
     "metadata": {},
     "output_type": "execute_result"
    }
   ],
   "source": [
    "_.zeval()"
   ]
  },
  {
   "cell_type": "code",
   "execution_count": 160,
   "metadata": {
    "slideshow": {
     "slide_type": "fragment"
    }
   },
   "outputs": [],
   "source": [
    "class zstr(zstr):\n",
    "    def strip(self, chars=None):\n",
    "        return self.lstrip(chars).rstrip(chars)"
   ]
  },
  {
   "cell_type": "markdown",
   "metadata": {
    "slideshow": {
     "slide_type": "subslide"
    }
   },
   "source": [
    "Example usage."
   ]
  },
  {
   "cell_type": "code",
   "execution_count": 161,
   "metadata": {
    "slideshow": {
     "slide_type": "fragment"
    }
   },
   "outputs": [],
   "source": [
    "def tstr9(s):\n",
    "    if s.strip() == 'a b':\n",
    "        return True\n",
    "    else:\n",
    "        return False"
   ]
  },
  {
   "cell_type": "code",
   "execution_count": 162,
   "metadata": {
    "slideshow": {
     "slide_type": "fragment"
    }
   },
   "outputs": [
    {
     "name": "stdout",
     "output_type": "stream",
     "text": [
      "True\n"
     ]
    }
   ],
   "source": [
    "with ConcolicTracer() as _:\n",
    "    r = _[tstr9]('    a b  ')\n",
    "    print(r)"
   ]
  },
  {
   "cell_type": "code",
   "execution_count": 163,
   "metadata": {
    "slideshow": {
     "slide_type": "fragment"
    }
   },
   "outputs": [
    {
     "data": {
      "text/plain": [
       "('sat', {'s': (' \\\\f\\\\x09\\\\x09a b\\\\f ', 'String')})"
      ]
     },
     "execution_count": 163,
     "metadata": {},
     "output_type": "execute_result"
    }
   ],
   "source": [
    "_.zeval()"
   ]
  },
  {
   "cell_type": "markdown",
   "metadata": {
    "slideshow": {
     "slide_type": "fragment"
    }
   },
   "source": [
    "The `strip()` has generated the right constraints. "
   ]
  },
  {
   "cell_type": "markdown",
   "metadata": {
    "slideshow": {
     "slide_type": "subslide"
    }
   },
   "source": [
    "##### Splitting Strings\n",
    "\n",
    "We implement string `split()` as follows."
   ]
  },
  {
   "cell_type": "code",
   "execution_count": 164,
   "metadata": {
    "slideshow": {
     "slide_type": "subslide"
    }
   },
   "outputs": [],
   "source": [
    "class zstr(zstr):\n",
    "    def split(self, sep=None, maxsplit=-1):\n",
    "        assert sep is not None  # default space based split is complicated\n",
    "        assert maxsplit == -1  # for now.\n",
    "        zsep = z3.StringVal(sep)\n",
    "        zl = z3.Length(zsep)\n",
    "        # zi would be the length of prefix\n",
    "        zi = z3.IndexOf(self.z, zsep, z3.IntVal(0))\n",
    "        # Z3Bug: There is a bug in the `z3.IndexOf` method which returns\n",
    "        # `z3.SeqRef` instead of `z3.ArithRef`. So we need to fix it.\n",
    "        zi = z3.ArithRef(zi.ast, zi.ctx)\n",
    "\n",
    "        vi = self.v.find(sep)\n",
    "        if zbool(self.context, zi >= z3.IntVal(0), vi >= 0):\n",
    "            zprefix = z3.SubString(self.z, z3.IntVal(0), zi)\n",
    "            zmid = z3.SubString(self.z, zi, zl)\n",
    "            zsuffix = z3.SubString(self.z, zi + zl,\n",
    "                                   z3.Length(self.z))\n",
    "            return [zstr(self.context, zprefix, self.v[0:vi])] + zstr(\n",
    "                self.context, zsuffix, self.v[vi + len(sep):]).split(\n",
    "                    sep, maxsplit)\n",
    "        else:\n",
    "            return [self]"
   ]
  },
  {
   "cell_type": "code",
   "execution_count": 165,
   "metadata": {
    "slideshow": {
     "slide_type": "subslide"
    }
   },
   "outputs": [],
   "source": [
    "def tstr10(s):\n",
    "    if s.split(',') == ['a', 'b', 'c']:\n",
    "        return True\n",
    "    else:\n",
    "        return False"
   ]
  },
  {
   "cell_type": "code",
   "execution_count": 166,
   "metadata": {
    "slideshow": {
     "slide_type": "fragment"
    }
   },
   "outputs": [
    {
     "name": "stdout",
     "output_type": "stream",
     "text": [
      "True\n"
     ]
    }
   ],
   "source": [
    "with ConcolicTracer() as _:\n",
    "    r = _[tstr10]('a,b,c')\n",
    "    print(r)"
   ]
  },
  {
   "cell_type": "code",
   "execution_count": 167,
   "metadata": {
    "slideshow": {
     "slide_type": "fragment"
    }
   },
   "outputs": [
    {
     "data": {
      "text/plain": [
       "('sat', {'s': ('a,b,c', 'String')})"
      ]
     },
     "execution_count": 167,
     "metadata": {},
     "output_type": "execute_result"
    }
   ],
   "source": [
    "_.zeval()"
   ]
  },
  {
   "cell_type": "markdown",
   "metadata": {
    "slideshow": {
     "slide_type": "subslide"
    }
   },
   "source": [
    "##### Trip Wire\n",
    "\n",
    "For easier debugging, we abort any calls to methods in `str` that are not overridden by `zstr`."
   ]
  },
  {
   "cell_type": "code",
   "execution_count": 168,
   "metadata": {
    "slideshow": {
     "slide_type": "fragment"
    }
   },
   "outputs": [],
   "source": [
    "def make_str_abort_wrapper(fun):\n",
    "    def proxy(*args, **kwargs):\n",
    "        raise Exception('%s Not implemented in `zstr`' % fun.__name__)\n",
    "    return proxy"
   ]
  },
  {
   "cell_type": "code",
   "execution_count": 169,
   "metadata": {
    "slideshow": {
     "slide_type": "subslide"
    }
   },
   "outputs": [],
   "source": [
    "def init_concolic_3():\n",
    "    strmembers = inspect.getmembers(zstr, callable)\n",
    "    zstrmembers = {m[0] for m in strmembers if len(\n",
    "        m) == 2 and 'zstr' in m[1].__qualname__}\n",
    "    for name, fn in inspect.getmembers(str, callable):\n",
    "        # Omitted 'splitlines' as this is needed for formatting output in\n",
    "        # IPython/Jupyter\n",
    "        if name not in zstrmembers and name not in [\n",
    "            'splitlines',\n",
    "            '__class__',\n",
    "            '__contains__',\n",
    "            '__delattr__',\n",
    "            '__dir__',\n",
    "            '__format__',\n",
    "            '__ge__',\n",
    "            '__getattribute__',\n",
    "            '__getnewargs__',\n",
    "            '__gt__',\n",
    "            '__hash__',\n",
    "            '__le__',\n",
    "            '__len__',\n",
    "            '__lt__',\n",
    "            '__mod__',\n",
    "            '__mul__',\n",
    "            '__ne__',\n",
    "            '__reduce__',\n",
    "            '__reduce_ex__',\n",
    "            '__repr__',\n",
    "            '__rmod__',\n",
    "            '__rmul__',\n",
    "            '__setattr__',\n",
    "            '__sizeof__',\n",
    "                '__str__']:\n",
    "            setattr(zstr, name, make_str_abort_wrapper(fn))"
   ]
  },
  {
   "cell_type": "code",
   "execution_count": 170,
   "metadata": {
    "slideshow": {
     "slide_type": "subslide"
    }
   },
   "outputs": [],
   "source": [
    "INITIALIZER_LIST.append(init_concolic_3)"
   ]
  },
  {
   "cell_type": "code",
   "execution_count": 171,
   "metadata": {
    "slideshow": {
     "slide_type": "fragment"
    }
   },
   "outputs": [],
   "source": [
    "init_concolic_3()"
   ]
  },
  {
   "cell_type": "markdown",
   "metadata": {
    "slideshow": {
     "slide_type": "slide"
    }
   },
   "source": [
    "## Examples"
   ]
  },
  {
   "cell_type": "markdown",
   "metadata": {
    "slideshow": {
     "slide_type": "subslide"
    }
   },
   "source": [
    "### Triangle\n",
    "\n",
    "We previously showed how to run `triangle()` under `ConcolicTracer`."
   ]
  },
  {
   "cell_type": "code",
   "execution_count": 172,
   "metadata": {
    "slideshow": {
     "slide_type": "fragment"
    }
   },
   "outputs": [
    {
     "name": "stdout",
     "output_type": "stream",
     "text": [
      "scalene\n"
     ]
    }
   ],
   "source": [
    "with ConcolicTracer() as _:\n",
    "    print(_[triangle](1, 2, 3))"
   ]
  },
  {
   "cell_type": "markdown",
   "metadata": {
    "slideshow": {
     "slide_type": "fragment"
    }
   },
   "source": [
    "The predicates are as follows:"
   ]
  },
  {
   "cell_type": "code",
   "execution_count": 173,
   "metadata": {
    "slideshow": {
     "slide_type": "fragment"
    }
   },
   "outputs": [
    {
     "data": {
      "text/plain": [
       "[Not(triangle_a_int_1 == triangle_b_int_2),\n",
       " Not(triangle_b_int_2 == triangle_c_int_3),\n",
       " Not(triangle_a_int_1 == triangle_c_int_3)]"
      ]
     },
     "execution_count": 173,
     "metadata": {},
     "output_type": "execute_result"
    }
   ],
   "source": [
    "_.path"
   ]
  },
  {
   "cell_type": "code",
   "execution_count": 174,
   "metadata": {
    "slideshow": {
     "slide_type": "subslide"
    }
   },
   "outputs": [
    {
     "data": {
      "text/plain": [
       "('sat',\n",
       " {'a': ('0', 'Int'), 'b': (['-', '2'], 'Int'), 'c': (['-', '1'], 'Int')})"
      ]
     },
     "execution_count": 174,
     "metadata": {},
     "output_type": "execute_result"
    }
   ],
   "source": [
    "_.zeval()"
   ]
  },
  {
   "cell_type": "markdown",
   "metadata": {
    "slideshow": {
     "slide_type": "fragment"
    }
   },
   "source": [
    "We can modify the predicates if necessary. First, we retrieve the symbolic variables."
   ]
  },
  {
   "cell_type": "code",
   "execution_count": 175,
   "metadata": {
    "slideshow": {
     "slide_type": "fragment"
    }
   },
   "outputs": [],
   "source": [
    "za, zb, zc = [z3.Int(s) for s in _.context[0].keys()]"
   ]
  },
  {
   "cell_type": "markdown",
   "metadata": {
    "slideshow": {
     "slide_type": "fragment"
    }
   },
   "source": [
    "Then, we pass a modified predicate to `zeval()`. The key determines which predicate the new predicate will replace."
   ]
  },
  {
   "cell_type": "code",
   "execution_count": 176,
   "metadata": {
    "slideshow": {
     "slide_type": "fragment"
    }
   },
   "outputs": [
    {
     "data": {
      "text/plain": [
       "('sat', {'a': -1, 'b': -2, 'c': 0})"
      ]
     },
     "execution_count": 176,
     "metadata": {},
     "output_type": "execute_result"
    }
   ],
   "source": [
    "_.zeval({1: zb == zc})"
   ]
  },
  {
   "cell_type": "code",
   "execution_count": 177,
   "metadata": {
    "slideshow": {
     "slide_type": "fragment"
    }
   },
   "outputs": [
    {
     "data": {
      "text/plain": [
       "'isosceles'"
      ]
     },
     "execution_count": 177,
     "metadata": {},
     "output_type": "execute_result"
    }
   ],
   "source": [
    "triangle(1, 0, 1)"
   ]
  },
  {
   "cell_type": "markdown",
   "metadata": {
    "slideshow": {
     "slide_type": "fragment"
    }
   },
   "source": [
    "The updated predicate returns `isosceles` as expected."
   ]
  },
  {
   "cell_type": "markdown",
   "metadata": {
    "slideshow": {
     "slide_type": "subslide"
    }
   },
   "source": [
    "### Round\n",
    "\n",
    "Here is a function that gives you the nearest ten's multiplier"
   ]
  },
  {
   "cell_type": "code",
   "execution_count": 178,
   "metadata": {
    "slideshow": {
     "slide_type": "fragment"
    }
   },
   "outputs": [],
   "source": [
    "def round10(r):\n",
    "    while r % 10 != 0:\n",
    "        r += 1\n",
    "    return r"
   ]
  },
  {
   "cell_type": "markdown",
   "metadata": {
    "slideshow": {
     "slide_type": "fragment"
    }
   },
   "source": [
    "As before, we execute the function under the `ConcolicTracer` context."
   ]
  },
  {
   "cell_type": "code",
   "execution_count": 179,
   "metadata": {
    "slideshow": {
     "slide_type": "fragment"
    }
   },
   "outputs": [],
   "source": [
    "with ConcolicTracer() as _:\n",
    "    r = _[round10](1)"
   ]
  },
  {
   "cell_type": "markdown",
   "metadata": {
    "slideshow": {
     "slide_type": "fragment"
    }
   },
   "source": [
    "We verify that we were able to capture all the predicates"
   ]
  },
  {
   "cell_type": "code",
   "execution_count": 180,
   "metadata": {
    "slideshow": {
     "slide_type": "subslide"
    }
   },
   "outputs": [
    {
     "data": {
      "text/plain": [
       "({'round10_r_int_1': 'Int'},\n",
       " [0 != round10_r_int_1%10,\n",
       "  0 != (round10_r_int_1 + 1)%10,\n",
       "  0 != (round10_r_int_1 + 1 + 1)%10,\n",
       "  0 != (round10_r_int_1 + 1 + 1 + 1)%10,\n",
       "  0 != (round10_r_int_1 + 1 + 1 + 1 + 1)%10,\n",
       "  0 != (round10_r_int_1 + 1 + 1 + 1 + 1 + 1)%10,\n",
       "  0 != (round10_r_int_1 + 1 + 1 + 1 + 1 + 1 + 1)%10,\n",
       "  0 != (round10_r_int_1 + 1 + 1 + 1 + 1 + 1 + 1 + 1)%10,\n",
       "  0 != (round10_r_int_1 + 1 + 1 + 1 + 1 + 1 + 1 + 1 + 1)%10,\n",
       "  Not(0 !=\n",
       "      (round10_r_int_1 + 1 + 1 + 1 + 1 + 1 + 1 + 1 + 1 + 1)%10)])"
      ]
     },
     "execution_count": 180,
     "metadata": {},
     "output_type": "execute_result"
    }
   ],
   "source": [
    "_.context"
   ]
  },
  {
   "cell_type": "markdown",
   "metadata": {
    "slideshow": {
     "slide_type": "fragment"
    }
   },
   "source": [
    "We use `zeval()` to obtain results."
   ]
  },
  {
   "cell_type": "code",
   "execution_count": 181,
   "metadata": {
    "slideshow": {
     "slide_type": "subslide"
    }
   },
   "outputs": [
    {
     "data": {
      "text/plain": [
       "('sat', {'r': ('21', 'Int')})"
      ]
     },
     "execution_count": 181,
     "metadata": {},
     "output_type": "execute_result"
    }
   ],
   "source": [
    "_.zeval()"
   ]
  },
  {
   "cell_type": "markdown",
   "metadata": {
    "slideshow": {
     "slide_type": "subslide"
    }
   },
   "source": [
    "### Absolute Maximum\n",
    "\n",
    "Does our concolic proxies work across functions? Say we have a function `max_value()` as below."
   ]
  },
  {
   "cell_type": "code",
   "execution_count": 182,
   "metadata": {
    "slideshow": {
     "slide_type": "fragment"
    }
   },
   "outputs": [],
   "source": [
    "def abs_value(a):\n",
    "    if a > 0:\n",
    "        return a\n",
    "    else:\n",
    "        return -a"
   ]
  },
  {
   "cell_type": "markdown",
   "metadata": {
    "slideshow": {
     "slide_type": "fragment"
    }
   },
   "source": [
    "It is called by another function `abs_max()`"
   ]
  },
  {
   "cell_type": "code",
   "execution_count": 183,
   "metadata": {
    "slideshow": {
     "slide_type": "subslide"
    }
   },
   "outputs": [],
   "source": [
    "def abs_max(a, b):\n",
    "    a1 = abs_value(a)\n",
    "    b1 = abs_value(b)\n",
    "    if a1 > b1:\n",
    "        c = a1\n",
    "    else:\n",
    "        c = b1\n",
    "    return c"
   ]
  },
  {
   "cell_type": "markdown",
   "metadata": {
    "slideshow": {
     "slide_type": "fragment"
    }
   },
   "source": [
    "Using the `Concolic()` context on `abs_max()`."
   ]
  },
  {
   "cell_type": "code",
   "execution_count": 184,
   "metadata": {
    "slideshow": {
     "slide_type": "fragment"
    }
   },
   "outputs": [],
   "source": [
    "with ConcolicTracer() as _:\n",
    "    _[abs_max](2, 1)"
   ]
  },
  {
   "cell_type": "markdown",
   "metadata": {
    "slideshow": {
     "slide_type": "fragment"
    }
   },
   "source": [
    "As expected, we have the predicates across functions."
   ]
  },
  {
   "cell_type": "code",
   "execution_count": 185,
   "metadata": {
    "slideshow": {
     "slide_type": "fragment"
    }
   },
   "outputs": [
    {
     "data": {
      "text/plain": [
       "({'abs_max_a_int_1': 'Int', 'abs_max_b_int_2': 'Int'},\n",
       " [0 < abs_max_a_int_1, 0 < abs_max_b_int_2, abs_max_a_int_1 > abs_max_b_int_2])"
      ]
     },
     "execution_count": 185,
     "metadata": {},
     "output_type": "execute_result"
    }
   ],
   "source": [
    "_.context"
   ]
  },
  {
   "cell_type": "code",
   "execution_count": 186,
   "metadata": {
    "slideshow": {
     "slide_type": "subslide"
    }
   },
   "outputs": [
    {
     "data": {
      "text/plain": [
       "('sat', {'a': ('2', 'Int'), 'b': ('1', 'Int')})"
      ]
     },
     "execution_count": 186,
     "metadata": {},
     "output_type": "execute_result"
    }
   ],
   "source": [
    "_.zeval()"
   ]
  },
  {
   "cell_type": "markdown",
   "metadata": {
    "slideshow": {
     "slide_type": "fragment"
    }
   },
   "source": [
    "Solving the predicates works as expected."
   ]
  },
  {
   "cell_type": "markdown",
   "metadata": {
    "slideshow": {
     "slide_type": "fragment"
    }
   },
   "source": [
    "Using negative numbers as arguments so that a different branch is taken in `abs_value()`"
   ]
  },
  {
   "cell_type": "code",
   "execution_count": 187,
   "metadata": {
    "slideshow": {
     "slide_type": "fragment"
    }
   },
   "outputs": [],
   "source": [
    "with ConcolicTracer() as _:\n",
    "    _[abs_max](-2, -1)"
   ]
  },
  {
   "cell_type": "code",
   "execution_count": 188,
   "metadata": {
    "slideshow": {
     "slide_type": "fragment"
    }
   },
   "outputs": [
    {
     "data": {
      "text/plain": [
       "({'abs_max_a_int_1': 'Int', 'abs_max_b_int_2': 'Int'},\n",
       " [Not(0 < abs_max_a_int_1),\n",
       "  Not(0 < abs_max_b_int_2),\n",
       "  -abs_max_a_int_1 > -abs_max_b_int_2])"
      ]
     },
     "execution_count": 188,
     "metadata": {},
     "output_type": "execute_result"
    }
   ],
   "source": [
    "_.context"
   ]
  },
  {
   "cell_type": "code",
   "execution_count": 189,
   "metadata": {
    "slideshow": {
     "slide_type": "fragment"
    }
   },
   "outputs": [
    {
     "data": {
      "text/plain": [
       "('sat', {'a': (['-', '1'], 'Int'), 'b': ('0', 'Int')})"
      ]
     },
     "execution_count": 189,
     "metadata": {},
     "output_type": "execute_result"
    }
   ],
   "source": [
    "_.zeval()"
   ]
  },
  {
   "cell_type": "markdown",
   "metadata": {
    "slideshow": {
     "slide_type": "subslide"
    }
   },
   "source": [
    "The solution reflects our predicates. (We used `a > 0` in `abs_value()`)."
   ]
  },
  {
   "cell_type": "markdown",
   "metadata": {
    "slideshow": {
     "slide_type": "subslide"
    }
   },
   "source": [
    "### Binomial Coefficient\n",
    "\n",
    "For a larger example that uses different kinds of variables, say we want to compute the binomial coefficient by the following formulas\n",
    "\n",
    "$$ \n",
    "^nP_k=\\frac{n!}{(n-k)!}\n",
    "$$\n",
    "\n",
    "$$\n",
    "\\binom nk=\\,^nC_k=\\frac{^nP_k}{k!}\n",
    "$$\n"
   ]
  },
  {
   "cell_type": "markdown",
   "metadata": {
    "slideshow": {
     "slide_type": "subslide"
    }
   },
   "source": [
    "we define the functions as follows."
   ]
  },
  {
   "cell_type": "code",
   "execution_count": 190,
   "metadata": {
    "slideshow": {
     "slide_type": "fragment"
    }
   },
   "outputs": [],
   "source": [
    "def factorial(n):\n",
    "    v = 1\n",
    "    while n != 0:\n",
    "        v *= n\n",
    "        n -= 1\n",
    "    return v"
   ]
  },
  {
   "cell_type": "code",
   "execution_count": 191,
   "metadata": {
    "slideshow": {
     "slide_type": "fragment"
    }
   },
   "outputs": [],
   "source": [
    "def permutation(n, k):\n",
    "    return factorial(n) / factorial(n - k)"
   ]
  },
  {
   "cell_type": "code",
   "execution_count": 192,
   "metadata": {
    "slideshow": {
     "slide_type": "fragment"
    }
   },
   "outputs": [],
   "source": [
    "def combination(n, k):\n",
    "    return permutation(n, k) / factorial(k)"
   ]
  },
  {
   "cell_type": "code",
   "execution_count": 193,
   "metadata": {
    "slideshow": {
     "slide_type": "fragment"
    }
   },
   "outputs": [],
   "source": [
    "def binomial(n, k):\n",
    "    if n < 0 or k < 0 or n < k:\n",
    "        raise Exception('Invalid values')\n",
    "    return combination(n, k)"
   ]
  },
  {
   "cell_type": "markdown",
   "metadata": {
    "slideshow": {
     "slide_type": "subslide"
    }
   },
   "source": [
    "As before, we run the function under `ConcolicTracer`."
   ]
  },
  {
   "cell_type": "code",
   "execution_count": 194,
   "metadata": {
    "slideshow": {
     "slide_type": "fragment"
    }
   },
   "outputs": [],
   "source": [
    "with ConcolicTracer() as _:\n",
    "    v = _[binomial](4, 2)"
   ]
  },
  {
   "cell_type": "markdown",
   "metadata": {
    "slideshow": {
     "slide_type": "fragment"
    }
   },
   "source": [
    "Then call `zeval()` to evaluate."
   ]
  },
  {
   "cell_type": "code",
   "execution_count": 195,
   "metadata": {
    "slideshow": {
     "slide_type": "fragment"
    }
   },
   "outputs": [
    {
     "data": {
      "text/plain": [
       "('sat', {'n': ('4', 'Int'), 'k': ('2', 'Int')})"
      ]
     },
     "execution_count": 195,
     "metadata": {},
     "output_type": "execute_result"
    }
   ],
   "source": [
    "_.zeval()"
   ]
  },
  {
   "cell_type": "raw",
   "metadata": {
    "slideshow": {
     "slide_type": "skip"
    }
   },
   "source": [
    "The values returned are same as the input values as expected."
   ]
  },
  {
   "cell_type": "markdown",
   "metadata": {
    "slideshow": {
     "slide_type": "subslide"
    }
   },
   "source": [
    "### Database"
   ]
  },
  {
   "cell_type": "markdown",
   "metadata": {
    "slideshow": {
     "slide_type": "fragment"
    },
    "toc-hr-collapsed": true
   },
   "source": [
    "For a larger example using the Concolic String class `zstr`, We use the DB class from the [chapter on information flow](InformationFlow.ipynb)."
   ]
  },
  {
   "cell_type": "code",
   "execution_count": 196,
   "metadata": {
    "slideshow": {
     "slide_type": "skip"
    }
   },
   "outputs": [],
   "source": [
    "from InformationFlow import DB, sample_db, update_inventory"
   ]
  },
  {
   "cell_type": "markdown",
   "metadata": {
    "slideshow": {
     "slide_type": "fragment"
    }
   },
   "source": [
    "We first populate our database."
   ]
  },
  {
   "cell_type": "code",
   "execution_count": 197,
   "metadata": {
    "slideshow": {
     "slide_type": "skip"
    }
   },
   "outputs": [],
   "source": [
    "from GrammarMiner import VEHICLES  # minor dependency"
   ]
  },
  {
   "cell_type": "code",
   "execution_count": 198,
   "metadata": {
    "slideshow": {
     "slide_type": "fragment"
    }
   },
   "outputs": [],
   "source": [
    "db = sample_db()\n",
    "for V in VEHICLES:\n",
    "    update_inventory(db, V)"
   ]
  },
  {
   "cell_type": "code",
   "execution_count": 199,
   "metadata": {
    "slideshow": {
     "slide_type": "fragment"
    }
   },
   "outputs": [
    {
     "data": {
      "text/plain": [
       "{'inventory': ({'year': int, 'kind': str, 'company': str, 'model': str},\n",
       "  [{'year': 1997, 'kind': 'van', 'company': 'Ford', 'model': 'E350'},\n",
       "   {'year': 2000, 'kind': 'car', 'company': 'Mercury', 'model': 'Cougar'},\n",
       "   {'year': 1999, 'kind': 'car', 'company': 'Chevy', 'model': 'Venture'}])}"
      ]
     },
     "execution_count": 199,
     "metadata": {},
     "output_type": "execute_result"
    }
   ],
   "source": [
    "db.db"
   ]
  },
  {
   "cell_type": "markdown",
   "metadata": {
    "slideshow": {
     "slide_type": "subslide"
    }
   },
   "source": [
    "We are now ready to fuzz our `DB` class. Hash functions are difficult to handle directly (because they rely on internal C functions). Hence we modify `table()` slightly."
   ]
  },
  {
   "cell_type": "code",
   "execution_count": 200,
   "metadata": {
    "slideshow": {
     "slide_type": "fragment"
    }
   },
   "outputs": [],
   "source": [
    "class ConcolicDB(DB):\n",
    "    def table(self, t_name):\n",
    "        for k, v in self.db:\n",
    "            if t_name == k:\n",
    "                return v\n",
    "        raise SQLException('Table (%s) was not found' % repr(t_name))\n",
    "\n",
    "    def column(self, decl, c_name):\n",
    "        for k in decl:\n",
    "            if c_name == k:\n",
    "                return decl[k]\n",
    "        raise SQLException('Column (%s) was not found' % repr(c_name))"
   ]
  },
  {
   "cell_type": "markdown",
   "metadata": {
    "slideshow": {
     "slide_type": "subslide"
    }
   },
   "source": [
    "To make it easy, we define a single function `db_select()` that directly invokes `db.sql()`."
   ]
  },
  {
   "cell_type": "code",
   "execution_count": 201,
   "metadata": {
    "slideshow": {
     "slide_type": "fragment"
    }
   },
   "outputs": [],
   "source": [
    "def db_select(s):\n",
    "    my_db = ConcolicDB()\n",
    "    my_db.db = [(k, v) for (k, v) in db.db.items()]\n",
    "    r = my_db.sql(s)\n",
    "    return r"
   ]
  },
  {
   "cell_type": "markdown",
   "metadata": {
    "slideshow": {
     "slide_type": "fragment"
    }
   },
   "source": [
    "We now want to run SQL statements under our `ConcolicTracer`, and collect predicates obtained."
   ]
  },
  {
   "cell_type": "code",
   "execution_count": 202,
   "metadata": {
    "slideshow": {
     "slide_type": "fragment"
    }
   },
   "outputs": [],
   "source": [
    "with ConcolicTracer() as _:\n",
    "    _[db_select]('select kind from inventory')"
   ]
  },
  {
   "cell_type": "markdown",
   "metadata": {
    "slideshow": {
     "slide_type": "fragment"
    }
   },
   "source": [
    "The predicates encountered during the execution are as follows:"
   ]
  },
  {
   "cell_type": "code",
   "execution_count": 203,
   "metadata": {
    "slideshow": {
     "slide_type": "subslide"
    }
   },
   "outputs": [
    {
     "data": {
      "text/plain": [
       "[0 == IndexOf(db_select_s_str_1, \"select \", 0),\n",
       " 0 == IndexOf(db_select_s_str_1, \"select \", 0),\n",
       " Not(0 >\n",
       "     IndexOf(str.substr(db_select_s_str_1, 7, 19),\n",
       "             \" from \",\n",
       "             0)),\n",
       " Not(19 <\n",
       "     IndexOf(str.substr(db_select_s_str_1, 7, 19),\n",
       "             \" from \",\n",
       "             0)),\n",
       " Or(0 <\n",
       "    IndexOf(str.substr(db_select_s_str_1, 7, 19),\n",
       "            \" from \",\n",
       "            0),\n",
       "    0 ==\n",
       "    IndexOf(str.substr(db_select_s_str_1, 7, 19),\n",
       "            \" from \",\n",
       "            0)),\n",
       " Not(Or(0 <\n",
       "        IndexOf(str.substr(db_select_s_str_1, 7, 19),\n",
       "                \" where \",\n",
       "                0),\n",
       "        0 ==\n",
       "        IndexOf(str.substr(db_select_s_str_1, 7, 19),\n",
       "                \" where \",\n",
       "                0))),\n",
       " Not(19 <\n",
       "     IndexOf(str.substr(db_select_s_str_1, 7, 19),\n",
       "             \" from \",\n",
       "             0) +\n",
       "     6),\n",
       " Or(19 >\n",
       "    IndexOf(str.substr(db_select_s_str_1, 7, 19),\n",
       "            \" from \",\n",
       "            0) +\n",
       "    6,\n",
       "    19 ==\n",
       "    IndexOf(str.substr(db_select_s_str_1, 7, 19),\n",
       "            \" from \",\n",
       "            0) +\n",
       "    6),\n",
       " str.substr(str.substr(db_select_s_str_1, 7, 19), 10, 9) ==\n",
       " \"inventory\"]"
      ]
     },
     "execution_count": 203,
     "metadata": {},
     "output_type": "execute_result"
    }
   ],
   "source": [
    "_.path"
   ]
  },
  {
   "cell_type": "markdown",
   "metadata": {
    "slideshow": {
     "slide_type": "subslide"
    }
   },
   "source": [
    "We can use `zeval()` as before to solve the constraints."
   ]
  },
  {
   "cell_type": "code",
   "execution_count": 204,
   "metadata": {
    "slideshow": {
     "slide_type": "fragment"
    }
   },
   "outputs": [
    {
     "data": {
      "text/plain": [
       "('sat', {'s': ('select \\\\x00\\\\x02\\\\x00\\\\x00 from inventory', 'String')})"
      ]
     },
     "execution_count": 204,
     "metadata": {},
     "output_type": "execute_result"
    }
   ],
   "source": [
    "_.zeval()"
   ]
  },
  {
   "cell_type": "markdown",
   "metadata": {
    "slideshow": {
     "slide_type": "slide"
    }
   },
   "source": [
    "## Fuzzing with Constraints\n",
    "\n",
    "In this section, we show how to use the infrastructure we built for concolic execution for guiding fuzzing.\n",
    "\n",
    "\n",
    "### SimpleConcolicFuzzer\n",
    "\n",
    "The `SimpleConcolicFuzzer` starts with a sample input generated by some other fuzzer. It then runs the function being tested under `ConcolicTracer`, and collects the path predicates. It then negates random predicates within the path and solves it with *z3* to produce a new output that is guaranteed to take a different path than the original."
   ]
  },
  {
   "cell_type": "markdown",
   "metadata": {
    "slideshow": {
     "slide_type": "subslide"
    }
   },
   "source": [
    "First, we import the `Fuzzer` interface, and an example program `hang_if_no_space()`"
   ]
  },
  {
   "cell_type": "code",
   "execution_count": 205,
   "metadata": {
    "slideshow": {
     "slide_type": "skip"
    }
   },
   "outputs": [],
   "source": [
    "from Fuzzer import Fuzzer, hang_if_no_space"
   ]
  },
  {
   "cell_type": "code",
   "execution_count": 206,
   "metadata": {
    "slideshow": {
     "slide_type": "skip"
    }
   },
   "outputs": [],
   "source": [
    "from ExpectError import ExpectTimeout, ExpectError"
   ]
  },
  {
   "cell_type": "code",
   "execution_count": 207,
   "metadata": {
    "slideshow": {
     "slide_type": "skip"
    }
   },
   "outputs": [],
   "source": [
    "import random"
   ]
  },
  {
   "cell_type": "markdown",
   "metadata": {
    "slideshow": {
     "slide_type": "fragment"
    }
   },
   "source": [
    "To make fuzzer work, we need a way to represent decisions made during trace. We keep this in a binary tree where each node represents a decision made, and each leaf represents a complete path. A node in the binary tree is represented by the `TraceNode` class.\n",
    "\n",
    "When a new node is added, it represents a decision taken by the parent on some predicate. This predicate is supplied as `smt_val`, which is `True` for this child to be reached. Since the predicate is actually present in the parent node, we also carry a member `smt` which will be updated by the first child to be added."
   ]
  },
  {
   "cell_type": "code",
   "execution_count": 208,
   "metadata": {
    "slideshow": {
     "slide_type": "subslide"
    }
   },
   "outputs": [],
   "source": [
    "class TraceNode:\n",
    "    def __init__(self, smt_val, parent, info):\n",
    "        # This is the smt that lead to this node\n",
    "        self._smt_val = z3.simplify(smt_val) if smt_val is not None else None\n",
    "\n",
    "        # This is the predicate that this node might perform at a future point\n",
    "        self.smt = None\n",
    "        self.info = info\n",
    "        self.parent = parent\n",
    "        self.children = {}\n",
    "        self.path = None\n",
    "        self.tree = None\n",
    "        self._pattern = None\n",
    "        self.log = True\n",
    "\n",
    "    def no(self): return self.children.get(self.tree.no_bit)\n",
    "\n",
    "    def yes(self): return self.children.get(self.tree.yes_bit)\n",
    "\n",
    "    def get_children(self): return (self.no(), self.yes())\n",
    "\n",
    "    def __str__(self):\n",
    "        return 'TraceNode[%s]' % ','.join(self.children.keys())"
   ]
  },
  {
   "cell_type": "markdown",
   "metadata": {
    "slideshow": {
     "slide_type": "subslide"
    }
   },
   "source": [
    "We add a `PlausibleChild` class to track the leaf nodes."
   ]
  },
  {
   "cell_type": "code",
   "execution_count": 209,
   "metadata": {
    "slideshow": {
     "slide_type": "fragment"
    }
   },
   "outputs": [],
   "source": [
    "class PlausibleChild:\n",
    "    def __init__(self, parent, cond, tree):\n",
    "        self.parent = parent\n",
    "        self.cond = cond\n",
    "        self.tree = tree\n",
    "        self._smt_val = None\n",
    "\n",
    "    def __repr__(self):\n",
    "        return 'PlausibleChild[%s]' % (self.parent.pattern() + ':' + self.cond)"
   ]
  },
  {
   "cell_type": "markdown",
   "metadata": {
    "slideshow": {
     "slide_type": "fragment"
    }
   },
   "source": [
    "When the leaf nodes are used to generate new paths, we expect its sibling `TraceNode` to have been already explored. Hence, we make use of the sibling's values for context `cc`, and the `smt_val` from the parent."
   ]
  },
  {
   "cell_type": "code",
   "execution_count": 210,
   "metadata": {
    "slideshow": {
     "slide_type": "subslide"
    }
   },
   "outputs": [],
   "source": [
    "class PlausibleChild(PlausibleChild):\n",
    "    def smt_val(self):\n",
    "        if self._smt_val is not None:\n",
    "            return self._smt_val\n",
    "        # if the parent has other children, then that child would have updatd the parent's smt\n",
    "        # Hence, we can use that child's smt_value's opposite as our value.\n",
    "        assert self.parent.smt is not None\n",
    "        if self.cond == self.tree.no_bit:\n",
    "            self._smt_val = z3.Not(self.parent.smt)\n",
    "        else:\n",
    "            self._smt_val = self.parent.smt\n",
    "        return self._smt_val\n",
    "\n",
    "    def cc(self):\n",
    "        if self.parent.info.get('cc') is not None:\n",
    "            return self.parent.info['cc']\n",
    "        # if there is a plausible child node, it means that there can\n",
    "        # be at most one child.\n",
    "        sibilings = list(self.parent.children.values())\n",
    "        assert len(sibilings) == 1\n",
    "        # We expect at the other child to have cc\n",
    "        return sibilings[0].info['cc']"
   ]
  },
  {
   "cell_type": "markdown",
   "metadata": {
    "slideshow": {
     "slide_type": "subslide"
    }
   },
   "source": [
    "The `PlausibleChild` instance is used to generate new paths to explore using `path_expression()`."
   ]
  },
  {
   "cell_type": "code",
   "execution_count": 211,
   "metadata": {
    "slideshow": {
     "slide_type": "fragment"
    }
   },
   "outputs": [],
   "source": [
    "class PlausibleChild(PlausibleChild):\n",
    "    def path_expression(self):\n",
    "        path_to_root = self.parent.get_path_to_root()\n",
    "        assert path_to_root[0]._smt_val is None\n",
    "        return [i._smt_val for i in path_to_root[1:]] + [self.smt_val()]"
   ]
  },
  {
   "cell_type": "markdown",
   "metadata": {
    "slideshow": {
     "slide_type": "fragment"
    }
   },
   "source": [
    "The `TraceTree` class helps us keep track of the binary tree. In the beginning, the root is a sentinel `TraceNode` instance, and simply have two plausible children as leaves. As soon as the first trace is added, one of the plausible children will become a true child."
   ]
  },
  {
   "cell_type": "code",
   "execution_count": 212,
   "metadata": {
    "slideshow": {
     "slide_type": "subslide"
    }
   },
   "outputs": [],
   "source": [
    "class TraceTree:\n",
    "    def __init__(self):\n",
    "        self.root = TraceNode(smt_val=None, parent=None, info={'num': 0})\n",
    "        self.root.tree = self\n",
    "        self.leaves = {}\n",
    "        self.no_bit, self.yes_bit = '0', '1'\n",
    "\n",
    "        pprefix = ':'\n",
    "        for bit in [self.no_bit, self.yes_bit]:\n",
    "            self.leaves[pprefix + bit] = PlausibleChild(self.root, bit, self)\n",
    "        self.completed_paths = {}"
   ]
  },
  {
   "cell_type": "markdown",
   "metadata": {
    "slideshow": {
     "slide_type": "fragment"
    }
   },
   "source": [
    "The `add_trace()` method of the `TraceTree` provides a way for new traces to be added. It is kept separate from the initialization as we might want to add more than one trace from the same function."
   ]
  },
  {
   "cell_type": "code",
   "execution_count": 213,
   "metadata": {
    "slideshow": {
     "slide_type": "subslide"
    }
   },
   "outputs": [],
   "source": [
    "class TraceTree(TraceTree):\n",
    "    def add_trace(self, tracer, string):\n",
    "        last = self.root\n",
    "        i = 0\n",
    "        for i, elt in enumerate(tracer.path):\n",
    "            last = last.add_child(elt=elt, i=i + 1, cc=tracer, string=string)\n",
    "        last.add_child(elt=z3.BoolVal(True), i=i + 1, cc=tracer, string=string)"
   ]
  },
  {
   "cell_type": "markdown",
   "metadata": {
    "slideshow": {
     "slide_type": "fragment"
    }
   },
   "source": [
    "To make `add_trace()` work, we need a little more infrastructure, that we define below.\n",
    "\n",
    "The `bit()` method translates a predicate to a bit that corresponds to the decision taken at each predicate. If the `if` branch is taken, the result is `1`, while `else` branch is indicated by `0`. The pattern indicates the bit-pattern of decisions required to reach the leaf from the root."
   ]
  },
  {
   "cell_type": "code",
   "execution_count": 214,
   "metadata": {
    "slideshow": {
     "slide_type": "subslide"
    }
   },
   "outputs": [],
   "source": [
    "class TraceNode(TraceNode):\n",
    "    def bit(self):\n",
    "        if self._smt_val is None:\n",
    "            return None\n",
    "        return self.tree.no_bit if self._smt_val.decl(\n",
    "        ).name() == 'not' else self.tree.yes_bit\n",
    "\n",
    "    def pattern(self):\n",
    "        if self._pattern is not None:\n",
    "            return self._pattern\n",
    "        path = self.get_path_to_root()\n",
    "        assert path[0]._smt_val is None\n",
    "        assert path[0].parent is None\n",
    "\n",
    "        self._pattern = ''.join([p.bit() for p in path[1:]])\n",
    "        return self._pattern"
   ]
  },
  {
   "cell_type": "markdown",
   "metadata": {
    "slideshow": {
     "slide_type": "subslide"
    }
   },
   "source": [
    "Each node knows how to add a new child, and get the path to root, which is cached.\n",
    "\n",
    "When we add a child to the root node, it means that there was a decision in the current node, and the child is the result of the decision. Hence, to get the decision being made, we simplify the `smt` expression, and check if it starts with `not`. If it does not start with a `not`, we interpret that as the current decision in the node. If it starts with `not`, then we interpret that `not(smt)` was the expression being evaluated in the current node.\n",
    "\n",
    "We know the first decision made only after going through the program at least once. As soon as the program is traversed, we update the parent with the decision that resulted in the current child."
   ]
  },
  {
   "cell_type": "code",
   "execution_count": 215,
   "metadata": {
    "slideshow": {
     "slide_type": "subslide"
    }
   },
   "outputs": [],
   "source": [
    "class TraceNode(TraceNode):\n",
    "    def add_child(self, elt, i, cc, string):\n",
    "        if elt == z3.BoolVal(True):\n",
    "            # No more exploration here. Simply unregister the leaves of *this*\n",
    "            # node and possibly register them in completed nodes, and exit\n",
    "            for bit in [self.tree.no_bit, self.tree.yes_bit]:\n",
    "                child_leaf = self.pattern() + ':' + bit\n",
    "                if child_leaf in self.tree.leaves:\n",
    "                    del self.tree.leaves[child_leaf]\n",
    "            self.tree.completed_paths[self.pattern()] = self\n",
    "            return None\n",
    "\n",
    "        child_node = TraceNode(smt_val=elt,\n",
    "                               parent=self,\n",
    "                               info={'num': i, 'cc': cc, 'string': string})\n",
    "        child_node.tree = self.tree\n",
    "\n",
    "        # bit represents the path that child took from this node.\n",
    "        bit = child_node.bit()\n",
    "\n",
    "        # first we update our smt decision\n",
    "        if bit == self.tree.yes_bit:  # yes, which means the smt can be used as is\n",
    "            if self.smt is not None:\n",
    "                assert self.smt == child_node._smt_val\n",
    "            else:\n",
    "                self.smt = child_node._smt_val\n",
    "        # no, which means we have to negate it to get the decision.\n",
    "        elif bit == self.tree.no_bit:\n",
    "            smt_ = z3.simplify(z3.Not(child_node._smt_val))\n",
    "            if self.smt is not None:\n",
    "                assert smt_ == self.smt\n",
    "            else:\n",
    "                self.smt = smt_\n",
    "        else:\n",
    "            assert False\n",
    "\n",
    "        if bit in self.children:\n",
    "            #    if self.log:\n",
    "            #print(elt, child_node.bit(), i, string)\n",
    "            #print(i,'overwriting', bit,'=>',self.children[bit],'with',child_node)\n",
    "            child_node = self.children[bit]\n",
    "            #self.children[bit] = child_node\n",
    "            #child_node.children = old.children\n",
    "        else:\n",
    "            self.children[bit] = child_node\n",
    "\n",
    "        # At this point, we have to unregister any leaves that correspond to this child from tree,\n",
    "        # and add the plausible children of this child as leaves to be explored. Note that\n",
    "        # if it is the end (z3.True), we do not have any more children.\n",
    "        child_leaf = self.pattern() + ':' + bit\n",
    "        if child_leaf in self.tree.leaves:\n",
    "            del self.tree.leaves[child_leaf]\n",
    "\n",
    "        pprefix = child_node.pattern() + ':'\n",
    "\n",
    "        # Plausible children.\n",
    "        for bit in [self.tree.no_bit, self.tree.yes_bit]:\n",
    "            self.tree.leaves[pprefix +\n",
    "                             bit] = PlausibleChild(child_node, bit, self.tree)\n",
    "        return child_node"
   ]
  },
  {
   "cell_type": "markdown",
   "metadata": {
    "slideshow": {
     "slide_type": "subslide"
    }
   },
   "source": [
    "The path to root from any node is computed once and cached."
   ]
  },
  {
   "cell_type": "code",
   "execution_count": 216,
   "metadata": {
    "slideshow": {
     "slide_type": "fragment"
    }
   },
   "outputs": [],
   "source": [
    "class TraceNode(TraceNode):\n",
    "    def get_path_to_root(self):\n",
    "        if self.path is not None:\n",
    "            return self.path\n",
    "        parent_path = []\n",
    "        if self.parent is not None:\n",
    "            parent_path = self.parent.get_path_to_root()\n",
    "        self.path = parent_path + [self]\n",
    "        return self.path"
   ]
  },
  {
   "cell_type": "markdown",
   "metadata": {
    "slideshow": {
     "slide_type": "fragment"
    }
   },
   "source": [
    "The `SimpleConcolicFuzzer` is defined with the `Fuzzer` interface. "
   ]
  },
  {
   "cell_type": "code",
   "execution_count": 217,
   "metadata": {
    "slideshow": {
     "slide_type": "subslide"
    }
   },
   "outputs": [],
   "source": [
    "class SimpleConcolicFuzzer(Fuzzer):\n",
    "    def __init__(self):\n",
    "        self.ct = TraceTree()\n",
    "        self.max_tries = 1000\n",
    "        self.last = None\n",
    "        self.last_idx = None"
   ]
  },
  {
   "cell_type": "markdown",
   "metadata": {
    "slideshow": {
     "slide_type": "fragment"
    }
   },
   "source": [
    "The `add_trace()` method we defined earlier is used as follows. First, we use a random string to generate the concolic trace."
   ]
  },
  {
   "cell_type": "code",
   "execution_count": 218,
   "metadata": {
    "slideshow": {
     "slide_type": "fragment"
    }
   },
   "outputs": [],
   "source": [
    "with ExpectTimeout(2):\n",
    "    with ConcolicTracer() as _:\n",
    "        _[hang_if_no_space]('ab d')"
   ]
  },
  {
   "cell_type": "markdown",
   "metadata": {
    "slideshow": {
     "slide_type": "fragment"
    }
   },
   "source": [
    "Next, we initialize and add this trace to the fuzzer."
   ]
  },
  {
   "cell_type": "code",
   "execution_count": 219,
   "metadata": {
    "slideshow": {
     "slide_type": "subslide"
    }
   },
   "outputs": [
    {
     "data": {
      "text/plain": [
       "[Not(str.substr(hang_if_no_space_s_str_1, 0, 1) == \" \"),\n",
       " Not(str.substr(hang_if_no_space_s_str_1, 1, 1) == \" \"),\n",
       " str.substr(hang_if_no_space_s_str_1, 2, 1) == \" \"]"
      ]
     },
     "execution_count": 219,
     "metadata": {},
     "output_type": "execute_result"
    }
   ],
   "source": [
    "_.path"
   ]
  },
  {
   "cell_type": "code",
   "execution_count": 220,
   "metadata": {
    "slideshow": {
     "slide_type": "fragment"
    }
   },
   "outputs": [],
   "source": [
    "scf = SimpleConcolicFuzzer()\n",
    "scf.ct.add_trace(_, 'ab d')"
   ]
  },
  {
   "cell_type": "markdown",
   "metadata": {
    "slideshow": {
     "slide_type": "fragment"
    }
   },
   "source": [
    "The path we added above can be obtained from the `TraceTree` as below."
   ]
  },
  {
   "cell_type": "code",
   "execution_count": 221,
   "metadata": {
    "slideshow": {
     "slide_type": "fragment"
    }
   },
   "outputs": [
    {
     "data": {
      "text/plain": [
       "[None,\n",
       " Not(str.substr(hang_if_no_space_s_str_1, 0, 1) == \" \"),\n",
       " Not(str.substr(hang_if_no_space_s_str_1, 1, 1) == \" \"),\n",
       " str.substr(hang_if_no_space_s_str_1, 2, 1) == \" \"]"
      ]
     },
     "execution_count": 221,
     "metadata": {},
     "output_type": "execute_result"
    }
   ],
   "source": [
    "[i._smt_val for i in scf.ct.root.get_children()[0].get_children()[\n",
    "    0].get_children()[1].get_path_to_root()]"
   ]
  },
  {
   "cell_type": "markdown",
   "metadata": {
    "slideshow": {
     "slide_type": "fragment"
    }
   },
   "source": [
    "Below are the registered leaves that we can explore at this moment."
   ]
  },
  {
   "cell_type": "code",
   "execution_count": 222,
   "metadata": {
    "slideshow": {
     "slide_type": "subslide"
    }
   },
   "outputs": [
    {
     "name": "stdout",
     "output_type": "stream",
     "text": [
      ":1 \t PlausibleChild[:1]\n",
      "0:1 \t PlausibleChild[0:1]\n",
      "00:0 \t PlausibleChild[00:0]\n"
     ]
    }
   ],
   "source": [
    "for key in scf.ct.leaves:\n",
    "    print(key, '\\t', scf.ct.leaves[key])"
   ]
  },
  {
   "cell_type": "markdown",
   "metadata": {
    "slideshow": {
     "slide_type": "fragment"
    }
   },
   "source": [
    "Next, we need a way to visualize the constructed tree."
   ]
  },
  {
   "cell_type": "code",
   "execution_count": 223,
   "metadata": {
    "slideshow": {
     "slide_type": "skip"
    }
   },
   "outputs": [],
   "source": [
    "from GrammarFuzzer import display_tree"
   ]
  },
  {
   "cell_type": "code",
   "execution_count": 224,
   "metadata": {
    "slideshow": {
     "slide_type": "fragment"
    }
   },
   "outputs": [],
   "source": [
    "TREE_NODES = {}"
   ]
  },
  {
   "cell_type": "code",
   "execution_count": 225,
   "metadata": {
    "slideshow": {
     "slide_type": "subslide"
    }
   },
   "outputs": [],
   "source": [
    "def my_extract_node(tnode, id):\n",
    "    key, node, parent = tnode\n",
    "    if node is None:\n",
    "        # return '? (%s:%s)' % (parent.pattern(), key) , [], ''\n",
    "        return '?', [], ''\n",
    "    if node.smt is None:\n",
    "        return '* %s' % node.info.get('string', ''), [], ''\n",
    "\n",
    "    no, yes = node.get_children()\n",
    "    num = str(node.info.get('num'))\n",
    "    children = [('0', no, node), ('1', yes, node)]\n",
    "    TREE_NODES[id] = 0\n",
    "    return \"(%s) %s\" % (num, str(node.smt)), children, ''"
   ]
  },
  {
   "cell_type": "code",
   "execution_count": 226,
   "metadata": {
    "slideshow": {
     "slide_type": "subslide"
    }
   },
   "outputs": [],
   "source": [
    "def my_edge_attr(dot, start_node, stop_node):\n",
    "    # the edges are always drawn '0:NO' first.\n",
    "    if TREE_NODES[start_node] == 0:\n",
    "        color, label = 'red', '0'\n",
    "        TREE_NODES[start_node] = 1\n",
    "    else:\n",
    "        color, label = 'blue', '1'\n",
    "        TREE_NODES[start_node] = 2\n",
    "    dot.edge(repr(start_node), repr(stop_node), color=color, label=label)"
   ]
  },
  {
   "cell_type": "code",
   "execution_count": 227,
   "metadata": {
    "slideshow": {
     "slide_type": "fragment"
    }
   },
   "outputs": [],
   "source": [
    "def display_trace_tree(root):\n",
    "    TREE_NODES.clear()\n",
    "    return display_tree(\n",
    "        ('', root, None), extract_node=my_extract_node, edge_attr=my_edge_attr)"
   ]
  },
  {
   "cell_type": "code",
   "execution_count": 228,
   "metadata": {
    "slideshow": {
     "slide_type": "fragment"
    }
   },
   "outputs": [
    {
     "data": {
      "image/svg+xml": [
       "<?xml version=\"1.0\" encoding=\"UTF-8\" standalone=\"no\"?>\n",
       "<!DOCTYPE svg PUBLIC \"-//W3C//DTD SVG 1.1//EN\"\n",
       " \"http://www.w3.org/Graphics/SVG/1.1/DTD/svg11.dtd\">\n",
       "<!-- Generated by graphviz version 2.40.1 (20161225.0304)\n",
       " -->\n",
       "<!-- Title: %3 Pages: 1 -->\n",
       "<svg width=\"474pt\" height=\"221pt\"\n",
       " viewBox=\"0.00 0.00 474.00 221.00\" xmlns=\"http://www.w3.org/2000/svg\" xmlns:xlink=\"http://www.w3.org/1999/xlink\">\n",
       "<g id=\"graph0\" class=\"graph\" transform=\"scale(1 1) rotate(0) translate(4 217)\">\n",
       "<title>%3</title>\n",
       "<polygon fill=\"#ffffff\" stroke=\"transparent\" points=\"-4,4 -4,-217 470,-217 470,4 -4,4\"/>\n",
       "<!-- 0 -->\n",
       "<g id=\"node1\" class=\"node\">\n",
       "<title>0</title>\n",
       "<text text-anchor=\"middle\" x=\"318\" y=\"-201.8\" font-family=\"Times,serif\" font-size=\"14.00\" fill=\"#000000\">(0) str.substr(hang_if_no_space_s_str_1, 0, 1) == &quot; &quot;</text>\n",
       "</g>\n",
       "<!-- 1 -->\n",
       "<g id=\"node2\" class=\"node\">\n",
       "<title>1</title>\n",
       "<text text-anchor=\"middle\" x=\"233\" y=\"-135.8\" font-family=\"Times,serif\" font-size=\"14.00\" fill=\"#000000\">(1) str.substr(hang_if_no_space_s_str_1, 1, 1) == &quot; &quot;</text>\n",
       "</g>\n",
       "<!-- 0&#45;&gt;1 -->\n",
       "<g id=\"edge1\" class=\"edge\">\n",
       "<title>0&#45;&gt;1</title>\n",
       "<path fill=\"none\" stroke=\"#ff0000\" d=\"M308.2494,-197.929C294.3613,-187.1452 268.6346,-167.1692 251.1712,-153.6094\"/>\n",
       "<polygon fill=\"#ff0000\" stroke=\"#ff0000\" points=\"252.9438,-150.5546 242.8987,-147.186 248.6507,-156.0835 252.9438,-150.5546\"/>\n",
       "<text text-anchor=\"middle\" x=\"288\" y=\"-168.8\" font-family=\"Times,serif\" font-size=\"14.00\" fill=\"#000000\">0</text>\n",
       "</g>\n",
       "<!-- 6 -->\n",
       "<g id=\"node7\" class=\"node\">\n",
       "<title>6</title>\n",
       "<text text-anchor=\"middle\" x=\"403\" y=\"-135.8\" font-family=\"Times,serif\" font-size=\"14.00\" fill=\"#000000\">?</text>\n",
       "</g>\n",
       "<!-- 0&#45;&gt;6 -->\n",
       "<g id=\"edge6\" class=\"edge\">\n",
       "<title>0&#45;&gt;6</title>\n",
       "<path fill=\"none\" stroke=\"#0000ff\" d=\"M327.7506,-197.929C343.4981,-185.7014 374.4665,-161.6554 391.3505,-148.5455\"/>\n",
       "<polygon fill=\"#0000ff\" stroke=\"#0000ff\" points=\"393.6904,-151.1599 399.4424,-142.2624 389.3973,-145.6309 393.6904,-151.1599\"/>\n",
       "<text text-anchor=\"middle\" x=\"373\" y=\"-168.8\" font-family=\"Times,serif\" font-size=\"14.00\" fill=\"#000000\">1</text>\n",
       "</g>\n",
       "<!-- 2 -->\n",
       "<g id=\"node3\" class=\"node\">\n",
       "<title>2</title>\n",
       "<text text-anchor=\"middle\" x=\"148\" y=\"-69.8\" font-family=\"Times,serif\" font-size=\"14.00\" fill=\"#000000\">(2) str.substr(hang_if_no_space_s_str_1, 2, 1) == &quot; &quot;</text>\n",
       "</g>\n",
       "<!-- 1&#45;&gt;2 -->\n",
       "<g id=\"edge2\" class=\"edge\">\n",
       "<title>1&#45;&gt;2</title>\n",
       "<path fill=\"none\" stroke=\"#ff0000\" d=\"M223.2494,-131.929C209.3613,-121.1452 183.6346,-101.1692 166.1712,-87.6094\"/>\n",
       "<polygon fill=\"#ff0000\" stroke=\"#ff0000\" points=\"167.9438,-84.5546 157.8987,-81.186 163.6507,-90.0835 167.9438,-84.5546\"/>\n",
       "<text text-anchor=\"middle\" x=\"203\" y=\"-102.8\" font-family=\"Times,serif\" font-size=\"14.00\" fill=\"#000000\">0</text>\n",
       "</g>\n",
       "<!-- 5 -->\n",
       "<g id=\"node6\" class=\"node\">\n",
       "<title>5</title>\n",
       "<text text-anchor=\"middle\" x=\"318\" y=\"-69.8\" font-family=\"Times,serif\" font-size=\"14.00\" fill=\"#000000\">?</text>\n",
       "</g>\n",
       "<!-- 1&#45;&gt;5 -->\n",
       "<g id=\"edge5\" class=\"edge\">\n",
       "<title>1&#45;&gt;5</title>\n",
       "<path fill=\"none\" stroke=\"#0000ff\" d=\"M242.7506,-131.929C258.4981,-119.7014 289.4665,-95.6554 306.3505,-82.5455\"/>\n",
       "<polygon fill=\"#0000ff\" stroke=\"#0000ff\" points=\"308.6904,-85.1599 314.4424,-76.2624 304.3973,-79.6309 308.6904,-85.1599\"/>\n",
       "<text text-anchor=\"middle\" x=\"288\" y=\"-102.8\" font-family=\"Times,serif\" font-size=\"14.00\" fill=\"#000000\">1</text>\n",
       "</g>\n",
       "<!-- 3 -->\n",
       "<g id=\"node4\" class=\"node\">\n",
       "<title>3</title>\n",
       "<text text-anchor=\"middle\" x=\"129\" y=\"-3.8\" font-family=\"Times,serif\" font-size=\"14.00\" fill=\"#000000\">?</text>\n",
       "</g>\n",
       "<!-- 2&#45;&gt;3 -->\n",
       "<g id=\"edge3\" class=\"edge\">\n",
       "<title>2&#45;&gt;3</title>\n",
       "<path fill=\"none\" stroke=\"#ff0000\" d=\"M144.5239,-65.5732C142.4336,-60.5957 139.8322,-54.0037 138,-48 135.7373,-40.5856 133.7864,-32.2472 132.2851,-25.0722\"/>\n",
       "<polygon fill=\"#ff0000\" stroke=\"#ff0000\" points=\"135.6791,-24.1918 130.3157,-15.0548 128.8106,-25.5422 135.6791,-24.1918\"/>\n",
       "<text text-anchor=\"middle\" x=\"142\" y=\"-36.8\" font-family=\"Times,serif\" font-size=\"14.00\" fill=\"#000000\">0</text>\n",
       "</g>\n",
       "<!-- 4 -->\n",
       "<g id=\"node5\" class=\"node\">\n",
       "<title>4</title>\n",
       "<text text-anchor=\"middle\" x=\"168\" y=\"-3.8\" font-family=\"Times,serif\" font-size=\"14.00\" fill=\"#000000\">* ab d</text>\n",
       "</g>\n",
       "<!-- 2&#45;&gt;4 -->\n",
       "<g id=\"edge4\" class=\"edge\">\n",
       "<title>2&#45;&gt;4</title>\n",
       "<path fill=\"none\" stroke=\"#0000ff\" d=\"M150.2943,-65.929C153.2762,-56.0885 158.5777,-38.5937 162.6046,-25.3047\"/>\n",
       "<polygon fill=\"#0000ff\" stroke=\"#0000ff\" points=\"166.0581,-25.9768 165.6086,-15.3915 159.3589,-23.9467 166.0581,-25.9768\"/>\n",
       "<text text-anchor=\"middle\" x=\"164\" y=\"-36.8\" font-family=\"Times,serif\" font-size=\"14.00\" fill=\"#000000\">1</text>\n",
       "</g>\n",
       "</g>\n",
       "</svg>\n"
      ],
      "text/plain": [
       "<graphviz.dot.Digraph at 0x7fe44b5a21d0>"
      ]
     },
     "execution_count": 228,
     "metadata": {},
     "output_type": "execute_result"
    }
   ],
   "source": [
    "display_trace_tree(scf.ct.root)"
   ]
  },
  {
   "cell_type": "markdown",
   "metadata": {
    "slideshow": {
     "slide_type": "subslide"
    }
   },
   "source": [
    "For example, the pattern `00:0` corresponds to the following predicates."
   ]
  },
  {
   "cell_type": "code",
   "execution_count": 229,
   "metadata": {
    "slideshow": {
     "slide_type": "fragment"
    }
   },
   "outputs": [
    {
     "data": {
      "text/plain": [
       "PlausibleChild[00:0]"
      ]
     },
     "execution_count": 229,
     "metadata": {},
     "output_type": "execute_result"
    }
   ],
   "source": [
    "scf.ct.leaves['00:0']"
   ]
  },
  {
   "cell_type": "code",
   "execution_count": 230,
   "metadata": {
    "slideshow": {
     "slide_type": "fragment"
    }
   },
   "outputs": [
    {
     "data": {
      "text/plain": [
       "[Not(str.substr(hang_if_no_space_s_str_1, 0, 1) == \" \"),\n",
       " Not(str.substr(hang_if_no_space_s_str_1, 1, 1) == \" \"),\n",
       " Not(str.substr(hang_if_no_space_s_str_1, 2, 1) == \" \")]"
      ]
     },
     "execution_count": 230,
     "metadata": {},
     "output_type": "execute_result"
    }
   ],
   "source": [
    "scf.ct.leaves['00:0'].path_expression()"
   ]
  },
  {
   "cell_type": "markdown",
   "metadata": {
    "slideshow": {
     "slide_type": "fragment"
    }
   },
   "source": [
    "Similarly the pattern `:1` corresponds to the following predicates."
   ]
  },
  {
   "cell_type": "code",
   "execution_count": 231,
   "metadata": {
    "slideshow": {
     "slide_type": "fragment"
    }
   },
   "outputs": [
    {
     "data": {
      "text/plain": [
       "PlausibleChild[:1]"
      ]
     },
     "execution_count": 231,
     "metadata": {},
     "output_type": "execute_result"
    }
   ],
   "source": [
    "scf.ct.leaves[':1']"
   ]
  },
  {
   "cell_type": "code",
   "execution_count": 232,
   "metadata": {
    "slideshow": {
     "slide_type": "fragment"
    }
   },
   "outputs": [
    {
     "data": {
      "text/plain": [
       "[str.substr(hang_if_no_space_s_str_1, 0, 1) == \" \"]"
      ]
     },
     "execution_count": 232,
     "metadata": {},
     "output_type": "execute_result"
    }
   ],
   "source": [
    "scf.ct.leaves[':1'].path_expression()"
   ]
  },
  {
   "cell_type": "markdown",
   "metadata": {
    "slideshow": {
     "slide_type": "subslide"
    }
   },
   "source": [
    "We can now generate the next input to be generated by looking for the a leaf that is incompletely explored. The idea is to collect all leaf nodes, and choose one at random."
   ]
  },
  {
   "cell_type": "code",
   "execution_count": 233,
   "metadata": {
    "slideshow": {
     "slide_type": "fragment"
    }
   },
   "outputs": [],
   "source": [
    "class SimpleConcolicFuzzer(SimpleConcolicFuzzer):\n",
    "    def add_trace(self, trace, s):\n",
    "        self.ct.add_trace(trace, s)\n",
    "\n",
    "    def next_choice(self):\n",
    "        #lst = sorted(list(self.ct.leaves.keys()), key=len)\n",
    "        c = random.choice(list(self.ct.leaves.keys()))\n",
    "        #c = lst[0]\n",
    "        return self.ct.leaves[c]"
   ]
  },
  {
   "cell_type": "markdown",
   "metadata": {
    "slideshow": {
     "slide_type": "fragment"
    }
   },
   "source": [
    "We use the `next_choice()` as follows."
   ]
  },
  {
   "cell_type": "code",
   "execution_count": 234,
   "metadata": {
    "slideshow": {
     "slide_type": "subslide"
    }
   },
   "outputs": [],
   "source": [
    "scf = SimpleConcolicFuzzer()\n",
    "scf.add_trace(_, 'ab d')\n",
    "node = scf.next_choice()"
   ]
  },
  {
   "cell_type": "code",
   "execution_count": 235,
   "metadata": {
    "slideshow": {
     "slide_type": "fragment"
    }
   },
   "outputs": [
    {
     "data": {
      "text/plain": [
       "PlausibleChild[00:0]"
      ]
     },
     "execution_count": 235,
     "metadata": {},
     "output_type": "execute_result"
    }
   ],
   "source": [
    "node"
   ]
  },
  {
   "cell_type": "code",
   "execution_count": 236,
   "metadata": {
    "slideshow": {
     "slide_type": "fragment"
    }
   },
   "outputs": [
    {
     "data": {
      "text/plain": [
       "[Not(str.substr(hang_if_no_space_s_str_1, 0, 1) == \" \"),\n",
       " Not(str.substr(hang_if_no_space_s_str_1, 1, 1) == \" \"),\n",
       " Not(str.substr(hang_if_no_space_s_str_1, 2, 1) == \" \")]"
      ]
     },
     "execution_count": 236,
     "metadata": {},
     "output_type": "execute_result"
    }
   ],
   "source": [
    "node.path_expression()"
   ]
  },
  {
   "cell_type": "markdown",
   "metadata": {
    "slideshow": {
     "slide_type": "fragment"
    }
   },
   "source": [
    "We get the next choice for exploration, and expand the path expression, and return it together with a context using `get_newpath()`"
   ]
  },
  {
   "cell_type": "code",
   "execution_count": 237,
   "metadata": {
    "slideshow": {
     "slide_type": "subslide"
    }
   },
   "outputs": [],
   "source": [
    "class SimpleConcolicFuzzer(SimpleConcolicFuzzer):\n",
    "    def get_newpath(self):\n",
    "        node = self.next_choice()\n",
    "        path = node.path_expression()\n",
    "        return path, node.cc()"
   ]
  },
  {
   "cell_type": "code",
   "execution_count": 238,
   "metadata": {
    "slideshow": {
     "slide_type": "fragment"
    }
   },
   "outputs": [
    {
     "data": {
      "text/plain": [
       "[str.substr(hang_if_no_space_s_str_1, 0, 1) == \" \"]"
      ]
     },
     "execution_count": 238,
     "metadata": {},
     "output_type": "execute_result"
    }
   ],
   "source": [
    "scf = SimpleConcolicFuzzer()\n",
    "scf.add_trace(_, 'abcd')\n",
    "path, cc = scf.get_newpath()\n",
    "path"
   ]
  },
  {
   "cell_type": "markdown",
   "metadata": {
    "slideshow": {
     "slide_type": "subslide"
    }
   },
   "source": [
    "#### Fuzz\n",
    "The `fuzz()` method simply generates new lists of predicates, and solves them to produce new inputs."
   ]
  },
  {
   "cell_type": "code",
   "execution_count": 239,
   "metadata": {
    "slideshow": {
     "slide_type": "subslide"
    }
   },
   "outputs": [],
   "source": [
    "class SimpleConcolicFuzzer(SimpleConcolicFuzzer):\n",
    "    def fuzz(self):\n",
    "        if self.ct.root.children == {}:\n",
    "            # a random value to generate comparisons. This would be\n",
    "            # the initial value around which we explore with concolic\n",
    "            # fuzzing.\n",
    "            return ' '\n",
    "        for i in range(self.max_tries):\n",
    "            path, last = self.get_newpath()\n",
    "            s, v = zeval_smt(path, last, log=False)\n",
    "            if s != 'sat':\n",
    "                #raise Exception(\"Unexpected UNSAT\")\n",
    "                continue\n",
    "            val = list(v.values())[0]\n",
    "            elt, typ = val\n",
    "            if len(elt) == 2 and elt[0] == '-':  # negative numbers are [-, x]\n",
    "                elt = '-%s' % elt[1]\n",
    "            # make sure that we do not retry the tried paths\n",
    "            # The tracer we add here is incomplete. This gets updated when\n",
    "            # the add_trace is called from the concolic fuzzer context.\n",
    "            # self.add_trace(ConcolicTracer((last.decls, path)), elt)\n",
    "            if typ == 'Int':\n",
    "                return int(elt)\n",
    "            elif typ == 'String':\n",
    "                return elt\n",
    "            return elt\n",
    "        return None"
   ]
  },
  {
   "cell_type": "markdown",
   "metadata": {
    "slideshow": {
     "slide_type": "subslide"
    }
   },
   "source": [
    "We now fuzz."
   ]
  },
  {
   "cell_type": "code",
   "execution_count": 240,
   "metadata": {
    "slideshow": {
     "slide_type": "fragment"
    }
   },
   "outputs": [
    {
     "data": {
      "text/plain": [
       "' '"
      ]
     },
     "execution_count": 240,
     "metadata": {},
     "output_type": "execute_result"
    }
   ],
   "source": [
    "scf = SimpleConcolicFuzzer()\n",
    "scf.fuzz()"
   ]
  },
  {
   "cell_type": "markdown",
   "metadata": {
    "slideshow": {
     "slide_type": "fragment"
    }
   },
   "source": [
    "Here is an example program `cgi_decode()`. Note that we will not be able to use the `cgi_decode()` from the `Coverage` chapter directly as the hash lookups in `hex_values` can not be used for transferring constraints yet."
   ]
  },
  {
   "cell_type": "code",
   "execution_count": 241,
   "metadata": {
    "slideshow": {
     "slide_type": "subslide"
    }
   },
   "outputs": [],
   "source": [
    "def cgi_decode(s):\n",
    "    \"\"\"Decode the CGI-encoded string `s`:\n",
    "       * replace \"+\" by \" \"\n",
    "       * replace \"%xx\" by the character with hex number xx.\n",
    "       Return the decoded string.  Raise `ValueError` for invalid inputs.\"\"\"\n",
    "\n",
    "    # Mapping of hex digits to their integer values\n",
    "    hex_values = {\n",
    "        '0': 0, '1': 1, '2': 2, '3': 3, '4': 4,\n",
    "        '5': 5, '6': 6, '7': 7, '8': 8, '9': 9,\n",
    "        'a': 10, 'b': 11, 'c': 12, 'd': 13, 'e': 14, 'f': 15,\n",
    "        'A': 10, 'B': 11, 'C': 12, 'D': 13, 'E': 14, 'F': 15,\n",
    "    }\n",
    "\n",
    "    t = ''\n",
    "    i = 0\n",
    "    while i < len(s):\n",
    "        c = s[i]\n",
    "        if c == '+':\n",
    "            t += ' '\n",
    "        elif c == '%':\n",
    "            digit_high, digit_low = s[i + 1], s[i + 2]\n",
    "            i = i + 2\n",
    "            found = 0\n",
    "            v = 0\n",
    "            for key in hex_values:\n",
    "                if key == digit_high:\n",
    "                    found = found + 1\n",
    "                    v = hex_values[key] * 16\n",
    "                    break\n",
    "            for key in hex_values:\n",
    "                if key == digit_low:\n",
    "                    found = found + 1\n",
    "                    v = v + hex_values[key]\n",
    "                    break\n",
    "            if found == 2:\n",
    "                if v >= 128:\n",
    "                    # z3.StringVal(urllib.parse.unquote('%80')) <-- bug in z3\n",
    "                    raise ValueError(\"Invalid encoding\")\n",
    "                t = t + chr(v)\n",
    "            else:\n",
    "                raise ValueError(\"Invalid encoding\")\n",
    "        else:\n",
    "            t = t + c\n",
    "        i = i + 1\n",
    "    return t"
   ]
  },
  {
   "cell_type": "code",
   "execution_count": 242,
   "metadata": {
    "slideshow": {
     "slide_type": "subslide"
    }
   },
   "outputs": [],
   "source": [
    "with ConcolicTracer() as _:\n",
    "    _[cgi_decode]('a+c')"
   ]
  },
  {
   "cell_type": "code",
   "execution_count": 243,
   "metadata": {
    "slideshow": {
     "slide_type": "fragment"
    }
   },
   "outputs": [],
   "source": [
    "scf = SimpleConcolicFuzzer()\n",
    "scf.add_trace(_, 'a+c')"
   ]
  },
  {
   "cell_type": "code",
   "execution_count": 244,
   "metadata": {
    "slideshow": {
     "slide_type": "fragment"
    }
   },
   "outputs": [
    {
     "data": {
      "image/svg+xml": [
       "<?xml version=\"1.0\" encoding=\"UTF-8\" standalone=\"no\"?>\n",
       "<!DOCTYPE svg PUBLIC \"-//W3C//DTD SVG 1.1//EN\"\n",
       " \"http://www.w3.org/Graphics/SVG/1.1/DTD/svg11.dtd\">\n",
       "<!-- Generated by graphviz version 2.40.1 (20161225.0304)\n",
       " -->\n",
       "<!-- Title: %3 Pages: 1 -->\n",
       "<svg width=\"423pt\" height=\"353pt\"\n",
       " viewBox=\"0.00 0.00 423.00 353.00\" xmlns=\"http://www.w3.org/2000/svg\" xmlns:xlink=\"http://www.w3.org/1999/xlink\">\n",
       "<g id=\"graph0\" class=\"graph\" transform=\"scale(1 1) rotate(0) translate(4 349)\">\n",
       "<title>%3</title>\n",
       "<polygon fill=\"#ffffff\" stroke=\"transparent\" points=\"-4,4 -4,-349 419,-349 419,4 -4,4\"/>\n",
       "<!-- 0 -->\n",
       "<g id=\"node1\" class=\"node\">\n",
       "<title>0</title>\n",
       "<text text-anchor=\"middle\" x=\"284\" y=\"-333.8\" font-family=\"Times,serif\" font-size=\"14.00\" fill=\"#000000\">(0) str.substr(cgi_decode_s_str_1, 0, 1) == &quot;+&quot;</text>\n",
       "</g>\n",
       "<!-- 1 -->\n",
       "<g id=\"node2\" class=\"node\">\n",
       "<title>1</title>\n",
       "<text text-anchor=\"middle\" x=\"207\" y=\"-267.8\" font-family=\"Times,serif\" font-size=\"14.00\" fill=\"#000000\">(1) str.substr(cgi_decode_s_str_1, 0, 1) == &quot;%&quot;</text>\n",
       "</g>\n",
       "<!-- 0&#45;&gt;1 -->\n",
       "<g id=\"edge1\" class=\"edge\">\n",
       "<title>0&#45;&gt;1</title>\n",
       "<path fill=\"none\" stroke=\"#ff0000\" d=\"M275.1671,-329.929C262.7682,-319.3013 239.9531,-299.7455 224.1525,-286.2021\"/>\n",
       "<polygon fill=\"#ff0000\" stroke=\"#ff0000\" points=\"226.0771,-283.242 216.2067,-279.3915 221.5216,-288.5568 226.0771,-283.242\"/>\n",
       "<text text-anchor=\"middle\" x=\"257\" y=\"-300.8\" font-family=\"Times,serif\" font-size=\"14.00\" fill=\"#000000\">0</text>\n",
       "</g>\n",
       "<!-- 10 -->\n",
       "<g id=\"node11\" class=\"node\">\n",
       "<title>10</title>\n",
       "<text text-anchor=\"middle\" x=\"362\" y=\"-267.8\" font-family=\"Times,serif\" font-size=\"14.00\" fill=\"#000000\">?</text>\n",
       "</g>\n",
       "<!-- 0&#45;&gt;10 -->\n",
       "<g id=\"edge10\" class=\"edge\">\n",
       "<title>0&#45;&gt;10</title>\n",
       "<path fill=\"none\" stroke=\"#0000ff\" d=\"M292.9476,-329.929C307.1307,-317.9279 334.7686,-294.5419 350.436,-281.2849\"/>\n",
       "<polygon fill=\"#0000ff\" stroke=\"#0000ff\" points=\"353.0438,-283.6632 358.4169,-274.5319 348.5222,-278.3195 353.0438,-283.6632\"/>\n",
       "<text text-anchor=\"middle\" x=\"334\" y=\"-300.8\" font-family=\"Times,serif\" font-size=\"14.00\" fill=\"#000000\">1</text>\n",
       "</g>\n",
       "<!-- 2 -->\n",
       "<g id=\"node3\" class=\"node\">\n",
       "<title>2</title>\n",
       "<text text-anchor=\"middle\" x=\"131\" y=\"-201.8\" font-family=\"Times,serif\" font-size=\"14.00\" fill=\"#000000\">(2) str.substr(cgi_decode_s_str_1, 1, 1) == &quot;+&quot;</text>\n",
       "</g>\n",
       "<!-- 1&#45;&gt;2 -->\n",
       "<g id=\"edge2\" class=\"edge\">\n",
       "<title>1&#45;&gt;2</title>\n",
       "<path fill=\"none\" stroke=\"#ff0000\" d=\"M198.2818,-263.929C186.0439,-253.3013 163.5251,-233.7455 147.9297,-220.2021\"/>\n",
       "<polygon fill=\"#ff0000\" stroke=\"#ff0000\" points=\"149.9324,-217.3058 140.0872,-213.3915 145.3426,-222.591 149.9324,-217.3058\"/>\n",
       "<text text-anchor=\"middle\" x=\"180\" y=\"-234.8\" font-family=\"Times,serif\" font-size=\"14.00\" fill=\"#000000\">0</text>\n",
       "</g>\n",
       "<!-- 9 -->\n",
       "<g id=\"node10\" class=\"node\">\n",
       "<title>9</title>\n",
       "<text text-anchor=\"middle\" x=\"284\" y=\"-201.8\" font-family=\"Times,serif\" font-size=\"14.00\" fill=\"#000000\">?</text>\n",
       "</g>\n",
       "<!-- 1&#45;&gt;9 -->\n",
       "<g id=\"edge9\" class=\"edge\">\n",
       "<title>1&#45;&gt;9</title>\n",
       "<path fill=\"none\" stroke=\"#0000ff\" d=\"M215.8329,-263.929C229.8341,-251.9279 257.1177,-228.5419 272.5842,-215.2849\"/>\n",
       "<polygon fill=\"#0000ff\" stroke=\"#0000ff\" points=\"275.148,-217.6972 280.4628,-208.5319 270.5925,-212.3824 275.148,-217.6972\"/>\n",
       "<text text-anchor=\"middle\" x=\"257\" y=\"-234.8\" font-family=\"Times,serif\" font-size=\"14.00\" fill=\"#000000\">1</text>\n",
       "</g>\n",
       "<!-- 3 -->\n",
       "<g id=\"node4\" class=\"node\">\n",
       "<title>3</title>\n",
       "<text text-anchor=\"middle\" x=\"116\" y=\"-135.8\" font-family=\"Times,serif\" font-size=\"14.00\" fill=\"#000000\">?</text>\n",
       "</g>\n",
       "<!-- 2&#45;&gt;3 -->\n",
       "<g id=\"edge3\" class=\"edge\">\n",
       "<title>2&#45;&gt;3</title>\n",
       "<path fill=\"none\" stroke=\"#ff0000\" d=\"M129.2793,-197.929C127.0429,-188.0885 123.0667,-170.5937 120.0465,-157.3047\"/>\n",
       "<polygon fill=\"#ff0000\" stroke=\"#ff0000\" points=\"123.4228,-156.3671 117.7935,-147.3915 116.5968,-157.9185 123.4228,-156.3671\"/>\n",
       "<text text-anchor=\"middle\" x=\"129\" y=\"-168.8\" font-family=\"Times,serif\" font-size=\"14.00\" fill=\"#000000\">0</text>\n",
       "</g>\n",
       "<!-- 4 -->\n",
       "<g id=\"node5\" class=\"node\">\n",
       "<title>4</title>\n",
       "<text text-anchor=\"middle\" x=\"269\" y=\"-135.8\" font-family=\"Times,serif\" font-size=\"14.00\" fill=\"#000000\">(3) str.substr(cgi_decode_s_str_1, 2, 1) == &quot;+&quot;</text>\n",
       "</g>\n",
       "<!-- 2&#45;&gt;4 -->\n",
       "<g id=\"edge4\" class=\"edge\">\n",
       "<title>2&#45;&gt;4</title>\n",
       "<path fill=\"none\" stroke=\"#0000ff\" d=\"M146.8304,-197.929C170.5159,-186.6011 215.4103,-165.1299 243.6837,-151.6078\"/>\n",
       "<polygon fill=\"#0000ff\" stroke=\"#0000ff\" points=\"245.418,-154.6581 252.9292,-147.186 242.3977,-148.3432 245.418,-154.6581\"/>\n",
       "<text text-anchor=\"middle\" x=\"217\" y=\"-168.8\" font-family=\"Times,serif\" font-size=\"14.00\" fill=\"#000000\">1</text>\n",
       "</g>\n",
       "<!-- 5 -->\n",
       "<g id=\"node6\" class=\"node\">\n",
       "<title>5</title>\n",
       "<text text-anchor=\"middle\" x=\"160\" y=\"-69.8\" font-family=\"Times,serif\" font-size=\"14.00\" fill=\"#000000\">(4) str.substr(cgi_decode_s_str_1, 2, 1) == &quot;%&quot;</text>\n",
       "</g>\n",
       "<!-- 4&#45;&gt;5 -->\n",
       "<g id=\"edge5\" class=\"edge\">\n",
       "<title>4&#45;&gt;5</title>\n",
       "<path fill=\"none\" stroke=\"#ff0000\" d=\"M256.4963,-131.929C238.1967,-120.8484 203.8686,-100.0626 181.4775,-86.5047\"/>\n",
       "<polygon fill=\"#ff0000\" stroke=\"#ff0000\" points=\"183.0606,-83.3717 172.6936,-81.186 179.4349,-89.3596 183.0606,-83.3717\"/>\n",
       "<text text-anchor=\"middle\" x=\"229\" y=\"-102.8\" font-family=\"Times,serif\" font-size=\"14.00\" fill=\"#000000\">0</text>\n",
       "</g>\n",
       "<!-- 8 -->\n",
       "<g id=\"node9\" class=\"node\">\n",
       "<title>8</title>\n",
       "<text text-anchor=\"middle\" x=\"315\" y=\"-69.8\" font-family=\"Times,serif\" font-size=\"14.00\" fill=\"#000000\">?</text>\n",
       "</g>\n",
       "<!-- 4&#45;&gt;8 -->\n",
       "<g id=\"edge8\" class=\"edge\">\n",
       "<title>4&#45;&gt;8</title>\n",
       "<path fill=\"none\" stroke=\"#0000ff\" d=\"M274.2768,-131.929C281.8727,-121.0304 296.0126,-100.7428 305.4665,-87.1785\"/>\n",
       "<polygon fill=\"#0000ff\" stroke=\"#0000ff\" points=\"308.5151,-88.9255 311.3616,-78.7203 302.7723,-84.923 308.5151,-88.9255\"/>\n",
       "<text text-anchor=\"middle\" x=\"301\" y=\"-102.8\" font-family=\"Times,serif\" font-size=\"14.00\" fill=\"#000000\">1</text>\n",
       "</g>\n",
       "<!-- 6 -->\n",
       "<g id=\"node7\" class=\"node\">\n",
       "<title>6</title>\n",
       "<text text-anchor=\"middle\" x=\"142\" y=\"-3.8\" font-family=\"Times,serif\" font-size=\"14.00\" fill=\"#000000\">* a+c</text>\n",
       "</g>\n",
       "<!-- 5&#45;&gt;6 -->\n",
       "<g id=\"edge6\" class=\"edge\">\n",
       "<title>5&#45;&gt;6</title>\n",
       "<path fill=\"none\" stroke=\"#ff0000\" d=\"M156.0352,-65.641C153.6829,-60.689 150.815,-54.1 149,-48 146.8099,-40.6393 145.224,-32.3095 144.1215,-25.1264\"/>\n",
       "<polygon fill=\"#ff0000\" stroke=\"#ff0000\" points=\"147.5728,-24.5299 142.7693,-15.0865 140.6355,-25.4643 147.5728,-24.5299\"/>\n",
       "<text text-anchor=\"middle\" x=\"153\" y=\"-36.8\" font-family=\"Times,serif\" font-size=\"14.00\" fill=\"#000000\">0</text>\n",
       "</g>\n",
       "<!-- 7 -->\n",
       "<g id=\"node8\" class=\"node\">\n",
       "<title>7</title>\n",
       "<text text-anchor=\"middle\" x=\"179\" y=\"-3.8\" font-family=\"Times,serif\" font-size=\"14.00\" fill=\"#000000\">?</text>\n",
       "</g>\n",
       "<!-- 5&#45;&gt;7 -->\n",
       "<g id=\"edge7\" class=\"edge\">\n",
       "<title>5&#45;&gt;7</title>\n",
       "<path fill=\"none\" stroke=\"#0000ff\" d=\"M162.1795,-65.929C165.0124,-56.0885 170.0488,-38.5937 173.8744,-25.3047\"/>\n",
       "<polygon fill=\"#0000ff\" stroke=\"#0000ff\" points=\"177.3251,-25.9695 176.7282,-15.3915 170.5983,-24.0329 177.3251,-25.9695\"/>\n",
       "<text text-anchor=\"middle\" x=\"176\" y=\"-36.8\" font-family=\"Times,serif\" font-size=\"14.00\" fill=\"#000000\">1</text>\n",
       "</g>\n",
       "</g>\n",
       "</svg>\n"
      ],
      "text/plain": [
       "<graphviz.dot.Digraph at 0x7fe449fe7ac8>"
      ]
     },
     "execution_count": 244,
     "metadata": {},
     "output_type": "execute_result"
    }
   ],
   "source": [
    "display_trace_tree(scf.ct.root)"
   ]
  },
  {
   "cell_type": "markdown",
   "metadata": {
    "slideshow": {
     "slide_type": "fragment"
    }
   },
   "source": [
    "So, we fuzz to get a new path."
   ]
  },
  {
   "cell_type": "code",
   "execution_count": 245,
   "metadata": {
    "slideshow": {
     "slide_type": "fragment"
    }
   },
   "outputs": [
    {
     "data": {
      "text/plain": [
       "'\\\\x00\\\\x00\\\\x00'"
      ]
     },
     "execution_count": 245,
     "metadata": {},
     "output_type": "execute_result"
    }
   ],
   "source": [
    "v = scf.fuzz()\n",
    "v"
   ]
  },
  {
   "cell_type": "markdown",
   "metadata": {
    "slideshow": {
     "slide_type": "fragment"
    }
   },
   "source": [
    "We can now obtain the new trace as before."
   ]
  },
  {
   "cell_type": "code",
   "execution_count": 246,
   "metadata": {
    "slideshow": {
     "slide_type": "fragment"
    }
   },
   "outputs": [],
   "source": [
    "with ExpectError():\n",
    "    with ConcolicTracer() as _:\n",
    "        _[cgi_decode](v)  "
   ]
  },
  {
   "cell_type": "markdown",
   "metadata": {
    "slideshow": {
     "slide_type": "fragment"
    }
   },
   "source": [
    "The new trace is added to our fuzzer using `add_trace()`"
   ]
  },
  {
   "cell_type": "code",
   "execution_count": 247,
   "metadata": {
    "slideshow": {
     "slide_type": "subslide"
    }
   },
   "outputs": [],
   "source": [
    "scf.add_trace(_, v)"
   ]
  },
  {
   "cell_type": "markdown",
   "metadata": {
    "slideshow": {
     "slide_type": "fragment"
    }
   },
   "source": [
    "The updated binary tree is as follows. Note the difference between the child nodes of `Root` node."
   ]
  },
  {
   "cell_type": "code",
   "execution_count": 248,
   "metadata": {
    "slideshow": {
     "slide_type": "fragment"
    }
   },
   "outputs": [
    {
     "data": {
      "image/svg+xml": [
       "<?xml version=\"1.0\" encoding=\"UTF-8\" standalone=\"no\"?>\n",
       "<!DOCTYPE svg PUBLIC \"-//W3C//DTD SVG 1.1//EN\"\n",
       " \"http://www.w3.org/Graphics/SVG/1.1/DTD/svg11.dtd\">\n",
       "<!-- Generated by graphviz version 2.40.1 (20161225.0304)\n",
       " -->\n",
       "<!-- Title: %3 Pages: 1 -->\n",
       "<svg width=\"2366pt\" height=\"1607pt\"\n",
       " viewBox=\"0.00 0.00 2366.00 1607.00\" xmlns=\"http://www.w3.org/2000/svg\" xmlns:xlink=\"http://www.w3.org/1999/xlink\">\n",
       "<g id=\"graph0\" class=\"graph\" transform=\"scale(1 1) rotate(0) translate(4 1603)\">\n",
       "<title>%3</title>\n",
       "<polygon fill=\"#ffffff\" stroke=\"transparent\" points=\"-4,4 -4,-1603 2362,-1603 2362,4 -4,4\"/>\n",
       "<!-- 0 -->\n",
       "<g id=\"node1\" class=\"node\">\n",
       "<title>0</title>\n",
       "<text text-anchor=\"middle\" x=\"2227\" y=\"-1587.8\" font-family=\"Times,serif\" font-size=\"14.00\" fill=\"#000000\">(0) str.substr(cgi_decode_s_str_1, 0, 1) == &quot;+&quot;</text>\n",
       "</g>\n",
       "<!-- 1 -->\n",
       "<g id=\"node2\" class=\"node\">\n",
       "<title>1</title>\n",
       "<text text-anchor=\"middle\" x=\"2150\" y=\"-1521.8\" font-family=\"Times,serif\" font-size=\"14.00\" fill=\"#000000\">(1) str.substr(cgi_decode_s_str_1, 0, 1) == &quot;%&quot;</text>\n",
       "</g>\n",
       "<!-- 0&#45;&gt;1 -->\n",
       "<g id=\"edge1\" class=\"edge\">\n",
       "<title>0&#45;&gt;1</title>\n",
       "<path fill=\"none\" stroke=\"#ff0000\" d=\"M2218.1671,-1583.929C2205.7682,-1573.3013 2182.9531,-1553.7455 2167.1525,-1540.2021\"/>\n",
       "<polygon fill=\"#ff0000\" stroke=\"#ff0000\" points=\"2169.0771,-1537.242 2159.2067,-1533.3915 2164.5216,-1542.5568 2169.0771,-1537.242\"/>\n",
       "<text text-anchor=\"middle\" x=\"2200\" y=\"-1554.8\" font-family=\"Times,serif\" font-size=\"14.00\" fill=\"#000000\">0</text>\n",
       "</g>\n",
       "<!-- 52 -->\n",
       "<g id=\"node53\" class=\"node\">\n",
       "<title>52</title>\n",
       "<text text-anchor=\"middle\" x=\"2305\" y=\"-1521.8\" font-family=\"Times,serif\" font-size=\"14.00\" fill=\"#000000\">?</text>\n",
       "</g>\n",
       "<!-- 0&#45;&gt;52 -->\n",
       "<g id=\"edge52\" class=\"edge\">\n",
       "<title>0&#45;&gt;52</title>\n",
       "<path fill=\"none\" stroke=\"#0000ff\" d=\"M2235.9476,-1583.929C2250.1307,-1571.9279 2277.7686,-1548.5419 2293.436,-1535.2849\"/>\n",
       "<polygon fill=\"#0000ff\" stroke=\"#0000ff\" points=\"2296.0438,-1537.6632 2301.4169,-1528.5319 2291.5222,-1532.3195 2296.0438,-1537.6632\"/>\n",
       "<text text-anchor=\"middle\" x=\"2277\" y=\"-1554.8\" font-family=\"Times,serif\" font-size=\"14.00\" fill=\"#000000\">1</text>\n",
       "</g>\n",
       "<!-- 2 -->\n",
       "<g id=\"node3\" class=\"node\">\n",
       "<title>2</title>\n",
       "<text text-anchor=\"middle\" x=\"2074\" y=\"-1455.8\" font-family=\"Times,serif\" font-size=\"14.00\" fill=\"#000000\">(2) str.substr(cgi_decode_s_str_1, 1, 1) == &quot;+&quot;</text>\n",
       "</g>\n",
       "<!-- 1&#45;&gt;2 -->\n",
       "<g id=\"edge2\" class=\"edge\">\n",
       "<title>1&#45;&gt;2</title>\n",
       "<path fill=\"none\" stroke=\"#ff0000\" d=\"M2141.2818,-1517.929C2129.0439,-1507.3013 2106.5251,-1487.7455 2090.9297,-1474.2021\"/>\n",
       "<polygon fill=\"#ff0000\" stroke=\"#ff0000\" points=\"2092.9324,-1471.3058 2083.0872,-1467.3915 2088.3426,-1476.591 2092.9324,-1471.3058\"/>\n",
       "<text text-anchor=\"middle\" x=\"2123\" y=\"-1488.8\" font-family=\"Times,serif\" font-size=\"14.00\" fill=\"#000000\">0</text>\n",
       "</g>\n",
       "<!-- 51 -->\n",
       "<g id=\"node52\" class=\"node\">\n",
       "<title>51</title>\n",
       "<text text-anchor=\"middle\" x=\"2227\" y=\"-1455.8\" font-family=\"Times,serif\" font-size=\"14.00\" fill=\"#000000\">?</text>\n",
       "</g>\n",
       "<!-- 1&#45;&gt;51 -->\n",
       "<g id=\"edge51\" class=\"edge\">\n",
       "<title>1&#45;&gt;51</title>\n",
       "<path fill=\"none\" stroke=\"#0000ff\" d=\"M2158.8329,-1517.929C2172.8341,-1505.9279 2200.1177,-1482.5419 2215.5842,-1469.2849\"/>\n",
       "<polygon fill=\"#0000ff\" stroke=\"#0000ff\" points=\"2218.148,-1471.6972 2223.4628,-1462.5319 2213.5925,-1466.3824 2218.148,-1471.6972\"/>\n",
       "<text text-anchor=\"middle\" x=\"2200\" y=\"-1488.8\" font-family=\"Times,serif\" font-size=\"14.00\" fill=\"#000000\">1</text>\n",
       "</g>\n",
       "<!-- 3 -->\n",
       "<g id=\"node4\" class=\"node\">\n",
       "<title>3</title>\n",
       "<text text-anchor=\"middle\" x=\"1934\" y=\"-1389.8\" font-family=\"Times,serif\" font-size=\"14.00\" fill=\"#000000\">(3) str.substr(cgi_decode_s_str_1, 1, 1) == &quot;%&quot;</text>\n",
       "</g>\n",
       "<!-- 2&#45;&gt;3 -->\n",
       "<g id=\"edge3\" class=\"edge\">\n",
       "<title>2&#45;&gt;3</title>\n",
       "<path fill=\"none\" stroke=\"#ff0000\" d=\"M2057.9402,-1451.929C2033.9114,-1440.6011 1988.3664,-1419.1299 1959.6832,-1405.6078\"/>\n",
       "<polygon fill=\"#ff0000\" stroke=\"#ff0000\" points=\"1960.8415,-1402.2844 1950.3037,-1401.186 1957.8565,-1408.6161 1960.8415,-1402.2844\"/>\n",
       "<text text-anchor=\"middle\" x=\"2021\" y=\"-1422.8\" font-family=\"Times,serif\" font-size=\"14.00\" fill=\"#000000\">0</text>\n",
       "</g>\n",
       "<!-- 46 -->\n",
       "<g id=\"node47\" class=\"node\">\n",
       "<title>46</title>\n",
       "<text text-anchor=\"middle\" x=\"2216\" y=\"-1389.8\" font-family=\"Times,serif\" font-size=\"14.00\" fill=\"#000000\">(3) str.substr(cgi_decode_s_str_1, 2, 1) == &quot;+&quot;</text>\n",
       "</g>\n",
       "<!-- 2&#45;&gt;46 -->\n",
       "<g id=\"edge46\" class=\"edge\">\n",
       "<title>2&#45;&gt;46</title>\n",
       "<path fill=\"none\" stroke=\"#0000ff\" d=\"M2090.2892,-1451.929C2114.7677,-1440.5516 2161.2608,-1418.9422 2190.3301,-1405.4311\"/>\n",
       "<polygon fill=\"#0000ff\" stroke=\"#0000ff\" points=\"2191.8702,-1408.5749 2199.4634,-1401.186 2188.9198,-1402.227 2191.8702,-1408.5749\"/>\n",
       "<text text-anchor=\"middle\" x=\"2162\" y=\"-1422.8\" font-family=\"Times,serif\" font-size=\"14.00\" fill=\"#000000\">1</text>\n",
       "</g>\n",
       "<!-- 4 -->\n",
       "<g id=\"node5\" class=\"node\">\n",
       "<title>4</title>\n",
       "<text text-anchor=\"middle\" x=\"1786\" y=\"-1323.8\" font-family=\"Times,serif\" font-size=\"14.00\" fill=\"#000000\">(4) str.substr(cgi_decode_s_str_1, 2, 1) == &quot;+&quot;</text>\n",
       "</g>\n",
       "<!-- 3&#45;&gt;4 -->\n",
       "<g id=\"edge4\" class=\"edge\">\n",
       "<title>3&#45;&gt;4</title>\n",
       "<path fill=\"none\" stroke=\"#ff0000\" d=\"M1917.0225,-1385.929C1891.5097,-1374.5516 1843.0521,-1352.9422 1812.7546,-1339.4311\"/>\n",
       "<polygon fill=\"#ff0000\" stroke=\"#ff0000\" points=\"1813.7939,-1336.0624 1803.2354,-1335.186 1810.9429,-1342.4555 1813.7939,-1336.0624\"/>\n",
       "<text text-anchor=\"middle\" x=\"1878\" y=\"-1356.8\" font-family=\"Times,serif\" font-size=\"14.00\" fill=\"#000000\">0</text>\n",
       "</g>\n",
       "<!-- 45 -->\n",
       "<g id=\"node46\" class=\"node\">\n",
       "<title>45</title>\n",
       "<text text-anchor=\"middle\" x=\"1939\" y=\"-1323.8\" font-family=\"Times,serif\" font-size=\"14.00\" fill=\"#000000\">?</text>\n",
       "</g>\n",
       "<!-- 3&#45;&gt;45 -->\n",
       "<g id=\"edge45\" class=\"edge\">\n",
       "<title>3&#45;&gt;45</title>\n",
       "<path fill=\"none\" stroke=\"#0000ff\" d=\"M1934.5736,-1385.929C1935.3116,-1376.1869 1936.618,-1358.9428 1937.6209,-1345.7046\"/>\n",
       "<polygon fill=\"#0000ff\" stroke=\"#0000ff\" points=\"1941.1367,-1345.6273 1938.4022,-1335.3915 1934.1567,-1345.0985 1941.1367,-1345.6273\"/>\n",
       "<text text-anchor=\"middle\" x=\"1941\" y=\"-1356.8\" font-family=\"Times,serif\" font-size=\"14.00\" fill=\"#000000\">1</text>\n",
       "</g>\n",
       "<!-- 5 -->\n",
       "<g id=\"node6\" class=\"node\">\n",
       "<title>5</title>\n",
       "<text text-anchor=\"middle\" x=\"1678\" y=\"-1257.8\" font-family=\"Times,serif\" font-size=\"14.00\" fill=\"#000000\">(5) str.substr(cgi_decode_s_str_1, 2, 1) == &quot;%&quot;</text>\n",
       "</g>\n",
       "<!-- 4&#45;&gt;5 -->\n",
       "<g id=\"edge5\" class=\"edge\">\n",
       "<title>4&#45;&gt;5</title>\n",
       "<path fill=\"none\" stroke=\"#ff0000\" d=\"M1773.611,-1319.929C1755.4793,-1308.8484 1721.4661,-1288.0626 1699.2804,-1274.5047\"/>\n",
       "<polygon fill=\"#ff0000\" stroke=\"#ff0000\" points=\"1700.9351,-1271.4141 1690.5772,-1269.186 1697.2849,-1277.3871 1700.9351,-1271.4141\"/>\n",
       "<text text-anchor=\"middle\" x=\"1746\" y=\"-1290.8\" font-family=\"Times,serif\" font-size=\"14.00\" fill=\"#000000\">0</text>\n",
       "</g>\n",
       "<!-- 44 -->\n",
       "<g id=\"node45\" class=\"node\">\n",
       "<title>44</title>\n",
       "<text text-anchor=\"middle\" x=\"1833\" y=\"-1257.8\" font-family=\"Times,serif\" font-size=\"14.00\" fill=\"#000000\">?</text>\n",
       "</g>\n",
       "<!-- 4&#45;&gt;44 -->\n",
       "<g id=\"edge44\" class=\"edge\">\n",
       "<title>4&#45;&gt;44</title>\n",
       "<path fill=\"none\" stroke=\"#0000ff\" d=\"M1791.3915,-1319.929C1799.1526,-1309.0304 1813.5998,-1288.7428 1823.2592,-1275.1785\"/>\n",
       "<polygon fill=\"#0000ff\" stroke=\"#0000ff\" points=\"1826.3328,-1276.8962 1829.2825,-1266.7203 1820.6308,-1272.8357 1826.3328,-1276.8962\"/>\n",
       "<text text-anchor=\"middle\" x=\"1818\" y=\"-1290.8\" font-family=\"Times,serif\" font-size=\"14.00\" fill=\"#000000\">1</text>\n",
       "</g>\n",
       "<!-- 6 -->\n",
       "<g id=\"node7\" class=\"node\">\n",
       "<title>6</title>\n",
       "<text text-anchor=\"middle\" x=\"1571\" y=\"-1191.8\" font-family=\"Times,serif\" font-size=\"14.00\" fill=\"#000000\">(6) str.substr(cgi_decode_s_str_1, 3, 1) == &quot;+&quot;</text>\n",
       "</g>\n",
       "<!-- 5&#45;&gt;6 -->\n",
       "<g id=\"edge6\" class=\"edge\">\n",
       "<title>5&#45;&gt;6</title>\n",
       "<path fill=\"none\" stroke=\"#ff0000\" d=\"M1665.7257,-1253.929C1647.7619,-1242.8484 1614.0637,-1222.0626 1592.0834,-1208.5047\"/>\n",
       "<polygon fill=\"#ff0000\" stroke=\"#ff0000\" points=\"1593.8093,-1205.457 1583.4607,-1203.186 1590.1344,-1211.4148 1593.8093,-1205.457\"/>\n",
       "<text text-anchor=\"middle\" x=\"1639\" y=\"-1224.8\" font-family=\"Times,serif\" font-size=\"14.00\" fill=\"#000000\">0</text>\n",
       "</g>\n",
       "<!-- 43 -->\n",
       "<g id=\"node44\" class=\"node\">\n",
       "<title>43</title>\n",
       "<text text-anchor=\"middle\" x=\"1724\" y=\"-1191.8\" font-family=\"Times,serif\" font-size=\"14.00\" fill=\"#000000\">?</text>\n",
       "</g>\n",
       "<!-- 5&#45;&gt;43 -->\n",
       "<g id=\"edge43\" class=\"edge\">\n",
       "<title>5&#45;&gt;43</title>\n",
       "<path fill=\"none\" stroke=\"#0000ff\" d=\"M1683.2768,-1253.929C1690.8727,-1243.0304 1705.0126,-1222.7428 1714.4665,-1209.1785\"/>\n",
       "<polygon fill=\"#0000ff\" stroke=\"#0000ff\" points=\"1717.5151,-1210.9255 1720.3616,-1200.7203 1711.7723,-1206.923 1717.5151,-1210.9255\"/>\n",
       "<text text-anchor=\"middle\" x=\"1710\" y=\"-1224.8\" font-family=\"Times,serif\" font-size=\"14.00\" fill=\"#000000\">1</text>\n",
       "</g>\n",
       "<!-- 7 -->\n",
       "<g id=\"node8\" class=\"node\">\n",
       "<title>7</title>\n",
       "<text text-anchor=\"middle\" x=\"1494\" y=\"-1125.8\" font-family=\"Times,serif\" font-size=\"14.00\" fill=\"#000000\">(7) str.substr(cgi_decode_s_str_1, 3, 1) == &quot;%&quot;</text>\n",
       "</g>\n",
       "<!-- 6&#45;&gt;7 -->\n",
       "<g id=\"edge7\" class=\"edge\">\n",
       "<title>6&#45;&gt;7</title>\n",
       "<path fill=\"none\" stroke=\"#ff0000\" d=\"M1562.1671,-1187.929C1549.7682,-1177.3013 1526.9531,-1157.7455 1511.1525,-1144.2021\"/>\n",
       "<polygon fill=\"#ff0000\" stroke=\"#ff0000\" points=\"1513.0771,-1141.242 1503.2067,-1137.3915 1508.5216,-1146.5568 1513.0771,-1141.242\"/>\n",
       "<text text-anchor=\"middle\" x=\"1544\" y=\"-1158.8\" font-family=\"Times,serif\" font-size=\"14.00\" fill=\"#000000\">0</text>\n",
       "</g>\n",
       "<!-- 42 -->\n",
       "<g id=\"node43\" class=\"node\">\n",
       "<title>42</title>\n",
       "<text text-anchor=\"middle\" x=\"1649\" y=\"-1125.8\" font-family=\"Times,serif\" font-size=\"14.00\" fill=\"#000000\">?</text>\n",
       "</g>\n",
       "<!-- 6&#45;&gt;42 -->\n",
       "<g id=\"edge42\" class=\"edge\">\n",
       "<title>6&#45;&gt;42</title>\n",
       "<path fill=\"none\" stroke=\"#0000ff\" d=\"M1579.9476,-1187.929C1594.1307,-1175.9279 1621.7686,-1152.5419 1637.436,-1139.2849\"/>\n",
       "<polygon fill=\"#0000ff\" stroke=\"#0000ff\" points=\"1640.0438,-1141.6632 1645.4169,-1132.5319 1635.5222,-1136.3195 1640.0438,-1141.6632\"/>\n",
       "<text text-anchor=\"middle\" x=\"1621\" y=\"-1158.8\" font-family=\"Times,serif\" font-size=\"14.00\" fill=\"#000000\">1</text>\n",
       "</g>\n",
       "<!-- 8 -->\n",
       "<g id=\"node9\" class=\"node\">\n",
       "<title>8</title>\n",
       "<text text-anchor=\"middle\" x=\"1418\" y=\"-1059.8\" font-family=\"Times,serif\" font-size=\"14.00\" fill=\"#000000\">(8) str.substr(cgi_decode_s_str_1, 4, 1) == &quot;+&quot;</text>\n",
       "</g>\n",
       "<!-- 7&#45;&gt;8 -->\n",
       "<g id=\"edge8\" class=\"edge\">\n",
       "<title>7&#45;&gt;8</title>\n",
       "<path fill=\"none\" stroke=\"#ff0000\" d=\"M1485.2818,-1121.929C1473.0439,-1111.3013 1450.5251,-1091.7455 1434.9297,-1078.2021\"/>\n",
       "<polygon fill=\"#ff0000\" stroke=\"#ff0000\" points=\"1436.9324,-1075.3058 1427.0872,-1071.3915 1432.3426,-1080.591 1436.9324,-1075.3058\"/>\n",
       "<text text-anchor=\"middle\" x=\"1467\" y=\"-1092.8\" font-family=\"Times,serif\" font-size=\"14.00\" fill=\"#000000\">0</text>\n",
       "</g>\n",
       "<!-- 41 -->\n",
       "<g id=\"node42\" class=\"node\">\n",
       "<title>41</title>\n",
       "<text text-anchor=\"middle\" x=\"1571\" y=\"-1059.8\" font-family=\"Times,serif\" font-size=\"14.00\" fill=\"#000000\">?</text>\n",
       "</g>\n",
       "<!-- 7&#45;&gt;41 -->\n",
       "<g id=\"edge41\" class=\"edge\">\n",
       "<title>7&#45;&gt;41</title>\n",
       "<path fill=\"none\" stroke=\"#0000ff\" d=\"M1502.8329,-1121.929C1516.8341,-1109.9279 1544.1177,-1086.5419 1559.5842,-1073.2849\"/>\n",
       "<polygon fill=\"#0000ff\" stroke=\"#0000ff\" points=\"1562.148,-1075.6972 1567.4628,-1066.5319 1557.5925,-1070.3824 1562.148,-1075.6972\"/>\n",
       "<text text-anchor=\"middle\" x=\"1544\" y=\"-1092.8\" font-family=\"Times,serif\" font-size=\"14.00\" fill=\"#000000\">1</text>\n",
       "</g>\n",
       "<!-- 9 -->\n",
       "<g id=\"node10\" class=\"node\">\n",
       "<title>9</title>\n",
       "<text text-anchor=\"middle\" x=\"1341\" y=\"-993.8\" font-family=\"Times,serif\" font-size=\"14.00\" fill=\"#000000\">(9) str.substr(cgi_decode_s_str_1, 4, 1) == &quot;%&quot;</text>\n",
       "</g>\n",
       "<!-- 8&#45;&gt;9 -->\n",
       "<g id=\"edge9\" class=\"edge\">\n",
       "<title>8&#45;&gt;9</title>\n",
       "<path fill=\"none\" stroke=\"#ff0000\" d=\"M1409.1671,-1055.929C1396.7682,-1045.3013 1373.9531,-1025.7455 1358.1525,-1012.2021\"/>\n",
       "<polygon fill=\"#ff0000\" stroke=\"#ff0000\" points=\"1360.0771,-1009.242 1350.2067,-1005.3915 1355.5216,-1014.5568 1360.0771,-1009.242\"/>\n",
       "<text text-anchor=\"middle\" x=\"1391\" y=\"-1026.8\" font-family=\"Times,serif\" font-size=\"14.00\" fill=\"#000000\">0</text>\n",
       "</g>\n",
       "<!-- 40 -->\n",
       "<g id=\"node41\" class=\"node\">\n",
       "<title>40</title>\n",
       "<text text-anchor=\"middle\" x=\"1496\" y=\"-993.8\" font-family=\"Times,serif\" font-size=\"14.00\" fill=\"#000000\">?</text>\n",
       "</g>\n",
       "<!-- 8&#45;&gt;40 -->\n",
       "<g id=\"edge40\" class=\"edge\">\n",
       "<title>8&#45;&gt;40</title>\n",
       "<path fill=\"none\" stroke=\"#0000ff\" d=\"M1426.9476,-1055.929C1441.1307,-1043.9279 1468.7686,-1020.5419 1484.436,-1007.2849\"/>\n",
       "<polygon fill=\"#0000ff\" stroke=\"#0000ff\" points=\"1487.0438,-1009.6632 1492.4169,-1000.5319 1482.5222,-1004.3195 1487.0438,-1009.6632\"/>\n",
       "<text text-anchor=\"middle\" x=\"1468\" y=\"-1026.8\" font-family=\"Times,serif\" font-size=\"14.00\" fill=\"#000000\">1</text>\n",
       "</g>\n",
       "<!-- 10 -->\n",
       "<g id=\"node11\" class=\"node\">\n",
       "<title>10</title>\n",
       "<text text-anchor=\"middle\" x=\"1263\" y=\"-927.8\" font-family=\"Times,serif\" font-size=\"14.00\" fill=\"#000000\">(10) str.substr(cgi_decode_s_str_1, 5, 1) == &quot;+&quot;</text>\n",
       "</g>\n",
       "<!-- 9&#45;&gt;10 -->\n",
       "<g id=\"edge10\" class=\"edge\">\n",
       "<title>9&#45;&gt;10</title>\n",
       "<path fill=\"none\" stroke=\"#ff0000\" d=\"M1332.0524,-989.929C1319.4925,-979.3013 1296.381,-959.7455 1280.3753,-946.2021\"/>\n",
       "<polygon fill=\"#ff0000\" stroke=\"#ff0000\" points=\"1282.221,-943.1791 1272.3263,-939.3915 1277.6994,-948.5228 1282.221,-943.1791\"/>\n",
       "<text text-anchor=\"middle\" x=\"1313\" y=\"-960.8\" font-family=\"Times,serif\" font-size=\"14.00\" fill=\"#000000\">0</text>\n",
       "</g>\n",
       "<!-- 39 -->\n",
       "<g id=\"node40\" class=\"node\">\n",
       "<title>39</title>\n",
       "<text text-anchor=\"middle\" x=\"1419\" y=\"-927.8\" font-family=\"Times,serif\" font-size=\"14.00\" fill=\"#000000\">?</text>\n",
       "</g>\n",
       "<!-- 9&#45;&gt;39 -->\n",
       "<g id=\"edge39\" class=\"edge\">\n",
       "<title>9&#45;&gt;39</title>\n",
       "<path fill=\"none\" stroke=\"#0000ff\" d=\"M1349.9476,-989.929C1364.1307,-977.9279 1391.7686,-954.5419 1407.436,-941.2849\"/>\n",
       "<polygon fill=\"#0000ff\" stroke=\"#0000ff\" points=\"1410.0438,-943.6632 1415.4169,-934.5319 1405.5222,-938.3195 1410.0438,-943.6632\"/>\n",
       "<text text-anchor=\"middle\" x=\"1391\" y=\"-960.8\" font-family=\"Times,serif\" font-size=\"14.00\" fill=\"#000000\">1</text>\n",
       "</g>\n",
       "<!-- 11 -->\n",
       "<g id=\"node12\" class=\"node\">\n",
       "<title>11</title>\n",
       "<text text-anchor=\"middle\" x=\"1184\" y=\"-861.8\" font-family=\"Times,serif\" font-size=\"14.00\" fill=\"#000000\">(11) str.substr(cgi_decode_s_str_1, 5, 1) == &quot;%&quot;</text>\n",
       "</g>\n",
       "<!-- 10&#45;&gt;11 -->\n",
       "<g id=\"edge11\" class=\"edge\">\n",
       "<title>10&#45;&gt;11</title>\n",
       "<path fill=\"none\" stroke=\"#ff0000\" d=\"M1253.9377,-923.929C1241.0989,-913.2029 1217.3746,-893.3826 1201.1496,-879.8275\"/>\n",
       "<polygon fill=\"#ff0000\" stroke=\"#ff0000\" points=\"1203.3641,-877.1169 1193.4459,-873.3915 1198.8761,-882.4889 1203.3641,-877.1169\"/>\n",
       "<text text-anchor=\"middle\" x=\"1235\" y=\"-894.8\" font-family=\"Times,serif\" font-size=\"14.00\" fill=\"#000000\">0</text>\n",
       "</g>\n",
       "<!-- 38 -->\n",
       "<g id=\"node39\" class=\"node\">\n",
       "<title>38</title>\n",
       "<text text-anchor=\"middle\" x=\"1342\" y=\"-861.8\" font-family=\"Times,serif\" font-size=\"14.00\" fill=\"#000000\">?</text>\n",
       "</g>\n",
       "<!-- 10&#45;&gt;38 -->\n",
       "<g id=\"edge38\" class=\"edge\">\n",
       "<title>10&#45;&gt;38</title>\n",
       "<path fill=\"none\" stroke=\"#0000ff\" d=\"M1272.0623,-923.929C1286.4272,-911.9279 1314.4195,-888.5419 1330.2877,-875.2849\"/>\n",
       "<polygon fill=\"#0000ff\" stroke=\"#0000ff\" points=\"1332.9407,-877.6293 1338.371,-868.5319 1328.4527,-872.2573 1332.9407,-877.6293\"/>\n",
       "<text text-anchor=\"middle\" x=\"1314\" y=\"-894.8\" font-family=\"Times,serif\" font-size=\"14.00\" fill=\"#000000\">1</text>\n",
       "</g>\n",
       "<!-- 12 -->\n",
       "<g id=\"node13\" class=\"node\">\n",
       "<title>12</title>\n",
       "<text text-anchor=\"middle\" x=\"1106\" y=\"-795.8\" font-family=\"Times,serif\" font-size=\"14.00\" fill=\"#000000\">(12) str.substr(cgi_decode_s_str_1, 6, 1) == &quot;+&quot;</text>\n",
       "</g>\n",
       "<!-- 11&#45;&gt;12 -->\n",
       "<g id=\"edge12\" class=\"edge\">\n",
       "<title>11&#45;&gt;12</title>\n",
       "<path fill=\"none\" stroke=\"#ff0000\" d=\"M1175.0524,-857.929C1162.4925,-847.3013 1139.381,-827.7455 1123.3753,-814.2021\"/>\n",
       "<polygon fill=\"#ff0000\" stroke=\"#ff0000\" points=\"1125.221,-811.1791 1115.3263,-807.3915 1120.6994,-816.5228 1125.221,-811.1791\"/>\n",
       "<text text-anchor=\"middle\" x=\"1156\" y=\"-828.8\" font-family=\"Times,serif\" font-size=\"14.00\" fill=\"#000000\">0</text>\n",
       "</g>\n",
       "<!-- 37 -->\n",
       "<g id=\"node38\" class=\"node\">\n",
       "<title>37</title>\n",
       "<text text-anchor=\"middle\" x=\"1262\" y=\"-795.8\" font-family=\"Times,serif\" font-size=\"14.00\" fill=\"#000000\">?</text>\n",
       "</g>\n",
       "<!-- 11&#45;&gt;37 -->\n",
       "<g id=\"edge37\" class=\"edge\">\n",
       "<title>11&#45;&gt;37</title>\n",
       "<path fill=\"none\" stroke=\"#0000ff\" d=\"M1192.9476,-857.929C1207.1307,-845.9279 1234.7686,-822.5419 1250.436,-809.2849\"/>\n",
       "<polygon fill=\"#0000ff\" stroke=\"#0000ff\" points=\"1253.0438,-811.6632 1258.4169,-802.5319 1248.5222,-806.3195 1253.0438,-811.6632\"/>\n",
       "<text text-anchor=\"middle\" x=\"1234\" y=\"-828.8\" font-family=\"Times,serif\" font-size=\"14.00\" fill=\"#000000\">1</text>\n",
       "</g>\n",
       "<!-- 13 -->\n",
       "<g id=\"node14\" class=\"node\">\n",
       "<title>13</title>\n",
       "<text text-anchor=\"middle\" x=\"1027\" y=\"-729.8\" font-family=\"Times,serif\" font-size=\"14.00\" fill=\"#000000\">(13) str.substr(cgi_decode_s_str_1, 6, 1) == &quot;%&quot;</text>\n",
       "</g>\n",
       "<!-- 12&#45;&gt;13 -->\n",
       "<g id=\"edge13\" class=\"edge\">\n",
       "<title>12&#45;&gt;13</title>\n",
       "<path fill=\"none\" stroke=\"#ff0000\" d=\"M1096.9377,-791.929C1084.0989,-781.2029 1060.3746,-761.3826 1044.1496,-747.8275\"/>\n",
       "<polygon fill=\"#ff0000\" stroke=\"#ff0000\" points=\"1046.3641,-745.1169 1036.4459,-741.3915 1041.8761,-750.4889 1046.3641,-745.1169\"/>\n",
       "<text text-anchor=\"middle\" x=\"1078\" y=\"-762.8\" font-family=\"Times,serif\" font-size=\"14.00\" fill=\"#000000\">0</text>\n",
       "</g>\n",
       "<!-- 36 -->\n",
       "<g id=\"node37\" class=\"node\">\n",
       "<title>36</title>\n",
       "<text text-anchor=\"middle\" x=\"1185\" y=\"-729.8\" font-family=\"Times,serif\" font-size=\"14.00\" fill=\"#000000\">?</text>\n",
       "</g>\n",
       "<!-- 12&#45;&gt;36 -->\n",
       "<g id=\"edge36\" class=\"edge\">\n",
       "<title>12&#45;&gt;36</title>\n",
       "<path fill=\"none\" stroke=\"#0000ff\" d=\"M1115.0623,-791.929C1129.4272,-779.9279 1157.4195,-756.5419 1173.2877,-743.2849\"/>\n",
       "<polygon fill=\"#0000ff\" stroke=\"#0000ff\" points=\"1175.9407,-745.6293 1181.371,-736.5319 1171.4527,-740.2573 1175.9407,-745.6293\"/>\n",
       "<text text-anchor=\"middle\" x=\"1157\" y=\"-762.8\" font-family=\"Times,serif\" font-size=\"14.00\" fill=\"#000000\">1</text>\n",
       "</g>\n",
       "<!-- 14 -->\n",
       "<g id=\"node15\" class=\"node\">\n",
       "<title>14</title>\n",
       "<text text-anchor=\"middle\" x=\"949\" y=\"-663.8\" font-family=\"Times,serif\" font-size=\"14.00\" fill=\"#000000\">(14) str.substr(cgi_decode_s_str_1, 7, 1) == &quot;+&quot;</text>\n",
       "</g>\n",
       "<!-- 13&#45;&gt;14 -->\n",
       "<g id=\"edge14\" class=\"edge\">\n",
       "<title>13&#45;&gt;14</title>\n",
       "<path fill=\"none\" stroke=\"#ff0000\" d=\"M1018.0524,-725.929C1005.4925,-715.3013 982.381,-695.7455 966.3753,-682.2021\"/>\n",
       "<polygon fill=\"#ff0000\" stroke=\"#ff0000\" points=\"968.221,-679.1791 958.3263,-675.3915 963.6994,-684.5228 968.221,-679.1791\"/>\n",
       "<text text-anchor=\"middle\" x=\"999\" y=\"-696.8\" font-family=\"Times,serif\" font-size=\"14.00\" fill=\"#000000\">0</text>\n",
       "</g>\n",
       "<!-- 35 -->\n",
       "<g id=\"node36\" class=\"node\">\n",
       "<title>35</title>\n",
       "<text text-anchor=\"middle\" x=\"1105\" y=\"-663.8\" font-family=\"Times,serif\" font-size=\"14.00\" fill=\"#000000\">?</text>\n",
       "</g>\n",
       "<!-- 13&#45;&gt;35 -->\n",
       "<g id=\"edge35\" class=\"edge\">\n",
       "<title>13&#45;&gt;35</title>\n",
       "<path fill=\"none\" stroke=\"#0000ff\" d=\"M1035.9476,-725.929C1050.1307,-713.9279 1077.7686,-690.5419 1093.436,-677.2849\"/>\n",
       "<polygon fill=\"#0000ff\" stroke=\"#0000ff\" points=\"1096.0438,-679.6632 1101.4169,-670.5319 1091.5222,-674.3195 1096.0438,-679.6632\"/>\n",
       "<text text-anchor=\"middle\" x=\"1077\" y=\"-696.8\" font-family=\"Times,serif\" font-size=\"14.00\" fill=\"#000000\">1</text>\n",
       "</g>\n",
       "<!-- 15 -->\n",
       "<g id=\"node16\" class=\"node\">\n",
       "<title>15</title>\n",
       "<text text-anchor=\"middle\" x=\"870\" y=\"-597.8\" font-family=\"Times,serif\" font-size=\"14.00\" fill=\"#000000\">(15) str.substr(cgi_decode_s_str_1, 7, 1) == &quot;%&quot;</text>\n",
       "</g>\n",
       "<!-- 14&#45;&gt;15 -->\n",
       "<g id=\"edge15\" class=\"edge\">\n",
       "<title>14&#45;&gt;15</title>\n",
       "<path fill=\"none\" stroke=\"#ff0000\" d=\"M939.9377,-659.929C927.0989,-649.2029 903.3746,-629.3826 887.1496,-615.8275\"/>\n",
       "<polygon fill=\"#ff0000\" stroke=\"#ff0000\" points=\"889.3641,-613.1169 879.4459,-609.3915 884.8761,-618.4889 889.3641,-613.1169\"/>\n",
       "<text text-anchor=\"middle\" x=\"921\" y=\"-630.8\" font-family=\"Times,serif\" font-size=\"14.00\" fill=\"#000000\">0</text>\n",
       "</g>\n",
       "<!-- 34 -->\n",
       "<g id=\"node35\" class=\"node\">\n",
       "<title>34</title>\n",
       "<text text-anchor=\"middle\" x=\"1028\" y=\"-597.8\" font-family=\"Times,serif\" font-size=\"14.00\" fill=\"#000000\">?</text>\n",
       "</g>\n",
       "<!-- 14&#45;&gt;34 -->\n",
       "<g id=\"edge34\" class=\"edge\">\n",
       "<title>14&#45;&gt;34</title>\n",
       "<path fill=\"none\" stroke=\"#0000ff\" d=\"M958.0623,-659.929C972.4272,-647.9279 1000.4195,-624.5419 1016.2877,-611.2849\"/>\n",
       "<polygon fill=\"#0000ff\" stroke=\"#0000ff\" points=\"1018.9407,-613.6293 1024.371,-604.5319 1014.4527,-608.2573 1018.9407,-613.6293\"/>\n",
       "<text text-anchor=\"middle\" x=\"1000\" y=\"-630.8\" font-family=\"Times,serif\" font-size=\"14.00\" fill=\"#000000\">1</text>\n",
       "</g>\n",
       "<!-- 16 -->\n",
       "<g id=\"node17\" class=\"node\">\n",
       "<title>16</title>\n",
       "<text text-anchor=\"middle\" x=\"761\" y=\"-531.8\" font-family=\"Times,serif\" font-size=\"14.00\" fill=\"#000000\">(16) str.substr(cgi_decode_s_str_1, 8, 1) == &quot;+&quot;</text>\n",
       "</g>\n",
       "<!-- 15&#45;&gt;16 -->\n",
       "<g id=\"edge16\" class=\"edge\">\n",
       "<title>15&#45;&gt;16</title>\n",
       "<path fill=\"none\" stroke=\"#ff0000\" d=\"M857.4963,-593.929C839.1967,-582.8484 804.8686,-562.0626 782.4775,-548.5047\"/>\n",
       "<polygon fill=\"#ff0000\" stroke=\"#ff0000\" points=\"784.0606,-545.3717 773.6936,-543.186 780.4349,-551.3596 784.0606,-545.3717\"/>\n",
       "<text text-anchor=\"middle\" x=\"830\" y=\"-564.8\" font-family=\"Times,serif\" font-size=\"14.00\" fill=\"#000000\">0</text>\n",
       "</g>\n",
       "<!-- 33 -->\n",
       "<g id=\"node34\" class=\"node\">\n",
       "<title>33</title>\n",
       "<text text-anchor=\"middle\" x=\"917\" y=\"-531.8\" font-family=\"Times,serif\" font-size=\"14.00\" fill=\"#000000\">?</text>\n",
       "</g>\n",
       "<!-- 15&#45;&gt;33 -->\n",
       "<g id=\"edge33\" class=\"edge\">\n",
       "<title>15&#45;&gt;33</title>\n",
       "<path fill=\"none\" stroke=\"#0000ff\" d=\"M875.3915,-593.929C883.1526,-583.0304 897.5998,-562.7428 907.2592,-549.1785\"/>\n",
       "<polygon fill=\"#0000ff\" stroke=\"#0000ff\" points=\"910.3328,-550.8962 913.2825,-540.7203 904.6308,-546.8357 910.3328,-550.8962\"/>\n",
       "<text text-anchor=\"middle\" x=\"902\" y=\"-564.8\" font-family=\"Times,serif\" font-size=\"14.00\" fill=\"#000000\">1</text>\n",
       "</g>\n",
       "<!-- 17 -->\n",
       "<g id=\"node18\" class=\"node\">\n",
       "<title>17</title>\n",
       "<text text-anchor=\"middle\" x=\"682\" y=\"-465.8\" font-family=\"Times,serif\" font-size=\"14.00\" fill=\"#000000\">(17) str.substr(cgi_decode_s_str_1, 8, 1) == &quot;%&quot;</text>\n",
       "</g>\n",
       "<!-- 16&#45;&gt;17 -->\n",
       "<g id=\"edge17\" class=\"edge\">\n",
       "<title>16&#45;&gt;17</title>\n",
       "<path fill=\"none\" stroke=\"#ff0000\" d=\"M751.9377,-527.929C739.0989,-517.2029 715.3746,-497.3826 699.1496,-483.8275\"/>\n",
       "<polygon fill=\"#ff0000\" stroke=\"#ff0000\" points=\"701.3641,-481.1169 691.4459,-477.3915 696.8761,-486.4889 701.3641,-481.1169\"/>\n",
       "<text text-anchor=\"middle\" x=\"733\" y=\"-498.8\" font-family=\"Times,serif\" font-size=\"14.00\" fill=\"#000000\">0</text>\n",
       "</g>\n",
       "<!-- 32 -->\n",
       "<g id=\"node33\" class=\"node\">\n",
       "<title>32</title>\n",
       "<text text-anchor=\"middle\" x=\"840\" y=\"-465.8\" font-family=\"Times,serif\" font-size=\"14.00\" fill=\"#000000\">?</text>\n",
       "</g>\n",
       "<!-- 16&#45;&gt;32 -->\n",
       "<g id=\"edge32\" class=\"edge\">\n",
       "<title>16&#45;&gt;32</title>\n",
       "<path fill=\"none\" stroke=\"#0000ff\" d=\"M770.0623,-527.929C784.4272,-515.9279 812.4195,-492.5419 828.2877,-479.2849\"/>\n",
       "<polygon fill=\"#0000ff\" stroke=\"#0000ff\" points=\"830.9407,-481.6293 836.371,-472.5319 826.4527,-476.2573 830.9407,-481.6293\"/>\n",
       "<text text-anchor=\"middle\" x=\"812\" y=\"-498.8\" font-family=\"Times,serif\" font-size=\"14.00\" fill=\"#000000\">1</text>\n",
       "</g>\n",
       "<!-- 18 -->\n",
       "<g id=\"node19\" class=\"node\">\n",
       "<title>18</title>\n",
       "<text text-anchor=\"middle\" x=\"604\" y=\"-399.8\" font-family=\"Times,serif\" font-size=\"14.00\" fill=\"#000000\">(18) str.substr(cgi_decode_s_str_1, 9, 1) == &quot;+&quot;</text>\n",
       "</g>\n",
       "<!-- 17&#45;&gt;18 -->\n",
       "<g id=\"edge18\" class=\"edge\">\n",
       "<title>17&#45;&gt;18</title>\n",
       "<path fill=\"none\" stroke=\"#ff0000\" d=\"M673.0524,-461.929C660.4925,-451.3013 637.381,-431.7455 621.3753,-418.2021\"/>\n",
       "<polygon fill=\"#ff0000\" stroke=\"#ff0000\" points=\"623.221,-415.1791 613.3263,-411.3915 618.6994,-420.5228 623.221,-415.1791\"/>\n",
       "<text text-anchor=\"middle\" x=\"654\" y=\"-432.8\" font-family=\"Times,serif\" font-size=\"14.00\" fill=\"#000000\">0</text>\n",
       "</g>\n",
       "<!-- 31 -->\n",
       "<g id=\"node32\" class=\"node\">\n",
       "<title>31</title>\n",
       "<text text-anchor=\"middle\" x=\"760\" y=\"-399.8\" font-family=\"Times,serif\" font-size=\"14.00\" fill=\"#000000\">?</text>\n",
       "</g>\n",
       "<!-- 17&#45;&gt;31 -->\n",
       "<g id=\"edge31\" class=\"edge\">\n",
       "<title>17&#45;&gt;31</title>\n",
       "<path fill=\"none\" stroke=\"#0000ff\" d=\"M690.9476,-461.929C705.1307,-449.9279 732.7686,-426.5419 748.436,-413.2849\"/>\n",
       "<polygon fill=\"#0000ff\" stroke=\"#0000ff\" points=\"751.0438,-415.6632 756.4169,-406.5319 746.5222,-410.3195 751.0438,-415.6632\"/>\n",
       "<text text-anchor=\"middle\" x=\"732\" y=\"-432.8\" font-family=\"Times,serif\" font-size=\"14.00\" fill=\"#000000\">1</text>\n",
       "</g>\n",
       "<!-- 19 -->\n",
       "<g id=\"node20\" class=\"node\">\n",
       "<title>19</title>\n",
       "<text text-anchor=\"middle\" x=\"494\" y=\"-333.8\" font-family=\"Times,serif\" font-size=\"14.00\" fill=\"#000000\">(19) str.substr(cgi_decode_s_str_1, 9, 1) == &quot;%&quot;</text>\n",
       "</g>\n",
       "<!-- 18&#45;&gt;19 -->\n",
       "<g id=\"edge19\" class=\"edge\">\n",
       "<title>18&#45;&gt;19</title>\n",
       "<path fill=\"none\" stroke=\"#ff0000\" d=\"M591.3816,-395.929C572.9141,-384.8484 538.2711,-364.0626 515.6745,-350.5047\"/>\n",
       "<polygon fill=\"#ff0000\" stroke=\"#ff0000\" points=\"517.1858,-347.3298 506.8101,-345.186 513.5843,-353.3323 517.1858,-347.3298\"/>\n",
       "<text text-anchor=\"middle\" x=\"563\" y=\"-366.8\" font-family=\"Times,serif\" font-size=\"14.00\" fill=\"#000000\">0</text>\n",
       "</g>\n",
       "<!-- 30 -->\n",
       "<g id=\"node31\" class=\"node\">\n",
       "<title>30</title>\n",
       "<text text-anchor=\"middle\" x=\"652\" y=\"-333.8\" font-family=\"Times,serif\" font-size=\"14.00\" fill=\"#000000\">?</text>\n",
       "</g>\n",
       "<!-- 18&#45;&gt;30 -->\n",
       "<g id=\"edge30\" class=\"edge\">\n",
       "<title>18&#45;&gt;30</title>\n",
       "<path fill=\"none\" stroke=\"#0000ff\" d=\"M609.5062,-395.929C617.5117,-384.9214 632.4828,-364.3361 642.3464,-350.7736\"/>\n",
       "<polygon fill=\"#0000ff\" stroke=\"#0000ff\" points=\"645.4022,-352.5226 648.4534,-342.3766 639.7411,-348.4054 645.4022,-352.5226\"/>\n",
       "<text text-anchor=\"middle\" x=\"637\" y=\"-366.8\" font-family=\"Times,serif\" font-size=\"14.00\" fill=\"#000000\">1</text>\n",
       "</g>\n",
       "<!-- 20 -->\n",
       "<g id=\"node21\" class=\"node\">\n",
       "<title>20</title>\n",
       "<text text-anchor=\"middle\" x=\"414\" y=\"-267.8\" font-family=\"Times,serif\" font-size=\"14.00\" fill=\"#000000\">(20) str.substr(cgi_decode_s_str_1, 10, 1) == &quot;+&quot;</text>\n",
       "</g>\n",
       "<!-- 19&#45;&gt;20 -->\n",
       "<g id=\"edge20\" class=\"edge\">\n",
       "<title>19&#45;&gt;20</title>\n",
       "<path fill=\"none\" stroke=\"#ff0000\" d=\"M484.823,-329.929C471.8217,-319.2029 447.7971,-299.3826 431.3667,-285.8275\"/>\n",
       "<polygon fill=\"#ff0000\" stroke=\"#ff0000\" points=\"433.5066,-283.0555 423.5654,-279.3915 429.0519,-288.4552 433.5066,-283.0555\"/>\n",
       "<text text-anchor=\"middle\" x=\"466\" y=\"-300.8\" font-family=\"Times,serif\" font-size=\"14.00\" fill=\"#000000\">0</text>\n",
       "</g>\n",
       "<!-- 29 -->\n",
       "<g id=\"node30\" class=\"node\">\n",
       "<title>29</title>\n",
       "<text text-anchor=\"middle\" x=\"574\" y=\"-267.8\" font-family=\"Times,serif\" font-size=\"14.00\" fill=\"#000000\">?</text>\n",
       "</g>\n",
       "<!-- 19&#45;&gt;29 -->\n",
       "<g id=\"edge29\" class=\"edge\">\n",
       "<title>19&#45;&gt;29</title>\n",
       "<path fill=\"none\" stroke=\"#0000ff\" d=\"M503.177,-329.929C517.861,-317.8147 546.6064,-294.0997 562.591,-280.9125\"/>\n",
       "<polygon fill=\"#0000ff\" stroke=\"#0000ff\" points=\"564.8386,-283.5955 570.325,-274.5319 560.3839,-278.1959 564.8386,-283.5955\"/>\n",
       "<text text-anchor=\"middle\" x=\"546\" y=\"-300.8\" font-family=\"Times,serif\" font-size=\"14.00\" fill=\"#000000\">1</text>\n",
       "</g>\n",
       "<!-- 21 -->\n",
       "<g id=\"node22\" class=\"node\">\n",
       "<title>21</title>\n",
       "<text text-anchor=\"middle\" x=\"333\" y=\"-201.8\" font-family=\"Times,serif\" font-size=\"14.00\" fill=\"#000000\">(21) str.substr(cgi_decode_s_str_1, 10, 1) == &quot;%&quot;</text>\n",
       "</g>\n",
       "<!-- 20&#45;&gt;21 -->\n",
       "<g id=\"edge21\" class=\"edge\">\n",
       "<title>20&#45;&gt;21</title>\n",
       "<path fill=\"none\" stroke=\"#ff0000\" d=\"M404.7083,-263.929C391.4737,-253.1452 366.9577,-233.1692 350.3161,-219.6094\"/>\n",
       "<polygon fill=\"#ff0000\" stroke=\"#ff0000\" points=\"352.3961,-216.7895 342.4329,-213.186 347.9744,-222.2161 352.3961,-216.7895\"/>\n",
       "<text text-anchor=\"middle\" x=\"385\" y=\"-234.8\" font-family=\"Times,serif\" font-size=\"14.00\" fill=\"#000000\">0</text>\n",
       "</g>\n",
       "<!-- 28 -->\n",
       "<g id=\"node29\" class=\"node\">\n",
       "<title>28</title>\n",
       "<text text-anchor=\"middle\" x=\"495\" y=\"-201.8\" font-family=\"Times,serif\" font-size=\"14.00\" fill=\"#000000\">?</text>\n",
       "</g>\n",
       "<!-- 20&#45;&gt;28 -->\n",
       "<g id=\"edge28\" class=\"edge\">\n",
       "<title>20&#45;&gt;28</title>\n",
       "<path fill=\"none\" stroke=\"#0000ff\" d=\"M423.2917,-263.929C438.1593,-251.8147 467.264,-228.0997 483.4483,-214.9125\"/>\n",
       "<polygon fill=\"#0000ff\" stroke=\"#0000ff\" points=\"485.7376,-217.562 491.2791,-208.5319 481.3158,-212.1353 485.7376,-217.562\"/>\n",
       "<text text-anchor=\"middle\" x=\"466\" y=\"-234.8\" font-family=\"Times,serif\" font-size=\"14.00\" fill=\"#000000\">1</text>\n",
       "</g>\n",
       "<!-- 22 -->\n",
       "<g id=\"node23\" class=\"node\">\n",
       "<title>22</title>\n",
       "<text text-anchor=\"middle\" x=\"221\" y=\"-135.8\" font-family=\"Times,serif\" font-size=\"14.00\" fill=\"#000000\">(22) str.substr(cgi_decode_s_str_1, 11, 1) == &quot;+&quot;</text>\n",
       "</g>\n",
       "<!-- 21&#45;&gt;22 -->\n",
       "<g id=\"edge22\" class=\"edge\">\n",
       "<title>21&#45;&gt;22</title>\n",
       "<path fill=\"none\" stroke=\"#ff0000\" d=\"M320.1522,-197.929C301.2649,-186.799 265.7607,-165.8769 242.7612,-152.3236\"/>\n",
       "<polygon fill=\"#ff0000\" stroke=\"#ff0000\" points=\"244.4353,-149.2476 234.043,-147.186 240.8814,-155.2784 244.4353,-149.2476\"/>\n",
       "<text text-anchor=\"middle\" x=\"292\" y=\"-168.8\" font-family=\"Times,serif\" font-size=\"14.00\" fill=\"#000000\">0</text>\n",
       "</g>\n",
       "<!-- 27 -->\n",
       "<g id=\"node28\" class=\"node\">\n",
       "<title>27</title>\n",
       "<text text-anchor=\"middle\" x=\"381\" y=\"-135.8\" font-family=\"Times,serif\" font-size=\"14.00\" fill=\"#000000\">?</text>\n",
       "</g>\n",
       "<!-- 21&#45;&gt;27 -->\n",
       "<g id=\"edge27\" class=\"edge\">\n",
       "<title>21&#45;&gt;27</title>\n",
       "<path fill=\"none\" stroke=\"#0000ff\" d=\"M338.5062,-197.929C346.5117,-186.9214 361.4828,-166.3361 371.3464,-152.7736\"/>\n",
       "<polygon fill=\"#0000ff\" stroke=\"#0000ff\" points=\"374.4022,-154.5226 377.4534,-144.3766 368.7411,-150.4054 374.4022,-154.5226\"/>\n",
       "<text text-anchor=\"middle\" x=\"366\" y=\"-168.8\" font-family=\"Times,serif\" font-size=\"14.00\" fill=\"#000000\">1</text>\n",
       "</g>\n",
       "<!-- 23 -->\n",
       "<g id=\"node24\" class=\"node\">\n",
       "<title>23</title>\n",
       "<text text-anchor=\"middle\" x=\"140\" y=\"-69.8\" font-family=\"Times,serif\" font-size=\"14.00\" fill=\"#000000\">(23) str.substr(cgi_decode_s_str_1, 11, 1) == &quot;%&quot;</text>\n",
       "</g>\n",
       "<!-- 22&#45;&gt;23 -->\n",
       "<g id=\"edge23\" class=\"edge\">\n",
       "<title>22&#45;&gt;23</title>\n",
       "<path fill=\"none\" stroke=\"#ff0000\" d=\"M211.7083,-131.929C198.4737,-121.1452 173.9577,-101.1692 157.3161,-87.6094\"/>\n",
       "<polygon fill=\"#ff0000\" stroke=\"#ff0000\" points=\"159.3961,-84.7895 149.4329,-81.186 154.9744,-90.2161 159.3961,-84.7895\"/>\n",
       "<text text-anchor=\"middle\" x=\"192\" y=\"-102.8\" font-family=\"Times,serif\" font-size=\"14.00\" fill=\"#000000\">0</text>\n",
       "</g>\n",
       "<!-- 26 -->\n",
       "<g id=\"node27\" class=\"node\">\n",
       "<title>26</title>\n",
       "<text text-anchor=\"middle\" x=\"302\" y=\"-69.8\" font-family=\"Times,serif\" font-size=\"14.00\" fill=\"#000000\">?</text>\n",
       "</g>\n",
       "<!-- 22&#45;&gt;26 -->\n",
       "<g id=\"edge26\" class=\"edge\">\n",
       "<title>22&#45;&gt;26</title>\n",
       "<path fill=\"none\" stroke=\"#0000ff\" d=\"M230.2917,-131.929C245.1593,-119.8147 274.264,-96.0997 290.4483,-82.9125\"/>\n",
       "<polygon fill=\"#0000ff\" stroke=\"#0000ff\" points=\"292.7376,-85.562 298.2791,-76.5319 288.3158,-80.1353 292.7376,-85.562\"/>\n",
       "<text text-anchor=\"middle\" x=\"273\" y=\"-102.8\" font-family=\"Times,serif\" font-size=\"14.00\" fill=\"#000000\">1</text>\n",
       "</g>\n",
       "<!-- 24 -->\n",
       "<g id=\"node25\" class=\"node\">\n",
       "<title>24</title>\n",
       "<text text-anchor=\"middle\" x=\"108\" y=\"-3.8\" font-family=\"Times,serif\" font-size=\"14.00\" fill=\"#000000\">* \\x00\\x00\\x00</text>\n",
       "</g>\n",
       "<!-- 23&#45;&gt;24 -->\n",
       "<g id=\"edge24\" class=\"edge\">\n",
       "<title>23&#45;&gt;24</title>\n",
       "<path fill=\"none\" stroke=\"#ff0000\" d=\"M136.3292,-65.929C131.4627,-55.8917 122.7349,-37.8908 116.2485,-24.5125\"/>\n",
       "<polygon fill=\"#ff0000\" stroke=\"#ff0000\" points=\"119.3383,-22.8627 111.8262,-15.3915 113.0396,-25.9166 119.3383,-22.8627\"/>\n",
       "<text text-anchor=\"middle\" x=\"131\" y=\"-36.8\" font-family=\"Times,serif\" font-size=\"14.00\" fill=\"#000000\">0</text>\n",
       "</g>\n",
       "<!-- 25 -->\n",
       "<g id=\"node26\" class=\"node\">\n",
       "<title>25</title>\n",
       "<text text-anchor=\"middle\" x=\"173\" y=\"-3.8\" font-family=\"Times,serif\" font-size=\"14.00\" fill=\"#000000\">?</text>\n",
       "</g>\n",
       "<!-- 23&#45;&gt;25 -->\n",
       "<g id=\"edge25\" class=\"edge\">\n",
       "<title>23&#45;&gt;25</title>\n",
       "<path fill=\"none\" stroke=\"#0000ff\" d=\"M143.7855,-65.929C148.9121,-55.6759 158.1936,-37.1129 164.9221,-23.6559\"/>\n",
       "<polygon fill=\"#0000ff\" stroke=\"#0000ff\" points=\"168.1169,-25.0923 169.4586,-14.5827 161.8559,-21.9617 168.1169,-25.0923\"/>\n",
       "<text text-anchor=\"middle\" x=\"164\" y=\"-36.8\" font-family=\"Times,serif\" font-size=\"14.00\" fill=\"#000000\">1</text>\n",
       "</g>\n",
       "<!-- 47 -->\n",
       "<g id=\"node48\" class=\"node\">\n",
       "<title>47</title>\n",
       "<text text-anchor=\"middle\" x=\"2102\" y=\"-1323.8\" font-family=\"Times,serif\" font-size=\"14.00\" fill=\"#000000\">(4) str.substr(cgi_decode_s_str_1, 2, 1) == &quot;%&quot;</text>\n",
       "</g>\n",
       "<!-- 46&#45;&gt;47 -->\n",
       "<g id=\"edge47\" class=\"edge\">\n",
       "<title>46&#45;&gt;47</title>\n",
       "<path fill=\"none\" stroke=\"#ff0000\" d=\"M2202.9228,-1385.929C2183.6982,-1374.799 2147.56,-1353.8769 2124.1498,-1340.3236\"/>\n",
       "<polygon fill=\"#ff0000\" stroke=\"#ff0000\" points=\"2125.6838,-1337.1675 2115.2759,-1335.186 2122.1765,-1343.2254 2125.6838,-1337.1675\"/>\n",
       "<text text-anchor=\"middle\" x=\"2174\" y=\"-1356.8\" font-family=\"Times,serif\" font-size=\"14.00\" fill=\"#000000\">0</text>\n",
       "</g>\n",
       "<!-- 50 -->\n",
       "<g id=\"node51\" class=\"node\">\n",
       "<title>50</title>\n",
       "<text text-anchor=\"middle\" x=\"2257\" y=\"-1323.8\" font-family=\"Times,serif\" font-size=\"14.00\" fill=\"#000000\">?</text>\n",
       "</g>\n",
       "<!-- 46&#45;&gt;50 -->\n",
       "<g id=\"edge50\" class=\"edge\">\n",
       "<title>46&#45;&gt;50</title>\n",
       "<path fill=\"none\" stroke=\"#0000ff\" d=\"M2220.7032,-1385.929C2227.3381,-1375.2484 2239.5746,-1355.5506 2247.9922,-1342.0003\"/>\n",
       "<polygon fill=\"#0000ff\" stroke=\"#0000ff\" points=\"2251.008,-1343.7783 2253.3119,-1333.437 2245.0619,-1340.0845 2251.008,-1343.7783\"/>\n",
       "<text text-anchor=\"middle\" x=\"2245\" y=\"-1356.8\" font-family=\"Times,serif\" font-size=\"14.00\" fill=\"#000000\">1</text>\n",
       "</g>\n",
       "<!-- 48 -->\n",
       "<g id=\"node49\" class=\"node\">\n",
       "<title>48</title>\n",
       "<text text-anchor=\"middle\" x=\"2083\" y=\"-1257.8\" font-family=\"Times,serif\" font-size=\"14.00\" fill=\"#000000\">* a+c</text>\n",
       "</g>\n",
       "<!-- 47&#45;&gt;48 -->\n",
       "<g id=\"edge48\" class=\"edge\">\n",
       "<title>47&#45;&gt;48</title>\n",
       "<path fill=\"none\" stroke=\"#ff0000\" d=\"M2099.8205,-1319.929C2096.9876,-1310.0885 2091.9512,-1292.5937 2088.1256,-1279.3047\"/>\n",
       "<polygon fill=\"#ff0000\" stroke=\"#ff0000\" points=\"2091.4017,-1278.0329 2085.2718,-1269.3915 2084.6749,-1279.9695 2091.4017,-1278.0329\"/>\n",
       "<text text-anchor=\"middle\" x=\"2099\" y=\"-1290.8\" font-family=\"Times,serif\" font-size=\"14.00\" fill=\"#000000\">0</text>\n",
       "</g>\n",
       "<!-- 49 -->\n",
       "<g id=\"node50\" class=\"node\">\n",
       "<title>49</title>\n",
       "<text text-anchor=\"middle\" x=\"2120\" y=\"-1257.8\" font-family=\"Times,serif\" font-size=\"14.00\" fill=\"#000000\">?</text>\n",
       "</g>\n",
       "<!-- 47&#45;&gt;49 -->\n",
       "<g id=\"edge49\" class=\"edge\">\n",
       "<title>47&#45;&gt;49</title>\n",
       "<path fill=\"none\" stroke=\"#0000ff\" d=\"M2104.0648,-1319.929C2106.7486,-1310.0885 2111.5199,-1292.5937 2115.1442,-1279.3047\"/>\n",
       "<polygon fill=\"#0000ff\" stroke=\"#0000ff\" points=\"2118.5932,-1279.9601 2117.8478,-1269.3915 2111.8399,-1278.1182 2118.5932,-1279.9601\"/>\n",
       "<text text-anchor=\"middle\" x=\"2117\" y=\"-1290.8\" font-family=\"Times,serif\" font-size=\"14.00\" fill=\"#000000\">1</text>\n",
       "</g>\n",
       "</g>\n",
       "</svg>\n"
      ],
      "text/plain": [
       "<graphviz.dot.Digraph at 0x7fe44b59b278>"
      ]
     },
     "execution_count": 248,
     "metadata": {},
     "output_type": "execute_result"
    }
   ],
   "source": [
    "display_trace_tree(scf.ct.root)"
   ]
  },
  {
   "cell_type": "markdown",
   "metadata": {
    "slideshow": {
     "slide_type": "fragment"
    }
   },
   "source": [
    "A complete fuzzer run is as follows"
   ]
  },
  {
   "cell_type": "code",
   "execution_count": 249,
   "metadata": {
    "slideshow": {
     "slide_type": "subslide"
    }
   },
   "outputs": [
    {
     "name": "stdout",
     "output_type": "stream",
     "text": [
      "' '\n",
      "'+\\\\x00'\n",
      "'++\\\\x00'\n",
      "'+%\\\\x00'\n",
      "'+%D\\\\x00'\n"
     ]
    },
    {
     "name": "stderr",
     "output_type": "stream",
     "text": [
      "Traceback (most recent call last):\n",
      "  File \"<ipython-input-249-716a83f3d4b0>\", line 10, in <module>\n",
      "    _[cgi_decode](v)\n",
      "  File \"<ipython-input-33-635d2b1b13c2>\", line 3, in __call__\n",
      "    self.result = self.fn(*self.concolic(args))\n",
      "  File \"<ipython-input-241-630ee123bed8>\", line 42, in cgi_decode\n",
      "    raise ValueError(\"Invalid encoding\")\n",
      "ValueError: Invalid encoding (expected)\n",
      "Traceback (most recent call last):\n",
      "  File \"<ipython-input-249-716a83f3d4b0>\", line 10, in <module>\n",
      "    _[cgi_decode](v)\n",
      "  File \"<ipython-input-33-635d2b1b13c2>\", line 3, in __call__\n",
      "    self.result = self.fn(*self.concolic(args))\n",
      "  File \"<ipython-input-241-630ee123bed8>\", line 42, in cgi_decode\n",
      "    raise ValueError(\"Invalid encoding\")\n",
      "ValueError: Invalid encoding (expected)\n",
      "Traceback (most recent call last):\n",
      "  File \"<ipython-input-249-716a83f3d4b0>\", line 10, in <module>\n",
      "    _[cgi_decode](v)\n",
      "  File \"<ipython-input-33-635d2b1b13c2>\", line 3, in __call__\n",
      "    self.result = self.fn(*self.concolic(args))\n",
      "  File \"<ipython-input-241-630ee123bed8>\", line 39, in cgi_decode\n",
      "    raise ValueError(\"Invalid encoding\")\n",
      "ValueError: Invalid encoding (expected)\n"
     ]
    },
    {
     "name": "stdout",
     "output_type": "stream",
     "text": [
      "'+%DD\\\\x00'\n",
      "'+%4\\\\x00'\n",
      "'+%DE\\\\x00'\n",
      "'+++\\\\x00'\n",
      "'+%C\\\\x00'\n"
     ]
    },
    {
     "name": "stderr",
     "output_type": "stream",
     "text": [
      "Traceback (most recent call last):\n",
      "  File \"<ipython-input-249-716a83f3d4b0>\", line 10, in <module>\n",
      "    _[cgi_decode](v)\n",
      "  File \"<ipython-input-33-635d2b1b13c2>\", line 3, in __call__\n",
      "    self.result = self.fn(*self.concolic(args))\n",
      "  File \"<ipython-input-241-630ee123bed8>\", line 42, in cgi_decode\n",
      "    raise ValueError(\"Invalid encoding\")\n",
      "ValueError: Invalid encoding (expected)\n",
      "Traceback (most recent call last):\n",
      "  File \"<ipython-input-249-716a83f3d4b0>\", line 10, in <module>\n",
      "    _[cgi_decode](v)\n",
      "  File \"<ipython-input-33-635d2b1b13c2>\", line 3, in __call__\n",
      "    self.result = self.fn(*self.concolic(args))\n",
      "  File \"<ipython-input-241-630ee123bed8>\", line 39, in cgi_decode\n",
      "    raise ValueError(\"Invalid encoding\")\n",
      "ValueError: Invalid encoding (expected)\n",
      "Traceback (most recent call last):\n",
      "  File \"<ipython-input-249-716a83f3d4b0>\", line 10, in <module>\n",
      "    _[cgi_decode](v)\n",
      "  File \"<ipython-input-33-635d2b1b13c2>\", line 3, in __call__\n",
      "    self.result = self.fn(*self.concolic(args))\n",
      "  File \"<ipython-input-241-630ee123bed8>\", line 42, in cgi_decode\n",
      "    raise ValueError(\"Invalid encoding\")\n",
      "ValueError: Invalid encoding (expected)\n"
     ]
    }
   ],
   "source": [
    "scf = SimpleConcolicFuzzer()\n",
    "for i in range(10):\n",
    "    v = scf.fuzz()\n",
    "    print(repr(v))\n",
    "    if v is None:\n",
    "        continue\n",
    "    with ConcolicTracer() as _:\n",
    "        with ExpectError():\n",
    "            # z3.StringVal(urllib.parse.unquote('%80')) <-- bug in z3\n",
    "            _[cgi_decode](v)\n",
    "    scf.add_trace(_, v)"
   ]
  },
  {
   "cell_type": "code",
   "execution_count": 250,
   "metadata": {
    "slideshow": {
     "slide_type": "subslide"
    }
   },
   "outputs": [
    {
     "data": {
      "image/svg+xml": [
       "<?xml version=\"1.0\" encoding=\"UTF-8\" standalone=\"no\"?>\n",
       "<!DOCTYPE svg PUBLIC \"-//W3C//DTD SVG 1.1//EN\"\n",
       " \"http://www.w3.org/Graphics/SVG/1.1/DTD/svg11.dtd\">\n",
       "<!-- Generated by graphviz version 2.40.1 (20161225.0304)\n",
       " -->\n",
       "<!-- Title: %3 Pages: 1 -->\n",
       "<svg width=\"5854pt\" height=\"3125pt\"\n",
       " viewBox=\"0.00 0.00 5854.00 3125.00\" xmlns=\"http://www.w3.org/2000/svg\" xmlns:xlink=\"http://www.w3.org/1999/xlink\">\n",
       "<g id=\"graph0\" class=\"graph\" transform=\"scale(1 1) rotate(0) translate(4 3121)\">\n",
       "<title>%3</title>\n",
       "<polygon fill=\"#ffffff\" stroke=\"transparent\" points=\"-4,4 -4,-3121 5850,-3121 5850,4 -4,4\"/>\n",
       "<!-- 0 -->\n",
       "<g id=\"node1\" class=\"node\">\n",
       "<title>0</title>\n",
       "<text text-anchor=\"middle\" x=\"5059.5\" y=\"-3105.8\" font-family=\"Times,serif\" font-size=\"14.00\" fill=\"#000000\">(0) str.substr(cgi_decode_s_str_1, 0, 1) == &quot;+&quot;</text>\n",
       "</g>\n",
       "<!-- 1 -->\n",
       "<g id=\"node2\" class=\"node\">\n",
       "<title>1</title>\n",
       "<text text-anchor=\"middle\" x=\"4919.5\" y=\"-3039.8\" font-family=\"Times,serif\" font-size=\"14.00\" fill=\"#000000\">(1) str.substr(cgi_decode_s_str_1, 0, 1) == &quot;%&quot;</text>\n",
       "</g>\n",
       "<!-- 0&#45;&gt;1 -->\n",
       "<g id=\"edge1\" class=\"edge\">\n",
       "<title>0&#45;&gt;1</title>\n",
       "<path fill=\"none\" stroke=\"#ff0000\" d=\"M5043.4402,-3101.929C5019.4114,-3090.6011 4973.8664,-3069.1299 4945.1832,-3055.6078\"/>\n",
       "<polygon fill=\"#ff0000\" stroke=\"#ff0000\" points=\"4946.3415,-3052.2844 4935.8037,-3051.186 4943.3565,-3058.6161 4946.3415,-3052.2844\"/>\n",
       "<text text-anchor=\"middle\" x=\"5006.5\" y=\"-3072.8\" font-family=\"Times,serif\" font-size=\"14.00\" fill=\"#000000\">0</text>\n",
       "</g>\n",
       "<!-- 4 -->\n",
       "<g id=\"node5\" class=\"node\">\n",
       "<title>4</title>\n",
       "<text text-anchor=\"middle\" x=\"5201.5\" y=\"-3039.8\" font-family=\"Times,serif\" font-size=\"14.00\" fill=\"#000000\">(1) str.substr(cgi_decode_s_str_1, 1, 1) == &quot;+&quot;</text>\n",
       "</g>\n",
       "<!-- 0&#45;&gt;4 -->\n",
       "<g id=\"edge4\" class=\"edge\">\n",
       "<title>0&#45;&gt;4</title>\n",
       "<path fill=\"none\" stroke=\"#0000ff\" d=\"M5075.7892,-3101.929C5100.2677,-3090.5516 5146.7608,-3068.9422 5175.8301,-3055.4311\"/>\n",
       "<polygon fill=\"#0000ff\" stroke=\"#0000ff\" points=\"5177.3702,-3058.5749 5184.9634,-3051.186 5174.4198,-3052.227 5177.3702,-3058.5749\"/>\n",
       "<text text-anchor=\"middle\" x=\"5147.5\" y=\"-3072.8\" font-family=\"Times,serif\" font-size=\"14.00\" fill=\"#000000\">1</text>\n",
       "</g>\n",
       "<!-- 2 -->\n",
       "<g id=\"node3\" class=\"node\">\n",
       "<title>2</title>\n",
       "<text text-anchor=\"middle\" x=\"4904.5\" y=\"-2973.8\" font-family=\"Times,serif\" font-size=\"14.00\" fill=\"#000000\">* &#160;</text>\n",
       "</g>\n",
       "<!-- 1&#45;&gt;2 -->\n",
       "<g id=\"edge2\" class=\"edge\">\n",
       "<title>1&#45;&gt;2</title>\n",
       "<path fill=\"none\" stroke=\"#ff0000\" d=\"M4914.4933,-3035.8086C4911.5923,-3030.9198 4908.1888,-3024.3382 4906.5,-3018 4904.5493,-3010.6788 4903.8853,-3002.3553 4903.7709,-2995.1662\"/>\n",
       "<polygon fill=\"#ff0000\" stroke=\"#ff0000\" points=\"4907.2712,-2995.1665 4903.9375,-2985.1099 4900.2722,-2995.0504 4907.2712,-2995.1665\"/>\n",
       "<text text-anchor=\"middle\" x=\"4910.5\" y=\"-3006.8\" font-family=\"Times,serif\" font-size=\"14.00\" fill=\"#000000\">0</text>\n",
       "</g>\n",
       "<!-- 3 -->\n",
       "<g id=\"node4\" class=\"node\">\n",
       "<title>3</title>\n",
       "<text text-anchor=\"middle\" x=\"4935.5\" y=\"-2973.8\" font-family=\"Times,serif\" font-size=\"14.00\" fill=\"#000000\">?</text>\n",
       "</g>\n",
       "<!-- 1&#45;&gt;3 -->\n",
       "<g id=\"edge3\" class=\"edge\">\n",
       "<title>1&#45;&gt;3</title>\n",
       "<path fill=\"none\" stroke=\"#0000ff\" d=\"M4921.3354,-3035.929C4923.721,-3026.0885 4927.9621,-3008.5937 4931.1837,-2995.3047\"/>\n",
       "<polygon fill=\"#0000ff\" stroke=\"#0000ff\" points=\"4934.6323,-2995.9346 4933.5869,-2985.3915 4927.8294,-2994.2854 4934.6323,-2995.9346\"/>\n",
       "<text text-anchor=\"middle\" x=\"4933.5\" y=\"-3006.8\" font-family=\"Times,serif\" font-size=\"14.00\" fill=\"#000000\">1</text>\n",
       "</g>\n",
       "<!-- 5 -->\n",
       "<g id=\"node6\" class=\"node\">\n",
       "<title>5</title>\n",
       "<text text-anchor=\"middle\" x=\"5145.5\" y=\"-2973.8\" font-family=\"Times,serif\" font-size=\"14.00\" fill=\"#000000\">(2) str.substr(cgi_decode_s_str_1, 1, 1) == &quot;%&quot;</text>\n",
       "</g>\n",
       "<!-- 4&#45;&gt;5 -->\n",
       "<g id=\"edge5\" class=\"edge\">\n",
       "<title>4&#45;&gt;5</title>\n",
       "<path fill=\"none\" stroke=\"#ff0000\" d=\"M5195.0761,-3035.929C5186.3092,-3025.5965 5170.3819,-3006.825 5158.9437,-2993.3443\"/>\n",
       "<polygon fill=\"#ff0000\" stroke=\"#ff0000\" points=\"5161.3344,-2990.7522 5152.1958,-2985.3915 5155.9968,-2995.281 5161.3344,-2990.7522\"/>\n",
       "<text text-anchor=\"middle\" x=\"5183.5\" y=\"-3006.8\" font-family=\"Times,serif\" font-size=\"14.00\" fill=\"#000000\">0</text>\n",
       "</g>\n",
       "<!-- 240 -->\n",
       "<g id=\"node241\" class=\"node\">\n",
       "<title>240</title>\n",
       "<text text-anchor=\"middle\" x=\"5427.5\" y=\"-2973.8\" font-family=\"Times,serif\" font-size=\"14.00\" fill=\"#000000\">(2) str.substr(cgi_decode_s_str_1, 2, 1) == &quot;+&quot;</text>\n",
       "</g>\n",
       "<!-- 4&#45;&gt;240 -->\n",
       "<g id=\"edge240\" class=\"edge\">\n",
       "<title>4&#45;&gt;240</title>\n",
       "<path fill=\"none\" stroke=\"#0000ff\" d=\"M5227.4251,-3035.929C5267.8467,-3024.1244 5345.9863,-3001.3049 5391.7361,-2987.9443\"/>\n",
       "<polygon fill=\"#0000ff\" stroke=\"#0000ff\" points=\"5392.9123,-2991.2471 5401.5301,-2985.0841 5390.9499,-2984.5278 5392.9123,-2991.2471\"/>\n",
       "<text text-anchor=\"middle\" x=\"5339.5\" y=\"-3006.8\" font-family=\"Times,serif\" font-size=\"14.00\" fill=\"#000000\">1</text>\n",
       "</g>\n",
       "<!-- 6 -->\n",
       "<g id=\"node7\" class=\"node\">\n",
       "<title>6</title>\n",
       "<text text-anchor=\"middle\" x=\"4865.5\" y=\"-2907.8\" font-family=\"Times,serif\" font-size=\"14.00\" fill=\"#000000\">(3) str.substr(cgi_decode_s_str_1, 2, 1) == &quot;+&quot;</text>\n",
       "</g>\n",
       "<!-- 5&#45;&gt;6 -->\n",
       "<g id=\"edge6\" class=\"edge\">\n",
       "<title>5&#45;&gt;6</title>\n",
       "<path fill=\"none\" stroke=\"#ff0000\" d=\"M5113.653,-2969.9932C5063.0517,-2958.0658 4964.2535,-2934.7776 4907.7794,-2921.4659\"/>\n",
       "<polygon fill=\"#ff0000\" stroke=\"#ff0000\" points=\"4908.2845,-2917.9891 4897.7482,-2919.1014 4906.6784,-2924.8023 4908.2845,-2917.9891\"/>\n",
       "<text text-anchor=\"middle\" x=\"5035.5\" y=\"-2940.8\" font-family=\"Times,serif\" font-size=\"14.00\" fill=\"#000000\">0</text>\n",
       "</g>\n",
       "<!-- 19 -->\n",
       "<g id=\"node20\" class=\"node\">\n",
       "<title>19</title>\n",
       "<text text-anchor=\"middle\" x=\"5145.5\" y=\"-2907.8\" font-family=\"Times,serif\" font-size=\"14.00\" fill=\"#000000\">(3) str.substr(cgi_decode_s_str_1, 2, 1) == &quot;0&quot;</text>\n",
       "</g>\n",
       "<!-- 5&#45;&gt;19 -->\n",
       "<g id=\"edge19\" class=\"edge\">\n",
       "<title>5&#45;&gt;19</title>\n",
       "<path fill=\"none\" stroke=\"#0000ff\" d=\"M5145.5,-2969.929C5145.5,-2960.1869 5145.5,-2942.9428 5145.5,-2929.7046\"/>\n",
       "<polygon fill=\"#0000ff\" stroke=\"#0000ff\" points=\"5149.0001,-2929.3915 5145.5,-2919.3915 5142.0001,-2929.3915 5149.0001,-2929.3915\"/>\n",
       "<text text-anchor=\"middle\" x=\"5149.5\" y=\"-2940.8\" font-family=\"Times,serif\" font-size=\"14.00\" fill=\"#000000\">1</text>\n",
       "</g>\n",
       "<!-- 7 -->\n",
       "<g id=\"node8\" class=\"node\">\n",
       "<title>7</title>\n",
       "<text text-anchor=\"middle\" x=\"4714.5\" y=\"-2841.8\" font-family=\"Times,serif\" font-size=\"14.00\" fill=\"#000000\">(4) str.substr(cgi_decode_s_str_1, 2, 1) == &quot;%&quot;</text>\n",
       "</g>\n",
       "<!-- 6&#45;&gt;7 -->\n",
       "<g id=\"edge7\" class=\"edge\">\n",
       "<title>6&#45;&gt;7</title>\n",
       "<path fill=\"none\" stroke=\"#ff0000\" d=\"M4848.1784,-2903.929C4822.0353,-2892.5022 4772.2782,-2870.7541 4741.3948,-2857.2553\"/>\n",
       "<polygon fill=\"#ff0000\" stroke=\"#ff0000\" points=\"4742.6495,-2853.9841 4732.0847,-2853.186 4739.8459,-2860.3981 4742.6495,-2853.9841\"/>\n",
       "<text text-anchor=\"middle\" x=\"4808.5\" y=\"-2874.8\" font-family=\"Times,serif\" font-size=\"14.00\" fill=\"#000000\">0</text>\n",
       "</g>\n",
       "<!-- 18 -->\n",
       "<g id=\"node19\" class=\"node\">\n",
       "<title>18</title>\n",
       "<text text-anchor=\"middle\" x=\"4869.5\" y=\"-2841.8\" font-family=\"Times,serif\" font-size=\"14.00\" fill=\"#000000\">?</text>\n",
       "</g>\n",
       "<!-- 6&#45;&gt;18 -->\n",
       "<g id=\"edge18\" class=\"edge\">\n",
       "<title>6&#45;&gt;18</title>\n",
       "<path fill=\"none\" stroke=\"#0000ff\" d=\"M4865.9589,-2903.929C4866.5493,-2894.1869 4867.5944,-2876.9428 4868.3967,-2863.7046\"/>\n",
       "<polygon fill=\"#0000ff\" stroke=\"#0000ff\" points=\"4871.9103,-2863.5849 4869.0217,-2853.3915 4864.9231,-2863.1614 4871.9103,-2863.5849\"/>\n",
       "<text text-anchor=\"middle\" x=\"4872.5\" y=\"-2874.8\" font-family=\"Times,serif\" font-size=\"14.00\" fill=\"#000000\">1</text>\n",
       "</g>\n",
       "<!-- 8 -->\n",
       "<g id=\"node9\" class=\"node\">\n",
       "<title>8</title>\n",
       "<text text-anchor=\"middle\" x=\"4574.5\" y=\"-2775.8\" font-family=\"Times,serif\" font-size=\"14.00\" fill=\"#000000\">(5) str.substr(cgi_decode_s_str_1, 3, 1) == &quot;+&quot;</text>\n",
       "</g>\n",
       "<!-- 7&#45;&gt;8 -->\n",
       "<g id=\"edge8\" class=\"edge\">\n",
       "<title>7&#45;&gt;8</title>\n",
       "<path fill=\"none\" stroke=\"#ff0000\" d=\"M4698.4402,-2837.929C4674.4114,-2826.6011 4628.8664,-2805.1299 4600.1832,-2791.6078\"/>\n",
       "<polygon fill=\"#ff0000\" stroke=\"#ff0000\" points=\"4601.3415,-2788.2844 4590.8037,-2787.186 4598.3565,-2794.6161 4601.3415,-2788.2844\"/>\n",
       "<text text-anchor=\"middle\" x=\"4661.5\" y=\"-2808.8\" font-family=\"Times,serif\" font-size=\"14.00\" fill=\"#000000\">0</text>\n",
       "</g>\n",
       "<!-- 17 -->\n",
       "<g id=\"node18\" class=\"node\">\n",
       "<title>17</title>\n",
       "<text text-anchor=\"middle\" x=\"4727.5\" y=\"-2775.8\" font-family=\"Times,serif\" font-size=\"14.00\" fill=\"#000000\">?</text>\n",
       "</g>\n",
       "<!-- 7&#45;&gt;17 -->\n",
       "<g id=\"edge17\" class=\"edge\">\n",
       "<title>7&#45;&gt;17</title>\n",
       "<path fill=\"none\" stroke=\"#0000ff\" d=\"M4715.9913,-2837.929C4717.9295,-2828.0885 4721.3755,-2810.5937 4723.993,-2797.3047\"/>\n",
       "<polygon fill=\"#0000ff\" stroke=\"#0000ff\" points=\"4727.447,-2797.8794 4725.9456,-2787.3915 4720.579,-2796.5266 4727.447,-2797.8794\"/>\n",
       "<text text-anchor=\"middle\" x=\"4726.5\" y=\"-2808.8\" font-family=\"Times,serif\" font-size=\"14.00\" fill=\"#000000\">1</text>\n",
       "</g>\n",
       "<!-- 9 -->\n",
       "<g id=\"node10\" class=\"node\">\n",
       "<title>9</title>\n",
       "<text text-anchor=\"middle\" x=\"4549.5\" y=\"-2709.8\" font-family=\"Times,serif\" font-size=\"14.00\" fill=\"#000000\">(6) str.substr(cgi_decode_s_str_1, 3, 1) == &quot;%&quot;</text>\n",
       "</g>\n",
       "<!-- 8&#45;&gt;9 -->\n",
       "<g id=\"edge9\" class=\"edge\">\n",
       "<title>8&#45;&gt;9</title>\n",
       "<path fill=\"none\" stroke=\"#ff0000\" d=\"M4571.6322,-2771.929C4567.8675,-2761.9901 4561.1451,-2744.243 4556.0937,-2730.9073\"/>\n",
       "<polygon fill=\"#ff0000\" stroke=\"#ff0000\" points=\"4559.3046,-2729.5033 4552.4892,-2721.3915 4552.7585,-2731.9829 4559.3046,-2729.5033\"/>\n",
       "<text text-anchor=\"middle\" x=\"4568.5\" y=\"-2742.8\" font-family=\"Times,serif\" font-size=\"14.00\" fill=\"#000000\">0</text>\n",
       "</g>\n",
       "<!-- 16 -->\n",
       "<g id=\"node17\" class=\"node\">\n",
       "<title>16</title>\n",
       "<text text-anchor=\"middle\" x=\"4704.5\" y=\"-2709.8\" font-family=\"Times,serif\" font-size=\"14.00\" fill=\"#000000\">?</text>\n",
       "</g>\n",
       "<!-- 8&#45;&gt;16 -->\n",
       "<g id=\"edge16\" class=\"edge\">\n",
       "<title>8&#45;&gt;16</title>\n",
       "<path fill=\"none\" stroke=\"#0000ff\" d=\"M4590.551,-2771.8497C4613.2407,-2760.9507 4655.8987,-2740.1479 4691.5,-2721 4691.5975,-2720.9475 4691.6954,-2720.8948 4691.7936,-2720.8417\"/>\n",
       "<polygon fill=\"#0000ff\" stroke=\"#0000ff\" points=\"4693.7059,-2723.7806 4700.6658,-2715.7924 4690.2435,-2717.6968 4693.7059,-2723.7806\"/>\n",
       "<text text-anchor=\"middle\" x=\"4660.5\" y=\"-2742.8\" font-family=\"Times,serif\" font-size=\"14.00\" fill=\"#000000\">1</text>\n",
       "</g>\n",
       "<!-- 10 -->\n",
       "<g id=\"node11\" class=\"node\">\n",
       "<title>10</title>\n",
       "<text text-anchor=\"middle\" x=\"4434.5\" y=\"-2643.8\" font-family=\"Times,serif\" font-size=\"14.00\" fill=\"#000000\">(7) str.substr(cgi_decode_s_str_1, 4, 1) == &quot;+&quot;</text>\n",
       "</g>\n",
       "<!-- 9&#45;&gt;10 -->\n",
       "<g id=\"edge10\" class=\"edge\">\n",
       "<title>9&#45;&gt;10</title>\n",
       "<path fill=\"none\" stroke=\"#ff0000\" d=\"M4536.308,-2705.929C4516.9149,-2694.799 4480.4597,-2673.8769 4456.8441,-2660.3236\"/>\n",
       "<polygon fill=\"#ff0000\" stroke=\"#ff0000\" points=\"4458.3077,-2657.1281 4447.8923,-2655.186 4454.8233,-2663.1993 4458.3077,-2657.1281\"/>\n",
       "<text text-anchor=\"middle\" x=\"4506.5\" y=\"-2676.8\" font-family=\"Times,serif\" font-size=\"14.00\" fill=\"#000000\">0</text>\n",
       "</g>\n",
       "<!-- 15 -->\n",
       "<g id=\"node16\" class=\"node\">\n",
       "<title>15</title>\n",
       "<text text-anchor=\"middle\" x=\"4587.5\" y=\"-2643.8\" font-family=\"Times,serif\" font-size=\"14.00\" fill=\"#000000\">?</text>\n",
       "</g>\n",
       "<!-- 9&#45;&gt;15 -->\n",
       "<g id=\"edge15\" class=\"edge\">\n",
       "<title>9&#45;&gt;15</title>\n",
       "<path fill=\"none\" stroke=\"#0000ff\" d=\"M4553.8591,-2705.929C4559.8867,-2695.46 4570.9023,-2676.3276 4578.6835,-2662.8129\"/>\n",
       "<polygon fill=\"#0000ff\" stroke=\"#0000ff\" points=\"4581.9107,-2664.2223 4583.8672,-2653.8097 4575.8443,-2660.7295 4581.9107,-2664.2223\"/>\n",
       "<text text-anchor=\"middle\" x=\"4576.5\" y=\"-2676.8\" font-family=\"Times,serif\" font-size=\"14.00\" fill=\"#000000\">1</text>\n",
       "</g>\n",
       "<!-- 11 -->\n",
       "<g id=\"node12\" class=\"node\">\n",
       "<title>11</title>\n",
       "<text text-anchor=\"middle\" x=\"4293.5\" y=\"-2577.8\" font-family=\"Times,serif\" font-size=\"14.00\" fill=\"#000000\">(8) str.substr(cgi_decode_s_str_1, 4, 1) == &quot;%&quot;</text>\n",
       "</g>\n",
       "<!-- 10&#45;&gt;11 -->\n",
       "<g id=\"edge11\" class=\"edge\">\n",
       "<title>10&#45;&gt;11</title>\n",
       "<path fill=\"none\" stroke=\"#ff0000\" d=\"M4418.3255,-2639.929C4394.0194,-2628.5516 4347.8537,-2606.9422 4318.9892,-2593.4311\"/>\n",
       "<polygon fill=\"#ff0000\" stroke=\"#ff0000\" points=\"4320.4609,-2590.2556 4309.9202,-2589.186 4317.4933,-2596.5954 4320.4609,-2590.2556\"/>\n",
       "<text text-anchor=\"middle\" x=\"4381.5\" y=\"-2610.8\" font-family=\"Times,serif\" font-size=\"14.00\" fill=\"#000000\">0</text>\n",
       "</g>\n",
       "<!-- 14 -->\n",
       "<g id=\"node15\" class=\"node\">\n",
       "<title>14</title>\n",
       "<text text-anchor=\"middle\" x=\"4448.5\" y=\"-2577.8\" font-family=\"Times,serif\" font-size=\"14.00\" fill=\"#000000\">?</text>\n",
       "</g>\n",
       "<!-- 10&#45;&gt;14 -->\n",
       "<g id=\"edge14\" class=\"edge\">\n",
       "<title>10&#45;&gt;14</title>\n",
       "<path fill=\"none\" stroke=\"#0000ff\" d=\"M4436.106,-2639.929C4438.1933,-2630.0885 4441.9044,-2612.5937 4444.7233,-2599.3047\"/>\n",
       "<polygon fill=\"#0000ff\" stroke=\"#0000ff\" points=\"4448.1747,-2599.9001 4446.826,-2589.3915 4441.3271,-2598.4475 4448.1747,-2599.9001\"/>\n",
       "<text text-anchor=\"middle\" x=\"4447.5\" y=\"-2610.8\" font-family=\"Times,serif\" font-size=\"14.00\" fill=\"#000000\">1</text>\n",
       "</g>\n",
       "<!-- 12 -->\n",
       "<g id=\"node13\" class=\"node\">\n",
       "<title>12</title>\n",
       "<text text-anchor=\"middle\" x=\"4251.5\" y=\"-2511.8\" font-family=\"Times,serif\" font-size=\"14.00\" fill=\"#000000\">* +\\x00</text>\n",
       "</g>\n",
       "<!-- 11&#45;&gt;12 -->\n",
       "<g id=\"edge12\" class=\"edge\">\n",
       "<title>11&#45;&gt;12</title>\n",
       "<path fill=\"none\" stroke=\"#ff0000\" d=\"M4288.6821,-2573.929C4282.2321,-2563.7933 4270.6145,-2545.5371 4262.0766,-2532.1203\"/>\n",
       "<polygon fill=\"#ff0000\" stroke=\"#ff0000\" points=\"4264.8435,-2529.949 4256.5219,-2523.3915 4258.9378,-2533.7072 4264.8435,-2529.949\"/>\n",
       "<text text-anchor=\"middle\" x=\"4280.5\" y=\"-2544.8\" font-family=\"Times,serif\" font-size=\"14.00\" fill=\"#000000\">0</text>\n",
       "</g>\n",
       "<!-- 13 -->\n",
       "<g id=\"node14\" class=\"node\">\n",
       "<title>13</title>\n",
       "<text text-anchor=\"middle\" x=\"4295.5\" y=\"-2511.8\" font-family=\"Times,serif\" font-size=\"14.00\" fill=\"#000000\">?</text>\n",
       "</g>\n",
       "<!-- 11&#45;&gt;13 -->\n",
       "<g id=\"edge13\" class=\"edge\">\n",
       "<title>11&#45;&gt;13</title>\n",
       "<path fill=\"none\" stroke=\"#0000ff\" d=\"M4293.7294,-2573.929C4294.0246,-2564.1869 4294.5472,-2546.9428 4294.9483,-2533.7046\"/>\n",
       "<polygon fill=\"#0000ff\" stroke=\"#0000ff\" points=\"4298.4563,-2533.493 4295.2609,-2523.3915 4291.4595,-2533.2809 4298.4563,-2533.493\"/>\n",
       "<text text-anchor=\"middle\" x=\"4299.5\" y=\"-2544.8\" font-family=\"Times,serif\" font-size=\"14.00\" fill=\"#000000\">1</text>\n",
       "</g>\n",
       "<!-- 20 -->\n",
       "<g id=\"node21\" class=\"node\">\n",
       "<title>20</title>\n",
       "<text text-anchor=\"middle\" x=\"5023.5\" y=\"-2841.8\" font-family=\"Times,serif\" font-size=\"14.00\" fill=\"#000000\">(4) str.substr(cgi_decode_s_str_1, 2, 1) == &quot;1&quot;</text>\n",
       "</g>\n",
       "<!-- 19&#45;&gt;20 -->\n",
       "<g id=\"edge20\" class=\"edge\">\n",
       "<title>19&#45;&gt;20</title>\n",
       "<path fill=\"none\" stroke=\"#ff0000\" d=\"M5131.505,-2903.929C5110.7486,-2892.7 5071.5683,-2871.5041 5046.5393,-2857.9639\"/>\n",
       "<polygon fill=\"#ff0000\" stroke=\"#ff0000\" points=\"5048.1684,-2854.8659 5037.7075,-2853.186 5044.8376,-2861.0227 5048.1684,-2854.8659\"/>\n",
       "<text text-anchor=\"middle\" x=\"5099.5\" y=\"-2874.8\" font-family=\"Times,serif\" font-size=\"14.00\" fill=\"#000000\">0</text>\n",
       "</g>\n",
       "<!-- 239 -->\n",
       "<g id=\"node240\" class=\"node\">\n",
       "<title>239</title>\n",
       "<text text-anchor=\"middle\" x=\"5175.5\" y=\"-2841.8\" font-family=\"Times,serif\" font-size=\"14.00\" fill=\"#000000\">?</text>\n",
       "</g>\n",
       "<!-- 19&#45;&gt;239 -->\n",
       "<g id=\"edge239\" class=\"edge\">\n",
       "<title>19&#45;&gt;239</title>\n",
       "<path fill=\"none\" stroke=\"#0000ff\" d=\"M5148.9414,-2903.929C5153.5038,-2893.8917 5161.686,-2875.8908 5167.7671,-2862.5125\"/>\n",
       "<polygon fill=\"#0000ff\" stroke=\"#0000ff\" points=\"5170.9612,-2863.9435 5171.913,-2853.3915 5164.5886,-2861.0468 5170.9612,-2863.9435\"/>\n",
       "<text text-anchor=\"middle\" x=\"5167.5\" y=\"-2874.8\" font-family=\"Times,serif\" font-size=\"14.00\" fill=\"#000000\">1</text>\n",
       "</g>\n",
       "<!-- 21 -->\n",
       "<g id=\"node22\" class=\"node\">\n",
       "<title>21</title>\n",
       "<text text-anchor=\"middle\" x=\"4880.5\" y=\"-2775.8\" font-family=\"Times,serif\" font-size=\"14.00\" fill=\"#000000\">(5) str.substr(cgi_decode_s_str_1, 2, 1) == &quot;2&quot;</text>\n",
       "</g>\n",
       "<!-- 20&#45;&gt;21 -->\n",
       "<g id=\"edge21\" class=\"edge\">\n",
       "<title>20&#45;&gt;21</title>\n",
       "<path fill=\"none\" stroke=\"#ff0000\" d=\"M5007.0961,-2837.929C4982.4452,-2826.5516 4935.6247,-2804.9422 4906.3507,-2791.4311\"/>\n",
       "<polygon fill=\"#ff0000\" stroke=\"#ff0000\" points=\"4907.6994,-2788.1988 4897.1531,-2787.186 4904.766,-2794.5545 4907.6994,-2788.1988\"/>\n",
       "<text text-anchor=\"middle\" x=\"4969.5\" y=\"-2808.8\" font-family=\"Times,serif\" font-size=\"14.00\" fill=\"#000000\">0</text>\n",
       "</g>\n",
       "<!-- 238 -->\n",
       "<g id=\"node239\" class=\"node\">\n",
       "<title>238</title>\n",
       "<text text-anchor=\"middle\" x=\"5032.5\" y=\"-2775.8\" font-family=\"Times,serif\" font-size=\"14.00\" fill=\"#000000\">?</text>\n",
       "</g>\n",
       "<!-- 20&#45;&gt;238 -->\n",
       "<g id=\"edge238\" class=\"edge\">\n",
       "<title>20&#45;&gt;238</title>\n",
       "<path fill=\"none\" stroke=\"#0000ff\" d=\"M5024.5324,-2837.929C5025.8743,-2828.0885 5028.26,-2810.5937 5030.0721,-2797.3047\"/>\n",
       "<polygon fill=\"#0000ff\" stroke=\"#0000ff\" points=\"5033.5406,-2797.7727 5031.4239,-2787.3915 5026.6048,-2796.8269 5033.5406,-2797.7727\"/>\n",
       "<text text-anchor=\"middle\" x=\"5033.5\" y=\"-2808.8\" font-family=\"Times,serif\" font-size=\"14.00\" fill=\"#000000\">1</text>\n",
       "</g>\n",
       "<!-- 22 -->\n",
       "<g id=\"node23\" class=\"node\">\n",
       "<title>22</title>\n",
       "<text text-anchor=\"middle\" x=\"4860.5\" y=\"-2709.8\" font-family=\"Times,serif\" font-size=\"14.00\" fill=\"#000000\">(6) str.substr(cgi_decode_s_str_1, 2, 1) == &quot;3&quot;</text>\n",
       "</g>\n",
       "<!-- 21&#45;&gt;22 -->\n",
       "<g id=\"edge22\" class=\"edge\">\n",
       "<title>21&#45;&gt;22</title>\n",
       "<path fill=\"none\" stroke=\"#ff0000\" d=\"M4878.2057,-2771.929C4875.2238,-2762.0885 4869.9223,-2744.5937 4865.8954,-2731.3047\"/>\n",
       "<polygon fill=\"#ff0000\" stroke=\"#ff0000\" points=\"4869.1411,-2729.9467 4862.8914,-2721.3915 4862.4419,-2731.9768 4869.1411,-2729.9467\"/>\n",
       "<text text-anchor=\"middle\" x=\"4876.5\" y=\"-2742.8\" font-family=\"Times,serif\" font-size=\"14.00\" fill=\"#000000\">0</text>\n",
       "</g>\n",
       "<!-- 237 -->\n",
       "<g id=\"node238\" class=\"node\">\n",
       "<title>237</title>\n",
       "<text text-anchor=\"middle\" x=\"5012.5\" y=\"-2709.8\" font-family=\"Times,serif\" font-size=\"14.00\" fill=\"#000000\">?</text>\n",
       "</g>\n",
       "<!-- 21&#45;&gt;237 -->\n",
       "<g id=\"edge237\" class=\"edge\">\n",
       "<title>21&#45;&gt;237</title>\n",
       "<path fill=\"none\" stroke=\"#0000ff\" d=\"M4896.8409,-2771.8888C4919.9369,-2761.0363 4963.3458,-2740.2884 4999.5,-2721 4999.5977,-2720.9479 4999.6957,-2720.8954 4999.7941,-2720.8426\"/>\n",
       "<polygon fill=\"#0000ff\" stroke=\"#0000ff\" points=\"5001.7043,-2723.7829 5008.6695,-2715.7994 4998.246,-2717.6968 5001.7043,-2723.7829\"/>\n",
       "<text text-anchor=\"middle\" x=\"4968.5\" y=\"-2742.8\" font-family=\"Times,serif\" font-size=\"14.00\" fill=\"#000000\">1</text>\n",
       "</g>\n",
       "<!-- 23 -->\n",
       "<g id=\"node24\" class=\"node\">\n",
       "<title>23</title>\n",
       "<text text-anchor=\"middle\" x=\"4852.5\" y=\"-2643.8\" font-family=\"Times,serif\" font-size=\"14.00\" fill=\"#000000\">(7) str.substr(cgi_decode_s_str_1, 2, 1) == &quot;4&quot;</text>\n",
       "</g>\n",
       "<!-- 22&#45;&gt;23 -->\n",
       "<g id=\"edge23\" class=\"edge\">\n",
       "<title>22&#45;&gt;23</title>\n",
       "<path fill=\"none\" stroke=\"#ff0000\" d=\"M4859.5823,-2705.929C4858.4014,-2696.1869 4856.3112,-2678.9428 4854.7066,-2665.7046\"/>\n",
       "<polygon fill=\"#ff0000\" stroke=\"#ff0000\" points=\"4858.1345,-2664.8976 4853.4565,-2655.3915 4851.1854,-2665.74 4858.1345,-2664.8976\"/>\n",
       "<text text-anchor=\"middle\" x=\"4861.5\" y=\"-2676.8\" font-family=\"Times,serif\" font-size=\"14.00\" fill=\"#000000\">0</text>\n",
       "</g>\n",
       "<!-- 236 -->\n",
       "<g id=\"node237\" class=\"node\">\n",
       "<title>236</title>\n",
       "<text text-anchor=\"middle\" x=\"5004.5\" y=\"-2643.8\" font-family=\"Times,serif\" font-size=\"14.00\" fill=\"#000000\">?</text>\n",
       "</g>\n",
       "<!-- 22&#45;&gt;236 -->\n",
       "<g id=\"edge236\" class=\"edge\">\n",
       "<title>22&#45;&gt;236</title>\n",
       "<path fill=\"none\" stroke=\"#0000ff\" d=\"M4879.0058,-2705.948C4904.6372,-2695.3281 4952.2264,-2675.0305 4991.5,-2655 4991.5986,-2654.9497 4991.6976,-2654.899 4991.7968,-2654.8479\"/>\n",
       "<polygon fill=\"#0000ff\" stroke=\"#0000ff\" points=\"4993.6952,-2657.7957 5000.6895,-2649.8376 4990.2591,-2651.697 4993.6952,-2657.7957\"/>\n",
       "<text text-anchor=\"middle\" x=\"4956.5\" y=\"-2676.8\" font-family=\"Times,serif\" font-size=\"14.00\" fill=\"#000000\">1</text>\n",
       "</g>\n",
       "<!-- 24 -->\n",
       "<g id=\"node25\" class=\"node\">\n",
       "<title>24</title>\n",
       "<text text-anchor=\"middle\" x=\"4605.5\" y=\"-2577.8\" font-family=\"Times,serif\" font-size=\"14.00\" fill=\"#000000\">(8) str.substr(cgi_decode_s_str_1, 2, 1) == &quot;5&quot;</text>\n",
       "</g>\n",
       "<!-- 23&#45;&gt;24 -->\n",
       "<g id=\"edge24\" class=\"edge\">\n",
       "<title>23&#45;&gt;24</title>\n",
       "<path fill=\"none\" stroke=\"#ff0000\" d=\"M4824.166,-2639.929C4779.71,-2628.05 4693.5098,-2605.0168 4643.646,-2591.6928\"/>\n",
       "<polygon fill=\"#ff0000\" stroke=\"#ff0000\" points=\"4644.4476,-2588.2843 4633.883,-2589.0841 4642.6405,-2595.0471 4644.4476,-2588.2843\"/>\n",
       "<text text-anchor=\"middle\" x=\"4755.5\" y=\"-2610.8\" font-family=\"Times,serif\" font-size=\"14.00\" fill=\"#000000\">0</text>\n",
       "</g>\n",
       "<!-- 191 -->\n",
       "<g id=\"node192\" class=\"node\">\n",
       "<title>191</title>\n",
       "<text text-anchor=\"middle\" x=\"4884.5\" y=\"-2577.8\" font-family=\"Times,serif\" font-size=\"14.00\" fill=\"#000000\">(8) str.substr(cgi_decode_s_str_1, 3, 1) == &quot;0&quot;</text>\n",
       "</g>\n",
       "<!-- 23&#45;&gt;191 -->\n",
       "<g id=\"edge191\" class=\"edge\">\n",
       "<title>23&#45;&gt;191</title>\n",
       "<path fill=\"none\" stroke=\"#0000ff\" d=\"M4856.1708,-2639.929C4861.0373,-2629.8917 4869.7651,-2611.8908 4876.2515,-2598.5125\"/>\n",
       "<polygon fill=\"#0000ff\" stroke=\"#0000ff\" points=\"4879.4604,-2599.9166 4880.6738,-2589.3915 4873.1617,-2596.8627 4879.4604,-2599.9166\"/>\n",
       "<text text-anchor=\"middle\" x=\"4875.5\" y=\"-2610.8\" font-family=\"Times,serif\" font-size=\"14.00\" fill=\"#000000\">1</text>\n",
       "</g>\n",
       "<!-- 25 -->\n",
       "<g id=\"node26\" class=\"node\">\n",
       "<title>25</title>\n",
       "<text text-anchor=\"middle\" x=\"4459.5\" y=\"-2511.8\" font-family=\"Times,serif\" font-size=\"14.00\" fill=\"#000000\">(9) str.substr(cgi_decode_s_str_1, 2, 1) == &quot;6&quot;</text>\n",
       "</g>\n",
       "<!-- 24&#45;&gt;25 -->\n",
       "<g id=\"edge25\" class=\"edge\">\n",
       "<title>24&#45;&gt;25</title>\n",
       "<path fill=\"none\" stroke=\"#ff0000\" d=\"M4588.7519,-2573.929C4563.5839,-2562.5516 4515.7811,-2540.9422 4485.893,-2527.4311\"/>\n",
       "<polygon fill=\"#ff0000\" stroke=\"#ff0000\" points=\"4487.0564,-2524.116 4476.5024,-2523.186 4484.1729,-2530.4946 4487.0564,-2524.116\"/>\n",
       "<text text-anchor=\"middle\" x=\"4550.5\" y=\"-2544.8\" font-family=\"Times,serif\" font-size=\"14.00\" fill=\"#000000\">0</text>\n",
       "</g>\n",
       "<!-- 190 -->\n",
       "<g id=\"node191\" class=\"node\">\n",
       "<title>190</title>\n",
       "<text text-anchor=\"middle\" x=\"4611.5\" y=\"-2511.8\" font-family=\"Times,serif\" font-size=\"14.00\" fill=\"#000000\">?</text>\n",
       "</g>\n",
       "<!-- 24&#45;&gt;190 -->\n",
       "<g id=\"edge190\" class=\"edge\">\n",
       "<title>24&#45;&gt;190</title>\n",
       "<path fill=\"none\" stroke=\"#0000ff\" d=\"M4606.1883,-2573.929C4607.0739,-2564.1869 4608.6416,-2546.9428 4609.845,-2533.7046\"/>\n",
       "<polygon fill=\"#0000ff\" stroke=\"#0000ff\" points=\"4613.3628,-2533.6673 4610.7826,-2523.3915 4606.3915,-2533.0335 4613.3628,-2533.6673\"/>\n",
       "<text text-anchor=\"middle\" x=\"4613.5\" y=\"-2544.8\" font-family=\"Times,serif\" font-size=\"14.00\" fill=\"#000000\">1</text>\n",
       "</g>\n",
       "<!-- 26 -->\n",
       "<g id=\"node27\" class=\"node\">\n",
       "<title>26</title>\n",
       "<text text-anchor=\"middle\" x=\"4332.5\" y=\"-2445.8\" font-family=\"Times,serif\" font-size=\"14.00\" fill=\"#000000\">(10) str.substr(cgi_decode_s_str_1, 2, 1) == &quot;7&quot;</text>\n",
       "</g>\n",
       "<!-- 25&#45;&gt;26 -->\n",
       "<g id=\"edge26\" class=\"edge\">\n",
       "<title>25&#45;&gt;26</title>\n",
       "<path fill=\"none\" stroke=\"#ff0000\" d=\"M4444.9315,-2507.929C4423.3243,-2496.7 4382.5383,-2475.5041 4356.4835,-2461.9639\"/>\n",
       "<polygon fill=\"#ff0000\" stroke=\"#ff0000\" points=\"4357.7771,-2458.6918 4347.2898,-2457.186 4354.5491,-2464.9031 4357.7771,-2458.6918\"/>\n",
       "<text text-anchor=\"middle\" x=\"4411.5\" y=\"-2478.8\" font-family=\"Times,serif\" font-size=\"14.00\" fill=\"#000000\">0</text>\n",
       "</g>\n",
       "<!-- 189 -->\n",
       "<g id=\"node190\" class=\"node\">\n",
       "<title>189</title>\n",
       "<text text-anchor=\"middle\" x=\"4488.5\" y=\"-2445.8\" font-family=\"Times,serif\" font-size=\"14.00\" fill=\"#000000\">?</text>\n",
       "</g>\n",
       "<!-- 25&#45;&gt;189 -->\n",
       "<g id=\"edge189\" class=\"edge\">\n",
       "<title>25&#45;&gt;189</title>\n",
       "<path fill=\"none\" stroke=\"#0000ff\" d=\"M4462.8267,-2507.929C4467.1937,-2497.9901 4474.9917,-2480.243 4480.8513,-2466.9073\"/>\n",
       "<polygon fill=\"#0000ff\" stroke=\"#0000ff\" points=\"4484.2141,-2467.9547 4485.0325,-2457.3915 4477.8054,-2465.1387 4484.2141,-2467.9547\"/>\n",
       "<text text-anchor=\"middle\" x=\"4481.5\" y=\"-2478.8\" font-family=\"Times,serif\" font-size=\"14.00\" fill=\"#000000\">1</text>\n",
       "</g>\n",
       "<!-- 27 -->\n",
       "<g id=\"node28\" class=\"node\">\n",
       "<title>27</title>\n",
       "<text text-anchor=\"middle\" x=\"4326.5\" y=\"-2379.8\" font-family=\"Times,serif\" font-size=\"14.00\" fill=\"#000000\">(11) str.substr(cgi_decode_s_str_1, 2, 1) == &quot;8&quot;</text>\n",
       "</g>\n",
       "<!-- 26&#45;&gt;27 -->\n",
       "<g id=\"edge27\" class=\"edge\">\n",
       "<title>26&#45;&gt;27</title>\n",
       "<path fill=\"none\" stroke=\"#ff0000\" d=\"M4331.8117,-2441.929C4330.9261,-2432.1869 4329.3584,-2414.9428 4328.155,-2401.7046\"/>\n",
       "<polygon fill=\"#ff0000\" stroke=\"#ff0000\" points=\"4331.6085,-2401.0335 4327.2174,-2391.3915 4324.6372,-2401.6673 4331.6085,-2401.0335\"/>\n",
       "<text text-anchor=\"middle\" x=\"4334.5\" y=\"-2412.8\" font-family=\"Times,serif\" font-size=\"14.00\" fill=\"#000000\">0</text>\n",
       "</g>\n",
       "<!-- 188 -->\n",
       "<g id=\"node189\" class=\"node\">\n",
       "<title>188</title>\n",
       "<text text-anchor=\"middle\" x=\"4482.5\" y=\"-2379.8\" font-family=\"Times,serif\" font-size=\"14.00\" fill=\"#000000\">?</text>\n",
       "</g>\n",
       "<!-- 26&#45;&gt;188 -->\n",
       "<g id=\"edge188\" class=\"edge\">\n",
       "<title>26&#45;&gt;188</title>\n",
       "<path fill=\"none\" stroke=\"#0000ff\" d=\"M4352.3461,-2441.8929C4379.298,-2431.3673 4428.7831,-2411.3471 4469.5,-2391 4469.5991,-2390.9505 4469.6984,-2390.9006 4469.798,-2390.8503\"/>\n",
       "<polygon fill=\"#0000ff\" stroke=\"#0000ff\" points=\"4471.691,-2393.8015 4478.6981,-2385.8547 4468.2647,-2387.6973 4471.691,-2393.8015\"/>\n",
       "<text text-anchor=\"middle\" x=\"4433.5\" y=\"-2412.8\" font-family=\"Times,serif\" font-size=\"14.00\" fill=\"#000000\">1</text>\n",
       "</g>\n",
       "<!-- 28 -->\n",
       "<g id=\"node29\" class=\"node\">\n",
       "<title>28</title>\n",
       "<text text-anchor=\"middle\" x=\"4217.5\" y=\"-2313.8\" font-family=\"Times,serif\" font-size=\"14.00\" fill=\"#000000\">(12) str.substr(cgi_decode_s_str_1, 2, 1) == &quot;9&quot;</text>\n",
       "</g>\n",
       "<!-- 27&#45;&gt;28 -->\n",
       "<g id=\"edge28\" class=\"edge\">\n",
       "<title>27&#45;&gt;28</title>\n",
       "<path fill=\"none\" stroke=\"#ff0000\" d=\"M4313.9963,-2375.929C4295.6967,-2364.8484 4261.3686,-2344.0626 4238.9775,-2330.5047\"/>\n",
       "<polygon fill=\"#ff0000\" stroke=\"#ff0000\" points=\"4240.5606,-2327.3717 4230.1936,-2325.186 4236.9349,-2333.3596 4240.5606,-2327.3717\"/>\n",
       "<text text-anchor=\"middle\" x=\"4286.5\" y=\"-2346.8\" font-family=\"Times,serif\" font-size=\"14.00\" fill=\"#000000\">0</text>\n",
       "</g>\n",
       "<!-- 187 -->\n",
       "<g id=\"node188\" class=\"node\">\n",
       "<title>187</title>\n",
       "<text text-anchor=\"middle\" x=\"4373.5\" y=\"-2313.8\" font-family=\"Times,serif\" font-size=\"14.00\" fill=\"#000000\">?</text>\n",
       "</g>\n",
       "<!-- 27&#45;&gt;187 -->\n",
       "<g id=\"edge187\" class=\"edge\">\n",
       "<title>27&#45;&gt;187</title>\n",
       "<path fill=\"none\" stroke=\"#0000ff\" d=\"M4331.8915,-2375.929C4339.6526,-2365.0304 4354.0998,-2344.7428 4363.7592,-2331.1785\"/>\n",
       "<polygon fill=\"#0000ff\" stroke=\"#0000ff\" points=\"4366.8328,-2332.8962 4369.7825,-2322.7203 4361.1308,-2328.8357 4366.8328,-2332.8962\"/>\n",
       "<text text-anchor=\"middle\" x=\"4358.5\" y=\"-2346.8\" font-family=\"Times,serif\" font-size=\"14.00\" fill=\"#000000\">1</text>\n",
       "</g>\n",
       "<!-- 29 -->\n",
       "<g id=\"node30\" class=\"node\">\n",
       "<title>29</title>\n",
       "<text text-anchor=\"middle\" x=\"4217.5\" y=\"-2247.8\" font-family=\"Times,serif\" font-size=\"14.00\" fill=\"#000000\">(13) str.substr(cgi_decode_s_str_1, 2, 1) == &quot;a&quot;</text>\n",
       "</g>\n",
       "<!-- 28&#45;&gt;29 -->\n",
       "<g id=\"edge29\" class=\"edge\">\n",
       "<title>28&#45;&gt;29</title>\n",
       "<path fill=\"none\" stroke=\"#ff0000\" d=\"M4217.5,-2309.929C4217.5,-2300.1869 4217.5,-2282.9428 4217.5,-2269.7046\"/>\n",
       "<polygon fill=\"#ff0000\" stroke=\"#ff0000\" points=\"4221.0001,-2269.3915 4217.5,-2259.3915 4214.0001,-2269.3915 4221.0001,-2269.3915\"/>\n",
       "<text text-anchor=\"middle\" x=\"4221.5\" y=\"-2280.8\" font-family=\"Times,serif\" font-size=\"14.00\" fill=\"#000000\">0</text>\n",
       "</g>\n",
       "<!-- 186 -->\n",
       "<g id=\"node187\" class=\"node\">\n",
       "<title>186</title>\n",
       "<text text-anchor=\"middle\" x=\"4372.5\" y=\"-2247.8\" font-family=\"Times,serif\" font-size=\"14.00\" fill=\"#000000\">?</text>\n",
       "</g>\n",
       "<!-- 28&#45;&gt;186 -->\n",
       "<g id=\"edge186\" class=\"edge\">\n",
       "<title>28&#45;&gt;186</title>\n",
       "<path fill=\"none\" stroke=\"#0000ff\" d=\"M4238.0975,-2309.9987C4266.0638,-2299.5929 4317.3896,-2279.7081 4359.5,-2259 4359.5994,-2258.9511 4359.699,-2258.9018 4359.7989,-2258.8521\"/>\n",
       "<polygon fill=\"#0000ff\" stroke=\"#0000ff\" points=\"4361.6876,-2261.806 4368.7047,-2253.8681 4358.269,-2255.6975 4361.6876,-2261.806\"/>\n",
       "<text text-anchor=\"middle\" x=\"4321.5\" y=\"-2280.8\" font-family=\"Times,serif\" font-size=\"14.00\" fill=\"#000000\">1</text>\n",
       "</g>\n",
       "<!-- 30 -->\n",
       "<g id=\"node31\" class=\"node\">\n",
       "<title>30</title>\n",
       "<text text-anchor=\"middle\" x=\"4122.5\" y=\"-2181.8\" font-family=\"Times,serif\" font-size=\"14.00\" fill=\"#000000\">(14) str.substr(cgi_decode_s_str_1, 2, 1) == &quot;b&quot;</text>\n",
       "</g>\n",
       "<!-- 29&#45;&gt;30 -->\n",
       "<g id=\"edge30\" class=\"edge\">\n",
       "<title>29&#45;&gt;30</title>\n",
       "<path fill=\"none\" stroke=\"#ff0000\" d=\"M4206.6023,-2243.929C4190.8667,-2232.9968 4161.533,-2212.6177 4142.0085,-2199.0533\"/>\n",
       "<polygon fill=\"#ff0000\" stroke=\"#ff0000\" points=\"4143.7728,-2196.0173 4133.5632,-2193.186 4139.7789,-2201.7661 4143.7728,-2196.0173\"/>\n",
       "<text text-anchor=\"middle\" x=\"4183.5\" y=\"-2214.8\" font-family=\"Times,serif\" font-size=\"14.00\" fill=\"#000000\">0</text>\n",
       "</g>\n",
       "<!-- 185 -->\n",
       "<g id=\"node186\" class=\"node\">\n",
       "<title>185</title>\n",
       "<text text-anchor=\"middle\" x=\"4278.5\" y=\"-2181.8\" font-family=\"Times,serif\" font-size=\"14.00\" fill=\"#000000\">?</text>\n",
       "</g>\n",
       "<!-- 29&#45;&gt;185 -->\n",
       "<g id=\"edge185\" class=\"edge\">\n",
       "<title>29&#45;&gt;185</title>\n",
       "<path fill=\"none\" stroke=\"#0000ff\" d=\"M4224.4975,-2243.929C4235.1767,-2232.3744 4255.6098,-2210.2664 4268.0508,-2196.8056\"/>\n",
       "<polygon fill=\"#0000ff\" stroke=\"#0000ff\" points=\"4270.6723,-2199.1259 4274.8894,-2189.4065 4265.5316,-2194.3747 4270.6723,-2199.1259\"/>\n",
       "<text text-anchor=\"middle\" x=\"4257.5\" y=\"-2214.8\" font-family=\"Times,serif\" font-size=\"14.00\" fill=\"#000000\">1</text>\n",
       "</g>\n",
       "<!-- 31 -->\n",
       "<g id=\"node32\" class=\"node\">\n",
       "<title>31</title>\n",
       "<text text-anchor=\"middle\" x=\"4087.5\" y=\"-2115.8\" font-family=\"Times,serif\" font-size=\"14.00\" fill=\"#000000\">(15) str.substr(cgi_decode_s_str_1, 2, 1) == &quot;c&quot;</text>\n",
       "</g>\n",
       "<!-- 30&#45;&gt;31 -->\n",
       "<g id=\"edge31\" class=\"edge\">\n",
       "<title>30&#45;&gt;31</title>\n",
       "<path fill=\"none\" stroke=\"#ff0000\" d=\"M4118.4851,-2177.929C4113.1623,-2167.8917 4103.6163,-2149.8908 4096.5218,-2136.5125\"/>\n",
       "<polygon fill=\"#ff0000\" stroke=\"#ff0000\" points=\"4099.4621,-2134.5864 4091.6849,-2127.3915 4093.2778,-2137.8659 4099.4621,-2134.5864\"/>\n",
       "<text text-anchor=\"middle\" x=\"4112.5\" y=\"-2148.8\" font-family=\"Times,serif\" font-size=\"14.00\" fill=\"#000000\">0</text>\n",
       "</g>\n",
       "<!-- 184 -->\n",
       "<g id=\"node185\" class=\"node\">\n",
       "<title>184</title>\n",
       "<text text-anchor=\"middle\" x=\"4242.5\" y=\"-2115.8\" font-family=\"Times,serif\" font-size=\"14.00\" fill=\"#000000\">?</text>\n",
       "</g>\n",
       "<!-- 30&#45;&gt;184 -->\n",
       "<g id=\"edge184\" class=\"edge\">\n",
       "<title>30&#45;&gt;184</title>\n",
       "<path fill=\"none\" stroke=\"#0000ff\" d=\"M4136.7498,-2177.8437C4157.3108,-2166.7661 4196.4591,-2145.56 4229.5,-2127 4229.5965,-2126.9458 4229.6935,-2126.8913 4229.7907,-2126.8365\"/>\n",
       "<polygon fill=\"#0000ff\" stroke=\"#0000ff\" points=\"4231.7142,-2129.7681 4238.6452,-2121.7549 4228.2298,-2123.6969 4231.7142,-2129.7681\"/>\n",
       "<text text-anchor=\"middle\" x=\"4198.5\" y=\"-2148.8\" font-family=\"Times,serif\" font-size=\"14.00\" fill=\"#000000\">1</text>\n",
       "</g>\n",
       "<!-- 32 -->\n",
       "<g id=\"node33\" class=\"node\">\n",
       "<title>32</title>\n",
       "<text text-anchor=\"middle\" x=\"3933.5\" y=\"-2049.8\" font-family=\"Times,serif\" font-size=\"14.00\" fill=\"#000000\">(16) str.substr(cgi_decode_s_str_1, 2, 1) == &quot;d&quot;</text>\n",
       "</g>\n",
       "<!-- 31&#45;&gt;32 -->\n",
       "<g id=\"edge32\" class=\"edge\">\n",
       "<title>31&#45;&gt;32</title>\n",
       "<path fill=\"none\" stroke=\"#ff0000\" d=\"M4069.8342,-2111.929C4043.1717,-2100.5022 3992.4261,-2078.7541 3960.9291,-2065.2553\"/>\n",
       "<polygon fill=\"#ff0000\" stroke=\"#ff0000\" points=\"3962.0043,-2061.9083 3951.4341,-2061.186 3959.2468,-2068.3423 3962.0043,-2061.9083\"/>\n",
       "<text text-anchor=\"middle\" x=\"4028.5\" y=\"-2082.8\" font-family=\"Times,serif\" font-size=\"14.00\" fill=\"#000000\">0</text>\n",
       "</g>\n",
       "<!-- 183 -->\n",
       "<g id=\"node184\" class=\"node\">\n",
       "<title>183</title>\n",
       "<text text-anchor=\"middle\" x=\"4089.5\" y=\"-2049.8\" font-family=\"Times,serif\" font-size=\"14.00\" fill=\"#000000\">?</text>\n",
       "</g>\n",
       "<!-- 31&#45;&gt;183 -->\n",
       "<g id=\"edge183\" class=\"edge\">\n",
       "<title>31&#45;&gt;183</title>\n",
       "<path fill=\"none\" stroke=\"#0000ff\" d=\"M4087.7294,-2111.929C4088.0246,-2102.1869 4088.5472,-2084.9428 4088.9483,-2071.7046\"/>\n",
       "<polygon fill=\"#0000ff\" stroke=\"#0000ff\" points=\"4092.4563,-2071.493 4089.2609,-2061.3915 4085.4595,-2071.2809 4092.4563,-2071.493\"/>\n",
       "<text text-anchor=\"middle\" x=\"4093.5\" y=\"-2082.8\" font-family=\"Times,serif\" font-size=\"14.00\" fill=\"#000000\">1</text>\n",
       "</g>\n",
       "<!-- 33 -->\n",
       "<g id=\"node34\" class=\"node\">\n",
       "<title>33</title>\n",
       "<text text-anchor=\"middle\" x=\"3781.5\" y=\"-1983.8\" font-family=\"Times,serif\" font-size=\"14.00\" fill=\"#000000\">(17) str.substr(cgi_decode_s_str_1, 2, 1) == &quot;e&quot;</text>\n",
       "</g>\n",
       "<!-- 32&#45;&gt;33 -->\n",
       "<g id=\"edge33\" class=\"edge\">\n",
       "<title>32&#45;&gt;33</title>\n",
       "<path fill=\"none\" stroke=\"#ff0000\" d=\"M3916.0637,-2045.929C3889.7474,-2034.5022 3839.6608,-2012.7541 3808.5729,-1999.2553\"/>\n",
       "<polygon fill=\"#ff0000\" stroke=\"#ff0000\" points=\"3809.7678,-1995.9585 3799.2012,-1995.186 3806.9798,-2002.3794 3809.7678,-1995.9585\"/>\n",
       "<text text-anchor=\"middle\" x=\"3875.5\" y=\"-2016.8\" font-family=\"Times,serif\" font-size=\"14.00\" fill=\"#000000\">0</text>\n",
       "</g>\n",
       "<!-- 182 -->\n",
       "<g id=\"node183\" class=\"node\">\n",
       "<title>182</title>\n",
       "<text text-anchor=\"middle\" x=\"3936.5\" y=\"-1983.8\" font-family=\"Times,serif\" font-size=\"14.00\" fill=\"#000000\">?</text>\n",
       "</g>\n",
       "<!-- 32&#45;&gt;182 -->\n",
       "<g id=\"edge182\" class=\"edge\">\n",
       "<title>32&#45;&gt;182</title>\n",
       "<path fill=\"none\" stroke=\"#0000ff\" d=\"M3933.8441,-2045.929C3934.287,-2036.1869 3935.0708,-2018.9428 3935.6725,-2005.7046\"/>\n",
       "<polygon fill=\"#0000ff\" stroke=\"#0000ff\" points=\"3939.1835,-2005.5401 3936.1413,-1995.3915 3932.1907,-2005.2222 3939.1835,-2005.5401\"/>\n",
       "<text text-anchor=\"middle\" x=\"3939.5\" y=\"-2016.8\" font-family=\"Times,serif\" font-size=\"14.00\" fill=\"#000000\">1</text>\n",
       "</g>\n",
       "<!-- 34 -->\n",
       "<g id=\"node35\" class=\"node\">\n",
       "<title>34</title>\n",
       "<text text-anchor=\"middle\" x=\"3668.5\" y=\"-1917.8\" font-family=\"Times,serif\" font-size=\"14.00\" fill=\"#000000\">(18) str.substr(cgi_decode_s_str_1, 2, 1) == &quot;f&quot;</text>\n",
       "</g>\n",
       "<!-- 33&#45;&gt;34 -->\n",
       "<g id=\"edge34\" class=\"edge\">\n",
       "<title>33&#45;&gt;34</title>\n",
       "<path fill=\"none\" stroke=\"#ff0000\" d=\"M3768.5375,-1979.929C3749.4816,-1968.799 3713.6604,-1947.8769 3690.4555,-1934.3236\"/>\n",
       "<polygon fill=\"#ff0000\" stroke=\"#ff0000\" points=\"3692.0597,-1931.2073 3681.6594,-1929.186 3688.5292,-1937.2518 3692.0597,-1931.2073\"/>\n",
       "<text text-anchor=\"middle\" x=\"3739.5\" y=\"-1950.8\" font-family=\"Times,serif\" font-size=\"14.00\" fill=\"#000000\">0</text>\n",
       "</g>\n",
       "<!-- 181 -->\n",
       "<g id=\"node182\" class=\"node\">\n",
       "<title>181</title>\n",
       "<text text-anchor=\"middle\" x=\"3823.5\" y=\"-1917.8\" font-family=\"Times,serif\" font-size=\"14.00\" fill=\"#000000\">?</text>\n",
       "</g>\n",
       "<!-- 33&#45;&gt;181 -->\n",
       "<g id=\"edge181\" class=\"edge\">\n",
       "<title>33&#45;&gt;181</title>\n",
       "<path fill=\"none\" stroke=\"#0000ff\" d=\"M3786.3179,-1979.929C3793.184,-1969.1394 3805.906,-1949.1476 3814.5353,-1935.5875\"/>\n",
       "<polygon fill=\"#0000ff\" stroke=\"#0000ff\" points=\"3817.5371,-1937.3895 3819.953,-1927.0738 3811.6314,-1933.6313 3817.5371,-1937.3895\"/>\n",
       "<text text-anchor=\"middle\" x=\"3810.5\" y=\"-1950.8\" font-family=\"Times,serif\" font-size=\"14.00\" fill=\"#000000\">1</text>\n",
       "</g>\n",
       "<!-- 35 -->\n",
       "<g id=\"node36\" class=\"node\">\n",
       "<title>35</title>\n",
       "<text text-anchor=\"middle\" x=\"3590.5\" y=\"-1851.8\" font-family=\"Times,serif\" font-size=\"14.00\" fill=\"#000000\">(19) str.substr(cgi_decode_s_str_1, 2, 1) == &quot;A&quot;</text>\n",
       "</g>\n",
       "<!-- 34&#45;&gt;35 -->\n",
       "<g id=\"edge35\" class=\"edge\">\n",
       "<title>34&#45;&gt;35</title>\n",
       "<path fill=\"none\" stroke=\"#ff0000\" d=\"M3659.5524,-1913.929C3646.9925,-1903.3013 3623.881,-1883.7455 3607.8753,-1870.2021\"/>\n",
       "<polygon fill=\"#ff0000\" stroke=\"#ff0000\" points=\"3609.721,-1867.1791 3599.8263,-1863.3915 3605.1994,-1872.5228 3609.721,-1867.1791\"/>\n",
       "<text text-anchor=\"middle\" x=\"3640.5\" y=\"-1884.8\" font-family=\"Times,serif\" font-size=\"14.00\" fill=\"#000000\">0</text>\n",
       "</g>\n",
       "<!-- 180 -->\n",
       "<g id=\"node181\" class=\"node\">\n",
       "<title>180</title>\n",
       "<text text-anchor=\"middle\" x=\"3747.5\" y=\"-1851.8\" font-family=\"Times,serif\" font-size=\"14.00\" fill=\"#000000\">?</text>\n",
       "</g>\n",
       "<!-- 34&#45;&gt;180 -->\n",
       "<g id=\"edge180\" class=\"edge\">\n",
       "<title>34&#45;&gt;180</title>\n",
       "<path fill=\"none\" stroke=\"#0000ff\" d=\"M3677.5623,-1913.929C3691.9272,-1901.9279 3719.9195,-1878.5419 3735.7877,-1865.2849\"/>\n",
       "<polygon fill=\"#0000ff\" stroke=\"#0000ff\" points=\"3738.4407,-1867.6293 3743.871,-1858.5319 3733.9527,-1862.2573 3738.4407,-1867.6293\"/>\n",
       "<text text-anchor=\"middle\" x=\"3719.5\" y=\"-1884.8\" font-family=\"Times,serif\" font-size=\"14.00\" fill=\"#000000\">1</text>\n",
       "</g>\n",
       "<!-- 36 -->\n",
       "<g id=\"node37\" class=\"node\">\n",
       "<title>36</title>\n",
       "<text text-anchor=\"middle\" x=\"3480.5\" y=\"-1785.8\" font-family=\"Times,serif\" font-size=\"14.00\" fill=\"#000000\">(20) str.substr(cgi_decode_s_str_1, 2, 1) == &quot;B&quot;</text>\n",
       "</g>\n",
       "<!-- 35&#45;&gt;36 -->\n",
       "<g id=\"edge36\" class=\"edge\">\n",
       "<title>35&#45;&gt;36</title>\n",
       "<path fill=\"none\" stroke=\"#ff0000\" d=\"M3577.8816,-1847.929C3559.4141,-1836.8484 3524.7711,-1816.0626 3502.1745,-1802.5047\"/>\n",
       "<polygon fill=\"#ff0000\" stroke=\"#ff0000\" points=\"3503.6858,-1799.3298 3493.3101,-1797.186 3500.0843,-1805.3323 3503.6858,-1799.3298\"/>\n",
       "<text text-anchor=\"middle\" x=\"3549.5\" y=\"-1818.8\" font-family=\"Times,serif\" font-size=\"14.00\" fill=\"#000000\">0</text>\n",
       "</g>\n",
       "<!-- 179 -->\n",
       "<g id=\"node180\" class=\"node\">\n",
       "<title>179</title>\n",
       "<text text-anchor=\"middle\" x=\"3637.5\" y=\"-1785.8\" font-family=\"Times,serif\" font-size=\"14.00\" fill=\"#000000\">?</text>\n",
       "</g>\n",
       "<!-- 35&#45;&gt;179 -->\n",
       "<g id=\"edge179\" class=\"edge\">\n",
       "<title>35&#45;&gt;179</title>\n",
       "<path fill=\"none\" stroke=\"#0000ff\" d=\"M3595.8915,-1847.929C3603.6526,-1837.0304 3618.0998,-1816.7428 3627.7592,-1803.1785\"/>\n",
       "<polygon fill=\"#0000ff\" stroke=\"#0000ff\" points=\"3630.8328,-1804.8962 3633.7825,-1794.7203 3625.1308,-1800.8357 3630.8328,-1804.8962\"/>\n",
       "<text text-anchor=\"middle\" x=\"3622.5\" y=\"-1818.8\" font-family=\"Times,serif\" font-size=\"14.00\" fill=\"#000000\">1</text>\n",
       "</g>\n",
       "<!-- 37 -->\n",
       "<g id=\"node38\" class=\"node\">\n",
       "<title>37</title>\n",
       "<text text-anchor=\"middle\" x=\"3328.5\" y=\"-1719.8\" font-family=\"Times,serif\" font-size=\"14.00\" fill=\"#000000\">(21) str.substr(cgi_decode_s_str_1, 2, 1) == &quot;C&quot;</text>\n",
       "</g>\n",
       "<!-- 36&#45;&gt;37 -->\n",
       "<g id=\"edge37\" class=\"edge\">\n",
       "<title>36&#45;&gt;37</title>\n",
       "<path fill=\"none\" stroke=\"#ff0000\" d=\"M3463.0637,-1781.929C3436.7474,-1770.5022 3386.6608,-1748.7541 3355.5729,-1735.2553\"/>\n",
       "<polygon fill=\"#ff0000\" stroke=\"#ff0000\" points=\"3356.7678,-1731.9585 3346.2012,-1731.186 3353.9798,-1738.3794 3356.7678,-1731.9585\"/>\n",
       "<text text-anchor=\"middle\" x=\"3422.5\" y=\"-1752.8\" font-family=\"Times,serif\" font-size=\"14.00\" fill=\"#000000\">0</text>\n",
       "</g>\n",
       "<!-- 178 -->\n",
       "<g id=\"node179\" class=\"node\">\n",
       "<title>178</title>\n",
       "<text text-anchor=\"middle\" x=\"3485.5\" y=\"-1719.8\" font-family=\"Times,serif\" font-size=\"14.00\" fill=\"#000000\">?</text>\n",
       "</g>\n",
       "<!-- 36&#45;&gt;178 -->\n",
       "<g id=\"edge178\" class=\"edge\">\n",
       "<title>36&#45;&gt;178</title>\n",
       "<path fill=\"none\" stroke=\"#0000ff\" d=\"M3481.0736,-1781.929C3481.8116,-1772.1869 3483.118,-1754.9428 3484.1209,-1741.7046\"/>\n",
       "<polygon fill=\"#0000ff\" stroke=\"#0000ff\" points=\"3487.6367,-1741.6273 3484.9022,-1731.3915 3480.6567,-1741.0985 3487.6367,-1741.6273\"/>\n",
       "<text text-anchor=\"middle\" x=\"3487.5\" y=\"-1752.8\" font-family=\"Times,serif\" font-size=\"14.00\" fill=\"#000000\">1</text>\n",
       "</g>\n",
       "<!-- 38 -->\n",
       "<g id=\"node39\" class=\"node\">\n",
       "<title>38</title>\n",
       "<text text-anchor=\"middle\" x=\"3070.5\" y=\"-1653.8\" font-family=\"Times,serif\" font-size=\"14.00\" fill=\"#000000\">(22) str.substr(cgi_decode_s_str_1, 2, 1) == &quot;D&quot;</text>\n",
       "</g>\n",
       "<!-- 37&#45;&gt;38 -->\n",
       "<g id=\"edge38\" class=\"edge\">\n",
       "<title>37&#45;&gt;38</title>\n",
       "<path fill=\"none\" stroke=\"#ff0000\" d=\"M3298.9041,-1715.929C3252.3714,-1704.0252 3162.0532,-1680.9206 3110.0191,-1667.6095\"/>\n",
       "<polygon fill=\"#ff0000\" stroke=\"#ff0000\" points=\"3110.7025,-1664.1717 3100.147,-1665.0841 3108.9676,-1670.9533 3110.7025,-1664.1717\"/>\n",
       "<text text-anchor=\"middle\" x=\"3227.5\" y=\"-1686.8\" font-family=\"Times,serif\" font-size=\"14.00\" fill=\"#000000\">0</text>\n",
       "</g>\n",
       "<!-- 133 -->\n",
       "<g id=\"node134\" class=\"node\">\n",
       "<title>133</title>\n",
       "<text text-anchor=\"middle\" x=\"3358.5\" y=\"-1653.8\" font-family=\"Times,serif\" font-size=\"14.00\" fill=\"#000000\">(22) str.substr(cgi_decode_s_str_1, 3, 1) == &quot;0&quot;</text>\n",
       "</g>\n",
       "<!-- 37&#45;&gt;133 -->\n",
       "<g id=\"edge133\" class=\"edge\">\n",
       "<title>37&#45;&gt;133</title>\n",
       "<path fill=\"none\" stroke=\"#0000ff\" d=\"M3331.9414,-1715.929C3336.5038,-1705.8917 3344.686,-1687.8908 3350.7671,-1674.5125\"/>\n",
       "<polygon fill=\"#0000ff\" stroke=\"#0000ff\" points=\"3353.9612,-1675.9435 3354.913,-1665.3915 3347.5886,-1673.0468 3353.9612,-1675.9435\"/>\n",
       "<text text-anchor=\"middle\" x=\"3350.5\" y=\"-1686.8\" font-family=\"Times,serif\" font-size=\"14.00\" fill=\"#000000\">1</text>\n",
       "</g>\n",
       "<!-- 39 -->\n",
       "<g id=\"node40\" class=\"node\">\n",
       "<title>39</title>\n",
       "<text text-anchor=\"middle\" x=\"2784.5\" y=\"-1587.8\" font-family=\"Times,serif\" font-size=\"14.00\" fill=\"#000000\">(23) str.substr(cgi_decode_s_str_1, 2, 1) == &quot;E&quot;</text>\n",
       "</g>\n",
       "<!-- 38&#45;&gt;39 -->\n",
       "<g id=\"edge39\" class=\"edge\">\n",
       "<title>38&#45;&gt;39</title>\n",
       "<path fill=\"none\" stroke=\"#ff0000\" d=\"M3037.9706,-1649.9932C2986.1777,-1638.041 2884.9507,-1614.6809 2827.327,-1601.3831\"/>\n",
       "<polygon fill=\"#ff0000\" stroke=\"#ff0000\" points=\"2827.9702,-1597.9397 2817.4392,-1599.1014 2826.3961,-1604.7604 2827.9702,-1597.9397\"/>\n",
       "<text text-anchor=\"middle\" x=\"2957.5\" y=\"-1620.8\" font-family=\"Times,serif\" font-size=\"14.00\" fill=\"#000000\">0</text>\n",
       "</g>\n",
       "<!-- 88 -->\n",
       "<g id=\"node89\" class=\"node\">\n",
       "<title>88</title>\n",
       "<text text-anchor=\"middle\" x=\"3071.5\" y=\"-1587.8\" font-family=\"Times,serif\" font-size=\"14.00\" fill=\"#000000\">(23) str.substr(cgi_decode_s_str_1, 3, 1) == &quot;0&quot;</text>\n",
       "</g>\n",
       "<!-- 38&#45;&gt;88 -->\n",
       "<g id=\"edge88\" class=\"edge\">\n",
       "<title>38&#45;&gt;88</title>\n",
       "<path fill=\"none\" stroke=\"#0000ff\" d=\"M3070.6147,-1649.929C3070.7623,-1640.1869 3071.0236,-1622.9428 3071.2242,-1609.7046\"/>\n",
       "<polygon fill=\"#0000ff\" stroke=\"#0000ff\" points=\"3074.7284,-1609.4434 3071.3804,-1599.3915 3067.7292,-1609.3373 3074.7284,-1609.4434\"/>\n",
       "<text text-anchor=\"middle\" x=\"3075.5\" y=\"-1620.8\" font-family=\"Times,serif\" font-size=\"14.00\" fill=\"#000000\">1</text>\n",
       "</g>\n",
       "<!-- 40 -->\n",
       "<g id=\"node41\" class=\"node\">\n",
       "<title>40</title>\n",
       "<text text-anchor=\"middle\" x=\"2643.5\" y=\"-1521.8\" font-family=\"Times,serif\" font-size=\"14.00\" fill=\"#000000\">(24) str.substr(cgi_decode_s_str_1, 2, 1) == &quot;F&quot;</text>\n",
       "</g>\n",
       "<!-- 39&#45;&gt;40 -->\n",
       "<g id=\"edge40\" class=\"edge\">\n",
       "<title>39&#45;&gt;40</title>\n",
       "<path fill=\"none\" stroke=\"#ff0000\" d=\"M2768.3255,-1583.929C2744.0194,-1572.5516 2697.8537,-1550.9422 2668.9892,-1537.4311\"/>\n",
       "<polygon fill=\"#ff0000\" stroke=\"#ff0000\" points=\"2670.4609,-1534.2556 2659.9202,-1533.186 2667.4933,-1540.5954 2670.4609,-1534.2556\"/>\n",
       "<text text-anchor=\"middle\" x=\"2731.5\" y=\"-1554.8\" font-family=\"Times,serif\" font-size=\"14.00\" fill=\"#000000\">0</text>\n",
       "</g>\n",
       "<!-- 87 -->\n",
       "<g id=\"node88\" class=\"node\">\n",
       "<title>87</title>\n",
       "<text text-anchor=\"middle\" x=\"2799.5\" y=\"-1521.8\" font-family=\"Times,serif\" font-size=\"14.00\" fill=\"#000000\">?</text>\n",
       "</g>\n",
       "<!-- 39&#45;&gt;87 -->\n",
       "<g id=\"edge87\" class=\"edge\">\n",
       "<title>39&#45;&gt;87</title>\n",
       "<path fill=\"none\" stroke=\"#0000ff\" d=\"M2786.2207,-1583.929C2788.4571,-1574.0885 2792.4333,-1556.5937 2795.4535,-1543.3047\"/>\n",
       "<polygon fill=\"#0000ff\" stroke=\"#0000ff\" points=\"2798.9032,-1543.9185 2797.7065,-1533.3915 2792.0772,-1542.3671 2798.9032,-1543.9185\"/>\n",
       "<text text-anchor=\"middle\" x=\"2797.5\" y=\"-1554.8\" font-family=\"Times,serif\" font-size=\"14.00\" fill=\"#000000\">1</text>\n",
       "</g>\n",
       "<!-- 41 -->\n",
       "<g id=\"node42\" class=\"node\">\n",
       "<title>41</title>\n",
       "<text text-anchor=\"middle\" x=\"2502.5\" y=\"-1455.8\" font-family=\"Times,serif\" font-size=\"14.00\" fill=\"#000000\">(25) str.substr(cgi_decode_s_str_1, 3, 1) == &quot;0&quot;</text>\n",
       "</g>\n",
       "<!-- 40&#45;&gt;41 -->\n",
       "<g id=\"edge41\" class=\"edge\">\n",
       "<title>40&#45;&gt;41</title>\n",
       "<path fill=\"none\" stroke=\"#ff0000\" d=\"M2627.3255,-1517.929C2603.0194,-1506.5516 2556.8537,-1484.9422 2527.9892,-1471.4311\"/>\n",
       "<polygon fill=\"#ff0000\" stroke=\"#ff0000\" points=\"2529.4609,-1468.2556 2518.9202,-1467.186 2526.4933,-1474.5954 2529.4609,-1468.2556\"/>\n",
       "<text text-anchor=\"middle\" x=\"2590.5\" y=\"-1488.8\" font-family=\"Times,serif\" font-size=\"14.00\" fill=\"#000000\">0</text>\n",
       "</g>\n",
       "<!-- 86 -->\n",
       "<g id=\"node87\" class=\"node\">\n",
       "<title>86</title>\n",
       "<text text-anchor=\"middle\" x=\"2658.5\" y=\"-1455.8\" font-family=\"Times,serif\" font-size=\"14.00\" fill=\"#000000\">?</text>\n",
       "</g>\n",
       "<!-- 40&#45;&gt;86 -->\n",
       "<g id=\"edge86\" class=\"edge\">\n",
       "<title>40&#45;&gt;86</title>\n",
       "<path fill=\"none\" stroke=\"#0000ff\" d=\"M2645.2207,-1517.929C2647.4571,-1508.0885 2651.4333,-1490.5937 2654.4535,-1477.3047\"/>\n",
       "<polygon fill=\"#0000ff\" stroke=\"#0000ff\" points=\"2657.9032,-1477.9185 2656.7065,-1467.3915 2651.0772,-1476.3671 2657.9032,-1477.9185\"/>\n",
       "<text text-anchor=\"middle\" x=\"2656.5\" y=\"-1488.8\" font-family=\"Times,serif\" font-size=\"14.00\" fill=\"#000000\">1</text>\n",
       "</g>\n",
       "<!-- 42 -->\n",
       "<g id=\"node43\" class=\"node\">\n",
       "<title>42</title>\n",
       "<text text-anchor=\"middle\" x=\"2349.5\" y=\"-1389.8\" font-family=\"Times,serif\" font-size=\"14.00\" fill=\"#000000\">(26) str.substr(cgi_decode_s_str_1, 3, 1) == &quot;1&quot;</text>\n",
       "</g>\n",
       "<!-- 41&#45;&gt;42 -->\n",
       "<g id=\"edge42\" class=\"edge\">\n",
       "<title>41&#45;&gt;42</title>\n",
       "<path fill=\"none\" stroke=\"#ff0000\" d=\"M2484.949,-1451.929C2458.4596,-1440.5022 2408.0435,-1418.7541 2376.751,-1405.2553\"/>\n",
       "<polygon fill=\"#ff0000\" stroke=\"#ff0000\" points=\"2377.8861,-1401.9333 2367.3176,-1401.186 2375.1134,-1408.3607 2377.8861,-1401.9333\"/>\n",
       "<text text-anchor=\"middle\" x=\"2444.5\" y=\"-1422.8\" font-family=\"Times,serif\" font-size=\"14.00\" fill=\"#000000\">0</text>\n",
       "</g>\n",
       "<!-- 85 -->\n",
       "<g id=\"node86\" class=\"node\">\n",
       "<title>85</title>\n",
       "<text text-anchor=\"middle\" x=\"2505.5\" y=\"-1389.8\" font-family=\"Times,serif\" font-size=\"14.00\" fill=\"#000000\">?</text>\n",
       "</g>\n",
       "<!-- 41&#45;&gt;85 -->\n",
       "<g id=\"edge85\" class=\"edge\">\n",
       "<title>41&#45;&gt;85</title>\n",
       "<path fill=\"none\" stroke=\"#0000ff\" d=\"M2502.8441,-1451.929C2503.287,-1442.1869 2504.0708,-1424.9428 2504.6725,-1411.7046\"/>\n",
       "<polygon fill=\"#0000ff\" stroke=\"#0000ff\" points=\"2508.1835,-1411.5401 2505.1413,-1401.3915 2501.1907,-1411.2222 2508.1835,-1411.5401\"/>\n",
       "<text text-anchor=\"middle\" x=\"2508.5\" y=\"-1422.8\" font-family=\"Times,serif\" font-size=\"14.00\" fill=\"#000000\">1</text>\n",
       "</g>\n",
       "<!-- 43 -->\n",
       "<g id=\"node44\" class=\"node\">\n",
       "<title>43</title>\n",
       "<text text-anchor=\"middle\" x=\"2193.5\" y=\"-1323.8\" font-family=\"Times,serif\" font-size=\"14.00\" fill=\"#000000\">(27) str.substr(cgi_decode_s_str_1, 3, 1) == &quot;2&quot;</text>\n",
       "</g>\n",
       "<!-- 42&#45;&gt;43 -->\n",
       "<g id=\"edge43\" class=\"edge\">\n",
       "<title>42&#45;&gt;43</title>\n",
       "<path fill=\"none\" stroke=\"#ff0000\" d=\"M2331.6048,-1385.929C2304.596,-1374.5022 2253.1914,-1352.7541 2221.2853,-1339.2553\"/>\n",
       "<polygon fill=\"#ff0000\" stroke=\"#ff0000\" points=\"2222.2404,-1335.8591 2211.667,-1335.186 2219.5129,-1342.3059 2222.2404,-1335.8591\"/>\n",
       "<text text-anchor=\"middle\" x=\"2289.5\" y=\"-1356.8\" font-family=\"Times,serif\" font-size=\"14.00\" fill=\"#000000\">0</text>\n",
       "</g>\n",
       "<!-- 84 -->\n",
       "<g id=\"node85\" class=\"node\">\n",
       "<title>84</title>\n",
       "<text text-anchor=\"middle\" x=\"2349.5\" y=\"-1323.8\" font-family=\"Times,serif\" font-size=\"14.00\" fill=\"#000000\">?</text>\n",
       "</g>\n",
       "<!-- 42&#45;&gt;84 -->\n",
       "<g id=\"edge84\" class=\"edge\">\n",
       "<title>42&#45;&gt;84</title>\n",
       "<path fill=\"none\" stroke=\"#0000ff\" d=\"M2349.5,-1385.929C2349.5,-1376.1869 2349.5,-1358.9428 2349.5,-1345.7046\"/>\n",
       "<polygon fill=\"#0000ff\" stroke=\"#0000ff\" points=\"2353.0001,-1345.3915 2349.5,-1335.3915 2346.0001,-1345.3915 2353.0001,-1345.3915\"/>\n",
       "<text text-anchor=\"middle\" x=\"2353.5\" y=\"-1356.8\" font-family=\"Times,serif\" font-size=\"14.00\" fill=\"#000000\">1</text>\n",
       "</g>\n",
       "<!-- 44 -->\n",
       "<g id=\"node45\" class=\"node\">\n",
       "<title>44</title>\n",
       "<text text-anchor=\"middle\" x=\"2082.5\" y=\"-1257.8\" font-family=\"Times,serif\" font-size=\"14.00\" fill=\"#000000\">(28) str.substr(cgi_decode_s_str_1, 3, 1) == &quot;3&quot;</text>\n",
       "</g>\n",
       "<!-- 43&#45;&gt;44 -->\n",
       "<g id=\"edge44\" class=\"edge\">\n",
       "<title>43&#45;&gt;44</title>\n",
       "<path fill=\"none\" stroke=\"#ff0000\" d=\"M2180.7669,-1319.929C2162.0483,-1308.799 2126.8611,-1287.8769 2104.0669,-1274.3236\"/>\n",
       "<polygon fill=\"#ff0000\" stroke=\"#ff0000\" points=\"2105.8107,-1271.2885 2095.4265,-1269.186 2102.2331,-1277.3052 2105.8107,-1271.2885\"/>\n",
       "<text text-anchor=\"middle\" x=\"2152.5\" y=\"-1290.8\" font-family=\"Times,serif\" font-size=\"14.00\" fill=\"#000000\">0</text>\n",
       "</g>\n",
       "<!-- 83 -->\n",
       "<g id=\"node84\" class=\"node\">\n",
       "<title>83</title>\n",
       "<text text-anchor=\"middle\" x=\"2238.5\" y=\"-1257.8\" font-family=\"Times,serif\" font-size=\"14.00\" fill=\"#000000\">?</text>\n",
       "</g>\n",
       "<!-- 43&#45;&gt;83 -->\n",
       "<g id=\"edge83\" class=\"edge\">\n",
       "<title>43&#45;&gt;83</title>\n",
       "<path fill=\"none\" stroke=\"#0000ff\" d=\"M2198.6621,-1319.929C2206.0929,-1309.0304 2219.9253,-1288.7428 2229.1737,-1275.1785\"/>\n",
       "<polygon fill=\"#0000ff\" stroke=\"#0000ff\" points=\"2232.1991,-1276.9542 2234.9407,-1266.7203 2226.4155,-1273.0109 2232.1991,-1276.9542\"/>\n",
       "<text text-anchor=\"middle\" x=\"2224.5\" y=\"-1290.8\" font-family=\"Times,serif\" font-size=\"14.00\" fill=\"#000000\">1</text>\n",
       "</g>\n",
       "<!-- 45 -->\n",
       "<g id=\"node46\" class=\"node\">\n",
       "<title>45</title>\n",
       "<text text-anchor=\"middle\" x=\"1926.5\" y=\"-1191.8\" font-family=\"Times,serif\" font-size=\"14.00\" fill=\"#000000\">(29) str.substr(cgi_decode_s_str_1, 3, 1) == &quot;4&quot;</text>\n",
       "</g>\n",
       "<!-- 44&#45;&gt;45 -->\n",
       "<g id=\"edge45\" class=\"edge\">\n",
       "<title>44&#45;&gt;45</title>\n",
       "<path fill=\"none\" stroke=\"#ff0000\" d=\"M2064.6048,-1253.929C2037.596,-1242.5022 1986.1914,-1220.7541 1954.2853,-1207.2553\"/>\n",
       "<polygon fill=\"#ff0000\" stroke=\"#ff0000\" points=\"1955.2404,-1203.8591 1944.667,-1203.186 1952.5129,-1210.3059 1955.2404,-1203.8591\"/>\n",
       "<text text-anchor=\"middle\" x=\"2022.5\" y=\"-1224.8\" font-family=\"Times,serif\" font-size=\"14.00\" fill=\"#000000\">0</text>\n",
       "</g>\n",
       "<!-- 82 -->\n",
       "<g id=\"node83\" class=\"node\">\n",
       "<title>82</title>\n",
       "<text text-anchor=\"middle\" x=\"2082.5\" y=\"-1191.8\" font-family=\"Times,serif\" font-size=\"14.00\" fill=\"#000000\">?</text>\n",
       "</g>\n",
       "<!-- 44&#45;&gt;82 -->\n",
       "<g id=\"edge82\" class=\"edge\">\n",
       "<title>44&#45;&gt;82</title>\n",
       "<path fill=\"none\" stroke=\"#0000ff\" d=\"M2082.5,-1253.929C2082.5,-1244.1869 2082.5,-1226.9428 2082.5,-1213.7046\"/>\n",
       "<polygon fill=\"#0000ff\" stroke=\"#0000ff\" points=\"2086.0001,-1213.3915 2082.5,-1203.3915 2079.0001,-1213.3915 2086.0001,-1213.3915\"/>\n",
       "<text text-anchor=\"middle\" x=\"2086.5\" y=\"-1224.8\" font-family=\"Times,serif\" font-size=\"14.00\" fill=\"#000000\">1</text>\n",
       "</g>\n",
       "<!-- 46 -->\n",
       "<g id=\"node47\" class=\"node\">\n",
       "<title>46</title>\n",
       "<text text-anchor=\"middle\" x=\"1849.5\" y=\"-1125.8\" font-family=\"Times,serif\" font-size=\"14.00\" fill=\"#000000\">(30) str.substr(cgi_decode_s_str_1, 3, 1) == &quot;5&quot;</text>\n",
       "</g>\n",
       "<!-- 45&#45;&gt;46 -->\n",
       "<g id=\"edge46\" class=\"edge\">\n",
       "<title>45&#45;&gt;46</title>\n",
       "<path fill=\"none\" stroke=\"#ff0000\" d=\"M1917.6671,-1187.929C1905.2682,-1177.3013 1882.4531,-1157.7455 1866.6525,-1144.2021\"/>\n",
       "<polygon fill=\"#ff0000\" stroke=\"#ff0000\" points=\"1868.5771,-1141.242 1858.7067,-1137.3915 1864.0216,-1146.5568 1868.5771,-1141.242\"/>\n",
       "<text text-anchor=\"middle\" x=\"1899.5\" y=\"-1158.8\" font-family=\"Times,serif\" font-size=\"14.00\" fill=\"#000000\">0</text>\n",
       "</g>\n",
       "<!-- 81 -->\n",
       "<g id=\"node82\" class=\"node\">\n",
       "<title>81</title>\n",
       "<text text-anchor=\"middle\" x=\"2005.5\" y=\"-1125.8\" font-family=\"Times,serif\" font-size=\"14.00\" fill=\"#000000\">?</text>\n",
       "</g>\n",
       "<!-- 45&#45;&gt;81 -->\n",
       "<g id=\"edge81\" class=\"edge\">\n",
       "<title>45&#45;&gt;81</title>\n",
       "<path fill=\"none\" stroke=\"#0000ff\" d=\"M1935.5623,-1187.929C1949.9272,-1175.9279 1977.9195,-1152.5419 1993.7877,-1139.2849\"/>\n",
       "<polygon fill=\"#0000ff\" stroke=\"#0000ff\" points=\"1996.4407,-1141.6293 2001.871,-1132.5319 1991.9527,-1136.2573 1996.4407,-1141.6293\"/>\n",
       "<text text-anchor=\"middle\" x=\"1977.5\" y=\"-1158.8\" font-family=\"Times,serif\" font-size=\"14.00\" fill=\"#000000\">1</text>\n",
       "</g>\n",
       "<!-- 47 -->\n",
       "<g id=\"node48\" class=\"node\">\n",
       "<title>47</title>\n",
       "<text text-anchor=\"middle\" x=\"1791.5\" y=\"-1059.8\" font-family=\"Times,serif\" font-size=\"14.00\" fill=\"#000000\">(31) str.substr(cgi_decode_s_str_1, 3, 1) == &quot;6&quot;</text>\n",
       "</g>\n",
       "<!-- 46&#45;&gt;47 -->\n",
       "<g id=\"edge47\" class=\"edge\">\n",
       "<title>46&#45;&gt;47</title>\n",
       "<path fill=\"none\" stroke=\"#ff0000\" d=\"M1842.8467,-1121.929C1833.6802,-1111.4981 1816.9556,-1092.4667 1805.0866,-1078.9606\"/>\n",
       "<polygon fill=\"#ff0000\" stroke=\"#ff0000\" points=\"1807.6652,-1076.5928 1798.435,-1071.3915 1802.407,-1081.2136 1807.6652,-1076.5928\"/>\n",
       "<text text-anchor=\"middle\" x=\"1830.5\" y=\"-1092.8\" font-family=\"Times,serif\" font-size=\"14.00\" fill=\"#000000\">0</text>\n",
       "</g>\n",
       "<!-- 80 -->\n",
       "<g id=\"node81\" class=\"node\">\n",
       "<title>80</title>\n",
       "<text text-anchor=\"middle\" x=\"1947.5\" y=\"-1059.8\" font-family=\"Times,serif\" font-size=\"14.00\" fill=\"#000000\">?</text>\n",
       "</g>\n",
       "<!-- 46&#45;&gt;80 -->\n",
       "<g id=\"edge80\" class=\"edge\">\n",
       "<title>46&#45;&gt;80</title>\n",
       "<path fill=\"none\" stroke=\"#0000ff\" d=\"M1860.7418,-1121.929C1879.3228,-1109.4152 1916.2837,-1084.5232 1935.4087,-1071.6432\"/>\n",
       "<polygon fill=\"#0000ff\" stroke=\"#0000ff\" points=\"1937.4424,-1074.4933 1943.7817,-1066.0042 1933.5322,-1068.6872 1937.4424,-1074.4933\"/>\n",
       "<text text-anchor=\"middle\" x=\"1911.5\" y=\"-1092.8\" font-family=\"Times,serif\" font-size=\"14.00\" fill=\"#000000\">1</text>\n",
       "</g>\n",
       "<!-- 48 -->\n",
       "<g id=\"node49\" class=\"node\">\n",
       "<title>48</title>\n",
       "<text text-anchor=\"middle\" x=\"1675.5\" y=\"-993.8\" font-family=\"Times,serif\" font-size=\"14.00\" fill=\"#000000\">(32) str.substr(cgi_decode_s_str_1, 3, 1) == &quot;7&quot;</text>\n",
       "</g>\n",
       "<!-- 47&#45;&gt;48 -->\n",
       "<g id=\"edge48\" class=\"edge\">\n",
       "<title>47&#45;&gt;48</title>\n",
       "<path fill=\"none\" stroke=\"#ff0000\" d=\"M1778.1933,-1055.929C1758.5446,-1044.7495 1721.5321,-1023.6907 1697.7215,-1010.1433\"/>\n",
       "<polygon fill=\"#ff0000\" stroke=\"#ff0000\" points=\"1699.4313,-1007.0893 1689.0088,-1005.186 1695.9696,-1013.1734 1699.4313,-1007.0893\"/>\n",
       "<text text-anchor=\"middle\" x=\"1748.5\" y=\"-1026.8\" font-family=\"Times,serif\" font-size=\"14.00\" fill=\"#000000\">0</text>\n",
       "</g>\n",
       "<!-- 79 -->\n",
       "<g id=\"node80\" class=\"node\">\n",
       "<title>79</title>\n",
       "<text text-anchor=\"middle\" x=\"1831.5\" y=\"-993.8\" font-family=\"Times,serif\" font-size=\"14.00\" fill=\"#000000\">?</text>\n",
       "</g>\n",
       "<!-- 47&#45;&gt;79 -->\n",
       "<g id=\"edge79\" class=\"edge\">\n",
       "<title>47&#45;&gt;79</title>\n",
       "<path fill=\"none\" stroke=\"#0000ff\" d=\"M1796.0885,-1055.929C1802.5616,-1045.2484 1814.4997,-1025.5506 1822.7119,-1012.0003\"/>\n",
       "<polygon fill=\"#0000ff\" stroke=\"#0000ff\" points=\"1825.712,-1013.8031 1827.9018,-1003.437 1819.7256,-1010.1749 1825.712,-1013.8031\"/>\n",
       "<text text-anchor=\"middle\" x=\"1819.5\" y=\"-1026.8\" font-family=\"Times,serif\" font-size=\"14.00\" fill=\"#000000\">1</text>\n",
       "</g>\n",
       "<!-- 49 -->\n",
       "<g id=\"node50\" class=\"node\">\n",
       "<title>49</title>\n",
       "<text text-anchor=\"middle\" x=\"1560.5\" y=\"-927.8\" font-family=\"Times,serif\" font-size=\"14.00\" fill=\"#000000\">(33) str.substr(cgi_decode_s_str_1, 3, 1) == &quot;8&quot;</text>\n",
       "</g>\n",
       "<!-- 48&#45;&gt;49 -->\n",
       "<g id=\"edge49\" class=\"edge\">\n",
       "<title>48&#45;&gt;49</title>\n",
       "<path fill=\"none\" stroke=\"#ff0000\" d=\"M1662.308,-989.929C1642.9149,-978.799 1606.4597,-957.8769 1582.8441,-944.3236\"/>\n",
       "<polygon fill=\"#ff0000\" stroke=\"#ff0000\" points=\"1584.3077,-941.1281 1573.8923,-939.186 1580.8233,-947.1993 1584.3077,-941.1281\"/>\n",
       "<text text-anchor=\"middle\" x=\"1632.5\" y=\"-960.8\" font-family=\"Times,serif\" font-size=\"14.00\" fill=\"#000000\">0</text>\n",
       "</g>\n",
       "<!-- 78 -->\n",
       "<g id=\"node79\" class=\"node\">\n",
       "<title>78</title>\n",
       "<text text-anchor=\"middle\" x=\"1716.5\" y=\"-927.8\" font-family=\"Times,serif\" font-size=\"14.00\" fill=\"#000000\">?</text>\n",
       "</g>\n",
       "<!-- 48&#45;&gt;78 -->\n",
       "<g id=\"edge78\" class=\"edge\">\n",
       "<title>48&#45;&gt;78</title>\n",
       "<path fill=\"none\" stroke=\"#0000ff\" d=\"M1680.2032,-989.929C1686.8381,-979.2484 1699.0746,-959.5506 1707.4922,-946.0003\"/>\n",
       "<polygon fill=\"#0000ff\" stroke=\"#0000ff\" points=\"1710.508,-947.7783 1712.8119,-937.437 1704.5619,-944.0845 1710.508,-947.7783\"/>\n",
       "<text text-anchor=\"middle\" x=\"1704.5\" y=\"-960.8\" font-family=\"Times,serif\" font-size=\"14.00\" fill=\"#000000\">1</text>\n",
       "</g>\n",
       "<!-- 50 -->\n",
       "<g id=\"node51\" class=\"node\">\n",
       "<title>50</title>\n",
       "<text text-anchor=\"middle\" x=\"1405.5\" y=\"-861.8\" font-family=\"Times,serif\" font-size=\"14.00\" fill=\"#000000\">(34) str.substr(cgi_decode_s_str_1, 3, 1) == &quot;9&quot;</text>\n",
       "</g>\n",
       "<!-- 49&#45;&gt;50 -->\n",
       "<g id=\"edge50\" class=\"edge\">\n",
       "<title>49&#45;&gt;50</title>\n",
       "<path fill=\"none\" stroke=\"#ff0000\" d=\"M1542.7195,-923.929C1515.8839,-912.5022 1464.8088,-890.7541 1433.1072,-877.2553\"/>\n",
       "<polygon fill=\"#ff0000\" stroke=\"#ff0000\" points=\"1434.1224,-873.8836 1423.5505,-873.186 1431.38,-880.324 1434.1224,-873.8836\"/>\n",
       "<text text-anchor=\"middle\" x=\"1501.5\" y=\"-894.8\" font-family=\"Times,serif\" font-size=\"14.00\" fill=\"#000000\">0</text>\n",
       "</g>\n",
       "<!-- 77 -->\n",
       "<g id=\"node78\" class=\"node\">\n",
       "<title>77</title>\n",
       "<text text-anchor=\"middle\" x=\"1561.5\" y=\"-861.8\" font-family=\"Times,serif\" font-size=\"14.00\" fill=\"#000000\">?</text>\n",
       "</g>\n",
       "<!-- 49&#45;&gt;77 -->\n",
       "<g id=\"edge77\" class=\"edge\">\n",
       "<title>49&#45;&gt;77</title>\n",
       "<path fill=\"none\" stroke=\"#0000ff\" d=\"M1560.6147,-923.929C1560.7623,-914.1869 1561.0236,-896.9428 1561.2242,-883.7046\"/>\n",
       "<polygon fill=\"#0000ff\" stroke=\"#0000ff\" points=\"1564.7284,-883.4434 1561.3804,-873.3915 1557.7292,-883.3373 1564.7284,-883.4434\"/>\n",
       "<text text-anchor=\"middle\" x=\"1565.5\" y=\"-894.8\" font-family=\"Times,serif\" font-size=\"14.00\" fill=\"#000000\">1</text>\n",
       "</g>\n",
       "<!-- 51 -->\n",
       "<g id=\"node52\" class=\"node\">\n",
       "<title>51</title>\n",
       "<text text-anchor=\"middle\" x=\"1270.5\" y=\"-795.8\" font-family=\"Times,serif\" font-size=\"14.00\" fill=\"#000000\">(35) str.substr(cgi_decode_s_str_1, 3, 1) == &quot;a&quot;</text>\n",
       "</g>\n",
       "<!-- 50&#45;&gt;51 -->\n",
       "<g id=\"edge51\" class=\"edge\">\n",
       "<title>50&#45;&gt;51</title>\n",
       "<path fill=\"none\" stroke=\"#ff0000\" d=\"M1390.0138,-857.929C1366.8432,-846.6011 1322.9247,-825.1299 1295.2659,-811.6078\"/>\n",
       "<polygon fill=\"#ff0000\" stroke=\"#ff0000\" points=\"1296.7425,-808.4338 1286.2214,-807.186 1293.668,-814.7225 1296.7425,-808.4338\"/>\n",
       "<text text-anchor=\"middle\" x=\"1354.5\" y=\"-828.8\" font-family=\"Times,serif\" font-size=\"14.00\" fill=\"#000000\">0</text>\n",
       "</g>\n",
       "<!-- 76 -->\n",
       "<g id=\"node77\" class=\"node\">\n",
       "<title>76</title>\n",
       "<text text-anchor=\"middle\" x=\"1425.5\" y=\"-795.8\" font-family=\"Times,serif\" font-size=\"14.00\" fill=\"#000000\">?</text>\n",
       "</g>\n",
       "<!-- 50&#45;&gt;76 -->\n",
       "<g id=\"edge76\" class=\"edge\">\n",
       "<title>50&#45;&gt;76</title>\n",
       "<path fill=\"none\" stroke=\"#0000ff\" d=\"M1407.7943,-857.929C1410.7762,-848.0885 1416.0777,-830.5937 1420.1046,-817.3047\"/>\n",
       "<polygon fill=\"#0000ff\" stroke=\"#0000ff\" points=\"1423.5581,-817.9768 1423.1086,-807.3915 1416.8589,-815.9467 1423.5581,-817.9768\"/>\n",
       "<text text-anchor=\"middle\" x=\"1421.5\" y=\"-828.8\" font-family=\"Times,serif\" font-size=\"14.00\" fill=\"#000000\">1</text>\n",
       "</g>\n",
       "<!-- 52 -->\n",
       "<g id=\"node53\" class=\"node\">\n",
       "<title>52</title>\n",
       "<text text-anchor=\"middle\" x=\"1192.5\" y=\"-729.8\" font-family=\"Times,serif\" font-size=\"14.00\" fill=\"#000000\">(36) str.substr(cgi_decode_s_str_1, 3, 1) == &quot;b&quot;</text>\n",
       "</g>\n",
       "<!-- 51&#45;&gt;52 -->\n",
       "<g id=\"edge52\" class=\"edge\">\n",
       "<title>51&#45;&gt;52</title>\n",
       "<path fill=\"none\" stroke=\"#ff0000\" d=\"M1261.5524,-791.929C1248.9925,-781.3013 1225.881,-761.7455 1209.8753,-748.2021\"/>\n",
       "<polygon fill=\"#ff0000\" stroke=\"#ff0000\" points=\"1211.721,-745.1791 1201.8263,-741.3915 1207.1994,-750.5228 1211.721,-745.1791\"/>\n",
       "<text text-anchor=\"middle\" x=\"1242.5\" y=\"-762.8\" font-family=\"Times,serif\" font-size=\"14.00\" fill=\"#000000\">0</text>\n",
       "</g>\n",
       "<!-- 75 -->\n",
       "<g id=\"node76\" class=\"node\">\n",
       "<title>75</title>\n",
       "<text text-anchor=\"middle\" x=\"1348.5\" y=\"-729.8\" font-family=\"Times,serif\" font-size=\"14.00\" fill=\"#000000\">?</text>\n",
       "</g>\n",
       "<!-- 51&#45;&gt;75 -->\n",
       "<g id=\"edge75\" class=\"edge\">\n",
       "<title>51&#45;&gt;75</title>\n",
       "<path fill=\"none\" stroke=\"#0000ff\" d=\"M1279.4476,-791.929C1293.6307,-779.9279 1321.2686,-756.5419 1336.936,-743.2849\"/>\n",
       "<polygon fill=\"#0000ff\" stroke=\"#0000ff\" points=\"1339.5438,-745.6632 1344.9169,-736.5319 1335.0222,-740.3195 1339.5438,-745.6632\"/>\n",
       "<text text-anchor=\"middle\" x=\"1320.5\" y=\"-762.8\" font-family=\"Times,serif\" font-size=\"14.00\" fill=\"#000000\">1</text>\n",
       "</g>\n",
       "<!-- 53 -->\n",
       "<g id=\"node54\" class=\"node\">\n",
       "<title>53</title>\n",
       "<text text-anchor=\"middle\" x=\"1066.5\" y=\"-663.8\" font-family=\"Times,serif\" font-size=\"14.00\" fill=\"#000000\">(37) str.substr(cgi_decode_s_str_1, 3, 1) == &quot;c&quot;</text>\n",
       "</g>\n",
       "<!-- 52&#45;&gt;53 -->\n",
       "<g id=\"edge53\" class=\"edge\">\n",
       "<title>52&#45;&gt;53</title>\n",
       "<path fill=\"none\" stroke=\"#ff0000\" d=\"M1178.0462,-725.929C1156.6092,-714.7 1116.1443,-693.5041 1090.2947,-679.9639\"/>\n",
       "<polygon fill=\"#ff0000\" stroke=\"#ff0000\" points=\"1091.6557,-676.7257 1081.1733,-675.186 1088.4076,-682.9266 1091.6557,-676.7257\"/>\n",
       "<text text-anchor=\"middle\" x=\"1145.5\" y=\"-696.8\" font-family=\"Times,serif\" font-size=\"14.00\" fill=\"#000000\">0</text>\n",
       "</g>\n",
       "<!-- 74 -->\n",
       "<g id=\"node75\" class=\"node\">\n",
       "<title>74</title>\n",
       "<text text-anchor=\"middle\" x=\"1221.5\" y=\"-663.8\" font-family=\"Times,serif\" font-size=\"14.00\" fill=\"#000000\">?</text>\n",
       "</g>\n",
       "<!-- 52&#45;&gt;74 -->\n",
       "<g id=\"edge74\" class=\"edge\">\n",
       "<title>52&#45;&gt;74</title>\n",
       "<path fill=\"none\" stroke=\"#0000ff\" d=\"M1195.8267,-725.929C1200.1937,-715.9901 1207.9917,-698.243 1213.8513,-684.9073\"/>\n",
       "<polygon fill=\"#0000ff\" stroke=\"#0000ff\" points=\"1217.2141,-685.9547 1218.0325,-675.3915 1210.8054,-683.1387 1217.2141,-685.9547\"/>\n",
       "<text text-anchor=\"middle\" x=\"1214.5\" y=\"-696.8\" font-family=\"Times,serif\" font-size=\"14.00\" fill=\"#000000\">1</text>\n",
       "</g>\n",
       "<!-- 54 -->\n",
       "<g id=\"node55\" class=\"node\">\n",
       "<title>54</title>\n",
       "<text text-anchor=\"middle\" x=\"998.5\" y=\"-597.8\" font-family=\"Times,serif\" font-size=\"14.00\" fill=\"#000000\">(38) str.substr(cgi_decode_s_str_1, 3, 1) == &quot;d&quot;</text>\n",
       "</g>\n",
       "<!-- 53&#45;&gt;54 -->\n",
       "<g id=\"edge54\" class=\"edge\">\n",
       "<title>53&#45;&gt;54</title>\n",
       "<path fill=\"none\" stroke=\"#ff0000\" d=\"M1058.6995,-659.929C1047.8512,-649.3997 1027.9738,-630.1069 1014.0368,-616.5799\"/>\n",
       "<polygon fill=\"#ff0000\" stroke=\"#ff0000\" points=\"1016.2441,-613.8447 1006.6306,-609.3915 1011.3688,-618.8678 1016.2441,-613.8447\"/>\n",
       "<text text-anchor=\"middle\" x=\"1043.5\" y=\"-630.8\" font-family=\"Times,serif\" font-size=\"14.00\" fill=\"#000000\">0</text>\n",
       "</g>\n",
       "<!-- 73 -->\n",
       "<g id=\"node74\" class=\"node\">\n",
       "<title>73</title>\n",
       "<text text-anchor=\"middle\" x=\"1154.5\" y=\"-597.8\" font-family=\"Times,serif\" font-size=\"14.00\" fill=\"#000000\">?</text>\n",
       "</g>\n",
       "<!-- 53&#45;&gt;73 -->\n",
       "<g id=\"edge73\" class=\"edge\">\n",
       "<title>53&#45;&gt;73</title>\n",
       "<path fill=\"none\" stroke=\"#0000ff\" d=\"M1076.5947,-659.929C1092.8981,-647.7014 1124.9595,-623.6554 1142.4393,-610.5455\"/>\n",
       "<polygon fill=\"#0000ff\" stroke=\"#0000ff\" points=\"1144.9169,-613.0624 1150.8169,-604.2624 1140.7168,-607.4624 1144.9169,-613.0624\"/>\n",
       "<text text-anchor=\"middle\" x=\"1122.5\" y=\"-630.8\" font-family=\"Times,serif\" font-size=\"14.00\" fill=\"#000000\">1</text>\n",
       "</g>\n",
       "<!-- 55 -->\n",
       "<g id=\"node56\" class=\"node\">\n",
       "<title>55</title>\n",
       "<text text-anchor=\"middle\" x=\"889.5\" y=\"-531.8\" font-family=\"Times,serif\" font-size=\"14.00\" fill=\"#000000\">(39) str.substr(cgi_decode_s_str_1, 3, 1) == &quot;e&quot;</text>\n",
       "</g>\n",
       "<!-- 54&#45;&gt;55 -->\n",
       "<g id=\"edge55\" class=\"edge\">\n",
       "<title>54&#45;&gt;55</title>\n",
       "<path fill=\"none\" stroke=\"#ff0000\" d=\"M985.9963,-593.929C967.6967,-582.8484 933.3686,-562.0626 910.9775,-548.5047\"/>\n",
       "<polygon fill=\"#ff0000\" stroke=\"#ff0000\" points=\"912.5606,-545.3717 902.1936,-543.186 908.9349,-551.3596 912.5606,-545.3717\"/>\n",
       "<text text-anchor=\"middle\" x=\"958.5\" y=\"-564.8\" font-family=\"Times,serif\" font-size=\"14.00\" fill=\"#000000\">0</text>\n",
       "</g>\n",
       "<!-- 72 -->\n",
       "<g id=\"node73\" class=\"node\">\n",
       "<title>72</title>\n",
       "<text text-anchor=\"middle\" x=\"1044.5\" y=\"-531.8\" font-family=\"Times,serif\" font-size=\"14.00\" fill=\"#000000\">?</text>\n",
       "</g>\n",
       "<!-- 54&#45;&gt;72 -->\n",
       "<g id=\"edge72\" class=\"edge\">\n",
       "<title>54&#45;&gt;72</title>\n",
       "<path fill=\"none\" stroke=\"#0000ff\" d=\"M1003.7768,-593.929C1011.3727,-583.0304 1025.5126,-562.7428 1034.9665,-549.1785\"/>\n",
       "<polygon fill=\"#0000ff\" stroke=\"#0000ff\" points=\"1038.0151,-550.9255 1040.8616,-540.7203 1032.2723,-546.923 1038.0151,-550.9255\"/>\n",
       "<text text-anchor=\"middle\" x=\"1030.5\" y=\"-564.8\" font-family=\"Times,serif\" font-size=\"14.00\" fill=\"#000000\">1</text>\n",
       "</g>\n",
       "<!-- 56 -->\n",
       "<g id=\"node57\" class=\"node\">\n",
       "<title>56</title>\n",
       "<text text-anchor=\"middle\" x=\"747.5\" y=\"-465.8\" font-family=\"Times,serif\" font-size=\"14.00\" fill=\"#000000\">(40) str.substr(cgi_decode_s_str_1, 3, 1) == &quot;f&quot;</text>\n",
       "</g>\n",
       "<!-- 55&#45;&gt;56 -->\n",
       "<g id=\"edge56\" class=\"edge\">\n",
       "<title>55&#45;&gt;56</title>\n",
       "<path fill=\"none\" stroke=\"#ff0000\" d=\"M873.2108,-527.929C848.7323,-516.5516 802.2392,-494.9422 773.1699,-481.4311\"/>\n",
       "<polygon fill=\"#ff0000\" stroke=\"#ff0000\" points=\"774.5802,-478.227 764.0366,-477.186 771.6298,-484.5749 774.5802,-478.227\"/>\n",
       "<text text-anchor=\"middle\" x=\"835.5\" y=\"-498.8\" font-family=\"Times,serif\" font-size=\"14.00\" fill=\"#000000\">0</text>\n",
       "</g>\n",
       "<!-- 71 -->\n",
       "<g id=\"node72\" class=\"node\">\n",
       "<title>71</title>\n",
       "<text text-anchor=\"middle\" x=\"902.5\" y=\"-465.8\" font-family=\"Times,serif\" font-size=\"14.00\" fill=\"#000000\">?</text>\n",
       "</g>\n",
       "<!-- 55&#45;&gt;71 -->\n",
       "<g id=\"edge71\" class=\"edge\">\n",
       "<title>55&#45;&gt;71</title>\n",
       "<path fill=\"none\" stroke=\"#0000ff\" d=\"M890.9913,-527.929C892.9295,-518.0885 896.3755,-500.5937 898.993,-487.3047\"/>\n",
       "<polygon fill=\"#0000ff\" stroke=\"#0000ff\" points=\"902.447,-487.8794 900.9456,-477.3915 895.579,-486.5266 902.447,-487.8794\"/>\n",
       "<text text-anchor=\"middle\" x=\"901.5\" y=\"-498.8\" font-family=\"Times,serif\" font-size=\"14.00\" fill=\"#000000\">1</text>\n",
       "</g>\n",
       "<!-- 57 -->\n",
       "<g id=\"node58\" class=\"node\">\n",
       "<title>57</title>\n",
       "<text text-anchor=\"middle\" x=\"625.5\" y=\"-399.8\" font-family=\"Times,serif\" font-size=\"14.00\" fill=\"#000000\">(41) str.substr(cgi_decode_s_str_1, 3, 1) == &quot;A&quot;</text>\n",
       "</g>\n",
       "<!-- 56&#45;&gt;57 -->\n",
       "<g id=\"edge57\" class=\"edge\">\n",
       "<title>56&#45;&gt;57</title>\n",
       "<path fill=\"none\" stroke=\"#ff0000\" d=\"M733.505,-461.929C712.7486,-450.7 673.5683,-429.5041 648.5393,-415.9639\"/>\n",
       "<polygon fill=\"#ff0000\" stroke=\"#ff0000\" points=\"650.1684,-412.8659 639.7075,-411.186 646.8376,-419.0227 650.1684,-412.8659\"/>\n",
       "<text text-anchor=\"middle\" x=\"701.5\" y=\"-432.8\" font-family=\"Times,serif\" font-size=\"14.00\" fill=\"#000000\">0</text>\n",
       "</g>\n",
       "<!-- 70 -->\n",
       "<g id=\"node71\" class=\"node\">\n",
       "<title>70</title>\n",
       "<text text-anchor=\"middle\" x=\"782.5\" y=\"-399.8\" font-family=\"Times,serif\" font-size=\"14.00\" fill=\"#000000\">?</text>\n",
       "</g>\n",
       "<!-- 56&#45;&gt;70 -->\n",
       "<g id=\"edge70\" class=\"edge\">\n",
       "<title>56&#45;&gt;70</title>\n",
       "<path fill=\"none\" stroke=\"#0000ff\" d=\"M751.5149,-461.929C757.0094,-451.568 767.0039,-432.7212 774.1569,-419.2326\"/>\n",
       "<polygon fill=\"#0000ff\" stroke=\"#0000ff\" points=\"777.3584,-420.6661 778.9514,-410.1916 771.1742,-417.3865 777.3584,-420.6661\"/>\n",
       "<text text-anchor=\"middle\" x=\"772.5\" y=\"-432.8\" font-family=\"Times,serif\" font-size=\"14.00\" fill=\"#000000\">1</text>\n",
       "</g>\n",
       "<!-- 58 -->\n",
       "<g id=\"node59\" class=\"node\">\n",
       "<title>58</title>\n",
       "<text text-anchor=\"middle\" x=\"551.5\" y=\"-333.8\" font-family=\"Times,serif\" font-size=\"14.00\" fill=\"#000000\">(42) str.substr(cgi_decode_s_str_1, 3, 1) == &quot;B&quot;</text>\n",
       "</g>\n",
       "<!-- 57&#45;&gt;58 -->\n",
       "<g id=\"edge58\" class=\"edge\">\n",
       "<title>57&#45;&gt;58</title>\n",
       "<path fill=\"none\" stroke=\"#ff0000\" d=\"M617.0113,-395.929C605.0954,-385.3013 583.1692,-365.7455 567.9842,-352.2021\"/>\n",
       "<polygon fill=\"#ff0000\" stroke=\"#ff0000\" points=\"570.1407,-349.4356 560.348,-345.3915 565.4814,-354.6597 570.1407,-349.4356\"/>\n",
       "<text text-anchor=\"middle\" x=\"599.5\" y=\"-366.8\" font-family=\"Times,serif\" font-size=\"14.00\" fill=\"#000000\">0</text>\n",
       "</g>\n",
       "<!-- 69 -->\n",
       "<g id=\"node70\" class=\"node\">\n",
       "<title>69</title>\n",
       "<text text-anchor=\"middle\" x=\"708.5\" y=\"-333.8\" font-family=\"Times,serif\" font-size=\"14.00\" fill=\"#000000\">?</text>\n",
       "</g>\n",
       "<!-- 57&#45;&gt;69 -->\n",
       "<g id=\"edge69\" class=\"edge\">\n",
       "<title>57&#45;&gt;69</title>\n",
       "<path fill=\"none\" stroke=\"#0000ff\" d=\"M635.0212,-395.929C650.2558,-383.8147 680.0792,-360.0997 696.6631,-346.9125\"/>\n",
       "<polygon fill=\"#0000ff\" stroke=\"#0000ff\" points=\"699.0385,-349.4953 704.6872,-340.5319 694.6818,-344.0163 699.0385,-349.4953\"/>\n",
       "<text text-anchor=\"middle\" x=\"678.5\" y=\"-366.8\" font-family=\"Times,serif\" font-size=\"14.00\" fill=\"#000000\">1</text>\n",
       "</g>\n",
       "<!-- 59 -->\n",
       "<g id=\"node60\" class=\"node\">\n",
       "<title>59</title>\n",
       "<text text-anchor=\"middle\" x=\"431.5\" y=\"-267.8\" font-family=\"Times,serif\" font-size=\"14.00\" fill=\"#000000\">(43) str.substr(cgi_decode_s_str_1, 3, 1) == &quot;C&quot;</text>\n",
       "</g>\n",
       "<!-- 58&#45;&gt;59 -->\n",
       "<g id=\"edge59\" class=\"edge\">\n",
       "<title>58&#45;&gt;59</title>\n",
       "<path fill=\"none\" stroke=\"#ff0000\" d=\"M537.7345,-329.929C517.4082,-318.7495 479.1194,-297.6907 454.4878,-284.1433\"/>\n",
       "<polygon fill=\"#ff0000\" stroke=\"#ff0000\" points=\"455.9235,-280.9385 445.4746,-279.186 452.5501,-287.072 455.9235,-280.9385\"/>\n",
       "<text text-anchor=\"middle\" x=\"506.5\" y=\"-300.8\" font-family=\"Times,serif\" font-size=\"14.00\" fill=\"#000000\">0</text>\n",
       "</g>\n",
       "<!-- 68 -->\n",
       "<g id=\"node69\" class=\"node\">\n",
       "<title>68</title>\n",
       "<text text-anchor=\"middle\" x=\"588.5\" y=\"-267.8\" font-family=\"Times,serif\" font-size=\"14.00\" fill=\"#000000\">?</text>\n",
       "</g>\n",
       "<!-- 58&#45;&gt;68 -->\n",
       "<g id=\"edge68\" class=\"edge\">\n",
       "<title>58&#45;&gt;68</title>\n",
       "<path fill=\"none\" stroke=\"#0000ff\" d=\"M555.7444,-329.929C561.6133,-319.46 572.3391,-300.3276 579.9155,-286.8129\"/>\n",
       "<polygon fill=\"#0000ff\" stroke=\"#0000ff\" points=\"583.1256,-288.244 584.9628,-277.8097 577.0197,-284.8209 583.1256,-288.244\"/>\n",
       "<text text-anchor=\"middle\" x=\"577.5\" y=\"-300.8\" font-family=\"Times,serif\" font-size=\"14.00\" fill=\"#000000\">1</text>\n",
       "</g>\n",
       "<!-- 60 -->\n",
       "<g id=\"node61\" class=\"node\">\n",
       "<title>60</title>\n",
       "<text text-anchor=\"middle\" x=\"353.5\" y=\"-201.8\" font-family=\"Times,serif\" font-size=\"14.00\" fill=\"#000000\">(44) str.substr(cgi_decode_s_str_1, 3, 1) == &quot;D&quot;</text>\n",
       "</g>\n",
       "<!-- 59&#45;&gt;60 -->\n",
       "<g id=\"edge60\" class=\"edge\">\n",
       "<title>59&#45;&gt;60</title>\n",
       "<path fill=\"none\" stroke=\"#ff0000\" d=\"M422.5524,-263.929C409.9925,-253.3013 386.881,-233.7455 370.8753,-220.2021\"/>\n",
       "<polygon fill=\"#ff0000\" stroke=\"#ff0000\" points=\"372.721,-217.1791 362.8263,-213.3915 368.1994,-222.5228 372.721,-217.1791\"/>\n",
       "<text text-anchor=\"middle\" x=\"403.5\" y=\"-234.8\" font-family=\"Times,serif\" font-size=\"14.00\" fill=\"#000000\">0</text>\n",
       "</g>\n",
       "<!-- 67 -->\n",
       "<g id=\"node68\" class=\"node\">\n",
       "<title>67</title>\n",
       "<text text-anchor=\"middle\" x=\"510.5\" y=\"-201.8\" font-family=\"Times,serif\" font-size=\"14.00\" fill=\"#000000\">?</text>\n",
       "</g>\n",
       "<!-- 59&#45;&gt;67 -->\n",
       "<g id=\"edge67\" class=\"edge\">\n",
       "<title>59&#45;&gt;67</title>\n",
       "<path fill=\"none\" stroke=\"#0000ff\" d=\"M440.5623,-263.929C454.9272,-251.9279 482.9195,-228.5419 498.7877,-215.2849\"/>\n",
       "<polygon fill=\"#0000ff\" stroke=\"#0000ff\" points=\"501.4407,-217.6293 506.871,-208.5319 496.9527,-212.2573 501.4407,-217.6293\"/>\n",
       "<text text-anchor=\"middle\" x=\"482.5\" y=\"-234.8\" font-family=\"Times,serif\" font-size=\"14.00\" fill=\"#000000\">1</text>\n",
       "</g>\n",
       "<!-- 61 -->\n",
       "<g id=\"node62\" class=\"node\">\n",
       "<title>61</title>\n",
       "<text text-anchor=\"middle\" x=\"243.5\" y=\"-135.8\" font-family=\"Times,serif\" font-size=\"14.00\" fill=\"#000000\">(45) str.substr(cgi_decode_s_str_1, 3, 1) == &quot;E&quot;</text>\n",
       "</g>\n",
       "<!-- 60&#45;&gt;61 -->\n",
       "<g id=\"edge61\" class=\"edge\">\n",
       "<title>60&#45;&gt;61</title>\n",
       "<path fill=\"none\" stroke=\"#ff0000\" d=\"M340.8816,-197.929C322.4141,-186.8484 287.7711,-166.0626 265.1745,-152.5047\"/>\n",
       "<polygon fill=\"#ff0000\" stroke=\"#ff0000\" points=\"266.6858,-149.3298 256.3101,-147.186 263.0843,-155.3323 266.6858,-149.3298\"/>\n",
       "<text text-anchor=\"middle\" x=\"312.5\" y=\"-168.8\" font-family=\"Times,serif\" font-size=\"14.00\" fill=\"#000000\">0</text>\n",
       "</g>\n",
       "<!-- 66 -->\n",
       "<g id=\"node67\" class=\"node\">\n",
       "<title>66</title>\n",
       "<text text-anchor=\"middle\" x=\"400.5\" y=\"-135.8\" font-family=\"Times,serif\" font-size=\"14.00\" fill=\"#000000\">?</text>\n",
       "</g>\n",
       "<!-- 60&#45;&gt;66 -->\n",
       "<g id=\"edge66\" class=\"edge\">\n",
       "<title>60&#45;&gt;66</title>\n",
       "<path fill=\"none\" stroke=\"#0000ff\" d=\"M358.8915,-197.929C366.6526,-187.0304 381.0998,-166.7428 390.7592,-153.1785\"/>\n",
       "<polygon fill=\"#0000ff\" stroke=\"#0000ff\" points=\"393.8328,-154.8962 396.7825,-144.7203 388.1308,-150.8357 393.8328,-154.8962\"/>\n",
       "<text text-anchor=\"middle\" x=\"385.5\" y=\"-168.8\" font-family=\"Times,serif\" font-size=\"14.00\" fill=\"#000000\">1</text>\n",
       "</g>\n",
       "<!-- 62 -->\n",
       "<g id=\"node63\" class=\"node\">\n",
       "<title>62</title>\n",
       "<text text-anchor=\"middle\" x=\"134.5\" y=\"-69.8\" font-family=\"Times,serif\" font-size=\"14.00\" fill=\"#000000\">(46) str.substr(cgi_decode_s_str_1, 3, 1) == &quot;F&quot;</text>\n",
       "</g>\n",
       "<!-- 61&#45;&gt;62 -->\n",
       "<g id=\"edge62\" class=\"edge\">\n",
       "<title>61&#45;&gt;62</title>\n",
       "<path fill=\"none\" stroke=\"#ff0000\" d=\"M230.9963,-131.929C212.6967,-120.8484 178.3686,-100.0626 155.9775,-86.5047\"/>\n",
       "<polygon fill=\"#ff0000\" stroke=\"#ff0000\" points=\"157.5606,-83.3717 147.1936,-81.186 153.9349,-89.3596 157.5606,-83.3717\"/>\n",
       "<text text-anchor=\"middle\" x=\"203.5\" y=\"-102.8\" font-family=\"Times,serif\" font-size=\"14.00\" fill=\"#000000\">0</text>\n",
       "</g>\n",
       "<!-- 65 -->\n",
       "<g id=\"node66\" class=\"node\">\n",
       "<title>65</title>\n",
       "<text text-anchor=\"middle\" x=\"290.5\" y=\"-69.8\" font-family=\"Times,serif\" font-size=\"14.00\" fill=\"#000000\">?</text>\n",
       "</g>\n",
       "<!-- 61&#45;&gt;65 -->\n",
       "<g id=\"edge65\" class=\"edge\">\n",
       "<title>61&#45;&gt;65</title>\n",
       "<path fill=\"none\" stroke=\"#0000ff\" d=\"M248.8915,-131.929C256.6526,-121.0304 271.0998,-100.7428 280.7592,-87.1785\"/>\n",
       "<polygon fill=\"#0000ff\" stroke=\"#0000ff\" points=\"283.8328,-88.8962 286.7825,-78.7203 278.1308,-84.8357 283.8328,-88.8962\"/>\n",
       "<text text-anchor=\"middle\" x=\"275.5\" y=\"-102.8\" font-family=\"Times,serif\" font-size=\"14.00\" fill=\"#000000\">1</text>\n",
       "</g>\n",
       "<!-- 63 -->\n",
       "<g id=\"node64\" class=\"node\">\n",
       "<title>63</title>\n",
       "<text text-anchor=\"middle\" x=\"110.5\" y=\"-3.8\" font-family=\"Times,serif\" font-size=\"14.00\" fill=\"#000000\">* +%\\x00</text>\n",
       "</g>\n",
       "<!-- 62&#45;&gt;63 -->\n",
       "<g id=\"edge63\" class=\"edge\">\n",
       "<title>62&#45;&gt;63</title>\n",
       "<path fill=\"none\" stroke=\"#ff0000\" d=\"M131.7469,-65.929C128.1328,-55.9901 121.6793,-38.243 116.8299,-24.9073\"/>\n",
       "<polygon fill=\"#ff0000\" stroke=\"#ff0000\" points=\"120.0764,-23.5933 113.3696,-15.3915 113.4979,-25.9856 120.0764,-23.5933\"/>\n",
       "<text text-anchor=\"middle\" x=\"129.5\" y=\"-36.8\" font-family=\"Times,serif\" font-size=\"14.00\" fill=\"#000000\">0</text>\n",
       "</g>\n",
       "<!-- 64 -->\n",
       "<g id=\"node65\" class=\"node\">\n",
       "<title>64</title>\n",
       "<text text-anchor=\"middle\" x=\"159.5\" y=\"-3.8\" font-family=\"Times,serif\" font-size=\"14.00\" fill=\"#000000\">?</text>\n",
       "</g>\n",
       "<!-- 62&#45;&gt;64 -->\n",
       "<g id=\"edge64\" class=\"edge\">\n",
       "<title>62&#45;&gt;64</title>\n",
       "<path fill=\"none\" stroke=\"#0000ff\" d=\"M137.3678,-65.929C141.1325,-55.9901 147.8549,-38.243 152.9063,-24.9073\"/>\n",
       "<polygon fill=\"#0000ff\" stroke=\"#0000ff\" points=\"156.2415,-25.9829 156.5108,-15.3915 149.6954,-23.5033 156.2415,-25.9829\"/>\n",
       "<text text-anchor=\"middle\" x=\"153.5\" y=\"-36.8\" font-family=\"Times,serif\" font-size=\"14.00\" fill=\"#000000\">1</text>\n",
       "</g>\n",
       "<!-- 89 -->\n",
       "<g id=\"node90\" class=\"node\">\n",
       "<title>89</title>\n",
       "<text text-anchor=\"middle\" x=\"2955.5\" y=\"-1521.8\" font-family=\"Times,serif\" font-size=\"14.00\" fill=\"#000000\">(24) str.substr(cgi_decode_s_str_1, 3, 1) == &quot;1&quot;</text>\n",
       "</g>\n",
       "<!-- 88&#45;&gt;89 -->\n",
       "<g id=\"edge89\" class=\"edge\">\n",
       "<title>88&#45;&gt;89</title>\n",
       "<path fill=\"none\" stroke=\"#ff0000\" d=\"M3058.1933,-1583.929C3038.5446,-1572.7495 3001.5321,-1551.6907 2977.7215,-1538.1433\"/>\n",
       "<polygon fill=\"#ff0000\" stroke=\"#ff0000\" points=\"2979.4313,-1535.0893 2969.0088,-1533.186 2975.9696,-1541.1734 2979.4313,-1535.0893\"/>\n",
       "<text text-anchor=\"middle\" x=\"3028.5\" y=\"-1554.8\" font-family=\"Times,serif\" font-size=\"14.00\" fill=\"#000000\">0</text>\n",
       "</g>\n",
       "<!-- 132 -->\n",
       "<g id=\"node133\" class=\"node\">\n",
       "<title>132</title>\n",
       "<text text-anchor=\"middle\" x=\"3111.5\" y=\"-1521.8\" font-family=\"Times,serif\" font-size=\"14.00\" fill=\"#000000\">?</text>\n",
       "</g>\n",
       "<!-- 88&#45;&gt;132 -->\n",
       "<g id=\"edge132\" class=\"edge\">\n",
       "<title>88&#45;&gt;132</title>\n",
       "<path fill=\"none\" stroke=\"#0000ff\" d=\"M3076.0885,-1583.929C3082.5616,-1573.2484 3094.4997,-1553.5506 3102.7119,-1540.0003\"/>\n",
       "<polygon fill=\"#0000ff\" stroke=\"#0000ff\" points=\"3105.712,-1541.8031 3107.9018,-1531.437 3099.7256,-1538.1749 3105.712,-1541.8031\"/>\n",
       "<text text-anchor=\"middle\" x=\"3099.5\" y=\"-1554.8\" font-family=\"Times,serif\" font-size=\"14.00\" fill=\"#000000\">1</text>\n",
       "</g>\n",
       "<!-- 90 -->\n",
       "<g id=\"node91\" class=\"node\">\n",
       "<title>90</title>\n",
       "<text text-anchor=\"middle\" x=\"2815.5\" y=\"-1455.8\" font-family=\"Times,serif\" font-size=\"14.00\" fill=\"#000000\">(25) str.substr(cgi_decode_s_str_1, 3, 1) == &quot;2&quot;</text>\n",
       "</g>\n",
       "<!-- 89&#45;&gt;90 -->\n",
       "<g id=\"edge90\" class=\"edge\">\n",
       "<title>89&#45;&gt;90</title>\n",
       "<path fill=\"none\" stroke=\"#ff0000\" d=\"M2939.4402,-1517.929C2915.4114,-1506.6011 2869.8664,-1485.1299 2841.1832,-1471.6078\"/>\n",
       "<polygon fill=\"#ff0000\" stroke=\"#ff0000\" points=\"2842.3415,-1468.2844 2831.8037,-1467.186 2839.3565,-1474.6161 2842.3415,-1468.2844\"/>\n",
       "<text text-anchor=\"middle\" x=\"2902.5\" y=\"-1488.8\" font-family=\"Times,serif\" font-size=\"14.00\" fill=\"#000000\">0</text>\n",
       "</g>\n",
       "<!-- 131 -->\n",
       "<g id=\"node132\" class=\"node\">\n",
       "<title>131</title>\n",
       "<text text-anchor=\"middle\" x=\"2971.5\" y=\"-1455.8\" font-family=\"Times,serif\" font-size=\"14.00\" fill=\"#000000\">?</text>\n",
       "</g>\n",
       "<!-- 89&#45;&gt;131 -->\n",
       "<g id=\"edge131\" class=\"edge\">\n",
       "<title>89&#45;&gt;131</title>\n",
       "<path fill=\"none\" stroke=\"#0000ff\" d=\"M2957.3354,-1517.929C2959.721,-1508.0885 2963.9621,-1490.5937 2967.1837,-1477.3047\"/>\n",
       "<polygon fill=\"#0000ff\" stroke=\"#0000ff\" points=\"2970.6323,-1477.9346 2969.5869,-1467.3915 2963.8294,-1476.2854 2970.6323,-1477.9346\"/>\n",
       "<text text-anchor=\"middle\" x=\"2969.5\" y=\"-1488.8\" font-family=\"Times,serif\" font-size=\"14.00\" fill=\"#000000\">1</text>\n",
       "</g>\n",
       "<!-- 91 -->\n",
       "<g id=\"node92\" class=\"node\">\n",
       "<title>91</title>\n",
       "<text text-anchor=\"middle\" x=\"2663.5\" y=\"-1389.8\" font-family=\"Times,serif\" font-size=\"14.00\" fill=\"#000000\">(26) str.substr(cgi_decode_s_str_1, 3, 1) == &quot;3&quot;</text>\n",
       "</g>\n",
       "<!-- 90&#45;&gt;91 -->\n",
       "<g id=\"edge91\" class=\"edge\">\n",
       "<title>90&#45;&gt;91</title>\n",
       "<path fill=\"none\" stroke=\"#ff0000\" d=\"M2798.0637,-1451.929C2771.7474,-1440.5022 2721.6608,-1418.7541 2690.5729,-1405.2553\"/>\n",
       "<polygon fill=\"#ff0000\" stroke=\"#ff0000\" points=\"2691.7678,-1401.9585 2681.2012,-1401.186 2688.9798,-1408.3794 2691.7678,-1401.9585\"/>\n",
       "<text text-anchor=\"middle\" x=\"2757.5\" y=\"-1422.8\" font-family=\"Times,serif\" font-size=\"14.00\" fill=\"#000000\">0</text>\n",
       "</g>\n",
       "<!-- 130 -->\n",
       "<g id=\"node131\" class=\"node\">\n",
       "<title>130</title>\n",
       "<text text-anchor=\"middle\" x=\"2819.5\" y=\"-1389.8\" font-family=\"Times,serif\" font-size=\"14.00\" fill=\"#000000\">?</text>\n",
       "</g>\n",
       "<!-- 90&#45;&gt;130 -->\n",
       "<g id=\"edge130\" class=\"edge\">\n",
       "<title>90&#45;&gt;130</title>\n",
       "<path fill=\"none\" stroke=\"#0000ff\" d=\"M2815.9589,-1451.929C2816.5493,-1442.1869 2817.5944,-1424.9428 2818.3967,-1411.7046\"/>\n",
       "<polygon fill=\"#0000ff\" stroke=\"#0000ff\" points=\"2821.9103,-1411.5849 2819.0217,-1401.3915 2814.9231,-1411.1614 2821.9103,-1411.5849\"/>\n",
       "<text text-anchor=\"middle\" x=\"2822.5\" y=\"-1422.8\" font-family=\"Times,serif\" font-size=\"14.00\" fill=\"#000000\">1</text>\n",
       "</g>\n",
       "<!-- 92 -->\n",
       "<g id=\"node93\" class=\"node\">\n",
       "<title>92</title>\n",
       "<text text-anchor=\"middle\" x=\"2508.5\" y=\"-1323.8\" font-family=\"Times,serif\" font-size=\"14.00\" fill=\"#000000\">(27) str.substr(cgi_decode_s_str_1, 3, 1) == &quot;4&quot;</text>\n",
       "</g>\n",
       "<!-- 91&#45;&gt;92 -->\n",
       "<g id=\"edge92\" class=\"edge\">\n",
       "<title>91&#45;&gt;92</title>\n",
       "<path fill=\"none\" stroke=\"#ff0000\" d=\"M2645.7195,-1385.929C2618.8839,-1374.5022 2567.8088,-1352.7541 2536.1072,-1339.2553\"/>\n",
       "<polygon fill=\"#ff0000\" stroke=\"#ff0000\" points=\"2537.1224,-1335.8836 2526.5505,-1335.186 2534.38,-1342.324 2537.1224,-1335.8836\"/>\n",
       "<text text-anchor=\"middle\" x=\"2604.5\" y=\"-1356.8\" font-family=\"Times,serif\" font-size=\"14.00\" fill=\"#000000\">0</text>\n",
       "</g>\n",
       "<!-- 129 -->\n",
       "<g id=\"node130\" class=\"node\">\n",
       "<title>129</title>\n",
       "<text text-anchor=\"middle\" x=\"2664.5\" y=\"-1323.8\" font-family=\"Times,serif\" font-size=\"14.00\" fill=\"#000000\">?</text>\n",
       "</g>\n",
       "<!-- 91&#45;&gt;129 -->\n",
       "<g id=\"edge129\" class=\"edge\">\n",
       "<title>91&#45;&gt;129</title>\n",
       "<path fill=\"none\" stroke=\"#0000ff\" d=\"M2663.6147,-1385.929C2663.7623,-1376.1869 2664.0236,-1358.9428 2664.2242,-1345.7046\"/>\n",
       "<polygon fill=\"#0000ff\" stroke=\"#0000ff\" points=\"2667.7284,-1345.4434 2664.3804,-1335.3915 2660.7292,-1345.3373 2667.7284,-1345.4434\"/>\n",
       "<text text-anchor=\"middle\" x=\"2668.5\" y=\"-1356.8\" font-family=\"Times,serif\" font-size=\"14.00\" fill=\"#000000\">1</text>\n",
       "</g>\n",
       "<!-- 93 -->\n",
       "<g id=\"node94\" class=\"node\">\n",
       "<title>93</title>\n",
       "<text text-anchor=\"middle\" x=\"2422.5\" y=\"-1257.8\" font-family=\"Times,serif\" font-size=\"14.00\" fill=\"#000000\">(28) str.substr(cgi_decode_s_str_1, 3, 1) == &quot;5&quot;</text>\n",
       "</g>\n",
       "<!-- 92&#45;&gt;93 -->\n",
       "<g id=\"edge93\" class=\"edge\">\n",
       "<title>92&#45;&gt;93</title>\n",
       "<path fill=\"none\" stroke=\"#ff0000\" d=\"M2498.6347,-1319.929C2484.5832,-1309.1452 2458.5538,-1289.1692 2440.885,-1275.6094\"/>\n",
       "<polygon fill=\"#ff0000\" stroke=\"#ff0000\" points=\"2442.5791,-1272.4977 2432.5151,-1269.186 2438.3174,-1278.0509 2442.5791,-1272.4977\"/>\n",
       "<text text-anchor=\"middle\" x=\"2477.5\" y=\"-1290.8\" font-family=\"Times,serif\" font-size=\"14.00\" fill=\"#000000\">0</text>\n",
       "</g>\n",
       "<!-- 128 -->\n",
       "<g id=\"node129\" class=\"node\">\n",
       "<title>128</title>\n",
       "<text text-anchor=\"middle\" x=\"2578.5\" y=\"-1257.8\" font-family=\"Times,serif\" font-size=\"14.00\" fill=\"#000000\">?</text>\n",
       "</g>\n",
       "<!-- 92&#45;&gt;128 -->\n",
       "<g id=\"edge128\" class=\"edge\">\n",
       "<title>92&#45;&gt;128</title>\n",
       "<path fill=\"none\" stroke=\"#0000ff\" d=\"M2516.5299,-1319.929C2529.0204,-1308.1522 2553.1386,-1285.4122 2567.3225,-1272.0388\"/>\n",
       "<polygon fill=\"#0000ff\" stroke=\"#0000ff\" points=\"2570.1119,-1274.2192 2574.9867,-1264.8125 2565.3098,-1269.1261 2570.1119,-1274.2192\"/>\n",
       "<text text-anchor=\"middle\" x=\"2554.5\" y=\"-1290.8\" font-family=\"Times,serif\" font-size=\"14.00\" fill=\"#000000\">1</text>\n",
       "</g>\n",
       "<!-- 94 -->\n",
       "<g id=\"node95\" class=\"node\">\n",
       "<title>94</title>\n",
       "<text text-anchor=\"middle\" x=\"2313.5\" y=\"-1191.8\" font-family=\"Times,serif\" font-size=\"14.00\" fill=\"#000000\">(29) str.substr(cgi_decode_s_str_1, 3, 1) == &quot;6&quot;</text>\n",
       "</g>\n",
       "<!-- 93&#45;&gt;94 -->\n",
       "<g id=\"edge94\" class=\"edge\">\n",
       "<title>93&#45;&gt;94</title>\n",
       "<path fill=\"none\" stroke=\"#ff0000\" d=\"M2409.9963,-1253.929C2391.6967,-1242.8484 2357.3686,-1222.0626 2334.9775,-1208.5047\"/>\n",
       "<polygon fill=\"#ff0000\" stroke=\"#ff0000\" points=\"2336.5606,-1205.3717 2326.1936,-1203.186 2332.9349,-1211.3596 2336.5606,-1205.3717\"/>\n",
       "<text text-anchor=\"middle\" x=\"2382.5\" y=\"-1224.8\" font-family=\"Times,serif\" font-size=\"14.00\" fill=\"#000000\">0</text>\n",
       "</g>\n",
       "<!-- 127 -->\n",
       "<g id=\"node128\" class=\"node\">\n",
       "<title>127</title>\n",
       "<text text-anchor=\"middle\" x=\"2469.5\" y=\"-1191.8\" font-family=\"Times,serif\" font-size=\"14.00\" fill=\"#000000\">?</text>\n",
       "</g>\n",
       "<!-- 93&#45;&gt;127 -->\n",
       "<g id=\"edge127\" class=\"edge\">\n",
       "<title>93&#45;&gt;127</title>\n",
       "<path fill=\"none\" stroke=\"#0000ff\" d=\"M2427.8915,-1253.929C2435.6526,-1243.0304 2450.0998,-1222.7428 2459.7592,-1209.1785\"/>\n",
       "<polygon fill=\"#0000ff\" stroke=\"#0000ff\" points=\"2462.8328,-1210.8962 2465.7825,-1200.7203 2457.1308,-1206.8357 2462.8328,-1210.8962\"/>\n",
       "<text text-anchor=\"middle\" x=\"2454.5\" y=\"-1224.8\" font-family=\"Times,serif\" font-size=\"14.00\" fill=\"#000000\">1</text>\n",
       "</g>\n",
       "<!-- 95 -->\n",
       "<g id=\"node96\" class=\"node\">\n",
       "<title>95</title>\n",
       "<text text-anchor=\"middle\" x=\"2165.5\" y=\"-1125.8\" font-family=\"Times,serif\" font-size=\"14.00\" fill=\"#000000\">(30) str.substr(cgi_decode_s_str_1, 3, 1) == &quot;7&quot;</text>\n",
       "</g>\n",
       "<!-- 94&#45;&gt;95 -->\n",
       "<g id=\"edge95\" class=\"edge\">\n",
       "<title>94&#45;&gt;95</title>\n",
       "<path fill=\"none\" stroke=\"#ff0000\" d=\"M2296.5225,-1187.929C2271.0097,-1176.5516 2222.5521,-1154.9422 2192.2546,-1141.4311\"/>\n",
       "<polygon fill=\"#ff0000\" stroke=\"#ff0000\" points=\"2193.2939,-1138.0624 2182.7354,-1137.186 2190.4429,-1144.4555 2193.2939,-1138.0624\"/>\n",
       "<text text-anchor=\"middle\" x=\"2257.5\" y=\"-1158.8\" font-family=\"Times,serif\" font-size=\"14.00\" fill=\"#000000\">0</text>\n",
       "</g>\n",
       "<!-- 126 -->\n",
       "<g id=\"node127\" class=\"node\">\n",
       "<title>126</title>\n",
       "<text text-anchor=\"middle\" x=\"2321.5\" y=\"-1125.8\" font-family=\"Times,serif\" font-size=\"14.00\" fill=\"#000000\">?</text>\n",
       "</g>\n",
       "<!-- 94&#45;&gt;126 -->\n",
       "<g id=\"edge126\" class=\"edge\">\n",
       "<title>94&#45;&gt;126</title>\n",
       "<path fill=\"none\" stroke=\"#0000ff\" d=\"M2314.4177,-1187.929C2315.5986,-1178.1869 2317.6888,-1160.9428 2319.2934,-1147.7046\"/>\n",
       "<polygon fill=\"#0000ff\" stroke=\"#0000ff\" points=\"2322.8146,-1147.74 2320.5435,-1137.3915 2315.8655,-1146.8976 2322.8146,-1147.74\"/>\n",
       "<text text-anchor=\"middle\" x=\"2322.5\" y=\"-1158.8\" font-family=\"Times,serif\" font-size=\"14.00\" fill=\"#000000\">1</text>\n",
       "</g>\n",
       "<!-- 96 -->\n",
       "<g id=\"node97\" class=\"node\">\n",
       "<title>96</title>\n",
       "<text text-anchor=\"middle\" x=\"2128.5\" y=\"-1059.8\" font-family=\"Times,serif\" font-size=\"14.00\" fill=\"#000000\">(31) str.substr(cgi_decode_s_str_1, 3, 1) == &quot;8&quot;</text>\n",
       "</g>\n",
       "<!-- 95&#45;&gt;96 -->\n",
       "<g id=\"edge96\" class=\"edge\">\n",
       "<title>95&#45;&gt;96</title>\n",
       "<path fill=\"none\" stroke=\"#ff0000\" d=\"M2161.2556,-1121.929C2155.5735,-1111.7933 2145.339,-1093.5371 2137.8175,-1080.1203\"/>\n",
       "<polygon fill=\"#ff0000\" stroke=\"#ff0000\" points=\"2140.8671,-1078.4028 2132.924,-1071.3915 2134.7611,-1081.8259 2140.8671,-1078.4028\"/>\n",
       "<text text-anchor=\"middle\" x=\"2154.5\" y=\"-1092.8\" font-family=\"Times,serif\" font-size=\"14.00\" fill=\"#000000\">0</text>\n",
       "</g>\n",
       "<!-- 125 -->\n",
       "<g id=\"node126\" class=\"node\">\n",
       "<title>125</title>\n",
       "<text text-anchor=\"middle\" x=\"2284.5\" y=\"-1059.8\" font-family=\"Times,serif\" font-size=\"14.00\" fill=\"#000000\">?</text>\n",
       "</g>\n",
       "<!-- 95&#45;&gt;125 -->\n",
       "<g id=\"edge125\" class=\"edge\">\n",
       "<title>95&#45;&gt;125</title>\n",
       "<path fill=\"none\" stroke=\"#0000ff\" d=\"M2179.6072,-1121.8251C2199.9645,-1110.7249 2238.7331,-1089.4916 2271.5,-1071 2271.5964,-1070.9456 2271.6933,-1070.8909 2271.7904,-1070.836\"/>\n",
       "<polygon fill=\"#0000ff\" stroke=\"#0000ff\" points=\"2273.715,-1073.7668 2280.6429,-1065.7509 2270.2283,-1067.697 2273.715,-1073.7668\"/>\n",
       "<text text-anchor=\"middle\" x=\"2241.5\" y=\"-1092.8\" font-family=\"Times,serif\" font-size=\"14.00\" fill=\"#000000\">1</text>\n",
       "</g>\n",
       "<!-- 97 -->\n",
       "<g id=\"node98\" class=\"node\">\n",
       "<title>97</title>\n",
       "<text text-anchor=\"middle\" x=\"2007.5\" y=\"-993.8\" font-family=\"Times,serif\" font-size=\"14.00\" fill=\"#000000\">(32) str.substr(cgi_decode_s_str_1, 3, 1) == &quot;9&quot;</text>\n",
       "</g>\n",
       "<!-- 96&#45;&gt;97 -->\n",
       "<g id=\"edge97\" class=\"edge\">\n",
       "<title>96&#45;&gt;97</title>\n",
       "<path fill=\"none\" stroke=\"#ff0000\" d=\"M2114.6198,-1055.929C2094.1241,-1044.7495 2055.5163,-1023.6907 2030.6793,-1010.1433\"/>\n",
       "<polygon fill=\"#ff0000\" stroke=\"#ff0000\" points=\"2032.046,-1006.902 2021.5911,-1005.186 2028.694,-1013.0472 2032.046,-1006.902\"/>\n",
       "<text text-anchor=\"middle\" x=\"2083.5\" y=\"-1026.8\" font-family=\"Times,serif\" font-size=\"14.00\" fill=\"#000000\">0</text>\n",
       "</g>\n",
       "<!-- 124 -->\n",
       "<g id=\"node125\" class=\"node\">\n",
       "<title>124</title>\n",
       "<text text-anchor=\"middle\" x=\"2163.5\" y=\"-993.8\" font-family=\"Times,serif\" font-size=\"14.00\" fill=\"#000000\">?</text>\n",
       "</g>\n",
       "<!-- 96&#45;&gt;124 -->\n",
       "<g id=\"edge124\" class=\"edge\">\n",
       "<title>96&#45;&gt;124</title>\n",
       "<path fill=\"none\" stroke=\"#0000ff\" d=\"M2132.5149,-1055.929C2138.0094,-1045.568 2148.0039,-1026.7212 2155.1569,-1013.2326\"/>\n",
       "<polygon fill=\"#0000ff\" stroke=\"#0000ff\" points=\"2158.3584,-1014.6661 2159.9514,-1004.1916 2152.1742,-1011.3865 2158.3584,-1014.6661\"/>\n",
       "<text text-anchor=\"middle\" x=\"2153.5\" y=\"-1026.8\" font-family=\"Times,serif\" font-size=\"14.00\" fill=\"#000000\">1</text>\n",
       "</g>\n",
       "<!-- 98 -->\n",
       "<g id=\"node99\" class=\"node\">\n",
       "<title>98</title>\n",
       "<text text-anchor=\"middle\" x=\"1878.5\" y=\"-927.8\" font-family=\"Times,serif\" font-size=\"14.00\" fill=\"#000000\">(33) str.substr(cgi_decode_s_str_1, 3, 1) == &quot;a&quot;</text>\n",
       "</g>\n",
       "<!-- 97&#45;&gt;98 -->\n",
       "<g id=\"edge98\" class=\"edge\">\n",
       "<title>97&#45;&gt;98</title>\n",
       "<path fill=\"none\" stroke=\"#ff0000\" d=\"M1992.7021,-989.929C1970.6579,-978.6506 1928.9609,-957.3172 1902.5124,-943.7854\"/>\n",
       "<polygon fill=\"#ff0000\" stroke=\"#ff0000\" points=\"1904.0194,-940.625 1893.5227,-939.186 1900.831,-946.8567 1904.0194,-940.625\"/>\n",
       "<text text-anchor=\"middle\" x=\"1959.5\" y=\"-960.8\" font-family=\"Times,serif\" font-size=\"14.00\" fill=\"#000000\">0</text>\n",
       "</g>\n",
       "<!-- 123 -->\n",
       "<g id=\"node124\" class=\"node\">\n",
       "<title>123</title>\n",
       "<text text-anchor=\"middle\" x=\"2033.5\" y=\"-927.8\" font-family=\"Times,serif\" font-size=\"14.00\" fill=\"#000000\">?</text>\n",
       "</g>\n",
       "<!-- 97&#45;&gt;123 -->\n",
       "<g id=\"edge123\" class=\"edge\">\n",
       "<title>97&#45;&gt;123</title>\n",
       "<path fill=\"none\" stroke=\"#0000ff\" d=\"M2010.4825,-989.929C2014.3978,-979.9901 2021.3891,-962.243 2026.6426,-948.9073\"/>\n",
       "<polygon fill=\"#0000ff\" stroke=\"#0000ff\" points=\"2029.9824,-949.9784 2030.3912,-939.3915 2023.4695,-947.4127 2029.9824,-949.9784\"/>\n",
       "<text text-anchor=\"middle\" x=\"2027.5\" y=\"-960.8\" font-family=\"Times,serif\" font-size=\"14.00\" fill=\"#000000\">1</text>\n",
       "</g>\n",
       "<!-- 99 -->\n",
       "<g id=\"node100\" class=\"node\">\n",
       "<title>99</title>\n",
       "<text text-anchor=\"middle\" x=\"1730.5\" y=\"-861.8\" font-family=\"Times,serif\" font-size=\"14.00\" fill=\"#000000\">(34) str.substr(cgi_decode_s_str_1, 3, 1) == &quot;b&quot;</text>\n",
       "</g>\n",
       "<!-- 98&#45;&gt;99 -->\n",
       "<g id=\"edge99\" class=\"edge\">\n",
       "<title>98&#45;&gt;99</title>\n",
       "<path fill=\"none\" stroke=\"#ff0000\" d=\"M1861.5225,-923.929C1836.0097,-912.5516 1787.5521,-890.9422 1757.2546,-877.4311\"/>\n",
       "<polygon fill=\"#ff0000\" stroke=\"#ff0000\" points=\"1758.2939,-874.0624 1747.7354,-873.186 1755.4429,-880.4555 1758.2939,-874.0624\"/>\n",
       "<text text-anchor=\"middle\" x=\"1822.5\" y=\"-894.8\" font-family=\"Times,serif\" font-size=\"14.00\" fill=\"#000000\">0</text>\n",
       "</g>\n",
       "<!-- 122 -->\n",
       "<g id=\"node123\" class=\"node\">\n",
       "<title>122</title>\n",
       "<text text-anchor=\"middle\" x=\"1886.5\" y=\"-861.8\" font-family=\"Times,serif\" font-size=\"14.00\" fill=\"#000000\">?</text>\n",
       "</g>\n",
       "<!-- 98&#45;&gt;122 -->\n",
       "<g id=\"edge122\" class=\"edge\">\n",
       "<title>98&#45;&gt;122</title>\n",
       "<path fill=\"none\" stroke=\"#0000ff\" d=\"M1879.4177,-923.929C1880.5986,-914.1869 1882.6888,-896.9428 1884.2934,-883.7046\"/>\n",
       "<polygon fill=\"#0000ff\" stroke=\"#0000ff\" points=\"1887.8146,-883.74 1885.5435,-873.3915 1880.8655,-882.8976 1887.8146,-883.74\"/>\n",
       "<text text-anchor=\"middle\" x=\"1887.5\" y=\"-894.8\" font-family=\"Times,serif\" font-size=\"14.00\" fill=\"#000000\">1</text>\n",
       "</g>\n",
       "<!-- 100 -->\n",
       "<g id=\"node101\" class=\"node\">\n",
       "<title>100</title>\n",
       "<text text-anchor=\"middle\" x=\"1586.5\" y=\"-795.8\" font-family=\"Times,serif\" font-size=\"14.00\" fill=\"#000000\">(35) str.substr(cgi_decode_s_str_1, 3, 1) == &quot;c&quot;</text>\n",
       "</g>\n",
       "<!-- 99&#45;&gt;100 -->\n",
       "<g id=\"edge100\" class=\"edge\">\n",
       "<title>99&#45;&gt;100</title>\n",
       "<path fill=\"none\" stroke=\"#ff0000\" d=\"M1713.9814,-857.929C1689.1581,-846.5516 1642.0102,-824.9422 1612.5315,-811.4311\"/>\n",
       "<polygon fill=\"#ff0000\" stroke=\"#ff0000\" points=\"1613.8185,-808.1709 1603.2695,-807.186 1610.9019,-814.5344 1613.8185,-808.1709\"/>\n",
       "<text text-anchor=\"middle\" x=\"1675.5\" y=\"-828.8\" font-family=\"Times,serif\" font-size=\"14.00\" fill=\"#000000\">0</text>\n",
       "</g>\n",
       "<!-- 121 -->\n",
       "<g id=\"node122\" class=\"node\">\n",
       "<title>121</title>\n",
       "<text text-anchor=\"middle\" x=\"1741.5\" y=\"-795.8\" font-family=\"Times,serif\" font-size=\"14.00\" fill=\"#000000\">?</text>\n",
       "</g>\n",
       "<!-- 99&#45;&gt;121 -->\n",
       "<g id=\"edge121\" class=\"edge\">\n",
       "<title>99&#45;&gt;121</title>\n",
       "<path fill=\"none\" stroke=\"#0000ff\" d=\"M1731.7618,-857.929C1733.4019,-848.0885 1736.3177,-830.5937 1738.5326,-817.3047\"/>\n",
       "<polygon fill=\"#0000ff\" stroke=\"#0000ff\" points=\"1741.9931,-817.8309 1740.1848,-807.3915 1735.0883,-816.68 1741.9931,-817.8309\"/>\n",
       "<text text-anchor=\"middle\" x=\"1741.5\" y=\"-828.8\" font-family=\"Times,serif\" font-size=\"14.00\" fill=\"#000000\">1</text>\n",
       "</g>\n",
       "<!-- 101 -->\n",
       "<g id=\"node102\" class=\"node\">\n",
       "<title>101</title>\n",
       "<text text-anchor=\"middle\" x=\"1551.5\" y=\"-729.8\" font-family=\"Times,serif\" font-size=\"14.00\" fill=\"#000000\">(36) str.substr(cgi_decode_s_str_1, 3, 1) == &quot;d&quot;</text>\n",
       "</g>\n",
       "<!-- 100&#45;&gt;101 -->\n",
       "<g id=\"edge101\" class=\"edge\">\n",
       "<title>100&#45;&gt;101</title>\n",
       "<path fill=\"none\" stroke=\"#ff0000\" d=\"M1582.4851,-791.929C1577.1623,-781.8917 1567.6163,-763.8908 1560.5218,-750.5125\"/>\n",
       "<polygon fill=\"#ff0000\" stroke=\"#ff0000\" points=\"1563.4621,-748.5864 1555.6849,-741.3915 1557.2778,-751.8659 1563.4621,-748.5864\"/>\n",
       "<text text-anchor=\"middle\" x=\"1576.5\" y=\"-762.8\" font-family=\"Times,serif\" font-size=\"14.00\" fill=\"#000000\">0</text>\n",
       "</g>\n",
       "<!-- 120 -->\n",
       "<g id=\"node121\" class=\"node\">\n",
       "<title>120</title>\n",
       "<text text-anchor=\"middle\" x=\"1707.5\" y=\"-729.8\" font-family=\"Times,serif\" font-size=\"14.00\" fill=\"#000000\">?</text>\n",
       "</g>\n",
       "<!-- 100&#45;&gt;120 -->\n",
       "<g id=\"edge120\" class=\"edge\">\n",
       "<title>100&#45;&gt;120</title>\n",
       "<path fill=\"none\" stroke=\"#0000ff\" d=\"M1600.8923,-791.8624C1621.6568,-780.8074 1661.1846,-759.6287 1694.5,-741 1694.5967,-740.946 1694.6937,-740.8916 1694.791,-740.8371\"/>\n",
       "<polygon fill=\"#0000ff\" stroke=\"#0000ff\" points=\"1696.7133,-743.7695 1703.6474,-735.7589 1693.2313,-737.6969 1696.7133,-743.7695\"/>\n",
       "<text text-anchor=\"middle\" x=\"1663.5\" y=\"-762.8\" font-family=\"Times,serif\" font-size=\"14.00\" fill=\"#000000\">1</text>\n",
       "</g>\n",
       "<!-- 102 -->\n",
       "<g id=\"node103\" class=\"node\">\n",
       "<title>102</title>\n",
       "<text text-anchor=\"middle\" x=\"1445.5\" y=\"-663.8\" font-family=\"Times,serif\" font-size=\"14.00\" fill=\"#000000\">(37) str.substr(cgi_decode_s_str_1, 3, 1) == &quot;e&quot;</text>\n",
       "</g>\n",
       "<!-- 101&#45;&gt;102 -->\n",
       "<g id=\"edge102\" class=\"edge\">\n",
       "<title>101&#45;&gt;102</title>\n",
       "<path fill=\"none\" stroke=\"#ff0000\" d=\"M1539.3405,-725.929C1521.5445,-714.8484 1488.1612,-694.0626 1466.3863,-680.5047\"/>\n",
       "<polygon fill=\"#ff0000\" stroke=\"#ff0000\" points=\"1468.1832,-677.5005 1457.8442,-675.186 1464.4833,-683.4428 1468.1832,-677.5005\"/>\n",
       "<text text-anchor=\"middle\" x=\"1512.5\" y=\"-696.8\" font-family=\"Times,serif\" font-size=\"14.00\" fill=\"#000000\">0</text>\n",
       "</g>\n",
       "<!-- 119 -->\n",
       "<g id=\"node120\" class=\"node\">\n",
       "<title>119</title>\n",
       "<text text-anchor=\"middle\" x=\"1600.5\" y=\"-663.8\" font-family=\"Times,serif\" font-size=\"14.00\" fill=\"#000000\">?</text>\n",
       "</g>\n",
       "<!-- 101&#45;&gt;119 -->\n",
       "<g id=\"edge119\" class=\"edge\">\n",
       "<title>101&#45;&gt;119</title>\n",
       "<path fill=\"none\" stroke=\"#0000ff\" d=\"M1557.1209,-725.929C1565.2932,-714.9214 1580.5762,-694.3361 1590.6453,-680.7736\"/>\n",
       "<polygon fill=\"#0000ff\" stroke=\"#0000ff\" points=\"1593.7287,-682.4921 1596.8795,-672.3766 1588.1083,-678.3193 1593.7287,-682.4921\"/>\n",
       "<text text-anchor=\"middle\" x=\"1584.5\" y=\"-696.8\" font-family=\"Times,serif\" font-size=\"14.00\" fill=\"#000000\">1</text>\n",
       "</g>\n",
       "<!-- 103 -->\n",
       "<g id=\"node104\" class=\"node\">\n",
       "<title>103</title>\n",
       "<text text-anchor=\"middle\" x=\"1320.5\" y=\"-597.8\" font-family=\"Times,serif\" font-size=\"14.00\" fill=\"#000000\">(38) str.substr(cgi_decode_s_str_1, 3, 1) == &quot;f&quot;</text>\n",
       "</g>\n",
       "<!-- 102&#45;&gt;103 -->\n",
       "<g id=\"edge103\" class=\"edge\">\n",
       "<title>102&#45;&gt;103</title>\n",
       "<path fill=\"none\" stroke=\"#ff0000\" d=\"M1431.1609,-659.929C1409.894,-648.7 1369.7503,-627.5041 1344.1058,-613.9639\"/>\n",
       "<polygon fill=\"#ff0000\" stroke=\"#ff0000\" points=\"1345.5341,-610.7601 1335.0569,-609.186 1342.2657,-616.9503 1345.5341,-610.7601\"/>\n",
       "<text text-anchor=\"middle\" x=\"1398.5\" y=\"-630.8\" font-family=\"Times,serif\" font-size=\"14.00\" fill=\"#000000\">0</text>\n",
       "</g>\n",
       "<!-- 118 -->\n",
       "<g id=\"node119\" class=\"node\">\n",
       "<title>118</title>\n",
       "<text text-anchor=\"middle\" x=\"1475.5\" y=\"-597.8\" font-family=\"Times,serif\" font-size=\"14.00\" fill=\"#000000\">?</text>\n",
       "</g>\n",
       "<!-- 102&#45;&gt;118 -->\n",
       "<g id=\"edge118\" class=\"edge\">\n",
       "<title>102&#45;&gt;118</title>\n",
       "<path fill=\"none\" stroke=\"#0000ff\" d=\"M1448.9414,-659.929C1453.5038,-649.8917 1461.686,-631.8908 1467.7671,-618.5125\"/>\n",
       "<polygon fill=\"#0000ff\" stroke=\"#0000ff\" points=\"1470.9612,-619.9435 1471.913,-609.3915 1464.5886,-617.0468 1470.9612,-619.9435\"/>\n",
       "<text text-anchor=\"middle\" x=\"1467.5\" y=\"-630.8\" font-family=\"Times,serif\" font-size=\"14.00\" fill=\"#000000\">1</text>\n",
       "</g>\n",
       "<!-- 104 -->\n",
       "<g id=\"node105\" class=\"node\">\n",
       "<title>104</title>\n",
       "<text text-anchor=\"middle\" x=\"1209.5\" y=\"-531.8\" font-family=\"Times,serif\" font-size=\"14.00\" fill=\"#000000\">(39) str.substr(cgi_decode_s_str_1, 3, 1) == &quot;A&quot;</text>\n",
       "</g>\n",
       "<!-- 103&#45;&gt;104 -->\n",
       "<g id=\"edge104\" class=\"edge\">\n",
       "<title>103&#45;&gt;104</title>\n",
       "<path fill=\"none\" stroke=\"#ff0000\" d=\"M1307.7669,-593.929C1289.0483,-582.799 1253.8611,-561.8769 1231.0669,-548.3236\"/>\n",
       "<polygon fill=\"#ff0000\" stroke=\"#ff0000\" points=\"1232.8107,-545.2885 1222.4265,-543.186 1229.2331,-551.3052 1232.8107,-545.2885\"/>\n",
       "<text text-anchor=\"middle\" x=\"1279.5\" y=\"-564.8\" font-family=\"Times,serif\" font-size=\"14.00\" fill=\"#000000\">0</text>\n",
       "</g>\n",
       "<!-- 117 -->\n",
       "<g id=\"node118\" class=\"node\">\n",
       "<title>117</title>\n",
       "<text text-anchor=\"middle\" x=\"1366.5\" y=\"-531.8\" font-family=\"Times,serif\" font-size=\"14.00\" fill=\"#000000\">?</text>\n",
       "</g>\n",
       "<!-- 103&#45;&gt;117 -->\n",
       "<g id=\"edge117\" class=\"edge\">\n",
       "<title>103&#45;&gt;117</title>\n",
       "<path fill=\"none\" stroke=\"#0000ff\" d=\"M1325.7768,-593.929C1333.3727,-583.0304 1347.5126,-562.7428 1356.9665,-549.1785\"/>\n",
       "<polygon fill=\"#0000ff\" stroke=\"#0000ff\" points=\"1360.0151,-550.9255 1362.8616,-540.7203 1354.2723,-546.923 1360.0151,-550.9255\"/>\n",
       "<text text-anchor=\"middle\" x=\"1352.5\" y=\"-564.8\" font-family=\"Times,serif\" font-size=\"14.00\" fill=\"#000000\">1</text>\n",
       "</g>\n",
       "<!-- 105 -->\n",
       "<g id=\"node106\" class=\"node\">\n",
       "<title>105</title>\n",
       "<text text-anchor=\"middle\" x=\"1097.5\" y=\"-465.8\" font-family=\"Times,serif\" font-size=\"14.00\" fill=\"#000000\">(40) str.substr(cgi_decode_s_str_1, 3, 1) == &quot;B&quot;</text>\n",
       "</g>\n",
       "<!-- 104&#45;&gt;105 -->\n",
       "<g id=\"edge105\" class=\"edge\">\n",
       "<title>104&#45;&gt;105</title>\n",
       "<path fill=\"none\" stroke=\"#ff0000\" d=\"M1196.6522,-527.929C1177.7649,-516.799 1142.2607,-495.8769 1119.2612,-482.3236\"/>\n",
       "<polygon fill=\"#ff0000\" stroke=\"#ff0000\" points=\"1120.9353,-479.2476 1110.543,-477.186 1117.3814,-485.2784 1120.9353,-479.2476\"/>\n",
       "<text text-anchor=\"middle\" x=\"1168.5\" y=\"-498.8\" font-family=\"Times,serif\" font-size=\"14.00\" fill=\"#000000\">0</text>\n",
       "</g>\n",
       "<!-- 116 -->\n",
       "<g id=\"node117\" class=\"node\">\n",
       "<title>116</title>\n",
       "<text text-anchor=\"middle\" x=\"1254.5\" y=\"-465.8\" font-family=\"Times,serif\" font-size=\"14.00\" fill=\"#000000\">?</text>\n",
       "</g>\n",
       "<!-- 104&#45;&gt;116 -->\n",
       "<g id=\"edge116\" class=\"edge\">\n",
       "<title>104&#45;&gt;116</title>\n",
       "<path fill=\"none\" stroke=\"#0000ff\" d=\"M1214.6621,-527.929C1222.0929,-517.0304 1235.9253,-496.7428 1245.1737,-483.1785\"/>\n",
       "<polygon fill=\"#0000ff\" stroke=\"#0000ff\" points=\"1248.1991,-484.9542 1250.9407,-474.7203 1242.4155,-481.0109 1248.1991,-484.9542\"/>\n",
       "<text text-anchor=\"middle\" x=\"1240.5\" y=\"-498.8\" font-family=\"Times,serif\" font-size=\"14.00\" fill=\"#000000\">1</text>\n",
       "</g>\n",
       "<!-- 106 -->\n",
       "<g id=\"node107\" class=\"node\">\n",
       "<title>106</title>\n",
       "<text text-anchor=\"middle\" x=\"943.5\" y=\"-399.8\" font-family=\"Times,serif\" font-size=\"14.00\" fill=\"#000000\">(41) str.substr(cgi_decode_s_str_1, 3, 1) == &quot;C&quot;</text>\n",
       "</g>\n",
       "<!-- 105&#45;&gt;106 -->\n",
       "<g id=\"edge106\" class=\"edge\">\n",
       "<title>105&#45;&gt;106</title>\n",
       "<path fill=\"none\" stroke=\"#ff0000\" d=\"M1079.8342,-461.929C1053.1717,-450.5022 1002.4261,-428.7541 970.9291,-415.2553\"/>\n",
       "<polygon fill=\"#ff0000\" stroke=\"#ff0000\" points=\"972.0043,-411.9083 961.4341,-411.186 969.2468,-418.3423 972.0043,-411.9083\"/>\n",
       "<text text-anchor=\"middle\" x=\"1038.5\" y=\"-432.8\" font-family=\"Times,serif\" font-size=\"14.00\" fill=\"#000000\">0</text>\n",
       "</g>\n",
       "<!-- 115 -->\n",
       "<g id=\"node116\" class=\"node\">\n",
       "<title>115</title>\n",
       "<text text-anchor=\"middle\" x=\"1100.5\" y=\"-399.8\" font-family=\"Times,serif\" font-size=\"14.00\" fill=\"#000000\">?</text>\n",
       "</g>\n",
       "<!-- 105&#45;&gt;115 -->\n",
       "<g id=\"edge115\" class=\"edge\">\n",
       "<title>105&#45;&gt;115</title>\n",
       "<path fill=\"none\" stroke=\"#0000ff\" d=\"M1097.8441,-461.929C1098.287,-452.1869 1099.0708,-434.9428 1099.6725,-421.7046\"/>\n",
       "<polygon fill=\"#0000ff\" stroke=\"#0000ff\" points=\"1103.1835,-421.5401 1100.1413,-411.3915 1096.1907,-421.2222 1103.1835,-421.5401\"/>\n",
       "<text text-anchor=\"middle\" x=\"1103.5\" y=\"-432.8\" font-family=\"Times,serif\" font-size=\"14.00\" fill=\"#000000\">1</text>\n",
       "</g>\n",
       "<!-- 107 -->\n",
       "<g id=\"node108\" class=\"node\">\n",
       "<title>107</title>\n",
       "<text text-anchor=\"middle\" x=\"912.5\" y=\"-333.8\" font-family=\"Times,serif\" font-size=\"14.00\" fill=\"#000000\">(42) str.substr(cgi_decode_s_str_1, 3, 1) == &quot;D&quot;</text>\n",
       "</g>\n",
       "<!-- 106&#45;&gt;107 -->\n",
       "<g id=\"edge107\" class=\"edge\">\n",
       "<title>106&#45;&gt;107</title>\n",
       "<path fill=\"none\" stroke=\"#ff0000\" d=\"M939.9439,-395.929C935.2295,-385.8917 926.7745,-367.8908 920.4907,-354.5125\"/>\n",
       "<polygon fill=\"#ff0000\" stroke=\"#ff0000\" points=\"923.626,-352.9548 916.2066,-345.3915 917.2901,-355.9308 923.626,-352.9548\"/>\n",
       "<text text-anchor=\"middle\" x=\"935.5\" y=\"-366.8\" font-family=\"Times,serif\" font-size=\"14.00\" fill=\"#000000\">0</text>\n",
       "</g>\n",
       "<!-- 114 -->\n",
       "<g id=\"node115\" class=\"node\">\n",
       "<title>114</title>\n",
       "<text text-anchor=\"middle\" x=\"1069.5\" y=\"-333.8\" font-family=\"Times,serif\" font-size=\"14.00\" fill=\"#000000\">?</text>\n",
       "</g>\n",
       "<!-- 106&#45;&gt;114 -->\n",
       "<g id=\"edge114\" class=\"edge\">\n",
       "<title>106&#45;&gt;114</title>\n",
       "<path fill=\"none\" stroke=\"#0000ff\" d=\"M958.6034,-395.9564C980.3835,-385.0157 1021.807,-363.9751 1056.5,-345 1056.5972,-344.9469 1056.6947,-344.8934 1056.7925,-344.8397\"/>\n",
       "<polygon fill=\"#0000ff\" stroke=\"#0000ff\" points=\"1058.7091,-347.7758 1065.658,-339.778 1055.2383,-341.6968 1058.7091,-347.7758\"/>\n",
       "<text text-anchor=\"middle\" x=\"1027.5\" y=\"-366.8\" font-family=\"Times,serif\" font-size=\"14.00\" fill=\"#000000\">1</text>\n",
       "</g>\n",
       "<!-- 108 -->\n",
       "<g id=\"node109\" class=\"node\">\n",
       "<title>108</title>\n",
       "<text text-anchor=\"middle\" x=\"753.5\" y=\"-267.8\" font-family=\"Times,serif\" font-size=\"14.00\" fill=\"#000000\">(43) str.substr(cgi_decode_s_str_1, 3, 1) == &quot;E&quot;</text>\n",
       "</g>\n",
       "<!-- 107&#45;&gt;108 -->\n",
       "<g id=\"edge108\" class=\"edge\">\n",
       "<title>107&#45;&gt;108</title>\n",
       "<path fill=\"none\" stroke=\"#ff0000\" d=\"M894.2607,-329.929C866.6133,-318.4527 813.8852,-296.5656 781.3984,-283.0805\"/>\n",
       "<polygon fill=\"#ff0000\" stroke=\"#ff0000\" points=\"782.5941,-279.7873 772.0164,-279.186 779.9104,-286.2524 782.5941,-279.7873\"/>\n",
       "<text text-anchor=\"middle\" x=\"851.5\" y=\"-300.8\" font-family=\"Times,serif\" font-size=\"14.00\" fill=\"#000000\">0</text>\n",
       "</g>\n",
       "<!-- 113 -->\n",
       "<g id=\"node114\" class=\"node\">\n",
       "<title>113</title>\n",
       "<text text-anchor=\"middle\" x=\"944.5\" y=\"-267.8\" font-family=\"Times,serif\" font-size=\"14.00\" fill=\"#000000\">* +%DD\\x00</text>\n",
       "</g>\n",
       "<!-- 107&#45;&gt;113 -->\n",
       "<g id=\"edge113\" class=\"edge\">\n",
       "<title>107&#45;&gt;113</title>\n",
       "<path fill=\"none\" stroke=\"#0000ff\" d=\"M916.1708,-329.929C921.0373,-319.8917 929.7651,-301.8908 936.2515,-288.5125\"/>\n",
       "<polygon fill=\"#0000ff\" stroke=\"#0000ff\" points=\"939.4604,-289.9166 940.6738,-279.3915 933.1617,-286.8627 939.4604,-289.9166\"/>\n",
       "<text text-anchor=\"middle\" x=\"935.5\" y=\"-300.8\" font-family=\"Times,serif\" font-size=\"14.00\" fill=\"#000000\">1</text>\n",
       "</g>\n",
       "<!-- 109 -->\n",
       "<g id=\"node110\" class=\"node\">\n",
       "<title>109</title>\n",
       "<text text-anchor=\"middle\" x=\"709.5\" y=\"-201.8\" font-family=\"Times,serif\" font-size=\"14.00\" fill=\"#000000\">(44) str.substr(cgi_decode_s_str_1, 3, 1) == &quot;F&quot;</text>\n",
       "</g>\n",
       "<!-- 108&#45;&gt;109 -->\n",
       "<g id=\"edge109\" class=\"edge\">\n",
       "<title>108&#45;&gt;109</title>\n",
       "<path fill=\"none\" stroke=\"#ff0000\" d=\"M748.4526,-263.929C741.63,-253.6949 729.2879,-235.1818 720.3206,-221.7309\"/>\n",
       "<polygon fill=\"#ff0000\" stroke=\"#ff0000\" points=\"723.2202,-219.7705 714.761,-213.3915 717.3959,-223.6535 723.2202,-219.7705\"/>\n",
       "<text text-anchor=\"middle\" x=\"739.5\" y=\"-234.8\" font-family=\"Times,serif\" font-size=\"14.00\" fill=\"#000000\">0</text>\n",
       "</g>\n",
       "<!-- 112 -->\n",
       "<g id=\"node113\" class=\"node\">\n",
       "<title>112</title>\n",
       "<text text-anchor=\"middle\" x=\"899.5\" y=\"-201.8\" font-family=\"Times,serif\" font-size=\"14.00\" fill=\"#000000\">* +%DE\\x00</text>\n",
       "</g>\n",
       "<!-- 108&#45;&gt;112 -->\n",
       "<g id=\"edge112\" class=\"edge\">\n",
       "<title>108&#45;&gt;112</title>\n",
       "<path fill=\"none\" stroke=\"#0000ff\" d=\"M770.2481,-263.929C795.4161,-252.5516 843.2189,-230.9422 873.107,-217.4311\"/>\n",
       "<polygon fill=\"#0000ff\" stroke=\"#0000ff\" points=\"874.8271,-220.4946 882.4976,-213.186 871.9436,-214.116 874.8271,-220.4946\"/>\n",
       "<text text-anchor=\"middle\" x=\"844.5\" y=\"-234.8\" font-family=\"Times,serif\" font-size=\"14.00\" fill=\"#000000\">1</text>\n",
       "</g>\n",
       "<!-- 110 -->\n",
       "<g id=\"node111\" class=\"node\">\n",
       "<title>110</title>\n",
       "<text text-anchor=\"middle\" x=\"681.5\" y=\"-135.8\" font-family=\"Times,serif\" font-size=\"14.00\" fill=\"#000000\">* +%D\\x00</text>\n",
       "</g>\n",
       "<!-- 109&#45;&gt;110 -->\n",
       "<g id=\"edge110\" class=\"edge\">\n",
       "<title>109&#45;&gt;110</title>\n",
       "<path fill=\"none\" stroke=\"#ff0000\" d=\"M706.288,-197.929C702.0716,-187.9901 694.5425,-170.243 688.8849,-156.9073\"/>\n",
       "<polygon fill=\"#ff0000\" stroke=\"#ff0000\" points=\"691.9755,-155.2304 684.8479,-147.3915 685.5314,-157.9643 691.9755,-155.2304\"/>\n",
       "<text text-anchor=\"middle\" x=\"702.5\" y=\"-168.8\" font-family=\"Times,serif\" font-size=\"14.00\" fill=\"#000000\">0</text>\n",
       "</g>\n",
       "<!-- 111 -->\n",
       "<g id=\"node112\" class=\"node\">\n",
       "<title>111</title>\n",
       "<text text-anchor=\"middle\" x=\"736.5\" y=\"-135.8\" font-family=\"Times,serif\" font-size=\"14.00\" fill=\"#000000\">?</text>\n",
       "</g>\n",
       "<!-- 109&#45;&gt;111 -->\n",
       "<g id=\"edge111\" class=\"edge\">\n",
       "<title>109&#45;&gt;111</title>\n",
       "<path fill=\"none\" stroke=\"#0000ff\" d=\"M712.5972,-197.929C716.6631,-187.9901 723.9233,-170.243 729.3788,-156.9073\"/>\n",
       "<polygon fill=\"#0000ff\" stroke=\"#0000ff\" points=\"732.7247,-157.9722 733.2717,-147.3915 726.2459,-155.3217 732.7247,-157.9722\"/>\n",
       "<text text-anchor=\"middle\" x=\"729.5\" y=\"-168.8\" font-family=\"Times,serif\" font-size=\"14.00\" fill=\"#000000\">1</text>\n",
       "</g>\n",
       "<!-- 134 -->\n",
       "<g id=\"node135\" class=\"node\">\n",
       "<title>134</title>\n",
       "<text text-anchor=\"middle\" x=\"3358.5\" y=\"-1587.8\" font-family=\"Times,serif\" font-size=\"14.00\" fill=\"#000000\">(23) str.substr(cgi_decode_s_str_1, 3, 1) == &quot;1&quot;</text>\n",
       "</g>\n",
       "<!-- 133&#45;&gt;134 -->\n",
       "<g id=\"edge134\" class=\"edge\">\n",
       "<title>133&#45;&gt;134</title>\n",
       "<path fill=\"none\" stroke=\"#ff0000\" d=\"M3358.5,-1649.929C3358.5,-1640.1869 3358.5,-1622.9428 3358.5,-1609.7046\"/>\n",
       "<polygon fill=\"#ff0000\" stroke=\"#ff0000\" points=\"3362.0001,-1609.3915 3358.5,-1599.3915 3355.0001,-1609.3915 3362.0001,-1609.3915\"/>\n",
       "<text text-anchor=\"middle\" x=\"3362.5\" y=\"-1620.8\" font-family=\"Times,serif\" font-size=\"14.00\" fill=\"#000000\">0</text>\n",
       "</g>\n",
       "<!-- 177 -->\n",
       "<g id=\"node178\" class=\"node\">\n",
       "<title>177</title>\n",
       "<text text-anchor=\"middle\" x=\"3514.5\" y=\"-1587.8\" font-family=\"Times,serif\" font-size=\"14.00\" fill=\"#000000\">?</text>\n",
       "</g>\n",
       "<!-- 133&#45;&gt;177 -->\n",
       "<g id=\"edge177\" class=\"edge\">\n",
       "<title>133&#45;&gt;177</title>\n",
       "<path fill=\"none\" stroke=\"#0000ff\" d=\"M3379.7301,-1649.8421C3408.0037,-1639.4126 3459.3511,-1619.6625 3501.5,-1599 3501.5994,-1598.9513 3501.6991,-1598.9021 3501.7991,-1598.8524\"/>\n",
       "<polygon fill=\"#0000ff\" stroke=\"#0000ff\" points=\"3503.6869,-1601.8069 3510.706,-1593.8707 3500.2698,-1595.6976 3503.6869,-1601.8069\"/>\n",
       "<text text-anchor=\"middle\" x=\"3463.5\" y=\"-1620.8\" font-family=\"Times,serif\" font-size=\"14.00\" fill=\"#000000\">1</text>\n",
       "</g>\n",
       "<!-- 135 -->\n",
       "<g id=\"node136\" class=\"node\">\n",
       "<title>135</title>\n",
       "<text text-anchor=\"middle\" x=\"3275.5\" y=\"-1521.8\" font-family=\"Times,serif\" font-size=\"14.00\" fill=\"#000000\">(24) str.substr(cgi_decode_s_str_1, 3, 1) == &quot;2&quot;</text>\n",
       "</g>\n",
       "<!-- 134&#45;&gt;135 -->\n",
       "<g id=\"edge135\" class=\"edge\">\n",
       "<title>134&#45;&gt;135</title>\n",
       "<path fill=\"none\" stroke=\"#ff0000\" d=\"M3348.9788,-1583.929C3335.4175,-1573.1452 3310.2961,-1553.1692 3293.2436,-1539.6094\"/>\n",
       "<polygon fill=\"#ff0000\" stroke=\"#ff0000\" points=\"3295.1712,-1536.6705 3285.1658,-1533.186 3290.8145,-1542.1495 3295.1712,-1536.6705\"/>\n",
       "<text text-anchor=\"middle\" x=\"3328.5\" y=\"-1554.8\" font-family=\"Times,serif\" font-size=\"14.00\" fill=\"#000000\">0</text>\n",
       "</g>\n",
       "<!-- 176 -->\n",
       "<g id=\"node177\" class=\"node\">\n",
       "<title>176</title>\n",
       "<text text-anchor=\"middle\" x=\"3431.5\" y=\"-1521.8\" font-family=\"Times,serif\" font-size=\"14.00\" fill=\"#000000\">?</text>\n",
       "</g>\n",
       "<!-- 134&#45;&gt;176 -->\n",
       "<g id=\"edge176\" class=\"edge\">\n",
       "<title>134&#45;&gt;176</title>\n",
       "<path fill=\"none\" stroke=\"#0000ff\" d=\"M3366.874,-1583.929C3380.0239,-1572.04 3405.5318,-1548.9781 3420.2632,-1535.6593\"/>\n",
       "<polygon fill=\"#0000ff\" stroke=\"#0000ff\" points=\"3422.7656,-1538.1152 3427.8362,-1528.8125 3418.0711,-1532.9228 3422.7656,-1538.1152\"/>\n",
       "<text text-anchor=\"middle\" x=\"3406.5\" y=\"-1554.8\" font-family=\"Times,serif\" font-size=\"14.00\" fill=\"#000000\">1</text>\n",
       "</g>\n",
       "<!-- 136 -->\n",
       "<g id=\"node137\" class=\"node\">\n",
       "<title>136</title>\n",
       "<text text-anchor=\"middle\" x=\"3134.5\" y=\"-1455.8\" font-family=\"Times,serif\" font-size=\"14.00\" fill=\"#000000\">(25) str.substr(cgi_decode_s_str_1, 3, 1) == &quot;3&quot;</text>\n",
       "</g>\n",
       "<!-- 135&#45;&gt;136 -->\n",
       "<g id=\"edge136\" class=\"edge\">\n",
       "<title>135&#45;&gt;136</title>\n",
       "<path fill=\"none\" stroke=\"#ff0000\" d=\"M3259.3255,-1517.929C3235.0194,-1506.5516 3188.8537,-1484.9422 3159.9892,-1471.4311\"/>\n",
       "<polygon fill=\"#ff0000\" stroke=\"#ff0000\" points=\"3161.4609,-1468.2556 3150.9202,-1467.186 3158.4933,-1474.5954 3161.4609,-1468.2556\"/>\n",
       "<text text-anchor=\"middle\" x=\"3222.5\" y=\"-1488.8\" font-family=\"Times,serif\" font-size=\"14.00\" fill=\"#000000\">0</text>\n",
       "</g>\n",
       "<!-- 175 -->\n",
       "<g id=\"node176\" class=\"node\">\n",
       "<title>175</title>\n",
       "<text text-anchor=\"middle\" x=\"3290.5\" y=\"-1455.8\" font-family=\"Times,serif\" font-size=\"14.00\" fill=\"#000000\">?</text>\n",
       "</g>\n",
       "<!-- 135&#45;&gt;175 -->\n",
       "<g id=\"edge175\" class=\"edge\">\n",
       "<title>135&#45;&gt;175</title>\n",
       "<path fill=\"none\" stroke=\"#0000ff\" d=\"M3277.2207,-1517.929C3279.4571,-1508.0885 3283.4333,-1490.5937 3286.4535,-1477.3047\"/>\n",
       "<polygon fill=\"#0000ff\" stroke=\"#0000ff\" points=\"3289.9032,-1477.9185 3288.7065,-1467.3915 3283.0772,-1476.3671 3289.9032,-1477.9185\"/>\n",
       "<text text-anchor=\"middle\" x=\"3288.5\" y=\"-1488.8\" font-family=\"Times,serif\" font-size=\"14.00\" fill=\"#000000\">1</text>\n",
       "</g>\n",
       "<!-- 137 -->\n",
       "<g id=\"node138\" class=\"node\">\n",
       "<title>137</title>\n",
       "<text text-anchor=\"middle\" x=\"3006.5\" y=\"-1389.8\" font-family=\"Times,serif\" font-size=\"14.00\" fill=\"#000000\">(26) str.substr(cgi_decode_s_str_1, 3, 1) == &quot;4&quot;</text>\n",
       "</g>\n",
       "<!-- 136&#45;&gt;137 -->\n",
       "<g id=\"edge137\" class=\"edge\">\n",
       "<title>136&#45;&gt;137</title>\n",
       "<path fill=\"none\" stroke=\"#ff0000\" d=\"M3119.8168,-1451.929C3097.9435,-1440.6506 3056.5697,-1419.3172 3030.3262,-1405.7854\"/>\n",
       "<polygon fill=\"#ff0000\" stroke=\"#ff0000\" points=\"3031.8983,-1402.6582 3021.4063,-1401.186 3028.6903,-1408.8798 3031.8983,-1402.6582\"/>\n",
       "<text text-anchor=\"middle\" x=\"3086.5\" y=\"-1422.8\" font-family=\"Times,serif\" font-size=\"14.00\" fill=\"#000000\">0</text>\n",
       "</g>\n",
       "<!-- 174 -->\n",
       "<g id=\"node175\" class=\"node\">\n",
       "<title>174</title>\n",
       "<text text-anchor=\"middle\" x=\"3162.5\" y=\"-1389.8\" font-family=\"Times,serif\" font-size=\"14.00\" fill=\"#000000\">?</text>\n",
       "</g>\n",
       "<!-- 136&#45;&gt;174 -->\n",
       "<g id=\"edge174\" class=\"edge\">\n",
       "<title>136&#45;&gt;174</title>\n",
       "<path fill=\"none\" stroke=\"#0000ff\" d=\"M3137.712,-1451.929C3141.9284,-1441.9901 3149.4575,-1424.243 3155.1151,-1410.9073\"/>\n",
       "<polygon fill=\"#0000ff\" stroke=\"#0000ff\" points=\"3158.4686,-1411.9643 3159.1521,-1401.3915 3152.0245,-1409.2304 3158.4686,-1411.9643\"/>\n",
       "<text text-anchor=\"middle\" x=\"3155.5\" y=\"-1422.8\" font-family=\"Times,serif\" font-size=\"14.00\" fill=\"#000000\">1</text>\n",
       "</g>\n",
       "<!-- 138 -->\n",
       "<g id=\"node139\" class=\"node\">\n",
       "<title>138</title>\n",
       "<text text-anchor=\"middle\" x=\"2861.5\" y=\"-1323.8\" font-family=\"Times,serif\" font-size=\"14.00\" fill=\"#000000\">(27) str.substr(cgi_decode_s_str_1, 3, 1) == &quot;5&quot;</text>\n",
       "</g>\n",
       "<!-- 137&#45;&gt;138 -->\n",
       "<g id=\"edge138\" class=\"edge\">\n",
       "<title>137&#45;&gt;138</title>\n",
       "<path fill=\"none\" stroke=\"#ff0000\" d=\"M2989.8667,-1385.929C2964.871,-1374.5516 2917.3956,-1352.9422 2887.7123,-1339.4311\"/>\n",
       "<polygon fill=\"#ff0000\" stroke=\"#ff0000\" points=\"2888.9375,-1336.1433 2878.386,-1335.186 2886.0375,-1342.5144 2888.9375,-1336.1433\"/>\n",
       "<text text-anchor=\"middle\" x=\"2951.5\" y=\"-1356.8\" font-family=\"Times,serif\" font-size=\"14.00\" fill=\"#000000\">0</text>\n",
       "</g>\n",
       "<!-- 173 -->\n",
       "<g id=\"node174\" class=\"node\">\n",
       "<title>173</title>\n",
       "<text text-anchor=\"middle\" x=\"3017.5\" y=\"-1323.8\" font-family=\"Times,serif\" font-size=\"14.00\" fill=\"#000000\">?</text>\n",
       "</g>\n",
       "<!-- 137&#45;&gt;173 -->\n",
       "<g id=\"edge173\" class=\"edge\">\n",
       "<title>137&#45;&gt;173</title>\n",
       "<path fill=\"none\" stroke=\"#0000ff\" d=\"M3007.7618,-1385.929C3009.4019,-1376.0885 3012.3177,-1358.5937 3014.5326,-1345.3047\"/>\n",
       "<polygon fill=\"#0000ff\" stroke=\"#0000ff\" points=\"3017.9931,-1345.8309 3016.1848,-1335.3915 3011.0883,-1344.68 3017.9931,-1345.8309\"/>\n",
       "<text text-anchor=\"middle\" x=\"3017.5\" y=\"-1356.8\" font-family=\"Times,serif\" font-size=\"14.00\" fill=\"#000000\">1</text>\n",
       "</g>\n",
       "<!-- 139 -->\n",
       "<g id=\"node140\" class=\"node\">\n",
       "<title>139</title>\n",
       "<text text-anchor=\"middle\" x=\"2760.5\" y=\"-1257.8\" font-family=\"Times,serif\" font-size=\"14.00\" fill=\"#000000\">(28) str.substr(cgi_decode_s_str_1, 3, 1) == &quot;6&quot;</text>\n",
       "</g>\n",
       "<!-- 138&#45;&gt;139 -->\n",
       "<g id=\"edge139\" class=\"edge\">\n",
       "<title>138&#45;&gt;139</title>\n",
       "<path fill=\"none\" stroke=\"#ff0000\" d=\"M2849.914,-1319.929C2833.0332,-1308.8979 2801.4326,-1288.248 2780.6797,-1274.6867\"/>\n",
       "<polygon fill=\"#ff0000\" stroke=\"#ff0000\" points=\"2782.5477,-1271.7264 2772.262,-1269.186 2778.7185,-1277.5863 2782.5477,-1271.7264\"/>\n",
       "<text text-anchor=\"middle\" x=\"2824.5\" y=\"-1290.8\" font-family=\"Times,serif\" font-size=\"14.00\" fill=\"#000000\">0</text>\n",
       "</g>\n",
       "<!-- 172 -->\n",
       "<g id=\"node173\" class=\"node\">\n",
       "<title>172</title>\n",
       "<text text-anchor=\"middle\" x=\"2916.5\" y=\"-1257.8\" font-family=\"Times,serif\" font-size=\"14.00\" fill=\"#000000\">?</text>\n",
       "</g>\n",
       "<!-- 138&#45;&gt;172 -->\n",
       "<g id=\"edge172\" class=\"edge\">\n",
       "<title>138&#45;&gt;172</title>\n",
       "<path fill=\"none\" stroke=\"#0000ff\" d=\"M2867.8092,-1319.929C2877.2546,-1308.5945 2895.1627,-1287.1048 2906.4299,-1273.5841\"/>\n",
       "<polygon fill=\"#0000ff\" stroke=\"#0000ff\" points=\"2909.2706,-1275.6424 2912.9837,-1265.7195 2903.8931,-1271.1611 2909.2706,-1275.6424\"/>\n",
       "<text text-anchor=\"middle\" x=\"2898.5\" y=\"-1290.8\" font-family=\"Times,serif\" font-size=\"14.00\" fill=\"#000000\">1</text>\n",
       "</g>\n",
       "<!-- 140 -->\n",
       "<g id=\"node141\" class=\"node\">\n",
       "<title>140</title>\n",
       "<text text-anchor=\"middle\" x=\"2625.5\" y=\"-1191.8\" font-family=\"Times,serif\" font-size=\"14.00\" fill=\"#000000\">(29) str.substr(cgi_decode_s_str_1, 3, 1) == &quot;7&quot;</text>\n",
       "</g>\n",
       "<!-- 139&#45;&gt;140 -->\n",
       "<g id=\"edge140\" class=\"edge\">\n",
       "<title>139&#45;&gt;140</title>\n",
       "<path fill=\"none\" stroke=\"#ff0000\" d=\"M2745.0138,-1253.929C2721.8432,-1242.6011 2677.9247,-1221.1299 2650.2659,-1207.6078\"/>\n",
       "<polygon fill=\"#ff0000\" stroke=\"#ff0000\" points=\"2651.7425,-1204.4338 2641.2214,-1203.186 2648.668,-1210.7225 2651.7425,-1204.4338\"/>\n",
       "<text text-anchor=\"middle\" x=\"2709.5\" y=\"-1224.8\" font-family=\"Times,serif\" font-size=\"14.00\" fill=\"#000000\">0</text>\n",
       "</g>\n",
       "<!-- 171 -->\n",
       "<g id=\"node172\" class=\"node\">\n",
       "<title>171</title>\n",
       "<text text-anchor=\"middle\" x=\"2781.5\" y=\"-1191.8\" font-family=\"Times,serif\" font-size=\"14.00\" fill=\"#000000\">?</text>\n",
       "</g>\n",
       "<!-- 139&#45;&gt;171 -->\n",
       "<g id=\"edge171\" class=\"edge\">\n",
       "<title>139&#45;&gt;171</title>\n",
       "<path fill=\"none\" stroke=\"#0000ff\" d=\"M2762.909,-1253.929C2766.04,-1244.0885 2771.6066,-1226.5937 2775.8349,-1213.3047\"/>\n",
       "<polygon fill=\"#0000ff\" stroke=\"#0000ff\" points=\"2779.2922,-1213.982 2778.9891,-1203.3915 2772.6217,-1211.8595 2779.2922,-1213.982\"/>\n",
       "<text text-anchor=\"middle\" x=\"2777.5\" y=\"-1224.8\" font-family=\"Times,serif\" font-size=\"14.00\" fill=\"#000000\">1</text>\n",
       "</g>\n",
       "<!-- 141 -->\n",
       "<g id=\"node142\" class=\"node\">\n",
       "<title>141</title>\n",
       "<text text-anchor=\"middle\" x=\"2552.5\" y=\"-1125.8\" font-family=\"Times,serif\" font-size=\"14.00\" fill=\"#000000\">(30) str.substr(cgi_decode_s_str_1, 3, 1) == &quot;8&quot;</text>\n",
       "</g>\n",
       "<!-- 140&#45;&gt;141 -->\n",
       "<g id=\"edge141\" class=\"edge\">\n",
       "<title>140&#45;&gt;141</title>\n",
       "<path fill=\"none\" stroke=\"#ff0000\" d=\"M2617.126,-1187.929C2605.3711,-1177.3013 2583.7412,-1157.7455 2568.7615,-1144.2021\"/>\n",
       "<polygon fill=\"#ff0000\" stroke=\"#ff0000\" points=\"2570.9935,-1141.5018 2561.2285,-1137.3915 2566.299,-1146.6942 2570.9935,-1141.5018\"/>\n",
       "<text text-anchor=\"middle\" x=\"2600.5\" y=\"-1158.8\" font-family=\"Times,serif\" font-size=\"14.00\" fill=\"#000000\">0</text>\n",
       "</g>\n",
       "<!-- 170 -->\n",
       "<g id=\"node171\" class=\"node\">\n",
       "<title>170</title>\n",
       "<text text-anchor=\"middle\" x=\"2708.5\" y=\"-1125.8\" font-family=\"Times,serif\" font-size=\"14.00\" fill=\"#000000\">?</text>\n",
       "</g>\n",
       "<!-- 140&#45;&gt;170 -->\n",
       "<g id=\"edge170\" class=\"edge\">\n",
       "<title>140&#45;&gt;170</title>\n",
       "<path fill=\"none\" stroke=\"#0000ff\" d=\"M2635.0212,-1187.929C2650.2558,-1175.8147 2680.0792,-1152.0997 2696.6631,-1138.9125\"/>\n",
       "<polygon fill=\"#0000ff\" stroke=\"#0000ff\" points=\"2699.0385,-1141.4953 2704.6872,-1132.5319 2694.6818,-1136.0163 2699.0385,-1141.4953\"/>\n",
       "<text text-anchor=\"middle\" x=\"2678.5\" y=\"-1158.8\" font-family=\"Times,serif\" font-size=\"14.00\" fill=\"#000000\">1</text>\n",
       "</g>\n",
       "<!-- 142 -->\n",
       "<g id=\"node143\" class=\"node\">\n",
       "<title>142</title>\n",
       "<text text-anchor=\"middle\" x=\"2454.5\" y=\"-1059.8\" font-family=\"Times,serif\" font-size=\"14.00\" fill=\"#000000\">(31) str.substr(cgi_decode_s_str_1, 3, 1) == &quot;9&quot;</text>\n",
       "</g>\n",
       "<!-- 141&#45;&gt;142 -->\n",
       "<g id=\"edge142\" class=\"edge\">\n",
       "<title>141&#45;&gt;142</title>\n",
       "<path fill=\"none\" stroke=\"#ff0000\" d=\"M2541.2582,-1121.929C2524.9522,-1110.9474 2494.4915,-1090.433 2474.3518,-1076.8696\"/>\n",
       "<polygon fill=\"#ff0000\" stroke=\"#ff0000\" points=\"2476.1621,-1073.869 2465.9126,-1071.186 2472.2519,-1079.6751 2476.1621,-1073.869\"/>\n",
       "<text text-anchor=\"middle\" x=\"2516.5\" y=\"-1092.8\" font-family=\"Times,serif\" font-size=\"14.00\" fill=\"#000000\">0</text>\n",
       "</g>\n",
       "<!-- 169 -->\n",
       "<g id=\"node170\" class=\"node\">\n",
       "<title>169</title>\n",
       "<text text-anchor=\"middle\" x=\"2610.5\" y=\"-1059.8\" font-family=\"Times,serif\" font-size=\"14.00\" fill=\"#000000\">?</text>\n",
       "</g>\n",
       "<!-- 141&#45;&gt;169 -->\n",
       "<g id=\"edge169\" class=\"edge\">\n",
       "<title>141&#45;&gt;169</title>\n",
       "<path fill=\"none\" stroke=\"#0000ff\" d=\"M2559.1533,-1121.929C2569.1139,-1110.5945 2587.9988,-1089.1048 2599.8806,-1075.5841\"/>\n",
       "<polygon fill=\"#0000ff\" stroke=\"#0000ff\" points=\"2602.8198,-1077.5416 2606.7919,-1067.7195 2597.5617,-1072.9208 2602.8198,-1077.5416\"/>\n",
       "<text text-anchor=\"middle\" x=\"2591.5\" y=\"-1092.8\" font-family=\"Times,serif\" font-size=\"14.00\" fill=\"#000000\">1</text>\n",
       "</g>\n",
       "<!-- 143 -->\n",
       "<g id=\"node144\" class=\"node\">\n",
       "<title>143</title>\n",
       "<text text-anchor=\"middle\" x=\"2318.5\" y=\"-993.8\" font-family=\"Times,serif\" font-size=\"14.00\" fill=\"#000000\">(32) str.substr(cgi_decode_s_str_1, 3, 1) == &quot;a&quot;</text>\n",
       "</g>\n",
       "<!-- 142&#45;&gt;143 -->\n",
       "<g id=\"edge143\" class=\"edge\">\n",
       "<title>142&#45;&gt;143</title>\n",
       "<path fill=\"none\" stroke=\"#ff0000\" d=\"M2438.8991,-1055.929C2415.5568,-1044.6011 2371.3131,-1023.1299 2343.4494,-1009.6078\"/>\n",
       "<polygon fill=\"#ff0000\" stroke=\"#ff0000\" points=\"2344.8626,-1006.4033 2334.3379,-1005.186 2341.8064,-1012.7009 2344.8626,-1006.4033\"/>\n",
       "<text text-anchor=\"middle\" x=\"2403.5\" y=\"-1026.8\" font-family=\"Times,serif\" font-size=\"14.00\" fill=\"#000000\">0</text>\n",
       "</g>\n",
       "<!-- 168 -->\n",
       "<g id=\"node169\" class=\"node\">\n",
       "<title>168</title>\n",
       "<text text-anchor=\"middle\" x=\"2473.5\" y=\"-993.8\" font-family=\"Times,serif\" font-size=\"14.00\" fill=\"#000000\">?</text>\n",
       "</g>\n",
       "<!-- 142&#45;&gt;168 -->\n",
       "<g id=\"edge168\" class=\"edge\">\n",
       "<title>142&#45;&gt;168</title>\n",
       "<path fill=\"none\" stroke=\"#0000ff\" d=\"M2456.6795,-1055.929C2459.5124,-1046.0885 2464.5488,-1028.5937 2468.3744,-1015.3047\"/>\n",
       "<polygon fill=\"#0000ff\" stroke=\"#0000ff\" points=\"2471.8251,-1015.9695 2471.2282,-1005.3915 2465.0983,-1014.0329 2471.8251,-1015.9695\"/>\n",
       "<text text-anchor=\"middle\" x=\"2470.5\" y=\"-1026.8\" font-family=\"Times,serif\" font-size=\"14.00\" fill=\"#000000\">1</text>\n",
       "</g>\n",
       "<!-- 144 -->\n",
       "<g id=\"node145\" class=\"node\">\n",
       "<title>144</title>\n",
       "<text text-anchor=\"middle\" x=\"2189.5\" y=\"-927.8\" font-family=\"Times,serif\" font-size=\"14.00\" fill=\"#000000\">(33) str.substr(cgi_decode_s_str_1, 3, 1) == &quot;b&quot;</text>\n",
       "</g>\n",
       "<!-- 143&#45;&gt;144 -->\n",
       "<g id=\"edge144\" class=\"edge\">\n",
       "<title>143&#45;&gt;144</title>\n",
       "<path fill=\"none\" stroke=\"#ff0000\" d=\"M2303.7021,-989.929C2281.6579,-978.6506 2239.9609,-957.3172 2213.5124,-943.7854\"/>\n",
       "<polygon fill=\"#ff0000\" stroke=\"#ff0000\" points=\"2215.0194,-940.625 2204.5227,-939.186 2211.831,-946.8567 2215.0194,-940.625\"/>\n",
       "<text text-anchor=\"middle\" x=\"2270.5\" y=\"-960.8\" font-family=\"Times,serif\" font-size=\"14.00\" fill=\"#000000\">0</text>\n",
       "</g>\n",
       "<!-- 167 -->\n",
       "<g id=\"node168\" class=\"node\">\n",
       "<title>167</title>\n",
       "<text text-anchor=\"middle\" x=\"2345.5\" y=\"-927.8\" font-family=\"Times,serif\" font-size=\"14.00\" fill=\"#000000\">?</text>\n",
       "</g>\n",
       "<!-- 143&#45;&gt;167 -->\n",
       "<g id=\"edge167\" class=\"edge\">\n",
       "<title>143&#45;&gt;167</title>\n",
       "<path fill=\"none\" stroke=\"#0000ff\" d=\"M2321.5972,-989.929C2325.6631,-979.9901 2332.9233,-962.243 2338.3788,-948.9073\"/>\n",
       "<polygon fill=\"#0000ff\" stroke=\"#0000ff\" points=\"2341.7247,-949.9722 2342.2717,-939.3915 2335.2459,-947.3217 2341.7247,-949.9722\"/>\n",
       "<text text-anchor=\"middle\" x=\"2338.5\" y=\"-960.8\" font-family=\"Times,serif\" font-size=\"14.00\" fill=\"#000000\">1</text>\n",
       "</g>\n",
       "<!-- 145 -->\n",
       "<g id=\"node146\" class=\"node\">\n",
       "<title>145</title>\n",
       "<text text-anchor=\"middle\" x=\"2041.5\" y=\"-861.8\" font-family=\"Times,serif\" font-size=\"14.00\" fill=\"#000000\">(34) str.substr(cgi_decode_s_str_1, 3, 1) == &quot;c&quot;</text>\n",
       "</g>\n",
       "<!-- 144&#45;&gt;145 -->\n",
       "<g id=\"edge145\" class=\"edge\">\n",
       "<title>144&#45;&gt;145</title>\n",
       "<path fill=\"none\" stroke=\"#ff0000\" d=\"M2172.5225,-923.929C2147.0097,-912.5516 2098.5521,-890.9422 2068.2546,-877.4311\"/>\n",
       "<polygon fill=\"#ff0000\" stroke=\"#ff0000\" points=\"2069.2939,-874.0624 2058.7354,-873.186 2066.4429,-880.4555 2069.2939,-874.0624\"/>\n",
       "<text text-anchor=\"middle\" x=\"2133.5\" y=\"-894.8\" font-family=\"Times,serif\" font-size=\"14.00\" fill=\"#000000\">0</text>\n",
       "</g>\n",
       "<!-- 166 -->\n",
       "<g id=\"node167\" class=\"node\">\n",
       "<title>166</title>\n",
       "<text text-anchor=\"middle\" x=\"2196.5\" y=\"-861.8\" font-family=\"Times,serif\" font-size=\"14.00\" fill=\"#000000\">?</text>\n",
       "</g>\n",
       "<!-- 144&#45;&gt;166 -->\n",
       "<g id=\"edge166\" class=\"edge\">\n",
       "<title>144&#45;&gt;166</title>\n",
       "<path fill=\"none\" stroke=\"#0000ff\" d=\"M2190.303,-923.929C2191.3362,-914.1869 2193.1652,-896.9428 2194.5692,-883.7046\"/>\n",
       "<polygon fill=\"#0000ff\" stroke=\"#0000ff\" points=\"2198.0887,-883.7049 2195.663,-873.3915 2191.1278,-882.9666 2198.0887,-883.7049\"/>\n",
       "<text text-anchor=\"middle\" x=\"2198.5\" y=\"-894.8\" font-family=\"Times,serif\" font-size=\"14.00\" fill=\"#000000\">1</text>\n",
       "</g>\n",
       "<!-- 146 -->\n",
       "<g id=\"node147\" class=\"node\">\n",
       "<title>146</title>\n",
       "<text text-anchor=\"middle\" x=\"1915.5\" y=\"-795.8\" font-family=\"Times,serif\" font-size=\"14.00\" fill=\"#000000\">(35) str.substr(cgi_decode_s_str_1, 3, 1) == &quot;d&quot;</text>\n",
       "</g>\n",
       "<!-- 145&#45;&gt;146 -->\n",
       "<g id=\"edge146\" class=\"edge\">\n",
       "<title>145&#45;&gt;146</title>\n",
       "<path fill=\"none\" stroke=\"#ff0000\" d=\"M2027.0462,-857.929C2005.6092,-846.7 1965.1443,-825.5041 1939.2947,-811.9639\"/>\n",
       "<polygon fill=\"#ff0000\" stroke=\"#ff0000\" points=\"1940.6557,-808.7257 1930.1733,-807.186 1937.4076,-814.9266 1940.6557,-808.7257\"/>\n",
       "<text text-anchor=\"middle\" x=\"1994.5\" y=\"-828.8\" font-family=\"Times,serif\" font-size=\"14.00\" fill=\"#000000\">0</text>\n",
       "</g>\n",
       "<!-- 165 -->\n",
       "<g id=\"node166\" class=\"node\">\n",
       "<title>165</title>\n",
       "<text text-anchor=\"middle\" x=\"2071.5\" y=\"-795.8\" font-family=\"Times,serif\" font-size=\"14.00\" fill=\"#000000\">?</text>\n",
       "</g>\n",
       "<!-- 145&#45;&gt;165 -->\n",
       "<g id=\"edge165\" class=\"edge\">\n",
       "<title>145&#45;&gt;165</title>\n",
       "<path fill=\"none\" stroke=\"#0000ff\" d=\"M2044.9414,-857.929C2049.5038,-847.8917 2057.686,-829.8908 2063.7671,-816.5125\"/>\n",
       "<polygon fill=\"#0000ff\" stroke=\"#0000ff\" points=\"2066.9612,-817.9435 2067.913,-807.3915 2060.5886,-815.0468 2066.9612,-817.9435\"/>\n",
       "<text text-anchor=\"middle\" x=\"2063.5\" y=\"-828.8\" font-family=\"Times,serif\" font-size=\"14.00\" fill=\"#000000\">1</text>\n",
       "</g>\n",
       "<!-- 147 -->\n",
       "<g id=\"node148\" class=\"node\">\n",
       "<title>147</title>\n",
       "<text text-anchor=\"middle\" x=\"1888.5\" y=\"-729.8\" font-family=\"Times,serif\" font-size=\"14.00\" fill=\"#000000\">(36) str.substr(cgi_decode_s_str_1, 3, 1) == &quot;e&quot;</text>\n",
       "</g>\n",
       "<!-- 146&#45;&gt;147 -->\n",
       "<g id=\"edge147\" class=\"edge\">\n",
       "<title>146&#45;&gt;147</title>\n",
       "<path fill=\"none\" stroke=\"#ff0000\" d=\"M1912.4028,-791.929C1908.3369,-781.9901 1901.0767,-764.243 1895.6212,-750.9073\"/>\n",
       "<polygon fill=\"#ff0000\" stroke=\"#ff0000\" points=\"1898.7541,-749.3217 1891.7283,-741.3915 1892.2753,-751.9722 1898.7541,-749.3217\"/>\n",
       "<text text-anchor=\"middle\" x=\"1908.5\" y=\"-762.8\" font-family=\"Times,serif\" font-size=\"14.00\" fill=\"#000000\">0</text>\n",
       "</g>\n",
       "<!-- 164 -->\n",
       "<g id=\"node165\" class=\"node\">\n",
       "<title>164</title>\n",
       "<text text-anchor=\"middle\" x=\"2043.5\" y=\"-729.8\" font-family=\"Times,serif\" font-size=\"14.00\" fill=\"#000000\">?</text>\n",
       "</g>\n",
       "<!-- 146&#45;&gt;164 -->\n",
       "<g id=\"edge164\" class=\"edge\">\n",
       "<title>146&#45;&gt;164</title>\n",
       "<path fill=\"none\" stroke=\"#0000ff\" d=\"M1930.8871,-791.9943C1953.0728,-781.0999 1995.2535,-760.1149 2030.5,-741 2030.5973,-740.9472 2030.695,-740.8941 2030.793,-740.8407\"/>\n",
       "<polygon fill=\"#0000ff\" stroke=\"#0000ff\" points=\"2032.7075,-743.7782 2039.6619,-735.7853 2029.241,-737.6968 2032.7075,-743.7782\"/>\n",
       "<text text-anchor=\"middle\" x=\"2000.5\" y=\"-762.8\" font-family=\"Times,serif\" font-size=\"14.00\" fill=\"#000000\">1</text>\n",
       "</g>\n",
       "<!-- 148 -->\n",
       "<g id=\"node149\" class=\"node\">\n",
       "<title>148</title>\n",
       "<text text-anchor=\"middle\" x=\"1772.5\" y=\"-663.8\" font-family=\"Times,serif\" font-size=\"14.00\" fill=\"#000000\">(37) str.substr(cgi_decode_s_str_1, 3, 1) == &quot;f&quot;</text>\n",
       "</g>\n",
       "<!-- 147&#45;&gt;148 -->\n",
       "<g id=\"edge148\" class=\"edge\">\n",
       "<title>147&#45;&gt;148</title>\n",
       "<path fill=\"none\" stroke=\"#ff0000\" d=\"M1875.1933,-725.929C1855.5446,-714.7495 1818.5321,-693.6907 1794.7215,-680.1433\"/>\n",
       "<polygon fill=\"#ff0000\" stroke=\"#ff0000\" points=\"1796.4313,-677.0893 1786.0088,-675.186 1792.9696,-683.1734 1796.4313,-677.0893\"/>\n",
       "<text text-anchor=\"middle\" x=\"1845.5\" y=\"-696.8\" font-family=\"Times,serif\" font-size=\"14.00\" fill=\"#000000\">0</text>\n",
       "</g>\n",
       "<!-- 163 -->\n",
       "<g id=\"node164\" class=\"node\">\n",
       "<title>163</title>\n",
       "<text text-anchor=\"middle\" x=\"1927.5\" y=\"-663.8\" font-family=\"Times,serif\" font-size=\"14.00\" fill=\"#000000\">?</text>\n",
       "</g>\n",
       "<!-- 147&#45;&gt;163 -->\n",
       "<g id=\"edge163\" class=\"edge\">\n",
       "<title>147&#45;&gt;163</title>\n",
       "<path fill=\"none\" stroke=\"#0000ff\" d=\"M1892.9738,-725.929C1899.2238,-715.3521 1910.6992,-695.9322 1918.6974,-682.3967\"/>\n",
       "<polygon fill=\"#0000ff\" stroke=\"#0000ff\" points=\"1921.9177,-683.8268 1923.9918,-673.437 1915.8912,-680.2657 1921.9177,-683.8268\"/>\n",
       "<text text-anchor=\"middle\" x=\"1915.5\" y=\"-696.8\" font-family=\"Times,serif\" font-size=\"14.00\" fill=\"#000000\">1</text>\n",
       "</g>\n",
       "<!-- 149 -->\n",
       "<g id=\"node150\" class=\"node\">\n",
       "<title>149</title>\n",
       "<text text-anchor=\"middle\" x=\"1634.5\" y=\"-597.8\" font-family=\"Times,serif\" font-size=\"14.00\" fill=\"#000000\">(38) str.substr(cgi_decode_s_str_1, 3, 1) == &quot;A&quot;</text>\n",
       "</g>\n",
       "<!-- 148&#45;&gt;149 -->\n",
       "<g id=\"edge149\" class=\"edge\">\n",
       "<title>148&#45;&gt;149</title>\n",
       "<path fill=\"none\" stroke=\"#ff0000\" d=\"M1756.6696,-659.929C1732.9841,-648.6011 1688.0897,-627.1299 1659.8163,-613.6078\"/>\n",
       "<polygon fill=\"#ff0000\" stroke=\"#ff0000\" points=\"1661.1023,-610.3432 1650.5708,-609.186 1658.082,-616.6581 1661.1023,-610.3432\"/>\n",
       "<text text-anchor=\"middle\" x=\"1720.5\" y=\"-630.8\" font-family=\"Times,serif\" font-size=\"14.00\" fill=\"#000000\">0</text>\n",
       "</g>\n",
       "<!-- 162 -->\n",
       "<g id=\"node163\" class=\"node\">\n",
       "<title>162</title>\n",
       "<text text-anchor=\"middle\" x=\"1791.5\" y=\"-597.8\" font-family=\"Times,serif\" font-size=\"14.00\" fill=\"#000000\">?</text>\n",
       "</g>\n",
       "<!-- 148&#45;&gt;162 -->\n",
       "<g id=\"edge162\" class=\"edge\">\n",
       "<title>148&#45;&gt;162</title>\n",
       "<path fill=\"none\" stroke=\"#0000ff\" d=\"M1774.6795,-659.929C1777.5124,-650.0885 1782.5488,-632.5937 1786.3744,-619.3047\"/>\n",
       "<polygon fill=\"#0000ff\" stroke=\"#0000ff\" points=\"1789.8251,-619.9695 1789.2282,-609.3915 1783.0983,-618.0329 1789.8251,-619.9695\"/>\n",
       "<text text-anchor=\"middle\" x=\"1788.5\" y=\"-630.8\" font-family=\"Times,serif\" font-size=\"14.00\" fill=\"#000000\">1</text>\n",
       "</g>\n",
       "<!-- 150 -->\n",
       "<g id=\"node151\" class=\"node\">\n",
       "<title>150</title>\n",
       "<text text-anchor=\"middle\" x=\"1527.5\" y=\"-531.8\" font-family=\"Times,serif\" font-size=\"14.00\" fill=\"#000000\">(39) str.substr(cgi_decode_s_str_1, 3, 1) == &quot;B&quot;</text>\n",
       "</g>\n",
       "<!-- 149&#45;&gt;150 -->\n",
       "<g id=\"edge150\" class=\"edge\">\n",
       "<title>149&#45;&gt;150</title>\n",
       "<path fill=\"none\" stroke=\"#ff0000\" d=\"M1622.2257,-593.929C1604.2619,-582.8484 1570.5637,-562.0626 1548.5834,-548.5047\"/>\n",
       "<polygon fill=\"#ff0000\" stroke=\"#ff0000\" points=\"1550.3093,-545.457 1539.9607,-543.186 1546.6344,-551.4148 1550.3093,-545.457\"/>\n",
       "<text text-anchor=\"middle\" x=\"1595.5\" y=\"-564.8\" font-family=\"Times,serif\" font-size=\"14.00\" fill=\"#000000\">0</text>\n",
       "</g>\n",
       "<!-- 161 -->\n",
       "<g id=\"node162\" class=\"node\">\n",
       "<title>161</title>\n",
       "<text text-anchor=\"middle\" x=\"1684.5\" y=\"-531.8\" font-family=\"Times,serif\" font-size=\"14.00\" fill=\"#000000\">?</text>\n",
       "</g>\n",
       "<!-- 149&#45;&gt;161 -->\n",
       "<g id=\"edge161\" class=\"edge\">\n",
       "<title>149&#45;&gt;161</title>\n",
       "<path fill=\"none\" stroke=\"#0000ff\" d=\"M1640.2356,-593.929C1648.6556,-582.8146 1664.4731,-561.9355 1674.742,-548.3806\"/>\n",
       "<polygon fill=\"#0000ff\" stroke=\"#0000ff\" points=\"1677.5568,-550.461 1680.8056,-540.3766 1671.9772,-546.234 1677.5568,-550.461\"/>\n",
       "<text text-anchor=\"middle\" x=\"1668.5\" y=\"-564.8\" font-family=\"Times,serif\" font-size=\"14.00\" fill=\"#000000\">1</text>\n",
       "</g>\n",
       "<!-- 151 -->\n",
       "<g id=\"node152\" class=\"node\">\n",
       "<title>151</title>\n",
       "<text text-anchor=\"middle\" x=\"1428.5\" y=\"-465.8\" font-family=\"Times,serif\" font-size=\"14.00\" fill=\"#000000\">(40) str.substr(cgi_decode_s_str_1, 3, 1) == &quot;C&quot;</text>\n",
       "</g>\n",
       "<!-- 150&#45;&gt;151 -->\n",
       "<g id=\"edge151\" class=\"edge\">\n",
       "<title>150&#45;&gt;151</title>\n",
       "<path fill=\"none\" stroke=\"#ff0000\" d=\"M1516.1434,-527.929C1499.6711,-516.9474 1468.8996,-496.433 1448.5544,-482.8696\"/>\n",
       "<polygon fill=\"#ff0000\" stroke=\"#ff0000\" points=\"1450.291,-479.8209 1440.0291,-477.186 1446.4081,-485.6453 1450.291,-479.8209\"/>\n",
       "<text text-anchor=\"middle\" x=\"1491.5\" y=\"-498.8\" font-family=\"Times,serif\" font-size=\"14.00\" fill=\"#000000\">0</text>\n",
       "</g>\n",
       "<!-- 160 -->\n",
       "<g id=\"node161\" class=\"node\">\n",
       "<title>160</title>\n",
       "<text text-anchor=\"middle\" x=\"1585.5\" y=\"-465.8\" font-family=\"Times,serif\" font-size=\"14.00\" fill=\"#000000\">?</text>\n",
       "</g>\n",
       "<!-- 150&#45;&gt;160 -->\n",
       "<g id=\"edge160\" class=\"edge\">\n",
       "<title>150&#45;&gt;160</title>\n",
       "<path fill=\"none\" stroke=\"#0000ff\" d=\"M1534.1533,-527.929C1544.1139,-516.5945 1562.9988,-495.1048 1574.8806,-481.5841\"/>\n",
       "<polygon fill=\"#0000ff\" stroke=\"#0000ff\" points=\"1577.8198,-483.5416 1581.7919,-473.7195 1572.5617,-478.9208 1577.8198,-483.5416\"/>\n",
       "<text text-anchor=\"middle\" x=\"1566.5\" y=\"-498.8\" font-family=\"Times,serif\" font-size=\"14.00\" fill=\"#000000\">1</text>\n",
       "</g>\n",
       "<!-- 152 -->\n",
       "<g id=\"node153\" class=\"node\">\n",
       "<title>152</title>\n",
       "<text text-anchor=\"middle\" x=\"1279.5\" y=\"-399.8\" font-family=\"Times,serif\" font-size=\"14.00\" fill=\"#000000\">(41) str.substr(cgi_decode_s_str_1, 3, 1) == &quot;D&quot;</text>\n",
       "</g>\n",
       "<!-- 151&#45;&gt;152 -->\n",
       "<g id=\"edge152\" class=\"edge\">\n",
       "<title>151&#45;&gt;152</title>\n",
       "<path fill=\"none\" stroke=\"#ff0000\" d=\"M1411.4078,-461.929C1385.611,-450.5022 1336.5129,-428.7541 1306.0386,-415.2553\"/>\n",
       "<polygon fill=\"#ff0000\" stroke=\"#ff0000\" points=\"1307.4125,-412.036 1296.8518,-411.186 1304.5775,-418.4362 1307.4125,-412.036\"/>\n",
       "<text text-anchor=\"middle\" x=\"1371.5\" y=\"-432.8\" font-family=\"Times,serif\" font-size=\"14.00\" fill=\"#000000\">0</text>\n",
       "</g>\n",
       "<!-- 159 -->\n",
       "<g id=\"node160\" class=\"node\">\n",
       "<title>159</title>\n",
       "<text text-anchor=\"middle\" x=\"1436.5\" y=\"-399.8\" font-family=\"Times,serif\" font-size=\"14.00\" fill=\"#000000\">?</text>\n",
       "</g>\n",
       "<!-- 151&#45;&gt;159 -->\n",
       "<g id=\"edge159\" class=\"edge\">\n",
       "<title>151&#45;&gt;159</title>\n",
       "<path fill=\"none\" stroke=\"#0000ff\" d=\"M1429.4177,-461.929C1430.5986,-452.1869 1432.6888,-434.9428 1434.2934,-421.7046\"/>\n",
       "<polygon fill=\"#0000ff\" stroke=\"#0000ff\" points=\"1437.8146,-421.74 1435.5435,-411.3915 1430.8655,-420.8976 1437.8146,-421.74\"/>\n",
       "<text text-anchor=\"middle\" x=\"1437.5\" y=\"-432.8\" font-family=\"Times,serif\" font-size=\"14.00\" fill=\"#000000\">1</text>\n",
       "</g>\n",
       "<!-- 153 -->\n",
       "<g id=\"node154\" class=\"node\">\n",
       "<title>153</title>\n",
       "<text text-anchor=\"middle\" x=\"1247.5\" y=\"-333.8\" font-family=\"Times,serif\" font-size=\"14.00\" fill=\"#000000\">(42) str.substr(cgi_decode_s_str_1, 3, 1) == &quot;E&quot;</text>\n",
       "</g>\n",
       "<!-- 152&#45;&gt;153 -->\n",
       "<g id=\"edge153\" class=\"edge\">\n",
       "<title>152&#45;&gt;153</title>\n",
       "<path fill=\"none\" stroke=\"#ff0000\" d=\"M1275.8292,-395.929C1270.9627,-385.8917 1262.2349,-367.8908 1255.7485,-354.5125\"/>\n",
       "<polygon fill=\"#ff0000\" stroke=\"#ff0000\" points=\"1258.8383,-352.8627 1251.3262,-345.3915 1252.5396,-355.9166 1258.8383,-352.8627\"/>\n",
       "<text text-anchor=\"middle\" x=\"1270.5\" y=\"-366.8\" font-family=\"Times,serif\" font-size=\"14.00\" fill=\"#000000\">0</text>\n",
       "</g>\n",
       "<!-- 158 -->\n",
       "<g id=\"node159\" class=\"node\">\n",
       "<title>158</title>\n",
       "<text text-anchor=\"middle\" x=\"1404.5\" y=\"-333.8\" font-family=\"Times,serif\" font-size=\"14.00\" fill=\"#000000\">?</text>\n",
       "</g>\n",
       "<!-- 152&#45;&gt;158 -->\n",
       "<g id=\"edge158\" class=\"edge\">\n",
       "<title>152&#45;&gt;158</title>\n",
       "<path fill=\"none\" stroke=\"#0000ff\" d=\"M1294.4613,-395.9374C1316.0386,-384.9738 1357.0832,-363.9054 1391.5,-345 1391.5971,-344.9467 1391.6945,-344.8931 1391.7922,-344.8392\"/>\n",
       "<polygon fill=\"#0000ff\" stroke=\"#0000ff\" points=\"1393.7099,-347.7745 1400.6559,-339.7743 1390.237,-341.6968 1393.7099,-347.7745\"/>\n",
       "<text text-anchor=\"middle\" x=\"1362.5\" y=\"-366.8\" font-family=\"Times,serif\" font-size=\"14.00\" fill=\"#000000\">1</text>\n",
       "</g>\n",
       "<!-- 154 -->\n",
       "<g id=\"node155\" class=\"node\">\n",
       "<title>154</title>\n",
       "<text text-anchor=\"middle\" x=\"1192.5\" y=\"-267.8\" font-family=\"Times,serif\" font-size=\"14.00\" fill=\"#000000\">(43) str.substr(cgi_decode_s_str_1, 3, 1) == &quot;F&quot;</text>\n",
       "</g>\n",
       "<!-- 153&#45;&gt;154 -->\n",
       "<g id=\"edge154\" class=\"edge\">\n",
       "<title>153&#45;&gt;154</title>\n",
       "<path fill=\"none\" stroke=\"#ff0000\" d=\"M1241.1908,-329.929C1232.5804,-319.5965 1216.9375,-300.825 1205.7036,-287.3443\"/>\n",
       "<polygon fill=\"#ff0000\" stroke=\"#ff0000\" points=\"1208.1669,-284.8331 1199.0762,-279.3915 1202.7893,-289.3144 1208.1669,-284.8331\"/>\n",
       "<text text-anchor=\"middle\" x=\"1229.5\" y=\"-300.8\" font-family=\"Times,serif\" font-size=\"14.00\" fill=\"#000000\">0</text>\n",
       "</g>\n",
       "<!-- 157 -->\n",
       "<g id=\"node158\" class=\"node\">\n",
       "<title>157</title>\n",
       "<text text-anchor=\"middle\" x=\"1348.5\" y=\"-267.8\" font-family=\"Times,serif\" font-size=\"14.00\" fill=\"#000000\">?</text>\n",
       "</g>\n",
       "<!-- 153&#45;&gt;157 -->\n",
       "<g id=\"edge157\" class=\"edge\">\n",
       "<title>153&#45;&gt;157</title>\n",
       "<path fill=\"none\" stroke=\"#0000ff\" d=\"M1259.086,-329.929C1278.2358,-317.4152 1316.3281,-292.5232 1336.0385,-279.6432\"/>\n",
       "<polygon fill=\"#0000ff\" stroke=\"#0000ff\" points=\"1338.2113,-282.4044 1344.6678,-274.0042 1334.3821,-276.5446 1338.2113,-282.4044\"/>\n",
       "<text text-anchor=\"middle\" x=\"1311.5\" y=\"-300.8\" font-family=\"Times,serif\" font-size=\"14.00\" fill=\"#000000\">1</text>\n",
       "</g>\n",
       "<!-- 155 -->\n",
       "<g id=\"node156\" class=\"node\">\n",
       "<title>155</title>\n",
       "<text text-anchor=\"middle\" x=\"1165.5\" y=\"-201.8\" font-family=\"Times,serif\" font-size=\"14.00\" fill=\"#000000\">* +%C\\x00</text>\n",
       "</g>\n",
       "<!-- 154&#45;&gt;155 -->\n",
       "<g id=\"edge155\" class=\"edge\">\n",
       "<title>154&#45;&gt;155</title>\n",
       "<path fill=\"none\" stroke=\"#ff0000\" d=\"M1189.4028,-263.929C1185.3369,-253.9901 1178.0767,-236.243 1172.6212,-222.9073\"/>\n",
       "<polygon fill=\"#ff0000\" stroke=\"#ff0000\" points=\"1175.7541,-221.3217 1168.7283,-213.3915 1169.2753,-223.9722 1175.7541,-221.3217\"/>\n",
       "<text text-anchor=\"middle\" x=\"1185.5\" y=\"-234.8\" font-family=\"Times,serif\" font-size=\"14.00\" fill=\"#000000\">0</text>\n",
       "</g>\n",
       "<!-- 156 -->\n",
       "<g id=\"node157\" class=\"node\">\n",
       "<title>156</title>\n",
       "<text text-anchor=\"middle\" x=\"1219.5\" y=\"-201.8\" font-family=\"Times,serif\" font-size=\"14.00\" fill=\"#000000\">?</text>\n",
       "</g>\n",
       "<!-- 154&#45;&gt;156 -->\n",
       "<g id=\"edge156\" class=\"edge\">\n",
       "<title>154&#45;&gt;156</title>\n",
       "<path fill=\"none\" stroke=\"#0000ff\" d=\"M1195.5972,-263.929C1199.6631,-253.9901 1206.9233,-236.243 1212.3788,-222.9073\"/>\n",
       "<polygon fill=\"#0000ff\" stroke=\"#0000ff\" points=\"1215.7247,-223.9722 1216.2717,-213.3915 1209.2459,-221.3217 1215.7247,-223.9722\"/>\n",
       "<text text-anchor=\"middle\" x=\"1212.5\" y=\"-234.8\" font-family=\"Times,serif\" font-size=\"14.00\" fill=\"#000000\">1</text>\n",
       "</g>\n",
       "<!-- 192 -->\n",
       "<g id=\"node193\" class=\"node\">\n",
       "<title>192</title>\n",
       "<text text-anchor=\"middle\" x=\"4764.5\" y=\"-2511.8\" font-family=\"Times,serif\" font-size=\"14.00\" fill=\"#000000\">(9) str.substr(cgi_decode_s_str_1, 3, 1) == &quot;1&quot;</text>\n",
       "</g>\n",
       "<!-- 191&#45;&gt;192 -->\n",
       "<g id=\"edge192\" class=\"edge\">\n",
       "<title>191&#45;&gt;192</title>\n",
       "<path fill=\"none\" stroke=\"#ff0000\" d=\"M4870.7345,-2573.929C4850.4082,-2562.7495 4812.1194,-2541.6907 4787.4878,-2528.1433\"/>\n",
       "<polygon fill=\"#ff0000\" stroke=\"#ff0000\" points=\"4788.9235,-2524.9385 4778.4746,-2523.186 4785.5501,-2531.072 4788.9235,-2524.9385\"/>\n",
       "<text text-anchor=\"middle\" x=\"4839.5\" y=\"-2544.8\" font-family=\"Times,serif\" font-size=\"14.00\" fill=\"#000000\">0</text>\n",
       "</g>\n",
       "<!-- 235 -->\n",
       "<g id=\"node236\" class=\"node\">\n",
       "<title>235</title>\n",
       "<text text-anchor=\"middle\" x=\"4916.5\" y=\"-2511.8\" font-family=\"Times,serif\" font-size=\"14.00\" fill=\"#000000\">?</text>\n",
       "</g>\n",
       "<!-- 191&#45;&gt;235 -->\n",
       "<g id=\"edge235\" class=\"edge\">\n",
       "<title>191&#45;&gt;235</title>\n",
       "<path fill=\"none\" stroke=\"#0000ff\" d=\"M4888.1708,-2573.929C4893.0897,-2563.7838 4901.9532,-2545.5028 4908.46,-2532.0825\"/>\n",
       "<polygon fill=\"#0000ff\" stroke=\"#0000ff\" points=\"4911.6586,-2533.5079 4912.872,-2522.9827 4905.3599,-2530.4539 4911.6586,-2533.5079\"/>\n",
       "<text text-anchor=\"middle\" x=\"4907.5\" y=\"-2544.8\" font-family=\"Times,serif\" font-size=\"14.00\" fill=\"#000000\">1</text>\n",
       "</g>\n",
       "<!-- 193 -->\n",
       "<g id=\"node194\" class=\"node\">\n",
       "<title>193</title>\n",
       "<text text-anchor=\"middle\" x=\"4676.5\" y=\"-2445.8\" font-family=\"Times,serif\" font-size=\"14.00\" fill=\"#000000\">(10) str.substr(cgi_decode_s_str_1, 3, 1) == &quot;2&quot;</text>\n",
       "</g>\n",
       "<!-- 192&#45;&gt;193 -->\n",
       "<g id=\"edge193\" class=\"edge\">\n",
       "<title>192&#45;&gt;193</title>\n",
       "<path fill=\"none\" stroke=\"#ff0000\" d=\"M4754.4053,-2507.929C4739.8951,-2497.0463 4712.9025,-2476.8019 4694.8171,-2463.2378\"/>\n",
       "<polygon fill=\"#ff0000\" stroke=\"#ff0000\" points=\"4696.8481,-2460.3861 4686.7481,-2457.186 4692.6481,-2465.9861 4696.8481,-2460.3861\"/>\n",
       "<text text-anchor=\"middle\" x=\"4732.5\" y=\"-2478.8\" font-family=\"Times,serif\" font-size=\"14.00\" fill=\"#000000\">0</text>\n",
       "</g>\n",
       "<!-- 234 -->\n",
       "<g id=\"node235\" class=\"node\">\n",
       "<title>234</title>\n",
       "<text text-anchor=\"middle\" x=\"4832.5\" y=\"-2445.8\" font-family=\"Times,serif\" font-size=\"14.00\" fill=\"#000000\">?</text>\n",
       "</g>\n",
       "<!-- 192&#45;&gt;234 -->\n",
       "<g id=\"edge234\" class=\"edge\">\n",
       "<title>192&#45;&gt;234</title>\n",
       "<path fill=\"none\" stroke=\"#0000ff\" d=\"M4772.3005,-2507.929C4784.3196,-2496.2633 4807.4221,-2473.8403 4821.2493,-2460.4198\"/>\n",
       "<polygon fill=\"#0000ff\" stroke=\"#0000ff\" points=\"4824.0485,-2462.5805 4828.7866,-2453.1041 4819.1731,-2457.5574 4824.0485,-2462.5805\"/>\n",
       "<text text-anchor=\"middle\" x=\"4809.5\" y=\"-2478.8\" font-family=\"Times,serif\" font-size=\"14.00\" fill=\"#000000\">1</text>\n",
       "</g>\n",
       "<!-- 194 -->\n",
       "<g id=\"node195\" class=\"node\">\n",
       "<title>194</title>\n",
       "<text text-anchor=\"middle\" x=\"4661.5\" y=\"-2379.8\" font-family=\"Times,serif\" font-size=\"14.00\" fill=\"#000000\">(11) str.substr(cgi_decode_s_str_1, 3, 1) == &quot;3&quot;</text>\n",
       "</g>\n",
       "<!-- 193&#45;&gt;194 -->\n",
       "<g id=\"edge194\" class=\"edge\">\n",
       "<title>193&#45;&gt;194</title>\n",
       "<path fill=\"none\" stroke=\"#ff0000\" d=\"M4674.7793,-2441.929C4672.5429,-2432.0885 4668.5667,-2414.5937 4665.5465,-2401.3047\"/>\n",
       "<polygon fill=\"#ff0000\" stroke=\"#ff0000\" points=\"4668.9228,-2400.3671 4663.2935,-2391.3915 4662.0968,-2401.9185 4668.9228,-2400.3671\"/>\n",
       "<text text-anchor=\"middle\" x=\"4674.5\" y=\"-2412.8\" font-family=\"Times,serif\" font-size=\"14.00\" fill=\"#000000\">0</text>\n",
       "</g>\n",
       "<!-- 233 -->\n",
       "<g id=\"node234\" class=\"node\">\n",
       "<title>233</title>\n",
       "<text text-anchor=\"middle\" x=\"4817.5\" y=\"-2379.8\" font-family=\"Times,serif\" font-size=\"14.00\" fill=\"#000000\">?</text>\n",
       "</g>\n",
       "<!-- 193&#45;&gt;233 -->\n",
       "<g id=\"edge233\" class=\"edge\">\n",
       "<title>193&#45;&gt;233</title>\n",
       "<path fill=\"none\" stroke=\"#0000ff\" d=\"M4694.5634,-2441.8867C4719.5862,-2431.1957 4766.0606,-2410.8161 4804.5,-2391 4804.5984,-2390.9493 4804.6972,-2390.8981 4804.7962,-2390.8467\"/>\n",
       "<polygon fill=\"#0000ff\" stroke=\"#0000ff\" points=\"4806.6974,-2393.7926 4813.6848,-2385.8286 4803.256,-2387.6969 4806.6974,-2393.7926\"/>\n",
       "<text text-anchor=\"middle\" x=\"4770.5\" y=\"-2412.8\" font-family=\"Times,serif\" font-size=\"14.00\" fill=\"#000000\">1</text>\n",
       "</g>\n",
       "<!-- 195 -->\n",
       "<g id=\"node196\" class=\"node\">\n",
       "<title>195</title>\n",
       "<text text-anchor=\"middle\" x=\"4529.5\" y=\"-2313.8\" font-family=\"Times,serif\" font-size=\"14.00\" fill=\"#000000\">(12) str.substr(cgi_decode_s_str_1, 3, 1) == &quot;4&quot;</text>\n",
       "</g>\n",
       "<!-- 194&#45;&gt;195 -->\n",
       "<g id=\"edge195\" class=\"edge\">\n",
       "<title>194&#45;&gt;195</title>\n",
       "<path fill=\"none\" stroke=\"#ff0000\" d=\"M4646.3579,-2375.929C4623.8011,-2364.6506 4581.1344,-2343.3172 4554.0708,-2329.7854\"/>\n",
       "<polygon fill=\"#ff0000\" stroke=\"#ff0000\" points=\"4555.3816,-2326.5277 4544.8721,-2325.186 4552.2511,-2332.7887 4555.3816,-2326.5277\"/>\n",
       "<text text-anchor=\"middle\" x=\"4611.5\" y=\"-2346.8\" font-family=\"Times,serif\" font-size=\"14.00\" fill=\"#000000\">0</text>\n",
       "</g>\n",
       "<!-- 232 -->\n",
       "<g id=\"node233\" class=\"node\">\n",
       "<title>232</title>\n",
       "<text text-anchor=\"middle\" x=\"4685.5\" y=\"-2313.8\" font-family=\"Times,serif\" font-size=\"14.00\" fill=\"#000000\">?</text>\n",
       "</g>\n",
       "<!-- 194&#45;&gt;232 -->\n",
       "<g id=\"edge232\" class=\"edge\">\n",
       "<title>194&#45;&gt;232</title>\n",
       "<path fill=\"none\" stroke=\"#0000ff\" d=\"M4664.2531,-2375.929C4667.8672,-2365.9901 4674.3207,-2348.243 4679.1701,-2334.9073\"/>\n",
       "<polygon fill=\"#0000ff\" stroke=\"#0000ff\" points=\"4682.5021,-2335.9856 4682.6304,-2325.3915 4675.9236,-2333.5933 4682.5021,-2335.9856\"/>\n",
       "<text text-anchor=\"middle\" x=\"4680.5\" y=\"-2346.8\" font-family=\"Times,serif\" font-size=\"14.00\" fill=\"#000000\">1</text>\n",
       "</g>\n",
       "<!-- 196 -->\n",
       "<g id=\"node197\" class=\"node\">\n",
       "<title>196</title>\n",
       "<text text-anchor=\"middle\" x=\"4529.5\" y=\"-2247.8\" font-family=\"Times,serif\" font-size=\"14.00\" fill=\"#000000\">(13) str.substr(cgi_decode_s_str_1, 3, 1) == &quot;5&quot;</text>\n",
       "</g>\n",
       "<!-- 195&#45;&gt;196 -->\n",
       "<g id=\"edge196\" class=\"edge\">\n",
       "<title>195&#45;&gt;196</title>\n",
       "<path fill=\"none\" stroke=\"#ff0000\" d=\"M4529.5,-2309.929C4529.5,-2300.1869 4529.5,-2282.9428 4529.5,-2269.7046\"/>\n",
       "<polygon fill=\"#ff0000\" stroke=\"#ff0000\" points=\"4533.0001,-2269.3915 4529.5,-2259.3915 4526.0001,-2269.3915 4533.0001,-2269.3915\"/>\n",
       "<text text-anchor=\"middle\" x=\"4533.5\" y=\"-2280.8\" font-family=\"Times,serif\" font-size=\"14.00\" fill=\"#000000\">0</text>\n",
       "</g>\n",
       "<!-- 231 -->\n",
       "<g id=\"node232\" class=\"node\">\n",
       "<title>231</title>\n",
       "<text text-anchor=\"middle\" x=\"4685.5\" y=\"-2247.8\" font-family=\"Times,serif\" font-size=\"14.00\" fill=\"#000000\">?</text>\n",
       "</g>\n",
       "<!-- 195&#45;&gt;231 -->\n",
       "<g id=\"edge231\" class=\"edge\">\n",
       "<title>195&#45;&gt;231</title>\n",
       "<path fill=\"none\" stroke=\"#0000ff\" d=\"M4550.7301,-2309.8421C4579.0037,-2299.4126 4630.3511,-2279.6625 4672.5,-2259 4672.5994,-2258.9513 4672.6991,-2258.9021 4672.7991,-2258.8524\"/>\n",
       "<polygon fill=\"#0000ff\" stroke=\"#0000ff\" points=\"4674.6869,-2261.8069 4681.706,-2253.8707 4671.2698,-2255.6976 4674.6869,-2261.8069\"/>\n",
       "<text text-anchor=\"middle\" x=\"4634.5\" y=\"-2280.8\" font-family=\"Times,serif\" font-size=\"14.00\" fill=\"#000000\">1</text>\n",
       "</g>\n",
       "<!-- 197 -->\n",
       "<g id=\"node198\" class=\"node\">\n",
       "<title>197</title>\n",
       "<text text-anchor=\"middle\" x=\"4440.5\" y=\"-2181.8\" font-family=\"Times,serif\" font-size=\"14.00\" fill=\"#000000\">(14) str.substr(cgi_decode_s_str_1, 3, 1) == &quot;6&quot;</text>\n",
       "</g>\n",
       "<!-- 196&#45;&gt;197 -->\n",
       "<g id=\"edge197\" class=\"edge\">\n",
       "<title>196&#45;&gt;197</title>\n",
       "<path fill=\"none\" stroke=\"#ff0000\" d=\"M4519.2906,-2243.929C4504.6155,-2233.0463 4477.3162,-2212.8019 4459.0253,-2199.2378\"/>\n",
       "<polygon fill=\"#ff0000\" stroke=\"#ff0000\" points=\"4460.9817,-2196.3313 4450.8645,-2193.186 4456.8121,-2201.954 4460.9817,-2196.3313\"/>\n",
       "<text text-anchor=\"middle\" x=\"4497.5\" y=\"-2214.8\" font-family=\"Times,serif\" font-size=\"14.00\" fill=\"#000000\">0</text>\n",
       "</g>\n",
       "<!-- 230 -->\n",
       "<g id=\"node231\" class=\"node\">\n",
       "<title>230</title>\n",
       "<text text-anchor=\"middle\" x=\"4596.5\" y=\"-2181.8\" font-family=\"Times,serif\" font-size=\"14.00\" fill=\"#000000\">?</text>\n",
       "</g>\n",
       "<!-- 196&#45;&gt;230 -->\n",
       "<g id=\"edge230\" class=\"edge\">\n",
       "<title>196&#45;&gt;230</title>\n",
       "<path fill=\"none\" stroke=\"#0000ff\" d=\"M4537.1858,-2243.929C4549.0282,-2232.2633 4571.7909,-2209.8403 4585.4148,-2196.4198\"/>\n",
       "<polygon fill=\"#0000ff\" stroke=\"#0000ff\" points=\"4588.1734,-2198.6153 4592.8413,-2189.1041 4583.261,-2193.6284 4588.1734,-2198.6153\"/>\n",
       "<text text-anchor=\"middle\" x=\"4573.5\" y=\"-2214.8\" font-family=\"Times,serif\" font-size=\"14.00\" fill=\"#000000\">1</text>\n",
       "</g>\n",
       "<!-- 198 -->\n",
       "<g id=\"node199\" class=\"node\">\n",
       "<title>198</title>\n",
       "<text text-anchor=\"middle\" x=\"4411.5\" y=\"-2115.8\" font-family=\"Times,serif\" font-size=\"14.00\" fill=\"#000000\">(15) str.substr(cgi_decode_s_str_1, 3, 1) == &quot;7&quot;</text>\n",
       "</g>\n",
       "<!-- 197&#45;&gt;198 -->\n",
       "<g id=\"edge198\" class=\"edge\">\n",
       "<title>197&#45;&gt;198</title>\n",
       "<path fill=\"none\" stroke=\"#ff0000\" d=\"M4437.1733,-2177.929C4432.8063,-2167.9901 4425.0083,-2150.243 4419.1487,-2136.9073\"/>\n",
       "<polygon fill=\"#ff0000\" stroke=\"#ff0000\" points=\"4422.1946,-2135.1387 4414.9675,-2127.3915 4415.7859,-2137.9547 4422.1946,-2135.1387\"/>\n",
       "<text text-anchor=\"middle\" x=\"4433.5\" y=\"-2148.8\" font-family=\"Times,serif\" font-size=\"14.00\" fill=\"#000000\">0</text>\n",
       "</g>\n",
       "<!-- 229 -->\n",
       "<g id=\"node230\" class=\"node\">\n",
       "<title>229</title>\n",
       "<text text-anchor=\"middle\" x=\"4567.5\" y=\"-2115.8\" font-family=\"Times,serif\" font-size=\"14.00\" fill=\"#000000\">?</text>\n",
       "</g>\n",
       "<!-- 197&#45;&gt;229 -->\n",
       "<g id=\"edge229\" class=\"edge\">\n",
       "<title>197&#45;&gt;229</title>\n",
       "<path fill=\"none\" stroke=\"#0000ff\" d=\"M4455.7453,-2177.9753C4477.7282,-2167.0578 4519.5304,-2146.0449 4554.5,-2127 4554.5973,-2126.947 4554.6949,-2126.8938 4554.7928,-2126.8402\"/>\n",
       "<polygon fill=\"#0000ff\" stroke=\"#0000ff\" points=\"4556.7083,-2129.777 4563.66,-2121.7817 4553.2396,-2123.6968 4556.7083,-2129.777\"/>\n",
       "<text text-anchor=\"middle\" x=\"4524.5\" y=\"-2148.8\" font-family=\"Times,serif\" font-size=\"14.00\" fill=\"#000000\">1</text>\n",
       "</g>\n",
       "<!-- 199 -->\n",
       "<g id=\"node200\" class=\"node\">\n",
       "<title>199</title>\n",
       "<text text-anchor=\"middle\" x=\"4273.5\" y=\"-2049.8\" font-family=\"Times,serif\" font-size=\"14.00\" fill=\"#000000\">(16) str.substr(cgi_decode_s_str_1, 3, 1) == &quot;8&quot;</text>\n",
       "</g>\n",
       "<!-- 198&#45;&gt;199 -->\n",
       "<g id=\"edge199\" class=\"edge\">\n",
       "<title>198&#45;&gt;199</title>\n",
       "<path fill=\"none\" stroke=\"#ff0000\" d=\"M4395.6696,-2111.929C4371.9841,-2100.6011 4327.0897,-2079.1299 4298.8163,-2065.6078\"/>\n",
       "<polygon fill=\"#ff0000\" stroke=\"#ff0000\" points=\"4300.1023,-2062.3432 4289.5708,-2061.186 4297.082,-2068.6581 4300.1023,-2062.3432\"/>\n",
       "<text text-anchor=\"middle\" x=\"4359.5\" y=\"-2082.8\" font-family=\"Times,serif\" font-size=\"14.00\" fill=\"#000000\">0</text>\n",
       "</g>\n",
       "<!-- 228 -->\n",
       "<g id=\"node229\" class=\"node\">\n",
       "<title>228</title>\n",
       "<text text-anchor=\"middle\" x=\"4429.5\" y=\"-2049.8\" font-family=\"Times,serif\" font-size=\"14.00\" fill=\"#000000\">?</text>\n",
       "</g>\n",
       "<!-- 198&#45;&gt;228 -->\n",
       "<g id=\"edge228\" class=\"edge\">\n",
       "<title>198&#45;&gt;228</title>\n",
       "<path fill=\"none\" stroke=\"#0000ff\" d=\"M4413.5648,-2111.929C4416.2486,-2102.0885 4421.0199,-2084.5937 4424.6442,-2071.3047\"/>\n",
       "<polygon fill=\"#0000ff\" stroke=\"#0000ff\" points=\"4428.0932,-2071.9601 4427.3478,-2061.3915 4421.3399,-2070.1182 4428.0932,-2071.9601\"/>\n",
       "<text text-anchor=\"middle\" x=\"4426.5\" y=\"-2082.8\" font-family=\"Times,serif\" font-size=\"14.00\" fill=\"#000000\">1</text>\n",
       "</g>\n",
       "<!-- 200 -->\n",
       "<g id=\"node201\" class=\"node\">\n",
       "<title>200</title>\n",
       "<text text-anchor=\"middle\" x=\"4145.5\" y=\"-1983.8\" font-family=\"Times,serif\" font-size=\"14.00\" fill=\"#000000\">(17) str.substr(cgi_decode_s_str_1, 3, 1) == &quot;9&quot;</text>\n",
       "</g>\n",
       "<!-- 199&#45;&gt;200 -->\n",
       "<g id=\"edge200\" class=\"edge\">\n",
       "<title>199&#45;&gt;200</title>\n",
       "<path fill=\"none\" stroke=\"#ff0000\" d=\"M4258.8168,-2045.929C4236.9435,-2034.6506 4195.5697,-2013.3172 4169.3262,-1999.7854\"/>\n",
       "<polygon fill=\"#ff0000\" stroke=\"#ff0000\" points=\"4170.8983,-1996.6582 4160.4063,-1995.186 4167.6903,-2002.8798 4170.8983,-1996.6582\"/>\n",
       "<text text-anchor=\"middle\" x=\"4225.5\" y=\"-2016.8\" font-family=\"Times,serif\" font-size=\"14.00\" fill=\"#000000\">0</text>\n",
       "</g>\n",
       "<!-- 227 -->\n",
       "<g id=\"node228\" class=\"node\">\n",
       "<title>227</title>\n",
       "<text text-anchor=\"middle\" x=\"4301.5\" y=\"-1983.8\" font-family=\"Times,serif\" font-size=\"14.00\" fill=\"#000000\">?</text>\n",
       "</g>\n",
       "<!-- 199&#45;&gt;227 -->\n",
       "<g id=\"edge227\" class=\"edge\">\n",
       "<title>199&#45;&gt;227</title>\n",
       "<path fill=\"none\" stroke=\"#0000ff\" d=\"M4276.712,-2045.929C4280.9284,-2035.9901 4288.4575,-2018.243 4294.1151,-2004.9073\"/>\n",
       "<polygon fill=\"#0000ff\" stroke=\"#0000ff\" points=\"4297.4686,-2005.9643 4298.1521,-1995.3915 4291.0245,-2003.2304 4297.4686,-2005.9643\"/>\n",
       "<text text-anchor=\"middle\" x=\"4294.5\" y=\"-2016.8\" font-family=\"Times,serif\" font-size=\"14.00\" fill=\"#000000\">1</text>\n",
       "</g>\n",
       "<!-- 201 -->\n",
       "<g id=\"node202\" class=\"node\">\n",
       "<title>201</title>\n",
       "<text text-anchor=\"middle\" x=\"4020.5\" y=\"-1917.8\" font-family=\"Times,serif\" font-size=\"14.00\" fill=\"#000000\">(18) str.substr(cgi_decode_s_str_1, 3, 1) == &quot;a&quot;</text>\n",
       "</g>\n",
       "<!-- 200&#45;&gt;201 -->\n",
       "<g id=\"edge201\" class=\"edge\">\n",
       "<title>200&#45;&gt;201</title>\n",
       "<path fill=\"none\" stroke=\"#ff0000\" d=\"M4131.1609,-1979.929C4109.894,-1968.7 4069.7503,-1947.5041 4044.1058,-1933.9639\"/>\n",
       "<polygon fill=\"#ff0000\" stroke=\"#ff0000\" points=\"4045.5341,-1930.7601 4035.0569,-1929.186 4042.2657,-1936.9503 4045.5341,-1930.7601\"/>\n",
       "<text text-anchor=\"middle\" x=\"4098.5\" y=\"-1950.8\" font-family=\"Times,serif\" font-size=\"14.00\" fill=\"#000000\">0</text>\n",
       "</g>\n",
       "<!-- 226 -->\n",
       "<g id=\"node227\" class=\"node\">\n",
       "<title>226</title>\n",
       "<text text-anchor=\"middle\" x=\"4175.5\" y=\"-1917.8\" font-family=\"Times,serif\" font-size=\"14.00\" fill=\"#000000\">?</text>\n",
       "</g>\n",
       "<!-- 200&#45;&gt;226 -->\n",
       "<g id=\"edge226\" class=\"edge\">\n",
       "<title>200&#45;&gt;226</title>\n",
       "<path fill=\"none\" stroke=\"#0000ff\" d=\"M4148.9414,-1979.929C4153.5038,-1969.8917 4161.686,-1951.8908 4167.7671,-1938.5125\"/>\n",
       "<polygon fill=\"#0000ff\" stroke=\"#0000ff\" points=\"4170.9612,-1939.9435 4171.913,-1929.3915 4164.5886,-1937.0468 4170.9612,-1939.9435\"/>\n",
       "<text text-anchor=\"middle\" x=\"4167.5\" y=\"-1950.8\" font-family=\"Times,serif\" font-size=\"14.00\" fill=\"#000000\">1</text>\n",
       "</g>\n",
       "<!-- 202 -->\n",
       "<g id=\"node203\" class=\"node\">\n",
       "<title>202</title>\n",
       "<text text-anchor=\"middle\" x=\"3997.5\" y=\"-1851.8\" font-family=\"Times,serif\" font-size=\"14.00\" fill=\"#000000\">(19) str.substr(cgi_decode_s_str_1, 3, 1) == &quot;b&quot;</text>\n",
       "</g>\n",
       "<!-- 201&#45;&gt;202 -->\n",
       "<g id=\"edge202\" class=\"edge\">\n",
       "<title>201&#45;&gt;202</title>\n",
       "<path fill=\"none\" stroke=\"#ff0000\" d=\"M4017.8616,-1913.929C4014.3981,-1903.9901 4008.2135,-1886.243 4003.5662,-1872.9073\"/>\n",
       "<polygon fill=\"#ff0000\" stroke=\"#ff0000\" points=\"4006.846,-1871.6827 4000.2501,-1863.3915 4000.2358,-1873.9863 4006.846,-1871.6827\"/>\n",
       "<text text-anchor=\"middle\" x=\"4015.5\" y=\"-1884.8\" font-family=\"Times,serif\" font-size=\"14.00\" fill=\"#000000\">0</text>\n",
       "</g>\n",
       "<!-- 225 -->\n",
       "<g id=\"node226\" class=\"node\">\n",
       "<title>225</title>\n",
       "<text text-anchor=\"middle\" x=\"4153.5\" y=\"-1851.8\" font-family=\"Times,serif\" font-size=\"14.00\" fill=\"#000000\">?</text>\n",
       "</g>\n",
       "<!-- 201&#45;&gt;225 -->\n",
       "<g id=\"edge225\" class=\"edge\">\n",
       "<title>201&#45;&gt;225</title>\n",
       "<path fill=\"none\" stroke=\"#0000ff\" d=\"M4036.9857,-1913.9085C4060.2847,-1903.0792 4104.0689,-1882.3589 4140.5,-1863 4140.5978,-1862.948 4140.6959,-1862.8957 4140.7943,-1862.8431\"/>\n",
       "<polygon fill=\"#0000ff\" stroke=\"#0000ff\" points=\"4142.7035,-1865.784 4149.6713,-1857.8028 4139.2471,-1859.6968 4142.7035,-1865.784\"/>\n",
       "<text text-anchor=\"middle\" x=\"4109.5\" y=\"-1884.8\" font-family=\"Times,serif\" font-size=\"14.00\" fill=\"#000000\">1</text>\n",
       "</g>\n",
       "<!-- 203 -->\n",
       "<g id=\"node204\" class=\"node\">\n",
       "<title>203</title>\n",
       "<text text-anchor=\"middle\" x=\"3908.5\" y=\"-1785.8\" font-family=\"Times,serif\" font-size=\"14.00\" fill=\"#000000\">(20) str.substr(cgi_decode_s_str_1, 3, 1) == &quot;c&quot;</text>\n",
       "</g>\n",
       "<!-- 202&#45;&gt;203 -->\n",
       "<g id=\"edge203\" class=\"edge\">\n",
       "<title>202&#45;&gt;203</title>\n",
       "<path fill=\"none\" stroke=\"#ff0000\" d=\"M3987.2906,-1847.929C3972.6155,-1837.0463 3945.3162,-1816.8019 3927.0253,-1803.2378\"/>\n",
       "<polygon fill=\"#ff0000\" stroke=\"#ff0000\" points=\"3928.9817,-1800.3313 3918.8645,-1797.186 3924.8121,-1805.954 3928.9817,-1800.3313\"/>\n",
       "<text text-anchor=\"middle\" x=\"3965.5\" y=\"-1818.8\" font-family=\"Times,serif\" font-size=\"14.00\" fill=\"#000000\">0</text>\n",
       "</g>\n",
       "<!-- 224 -->\n",
       "<g id=\"node225\" class=\"node\">\n",
       "<title>224</title>\n",
       "<text text-anchor=\"middle\" x=\"4063.5\" y=\"-1785.8\" font-family=\"Times,serif\" font-size=\"14.00\" fill=\"#000000\">?</text>\n",
       "</g>\n",
       "<!-- 202&#45;&gt;224 -->\n",
       "<g id=\"edge224\" class=\"edge\">\n",
       "<title>202&#45;&gt;224</title>\n",
       "<path fill=\"none\" stroke=\"#0000ff\" d=\"M4005.071,-1847.929C4016.7367,-1836.2633 4039.1597,-1813.8403 4052.5802,-1800.4198\"/>\n",
       "<polygon fill=\"#0000ff\" stroke=\"#0000ff\" points=\"4055.2997,-1802.6501 4059.8959,-1793.1041 4050.3499,-1797.7003 4055.2997,-1802.6501\"/>\n",
       "<text text-anchor=\"middle\" x=\"4040.5\" y=\"-1818.8\" font-family=\"Times,serif\" font-size=\"14.00\" fill=\"#000000\">1</text>\n",
       "</g>\n",
       "<!-- 204 -->\n",
       "<g id=\"node205\" class=\"node\">\n",
       "<title>204</title>\n",
       "<text text-anchor=\"middle\" x=\"3791.5\" y=\"-1719.8\" font-family=\"Times,serif\" font-size=\"14.00\" fill=\"#000000\">(21) str.substr(cgi_decode_s_str_1, 3, 1) == &quot;d&quot;</text>\n",
       "</g>\n",
       "<!-- 203&#45;&gt;204 -->\n",
       "<g id=\"edge204\" class=\"edge\">\n",
       "<title>203&#45;&gt;204</title>\n",
       "<path fill=\"none\" stroke=\"#ff0000\" d=\"M3895.0786,-1781.929C3875.2605,-1770.7495 3837.929,-1749.6907 3813.9131,-1736.1433\"/>\n",
       "<polygon fill=\"#ff0000\" stroke=\"#ff0000\" points=\"3815.5547,-1733.0509 3805.1252,-1731.186 3812.1154,-1739.1477 3815.5547,-1733.0509\"/>\n",
       "<text text-anchor=\"middle\" x=\"3864.5\" y=\"-1752.8\" font-family=\"Times,serif\" font-size=\"14.00\" fill=\"#000000\">0</text>\n",
       "</g>\n",
       "<!-- 223 -->\n",
       "<g id=\"node224\" class=\"node\">\n",
       "<title>223</title>\n",
       "<text text-anchor=\"middle\" x=\"3947.5\" y=\"-1719.8\" font-family=\"Times,serif\" font-size=\"14.00\" fill=\"#000000\">?</text>\n",
       "</g>\n",
       "<!-- 203&#45;&gt;223 -->\n",
       "<g id=\"edge223\" class=\"edge\">\n",
       "<title>203&#45;&gt;223</title>\n",
       "<path fill=\"none\" stroke=\"#0000ff\" d=\"M3912.9738,-1781.929C3919.2238,-1771.3521 3930.6992,-1751.9322 3938.6974,-1738.3967\"/>\n",
       "<polygon fill=\"#0000ff\" stroke=\"#0000ff\" points=\"3941.9177,-1739.8268 3943.9918,-1729.437 3935.8912,-1736.2657 3941.9177,-1739.8268\"/>\n",
       "<text text-anchor=\"middle\" x=\"3935.5\" y=\"-1752.8\" font-family=\"Times,serif\" font-size=\"14.00\" fill=\"#000000\">1</text>\n",
       "</g>\n",
       "<!-- 205 -->\n",
       "<g id=\"node206\" class=\"node\">\n",
       "<title>205</title>\n",
       "<text text-anchor=\"middle\" x=\"3787.5\" y=\"-1653.8\" font-family=\"Times,serif\" font-size=\"14.00\" fill=\"#000000\">(22) str.substr(cgi_decode_s_str_1, 3, 1) == &quot;e&quot;</text>\n",
       "</g>\n",
       "<!-- 204&#45;&gt;205 -->\n",
       "<g id=\"edge205\" class=\"edge\">\n",
       "<title>204&#45;&gt;205</title>\n",
       "<path fill=\"none\" stroke=\"#ff0000\" d=\"M3791.0411,-1715.929C3790.4507,-1706.1869 3789.4056,-1688.9428 3788.6033,-1675.7046\"/>\n",
       "<polygon fill=\"#ff0000\" stroke=\"#ff0000\" points=\"3792.0769,-1675.1614 3787.9783,-1665.3915 3785.0897,-1675.5849 3792.0769,-1675.1614\"/>\n",
       "<text text-anchor=\"middle\" x=\"3794.5\" y=\"-1686.8\" font-family=\"Times,serif\" font-size=\"14.00\" fill=\"#000000\">0</text>\n",
       "</g>\n",
       "<!-- 222 -->\n",
       "<g id=\"node223\" class=\"node\">\n",
       "<title>222</title>\n",
       "<text text-anchor=\"middle\" x=\"3942.5\" y=\"-1653.8\" font-family=\"Times,serif\" font-size=\"14.00\" fill=\"#000000\">?</text>\n",
       "</g>\n",
       "<!-- 204&#45;&gt;222 -->\n",
       "<g id=\"edge222\" class=\"edge\">\n",
       "<title>204&#45;&gt;222</title>\n",
       "<path fill=\"none\" stroke=\"#0000ff\" d=\"M3811.4965,-1715.914C3838.6514,-1705.4123 3888.5048,-1685.4191 3929.5,-1665 3929.5991,-1664.9506 3929.6985,-1664.9008 3929.7982,-1664.8506\"/>\n",
       "<polygon fill=\"#0000ff\" stroke=\"#0000ff\" points=\"3931.6903,-1667.8024 3938.6995,-1659.8575 3928.2656,-1661.6973 3931.6903,-1667.8024\"/>\n",
       "<text text-anchor=\"middle\" x=\"3892.5\" y=\"-1686.8\" font-family=\"Times,serif\" font-size=\"14.00\" fill=\"#000000\">1</text>\n",
       "</g>\n",
       "<!-- 206 -->\n",
       "<g id=\"node207\" class=\"node\">\n",
       "<title>206</title>\n",
       "<text text-anchor=\"middle\" x=\"3704.5\" y=\"-1587.8\" font-family=\"Times,serif\" font-size=\"14.00\" fill=\"#000000\">(23) str.substr(cgi_decode_s_str_1, 3, 1) == &quot;f&quot;</text>\n",
       "</g>\n",
       "<!-- 205&#45;&gt;206 -->\n",
       "<g id=\"edge206\" class=\"edge\">\n",
       "<title>205&#45;&gt;206</title>\n",
       "<path fill=\"none\" stroke=\"#ff0000\" d=\"M3777.9788,-1649.929C3764.4175,-1639.1452 3739.2961,-1619.1692 3722.2436,-1605.6094\"/>\n",
       "<polygon fill=\"#ff0000\" stroke=\"#ff0000\" points=\"3724.1712,-1602.6705 3714.1658,-1599.186 3719.8145,-1608.1495 3724.1712,-1602.6705\"/>\n",
       "<text text-anchor=\"middle\" x=\"3757.5\" y=\"-1620.8\" font-family=\"Times,serif\" font-size=\"14.00\" fill=\"#000000\">0</text>\n",
       "</g>\n",
       "<!-- 221 -->\n",
       "<g id=\"node222\" class=\"node\">\n",
       "<title>221</title>\n",
       "<text text-anchor=\"middle\" x=\"3859.5\" y=\"-1587.8\" font-family=\"Times,serif\" font-size=\"14.00\" fill=\"#000000\">?</text>\n",
       "</g>\n",
       "<!-- 205&#45;&gt;221 -->\n",
       "<g id=\"edge221\" class=\"edge\">\n",
       "<title>205&#45;&gt;221</title>\n",
       "<path fill=\"none\" stroke=\"#0000ff\" d=\"M3795.7593,-1649.929C3808.729,-1638.04 3833.8876,-1614.9781 3848.4172,-1601.6593\"/>\n",
       "<polygon fill=\"#0000ff\" stroke=\"#0000ff\" points=\"3850.8798,-1604.1498 3855.8864,-1594.8125 3846.1497,-1598.9897 3850.8798,-1604.1498\"/>\n",
       "<text text-anchor=\"middle\" x=\"3834.5\" y=\"-1620.8\" font-family=\"Times,serif\" font-size=\"14.00\" fill=\"#000000\">1</text>\n",
       "</g>\n",
       "<!-- 207 -->\n",
       "<g id=\"node208\" class=\"node\">\n",
       "<title>207</title>\n",
       "<text text-anchor=\"middle\" x=\"3596.5\" y=\"-1521.8\" font-family=\"Times,serif\" font-size=\"14.00\" fill=\"#000000\">(24) str.substr(cgi_decode_s_str_1, 3, 1) == &quot;A&quot;</text>\n",
       "</g>\n",
       "<!-- 206&#45;&gt;207 -->\n",
       "<g id=\"edge207\" class=\"edge\">\n",
       "<title>206&#45;&gt;207</title>\n",
       "<path fill=\"none\" stroke=\"#ff0000\" d=\"M3692.111,-1583.929C3673.9793,-1572.8484 3639.9661,-1552.0626 3617.7804,-1538.5047\"/>\n",
       "<polygon fill=\"#ff0000\" stroke=\"#ff0000\" points=\"3619.4351,-1535.4141 3609.0772,-1533.186 3615.7849,-1541.3871 3619.4351,-1535.4141\"/>\n",
       "<text text-anchor=\"middle\" x=\"3664.5\" y=\"-1554.8\" font-family=\"Times,serif\" font-size=\"14.00\" fill=\"#000000\">0</text>\n",
       "</g>\n",
       "<!-- 220 -->\n",
       "<g id=\"node221\" class=\"node\">\n",
       "<title>220</title>\n",
       "<text text-anchor=\"middle\" x=\"3753.5\" y=\"-1521.8\" font-family=\"Times,serif\" font-size=\"14.00\" fill=\"#000000\">?</text>\n",
       "</g>\n",
       "<!-- 206&#45;&gt;220 -->\n",
       "<g id=\"edge220\" class=\"edge\">\n",
       "<title>206&#45;&gt;220</title>\n",
       "<path fill=\"none\" stroke=\"#0000ff\" d=\"M3710.1209,-1583.929C3718.2932,-1572.9214 3733.5762,-1552.3361 3743.6453,-1538.7736\"/>\n",
       "<polygon fill=\"#0000ff\" stroke=\"#0000ff\" points=\"3746.7287,-1540.4921 3749.8795,-1530.3766 3741.1083,-1536.3193 3746.7287,-1540.4921\"/>\n",
       "<text text-anchor=\"middle\" x=\"3737.5\" y=\"-1554.8\" font-family=\"Times,serif\" font-size=\"14.00\" fill=\"#000000\">1</text>\n",
       "</g>\n",
       "<!-- 208 -->\n",
       "<g id=\"node209\" class=\"node\">\n",
       "<title>208</title>\n",
       "<text text-anchor=\"middle\" x=\"3447.5\" y=\"-1455.8\" font-family=\"Times,serif\" font-size=\"14.00\" fill=\"#000000\">(25) str.substr(cgi_decode_s_str_1, 3, 1) == &quot;B&quot;</text>\n",
       "</g>\n",
       "<!-- 207&#45;&gt;208 -->\n",
       "<g id=\"edge208\" class=\"edge\">\n",
       "<title>207&#45;&gt;208</title>\n",
       "<path fill=\"none\" stroke=\"#ff0000\" d=\"M3579.4078,-1517.929C3553.611,-1506.5022 3504.5129,-1484.7541 3474.0386,-1471.2553\"/>\n",
       "<polygon fill=\"#ff0000\" stroke=\"#ff0000\" points=\"3475.4125,-1468.036 3464.8518,-1467.186 3472.5775,-1474.4362 3475.4125,-1468.036\"/>\n",
       "<text text-anchor=\"middle\" x=\"3539.5\" y=\"-1488.8\" font-family=\"Times,serif\" font-size=\"14.00\" fill=\"#000000\">0</text>\n",
       "</g>\n",
       "<!-- 219 -->\n",
       "<g id=\"node220\" class=\"node\">\n",
       "<title>219</title>\n",
       "<text text-anchor=\"middle\" x=\"3604.5\" y=\"-1455.8\" font-family=\"Times,serif\" font-size=\"14.00\" fill=\"#000000\">?</text>\n",
       "</g>\n",
       "<!-- 207&#45;&gt;219 -->\n",
       "<g id=\"edge219\" class=\"edge\">\n",
       "<title>207&#45;&gt;219</title>\n",
       "<path fill=\"none\" stroke=\"#0000ff\" d=\"M3597.4177,-1517.929C3598.5986,-1508.1869 3600.6888,-1490.9428 3602.2934,-1477.7046\"/>\n",
       "<polygon fill=\"#0000ff\" stroke=\"#0000ff\" points=\"3605.8146,-1477.74 3603.5435,-1467.3915 3598.8655,-1476.8976 3605.8146,-1477.74\"/>\n",
       "<text text-anchor=\"middle\" x=\"3605.5\" y=\"-1488.8\" font-family=\"Times,serif\" font-size=\"14.00\" fill=\"#000000\">1</text>\n",
       "</g>\n",
       "<!-- 209 -->\n",
       "<g id=\"node210\" class=\"node\">\n",
       "<title>209</title>\n",
       "<text text-anchor=\"middle\" x=\"3323.5\" y=\"-1389.8\" font-family=\"Times,serif\" font-size=\"14.00\" fill=\"#000000\">(26) str.substr(cgi_decode_s_str_1, 3, 1) == &quot;C&quot;</text>\n",
       "</g>\n",
       "<!-- 208&#45;&gt;209 -->\n",
       "<g id=\"edge209\" class=\"edge\">\n",
       "<title>208&#45;&gt;209</title>\n",
       "<path fill=\"none\" stroke=\"#ff0000\" d=\"M3433.2756,-1451.929C3412.1789,-1440.7 3372.3563,-1419.5041 3346.917,-1405.9639\"/>\n",
       "<polygon fill=\"#ff0000\" stroke=\"#ff0000\" points=\"3348.4124,-1402.795 3337.9404,-1401.186 3345.1234,-1408.9742 3348.4124,-1402.795\"/>\n",
       "<text text-anchor=\"middle\" x=\"3401.5\" y=\"-1422.8\" font-family=\"Times,serif\" font-size=\"14.00\" fill=\"#000000\">0</text>\n",
       "</g>\n",
       "<!-- 218 -->\n",
       "<g id=\"node219\" class=\"node\">\n",
       "<title>218</title>\n",
       "<text text-anchor=\"middle\" x=\"3480.5\" y=\"-1389.8\" font-family=\"Times,serif\" font-size=\"14.00\" fill=\"#000000\">?</text>\n",
       "</g>\n",
       "<!-- 208&#45;&gt;218 -->\n",
       "<g id=\"edge218\" class=\"edge\">\n",
       "<title>208&#45;&gt;218</title>\n",
       "<path fill=\"none\" stroke=\"#0000ff\" d=\"M3451.2855,-1451.929C3456.4121,-1441.6759 3465.6936,-1423.1129 3472.4221,-1409.6559\"/>\n",
       "<polygon fill=\"#0000ff\" stroke=\"#0000ff\" points=\"3475.6169,-1411.0923 3476.9586,-1400.5827 3469.3559,-1407.9617 3475.6169,-1411.0923\"/>\n",
       "<text text-anchor=\"middle\" x=\"3471.5\" y=\"-1422.8\" font-family=\"Times,serif\" font-size=\"14.00\" fill=\"#000000\">1</text>\n",
       "</g>\n",
       "<!-- 210 -->\n",
       "<g id=\"node211\" class=\"node\">\n",
       "<title>210</title>\n",
       "<text text-anchor=\"middle\" x=\"3185.5\" y=\"-1323.8\" font-family=\"Times,serif\" font-size=\"14.00\" fill=\"#000000\">(27) str.substr(cgi_decode_s_str_1, 3, 1) == &quot;D&quot;</text>\n",
       "</g>\n",
       "<!-- 209&#45;&gt;210 -->\n",
       "<g id=\"edge210\" class=\"edge\">\n",
       "<title>209&#45;&gt;210</title>\n",
       "<path fill=\"none\" stroke=\"#ff0000\" d=\"M3307.6696,-1385.929C3283.9841,-1374.6011 3239.0897,-1353.1299 3210.8163,-1339.6078\"/>\n",
       "<polygon fill=\"#ff0000\" stroke=\"#ff0000\" points=\"3212.1023,-1336.3432 3201.5708,-1335.186 3209.082,-1342.6581 3212.1023,-1336.3432\"/>\n",
       "<text text-anchor=\"middle\" x=\"3271.5\" y=\"-1356.8\" font-family=\"Times,serif\" font-size=\"14.00\" fill=\"#000000\">0</text>\n",
       "</g>\n",
       "<!-- 217 -->\n",
       "<g id=\"node218\" class=\"node\">\n",
       "<title>217</title>\n",
       "<text text-anchor=\"middle\" x=\"3342.5\" y=\"-1323.8\" font-family=\"Times,serif\" font-size=\"14.00\" fill=\"#000000\">?</text>\n",
       "</g>\n",
       "<!-- 209&#45;&gt;217 -->\n",
       "<g id=\"edge217\" class=\"edge\">\n",
       "<title>209&#45;&gt;217</title>\n",
       "<path fill=\"none\" stroke=\"#0000ff\" d=\"M3325.6795,-1385.929C3328.5124,-1376.0885 3333.5488,-1358.5937 3337.3744,-1345.3047\"/>\n",
       "<polygon fill=\"#0000ff\" stroke=\"#0000ff\" points=\"3340.8251,-1345.9695 3340.2282,-1335.3915 3334.0983,-1344.0329 3340.8251,-1345.9695\"/>\n",
       "<text text-anchor=\"middle\" x=\"3339.5\" y=\"-1356.8\" font-family=\"Times,serif\" font-size=\"14.00\" fill=\"#000000\">1</text>\n",
       "</g>\n",
       "<!-- 211 -->\n",
       "<g id=\"node212\" class=\"node\">\n",
       "<title>211</title>\n",
       "<text text-anchor=\"middle\" x=\"3088.5\" y=\"-1257.8\" font-family=\"Times,serif\" font-size=\"14.00\" fill=\"#000000\">(28) str.substr(cgi_decode_s_str_1, 3, 1) == &quot;E&quot;</text>\n",
       "</g>\n",
       "<!-- 210&#45;&gt;211 -->\n",
       "<g id=\"edge211\" class=\"edge\">\n",
       "<title>210&#45;&gt;211</title>\n",
       "<path fill=\"none\" stroke=\"#ff0000\" d=\"M3174.3729,-1319.929C3158.2333,-1308.9474 3128.0834,-1288.433 3108.1492,-1274.8696\"/>\n",
       "<polygon fill=\"#ff0000\" stroke=\"#ff0000\" points=\"3110.0328,-1271.9178 3099.7961,-1269.186 3106.0949,-1277.7052 3110.0328,-1271.9178\"/>\n",
       "<text text-anchor=\"middle\" x=\"3150.5\" y=\"-1290.8\" font-family=\"Times,serif\" font-size=\"14.00\" fill=\"#000000\">0</text>\n",
       "</g>\n",
       "<!-- 216 -->\n",
       "<g id=\"node217\" class=\"node\">\n",
       "<title>216</title>\n",
       "<text text-anchor=\"middle\" x=\"3245.5\" y=\"-1257.8\" font-family=\"Times,serif\" font-size=\"14.00\" fill=\"#000000\">?</text>\n",
       "</g>\n",
       "<!-- 210&#45;&gt;216 -->\n",
       "<g id=\"edge216\" class=\"edge\">\n",
       "<title>210&#45;&gt;216</title>\n",
       "<path fill=\"none\" stroke=\"#0000ff\" d=\"M3192.3828,-1319.929C3202.7869,-1308.4844 3222.6031,-1286.6866 3234.8704,-1273.1926\"/>\n",
       "<polygon fill=\"#0000ff\" stroke=\"#0000ff\" points=\"3237.8116,-1275.1603 3241.9486,-1265.4065 3232.632,-1270.4516 3237.8116,-1275.1603\"/>\n",
       "<text text-anchor=\"middle\" x=\"3225.5\" y=\"-1290.8\" font-family=\"Times,serif\" font-size=\"14.00\" fill=\"#000000\">1</text>\n",
       "</g>\n",
       "<!-- 212 -->\n",
       "<g id=\"node213\" class=\"node\">\n",
       "<title>212</title>\n",
       "<text text-anchor=\"middle\" x=\"2945.5\" y=\"-1191.8\" font-family=\"Times,serif\" font-size=\"14.00\" fill=\"#000000\">(29) str.substr(cgi_decode_s_str_1, 3, 1) == &quot;F&quot;</text>\n",
       "</g>\n",
       "<!-- 211&#45;&gt;212 -->\n",
       "<g id=\"edge212\" class=\"edge\">\n",
       "<title>211&#45;&gt;212</title>\n",
       "<path fill=\"none\" stroke=\"#ff0000\" d=\"M3072.0961,-1253.929C3047.4452,-1242.5516 3000.6247,-1220.9422 2971.3507,-1207.4311\"/>\n",
       "<polygon fill=\"#ff0000\" stroke=\"#ff0000\" points=\"2972.6994,-1204.1988 2962.1531,-1203.186 2969.766,-1210.5545 2972.6994,-1204.1988\"/>\n",
       "<text text-anchor=\"middle\" x=\"3034.5\" y=\"-1224.8\" font-family=\"Times,serif\" font-size=\"14.00\" fill=\"#000000\">0</text>\n",
       "</g>\n",
       "<!-- 215 -->\n",
       "<g id=\"node216\" class=\"node\">\n",
       "<title>215</title>\n",
       "<text text-anchor=\"middle\" x=\"3101.5\" y=\"-1191.8\" font-family=\"Times,serif\" font-size=\"14.00\" fill=\"#000000\">?</text>\n",
       "</g>\n",
       "<!-- 211&#45;&gt;215 -->\n",
       "<g id=\"edge215\" class=\"edge\">\n",
       "<title>211&#45;&gt;215</title>\n",
       "<path fill=\"none\" stroke=\"#0000ff\" d=\"M3089.9913,-1253.929C3091.9295,-1244.0885 3095.3755,-1226.5937 3097.993,-1213.3047\"/>\n",
       "<polygon fill=\"#0000ff\" stroke=\"#0000ff\" points=\"3101.447,-1213.8794 3099.9456,-1203.3915 3094.579,-1212.5266 3101.447,-1213.8794\"/>\n",
       "<text text-anchor=\"middle\" x=\"3100.5\" y=\"-1224.8\" font-family=\"Times,serif\" font-size=\"14.00\" fill=\"#000000\">1</text>\n",
       "</g>\n",
       "<!-- 213 -->\n",
       "<g id=\"node214\" class=\"node\">\n",
       "<title>213</title>\n",
       "<text text-anchor=\"middle\" x=\"2918.5\" y=\"-1125.8\" font-family=\"Times,serif\" font-size=\"14.00\" fill=\"#000000\">* +%4\\x00</text>\n",
       "</g>\n",
       "<!-- 212&#45;&gt;213 -->\n",
       "<g id=\"edge213\" class=\"edge\">\n",
       "<title>212&#45;&gt;213</title>\n",
       "<path fill=\"none\" stroke=\"#ff0000\" d=\"M2942.4028,-1187.929C2938.3369,-1177.9901 2931.0767,-1160.243 2925.6212,-1146.9073\"/>\n",
       "<polygon fill=\"#ff0000\" stroke=\"#ff0000\" points=\"2928.7541,-1145.3217 2921.7283,-1137.3915 2922.2753,-1147.9722 2928.7541,-1145.3217\"/>\n",
       "<text text-anchor=\"middle\" x=\"2938.5\" y=\"-1158.8\" font-family=\"Times,serif\" font-size=\"14.00\" fill=\"#000000\">0</text>\n",
       "</g>\n",
       "<!-- 214 -->\n",
       "<g id=\"node215\" class=\"node\">\n",
       "<title>214</title>\n",
       "<text text-anchor=\"middle\" x=\"2971.5\" y=\"-1125.8\" font-family=\"Times,serif\" font-size=\"14.00\" fill=\"#000000\">?</text>\n",
       "</g>\n",
       "<!-- 212&#45;&gt;214 -->\n",
       "<g id=\"edge214\" class=\"edge\">\n",
       "<title>212&#45;&gt;214</title>\n",
       "<path fill=\"none\" stroke=\"#0000ff\" d=\"M2948.4825,-1187.929C2952.3978,-1177.9901 2959.3891,-1160.243 2964.6426,-1146.9073\"/>\n",
       "<polygon fill=\"#0000ff\" stroke=\"#0000ff\" points=\"2967.9824,-1147.9784 2968.3912,-1137.3915 2961.4695,-1145.4127 2967.9824,-1147.9784\"/>\n",
       "<text text-anchor=\"middle\" x=\"2965.5\" y=\"-1158.8\" font-family=\"Times,serif\" font-size=\"14.00\" fill=\"#000000\">1</text>\n",
       "</g>\n",
       "<!-- 241 -->\n",
       "<g id=\"node242\" class=\"node\">\n",
       "<title>241</title>\n",
       "<text text-anchor=\"middle\" x=\"5427.5\" y=\"-2907.8\" font-family=\"Times,serif\" font-size=\"14.00\" fill=\"#000000\">(3) str.substr(cgi_decode_s_str_1, 2, 1) == &quot;%&quot;</text>\n",
       "</g>\n",
       "<!-- 240&#45;&gt;241 -->\n",
       "<g id=\"edge241\" class=\"edge\">\n",
       "<title>240&#45;&gt;241</title>\n",
       "<path fill=\"none\" stroke=\"#ff0000\" d=\"M5427.5,-2969.929C5427.5,-2960.1869 5427.5,-2942.9428 5427.5,-2929.7046\"/>\n",
       "<polygon fill=\"#ff0000\" stroke=\"#ff0000\" points=\"5431.0001,-2929.3915 5427.5,-2919.3915 5424.0001,-2929.3915 5431.0001,-2929.3915\"/>\n",
       "<text text-anchor=\"middle\" x=\"5431.5\" y=\"-2940.8\" font-family=\"Times,serif\" font-size=\"14.00\" fill=\"#000000\">0</text>\n",
       "</g>\n",
       "<!-- 256 -->\n",
       "<g id=\"node257\" class=\"node\">\n",
       "<title>256</title>\n",
       "<text text-anchor=\"middle\" x=\"5709.5\" y=\"-2907.8\" font-family=\"Times,serif\" font-size=\"14.00\" fill=\"#000000\">(3) str.substr(cgi_decode_s_str_1, 3, 1) == &quot;+&quot;</text>\n",
       "</g>\n",
       "<!-- 240&#45;&gt;256 -->\n",
       "<g id=\"edge256\" class=\"edge\">\n",
       "<title>240&#45;&gt;256</title>\n",
       "<path fill=\"none\" stroke=\"#0000ff\" d=\"M5459.5744,-2969.9932C5510.6429,-2958.041 5610.4542,-2934.6809 5667.272,-2921.3831\"/>\n",
       "<polygon fill=\"#0000ff\" stroke=\"#0000ff\" points=\"5668.0822,-2924.7882 5677.0215,-2919.1014 5666.487,-2917.9724 5668.0822,-2924.7882\"/>\n",
       "<text text-anchor=\"middle\" x=\"5598.5\" y=\"-2940.8\" font-family=\"Times,serif\" font-size=\"14.00\" fill=\"#000000\">1</text>\n",
       "</g>\n",
       "<!-- 242 -->\n",
       "<g id=\"node243\" class=\"node\">\n",
       "<title>242</title>\n",
       "<text text-anchor=\"middle\" x=\"5373.5\" y=\"-2841.8\" font-family=\"Times,serif\" font-size=\"14.00\" fill=\"#000000\">(4) str.substr(cgi_decode_s_str_1, 3, 1) == &quot;+&quot;</text>\n",
       "</g>\n",
       "<!-- 241&#45;&gt;242 -->\n",
       "<g id=\"edge242\" class=\"edge\">\n",
       "<title>241&#45;&gt;242</title>\n",
       "<path fill=\"none\" stroke=\"#ff0000\" d=\"M5421.3055,-2903.929C5412.8517,-2893.5965 5397.4932,-2874.825 5386.4636,-2861.3443\"/>\n",
       "<polygon fill=\"#ff0000\" stroke=\"#ff0000\" points=\"5388.998,-2858.9147 5379.9567,-2853.3915 5383.5802,-2863.3474 5388.998,-2858.9147\"/>\n",
       "<text text-anchor=\"middle\" x=\"5409.5\" y=\"-2874.8\" font-family=\"Times,serif\" font-size=\"14.00\" fill=\"#000000\">0</text>\n",
       "</g>\n",
       "<!-- 255 -->\n",
       "<g id=\"node256\" class=\"node\">\n",
       "<title>255</title>\n",
       "<text text-anchor=\"middle\" x=\"5526.5\" y=\"-2841.8\" font-family=\"Times,serif\" font-size=\"14.00\" fill=\"#000000\">?</text>\n",
       "</g>\n",
       "<!-- 241&#45;&gt;255 -->\n",
       "<g id=\"edge255\" class=\"edge\">\n",
       "<title>241&#45;&gt;255</title>\n",
       "<path fill=\"none\" stroke=\"#0000ff\" d=\"M5438.8566,-2903.929C5457.6272,-2891.4152 5494.9652,-2866.5232 5514.2853,-2853.6432\"/>\n",
       "<polygon fill=\"#0000ff\" stroke=\"#0000ff\" points=\"5516.3647,-2856.4634 5522.7437,-2848.0042 5512.4817,-2850.639 5516.3647,-2856.4634\"/>\n",
       "<text text-anchor=\"middle\" x=\"5490.5\" y=\"-2874.8\" font-family=\"Times,serif\" font-size=\"14.00\" fill=\"#000000\">1</text>\n",
       "</g>\n",
       "<!-- 243 -->\n",
       "<g id=\"node244\" class=\"node\">\n",
       "<title>243</title>\n",
       "<text text-anchor=\"middle\" x=\"5224.5\" y=\"-2775.8\" font-family=\"Times,serif\" font-size=\"14.00\" fill=\"#000000\">(5) str.substr(cgi_decode_s_str_1, 3, 1) == &quot;%&quot;</text>\n",
       "</g>\n",
       "<!-- 242&#45;&gt;243 -->\n",
       "<g id=\"edge243\" class=\"edge\">\n",
       "<title>242&#45;&gt;243</title>\n",
       "<path fill=\"none\" stroke=\"#ff0000\" d=\"M5356.4078,-2837.929C5330.611,-2826.5022 5281.5129,-2804.7541 5251.0386,-2791.2553\"/>\n",
       "<polygon fill=\"#ff0000\" stroke=\"#ff0000\" points=\"5252.4125,-2788.036 5241.8518,-2787.186 5249.5775,-2794.4362 5252.4125,-2788.036\"/>\n",
       "<text text-anchor=\"middle\" x=\"5316.5\" y=\"-2808.8\" font-family=\"Times,serif\" font-size=\"14.00\" fill=\"#000000\">0</text>\n",
       "</g>\n",
       "<!-- 254 -->\n",
       "<g id=\"node255\" class=\"node\">\n",
       "<title>254</title>\n",
       "<text text-anchor=\"middle\" x=\"5379.5\" y=\"-2775.8\" font-family=\"Times,serif\" font-size=\"14.00\" fill=\"#000000\">?</text>\n",
       "</g>\n",
       "<!-- 242&#45;&gt;254 -->\n",
       "<g id=\"edge254\" class=\"edge\">\n",
       "<title>242&#45;&gt;254</title>\n",
       "<path fill=\"none\" stroke=\"#0000ff\" d=\"M5374.1883,-2837.929C5375.0739,-2828.1869 5376.6416,-2810.9428 5377.845,-2797.7046\"/>\n",
       "<polygon fill=\"#0000ff\" stroke=\"#0000ff\" points=\"5381.3628,-2797.6673 5378.7826,-2787.3915 5374.3915,-2797.0335 5381.3628,-2797.6673\"/>\n",
       "<text text-anchor=\"middle\" x=\"5381.5\" y=\"-2808.8\" font-family=\"Times,serif\" font-size=\"14.00\" fill=\"#000000\">1</text>\n",
       "</g>\n",
       "<!-- 244 -->\n",
       "<g id=\"node245\" class=\"node\">\n",
       "<title>244</title>\n",
       "<text text-anchor=\"middle\" x=\"5200.5\" y=\"-2709.8\" font-family=\"Times,serif\" font-size=\"14.00\" fill=\"#000000\">(6) str.substr(cgi_decode_s_str_1, 4, 1) == &quot;+&quot;</text>\n",
       "</g>\n",
       "<!-- 243&#45;&gt;244 -->\n",
       "<g id=\"edge244\" class=\"edge\">\n",
       "<title>243&#45;&gt;244</title>\n",
       "<path fill=\"none\" stroke=\"#ff0000\" d=\"M5221.7469,-2771.929C5218.1328,-2761.9901 5211.6793,-2744.243 5206.8299,-2730.9073\"/>\n",
       "<polygon fill=\"#ff0000\" stroke=\"#ff0000\" points=\"5210.0764,-2729.5933 5203.3696,-2721.3915 5203.4979,-2731.9856 5210.0764,-2729.5933\"/>\n",
       "<text text-anchor=\"middle\" x=\"5219.5\" y=\"-2742.8\" font-family=\"Times,serif\" font-size=\"14.00\" fill=\"#000000\">0</text>\n",
       "</g>\n",
       "<!-- 253 -->\n",
       "<g id=\"node254\" class=\"node\">\n",
       "<title>253</title>\n",
       "<text text-anchor=\"middle\" x=\"5353.5\" y=\"-2709.8\" font-family=\"Times,serif\" font-size=\"14.00\" fill=\"#000000\">?</text>\n",
       "</g>\n",
       "<!-- 243&#45;&gt;253 -->\n",
       "<g id=\"edge253\" class=\"edge\">\n",
       "<title>243&#45;&gt;253</title>\n",
       "<path fill=\"none\" stroke=\"#0000ff\" d=\"M5240.406,-2771.8302C5262.8924,-2760.908 5305.1747,-2740.078 5340.5,-2721 5340.5974,-2720.9474 5340.6952,-2720.8944 5340.7933,-2720.8412\"/>\n",
       "<polygon fill=\"#0000ff\" stroke=\"#0000ff\" points=\"5342.7067,-2723.7794 5349.6639,-2715.7889 5339.2422,-2717.6968 5342.7067,-2723.7794\"/>\n",
       "<text text-anchor=\"middle\" x=\"5310.5\" y=\"-2742.8\" font-family=\"Times,serif\" font-size=\"14.00\" fill=\"#000000\">1</text>\n",
       "</g>\n",
       "<!-- 245 -->\n",
       "<g id=\"node246\" class=\"node\">\n",
       "<title>245</title>\n",
       "<text text-anchor=\"middle\" x=\"5194.5\" y=\"-2643.8\" font-family=\"Times,serif\" font-size=\"14.00\" fill=\"#000000\">(7) str.substr(cgi_decode_s_str_1, 4, 1) == &quot;%&quot;</text>\n",
       "</g>\n",
       "<!-- 244&#45;&gt;245 -->\n",
       "<g id=\"edge245\" class=\"edge\">\n",
       "<title>244&#45;&gt;245</title>\n",
       "<path fill=\"none\" stroke=\"#ff0000\" d=\"M5199.8117,-2705.929C5198.9261,-2696.1869 5197.3584,-2678.9428 5196.155,-2665.7046\"/>\n",
       "<polygon fill=\"#ff0000\" stroke=\"#ff0000\" points=\"5199.6085,-2665.0335 5195.2174,-2655.3915 5192.6372,-2665.6673 5199.6085,-2665.0335\"/>\n",
       "<text text-anchor=\"middle\" x=\"5202.5\" y=\"-2676.8\" font-family=\"Times,serif\" font-size=\"14.00\" fill=\"#000000\">0</text>\n",
       "</g>\n",
       "<!-- 252 -->\n",
       "<g id=\"node253\" class=\"node\">\n",
       "<title>252</title>\n",
       "<text text-anchor=\"middle\" x=\"5349.5\" y=\"-2643.8\" font-family=\"Times,serif\" font-size=\"14.00\" fill=\"#000000\">?</text>\n",
       "</g>\n",
       "<!-- 244&#45;&gt;252 -->\n",
       "<g id=\"edge252\" class=\"edge\">\n",
       "<title>244&#45;&gt;252</title>\n",
       "<path fill=\"none\" stroke=\"#0000ff\" d=\"M5220.1957,-2705.8719C5246.9445,-2695.3224 5296.0612,-2675.2752 5336.5,-2655 5336.599,-2654.9504 5336.6983,-2654.9003 5336.7978,-2654.8499\"/>\n",
       "<polygon fill=\"#0000ff\" stroke=\"#0000ff\" points=\"5338.6916,-2657.8005 5345.6967,-2649.8519 5335.2638,-2651.6972 5338.6916,-2657.8005\"/>\n",
       "<text text-anchor=\"middle\" x=\"5300.5\" y=\"-2676.8\" font-family=\"Times,serif\" font-size=\"14.00\" fill=\"#000000\">1</text>\n",
       "</g>\n",
       "<!-- 246 -->\n",
       "<g id=\"node247\" class=\"node\">\n",
       "<title>246</title>\n",
       "<text text-anchor=\"middle\" x=\"5193.5\" y=\"-2577.8\" font-family=\"Times,serif\" font-size=\"14.00\" fill=\"#000000\">(8) str.substr(cgi_decode_s_str_1, 5, 1) == &quot;+&quot;</text>\n",
       "</g>\n",
       "<!-- 245&#45;&gt;246 -->\n",
       "<g id=\"edge246\" class=\"edge\">\n",
       "<title>245&#45;&gt;246</title>\n",
       "<path fill=\"none\" stroke=\"#ff0000\" d=\"M5194.3853,-2639.929C5194.2377,-2630.1869 5193.9764,-2612.9428 5193.7758,-2599.7046\"/>\n",
       "<polygon fill=\"#ff0000\" stroke=\"#ff0000\" points=\"5197.2708,-2599.3373 5193.6196,-2589.3915 5190.2716,-2599.4434 5197.2708,-2599.3373\"/>\n",
       "<text text-anchor=\"middle\" x=\"5198.5\" y=\"-2610.8\" font-family=\"Times,serif\" font-size=\"14.00\" fill=\"#000000\">0</text>\n",
       "</g>\n",
       "<!-- 251 -->\n",
       "<g id=\"node252\" class=\"node\">\n",
       "<title>251</title>\n",
       "<text text-anchor=\"middle\" x=\"5346.5\" y=\"-2577.8\" font-family=\"Times,serif\" font-size=\"14.00\" fill=\"#000000\">?</text>\n",
       "</g>\n",
       "<!-- 245&#45;&gt;251 -->\n",
       "<g id=\"edge251\" class=\"edge\">\n",
       "<title>245&#45;&gt;251</title>\n",
       "<path fill=\"none\" stroke=\"#0000ff\" d=\"M5214.6469,-2639.9352C5242.0047,-2629.4574 5292.2263,-2609.4912 5333.5,-2589 5333.5992,-2588.9508 5333.6987,-2588.9011 5333.7984,-2588.851\"/>\n",
       "<polygon fill=\"#0000ff\" stroke=\"#0000ff\" points=\"5335.6896,-2591.8033 5342.7008,-2583.8602 5332.2665,-2585.6974 5335.6896,-2591.8033\"/>\n",
       "<text text-anchor=\"middle\" x=\"5296.5\" y=\"-2610.8\" font-family=\"Times,serif\" font-size=\"14.00\" fill=\"#000000\">1</text>\n",
       "</g>\n",
       "<!-- 247 -->\n",
       "<g id=\"node248\" class=\"node\">\n",
       "<title>247</title>\n",
       "<text text-anchor=\"middle\" x=\"5071.5\" y=\"-2511.8\" font-family=\"Times,serif\" font-size=\"14.00\" fill=\"#000000\">(9) str.substr(cgi_decode_s_str_1, 5, 1) == &quot;%&quot;</text>\n",
       "</g>\n",
       "<!-- 246&#45;&gt;247 -->\n",
       "<g id=\"edge247\" class=\"edge\">\n",
       "<title>246&#45;&gt;247</title>\n",
       "<path fill=\"none\" stroke=\"#ff0000\" d=\"M5179.505,-2573.929C5158.7486,-2562.7 5119.5683,-2541.5041 5094.5393,-2527.9639\"/>\n",
       "<polygon fill=\"#ff0000\" stroke=\"#ff0000\" points=\"5096.1684,-2524.8659 5085.7075,-2523.186 5092.8376,-2531.0227 5096.1684,-2524.8659\"/>\n",
       "<text text-anchor=\"middle\" x=\"5147.5\" y=\"-2544.8\" font-family=\"Times,serif\" font-size=\"14.00\" fill=\"#000000\">0</text>\n",
       "</g>\n",
       "<!-- 250 -->\n",
       "<g id=\"node251\" class=\"node\">\n",
       "<title>250</title>\n",
       "<text text-anchor=\"middle\" x=\"5226.5\" y=\"-2511.8\" font-family=\"Times,serif\" font-size=\"14.00\" fill=\"#000000\">?</text>\n",
       "</g>\n",
       "<!-- 246&#45;&gt;250 -->\n",
       "<g id=\"edge250\" class=\"edge\">\n",
       "<title>246&#45;&gt;250</title>\n",
       "<path fill=\"none\" stroke=\"#0000ff\" d=\"M5197.2855,-2573.929C5202.4121,-2563.6759 5211.6936,-2545.1129 5218.4221,-2531.6559\"/>\n",
       "<polygon fill=\"#0000ff\" stroke=\"#0000ff\" points=\"5221.6169,-2533.0923 5222.9586,-2522.5827 5215.3559,-2529.9617 5221.6169,-2533.0923\"/>\n",
       "<text text-anchor=\"middle\" x=\"5217.5\" y=\"-2544.8\" font-family=\"Times,serif\" font-size=\"14.00\" fill=\"#000000\">1</text>\n",
       "</g>\n",
       "<!-- 248 -->\n",
       "<g id=\"node249\" class=\"node\">\n",
       "<title>248</title>\n",
       "<text text-anchor=\"middle\" x=\"5044.5\" y=\"-2445.8\" font-family=\"Times,serif\" font-size=\"14.00\" fill=\"#000000\">* ++\\x00</text>\n",
       "</g>\n",
       "<!-- 247&#45;&gt;248 -->\n",
       "<g id=\"edge248\" class=\"edge\">\n",
       "<title>247&#45;&gt;248</title>\n",
       "<path fill=\"none\" stroke=\"#ff0000\" d=\"M5068.4028,-2507.929C5064.3369,-2497.9901 5057.0767,-2480.243 5051.6212,-2466.9073\"/>\n",
       "<polygon fill=\"#ff0000\" stroke=\"#ff0000\" points=\"5054.7541,-2465.3217 5047.7283,-2457.3915 5048.2753,-2467.9722 5054.7541,-2465.3217\"/>\n",
       "<text text-anchor=\"middle\" x=\"5064.5\" y=\"-2478.8\" font-family=\"Times,serif\" font-size=\"14.00\" fill=\"#000000\">0</text>\n",
       "</g>\n",
       "<!-- 249 -->\n",
       "<g id=\"node250\" class=\"node\">\n",
       "<title>249</title>\n",
       "<text text-anchor=\"middle\" x=\"5092.5\" y=\"-2445.8\" font-family=\"Times,serif\" font-size=\"14.00\" fill=\"#000000\">?</text>\n",
       "</g>\n",
       "<!-- 247&#45;&gt;249 -->\n",
       "<g id=\"edge249\" class=\"edge\">\n",
       "<title>247&#45;&gt;249</title>\n",
       "<path fill=\"none\" stroke=\"#0000ff\" d=\"M5073.909,-2507.929C5077.04,-2498.0885 5082.6066,-2480.5937 5086.8349,-2467.3047\"/>\n",
       "<polygon fill=\"#0000ff\" stroke=\"#0000ff\" points=\"5090.2922,-2467.982 5089.9891,-2457.3915 5083.6217,-2465.8595 5090.2922,-2467.982\"/>\n",
       "<text text-anchor=\"middle\" x=\"5088.5\" y=\"-2478.8\" font-family=\"Times,serif\" font-size=\"14.00\" fill=\"#000000\">1</text>\n",
       "</g>\n",
       "<!-- 257 -->\n",
       "<g id=\"node258\" class=\"node\">\n",
       "<title>257</title>\n",
       "<text text-anchor=\"middle\" x=\"5687.5\" y=\"-2841.8\" font-family=\"Times,serif\" font-size=\"14.00\" fill=\"#000000\">(4) str.substr(cgi_decode_s_str_1, 3, 1) == &quot;%&quot;</text>\n",
       "</g>\n",
       "<!-- 256&#45;&gt;257 -->\n",
       "<g id=\"edge257\" class=\"edge\">\n",
       "<title>256&#45;&gt;257</title>\n",
       "<path fill=\"none\" stroke=\"#ff0000\" d=\"M5706.9763,-2903.929C5703.6634,-2893.9901 5697.7477,-2876.243 5693.3024,-2862.9073\"/>\n",
       "<polygon fill=\"#ff0000\" stroke=\"#ff0000\" points=\"5696.6132,-2861.7715 5690.1305,-2853.3915 5689.9725,-2863.9852 5696.6132,-2861.7715\"/>\n",
       "<text text-anchor=\"middle\" x=\"5704.5\" y=\"-2874.8\" font-family=\"Times,serif\" font-size=\"14.00\" fill=\"#000000\">0</text>\n",
       "</g>\n",
       "<!-- 272 -->\n",
       "<g id=\"node273\" class=\"node\">\n",
       "<title>272</title>\n",
       "<text text-anchor=\"middle\" x=\"5842.5\" y=\"-2841.8\" font-family=\"Times,serif\" font-size=\"14.00\" fill=\"#000000\">?</text>\n",
       "</g>\n",
       "<!-- 256&#45;&gt;272 -->\n",
       "<g id=\"edge272\" class=\"edge\">\n",
       "<title>256&#45;&gt;272</title>\n",
       "<path fill=\"none\" stroke=\"#0000ff\" d=\"M5725.9857,-2903.9085C5749.2847,-2893.0792 5793.0689,-2872.3589 5829.5,-2853 5829.5978,-2852.948 5829.6959,-2852.8957 5829.7943,-2852.8431\"/>\n",
       "<polygon fill=\"#0000ff\" stroke=\"#0000ff\" points=\"5831.7035,-2855.784 5838.6713,-2847.8028 5828.2471,-2849.6968 5831.7035,-2855.784\"/>\n",
       "<text text-anchor=\"middle\" x=\"5798.5\" y=\"-2874.8\" font-family=\"Times,serif\" font-size=\"14.00\" fill=\"#000000\">1</text>\n",
       "</g>\n",
       "<!-- 258 -->\n",
       "<g id=\"node259\" class=\"node\">\n",
       "<title>258</title>\n",
       "<text text-anchor=\"middle\" x=\"5683.5\" y=\"-2775.8\" font-family=\"Times,serif\" font-size=\"14.00\" fill=\"#000000\">(5) str.substr(cgi_decode_s_str_1, 4, 1) == &quot;+&quot;</text>\n",
       "</g>\n",
       "<!-- 257&#45;&gt;258 -->\n",
       "<g id=\"edge258\" class=\"edge\">\n",
       "<title>257&#45;&gt;258</title>\n",
       "<path fill=\"none\" stroke=\"#ff0000\" d=\"M5687.0411,-2837.929C5686.4507,-2828.1869 5685.4056,-2810.9428 5684.6033,-2797.7046\"/>\n",
       "<polygon fill=\"#ff0000\" stroke=\"#ff0000\" points=\"5688.0769,-2797.1614 5683.9783,-2787.3915 5681.0897,-2797.5849 5688.0769,-2797.1614\"/>\n",
       "<text text-anchor=\"middle\" x=\"5690.5\" y=\"-2808.8\" font-family=\"Times,serif\" font-size=\"14.00\" fill=\"#000000\">0</text>\n",
       "</g>\n",
       "<!-- 271 -->\n",
       "<g id=\"node272\" class=\"node\">\n",
       "<title>271</title>\n",
       "<text text-anchor=\"middle\" x=\"5836.5\" y=\"-2775.8\" font-family=\"Times,serif\" font-size=\"14.00\" fill=\"#000000\">?</text>\n",
       "</g>\n",
       "<!-- 257&#45;&gt;271 -->\n",
       "<g id=\"edge271\" class=\"edge\">\n",
       "<title>257&#45;&gt;271</title>\n",
       "<path fill=\"none\" stroke=\"#0000ff\" d=\"M5707.1957,-2837.8719C5733.9445,-2827.3224 5783.0612,-2807.2752 5823.5,-2787 5823.599,-2786.9504 5823.6983,-2786.9003 5823.7978,-2786.8499\"/>\n",
       "<polygon fill=\"#0000ff\" stroke=\"#0000ff\" points=\"5825.6916,-2789.8005 5832.6967,-2781.8519 5822.2638,-2783.6972 5825.6916,-2789.8005\"/>\n",
       "<text text-anchor=\"middle\" x=\"5787.5\" y=\"-2808.8\" font-family=\"Times,serif\" font-size=\"14.00\" fill=\"#000000\">1</text>\n",
       "</g>\n",
       "<!-- 259 -->\n",
       "<g id=\"node260\" class=\"node\">\n",
       "<title>259</title>\n",
       "<text text-anchor=\"middle\" x=\"5679.5\" y=\"-2709.8\" font-family=\"Times,serif\" font-size=\"14.00\" fill=\"#000000\">(6) str.substr(cgi_decode_s_str_1, 4, 1) == &quot;%&quot;</text>\n",
       "</g>\n",
       "<!-- 258&#45;&gt;259 -->\n",
       "<g id=\"edge259\" class=\"edge\">\n",
       "<title>258&#45;&gt;259</title>\n",
       "<path fill=\"none\" stroke=\"#ff0000\" d=\"M5683.0411,-2771.929C5682.4507,-2762.1869 5681.4056,-2744.9428 5680.6033,-2731.7046\"/>\n",
       "<polygon fill=\"#ff0000\" stroke=\"#ff0000\" points=\"5684.0769,-2731.1614 5679.9783,-2721.3915 5677.0897,-2731.5849 5684.0769,-2731.1614\"/>\n",
       "<text text-anchor=\"middle\" x=\"5686.5\" y=\"-2742.8\" font-family=\"Times,serif\" font-size=\"14.00\" fill=\"#000000\">0</text>\n",
       "</g>\n",
       "<!-- 270 -->\n",
       "<g id=\"node271\" class=\"node\">\n",
       "<title>270</title>\n",
       "<text text-anchor=\"middle\" x=\"5834.5\" y=\"-2709.8\" font-family=\"Times,serif\" font-size=\"14.00\" fill=\"#000000\">?</text>\n",
       "</g>\n",
       "<!-- 258&#45;&gt;270 -->\n",
       "<g id=\"edge270\" class=\"edge\">\n",
       "<title>258&#45;&gt;270</title>\n",
       "<path fill=\"none\" stroke=\"#0000ff\" d=\"M5703.4965,-2771.914C5730.6514,-2761.4123 5780.5048,-2741.4191 5821.5,-2721 5821.5991,-2720.9506 5821.6985,-2720.9008 5821.7982,-2720.8506\"/>\n",
       "<polygon fill=\"#0000ff\" stroke=\"#0000ff\" points=\"5823.6903,-2723.8024 5830.6995,-2715.8575 5820.2656,-2717.6973 5823.6903,-2723.8024\"/>\n",
       "<text text-anchor=\"middle\" x=\"5784.5\" y=\"-2742.8\" font-family=\"Times,serif\" font-size=\"14.00\" fill=\"#000000\">1</text>\n",
       "</g>\n",
       "<!-- 260 -->\n",
       "<g id=\"node261\" class=\"node\">\n",
       "<title>260</title>\n",
       "<text text-anchor=\"middle\" x=\"5532.5\" y=\"-2643.8\" font-family=\"Times,serif\" font-size=\"14.00\" fill=\"#000000\">(7) str.substr(cgi_decode_s_str_1, 5, 1) == &quot;+&quot;</text>\n",
       "</g>\n",
       "<!-- 259&#45;&gt;260 -->\n",
       "<g id=\"edge260\" class=\"edge\">\n",
       "<title>259&#45;&gt;260</title>\n",
       "<path fill=\"none\" stroke=\"#ff0000\" d=\"M5662.6372,-2705.929C5637.2968,-2694.5516 5589.1666,-2672.9422 5559.0738,-2659.4311\"/>\n",
       "<polygon fill=\"#ff0000\" stroke=\"#ff0000\" points=\"5560.1752,-2656.0891 5549.6189,-2655.186 5557.308,-2662.4749 5560.1752,-2656.0891\"/>\n",
       "<text text-anchor=\"middle\" x=\"5623.5\" y=\"-2676.8\" font-family=\"Times,serif\" font-size=\"14.00\" fill=\"#000000\">0</text>\n",
       "</g>\n",
       "<!-- 269 -->\n",
       "<g id=\"node270\" class=\"node\">\n",
       "<title>269</title>\n",
       "<text text-anchor=\"middle\" x=\"5685.5\" y=\"-2643.8\" font-family=\"Times,serif\" font-size=\"14.00\" fill=\"#000000\">?</text>\n",
       "</g>\n",
       "<!-- 259&#45;&gt;269 -->\n",
       "<g id=\"edge269\" class=\"edge\">\n",
       "<title>259&#45;&gt;269</title>\n",
       "<path fill=\"none\" stroke=\"#0000ff\" d=\"M5680.1883,-2705.929C5681.0739,-2696.1869 5682.6416,-2678.9428 5683.845,-2665.7046\"/>\n",
       "<polygon fill=\"#0000ff\" stroke=\"#0000ff\" points=\"5687.3628,-2665.6673 5684.7826,-2655.3915 5680.3915,-2665.0335 5687.3628,-2665.6673\"/>\n",
       "<text text-anchor=\"middle\" x=\"5687.5\" y=\"-2676.8\" font-family=\"Times,serif\" font-size=\"14.00\" fill=\"#000000\">1</text>\n",
       "</g>\n",
       "<!-- 261 -->\n",
       "<g id=\"node262\" class=\"node\">\n",
       "<title>261</title>\n",
       "<text text-anchor=\"middle\" x=\"5527.5\" y=\"-2577.8\" font-family=\"Times,serif\" font-size=\"14.00\" fill=\"#000000\">(8) str.substr(cgi_decode_s_str_1, 5, 1) == &quot;%&quot;</text>\n",
       "</g>\n",
       "<!-- 260&#45;&gt;261 -->\n",
       "<g id=\"edge261\" class=\"edge\">\n",
       "<title>260&#45;&gt;261</title>\n",
       "<path fill=\"none\" stroke=\"#ff0000\" d=\"M5531.9264,-2639.929C5531.1884,-2630.1869 5529.882,-2612.9428 5528.8791,-2599.7046\"/>\n",
       "<polygon fill=\"#ff0000\" stroke=\"#ff0000\" points=\"5532.3433,-2599.0985 5528.0978,-2589.3915 5525.3633,-2599.6273 5532.3433,-2599.0985\"/>\n",
       "<text text-anchor=\"middle\" x=\"5534.5\" y=\"-2610.8\" font-family=\"Times,serif\" font-size=\"14.00\" fill=\"#000000\">0</text>\n",
       "</g>\n",
       "<!-- 268 -->\n",
       "<g id=\"node269\" class=\"node\">\n",
       "<title>268</title>\n",
       "<text text-anchor=\"middle\" x=\"5682.5\" y=\"-2577.8\" font-family=\"Times,serif\" font-size=\"14.00\" fill=\"#000000\">?</text>\n",
       "</g>\n",
       "<!-- 260&#45;&gt;268 -->\n",
       "<g id=\"edge268\" class=\"edge\">\n",
       "<title>260&#45;&gt;268</title>\n",
       "<path fill=\"none\" stroke=\"#0000ff\" d=\"M5552.3461,-2639.8929C5579.298,-2629.3673 5628.7831,-2609.3471 5669.5,-2589 5669.5991,-2588.9505 5669.6984,-2588.9006 5669.798,-2588.8503\"/>\n",
       "<polygon fill=\"#0000ff\" stroke=\"#0000ff\" points=\"5671.691,-2591.8015 5678.6981,-2583.8547 5668.2647,-2585.6973 5671.691,-2591.8015\"/>\n",
       "<text text-anchor=\"middle\" x=\"5633.5\" y=\"-2610.8\" font-family=\"Times,serif\" font-size=\"14.00\" fill=\"#000000\">1</text>\n",
       "</g>\n",
       "<!-- 262 -->\n",
       "<g id=\"node263\" class=\"node\">\n",
       "<title>262</title>\n",
       "<text text-anchor=\"middle\" x=\"5379.5\" y=\"-2511.8\" font-family=\"Times,serif\" font-size=\"14.00\" fill=\"#000000\">(9) str.substr(cgi_decode_s_str_1, 6, 1) == &quot;+&quot;</text>\n",
       "</g>\n",
       "<!-- 261&#45;&gt;262 -->\n",
       "<g id=\"edge262\" class=\"edge\">\n",
       "<title>261&#45;&gt;262</title>\n",
       "<path fill=\"none\" stroke=\"#ff0000\" d=\"M5510.5225,-2573.929C5485.0097,-2562.5516 5436.5521,-2540.9422 5406.2546,-2527.4311\"/>\n",
       "<polygon fill=\"#ff0000\" stroke=\"#ff0000\" points=\"5407.2939,-2524.0624 5396.7354,-2523.186 5404.4429,-2530.4555 5407.2939,-2524.0624\"/>\n",
       "<text text-anchor=\"middle\" x=\"5471.5\" y=\"-2544.8\" font-family=\"Times,serif\" font-size=\"14.00\" fill=\"#000000\">0</text>\n",
       "</g>\n",
       "<!-- 267 -->\n",
       "<g id=\"node268\" class=\"node\">\n",
       "<title>267</title>\n",
       "<text text-anchor=\"middle\" x=\"5532.5\" y=\"-2511.8\" font-family=\"Times,serif\" font-size=\"14.00\" fill=\"#000000\">?</text>\n",
       "</g>\n",
       "<!-- 261&#45;&gt;267 -->\n",
       "<g id=\"edge267\" class=\"edge\">\n",
       "<title>261&#45;&gt;267</title>\n",
       "<path fill=\"none\" stroke=\"#0000ff\" d=\"M5528.0736,-2573.929C5528.8116,-2564.1869 5530.118,-2546.9428 5531.1209,-2533.7046\"/>\n",
       "<polygon fill=\"#0000ff\" stroke=\"#0000ff\" points=\"5534.6367,-2533.6273 5531.9022,-2523.3915 5527.6567,-2533.0985 5534.6367,-2533.6273\"/>\n",
       "<text text-anchor=\"middle\" x=\"5534.5\" y=\"-2544.8\" font-family=\"Times,serif\" font-size=\"14.00\" fill=\"#000000\">1</text>\n",
       "</g>\n",
       "<!-- 263 -->\n",
       "<g id=\"node264\" class=\"node\">\n",
       "<title>263</title>\n",
       "<text text-anchor=\"middle\" x=\"5293.5\" y=\"-2445.8\" font-family=\"Times,serif\" font-size=\"14.00\" fill=\"#000000\">(10) str.substr(cgi_decode_s_str_1, 6, 1) == &quot;%&quot;</text>\n",
       "</g>\n",
       "<!-- 262&#45;&gt;263 -->\n",
       "<g id=\"edge263\" class=\"edge\">\n",
       "<title>262&#45;&gt;263</title>\n",
       "<path fill=\"none\" stroke=\"#ff0000\" d=\"M5369.6347,-2507.929C5355.5832,-2497.1452 5329.5538,-2477.1692 5311.885,-2463.6094\"/>\n",
       "<polygon fill=\"#ff0000\" stroke=\"#ff0000\" points=\"5313.5791,-2460.4977 5303.5151,-2457.186 5309.3174,-2466.0509 5313.5791,-2460.4977\"/>\n",
       "<text text-anchor=\"middle\" x=\"5348.5\" y=\"-2478.8\" font-family=\"Times,serif\" font-size=\"14.00\" fill=\"#000000\">0</text>\n",
       "</g>\n",
       "<!-- 266 -->\n",
       "<g id=\"node267\" class=\"node\">\n",
       "<title>266</title>\n",
       "<text text-anchor=\"middle\" x=\"5451.5\" y=\"-2445.8\" font-family=\"Times,serif\" font-size=\"14.00\" fill=\"#000000\">?</text>\n",
       "</g>\n",
       "<!-- 262&#45;&gt;266 -->\n",
       "<g id=\"edge266\" class=\"edge\">\n",
       "<title>262&#45;&gt;266</title>\n",
       "<path fill=\"none\" stroke=\"#0000ff\" d=\"M5387.7593,-2507.929C5400.729,-2496.04 5425.8876,-2472.9781 5440.4172,-2459.6593\"/>\n",
       "<polygon fill=\"#0000ff\" stroke=\"#0000ff\" points=\"5442.8798,-2462.1498 5447.8864,-2452.8125 5438.1497,-2456.9897 5442.8798,-2462.1498\"/>\n",
       "<text text-anchor=\"middle\" x=\"5426.5\" y=\"-2478.8\" font-family=\"Times,serif\" font-size=\"14.00\" fill=\"#000000\">1</text>\n",
       "</g>\n",
       "<!-- 264 -->\n",
       "<g id=\"node265\" class=\"node\">\n",
       "<title>264</title>\n",
       "<text text-anchor=\"middle\" x=\"5267.5\" y=\"-2379.8\" font-family=\"Times,serif\" font-size=\"14.00\" fill=\"#000000\">* +++\\x00</text>\n",
       "</g>\n",
       "<!-- 263&#45;&gt;264 -->\n",
       "<g id=\"edge264\" class=\"edge\">\n",
       "<title>263&#45;&gt;264</title>\n",
       "<path fill=\"none\" stroke=\"#ff0000\" d=\"M5290.5175,-2441.929C5286.6022,-2431.9901 5279.6109,-2414.243 5274.3574,-2400.9073\"/>\n",
       "<polygon fill=\"#ff0000\" stroke=\"#ff0000\" points=\"5277.5305,-2399.4127 5270.6088,-2391.3915 5271.0176,-2401.9784 5277.5305,-2399.4127\"/>\n",
       "<text text-anchor=\"middle\" x=\"5287.5\" y=\"-2412.8\" font-family=\"Times,serif\" font-size=\"14.00\" fill=\"#000000\">0</text>\n",
       "</g>\n",
       "<!-- 265 -->\n",
       "<g id=\"node266\" class=\"node\">\n",
       "<title>265</title>\n",
       "<text text-anchor=\"middle\" x=\"5319.5\" y=\"-2379.8\" font-family=\"Times,serif\" font-size=\"14.00\" fill=\"#000000\">?</text>\n",
       "</g>\n",
       "<!-- 263&#45;&gt;265 -->\n",
       "<g id=\"edge265\" class=\"edge\">\n",
       "<title>263&#45;&gt;265</title>\n",
       "<path fill=\"none\" stroke=\"#0000ff\" d=\"M5296.4825,-2441.929C5300.3978,-2431.9901 5307.3891,-2414.243 5312.6426,-2400.9073\"/>\n",
       "<polygon fill=\"#0000ff\" stroke=\"#0000ff\" points=\"5315.9824,-2401.9784 5316.3912,-2391.3915 5309.4695,-2399.4127 5315.9824,-2401.9784\"/>\n",
       "<text text-anchor=\"middle\" x=\"5313.5\" y=\"-2412.8\" font-family=\"Times,serif\" font-size=\"14.00\" fill=\"#000000\">1</text>\n",
       "</g>\n",
       "</g>\n",
       "</svg>\n"
      ],
      "text/plain": [
       "<graphviz.dot.Digraph at 0x7fe449fe6518>"
      ]
     },
     "execution_count": 250,
     "metadata": {},
     "output_type": "execute_result"
    }
   ],
   "source": [
    "display_trace_tree(scf.ct.root)"
   ]
  },
  {
   "cell_type": "markdown",
   "metadata": {
    "slideshow": {
     "slide_type": "subslide"
    }
   },
   "source": [
    "**Note.** Our concolic tracer is limited in that it does not track changes in the string length. This leads it to treat every string with same prefix as the same string."
   ]
  },
  {
   "cell_type": "markdown",
   "metadata": {
    "slideshow": {
     "slide_type": "fragment"
    }
   },
   "source": [
    "The `SimpleConcolicFuzzer` is reasonably efficient at exploring paths near the path followed by a given sample input. However, it is not very intelligent when it comes to choosing which paths to follow. We look at another fuzzer that lifts the predicates obtained to the grammar and achieves better fuzzing."
   ]
  },
  {
   "cell_type": "markdown",
   "metadata": {
    "slideshow": {
     "slide_type": "subslide"
    }
   },
   "source": [
    "### ConcolicGrammarFuzzer\n",
    "\n",
    "The concolic framework can be used directly in fuzzing. First, we extend our `GrammarFuzzer` with a helper method `tree_to_string()` such that we can retrieve the derivation tree of the fuzz output. We also define `prune_tree()` and `coalesce()` to reduce the depth of sub trees. These methods accept a list of tokens types such that a node belonging to the token type gets converted from a tree to a leaf node by calling `tree_to_string()`."
   ]
  },
  {
   "cell_type": "code",
   "execution_count": 251,
   "metadata": {
    "slideshow": {
     "slide_type": "skip"
    }
   },
   "outputs": [],
   "source": [
    "from InformationFlow import INVENTORY_GRAMMAR, SQLException"
   ]
  },
  {
   "cell_type": "code",
   "execution_count": 252,
   "metadata": {
    "slideshow": {
     "slide_type": "skip"
    }
   },
   "outputs": [],
   "source": [
    "from GrammarFuzzer import GrammarFuzzer"
   ]
  },
  {
   "cell_type": "code",
   "execution_count": 253,
   "metadata": {
    "slideshow": {
     "slide_type": "subslide"
    }
   },
   "outputs": [],
   "source": [
    "class ConcolicGrammarFuzzer(GrammarFuzzer):\n",
    "    def tree_to_string(self, tree):\n",
    "        symbol, children, *_ = tree\n",
    "        e = ''\n",
    "        if children:\n",
    "            return e.join([self.tree_to_string(c) for c in children])\n",
    "        else:\n",
    "            return e if symbol in self.grammar else symbol\n",
    "\n",
    "    def prune_tree(self, tree, tokens):\n",
    "        name, children = tree\n",
    "        children = self.coalesce(children)\n",
    "        if name in tokens:\n",
    "            return (name, [(self.tree_to_string(tree), [])])\n",
    "        else:\n",
    "            return (name, [self.prune_tree(c, tokens) for c in children])\n",
    "\n",
    "    def coalesce(self, children):\n",
    "        last = ''\n",
    "        new_lst = []\n",
    "        for cn, cc in children:\n",
    "            if cn not in self.grammar:\n",
    "                last += cn\n",
    "            else:\n",
    "                if last:\n",
    "                    new_lst.append((last, []))\n",
    "                    last = ''\n",
    "                new_lst.append((cn, cc))\n",
    "        if last:\n",
    "            new_lst.append((last, []))\n",
    "        return new_lst"
   ]
  },
  {
   "cell_type": "markdown",
   "metadata": {
    "slideshow": {
     "slide_type": "subslide"
    }
   },
   "source": [
    "We can now use the fuzzer to produce inputs for our DB."
   ]
  },
  {
   "cell_type": "code",
   "execution_count": 254,
   "metadata": {
    "slideshow": {
     "slide_type": "fragment"
    }
   },
   "outputs": [],
   "source": [
    "tgf = ConcolicGrammarFuzzer(INVENTORY_GRAMMAR)\n",
    "while True:\n",
    "    qtree = tgf.fuzz_tree()\n",
    "    query = str(tgf.tree_to_string(qtree))\n",
    "    if query.startswith('select'):\n",
    "        break"
   ]
  },
  {
   "cell_type": "code",
   "execution_count": 255,
   "metadata": {
    "slideshow": {
     "slide_type": "skip"
    }
   },
   "outputs": [],
   "source": [
    "from ExpectError import ExpectError"
   ]
  },
  {
   "cell_type": "code",
   "execution_count": 256,
   "metadata": {
    "slideshow": {
     "slide_type": "subslide"
    }
   },
   "outputs": [
    {
     "name": "stdout",
     "output_type": "stream",
     "text": [
      "'select I/k-z-A(z)/W(q,S) from G.2fN0'\n"
     ]
    },
    {
     "name": "stderr",
     "output_type": "stream",
     "text": [
      "Traceback (most recent call last):\n",
      "  File \"<ipython-input-256-6cbadb7bcf98>\", line 4, in <module>\n",
      "    res = _[db_select](str(query))\n",
      "  File \"<ipython-input-33-635d2b1b13c2>\", line 3, in __call__\n",
      "    self.result = self.fn(*self.concolic(args))\n",
      "  File \"<ipython-input-201-26b52b86ed9e>\", line 4, in db_select\n",
      "    r = my_db.sql(s)\n",
      "  File \"InformationFlow.ipynb\", line 57, in sql\n",
      "    raise SQLException('Unknown SQL (%s)' % query)\n",
      "  File \"InformationFlow.ipynb\", line 76, in do_select\n",
      "  File \"<ipython-input-200-d1ea3580462a>\", line 6, in table\n",
      "    raise SQLException('Table (%s) was not found' % repr(t_name))\n",
      "InformationFlow.SQLException: Table ('G.2fN0') was not found (expected)\n"
     ]
    }
   ],
   "source": [
    "with ExpectError():\n",
    "    print(repr(query))\n",
    "    with ConcolicTracer() as _:\n",
    "        res = _[db_select](str(query))\n",
    "    print(repr(res))"
   ]
  },
  {
   "cell_type": "markdown",
   "metadata": {
    "slideshow": {
     "slide_type": "subslide"
    }
   },
   "source": [
    "Our fuzzer returns with an exception. It is unable to find the specified table. Let us examine the predicates it encountered."
   ]
  },
  {
   "cell_type": "code",
   "execution_count": 257,
   "metadata": {
    "slideshow": {
     "slide_type": "subslide"
    }
   },
   "outputs": [
    {
     "name": "stdout",
     "output_type": "stream",
     "text": [
      "0 0 == IndexOf(db_select_s_str_1, \"select \", 0)\n",
      "1 0 == IndexOf(db_select_s_str_1, \"select \", 0)\n",
      "2 Not(0 >\n",
      "    IndexOf(str.substr(db_select_s_str_1, 7, 29),\n",
      "            \" from \",\n",
      "            0))\n",
      "3 Not(29 <\n",
      "    IndexOf(str.substr(db_select_s_str_1, 7, 29),\n",
      "            \" from \",\n",
      "            0))\n",
      "4 Or(0 <\n",
      "   IndexOf(str.substr(db_select_s_str_1, 7, 29),\n",
      "           \" from \",\n",
      "           0),\n",
      "   0 ==\n",
      "   IndexOf(str.substr(db_select_s_str_1, 7, 29),\n",
      "           \" from \",\n",
      "           0))\n",
      "5 Not(Or(0 <\n",
      "       IndexOf(str.substr(db_select_s_str_1, 7, 29),\n",
      "               \" where \",\n",
      "               0),\n",
      "       0 ==\n",
      "       IndexOf(str.substr(db_select_s_str_1, 7, 29),\n",
      "               \" where \",\n",
      "               0)))\n",
      "6 Not(29 <\n",
      "    IndexOf(str.substr(db_select_s_str_1, 7, 29),\n",
      "            \" from \",\n",
      "            0) +\n",
      "    6)\n",
      "7 Or(29 >\n",
      "   IndexOf(str.substr(db_select_s_str_1, 7, 29),\n",
      "           \" from \",\n",
      "           0) +\n",
      "   6,\n",
      "   29 ==\n",
      "   IndexOf(str.substr(db_select_s_str_1, 7, 29),\n",
      "           \" from \",\n",
      "           0) +\n",
      "   6)\n",
      "8 Not(str.substr(str.substr(db_select_s_str_1, 7, 29), 23, 6) ==\n",
      "    \"inventory\")\n"
     ]
    }
   ],
   "source": [
    "for i, p in enumerate(_.path):\n",
    "    print(i, p)"
   ]
  },
  {
   "cell_type": "markdown",
   "metadata": {
    "slideshow": {
     "slide_type": "subslide"
    }
   },
   "source": [
    "Note that we can obtain constraints that are not present in the grammar from using the `ConcolicTracer`. In particular, see how we are able to obtain the condition that the table needs to be `inventory` (Predicate 11) for the fuzzing to succeed."
   ]
  },
  {
   "cell_type": "markdown",
   "metadata": {
    "slideshow": {
     "slide_type": "fragment"
    }
   },
   "source": [
    "How do we lift these to the grammar? and in particular how do we do it automatically? One option we have is to simply switch the last predicate obtained. In our case, the last predicate is (11). Can we simply invert the predicate and solve it again?"
   ]
  },
  {
   "cell_type": "code",
   "execution_count": 258,
   "metadata": {
    "slideshow": {
     "slide_type": "fragment"
    }
   },
   "outputs": [],
   "source": [
    "new_path = _.path[0:-1] + [z3.Not(_.path[-1])]"
   ]
  },
  {
   "cell_type": "code",
   "execution_count": 259,
   "metadata": {
    "slideshow": {
     "slide_type": "fragment"
    }
   },
   "outputs": [],
   "source": [
    "new_ = ConcolicTracer((_.decls, new_path))\n",
    "new_.fn = _.fn\n",
    "new_.fn_args = _.fn_args"
   ]
  },
  {
   "cell_type": "code",
   "execution_count": 260,
   "metadata": {
    "slideshow": {
     "slide_type": "fragment"
    }
   },
   "outputs": [
    {
     "data": {
      "text/plain": [
       "('No Solutions', None)"
      ]
     },
     "execution_count": 260,
     "metadata": {},
     "output_type": "execute_result"
    }
   ],
   "source": [
    "new_.zeval()"
   ]
  },
  {
   "cell_type": "markdown",
   "metadata": {
    "slideshow": {
     "slide_type": "subslide"
    }
   },
   "source": [
    "Indeed, this will not work as the string lengths being compared to are different."
   ]
  },
  {
   "cell_type": "code",
   "execution_count": 261,
   "metadata": {
    "slideshow": {
     "slide_type": "fragment"
    }
   },
   "outputs": [
    {
     "name": "stdout",
     "output_type": "stream",
     "text": [
      "Not(str.substr(str.substr(db_select_s_str_1, 7, 29), 23, 6) ==\n",
      "    \"inventory\")\n",
      "no solution\n"
     ]
    }
   ],
   "source": [
    "print(_.path[-1])\n",
    "z3.solve(z3.Not(_.path[-1]))"
   ]
  },
  {
   "cell_type": "markdown",
   "metadata": {
    "slideshow": {
     "slide_type": "fragment"
    }
   },
   "source": [
    "A better idea is to investigate what _string_ comparisons are being made, and associate that with the corresponding nodes in the grammar. Let us examine our derivation tree (pruned to avoid recursive structures, and to focus on important parts)."
   ]
  },
  {
   "cell_type": "code",
   "execution_count": 262,
   "metadata": {
    "slideshow": {
     "slide_type": "skip"
    }
   },
   "outputs": [],
   "source": [
    "from GrammarFuzzer import display_tree"
   ]
  },
  {
   "cell_type": "code",
   "execution_count": 263,
   "metadata": {
    "slideshow": {
     "slide_type": "subslide"
    }
   },
   "outputs": [
    {
     "data": {
      "image/svg+xml": [
       "<?xml version=\"1.0\" encoding=\"UTF-8\" standalone=\"no\"?>\n",
       "<!DOCTYPE svg PUBLIC \"-//W3C//DTD SVG 1.1//EN\"\n",
       " \"http://www.w3.org/Graphics/SVG/1.1/DTD/svg11.dtd\">\n",
       "<!-- Generated by graphviz version 2.40.1 (20161225.0304)\n",
       " -->\n",
       "<!-- Title: %3 Pages: 1 -->\n",
       "<svg width=\"224pt\" height=\"176pt\"\n",
       " viewBox=\"0.00 0.00 223.50 176.00\" xmlns=\"http://www.w3.org/2000/svg\" xmlns:xlink=\"http://www.w3.org/1999/xlink\">\n",
       "<g id=\"graph0\" class=\"graph\" transform=\"scale(1 1) rotate(0) translate(4 172)\">\n",
       "<title>%3</title>\n",
       "<polygon fill=\"#ffffff\" stroke=\"transparent\" points=\"-4,4 -4,-172 219.5,-172 219.5,4 -4,4\"/>\n",
       "<!-- 0 -->\n",
       "<g id=\"node1\" class=\"node\">\n",
       "<title>0</title>\n",
       "<text text-anchor=\"middle\" x=\"107\" y=\"-156.8\" font-family=\"Times,serif\" font-size=\"14.00\" fill=\"#000000\">&lt;start&gt;</text>\n",
       "</g>\n",
       "<!-- 1 -->\n",
       "<g id=\"node2\" class=\"node\">\n",
       "<title>1</title>\n",
       "<text text-anchor=\"middle\" x=\"107\" y=\"-105.8\" font-family=\"Times,serif\" font-size=\"14.00\" fill=\"#000000\">&lt;query&gt;</text>\n",
       "</g>\n",
       "<!-- 0&#45;&gt;1 -->\n",
       "<g id=\"edge1\" class=\"edge\">\n",
       "<title>0&#45;&gt;1</title>\n",
       "<path fill=\"none\" stroke=\"#000000\" d=\"M107,-152.9748C107,-146.195 107,-135.966 107,-127.1331\"/>\n",
       "<polygon fill=\"#000000\" stroke=\"#000000\" points=\"110.5001,-127.0561 107,-117.0561 103.5001,-127.0561 110.5001,-127.0561\"/>\n",
       "</g>\n",
       "<!-- 2 -->\n",
       "<g id=\"node3\" class=\"node\">\n",
       "<title>2</title>\n",
       "<text text-anchor=\"middle\" x=\"18\" y=\"-54.8\" font-family=\"Times,serif\" font-size=\"14.00\" fill=\"#000000\">select </text>\n",
       "</g>\n",
       "<!-- 1&#45;&gt;2 -->\n",
       "<g id=\"edge2\" class=\"edge\">\n",
       "<title>1&#45;&gt;2</title>\n",
       "<path fill=\"none\" stroke=\"#000000\" d=\"M93.8677,-101.9748C79.67,-93.839 56.8048,-80.7365 39.8829,-71.0397\"/>\n",
       "<polygon fill=\"#000000\" stroke=\"#000000\" points=\"41.6028,-67.9913 31.1861,-66.0561 38.1224,-74.0648 41.6028,-67.9913\"/>\n",
       "</g>\n",
       "<!-- 3 -->\n",
       "<g id=\"node4\" class=\"node\">\n",
       "<title>3</title>\n",
       "<text text-anchor=\"middle\" x=\"78\" y=\"-54.8\" font-family=\"Times,serif\" font-size=\"14.00\" fill=\"#000000\">&lt;exprs&gt;</text>\n",
       "</g>\n",
       "<!-- 1&#45;&gt;3 -->\n",
       "<g id=\"edge3\" class=\"edge\">\n",
       "<title>1&#45;&gt;3</title>\n",
       "<path fill=\"none\" stroke=\"#000000\" d=\"M102.721,-101.9748C98.6944,-94.8936 92.5284,-84.05 87.3619,-74.9641\"/>\n",
       "<polygon fill=\"#000000\" stroke=\"#000000\" points=\"90.2822,-73.0189 82.2966,-66.0561 84.1972,-76.4791 90.2822,-73.0189\"/>\n",
       "</g>\n",
       "<!-- 5 -->\n",
       "<g id=\"node6\" class=\"node\">\n",
       "<title>5</title>\n",
       "<text text-anchor=\"middle\" x=\"137\" y=\"-54.8\" font-family=\"Times,serif\" font-size=\"14.00\" fill=\"#000000\"> from </text>\n",
       "</g>\n",
       "<!-- 1&#45;&gt;5 -->\n",
       "<g id=\"edge5\" class=\"edge\">\n",
       "<title>1&#45;&gt;5</title>\n",
       "<path fill=\"none\" stroke=\"#000000\" d=\"M111.4266,-101.9748C115.592,-94.8936 121.9706,-84.05 127.3152,-74.9641\"/>\n",
       "<polygon fill=\"#000000\" stroke=\"#000000\" points=\"130.5018,-76.45 132.5552,-66.0561 124.4682,-72.9009 130.5018,-76.45\"/>\n",
       "</g>\n",
       "<!-- 6 -->\n",
       "<g id=\"node7\" class=\"node\">\n",
       "<title>6</title>\n",
       "<text text-anchor=\"middle\" x=\"194\" y=\"-54.8\" font-family=\"Times,serif\" font-size=\"14.00\" fill=\"#000000\">&lt;table&gt;</text>\n",
       "</g>\n",
       "<!-- 1&#45;&gt;6 -->\n",
       "<g id=\"edge6\" class=\"edge\">\n",
       "<title>1&#45;&gt;6</title>\n",
       "<path fill=\"none\" stroke=\"#000000\" d=\"M119.8371,-101.9748C133.5873,-93.9143 155.654,-80.9787 172.1478,-71.3099\"/>\n",
       "<polygon fill=\"#000000\" stroke=\"#000000\" points=\"174.2532,-74.1328 181.1102,-66.0561 170.7132,-68.0939 174.2532,-74.1328\"/>\n",
       "</g>\n",
       "<!-- 4 -->\n",
       "<g id=\"node5\" class=\"node\">\n",
       "<title>4</title>\n",
       "<text text-anchor=\"middle\" x=\"78\" y=\"-3.8\" font-family=\"Times,serif\" font-size=\"14.00\" fill=\"#000000\">I/k&#45;z&#45;A(z)/W(q,S)</text>\n",
       "</g>\n",
       "<!-- 3&#45;&gt;4 -->\n",
       "<g id=\"edge4\" class=\"edge\">\n",
       "<title>3&#45;&gt;4</title>\n",
       "<path fill=\"none\" stroke=\"#000000\" d=\"M78,-50.9748C78,-44.195 78,-33.966 78,-25.1331\"/>\n",
       "<polygon fill=\"#000000\" stroke=\"#000000\" points=\"81.5001,-25.0561 78,-15.0561 74.5001,-25.0561 81.5001,-25.0561\"/>\n",
       "</g>\n",
       "<!-- 7 -->\n",
       "<g id=\"node8\" class=\"node\">\n",
       "<title>7</title>\n",
       "<text text-anchor=\"middle\" x=\"194\" y=\"-3.8\" font-family=\"Times,serif\" font-size=\"14.00\" fill=\"#000000\">G.2fN0</text>\n",
       "</g>\n",
       "<!-- 6&#45;&gt;7 -->\n",
       "<g id=\"edge7\" class=\"edge\">\n",
       "<title>6&#45;&gt;7</title>\n",
       "<path fill=\"none\" stroke=\"#000000\" d=\"M194,-50.9748C194,-44.195 194,-33.966 194,-25.1331\"/>\n",
       "<polygon fill=\"#000000\" stroke=\"#000000\" points=\"197.5001,-25.0561 194,-15.0561 190.5001,-25.0561 197.5001,-25.0561\"/>\n",
       "</g>\n",
       "</g>\n",
       "</svg>\n"
      ],
      "text/plain": [
       "<graphviz.dot.Digraph at 0x7fe44b7199b0>"
      ]
     },
     "execution_count": 263,
     "metadata": {},
     "output_type": "execute_result"
    }
   ],
   "source": [
    "prune_tokens = [\n",
    "    '<value>', '<table>', '<column>', '<literals>', '<exprs>', '<bexpr>'\n",
    "]\n",
    "dt = tgf.prune_tree(qtree, prune_tokens)\n",
    "display_tree(dt)"
   ]
  },
  {
   "cell_type": "markdown",
   "metadata": {
    "slideshow": {
     "slide_type": "fragment"
    }
   },
   "source": [
    "Can we identify which part of the input was supplied by which part of the grammar? We define `span()` that can recover this information from the derivation tree. For a given node, let us assume that the start point is known. Then, for processing the children, we proceed as follows: We choose one child at a time from left to right, and compute the length of the child. The length of the children before the current child in addition to our starting point gives the starting point of the current child. The end point for each node is simply the end point of its last children (or the length of its node if it is a leaf)."
   ]
  },
  {
   "cell_type": "code",
   "execution_count": 264,
   "metadata": {
    "slideshow": {
     "slide_type": "skip"
    }
   },
   "outputs": [],
   "source": [
    "from GrammarFuzzer import START_SYMBOL"
   ]
  },
  {
   "cell_type": "code",
   "execution_count": 265,
   "metadata": {
    "slideshow": {
     "slide_type": "subslide"
    }
   },
   "outputs": [],
   "source": [
    "def span(node, g, node_start=0):\n",
    "    hm = {}\n",
    "    k, cs = node\n",
    "    end_i = node_start\n",
    "    new_cs = []\n",
    "    for c in cs:\n",
    "        chm, (ck, child_start, child_end, gcs) = span(c, g, end_i)\n",
    "        new_cs.append((ck, child_start, child_end, gcs))\n",
    "        end_i = child_end\n",
    "        hm.update(chm)\n",
    "    node_end = end_i if cs else node_start + len(k)\n",
    "    if k in g and k != START_SYMBOL:\n",
    "        hm[k] = (node_start, node_end - node_start)\n",
    "    return hm, (k, node_start, node_end, new_cs)"
   ]
  },
  {
   "cell_type": "markdown",
   "metadata": {
    "slideshow": {
     "slide_type": "fragment"
    }
   },
   "source": [
    "We use it as follows:"
   ]
  },
  {
   "cell_type": "code",
   "execution_count": 266,
   "metadata": {
    "slideshow": {
     "slide_type": "subslide"
    }
   },
   "outputs": [],
   "source": [
    "span_hm, _n = span(dt, INVENTORY_GRAMMAR)"
   ]
  },
  {
   "cell_type": "code",
   "execution_count": 267,
   "metadata": {
    "slideshow": {
     "slide_type": "fragment"
    }
   },
   "outputs": [
    {
     "data": {
      "text/plain": [
       "{'<exprs>': (7, 17), '<table>': (30, 6), '<query>': (0, 36)}"
      ]
     },
     "execution_count": 267,
     "metadata": {},
     "output_type": "execute_result"
    }
   ],
   "source": [
    "span_hm"
   ]
  },
  {
   "cell_type": "markdown",
   "metadata": {
    "slideshow": {
     "slide_type": "fragment"
    }
   },
   "source": [
    "We can check if we got the right values as follows."
   ]
  },
  {
   "cell_type": "code",
   "execution_count": 268,
   "metadata": {
    "slideshow": {
     "slide_type": "fragment"
    }
   },
   "outputs": [
    {
     "name": "stdout",
     "output_type": "stream",
     "text": [
      "query: select I/k-z-A(z)/W(q,S) from G.2fN0\n",
      "<exprs> I/k-z-A(z)/W(q,S)\n",
      "<table> G.2fN0\n",
      "<query> select I/k-z-A(z)/W(q,S) from G.2fN0\n"
     ]
    }
   ],
   "source": [
    "print(\"query:\", query)\n",
    "for k in span_hm:\n",
    "    start, l = span_hm[k]\n",
    "    print(k, query[start:start + l])"
   ]
  },
  {
   "cell_type": "markdown",
   "metadata": {
    "slideshow": {
     "slide_type": "subslide"
    }
   },
   "source": [
    "Next, we need to obtain all the comparisons made in each predicate. For that, we define two helper functions. The first is `unwrap_substrings()` that translates multiple calls to `z3.SubString` and returns the start, and length of the given z3 string expression."
   ]
  },
  {
   "cell_type": "code",
   "execution_count": 269,
   "metadata": {
    "slideshow": {
     "slide_type": "fragment"
    }
   },
   "outputs": [],
   "source": [
    "def unwrap_substrings(s):\n",
    "    assert s.decl().name() == 'str.substr'\n",
    "    cs, frm, l = s.children()\n",
    "    fl = frm.as_long()\n",
    "    ll = l.as_long()\n",
    "    if cs.decl().name() == 'str.substr':\n",
    "        newfrm, _l = unwrap_substrings(cs)\n",
    "        return (fl + newfrm, ll)\n",
    "    else:\n",
    "        return (fl, ll)"
   ]
  },
  {
   "cell_type": "markdown",
   "metadata": {
    "slideshow": {
     "slide_type": "subslide"
    }
   },
   "source": [
    "We define `traverse_z3()` that traverses a given z3 string expression, and collects all direct string comparisons to a substring of the original argument."
   ]
  },
  {
   "cell_type": "code",
   "execution_count": 270,
   "metadata": {
    "slideshow": {
     "slide_type": "subslide"
    }
   },
   "outputs": [],
   "source": [
    "def traverse_z3(p, hm):\n",
    "    def z3_as_string(v):\n",
    "        return v.as_string()\n",
    "\n",
    "    n = p.decl().name()\n",
    "    if n == 'not':\n",
    "        return traverse_z3(p.children()[0], hm)\n",
    "    elif n == '=':\n",
    "        i, j = p.children()\n",
    "        if isinstance(i, (int, z3.IntNumRef)):\n",
    "            return traverse_z3(j, hm)\n",
    "        elif isinstance(j, (int, z3.IntNumRef)):\n",
    "            return traverse_z3(i, hm)\n",
    "        else:\n",
    "            if i.is_string() and j.is_string():\n",
    "                if i.is_string_value():\n",
    "                    cs, frm, l = j.children()\n",
    "                    if (isinstance(frm, z3.IntNumRef)\n",
    "                            and isinstance(l, z3.IntNumRef)):\n",
    "                        hm[z3_as_string(i)] = unwrap_substrings(j)\n",
    "                elif j.is_string_value():\n",
    "                    cs, frm, l = i.children()\n",
    "                    if (isinstance(frm, z3.IntNumRef)\n",
    "                            and isinstance(l, z3.IntNumRef)):\n",
    "                        hm[z3_as_string(j)] = unwrap_substrings(i)\n",
    "            else:\n",
    "                assert False  # for now\n",
    "    elif n == '<' or n == '>':\n",
    "        i, j = p.children()\n",
    "        if isinstance(i, (int, z3.IntNumRef)):\n",
    "            return traverse_z3(j, hm)\n",
    "        elif isinstance(j, (int, z3.IntNumRef)):\n",
    "            return traverse_z3(i, hm)\n",
    "        else:\n",
    "            assert False\n",
    "    return p"
   ]
  },
  {
   "cell_type": "code",
   "execution_count": 271,
   "metadata": {
    "slideshow": {
     "slide_type": "subslide"
    }
   },
   "outputs": [
    {
     "data": {
      "text/plain": [
       "{'inventory': (30, 6)}"
      ]
     },
     "execution_count": 271,
     "metadata": {},
     "output_type": "execute_result"
    }
   ],
   "source": [
    "comparisons = {}\n",
    "for p in _.path:\n",
    "    traverse_z3(p, comparisons)\n",
    "comparisons"
   ]
  },
  {
   "cell_type": "markdown",
   "metadata": {
    "slideshow": {
     "slide_type": "fragment"
    }
   },
   "source": [
    "All that we need now is to declare string variables that match the substrings in `comparisons`, and solve for them for each item in the path. For that, we define `find_alternatives()`."
   ]
  },
  {
   "cell_type": "code",
   "execution_count": 272,
   "metadata": {
    "slideshow": {
     "slide_type": "subslide"
    }
   },
   "outputs": [],
   "source": [
    "def find_alternatives(spans, cmp):\n",
    "    alts = {}\n",
    "    for key in spans:\n",
    "        start, l = spans[key]\n",
    "        rset = set(range(start, start + l))\n",
    "        for ckey in cmp:\n",
    "            cstart, cl = cmp[ckey]\n",
    "            cset = set(range(cstart, cstart + cl))\n",
    "            # if rset.issubset(cset): <- ignoring subsets for now.\n",
    "            if rset == cset:\n",
    "                if key not in alts:\n",
    "                    alts[key] = set()\n",
    "                alts[key].add(ckey)\n",
    "    return alts"
   ]
  },
  {
   "cell_type": "markdown",
   "metadata": {
    "slideshow": {
     "slide_type": "fragment"
    }
   },
   "source": [
    "We use it as follows."
   ]
  },
  {
   "cell_type": "code",
   "execution_count": 273,
   "metadata": {
    "slideshow": {
     "slide_type": "subslide"
    }
   },
   "outputs": [
    {
     "data": {
      "text/plain": [
       "{'<table>': {'inventory'}}"
      ]
     },
     "execution_count": 273,
     "metadata": {},
     "output_type": "execute_result"
    }
   ],
   "source": [
    "alternatives = find_alternatives(span_hm, comparisons)\n",
    "alternatives"
   ]
  },
  {
   "cell_type": "markdown",
   "metadata": {
    "slideshow": {
     "slide_type": "fragment"
    }
   },
   "source": [
    "So, we have our alternatives for each key in the grammar. We can now update our grammar as follows."
   ]
  },
  {
   "cell_type": "code",
   "execution_count": 274,
   "metadata": {
    "slideshow": {
     "slide_type": "fragment"
    }
   },
   "outputs": [],
   "source": [
    "INVENTORY_GRAMMAR_NEW = dict(INVENTORY_GRAMMAR)"
   ]
  },
  {
   "cell_type": "code",
   "execution_count": 275,
   "metadata": {
    "slideshow": {
     "slide_type": "fragment"
    }
   },
   "outputs": [],
   "source": [
    "for k in alternatives:\n",
    "    INVENTORY_GRAMMAR_NEW[k] = INVENTORY_GRAMMAR_NEW[k] + list(alternatives[k])"
   ]
  },
  {
   "cell_type": "markdown",
   "metadata": {
    "slideshow": {
     "slide_type": "fragment"
    }
   },
   "source": [
    "We made a choice here. We could have completely overwritten the definition of `<table>` . Instead, we added our new alternatives to the existing definition. This way, our fuzzer will also attempt other values for `<table>` once in a while."
   ]
  },
  {
   "cell_type": "code",
   "execution_count": 276,
   "metadata": {
    "slideshow": {
     "slide_type": "fragment"
    }
   },
   "outputs": [
    {
     "data": {
      "text/plain": [
       "['<word>', 'inventory']"
      ]
     },
     "execution_count": 276,
     "metadata": {},
     "output_type": "execute_result"
    }
   ],
   "source": [
    "INVENTORY_GRAMMAR_NEW['<table>']"
   ]
  },
  {
   "cell_type": "markdown",
   "metadata": {
    "slideshow": {
     "slide_type": "fragment"
    }
   },
   "source": [
    "Let us try fuzzing with our new grammar."
   ]
  },
  {
   "cell_type": "code",
   "execution_count": 277,
   "metadata": {
    "slideshow": {
     "slide_type": "subslide"
    }
   },
   "outputs": [],
   "source": [
    "cgf = ConcolicGrammarFuzzer(INVENTORY_GRAMMAR_NEW)"
   ]
  },
  {
   "cell_type": "code",
   "execution_count": 278,
   "metadata": {
    "slideshow": {
     "slide_type": "subslide"
    }
   },
   "outputs": [
    {
     "name": "stdout",
     "output_type": "stream",
     "text": [
      "select -089.782+H==(i)/y2(F,t,p)-94424/6180 from C\n",
      "Table ('C') was not found\n",
      "\n",
      "insert into A6_0 (X) values (1.5,1,2,'v')\n",
      "Table ('A6_0') was not found\n",
      "\n",
      "update inventory set f=B,_=h where x-l>c/n\n",
      "Column ('f') was not found\n",
      "\n",
      "delete from B9Se where o*O/a(j)<J+c+C(R,H)*(q)\n",
      "Table ('B9Se') was not found\n",
      "\n",
      "select j1:,k(E) from inventory where a(H)>q/Z/(j!=A)\n",
      "Invalid WHERE ('(a(H)>q/Z/(j!=A))')\n",
      "\n",
      "insert into s (L) values (21,']','+')\n",
      "Table ('s') was not found\n",
      "\n",
      "update mS8 set B=v,y=S,l=E,Q=d where ((M))!=H!=Z\n",
      "Table ('mS8') was not found\n",
      "\n",
      "update inventory set KU=a,t=X where P*t(P)>H+g\n",
      "Column ('KU') was not found\n",
      "\n",
      "insert into PP (Xh) values (4.1)\n",
      "Table ('PP') was not found\n",
      "\n",
      "select (je:(W,T,U)) from J where :!=Y!=z(M)>v+G\n",
      "Table ('J') was not found\n",
      "\n"
     ]
    }
   ],
   "source": [
    "for i in range(10):\n",
    "    qtree = cgf.fuzz_tree()\n",
    "    query = cgf.tree_to_string(qtree)\n",
    "    print(query)\n",
    "    with ExpectError():\n",
    "        try:\n",
    "            with ConcolicTracer() as _:\n",
    "                res = _[db_select](query)\n",
    "            print(repr(res))\n",
    "        except SQLException as e:\n",
    "            print(e)\n",
    "        print()"
   ]
  },
  {
   "cell_type": "markdown",
   "metadata": {
    "slideshow": {
     "slide_type": "subslide"
    }
   },
   "source": [
    "That is, we were able to reach the dangerous method `my_eval()`.\n",
    "In effect, what we have done is to lift parts of predicates to the grammar. The new grammar can generate inputs that reach deeper into the program than before. Note that we have only handled the equality predicate. One can also lift the '<' and '>' comparison operators to the grammar if required.\n",
    "\n",
    "Compare the output of our fuzzer to the original `GrammarFuzzer` below."
   ]
  },
  {
   "cell_type": "code",
   "execution_count": 279,
   "metadata": {
    "slideshow": {
     "slide_type": "subslide"
    }
   },
   "outputs": [
    {
     "name": "stdout",
     "output_type": "stream",
     "text": [
      "delete from t where Y-Z-V2(d)<G-l-A+v-L\n",
      "Table ('t') was not found\n",
      "\n",
      "select (_),D from lHi where t>x(H)==(r)\n",
      "Table ('lHi') was not found\n",
      "\n",
      "select V2p!=Wy1(t!=I,h)+P8(d,j)>(d+.+z/y) from Cx\n",
      "Table ('Cx') was not found\n",
      "\n",
      "select H+K/z-G+s-s,U*A-(b)-p from W\n",
      "Table ('W') was not found\n",
      "\n",
      "delete from N81 where O6(B!=78,f)>i-K+I*f+f<o\n",
      "Table ('N81') was not found\n",
      "\n",
      "insert into L (LoEW6W) values (6411)\n",
      "Table ('L') was not found\n",
      "\n",
      "select a==g>i!=L from VQ9 where F/a*z-y>z*V\n",
      "Table ('VQ9') was not found\n",
      "\n",
      "insert into MK (IFb) values (')','N')\n",
      "Table ('MK') was not found\n",
      "\n",
      "insert into Yy32AU (ERJhUw,Od) values ('d2=h',7)\n",
      "Table ('Yy32AU') was not found\n",
      "\n",
      "select b==c*k,e,c,V from jm48 where 7!=(C-g(S))\n",
      "Table ('jm48') was not found\n",
      "\n"
     ]
    }
   ],
   "source": [
    "gf = GrammarFuzzer(INVENTORY_GRAMMAR)\n",
    "for i in range(10):\n",
    "    query = gf.fuzz()\n",
    "    print(query)\n",
    "    with ExpectError():\n",
    "        try:\n",
    "            res = db_select(query)\n",
    "            print(repr(res))\n",
    "        except SQLException as e:\n",
    "            print(e)\n",
    "        print()"
   ]
  },
  {
   "cell_type": "markdown",
   "metadata": {
    "slideshow": {
     "slide_type": "subslide"
    }
   },
   "source": [
    "As can be seen, the original grammar fuzzer is unable to proceed beyond the table verification."
   ]
  },
  {
   "cell_type": "markdown",
   "metadata": {
    "slideshow": {
     "slide_type": "subslide"
    }
   },
   "source": [
    "#### All together\n",
    "\n",
    "We implement these methods in `ConcolicGrammarFuzzer`. The method `update_grammar()` allows `ConcolicGrammarFuzzer` to collect feedback from concolic fuzzing, and update the grammar used for fuzzing accordingly."
   ]
  },
  {
   "cell_type": "code",
   "execution_count": 280,
   "metadata": {
    "slideshow": {
     "slide_type": "subslide"
    }
   },
   "outputs": [],
   "source": [
    "class ConcolicGrammarFuzzer(ConcolicGrammarFuzzer):\n",
    "    def prune_tokens(self, tokens):\n",
    "        self.prune_tokens = tokens\n",
    "\n",
    "    def update_grammar(self, trace):\n",
    "        self.comparisons = {}\n",
    "        for p in trace.path:\n",
    "            traverse_z3(p, self.comparisons)\n",
    "        alternatives = find_alternatives(self.span_range, self.comparisons)\n",
    "        if self.log:\n",
    "            print('Alternatives:', alternatives, 'Span:', self.span_range)\n",
    "        new_grammar = dict(self.grammar)\n",
    "        for k in alternatives:\n",
    "            new_grammar[k] = list(set(new_grammar[k] + list(alternatives[k])))\n",
    "        self.grammar = new_grammar"
   ]
  },
  {
   "cell_type": "markdown",
   "metadata": {
    "slideshow": {
     "slide_type": "subslide"
    }
   },
   "source": [
    "The `fuzz()` method simply generates the derivation tree, computes the span range, and returns the string generated from the derivation tree."
   ]
  },
  {
   "cell_type": "code",
   "execution_count": 281,
   "metadata": {
    "slideshow": {
     "slide_type": "fragment"
    }
   },
   "outputs": [],
   "source": [
    "class ConcolicGrammarFuzzer(ConcolicGrammarFuzzer):\n",
    "    def fuzz(self):\n",
    "        qtree = self.fuzz_tree()\n",
    "        self.pruned_tree = self.prune_tree(qtree, self.prune_tokens)\n",
    "        query = self.tree_to_string(qtree)\n",
    "        self.span_range, _n = span(self.pruned_tree, self.grammar)\n",
    "        return query"
   ]
  },
  {
   "cell_type": "markdown",
   "metadata": {
    "slideshow": {
     "slide_type": "fragment"
    }
   },
   "source": [
    "To ensure that our approach works, let us update our tables slightly."
   ]
  },
  {
   "cell_type": "code",
   "execution_count": 282,
   "metadata": {
    "slideshow": {
     "slide_type": "fragment"
    }
   },
   "outputs": [],
   "source": [
    "inventory = db.db.pop('inventory', None)"
   ]
  },
  {
   "cell_type": "code",
   "execution_count": 283,
   "metadata": {
    "slideshow": {
     "slide_type": "subslide"
    }
   },
   "outputs": [
    {
     "data": {
      "text/plain": [
       "{'vehicles': ({'year': int, 'kind': str, 'company': str, 'model': str},\n",
       "  [{'year': 1997, 'kind': 'van', 'company': 'Ford', 'model': 'E350'},\n",
       "   {'year': 2000, 'kind': 'car', 'company': 'Mercury', 'model': 'Cougar'},\n",
       "   {'year': 1999, 'kind': 'car', 'company': 'Chevy', 'model': 'Venture'}]),\n",
       " 'months': ({'month': int, 'name': str},\n",
       "  [{'month': 1, 'name': 'jan'},\n",
       "   {'month': 2, 'name': 'feb'},\n",
       "   {'month': 3, 'name': 'mar'},\n",
       "   {'month': 4, 'name': 'apr'},\n",
       "   {'month': 5, 'name': 'may'},\n",
       "   {'month': 6, 'name': 'jun'},\n",
       "   {'month': 7, 'name': 'jul'},\n",
       "   {'month': 8, 'name': 'aug'},\n",
       "   {'month': 9, 'name': 'sep'},\n",
       "   {'month': 10, 'name': 'oct'},\n",
       "   {'month': 11, 'name': 'nov'},\n",
       "   {'month': 12, 'name': 'dec'}])}"
      ]
     },
     "execution_count": 283,
     "metadata": {},
     "output_type": "execute_result"
    }
   ],
   "source": [
    "db.db['vehicles'] = inventory\n",
    "db.db['months'] = ({\n",
    "    'month': int,\n",
    "    'name': str\n",
    "}, [{\n",
    "    'month': i + 1,\n",
    "    'name': m\n",
    "} for i, m in enumerate([\n",
    "    'jan', 'feb', 'mar', 'apr', 'may', 'jun', 'jul', 'aug', 'sep', 'oct',\n",
    "    'nov', 'dec'\n",
    "])])\n",
    "db.db"
   ]
  },
  {
   "cell_type": "markdown",
   "metadata": {
    "slideshow": {
     "slide_type": "subslide"
    }
   },
   "source": [
    "The `ConcolicGrammarFuzzer` is used as follows."
   ]
  },
  {
   "cell_type": "code",
   "execution_count": 284,
   "metadata": {
    "slideshow": {
     "slide_type": "subslide"
    }
   },
   "outputs": [
    {
     "name": "stdout",
     "output_type": "stream",
     "text": [
      "update XT set G=D,v=X,B=X where V!=U<Q+e\n",
      "Table ('XT') was not found\n",
      "\n",
      "delete from vehicles where (359)==7.28\n",
      "'0 records were deleted'\n",
      "\n",
      "select (--1.98418) from months\n",
      "[1.98418, 1.98418, 1.98418, 1.98418, 1.98418, 1.98418, 1.98418, 1.98418, 1.98418, 1.98418, 1.98418, 1.98418]\n",
      "\n",
      "select _,l<P!=u!=x,495,w(l)*U-x(T) from months\n",
      "Invalid WHERE ('(_,l<P!=u!=x,495,w(l)*U-x(T))')\n",
      "\n",
      "insert into months (PZe) values ('&',9)\n",
      "Column ('PZe') was not found\n",
      "\n",
      "update months set month=n,name=YRr,name=a where (I-w(n))==Ll71\n",
      "Invalid WHERE ('((I-w(n))==Ll71)')\n",
      "\n",
      "select ZSEj,i-q-U<hT(o)==-1,(z0),((((((k)))))),g!=l,x==G from vehicles\n",
      "Invalid WHERE ('(ZSEj,i-q-U<hT(o)==-1,(z0),((((((k)))))),g!=l,x==G)')\n",
      "\n",
      "select K+n(A)-:+n+E/j*T-A*v from months\n",
      "Invalid WHERE ('(K+n(A)-:+n+E/j*T-A*v)')\n",
      "\n",
      "select A,r+Y(J)*K<l-_*P*z/g,0 from months\n",
      "Invalid WHERE ('(A,r+Y(J)*K<l-_*P*z/g,0)')\n",
      "\n",
      "select (q-i-e<j),b from G where -52!=Y==6\n",
      "Table ('G') was not found\n",
      "\n"
     ]
    }
   ],
   "source": [
    "cgf = ConcolicGrammarFuzzer(INVENTORY_GRAMMAR)\n",
    "cgf.prune_tokens(prune_tokens)\n",
    "for i in range(10):\n",
    "    query = cgf.fuzz()\n",
    "    print(query)\n",
    "    with ConcolicTracer() as _:\n",
    "        with ExpectError():\n",
    "            try:\n",
    "                res = _[db_select](query)\n",
    "                print(repr(res))\n",
    "            except SQLException as e:\n",
    "                print(e)\n",
    "        cgf.update_grammar(_)\n",
    "        print()"
   ]
  },
  {
   "cell_type": "markdown",
   "metadata": {
    "slideshow": {
     "slide_type": "subslide"
    }
   },
   "source": [
    "As can be seen, the fuzzer starts with no knowledge of the tables `vehicles`, `months` and `years`, but identifies it from the concolic execution, and lifts it to the grammar. This allows us to improve the effectiveness of fuzzing."
   ]
  },
  {
   "cell_type": "markdown",
   "metadata": {
    "slideshow": {
     "slide_type": "slide"
    }
   },
   "source": [
    "## Limitations\n",
    "\n",
    "As with dynamic taint analysis, implicit control flow can obscure the predicates encountered during concolic execution. However, this limitation could be overcome to some extent by wrapping any constants in the source with their respective proxy objects. Similarly, calls to internal C functions can cause the symbolic information to be discarded, and only partial information may be obtained."
   ]
  },
  {
   "cell_type": "markdown",
   "metadata": {
    "slideshow": {
     "slide_type": "slide"
    }
   },
   "source": [
    "## Synopsis"
   ]
  },
  {
   "cell_type": "markdown",
   "metadata": {
    "slideshow": {
     "slide_type": "fragment"
    }
   },
   "source": [
    "This chapter defines two main classes: `SimpleConcolicFuzzer` and `ConcolicGrammarFuzzer`. The `SimpleConcolicFuzzer` first uses a sample input to collect predicates encountered. The fuzzer then negates random predicates to generate new input constraints. These, when solved, produce inputs that explore paths that are close to the original path. It can be used as follows."
   ]
  },
  {
   "cell_type": "markdown",
   "metadata": {
    "slideshow": {
     "slide_type": "fragment"
    }
   },
   "source": [
    "We first obtain the constraints using `ConcolicTracer`."
   ]
  },
  {
   "cell_type": "code",
   "execution_count": 285,
   "metadata": {
    "slideshow": {
     "slide_type": "fragment"
    }
   },
   "outputs": [],
   "source": [
    "with ConcolicTracer() as _:\n",
    "    _[cgi_decode]('a%20d')"
   ]
  },
  {
   "cell_type": "markdown",
   "metadata": {
    "slideshow": {
     "slide_type": "fragment"
    }
   },
   "source": [
    "These constraints are added to the concolic fuzzer as follows:"
   ]
  },
  {
   "cell_type": "code",
   "execution_count": 286,
   "metadata": {
    "slideshow": {
     "slide_type": "fragment"
    }
   },
   "outputs": [],
   "source": [
    "scf = SimpleConcolicFuzzer()\n",
    "scf.add_trace(_, 'a%20d')"
   ]
  },
  {
   "cell_type": "markdown",
   "metadata": {
    "slideshow": {
     "slide_type": "fragment"
    }
   },
   "source": [
    "The concolic fuzzer then uses the constraints added to guide its fuzzing as follows:"
   ]
  },
  {
   "cell_type": "code",
   "execution_count": 287,
   "metadata": {
    "slideshow": {
     "slide_type": "subslide"
    }
   },
   "outputs": [
    {
     "name": "stdout",
     "output_type": "stream",
     "text": [
      "' '\n",
      "'+\\\\x00'\n",
      "'++\\\\x00'\n",
      "'+++\\\\x00'\n",
      "'+\\\\x00%\\\\x00'\n",
      "'+\\\\x00\\\\x00%\\\\x00'\n"
     ]
    },
    {
     "name": "stderr",
     "output_type": "stream",
     "text": [
      "Traceback (most recent call last):\n",
      "  File \"<ipython-input-287-2a3454213b54>\", line 9, in <module>\n",
      "    _[cgi_decode](v)\n",
      "  File \"<ipython-input-33-635d2b1b13c2>\", line 3, in __call__\n",
      "    self.result = self.fn(*self.concolic(args))\n",
      "  File \"<ipython-input-241-630ee123bed8>\", line 42, in cgi_decode\n",
      "    raise ValueError(\"Invalid encoding\")\n",
      "ValueError: Invalid encoding (expected)\n",
      "Traceback (most recent call last):\n",
      "  File \"<ipython-input-287-2a3454213b54>\", line 9, in <module>\n",
      "    _[cgi_decode](v)\n",
      "  File \"<ipython-input-33-635d2b1b13c2>\", line 3, in __call__\n",
      "    self.result = self.fn(*self.concolic(args))\n",
      "  File \"<ipython-input-241-630ee123bed8>\", line 42, in cgi_decode\n",
      "    raise ValueError(\"Invalid encoding\")\n",
      "ValueError: Invalid encoding (expected)\n"
     ]
    },
    {
     "name": "stdout",
     "output_type": "stream",
     "text": [
      "'+\\\\x00\\\\x00\\\\x00\\\\x00\\\\x00\\\\x00\\\\x00\\\\x00%B\\\\x00'\n"
     ]
    },
    {
     "name": "stderr",
     "output_type": "stream",
     "text": [
      "Traceback (most recent call last):\n",
      "  File \"<ipython-input-287-2a3454213b54>\", line 9, in <module>\n",
      "    _[cgi_decode](v)\n",
      "  File \"<ipython-input-33-635d2b1b13c2>\", line 3, in __call__\n",
      "    self.result = self.fn(*self.concolic(args))\n",
      "  File \"<ipython-input-241-630ee123bed8>\", line 42, in cgi_decode\n",
      "    raise ValueError(\"Invalid encoding\")\n",
      "ValueError: Invalid encoding (expected)\n"
     ]
    },
    {
     "name": "stdout",
     "output_type": "stream",
     "text": [
      "'+\\\\x00\\\\x00\\\\x00\\\\x00\\\\x00\\\\x00\\\\x00\\\\x00%b\\\\x00'\n"
     ]
    },
    {
     "name": "stderr",
     "output_type": "stream",
     "text": [
      "Traceback (most recent call last):\n",
      "  File \"<ipython-input-287-2a3454213b54>\", line 9, in <module>\n",
      "    _[cgi_decode](v)\n",
      "  File \"<ipython-input-33-635d2b1b13c2>\", line 3, in __call__\n",
      "    self.result = self.fn(*self.concolic(args))\n",
      "  File \"<ipython-input-241-630ee123bed8>\", line 42, in cgi_decode\n",
      "    raise ValueError(\"Invalid encoding\")\n",
      "ValueError: Invalid encoding (expected)\n"
     ]
    },
    {
     "name": "stdout",
     "output_type": "stream",
     "text": [
      "'+\\\\x10\\\\x01\\\\x08\\\\x01\\\\x01\\\\x02\\\\x01\\\\x08%\\\\x000\\\\x00'\n",
      "'+ \\\\x10\\\\x00@%\\\\x00E\\\\x00'\n"
     ]
    },
    {
     "name": "stderr",
     "output_type": "stream",
     "text": [
      "Traceback (most recent call last):\n",
      "  File \"<ipython-input-287-2a3454213b54>\", line 9, in <module>\n",
      "    _[cgi_decode](v)\n",
      "  File \"<ipython-input-33-635d2b1b13c2>\", line 3, in __call__\n",
      "    self.result = self.fn(*self.concolic(args))\n",
      "  File \"<ipython-input-241-630ee123bed8>\", line 42, in cgi_decode\n",
      "    raise ValueError(\"Invalid encoding\")\n",
      "ValueError: Invalid encoding (expected)\n",
      "Traceback (most recent call last):\n",
      "  File \"<ipython-input-287-2a3454213b54>\", line 9, in <module>\n",
      "    _[cgi_decode](v)\n",
      "  File \"<ipython-input-33-635d2b1b13c2>\", line 3, in __call__\n",
      "    self.result = self.fn(*self.concolic(args))\n",
      "  File \"<ipython-input-241-630ee123bed8>\", line 42, in cgi_decode\n",
      "    raise ValueError(\"Invalid encoding\")\n",
      "ValueError: Invalid encoding (expected)\n"
     ]
    }
   ],
   "source": [
    "scf = SimpleConcolicFuzzer()\n",
    "for i in range(10):\n",
    "    v = scf.fuzz()\n",
    "    if v is None:\n",
    "        break\n",
    "    print(repr(v))\n",
    "    with ExpectError():\n",
    "        with ConcolicTracer() as _:\n",
    "            _[cgi_decode](v)\n",
    "    scf.add_trace(_, v)"
   ]
  },
  {
   "cell_type": "markdown",
   "metadata": {
    "slideshow": {
     "slide_type": "subslide"
    }
   },
   "source": [
    "The `SimpleConcolicFuzzer` simply explores all paths near the original path traversed by the sample input. It uses a simple mechanism to explore the paths that are near the paths that it knows about, and other than code paths, knows nothing about the input.\n",
    "The `ConcolicGrammarFuzzer` on the other hand, knows about the input grammar, and can collect feedback from the subject under fuzzing. It can lift some of the constraints encountered to the grammar, enabling deeper fuzzing. It is used as follows:"
   ]
  },
  {
   "cell_type": "code",
   "execution_count": 288,
   "metadata": {
    "slideshow": {
     "slide_type": "skip"
    }
   },
   "outputs": [],
   "source": [
    "from InformationFlow import INVENTORY_GRAMMAR, SQLException"
   ]
  },
  {
   "cell_type": "code",
   "execution_count": 289,
   "metadata": {
    "slideshow": {
     "slide_type": "subslide"
    }
   },
   "outputs": [
    {
     "name": "stdout",
     "output_type": "stream",
     "text": [
      "insert into Y (M871X,k1NK8,s) values ('$')\n",
      "Table ('Y') was not found\n",
      "\n",
      "insert into :5 (Xs4i,B,E5) values ('z')\n",
      "Table (':5') was not found\n",
      "\n",
      "select A,S from n\n",
      "Table ('n') was not found\n",
      "\n",
      "delete from months where F(_)<.(c!=d-F*v<K(:)*./d)\n",
      "Invalid WHERE ('F(_)<.(c!=d-F*v<K(:)*./d)')\n",
      "\n",
      "delete from months where F==A*o(F)-z<s+FA(a,m,B)\n",
      "Invalid WHERE ('F==A*o(F)-z<s+FA(a,m,B)')\n",
      "\n",
      "update months set C1=L,X=s,f=I,l=O where S!=m\n",
      "Column ('C1') was not found\n",
      "\n",
      "insert into months (f2,L3ucoo6p,JJI) values ('5')\n",
      "Column ('f2') was not found\n",
      "\n",
      "insert into months (z,Rd,a) values ('zno',93.64)\n",
      "Column ('z') was not found\n",
      "\n",
      "delete from vehicles where (u+K<_!=k*S)==w-O+d!=O==y\n",
      "Invalid WHERE ('(u+K<_!=k*S)==w-O+d!=O==y')\n",
      "\n",
      "select eV from months where --8*:!=o>_0(V)-q(T,z)*((Y))\n",
      "Invalid WHERE ('(--8*:!=o>_0(V)-q(T,z)*((Y)))')\n",
      "\n"
     ]
    }
   ],
   "source": [
    "cgf = ConcolicGrammarFuzzer(INVENTORY_GRAMMAR)\n",
    "cgf.prune_tokens(prune_tokens)\n",
    "for i in range(10):\n",
    "    query = cgf.fuzz()\n",
    "    print(query)\n",
    "    with ConcolicTracer() as _:\n",
    "        with ExpectError():\n",
    "            try:\n",
    "                res = _[db_select](query)\n",
    "                print(repr(res))\n",
    "            except SQLException as e:\n",
    "                print(e)\n",
    "        cgf.update_grammar(_)\n",
    "        print()"
   ]
  },
  {
   "cell_type": "markdown",
   "metadata": {
    "button": false,
    "new_sheet": true,
    "run_control": {
     "read_only": false
    },
    "slideshow": {
     "slide_type": "slide"
    }
   },
   "source": [
    "## Lessons Learned\n",
    "\n",
    "* Concolic execution can often provide more information than taint analysis with respect to the program behavior. However, this comes at a much larger runtime cost. Hence, unlike taint analysis, real-time analysis is often not possible.\n",
    "\n",
    "* Similar to taint analysis, concolic execution also suffers from limitations such as indirect control flow and internal function calls.\n",
    "\n",
    "* Predicates from concolic execution can be used in conjunction with fuzzing to provide an even more robust indication of incorrect behavior than taints, and can be used to create grammars that are better at producing valid inputs."
   ]
  },
  {
   "cell_type": "markdown",
   "metadata": {
    "button": false,
    "new_sheet": false,
    "run_control": {
     "read_only": false
    },
    "slideshow": {
     "slide_type": "slide"
    }
   },
   "source": [
    "## Next Steps\n",
    "\n",
    "A costlier but stronger alternative to concolic fuzzing is [symbolic fuzzing](SymbolicFuzzer.ipynb). Similarly, [search based fuzzing](SearchBasedFuzzer.ipynb) can often provide a cheaper exploration strategy than relying on SMT solvers to provide inputs slightly different from the current path."
   ]
  },
  {
   "cell_type": "markdown",
   "metadata": {
    "slideshow": {
     "slide_type": "slide"
    }
   },
   "source": [
    "## Background\n",
    "\n",
    "The technique of concolic execution was originally used to inform and expand the scope of _symbolic execution_ \\cite{king1976symbolic}, a static analysis technique for program analysis. Laron et al. cite{Larson2003} was the first to use the concolic execution technique.\n",
    "\n",
    "The idea of using proxy objects for collecting constraints was pioneered by Cadar et al. \\cite{cadar2005execution}. The concolic execution technique for Python programs used in this chapter was pioneered by PeerCheck \\cite{PeerCheck}, and Python Error Finder \\cite{Barsotti2018}."
   ]
  },
  {
   "cell_type": "markdown",
   "metadata": {
    "button": false,
    "new_sheet": true,
    "run_control": {
     "read_only": false
    },
    "slideshow": {
     "slide_type": "slide"
    }
   },
   "source": [
    "## Exercises"
   ]
  },
  {
   "cell_type": "markdown",
   "metadata": {
    "slideshow": {
     "slide_type": "subslide"
    }
   },
   "source": [
    "### Exercise 1: Implment a Concolic Float Proxy Class\n"
   ]
  },
  {
   "cell_type": "markdown",
   "metadata": {
    "slideshow": {
     "slide_type": "fragment"
    }
   },
   "source": [
    "While implementing the `zint` binary operators, we asserted that the results were `int`. However, that need not be the case. For example, division can result in `float`. Hence, we need proxy objects for `float`. Can you implement a similar proxy object for `float` and fix the `zint` binary operator definition?"
   ]
  },
  {
   "cell_type": "markdown",
   "metadata": {
    "slideshow": {
     "slide_type": "fragment"
    }
   },
   "source": [
    "__Solution.__ The solution is as follows."
   ]
  },
  {
   "cell_type": "markdown",
   "metadata": {
    "slideshow": {
     "slide_type": "fragment"
    }
   },
   "source": [
    "As in the case of `zint`, we first open up `zfloat` for extension."
   ]
  },
  {
   "cell_type": "code",
   "execution_count": 290,
   "metadata": {
    "slideshow": {
     "slide_type": "fragment"
    }
   },
   "outputs": [],
   "source": [
    "class zfloat(float):\n",
    "    def __new__(cls, context, zn, v, *args, **kw):\n",
    "        return float.__new__(cls, v, *args, **kw)"
   ]
  },
  {
   "cell_type": "markdown",
   "metadata": {
    "slideshow": {
     "slide_type": "fragment"
    }
   },
   "source": [
    "We then implement the initialization methods."
   ]
  },
  {
   "cell_type": "code",
   "execution_count": 291,
   "metadata": {
    "slideshow": {
     "slide_type": "subslide"
    }
   },
   "outputs": [],
   "source": [
    "class zfloat(zfloat):\n",
    "    @classmethod\n",
    "    def create(cls, context, zn, v=None):\n",
    "        return zproxy_create(cls, 'Real', z3.Real, context, zn, v)\n",
    "\n",
    "    def __init__(self, context, z, v=None):\n",
    "        self.z, self.v = z, v\n",
    "        self.context = context"
   ]
  },
  {
   "cell_type": "markdown",
   "metadata": {
    "slideshow": {
     "slide_type": "fragment"
    }
   },
   "source": [
    "The helper for when one of the arguments in a binary operation is not `float`."
   ]
  },
  {
   "cell_type": "code",
   "execution_count": 292,
   "metadata": {
    "slideshow": {
     "slide_type": "fragment"
    }
   },
   "outputs": [],
   "source": [
    "class zfloat(zfloat):\n",
    "    def _zv(self, o):\n",
    "        return (o.z, o.v) if isinstance(o, zfloat) else (z3.RealVal(o), o)"
   ]
  },
  {
   "cell_type": "markdown",
   "metadata": {
    "slideshow": {
     "slide_type": "fragment"
    }
   },
   "source": [
    "Coerce `float` into bool value for use in conditionals."
   ]
  },
  {
   "cell_type": "code",
   "execution_count": 293,
   "metadata": {
    "slideshow": {
     "slide_type": "subslide"
    }
   },
   "outputs": [],
   "source": [
    "class zfloat(zfloat):\n",
    "    def __bool__(self):\n",
    "        # force registering boolean condition\n",
    "        if self != 0.0:\n",
    "            return True\n",
    "        return False"
   ]
  },
  {
   "cell_type": "markdown",
   "metadata": {
    "slideshow": {
     "slide_type": "fragment"
    }
   },
   "source": [
    "Define the common proxy method for comparison methods"
   ]
  },
  {
   "cell_type": "code",
   "execution_count": 294,
   "metadata": {
    "slideshow": {
     "slide_type": "fragment"
    }
   },
   "outputs": [],
   "source": [
    "def make_float_bool_wrapper(fname, fun, zfun):\n",
    "    def proxy(self, other):\n",
    "        z, v = self._zv(other)\n",
    "        z_ = zfun(self.z, z)\n",
    "        v_ = fun(self.v, v)\n",
    "        return zbool(self.context, z_, v_)\n",
    "\n",
    "    return proxy"
   ]
  },
  {
   "cell_type": "markdown",
   "metadata": {
    "slideshow": {
     "slide_type": "subslide"
    }
   },
   "source": [
    "We apply the comparison methods on the defined `zfloat` class."
   ]
  },
  {
   "cell_type": "code",
   "execution_count": 295,
   "metadata": {
    "slideshow": {
     "slide_type": "fragment"
    }
   },
   "outputs": [],
   "source": [
    "FLOAT_BOOL_OPS = [\n",
    "    '__eq__',\n",
    "    # '__req__',\n",
    "    '__ne__',\n",
    "    # '__rne__',\n",
    "    '__gt__',\n",
    "    '__lt__',\n",
    "    '__le__',\n",
    "    '__ge__',\n",
    "]"
   ]
  },
  {
   "cell_type": "code",
   "execution_count": 296,
   "metadata": {
    "slideshow": {
     "slide_type": "fragment"
    }
   },
   "outputs": [],
   "source": [
    "for fname in FLOAT_BOOL_OPS:\n",
    "    fun = getattr(float, fname)\n",
    "    zfun = getattr(z3.ArithRef, fname)\n",
    "    setattr(zfloat, fname, make_float_bool_wrapper(fname, fun, zfun))"
   ]
  },
  {
   "cell_type": "markdown",
   "metadata": {
    "slideshow": {
     "slide_type": "subslide"
    }
   },
   "source": [
    "Similarly, we define the common proxy method for binary operators."
   ]
  },
  {
   "cell_type": "code",
   "execution_count": 297,
   "metadata": {
    "slideshow": {
     "slide_type": "fragment"
    }
   },
   "outputs": [],
   "source": [
    "def make_float_binary_wrapper(fname, fun, zfun):\n",
    "    def proxy(self, other):\n",
    "        z, v = self._zv(other)\n",
    "        z_ = zfun(self.z, z)\n",
    "        v_ = fun(self.v, v)\n",
    "        return zfloat(self.context, z_, v_)\n",
    "\n",
    "    return proxy"
   ]
  },
  {
   "cell_type": "markdown",
   "metadata": {
    "slideshow": {
     "slide_type": "fragment"
    }
   },
   "source": [
    "And apply them on `zfloat`"
   ]
  },
  {
   "cell_type": "code",
   "execution_count": 298,
   "metadata": {
    "slideshow": {
     "slide_type": "subslide"
    }
   },
   "outputs": [],
   "source": [
    "FLOAT_BINARY_OPS = [\n",
    "    '__add__',\n",
    "    '__sub__',\n",
    "    '__mul__',\n",
    "    '__truediv__',\n",
    "    # '__div__',\n",
    "    '__mod__',\n",
    "    # '__divmod__',\n",
    "    '__pow__',\n",
    "    # '__lshift__',\n",
    "    # '__rshift__',\n",
    "    # '__and__',\n",
    "    # '__xor__',\n",
    "    # '__or__',\n",
    "    '__radd__',\n",
    "    '__rsub__',\n",
    "    '__rmul__',\n",
    "    '__rtruediv__',\n",
    "    # '__rdiv__',\n",
    "    '__rmod__',\n",
    "    # '__rdivmod__',\n",
    "    '__rpow__',\n",
    "    # '__rlshift__',\n",
    "    # '__rrshift__',\n",
    "    # '__rand__',\n",
    "    # '__rxor__',\n",
    "    # '__ror__',\n",
    "]"
   ]
  },
  {
   "cell_type": "code",
   "execution_count": 299,
   "metadata": {
    "slideshow": {
     "slide_type": "subslide"
    }
   },
   "outputs": [],
   "source": [
    "for fname in FLOAT_BINARY_OPS:\n",
    "    fun = getattr(float, fname)\n",
    "    zfun = getattr(z3.ArithRef, fname)\n",
    "    setattr(zfloat, fname, make_float_binary_wrapper(fname, fun, zfun))"
   ]
  },
  {
   "cell_type": "markdown",
   "metadata": {
    "slideshow": {
     "slide_type": "fragment"
    }
   },
   "source": [
    "These are used as follows."
   ]
  },
  {
   "cell_type": "code",
   "execution_count": 300,
   "metadata": {
    "slideshow": {
     "slide_type": "fragment"
    }
   },
   "outputs": [],
   "source": [
    "with ConcolicTracer() as _:\n",
    "    za = zfloat.create(_.context, 'float_a', 1.0)\n",
    "    zb = zfloat.create(_.context, 'float_b', 0.0)\n",
    "    if za * zb:\n",
    "        print(1)"
   ]
  },
  {
   "cell_type": "code",
   "execution_count": 301,
   "metadata": {
    "slideshow": {
     "slide_type": "fragment"
    }
   },
   "outputs": [
    {
     "data": {
      "text/plain": [
       "({'float_a': 'Real', 'float_b': 'Real'}, [Not(float_a*float_b != 0)])"
      ]
     },
     "execution_count": 301,
     "metadata": {},
     "output_type": "execute_result"
    }
   ],
   "source": [
    "_.context"
   ]
  },
  {
   "cell_type": "markdown",
   "metadata": {
    "slideshow": {
     "slide_type": "fragment"
    }
   },
   "source": [
    "Finally, we fix the `zint` binary wrapper to correctly create `zfloat` when needed."
   ]
  },
  {
   "cell_type": "code",
   "execution_count": 302,
   "metadata": {
    "slideshow": {
     "slide_type": "subslide"
    }
   },
   "outputs": [],
   "source": [
    "def make_int_binary_wrapper(fname, fun, zfun):\n",
    "    def proxy(self, other):\n",
    "        z, v = self._zv(other)\n",
    "        z_ = zfun(self.z, z)\n",
    "        v_ = fun(self.v, v)\n",
    "        if isinstance(v_, float):\n",
    "            return zfloat(self.context, z_, v_)\n",
    "        elif isinstance(v_, int):\n",
    "            return zint(self.context, z_, v_)\n",
    "        else:\n",
    "            assert False\n",
    "\n",
    "    return proxy"
   ]
  },
  {
   "cell_type": "code",
   "execution_count": 303,
   "metadata": {
    "slideshow": {
     "slide_type": "subslide"
    }
   },
   "outputs": [],
   "source": [
    "for fname in INT_BINARY_OPS:\n",
    "    fun = getattr(int, fname)\n",
    "    zfun = getattr(z3.ArithRef, fname)\n",
    "    setattr(zint, fname, make_int_binary_wrapper(fname, fun, zfun))"
   ]
  },
  {
   "cell_type": "markdown",
   "metadata": {
    "slideshow": {
     "slide_type": "fragment"
    }
   },
   "source": [
    "Checking whether it worked as expected."
   ]
  },
  {
   "cell_type": "code",
   "execution_count": 304,
   "metadata": {
    "slideshow": {
     "slide_type": "fragment"
    }
   },
   "outputs": [],
   "source": [
    "with ConcolicTracer() as _:\n",
    "    v = _[binomial](4, 2)"
   ]
  },
  {
   "cell_type": "code",
   "execution_count": 305,
   "metadata": {
    "slideshow": {
     "slide_type": "fragment"
    }
   },
   "outputs": [
    {
     "data": {
      "text/plain": [
       "('sat', {'n': ('4', 'Int'), 'k': ('2', 'Int')})"
      ]
     },
     "execution_count": 305,
     "metadata": {},
     "output_type": "execute_result"
    }
   ],
   "source": [
    "_.zeval()"
   ]
  },
  {
   "cell_type": "markdown",
   "metadata": {
    "slideshow": {
     "slide_type": "subslide"
    }
   },
   "source": [
    "### Exercise 2: Bit Manipulation"
   ]
  },
  {
   "cell_type": "markdown",
   "metadata": {
    "slideshow": {
     "slide_type": "fragment"
    }
   },
   "source": [
    "Similar to floats, implementing the bit manipulation functions such as `xor` involves converting `int` to its bit vector equivalents, performing operations on them, and converting it back to the original type. Can you implement the bit manipulation operations for `zint`?"
   ]
  },
  {
   "cell_type": "markdown",
   "metadata": {
    "slideshow": {
     "slide_type": "fragment"
    }
   },
   "source": [
    "__Solution.__ The solution is as follows."
   ]
  },
  {
   "cell_type": "markdown",
   "metadata": {
    "slideshow": {
     "slide_type": "fragment"
    }
   },
   "source": [
    "We first define the proxy method as before."
   ]
  },
  {
   "cell_type": "code",
   "execution_count": 306,
   "metadata": {
    "slideshow": {
     "slide_type": "subslide"
    }
   },
   "outputs": [],
   "source": [
    "def make_int_bit_wrapper(fname, fun, zfun):\n",
    "    def proxy(self, other):\n",
    "        z, v = self._zv(other)\n",
    "        z_ = z3.BV2Int(\n",
    "            zfun(\n",
    "                z3.Int2BV(\n",
    "                    self.z, num_bits=64), z3.Int2BV(\n",
    "                    z, num_bits=64)))\n",
    "        v_ = fun(self.v, v)\n",
    "        return zint(self.context, z_, v_)\n",
    "\n",
    "    return proxy"
   ]
  },
  {
   "cell_type": "markdown",
   "metadata": {
    "slideshow": {
     "slide_type": "fragment"
    }
   },
   "source": [
    "It is then applied to the `zint` class."
   ]
  },
  {
   "cell_type": "code",
   "execution_count": 307,
   "metadata": {
    "slideshow": {
     "slide_type": "subslide"
    }
   },
   "outputs": [],
   "source": [
    "BIT_OPS = [\n",
    "    '__lshift__',\n",
    "    '__rshift__',\n",
    "    '__and__',\n",
    "    '__xor__',\n",
    "    '__or__',\n",
    "    '__rlshift__',\n",
    "    '__rrshift__',\n",
    "    '__rand__',\n",
    "    '__rxor__',\n",
    "    '__ror__',\n",
    "]"
   ]
  },
  {
   "cell_type": "code",
   "execution_count": 308,
   "metadata": {
    "slideshow": {
     "slide_type": "subslide"
    }
   },
   "outputs": [],
   "source": [
    "def init_concolic_4():\n",
    "    for fname in BIT_OPS:\n",
    "        fun = getattr(int, fname)\n",
    "        zfun = getattr(z3.BitVecRef, fname)\n",
    "        setattr(zint, fname, make_int_bit_wrapper(fname, fun, zfun))"
   ]
  },
  {
   "cell_type": "code",
   "execution_count": 309,
   "metadata": {
    "slideshow": {
     "slide_type": "fragment"
    }
   },
   "outputs": [],
   "source": [
    "INITIALIZER_LIST.append(init_concolic_4)"
   ]
  },
  {
   "cell_type": "code",
   "execution_count": 310,
   "metadata": {
    "slideshow": {
     "slide_type": "fragment"
    }
   },
   "outputs": [],
   "source": [
    "init_concolic_4()"
   ]
  },
  {
   "cell_type": "markdown",
   "metadata": {
    "slideshow": {
     "slide_type": "fragment"
    }
   },
   "source": [
    "Invert is the only unary bit manipulation method."
   ]
  },
  {
   "cell_type": "code",
   "execution_count": 311,
   "metadata": {
    "slideshow": {
     "slide_type": "fragment"
    }
   },
   "outputs": [],
   "source": [
    "class zint(zint):\n",
    "    def __invert__(self):\n",
    "        return zint(self.context, z3.BV2Int(\n",
    "            ~z3.Int2BV(self.z, num_bits=64)), ~self.v)"
   ]
  },
  {
   "cell_type": "markdown",
   "metadata": {
    "slideshow": {
     "slide_type": "fragment"
    }
   },
   "source": [
    "The `my_fn()` computes `xor` and returns `True` if the `xor` results in a non zero value."
   ]
  },
  {
   "cell_type": "code",
   "execution_count": 312,
   "metadata": {
    "slideshow": {
     "slide_type": "subslide"
    }
   },
   "outputs": [],
   "source": [
    "def my_fn(a, b):\n",
    "    o_ = (a | b)\n",
    "    a_ = (a & b)\n",
    "    if o_ & ~a_:\n",
    "        return True\n",
    "    else:\n",
    "        return False"
   ]
  },
  {
   "cell_type": "markdown",
   "metadata": {
    "slideshow": {
     "slide_type": "fragment"
    }
   },
   "source": [
    "Using that under `ConcolicTracer`"
   ]
  },
  {
   "cell_type": "code",
   "execution_count": 313,
   "metadata": {
    "slideshow": {
     "slide_type": "fragment"
    }
   },
   "outputs": [
    {
     "name": "stdout",
     "output_type": "stream",
     "text": [
      "True\n"
     ]
    }
   ],
   "source": [
    "with ConcolicTracer() as _:\n",
    "    print(_[my_fn](2, 1))"
   ]
  },
  {
   "cell_type": "markdown",
   "metadata": {
    "slideshow": {
     "slide_type": "fragment"
    }
   },
   "source": [
    "We log the computed SMT expression to verify that everything went well."
   ]
  },
  {
   "cell_type": "code",
   "execution_count": 314,
   "metadata": {
    "slideshow": {
     "slide_type": "subslide"
    }
   },
   "outputs": [
    {
     "name": "stdout",
     "output_type": "stream",
     "text": [
      "(declare-const my_fn_a_int_1 Int)\n",
      "(declare-const my_fn_b_int_2 Int)\n",
      "(assert (let ((a!1 (bvnot (bvor (bvnot ((_ int2bv 64) my_fn_a_int_1))\n",
      "                        (bvnot ((_ int2bv 64) my_fn_b_int_2))))))\n",
      "(let ((a!2 (bvor (bvnot (bvor ((_ int2bv 64) my_fn_a_int_1)\n",
      "                              ((_ int2bv 64) my_fn_b_int_2)))\n",
      "                 a!1)))\n",
      "  (not (= 0 (bv2int (bvnot a!2)))))))\n",
      "(check-sat)\n",
      "(get-model)\n",
      "sat\n",
      "(model \n",
      "  (define-fun my_fn_a_int_1 () Int\n",
      "    (- 18446744073709551617))\n",
      "  (define-fun my_fn_b_int_2 () Int\n",
      "    (- 2))\n",
      ")\n"
     ]
    },
    {
     "data": {
      "text/plain": [
       "('sat',\n",
       " {'a': (['-', '18446744073709551617'], 'Int'), 'b': (['-', '2'], 'Int')})"
      ]
     },
     "execution_count": 314,
     "metadata": {},
     "output_type": "execute_result"
    }
   ],
   "source": [
    "_.zeval(log=True)"
   ]
  },
  {
   "cell_type": "markdown",
   "metadata": {
    "slideshow": {
     "slide_type": "subslide"
    }
   },
   "source": [
    "We can confirm from the formulas generated that the bit manipulation functions worked correctly. "
   ]
  },
  {
   "cell_type": "markdown",
   "metadata": {
    "slideshow": {
     "slide_type": "subslide"
    }
   },
   "source": [
    "### Exercise 3: String Translation Functions"
   ]
  },
  {
   "cell_type": "markdown",
   "metadata": {
    "slideshow": {
     "slide_type": "fragment"
    }
   },
   "source": [
    "We have seen how to define `upper()` and `lower()`. Can you define the `capitalize()`, `title()`, and `swapcase()` methods?"
   ]
  },
  {
   "cell_type": "markdown",
   "metadata": {
    "slideshow": {
     "slide_type": "fragment"
    }
   },
   "source": [
    "__Solution.__ Solution not yet available."
   ]
  }
 ],
 "metadata": {
  "ipub": {
   "bibliography": "fuzzingbook.bib",
   "toc": true
  },
  "kernelspec": {
   "display_name": "Python 3",
   "language": "python",
   "name": "python3"
  },
  "language_info": {
   "codemirror_mode": {
    "name": "ipython",
    "version": 3
   },
   "file_extension": ".py",
   "mimetype": "text/x-python",
   "name": "python",
   "nbconvert_exporter": "python",
   "pygments_lexer": "ipython3",
   "version": "3.6.8"
  },
  "toc": {
   "base_numbering": 1,
   "nav_menu": {},
   "number_sections": true,
   "sideBar": true,
   "skip_h1_title": true,
   "title_cell": "",
   "title_sidebar": "Contents",
   "toc_cell": false,
   "toc_position": {},
   "toc_section_display": true,
   "toc_window_display": true
  },
  "toc-autonumbering": false,
  "varInspector": {
   "cols": {
    "lenName": 16,
    "lenType": 16,
    "lenVar": 40
   },
   "kernels_config": {
    "python": {
     "delete_cmd_postfix": "",
     "delete_cmd_prefix": "del ",
     "library": "var_list.py",
     "varRefreshCmd": "print(var_dic_list())"
    },
    "r": {
     "delete_cmd_postfix": ") ",
     "delete_cmd_prefix": "rm(",
     "library": "var_list.r",
     "varRefreshCmd": "cat(var_dic_list()) "
    }
   },
   "types_to_exclude": [
    "module",
    "function",
    "builtin_function_or_method",
    "instance",
    "_Feature"
   ],
   "window_display": false
  }
 },
 "nbformat": 4,
 "nbformat_minor": 2
}