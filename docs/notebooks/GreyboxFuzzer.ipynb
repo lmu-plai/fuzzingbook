{
 "cells": [
  {
   "cell_type": "markdown",
   "metadata": {
    "button": false,
    "new_sheet": false,
    "run_control": {
     "read_only": false
    },
    "slideshow": {
     "slide_type": "slide"
    }
   },
   "source": [
    "# Greybox Fuzzing\n",
    "\n",
    "In the [previous chapter](MutationFuzzer.ipynb), we have introduced _mutation-based fuzzing_, a technique that generates fuzz inputs by applying small mutations to given inputs.  In this chapter, we show how to _guide_ these mutations towards specific goals such as coverage.  The algorithms in this book stem from the popular [American Fuzzy Lop](http://lcamtuf.coredump.cx/afl/) (AFL) fuzzer, in particular from its [AFLFast](https://github.com/mboehme/aflfast) and [AFLGo](https://github.com/aflgo/aflgo) flavors. We will explore the greybox fuzzing algorithm behind AFL and how we can exploit it to solve various problems for automated vulnerability detection. "
   ]
  },
  {
   "cell_type": "markdown",
   "metadata": {
    "button": false,
    "new_sheet": false,
    "run_control": {
     "read_only": false
    },
    "slideshow": {
     "slide_type": "subslide"
    }
   },
   "source": [
    "**Prerequisites**\n",
    "\n",
    "* Reading the introduction on [mutation-based fuzzing](MutationFuzzer.ipynb) is recommended."
   ]
  },
  {
   "cell_type": "code",
   "execution_count": 1,
   "metadata": {
    "slideshow": {
     "slide_type": "skip"
    }
   },
   "outputs": [],
   "source": [
    "import fuzzingbook_utils"
   ]
  },
  {
   "cell_type": "markdown",
   "metadata": {
    "button": false,
    "new_sheet": true,
    "run_control": {
     "read_only": false
    },
    "slideshow": {
     "slide_type": "slide"
    }
   },
   "source": [
    "## Ingredients for Greybox Fuzzing\n",
    "\n",
    "We start with discussing the most important parts we need for mutational testing and goal guidance."
   ]
  },
  {
   "cell_type": "markdown",
   "metadata": {
    "button": false,
    "new_sheet": true,
    "run_control": {
     "read_only": false
    },
    "slideshow": {
     "slide_type": "slide"
    }
   },
   "source": [
    "### Background\n",
    "\n",
    "AFL is a *mutation-based fuzzer*. Meaning, AFL generates new inputs by slightly modifying a seed input (i.e., mutation), or by joining the first half of one input with the second half of another (i.e., splicing)."
   ]
  },
  {
   "cell_type": "markdown",
   "metadata": {
    "button": false,
    "new_sheet": true,
    "run_control": {
     "read_only": false
    },
    "slideshow": {
     "slide_type": "slide"
    }
   },
   "source": [
    "AFL is also a *greybox fuzzer* (not blackbox nor whitebox). Meaning, AFL leverages coverage-feedback to learn how to reach deeper into the program. It is not entirely blackbox because AFL leverages at least *some* program analysis. It is not entirely whitebox either because AFL does not build on heavyweight program analysis or constraint solving. Instead, AFL uses lightweight program instrumentation to glean some information about the (branch) coverage of a generated input.\n",
    "If a generated input increases coverage, it is added to the seed corpus for further fuzzing."
   ]
  },
  {
   "cell_type": "markdown",
   "metadata": {
    "button": false,
    "new_sheet": true,
    "run_control": {
     "read_only": false
    },
    "slideshow": {
     "slide_type": "slide"
    }
   },
   "source": [
    "To instrument a program, AFL injects a piece of code right after every conditional jump instruction. When executed, this so-called trampoline assigns the exercised branch a unique identifier and increments a counter that is associated with this branch. For efficiency, only a coarse branch hit count is maintained. In other words, for each input the fuzzer knows which branches and roughly how often they are exercised. \n",
    "The instrumentation is usually done at compile-time, i.e., when the program source code is compiled to an executable binary. However, it is possible to run AFL on uninstrumented binaries using tools such as a virtual machine (e.g., [QEMU](https://github.com/mirrorer/afl/blob/master/qemu_mode)) or a dynamic instrumentation tool (e.g., [Intel PinTool](https://github.com/vanhauser-thc/afl-pin)). For Python programs, we can collect coverage information without any instrumentation (see chapter on [collecting coverage](Coverage.ipynb#Coverage-of-Basic-Fuzzing))."
   ]
  },
  {
   "cell_type": "markdown",
   "metadata": {
    "button": false,
    "new_sheet": true,
    "run_control": {
     "read_only": false
    },
    "slideshow": {
     "slide_type": "slide"
    }
   },
   "source": [
    "### Mutator and Seed\n",
    "\n",
    "We introduce specific classes for mutating a seed."
   ]
  },
  {
   "cell_type": "code",
   "execution_count": 2,
   "metadata": {
    "slideshow": {
     "slide_type": "skip"
    }
   },
   "outputs": [],
   "source": [
    "import random\n",
    "from Coverage import Coverage, population_coverage"
   ]
  },
  {
   "cell_type": "markdown",
   "metadata": {
    "slideshow": {
     "slide_type": "fragment"
    }
   },
   "source": [
    "First, we'll introduce the `Mutator` class. Given a seed input `inp`, the mutator returns a slightly modified version of `inp`.  In the [chapter on greybox grammar fuzzing](GreyboxGrammarFuzzer.ipynb), we extend this class to consider the input grammar for smart greybox fuzzing."
   ]
  },
  {
   "cell_type": "code",
   "execution_count": 3,
   "metadata": {
    "slideshow": {
     "slide_type": "fragment"
    }
   },
   "outputs": [],
   "source": [
    "class Mutator(object):\n",
    "    def __init__(self):\n",
    "        self.mutators = [\n",
    "            self.delete_random_character,\n",
    "            self.insert_random_character,\n",
    "            self.flip_random_character\n",
    "        ]"
   ]
  },
  {
   "cell_type": "markdown",
   "metadata": {
    "slideshow": {
     "slide_type": "subslide"
    }
   },
   "source": [
    "For insertion, we add a random character in a random position."
   ]
  },
  {
   "cell_type": "code",
   "execution_count": 4,
   "metadata": {
    "slideshow": {
     "slide_type": "fragment"
    }
   },
   "outputs": [],
   "source": [
    "class Mutator(Mutator):\n",
    "    def insert_random_character(self,s):\n",
    "        \"\"\"Returns s with a random character inserted\"\"\"\n",
    "        pos = random.randint(0, len(s))\n",
    "        random_character = chr(random.randrange(32, 127))\n",
    "        return s[:pos] + random_character + s[pos:]"
   ]
  },
  {
   "cell_type": "markdown",
   "metadata": {
    "slideshow": {
     "slide_type": "fragment"
    }
   },
   "source": [
    "For deletion, if the string is non-empty choose a random position and delete the character. Otherwise, use the insertion-operation."
   ]
  },
  {
   "cell_type": "code",
   "execution_count": 5,
   "metadata": {
    "slideshow": {
     "slide_type": "subslide"
    }
   },
   "outputs": [],
   "source": [
    "class Mutator(Mutator):\n",
    "    def delete_random_character(self,s):\n",
    "        \"\"\"Returns s with a random character deleted\"\"\"\n",
    "        if s == \"\":\n",
    "            return self.insert_random_character(s)\n",
    "\n",
    "        pos = random.randint(0, len(s) - 1)\n",
    "        return s[:pos] + s[pos + 1:]"
   ]
  },
  {
   "cell_type": "markdown",
   "metadata": {
    "slideshow": {
     "slide_type": "fragment"
    }
   },
   "source": [
    "For substitution, if the string is non-empty choose a random position and flip a random bit in the character. Otherwise, use the insertion-operation."
   ]
  },
  {
   "cell_type": "code",
   "execution_count": 6,
   "metadata": {
    "slideshow": {
     "slide_type": "subslide"
    }
   },
   "outputs": [],
   "source": [
    "class Mutator(Mutator):\n",
    "    def flip_random_character(self,s):\n",
    "        \"\"\"Returns s with a random bit flipped in a random position\"\"\"\n",
    "        if s == \"\":\n",
    "            return self.insert_random_character(s)\n",
    "\n",
    "        pos = random.randint(0, len(s) - 1)\n",
    "        c = s[pos]\n",
    "        bit = 1 << random.randint(0, 6)\n",
    "        new_c = chr(ord(c) ^ bit)\n",
    "        return s[:pos] + new_c + s[pos + 1:]"
   ]
  },
  {
   "cell_type": "markdown",
   "metadata": {
    "slideshow": {
     "slide_type": "fragment"
    }
   },
   "source": [
    "The main method is `mutate` which chooses a random mutation operator from the list of operators."
   ]
  },
  {
   "cell_type": "code",
   "execution_count": 7,
   "metadata": {
    "slideshow": {
     "slide_type": "subslide"
    }
   },
   "outputs": [],
   "source": [
    "class Mutator(Mutator):    \n",
    "    def mutate(self, inp):\n",
    "        \"\"\"Return s with a random mutation applied\"\"\"\n",
    "        mutator = random.choice(self.mutators)\n",
    "        return mutator(inp)"
   ]
  },
  {
   "cell_type": "markdown",
   "metadata": {
    "slideshow": {
     "slide_type": "fragment"
    }
   },
   "source": [
    "Let's try the mutator. You can actually interact with such a \"cell\" and try other inputs by loading this chapter as Jupyter notebook. After opening, run all cells in the notebook using \"Kernel -> Restart & Run All\"."
   ]
  },
  {
   "cell_type": "code",
   "execution_count": 8,
   "metadata": {
    "slideshow": {
     "slide_type": "fragment"
    }
   },
   "outputs": [
    {
     "data": {
      "text/plain": [
       "'cood'"
      ]
     },
     "execution_count": 8,
     "metadata": {},
     "output_type": "execute_result"
    }
   ],
   "source": [
    "Mutator().mutate(\"good\")"
   ]
  },
  {
   "cell_type": "markdown",
   "metadata": {
    "slideshow": {
     "slide_type": "subslide"
    }
   },
   "source": [
    "### Power Schedules\n",
    "\n",
    "Now we introduce a new concept; the *power schedule*. A power schedule distributes the precious fuzzing time among the seeds in the population. Our objective is to maximize the time spent fuzzing those (most progressive) seeds which lead to higher coverage increase in shorter time.\n",
    "\n",
    "We call the likelihood with which a seed is chosen from the population as the seed's *energy*. Throughout a fuzzing campaign, we would like to prioritize seeds that are more promising. Simply said, we do not want to waste energy fuzzing non-progressive seeds. We call the procedure that decides a seed's energy as the fuzzer's *power schedule*. For instance, AFL's schedule assigns more energy to seeds that are shorter, that execute faster, and yield coverage increases more often.\n",
    "\n",
    "First, there is some information that we need to attach to each seed in addition to the seed's data. Hence, we define the following `Seed` class."
   ]
  },
  {
   "cell_type": "code",
   "execution_count": 9,
   "metadata": {
    "slideshow": {
     "slide_type": "subslide"
    }
   },
   "outputs": [],
   "source": [
    "class Seed(object):    \n",
    "    def __init__(self, data):\n",
    "        \"\"\"Set seed data\"\"\"\n",
    "        self.data = data\n",
    "        \n",
    "    def __str__(self):\n",
    "        \"\"\"Returns data as string representation of the seed\"\"\"\n",
    "        return self.data\n",
    "    __repr__ = __str__"
   ]
  },
  {
   "cell_type": "markdown",
   "metadata": {
    "slideshow": {
     "slide_type": "subslide"
    }
   },
   "source": [
    "The power schedule that is implemented below assigns each seed the same energy. Once a seed is in the population, it will be fuzzed as often as any other seed in the population.\n",
    "\n",
    "In Python, we can can squeeze long for-loops into much smaller statements.\n",
    "* `lambda x: ...` returns a function that takes `x` as input. Lambda allows for quick definitions unnamed functions.\n",
    "* `map(f, l)` returns a list where the function `f` is applied to each element in list `l`.\n",
    "* `np.random.choice(l,p)` returns element `l[i]` with probability in `p[i]`."
   ]
  },
  {
   "cell_type": "code",
   "execution_count": 10,
   "metadata": {
    "slideshow": {
     "slide_type": "skip"
    }
   },
   "outputs": [],
   "source": [
    "import numpy as np"
   ]
  },
  {
   "cell_type": "code",
   "execution_count": 11,
   "metadata": {
    "slideshow": {
     "slide_type": "subslide"
    }
   },
   "outputs": [],
   "source": [
    "class PowerSchedule(object):    \n",
    "    def assignEnergy(self, population):\n",
    "        \"\"\"Assigns each seed the same energy\"\"\"\n",
    "        for seed in population:\n",
    "            seed.energy = 1\n",
    "\n",
    "    def normalizedEnergy(self, population):\n",
    "        \"\"\"Normalize energy\"\"\"\n",
    "        energy = list(map(lambda seed: seed.energy, population))\n",
    "        sum_energy = sum(energy)  # Add up all values in energy\n",
    "        norm_energy = list(map(lambda nrg: nrg/sum_energy, energy))\n",
    "        return norm_energy\n",
    "    \n",
    "    def choose(self, population):\n",
    "        \"\"\"Choose weighted by normalized energy.\"\"\"\n",
    "        import numpy as np\n",
    "\n",
    "        self.assignEnergy(population)\n",
    "        norm_energy = self.normalizedEnergy(population)\n",
    "        seed = np.random.choice(population, p=norm_energy)\n",
    "        return seed"
   ]
  },
  {
   "cell_type": "markdown",
   "metadata": {
    "slideshow": {
     "slide_type": "subslide"
    }
   },
   "source": [
    "Let's see whether this power schedule chooses seeds uniformly at random. We ask the schedule 10k times to choose a seed from the population of three seeds (A, B, C) and keep track of the number of times we have seen each seed. We should see each seed about 3.3k times."
   ]
  },
  {
   "cell_type": "code",
   "execution_count": 12,
   "metadata": {
    "slideshow": {
     "slide_type": "subslide"
    }
   },
   "outputs": [
    {
     "data": {
      "text/plain": [
       "{'A': 3394, 'B': 3333, 'C': 3273}"
      ]
     },
     "execution_count": 12,
     "metadata": {},
     "output_type": "execute_result"
    }
   ],
   "source": [
    "population = [Seed(\"A\"), Seed(\"B\"), Seed(\"C\")]\n",
    "schedule = PowerSchedule()\n",
    "hits = {\n",
    "    \"A\" : 0,\n",
    "    \"B\" : 0,\n",
    "    \"C\" : 0\n",
    "}\n",
    "\n",
    "for i in range(10000):\n",
    "    seed = schedule.choose(population)\n",
    "    hits[seed.data] += 1\n",
    "\n",
    "hits"
   ]
  },
  {
   "cell_type": "markdown",
   "metadata": {
    "slideshow": {
     "slide_type": "fragment"
    }
   },
   "source": [
    "Looks good. Every seed has been chosen about a third of the time."
   ]
  },
  {
   "cell_type": "markdown",
   "metadata": {
    "slideshow": {
     "slide_type": "subslide"
    }
   },
   "source": [
    "### Runner and Sample Program\n",
    "We'll start with a small sample program of six lines. In order to collect coverage information during execution, we import the `FunctionCoverageRunner` class from the chapter on [mutation-based fuzzing](MutationFuzzer.ipynb#Guiding-by-Coverage). \n",
    "\n",
    "The `FunctionCoverageRunner` constructor takes a Python `function` to execute. The function `run` takes an input, passes it on to the Python `function`, and collects the coverage information for this execution. The function `coverage()` returns a list of tuples `(function name, line number)` for each statement that has been covered in the Python `function`."
   ]
  },
  {
   "cell_type": "code",
   "execution_count": 13,
   "metadata": {
    "slideshow": {
     "slide_type": "skip"
    }
   },
   "outputs": [],
   "source": [
    "from MutationFuzzer import FunctionCoverageRunner"
   ]
  },
  {
   "cell_type": "markdown",
   "metadata": {
    "slideshow": {
     "slide_type": "fragment"
    }
   },
   "source": [
    "The `crashme()` function raises an exception for the input \"bad!\". Let's see which statements are covered for the input \"good\"."
   ]
  },
  {
   "cell_type": "code",
   "execution_count": 14,
   "metadata": {
    "slideshow": {
     "slide_type": "subslide"
    }
   },
   "outputs": [
    {
     "data": {
      "text/plain": [
       "[('crashme', 2), ('__exit__', 80), ('run_function', 113)]"
      ]
     },
     "execution_count": 14,
     "metadata": {},
     "output_type": "execute_result"
    }
   ],
   "source": [
    "def crashme (s):\n",
    "    if             len(s) > 0 and s[0] == 'b':\n",
    "        if         len(s) > 1 and s[1] == 'a':\n",
    "            if     len(s) > 2 and s[2] == 'd':\n",
    "                if len(s) > 3 and s[3] == '!':\n",
    "                    raise Exception()\n",
    "\n",
    "crashme_runner = FunctionCoverageRunner(crashme)\n",
    "crashme_runner.run(\"good\")\n",
    "list(crashme_runner.coverage())"
   ]
  },
  {
   "cell_type": "markdown",
   "metadata": {
    "slideshow": {
     "slide_type": "fragment"
    }
   },
   "source": [
    "In `crashme`, the input \"good\" only covers the if-statement in line 2. The branch condition `len(s) > 0 and s[0] == 'b'` evaluates to False."
   ]
  },
  {
   "cell_type": "markdown",
   "metadata": {
    "slideshow": {
     "slide_type": "slide"
    }
   },
   "source": [
    "## Blackbox, Greybox, and Boosted Greybox Fuzzing\n",
    "\n",
    "### Blackbox Mutation-based Fuzzer\n",
    "Let's integrate both the mutator and power schedule into a fuzzer. We'll start with a blackbox fuzzer -- which does *not* leverage any coverage information. \n",
    "\n",
    "Our `MutationFuzzer` class inherits from the [Fuzzer](Fuzzer.ipynb#Fuzzer-Classes) class. For now, we only need to know the functions `fuzz` which returns a generated input and `runs` which executes `fuzz` a specified number of times. For our `MutationFuzzer` class, we override the function `fuzz`."
   ]
  },
  {
   "cell_type": "code",
   "execution_count": 15,
   "metadata": {
    "slideshow": {
     "slide_type": "skip"
    }
   },
   "outputs": [],
   "source": [
    "from Fuzzer import Fuzzer"
   ]
  },
  {
   "cell_type": "markdown",
   "metadata": {
    "slideshow": {
     "slide_type": "subslide"
    }
   },
   "source": [
    "The `MutationFuzzer` is constructed with a set of initial seeds, a mutator, and a power schedule. Throughout the fuzzing campaign, it maintains a seed corpus called `population`. The function `fuzz` returns either an unfuzzed seed from the initial seeds, or the result of fuzzing a seed in the population. The function `create_candidate` handles the latter. It randomly chooses an input from the population and applies a number of mutations."
   ]
  },
  {
   "cell_type": "code",
   "execution_count": 16,
   "metadata": {
    "slideshow": {
     "slide_type": "subslide"
    }
   },
   "outputs": [],
   "source": [
    "class MutationFuzzer(Fuzzer):\n",
    "    \n",
    "    def __init__(self, seeds, mutator, schedule):\n",
    "        self.seeds = seeds\n",
    "        self.mutator = mutator\n",
    "        self.schedule = schedule\n",
    "        self.inputs = []\n",
    "        self.reset()\n",
    "\n",
    "    def reset(self):\n",
    "        \"\"\"Reset the initial population and seed index\"\"\"\n",
    "        self.population = list(map(lambda x: Seed(x), self.seeds))\n",
    "        self.seed_index = 0\n",
    "\n",
    "    def create_candidate(self):\n",
    "        \"\"\"Returns an input generated by fuzzing a seed in the population\"\"\"\n",
    "        seed = self.schedule.choose(self.population)\n",
    "\n",
    "        # Stacking: Apply multiple mutations to generate the candidate\n",
    "        candidate = seed.data\n",
    "        trials = min(len(candidate), 1 << random.randint(1,5))\n",
    "        for i in range(trials):\n",
    "            candidate = self.mutator.mutate(candidate)\n",
    "        return candidate\n",
    "\n",
    "    def fuzz(self):\n",
    "        \"\"\"Returns first each seed once and then generates new inputs\"\"\"\n",
    "        if self.seed_index < len(self.seeds):\n",
    "            # Still seeding\n",
    "            self.inp = self.seeds[self.seed_index]\n",
    "            self.seed_index += 1\n",
    "        else:\n",
    "            # Mutating\n",
    "            self.inp = self.create_candidate()\n",
    "            \n",
    "        self.inputs.append(self.inp)\n",
    "        return self.inp\n",
    "    "
   ]
  },
  {
   "cell_type": "markdown",
   "metadata": {
    "slideshow": {
     "slide_type": "subslide"
    }
   },
   "source": [
    "Okay, let's take the mutation fuzzer for a spin. Given a single seed, we ask it to generate three inputs."
   ]
  },
  {
   "cell_type": "code",
   "execution_count": 17,
   "metadata": {
    "slideshow": {
     "slide_type": "fragment"
    }
   },
   "outputs": [
    {
     "name": "stdout",
     "output_type": "stream",
     "text": [
      "good\n",
      "ooD\n",
      "cW(ond\n"
     ]
    }
   ],
   "source": [
    "seed_input = \"good\"\n",
    "mutation_fuzzer = MutationFuzzer([seed_input], Mutator(), PowerSchedule())\n",
    "print(mutation_fuzzer.fuzz())\n",
    "print(mutation_fuzzer.fuzz())\n",
    "print(mutation_fuzzer.fuzz())"
   ]
  },
  {
   "cell_type": "markdown",
   "metadata": {
    "slideshow": {
     "slide_type": "subslide"
    }
   },
   "source": [
    "Let's see how many statements the mutation-based blackbox fuzzer covers in a campaign with n=30k inputs.\n",
    "\n",
    "The fuzzer function `runs(crashme_runner, trials=n)` generates `n` inputs and executes them on the `crashme` function via the `crashme_runner`. As stated earlier, the `crashme_runner` also collects coverage information."
   ]
  },
  {
   "cell_type": "code",
   "execution_count": 18,
   "metadata": {
    "slideshow": {
     "slide_type": "skip"
    }
   },
   "outputs": [],
   "source": [
    "import time\n",
    "n = 30000"
   ]
  },
  {
   "cell_type": "code",
   "execution_count": 19,
   "metadata": {
    "slideshow": {
     "slide_type": "fragment"
    }
   },
   "outputs": [
    {
     "data": {
      "text/plain": [
       "'It took the blackbox mutation-based fuzzer 1.60 seconds to generate and execute 30000 inputs.'"
      ]
     },
     "execution_count": 19,
     "metadata": {},
     "output_type": "execute_result"
    }
   ],
   "source": [
    "blackbox_fuzzer = MutationFuzzer([seed_input], Mutator(), PowerSchedule())\n",
    "\n",
    "start = time.time()\n",
    "blackbox_fuzzer.runs(FunctionCoverageRunner(crashme), trials=n)\n",
    "end = time.time()\n",
    "\n",
    "\"It took the blackbox mutation-based fuzzer %0.2f seconds to generate and execute %d inputs.\" % (end - start, n)"
   ]
  },
  {
   "cell_type": "markdown",
   "metadata": {
    "slideshow": {
     "slide_type": "subslide"
    }
   },
   "source": [
    "In order to measure coverage, we import the [population_coverage](Coverage.ipynb#Coverage-of-Basic-Fuzzing) function. It takes a set of inputs and a Python function, executes the inputs on that function and collects coverage information. Specifically, it returns a tuple `(all_coverage, cumulative_coverage)` where `all_coverage` is the set of statements covered by all inputs, and `cumulative_coverage` is the number of statements covered as the number of executed inputs increases. We are just interested in the latter to plot coverage over time."
   ]
  },
  {
   "cell_type": "code",
   "execution_count": 20,
   "metadata": {
    "slideshow": {
     "slide_type": "skip"
    }
   },
   "outputs": [],
   "source": [
    "from Coverage import population_coverage"
   ]
  },
  {
   "cell_type": "markdown",
   "metadata": {
    "slideshow": {
     "slide_type": "fragment"
    }
   },
   "source": [
    "We extract the generated inputs from the blackbox fuzzer and measure coverage as the number of inputs increases."
   ]
  },
  {
   "cell_type": "code",
   "execution_count": 21,
   "metadata": {
    "slideshow": {
     "slide_type": "fragment"
    }
   },
   "outputs": [
    {
     "data": {
      "text/plain": [
       "'The blackbox mutation-based fuzzer achieved a maximum coverage of 3 statements.'"
      ]
     },
     "execution_count": 21,
     "metadata": {},
     "output_type": "execute_result"
    }
   ],
   "source": [
    "_, blackbox_coverage = population_coverage(blackbox_fuzzer.inputs, crashme)\n",
    "bb_max_coverage = max(blackbox_coverage)\n",
    "\n",
    "\"The blackbox mutation-based fuzzer achieved a maximum coverage of %d statements.\" % bb_max_coverage"
   ]
  },
  {
   "cell_type": "markdown",
   "metadata": {
    "slideshow": {
     "slide_type": "subslide"
    }
   },
   "source": [
    "The following generated inputs increased the coverage for our `crashme` [example](#Runner-and-Sample-Program)."
   ]
  },
  {
   "cell_type": "code",
   "execution_count": 22,
   "metadata": {
    "slideshow": {
     "slide_type": "fragment"
    }
   },
   "outputs": [
    {
     "data": {
      "text/plain": [
       "['good', 'bgod']"
      ]
     },
     "execution_count": 22,
     "metadata": {},
     "output_type": "execute_result"
    }
   ],
   "source": [
    "[seed_input] + \\\n",
    "[blackbox_fuzzer.inputs[idx] for idx in range(len(blackbox_coverage)) \n",
    "    if blackbox_coverage[idx] > blackbox_coverage[idx - 1]\n",
    "]"
   ]
  },
  {
   "cell_type": "markdown",
   "metadata": {
    "slideshow": {
     "slide_type": "subslide"
    }
   },
   "source": [
    "***Summary***. This is how a blackbox mutation-based fuzzer works. We have integrated the *mutator* to generate inputs by fuzzing a provided set of initial seeds and the *power schedule* to decide which seed to choose next."
   ]
  },
  {
   "cell_type": "markdown",
   "metadata": {
    "slideshow": {
     "slide_type": "subslide"
    }
   },
   "source": [
    "### Greybox Mutation-based Fuzzer\n",
    "\n",
    "In contrast to a blackbox fuzzer, a greybox fuzzer like [AFL](http://lcamtuf.coredump.cx/afl/) _does_ leverage coverage information. Specifically, a greybox fuzzer adds to the seed population generated inputs which increase code coverage.\n",
    "\n",
    "The method `run()` is inherited from the [Fuzzer](Fuzzer.ipynb#Fuzzer-Classes) class. It is called to generate and execute exactly one input. We override this function to add an input to the `population` that increases coverage. The greybox fuzzer attribute `coverages_seen` maintains the set of statements, that have previously been covered."
   ]
  },
  {
   "cell_type": "code",
   "execution_count": 23,
   "metadata": {
    "slideshow": {
     "slide_type": "subslide"
    }
   },
   "outputs": [],
   "source": [
    "class GreyboxFuzzer(MutationFuzzer):    \n",
    "    def reset(self):\n",
    "        \"\"\"Reset the initial population, seed index, coverage information\"\"\"\n",
    "        super().reset()\n",
    "        self.coverages_seen = set()\n",
    "        self.population = [] # population is filled during greybox fuzzing\n",
    "           \n",
    "    def run(self, runner):\n",
    "        \"\"\"Run function(inp) while tracking coverage.\n",
    "           If we reach new coverage,\n",
    "           add inp to population and its coverage to population_coverage\n",
    "        \"\"\"\n",
    "        result, outcome = super().run(runner)\n",
    "        new_coverage = frozenset(runner.coverage())\n",
    "        if new_coverage not in self.coverages_seen:\n",
    "            # We have new coverage\n",
    "            seed = Seed(self.inp)\n",
    "            seed.coverage = runner.coverage()\n",
    "            self.coverages_seen.add(new_coverage)\n",
    "            self.population.append(seed)\n",
    "\n",
    "        return (result, outcome)"
   ]
  },
  {
   "cell_type": "markdown",
   "metadata": {
    "slideshow": {
     "slide_type": "subslide"
    }
   },
   "source": [
    "Let's take our greybox fuzzer for a spin."
   ]
  },
  {
   "cell_type": "code",
   "execution_count": 24,
   "metadata": {
    "slideshow": {
     "slide_type": "fragment"
    }
   },
   "outputs": [
    {
     "data": {
      "text/plain": [
       "'It took the greybox mutation-based fuzzer 1.80 seconds to generate and execute 30000 inputs.'"
      ]
     },
     "execution_count": 24,
     "metadata": {},
     "output_type": "execute_result"
    }
   ],
   "source": [
    "seed_input = \"good\"\n",
    "greybox_fuzzer = GreyboxFuzzer([seed_input], Mutator(), PowerSchedule())\n",
    "\n",
    "start = time.time()\n",
    "greybox_fuzzer.runs(FunctionCoverageRunner(crashme), trials=n)\n",
    "end = time.time()\n",
    "\n",
    "\"It took the greybox mutation-based fuzzer %0.2f seconds to generate and execute %d inputs.\" % (end - start, n)"
   ]
  },
  {
   "cell_type": "markdown",
   "metadata": {
    "slideshow": {
     "slide_type": "fragment"
    }
   },
   "source": [
    "Does the greybox fuzzer cover more statements after generating the same number of test inputs?"
   ]
  },
  {
   "cell_type": "code",
   "execution_count": 25,
   "metadata": {
    "slideshow": {
     "slide_type": "subslide"
    }
   },
   "outputs": [
    {
     "data": {
      "text/plain": [
       "'Our greybox mutation-based fuzzer covers 3 more statements'"
      ]
     },
     "execution_count": 25,
     "metadata": {},
     "output_type": "execute_result"
    }
   ],
   "source": [
    "_, greybox_coverage = population_coverage(greybox_fuzzer.inputs, crashme)\n",
    "gb_max_coverage = max(greybox_coverage)\n",
    "\n",
    "\"Our greybox mutation-based fuzzer covers %d more statements\" % (gb_max_coverage - bb_max_coverage)"
   ]
  },
  {
   "cell_type": "markdown",
   "metadata": {
    "slideshow": {
     "slide_type": "fragment"
    }
   },
   "source": [
    "Our seed population for our [example](#Runner-and-Sample-Program) now contains the following seeds."
   ]
  },
  {
   "cell_type": "code",
   "execution_count": 26,
   "metadata": {
    "slideshow": {
     "slide_type": "fragment"
    }
   },
   "outputs": [
    {
     "data": {
      "text/plain": [
       "[good, bood, baod, bad, bad!]"
      ]
     },
     "execution_count": 26,
     "metadata": {},
     "output_type": "execute_result"
    }
   ],
   "source": [
    "greybox_fuzzer.population"
   ]
  },
  {
   "cell_type": "markdown",
   "metadata": {
    "slideshow": {
     "slide_type": "fragment"
    }
   },
   "source": [
    "Coverage-feedback is indeed helpful. The new seeds are like bread crumbs or milestones that guide the fuzzer to progress more quickly into deeper code regions. Following is a simple plot showing the coverage achieved over time for both fuzzers on our simple [example](#Runner-and-Sample-Program)."
   ]
  },
  {
   "cell_type": "code",
   "execution_count": 27,
   "metadata": {
    "slideshow": {
     "slide_type": "fragment"
    }
   },
   "outputs": [],
   "source": [
    "%matplotlib inline"
   ]
  },
  {
   "cell_type": "code",
   "execution_count": 28,
   "metadata": {
    "slideshow": {
     "slide_type": "skip"
    }
   },
   "outputs": [],
   "source": [
    "import matplotlib.pyplot as plt"
   ]
  },
  {
   "cell_type": "code",
   "execution_count": 29,
   "metadata": {
    "slideshow": {
     "slide_type": "subslide"
    }
   },
   "outputs": [
    {
     "data": {
      "image/png": "[encoded data removed]",
      "text/plain": [
       "<Figure size 432x288 with 1 Axes>"
      ]
     },
     "metadata": {
      "needs_background": "light"
     },
     "output_type": "display_data"
    }
   ],
   "source": [
    "line_bb, = plt.plot(blackbox_coverage, label=\"Blackbox\")\n",
    "line_gb, = plt.plot(greybox_coverage, label=\"Greybox\")\n",
    "plt.legend(handles=[line_bb, line_gb])\n",
    "plt.title('Coverage over time')\n",
    "plt.xlabel('# of inputs')\n",
    "plt.ylabel('lines covered');"
   ]
  },
  {
   "cell_type": "markdown",
   "metadata": {
    "slideshow": {
     "slide_type": "subslide"
    }
   },
   "source": [
    "***Summary***. We have seen how a greybox fuzzer \"discovers\" interesting seeds that can lead to more progress. From the input `good`, our greybox fuzzer has slowly learned how to generate the input `bad!` which raises the exception. Now, how can we do that even faster?\n",
    "\n",
    "***Try it***. How much coverage would be achieved over time using a blackbox *generation-based* fuzzer? Try plotting the coverage for all three fuzzers. You can define the blackbox generation-based fuzzer as follows.\n",
    "```Python\n",
    "from Fuzzer import RandomFuzzer\n",
    "blackbox_gen_fuzzer = RandomFuzzer(min_length=4, max_length=4, char_start=32, char_range=96)\n",
    "```\n",
    "You can execute your own code by opening this chapter as Jupyter notebook.\n",
    "\n",
    "***Read***. This is the high-level view how AFL works, one of the most successful vulnerability detection tools. If you are interested in the technical details, have a look at: https://github.com/mirrorer/afl/blob/master/docs/technical_details.txt"
   ]
  },
  {
   "cell_type": "markdown",
   "metadata": {
    "slideshow": {
     "slide_type": "subslide"
    }
   },
   "source": [
    "### Boosted Greybox Fuzzer\n",
    "Our boosted greybox fuzzer assigns more energy to seeds that promise to achieve more coverage. We change the power schedule such that seeds that exercise \"unusual\" paths have more energy. With *unusual paths*, we mean paths that are not exercised very often by generated inputs.\n",
    "\n",
    "In order to identify which path is exercised by an input, we leverage the function `getPathID` from the section on [trace coverage](WhenIsEnough.ipynb#Trace-Coverage)."
   ]
  },
  {
   "cell_type": "code",
   "execution_count": 30,
   "metadata": {
    "slideshow": {
     "slide_type": "skip"
    }
   },
   "outputs": [],
   "source": [
    "import pickle  # serializes an object by producing a byte array from all the information in the object\n",
    "import hashlib # produces a 128-bit hash value from a byte array"
   ]
  },
  {
   "cell_type": "markdown",
   "metadata": {
    "slideshow": {
     "slide_type": "fragment"
    }
   },
   "source": [
    "The function `getPathID` returns a unique hash for a coverage set."
   ]
  },
  {
   "cell_type": "code",
   "execution_count": 31,
   "metadata": {
    "slideshow": {
     "slide_type": "fragment"
    }
   },
   "outputs": [],
   "source": [
    "def getPathID(coverage):\n",
    "    \"\"\"Returns a unique hash for the covered statements\"\"\"\n",
    "    pickled = pickle.dumps(coverage)\n",
    "    return hashlib.md5(pickled).hexdigest()"
   ]
  },
  {
   "cell_type": "markdown",
   "metadata": {
    "slideshow": {
     "slide_type": "subslide"
    }
   },
   "source": [
    "There are several ways to assign energy based on how unusual the exercised path is. In this case, we implement an exponential power schedule which computes the energy $e(s)$ for a seed $s$ as follows\n",
    "$$e(s) = \\frac{1}{f(p(s))^a}$$\n",
    "where \n",
    "* $p(s)$ returns the ID of the path exercised by $s$, \n",
    "* $f(p)$ returns the number of times the path $p$ is exercised by generated inputs, and \n",
    "* $a$ is a given exponent."
   ]
  },
  {
   "cell_type": "code",
   "execution_count": 32,
   "metadata": {
    "slideshow": {
     "slide_type": "subslide"
    }
   },
   "outputs": [],
   "source": [
    "class AFLFastSchedule(PowerSchedule): \n",
    "    def __init__(self, exponent):\n",
    "        self.exponent = exponent\n",
    "            \n",
    "    def assignEnergy(self, population):\n",
    "        \"\"\"Assign exponential energy inversely proportional to path frequency\"\"\"\n",
    "        for seed in population:\n",
    "            seed.energy = 1 / (self.path_frequency[getPathID(seed.coverage)] ** self.exponent)"
   ]
  },
  {
   "cell_type": "markdown",
   "metadata": {
    "slideshow": {
     "slide_type": "fragment"
    }
   },
   "source": [
    "In the greybox fuzzer, lets keep track of the number of times $f(p)$ each path $p$ is exercised, and update the power schedule."
   ]
  },
  {
   "cell_type": "code",
   "execution_count": 33,
   "metadata": {
    "slideshow": {
     "slide_type": "subslide"
    }
   },
   "outputs": [],
   "source": [
    "class CountingGreyboxFuzzer(GreyboxFuzzer):\n",
    "    def reset(self):\n",
    "        \"\"\"Reset path frequency\"\"\"\n",
    "        super().reset()\n",
    "        self.schedule.path_frequency = {}\n",
    "    \n",
    "    def run(self, runner):\n",
    "        \"\"\"Inform scheduler about path frequency\"\"\"\n",
    "        result, outcome = super().run(runner)\n",
    "\n",
    "        path_id = getPathID(runner.coverage())\n",
    "        if not path_id in self.schedule.path_frequency:\n",
    "            self.schedule.path_frequency[path_id] = 1\n",
    "        else:\n",
    "            self.schedule.path_frequency[path_id] += 1\n",
    "            \n",
    "        return(result, outcome)"
   ]
  },
  {
   "cell_type": "markdown",
   "metadata": {
    "slideshow": {
     "slide_type": "subslide"
    }
   },
   "source": [
    "Okay, lets run our boosted greybox fuzzer $n=10k$ times on our simple [example](#Runner-and-Sample-Program). We set the exponentent of our exponential power schedule to $a=5$."
   ]
  },
  {
   "cell_type": "code",
   "execution_count": 34,
   "metadata": {
    "slideshow": {
     "slide_type": "fragment"
    }
   },
   "outputs": [
    {
     "data": {
      "text/plain": [
       "'It took the fuzzer w/ exponential schedule 0.97 seconds to generate and execute 10000 inputs.'"
      ]
     },
     "execution_count": 34,
     "metadata": {},
     "output_type": "execute_result"
    }
   ],
   "source": [
    "n = 10000\n",
    "seed_input = \"good\"\n",
    "fast_schedule = AFLFastSchedule(5)\n",
    "fast_fuzzer = CountingGreyboxFuzzer([seed_input], Mutator(), fast_schedule)\n",
    "start = time.time()\n",
    "fast_fuzzer.runs(FunctionCoverageRunner(crashme), trials=n)\n",
    "end = time.time()\n",
    "\n",
    "\"It took the fuzzer w/ exponential schedule %0.2f seconds to generate and execute %d inputs.\" % (end - start, n)"
   ]
  },
  {
   "cell_type": "code",
   "execution_count": 35,
   "metadata": {
    "slideshow": {
     "slide_type": "subslide"
    }
   },
   "outputs": [
    {
     "data": {
      "image/png": "[encoded data removed]",
      "text/plain": [
       "<Figure size 432x288 with 1 Axes>"
      ]
     },
     "metadata": {
      "needs_background": "light"
     },
     "output_type": "display_data"
    }
   ],
   "source": [
    "x_axis = np.arange(len(fast_schedule.path_frequency))\n",
    "y_axis = list(fast_schedule.path_frequency.values())\n",
    "\n",
    "plt.bar(x_axis, y_axis)\n",
    "plt.xticks(x_axis)\n",
    "plt.ylim(0, n)\n",
    "#plt.yscale(\"log\")\n",
    "#plt.yticks([10,100,1000,10000])\n",
    "plt;"
   ]
  },
  {
   "cell_type": "code",
   "execution_count": 36,
   "metadata": {
    "slideshow": {
     "slide_type": "subslide"
    }
   },
   "outputs": [
    {
     "name": "stdout",
     "output_type": "stream",
     "text": [
      "             path id 'p'           : path frequency 'f(p)'\n"
     ]
    },
    {
     "data": {
      "text/plain": [
       "{'433820a523734f396b85b441473120c8': 5972,\n",
       " '6c334070f50773b348478ee7157c2e8c': 2523,\n",
       " '3c8caa79da3b91bbd36ed008a30bbd4f': 969,\n",
       " '7c4e85b27f1b9140ea594da60da5f7d5': 450,\n",
       " '2b70bbb3e0cff1576075991cb63fd039': 86}"
      ]
     },
     "execution_count": 36,
     "metadata": {},
     "output_type": "execute_result"
    }
   ],
   "source": [
    "print(\"             path id 'p'           : path frequency 'f(p)'\")\n",
    "fast_schedule.path_frequency"
   ]
  },
  {
   "cell_type": "markdown",
   "metadata": {
    "slideshow": {
     "slide_type": "fragment"
    }
   },
   "source": [
    "How does it compare to our greybox fuzzer with the classical power schedule?"
   ]
  },
  {
   "cell_type": "code",
   "execution_count": 37,
   "metadata": {
    "slideshow": {
     "slide_type": "subslide"
    }
   },
   "outputs": [
    {
     "data": {
      "text/plain": [
       "'It took the fuzzer w/ original schedule 0.80 seconds to generate and execute 10000 inputs.'"
      ]
     },
     "execution_count": 37,
     "metadata": {},
     "output_type": "execute_result"
    }
   ],
   "source": [
    "seed_input = \"good\"\n",
    "orig_schedule = PowerSchedule()\n",
    "orig_fuzzer = CountingGreyboxFuzzer([seed_input], Mutator(), orig_schedule)\n",
    "start = time.time()\n",
    "orig_fuzzer.runs(FunctionCoverageRunner(crashme), trials=n)\n",
    "end = time.time()\n",
    "\n",
    "\"It took the fuzzer w/ original schedule %0.2f seconds to generate and execute %d inputs.\" % (end - start, n)"
   ]
  },
  {
   "cell_type": "code",
   "execution_count": 38,
   "metadata": {
    "slideshow": {
     "slide_type": "subslide"
    }
   },
   "outputs": [
    {
     "data": {
      "image/png": "[encoded data removed]",
      "text/plain": [
       "<Figure size 432x288 with 1 Axes>"
      ]
     },
     "metadata": {
      "needs_background": "light"
     },
     "output_type": "display_data"
    }
   ],
   "source": [
    "x_axis = np.arange(len(orig_schedule.path_frequency))\n",
    "y_axis = list(orig_schedule.path_frequency.values())\n",
    "\n",
    "plt.bar(x_axis, y_axis)\n",
    "plt.xticks(x_axis)\n",
    "plt.ylim(0, n)\n",
    "#plt.yscale(\"log\")\n",
    "#plt.yticks([10,100,1000,10000])\n",
    "plt;"
   ]
  },
  {
   "cell_type": "code",
   "execution_count": 39,
   "metadata": {
    "slideshow": {
     "slide_type": "subslide"
    }
   },
   "outputs": [
    {
     "name": "stdout",
     "output_type": "stream",
     "text": [
      "             path id 'p'           : path frequency 'f(p)'\n"
     ]
    },
    {
     "data": {
      "text/plain": [
       "{'433820a523734f396b85b441473120c8': 6718,\n",
       " '6c334070f50773b348478ee7157c2e8c': 2274,\n",
       " '3c8caa79da3b91bbd36ed008a30bbd4f': 704,\n",
       " '7c4e85b27f1b9140ea594da60da5f7d5': 248,\n",
       " '2b70bbb3e0cff1576075991cb63fd039': 56}"
      ]
     },
     "execution_count": 39,
     "metadata": {},
     "output_type": "execute_result"
    }
   ],
   "source": [
    "print(\"             path id 'p'           : path frequency 'f(p)'\")\n",
    "orig_schedule.path_frequency"
   ]
  },
  {
   "cell_type": "markdown",
   "metadata": {
    "slideshow": {
     "slide_type": "subslide"
    }
   },
   "source": [
    "The exponential power schedule shaves some of the executions of the \"high-frequency path\" off and adds them to the lower-frequency paths. The path executed least often is either not at all exercised using the traditional power schedule or it is exercised much less often.\n",
    "\n",
    "Let's have a look at the energy that is assigned to the discovered seeds."
   ]
  },
  {
   "cell_type": "code",
   "execution_count": 40,
   "metadata": {
    "slideshow": {
     "slide_type": "subslide"
    }
   },
   "outputs": [
    {
     "name": "stdout",
     "output_type": "stream",
     "text": [
      "'433820a523734f396b85b441473120c8', 0.20000, 'good'\n",
      "'6c334070f50773b348478ee7157c2e8c', 0.20000, 'bIgoodS9'\n",
      "'3c8caa79da3b91bbd36ed008a30bbd4f', 0.20000, 'baivgodS9'\n",
      "'7c4e85b27f1b9140ea594da60da5f7d5', 0.20000, 'badiOvxgodS9'\n",
      "'2b70bbb3e0cff1576075991cb63fd039', 0.20000, 'bad!pod;'\n"
     ]
    }
   ],
   "source": [
    "orig_energy = orig_schedule.normalizedEnergy(orig_fuzzer.population)\n",
    "\n",
    "for (seed, norm_energy) in zip(orig_fuzzer.population, orig_energy):\n",
    "    print(\"'%s', %0.5f, %s\" % (getPathID(seed.coverage), norm_energy, repr(seed.data)))"
   ]
  },
  {
   "cell_type": "code",
   "execution_count": 41,
   "metadata": {
    "slideshow": {
     "slide_type": "subslide"
    }
   },
   "outputs": [
    {
     "name": "stdout",
     "output_type": "stream",
     "text": [
      "'433820a523734f396b85b441473120c8', 0.00000, 'good'\n",
      "'6c334070f50773b348478ee7157c2e8c', 0.00000, 'bgiOot'\n",
      "'3c8caa79da3b91bbd36ed008a30bbd4f', 0.00001, 'baO'\n",
      "'7c4e85b27f1b9140ea594da60da5f7d5', 0.00025, 'badtM'\n",
      "'2b70bbb3e0cff1576075991cb63fd039', 0.99974, 'bad!M'\n"
     ]
    }
   ],
   "source": [
    "fast_energy = fast_schedule.normalizedEnergy(fast_fuzzer.population)\n",
    "\n",
    "for (seed, norm_energy) in zip(fast_fuzzer.population, fast_energy):\n",
    "    print(\"'%s', %0.5f, %s\" % (getPathID(seed.coverage), norm_energy, repr(seed.data)))"
   ]
  },
  {
   "cell_type": "markdown",
   "metadata": {
    "slideshow": {
     "slide_type": "subslide"
    }
   },
   "source": [
    "Exactly. Our new exponential power schedule assigns most energy to the seed exercising the lowest-frequency path.\n",
    "\n",
    "Let's compare them in terms of coverage achieved over time for our simple [example](#Runner-and-Sample-Program)."
   ]
  },
  {
   "cell_type": "code",
   "execution_count": 42,
   "metadata": {
    "slideshow": {
     "slide_type": "fragment"
    }
   },
   "outputs": [
    {
     "data": {
      "image/png": "[encoded data removed]",
      "text/plain": [
       "<Figure size 432x288 with 1 Axes>"
      ]
     },
     "metadata": {
      "needs_background": "light"
     },
     "output_type": "display_data"
    }
   ],
   "source": [
    "_, orig_coverage = population_coverage(orig_fuzzer.inputs, crashme)\n",
    "_, fast_coverage = population_coverage(fast_fuzzer.inputs, crashme)\n",
    "line_orig, = plt.plot(orig_coverage, label=\"Original Greybox Fuzzer\")\n",
    "line_fast, = plt.plot(fast_coverage, label=\"Boosted Greybox Fuzzer\")\n",
    "plt.legend(handles=[line_orig, line_fast])\n",
    "plt.title('Coverage over time')\n",
    "plt.xlabel('# of inputs')\n",
    "plt.ylabel('lines covered');"
   ]
  },
  {
   "cell_type": "markdown",
   "metadata": {
    "slideshow": {
     "slide_type": "subslide"
    }
   },
   "source": [
    "As expected, the boosted greybox fuzzer (with the exponential power schedule) achieves coverage much faster.\n",
    "\n",
    "***Summary***. By fuzzing seeds more often that exercise low-frequency paths, we can explore program paths in a much more efficient manner.\n",
    "\n",
    "***Try it***. You can try other exponents for the fast power schedule, or change the power schedule entirely. Note that a large exponent can lead to overflows and imprecisions in the floating point arithmetic producing unexpected results. You can execute your own code by opening this chapter as Jupyter notebook.\n",
    "\n",
    "***Read***. You can find out more about fuzzer boosting in the paper \"[Coverage-based Greybox Fuzzing as Markov Chain](https://mboehme.github.io/paper/CCS16.pdf)\" \\cite{boehme2018greybox} and check out the implementation into AFL at [http://github.com/mboehme/aflfast]."
   ]
  },
  {
   "cell_type": "markdown",
   "metadata": {
    "slideshow": {
     "slide_type": "subslide"
    }
   },
   "source": [
    "### Complex Example: XMLParser\n",
    "Let's compare the three fuzzers on a more realistic example, the Python [HTML parser](https://docs.python.org/3/library/html.parser.html). We run all three fuzzers $n=5k$ times on the HTMLParser, starting with the \"empty\" seed."
   ]
  },
  {
   "cell_type": "code",
   "execution_count": 43,
   "metadata": {
    "slideshow": {
     "slide_type": "skip"
    }
   },
   "outputs": [],
   "source": [
    "from html.parser import HTMLParser\n",
    "import traceback"
   ]
  },
  {
   "cell_type": "code",
   "execution_count": 44,
   "metadata": {
    "slideshow": {
     "slide_type": "fragment"
    }
   },
   "outputs": [],
   "source": [
    "# create wrapper function\n",
    "def my_parser(inp):\n",
    "    parser = HTMLParser()  # resets the HTMLParser object for every fuzz input\n",
    "    parser.feed(inp)\n",
    "\n",
    "n = 5000\n",
    "seed_input = \" \" # empty seed\n",
    "blackbox_fuzzer = MutationFuzzer([seed_input], Mutator(), PowerSchedule())\n",
    "greybox_fuzzer  = GreyboxFuzzer([seed_input], Mutator(), PowerSchedule())\n",
    "boosted_fuzzer  = CountingGreyboxFuzzer([seed_input], Mutator(), AFLFastSchedule(5))"
   ]
  },
  {
   "cell_type": "code",
   "execution_count": 45,
   "metadata": {
    "slideshow": {
     "slide_type": "subslide"
    }
   },
   "outputs": [
    {
     "data": {
      "text/plain": [
       "'It took all three fuzzers 18.14 seconds to generate and execute 5000 inputs.'"
      ]
     },
     "execution_count": 45,
     "metadata": {},
     "output_type": "execute_result"
    }
   ],
   "source": [
    "start = time.time()\n",
    "blackbox_fuzzer.runs(FunctionCoverageRunner(my_parser), trials=n)\n",
    "greybox_fuzzer.runs(FunctionCoverageRunner(my_parser), trials=n)\n",
    "boosted_fuzzer.runs(FunctionCoverageRunner(my_parser), trials=n)\n",
    "end = time.time()\n",
    "\n",
    "\"It took all three fuzzers %0.2f seconds to generate and execute %d inputs.\" % (end - start, n)"
   ]
  },
  {
   "cell_type": "markdown",
   "metadata": {
    "slideshow": {
     "slide_type": "fragment"
    }
   },
   "source": [
    "How do the fuzzers compare in terms of coverage over time?"
   ]
  },
  {
   "cell_type": "code",
   "execution_count": 46,
   "metadata": {
    "slideshow": {
     "slide_type": "subslide"
    }
   },
   "outputs": [
    {
     "data": {
      "image/png": "[encoded data removed]",
      "text/plain": [
       "<Figure size 432x288 with 1 Axes>"
      ]
     },
     "metadata": {
      "needs_background": "light"
     },
     "output_type": "display_data"
    }
   ],
   "source": [
    "_, black_coverage = population_coverage(blackbox_fuzzer.inputs, my_parser)\n",
    "_, grey_coverage = population_coverage(greybox_fuzzer.inputs, my_parser)\n",
    "_, boost_coverage = population_coverage(boosted_fuzzer.inputs, my_parser)\n",
    "line_black, = plt.plot(black_coverage, label=\"Blackbox Fuzzer\")\n",
    "line_grey, = plt.plot(grey_coverage, label=\"Greybox Fuzzer\")\n",
    "line_boost, = plt.plot(boost_coverage, label=\"Boosted Greybox Fuzzer\")\n",
    "plt.legend(handles=[line_boost, line_grey, line_black])\n",
    "plt.title('Coverage over time')\n",
    "plt.xlabel('# of inputs')\n",
    "plt.ylabel('lines covered');"
   ]
  },
  {
   "cell_type": "markdown",
   "metadata": {
    "slideshow": {
     "slide_type": "fragment"
    }
   },
   "source": [
    "Both greybox fuzzers clearly outperform the greybox fuzzer. The reason is that the greybox fuzzer \"discovers\" interesting inputs along the way. Let's have a look at the last 10 inputs generated by the greybox versus blackbox fuzzer."
   ]
  },
  {
   "cell_type": "code",
   "execution_count": 47,
   "metadata": {
    "slideshow": {
     "slide_type": "subslide"
    }
   },
   "outputs": [
    {
     "data": {
      "text/plain": [
       "['', '`', '\"', '9 ', '', '$', '', '(', ' o', '\"']"
      ]
     },
     "execution_count": 47,
     "metadata": {},
     "output_type": "execute_result"
    }
   ],
   "source": [
    "blackbox_fuzzer.inputs[-10:]"
   ]
  },
  {
   "cell_type": "code",
   "execution_count": 48,
   "metadata": {
    "slideshow": {
     "slide_type": "fragment"
    }
   },
   "outputs": [
    {
     "data": {
      "text/plain": [
       "['<YW',\n",
       " 'h&S\\x1b<}\\\\',\n",
       " 'B\\tD\\x04<&u+Se',\n",
       " 'E\\x04<+j',\n",
       " 'Ct_o\\x16Cv8Iw>?K$t7n<<&\\\\',\n",
       " '$\\x08<',\n",
       " 'ou@/:X2#Djg>Xs#e',\n",
       " \"P!I- <I+\\\\a\\\\'1G\\x15>-w&>\",\n",
       " 'gtA;l|\\\\',\n",
       " \"'`_W{<E G}4hE3\\n>\"]"
      ]
     },
     "execution_count": 48,
     "metadata": {},
     "output_type": "execute_result"
    }
   ],
   "source": [
    "greybox_fuzzer.inputs[-10:]"
   ]
  },
  {
   "cell_type": "markdown",
   "metadata": {
    "slideshow": {
     "slide_type": "subslide"
    }
   },
   "source": [
    "The greybox fuzzer executes much more complicated inputs, many of which include special characters such as opening and closing brackets and chevrons (i.e., `<, >, [, ]`). Yet, many important keywords, such as `<html>` are still missing. \n",
    "\n",
    "To inform the fuzzer about these important keywords, we will need [grammars](Grammars.ipynb); in the section on [smart greybox fuzzing](LangFuzzer.ipynb), we combine them with the techniques above.\n",
    "\n",
    "***Try it***. You can re-run these experiments to understand the variance of fuzzing experiments. Sometimes, the fuzzer that we claim to be superior does not seem to outperform the inferior fuzzer. In order to do this, you just need to open this chapter as Jupyter notebook."
   ]
  },
  {
   "cell_type": "markdown",
   "metadata": {
    "slideshow": {
     "slide_type": "slide"
    }
   },
   "source": [
    "## Directed Greybox Fuzzing\n",
    "Sometimes, you just want the fuzzer to reach some dangerous location in the source code. This could be a location, where you expect a buffer overflow. Or you want to test a recent change in your code base. How do we direct the fuzzer towards these locations?\n",
    "\n",
    "In this chapter, we introduce directed greybox fuzzing as an optimization problem."
   ]
  },
  {
   "cell_type": "markdown",
   "metadata": {
    "slideshow": {
     "slide_type": "subslide"
    }
   },
   "source": [
    "### Solving the Maze\n",
    "To provide a meaningful example where you can easily change the code complexity and target location, we generate the maze source code from the maze provided as string. This example is loosly based on an old [blog post](https://feliam.wordpress.com/2010/10/07/the-symbolic-maze/) on symbolic execution by Felipe Andres Manzano (Quick shout-out!).\n",
    "\n",
    "You simply specify the maze as a string. Like so."
   ]
  },
  {
   "cell_type": "code",
   "execution_count": 49,
   "metadata": {
    "slideshow": {
     "slide_type": "subslide"
    }
   },
   "outputs": [],
   "source": [
    "maze_string = \"\"\"\n",
    "+-+-----+\n",
    "|X|     |\n",
    "| | --+ |\n",
    "| |   | |\n",
    "| +-- | |\n",
    "|     |#|\n",
    "+-----+-+\n",
    "\"\"\""
   ]
  },
  {
   "cell_type": "markdown",
   "metadata": {
    "slideshow": {
     "slide_type": "fragment"
    }
   },
   "source": [
    "The code is generated using the function `generate_maze_code`. We'll hide the implementation and instead explain what it does. If you are interested in the coding, go [here](ControlFlow.ipynb#Example:-Maze)."
   ]
  },
  {
   "cell_type": "code",
   "execution_count": 50,
   "metadata": {
    "slideshow": {
     "slide_type": "skip"
    }
   },
   "outputs": [],
   "source": [
    "from ControlFlow import generate_maze_code"
   ]
  },
  {
   "cell_type": "code",
   "execution_count": 51,
   "metadata": {
    "slideshow": {
     "slide_type": "fragment"
    }
   },
   "outputs": [],
   "source": [
    "maze_code = generate_maze_code(maze_string)\n",
    "exec(maze_code)"
   ]
  },
  {
   "cell_type": "markdown",
   "metadata": {
    "slideshow": {
     "slide_type": "subslide"
    }
   },
   "source": [
    "The objective is to get the \"X\" to the \"#\" by providing inputs `D` for down, `U` for up, `L` for left, and `R` for right."
   ]
  },
  {
   "cell_type": "code",
   "execution_count": 52,
   "metadata": {
    "slideshow": {
     "slide_type": "fragment"
    }
   },
   "outputs": [
    {
     "name": "stdout",
     "output_type": "stream",
     "text": [
      "SOLVED\n",
      "\n",
      "+-+-----+\n",
      "| |     |\n",
      "| | --+ |\n",
      "| |   | |\n",
      "| +-- | |\n",
      "|     |X|\n",
      "+-----+-+\n",
      "\n"
     ]
    }
   ],
   "source": [
    "print(maze(\"DDDDRRRRUULLUURRRRDDDD\")) # Appending one more 'D', you have reached the target."
   ]
  },
  {
   "cell_type": "markdown",
   "metadata": {
    "slideshow": {
     "slide_type": "subslide"
    }
   },
   "source": [
    "Each character in `maze_string` represents a tile. For each tile, a tile-function is generated. \n",
    "* If the current tile is \"benign\" (` `), the tile-function corresponding to the next input character (D, U, L, R) is called. Unexpected input characters are ignored. If no more input characters are left, it returns \"VALID\" and the current maze state.\n",
    "* If the current tile is a \"trap\" (`+`,`|`,`-`), it returns \"INVALID\" and the current maze state.\n",
    "* If the current tile is the \"target\" (`#`), it returns \"SOLVED\" and the current maze state.\n",
    "\n",
    "***Try it***. You can test other sequences of input characters, or even change the maze entirely. In order to execute your own code, you just need to open this chapter as Jupyter notebook.\n",
    "\n",
    "To get an idea of the generated code, lets look at the static [call graph](https://en.wikipedia.org/wiki/Call_graph). A call graph shows the order in which functions can be executed."
   ]
  },
  {
   "cell_type": "code",
   "execution_count": 53,
   "metadata": {
    "slideshow": {
     "slide_type": "skip"
    }
   },
   "outputs": [],
   "source": [
    "from ControlFlow import callgraph"
   ]
  },
  {
   "cell_type": "code",
   "execution_count": 54,
   "metadata": {
    "slideshow": {
     "slide_type": "subslide"
    }
   },
   "outputs": [
    {
     "data": {
      "image/svg+xml": [
       "<?xml version=\"1.0\" encoding=\"UTF-8\" standalone=\"no\"?>\n",
       "<!DOCTYPE svg PUBLIC \"-//W3C//DTD SVG 1.1//EN\"\n",
       " \"http://www.w3.org/Graphics/SVG/1.1/DTD/svg11.dtd\">\n",
       "<!-- Generated by graphviz version 2.40.1 (20161225.0304)\n",
       " -->\n",
       "<!-- Title: G Pages: 1 -->\n",
       "<svg width=\"3826pt\" height=\"2287pt\"\n",
       " viewBox=\"0.00 0.00 3826.00 2286.50\" xmlns=\"http://www.w3.org/2000/svg\" xmlns:xlink=\"http://www.w3.org/1999/xlink\">\n",
       "<g id=\"graph0\" class=\"graph\" transform=\"scale(1 1) rotate(0) translate(4 2282.5029)\">\n",
       "<title>G</title>\n",
       "<polygon fill=\"#ffffff\" stroke=\"transparent\" points=\"-4,4 -4,-2282.5029 3822,-2282.5029 3822,4 -4,4\"/>\n",
       "<g id=\"clust1\" class=\"cluster\">\n",
       "<title>cluster_G</title>\n",
       "<path fill=\"#808080\" fill-opacity=\"0.094118\" stroke=\"#000000\" d=\"M20,-8C20,-8 3798,-8 3798,-8 3804,-8 3810,-14 3810,-20 3810,-20 3810,-2258.5029 3810,-2258.5029 3810,-2264.5029 3804,-2270.5029 3798,-2270.5029 3798,-2270.5029 20,-2270.5029 20,-2270.5029 14,-2270.5029 8,-2264.5029 8,-2258.5029 8,-2258.5029 8,-20 8,-20 8,-14 14,-8 20,-8\"/>\n",
       "</g>\n",
       "<g id=\"clust2\" class=\"cluster\">\n",
       "<title>cluster_callgraphX</title>\n",
       "<path fill=\"#808080\" fill-opacity=\"0.094118\" stroke=\"#000000\" d=\"M40,-16C40,-16 3692,-16 3692,-16 3698,-16 3704,-22 3704,-28 3704,-28 3704,-2250.5029 3704,-2250.5029 3704,-2256.5029 3698,-2262.5029 3692,-2262.5029 3692,-2262.5029 40,-2262.5029 40,-2262.5029 34,-2262.5029 28,-2256.5029 28,-2250.5029 28,-2250.5029 28,-28 28,-28 28,-22 34,-16 40,-16\"/>\n",
       "<text text-anchor=\"middle\" x=\"1866\" y=\"-2247.3029\" font-family=\"Times,serif\" font-size=\"14.00\" fill=\"#000000\">callgraph</text>\n",
       "</g>\n",
       "<!-- callgraphX -->\n",
       "<g id=\"node1\" class=\"node\">\n",
       "<title>callgraphX</title>\n",
       "<ellipse fill=\"#ffffff\" fill-opacity=\"0.698039\" stroke=\"#000000\" cx=\"3757\" cy=\"-1935.4125\" rx=\"44.6926\" ry=\"18\"/>\n",
       "<text text-anchor=\"middle\" x=\"3757\" y=\"-1931.7125\" font-family=\"Times,serif\" font-size=\"14.00\" fill=\"#000000\">callgraph</text>\n",
       "</g>\n",
       "<!-- callgraphX__maze -->\n",
       "<g id=\"node2\" class=\"node\">\n",
       "<title>callgraphX__maze</title>\n",
       "<ellipse fill=\"#fecccc\" fill-opacity=\"0.698039\" stroke=\"#000000\" cx=\"1970\" cy=\"-2204.6328\" rx=\"79.8063\" ry=\"26.7407\"/>\n",
       "<text text-anchor=\"middle\" x=\"1970\" y=\"-2208.4328\" font-family=\"Times,serif\" font-size=\"14.00\" fill=\"#000000\">maze</text>\n",
       "<text text-anchor=\"middle\" x=\"1970\" y=\"-2193.4328\" font-family=\"Times,serif\" font-size=\"14.00\" fill=\"#000000\">(callgraph.py:84)</text>\n",
       "</g>\n",
       "<!-- callgraphX&#45;&gt;callgraphX__maze -->\n",
       "<g id=\"edge8\" class=\"edge\">\n",
       "<title>callgraphX&#45;&gt;callgraphX__maze</title>\n",
       "<path fill=\"none\" stroke=\"#838b8b\" stroke-dasharray=\"5,2\" d=\"M3732.868,-1950.9083C3725.1839,-1955.214 3716.4726,-1959.4742 3708,-1962.2825 3394.4539,-2066.2125 2365.0395,-2167.9633 2057.5128,-2196.6543\"/>\n",
       "<polygon fill=\"#838b8b\" stroke=\"#838b8b\" points=\"2056.9481,-2193.1917 2047.3156,-2197.6036 2057.597,-2200.1615 2056.9481,-2193.1917\"/>\n",
       "</g>\n",
       "<!-- callgraphX__print_maze -->\n",
       "<g id=\"node3\" class=\"node\">\n",
       "<title>callgraphX__print_maze</title>\n",
       "<ellipse fill=\"#fecccc\" fill-opacity=\"0.698039\" stroke=\"#000000\" cx=\"1267\" cy=\"-50.8701\" rx=\"74.9067\" ry=\"26.7407\"/>\n",
       "<text text-anchor=\"middle\" x=\"1267\" y=\"-54.6701\" font-family=\"Times,serif\" font-size=\"14.00\" fill=\"#000000\">print_maze</text>\n",
       "<text text-anchor=\"middle\" x=\"1267\" y=\"-39.6701\" font-family=\"Times,serif\" font-size=\"14.00\" fill=\"#000000\">(callgraph.py:2)</text>\n",
       "</g>\n",
       "<!-- callgraphX&#45;&gt;callgraphX__print_maze -->\n",
       "<g id=\"edge23\" class=\"edge\">\n",
       "<title>callgraphX&#45;&gt;callgraphX__print_maze</title>\n",
       "<path fill=\"none\" stroke=\"#838b8b\" stroke-dasharray=\"5,2\" d=\"M3753.4851,-1917.4064C3747.5069,-1885.1643 3736,-1815.3828 3736,-1755.9322 3736,-1755.9322 3736,-1755.9322 3736,-230.3503 3736,-176.7234 3747.088,-146.9732 3705,-113.7401 3657.8612,-76.5189 1777.905,-55.8788 1352.1289,-51.6762\"/>\n",
       "<polygon fill=\"#838b8b\" stroke=\"#838b8b\" points=\"1352.0778,-48.1756 1342.0439,-51.5771 1352.0089,-55.1753 1352.0778,-48.1756\"/>\n",
       "</g>\n",
       "<!-- callgraphX__target_tile -->\n",
       "<g id=\"node4\" class=\"node\">\n",
       "<title>callgraphX__target_tile</title>\n",
       "<ellipse fill=\"#fecccc\" fill-opacity=\"0.698039\" stroke=\"#000000\" cx=\"3611\" cy=\"-2204.6328\" rx=\"84.7059\" ry=\"26.7407\"/>\n",
       "<text text-anchor=\"middle\" x=\"3611\" y=\"-2208.4328\" font-family=\"Times,serif\" font-size=\"14.00\" fill=\"#000000\">target_tile</text>\n",
       "<text text-anchor=\"middle\" x=\"3611\" y=\"-2193.4328\" font-family=\"Times,serif\" font-size=\"14.00\" fill=\"#000000\">(callgraph.py:358)</text>\n",
       "</g>\n",
       "<!-- callgraphX&#45;&gt;callgraphX__target_tile -->\n",
       "<g id=\"edge38\" class=\"edge\">\n",
       "<title>callgraphX&#45;&gt;callgraphX__target_tile</title>\n",
       "<path fill=\"none\" stroke=\"#838b8b\" stroke-dasharray=\"5,2\" d=\"M3747.3145,-1953.2722C3723.5405,-1997.111 3661.9475,-2110.6869 3630.3381,-2168.9739\"/>\n",
       "<polygon fill=\"#838b8b\" stroke=\"#838b8b\" points=\"3627.2233,-2167.3756 3625.5328,-2177.8347 3633.3767,-2170.7127 3627.2233,-2167.3756\"/>\n",
       "</g>\n",
       "<!-- callgraphX__tile_1_0 -->\n",
       "<g id=\"node5\" class=\"node\">\n",
       "<title>callgraphX__tile_1_0</title>\n",
       "<ellipse fill=\"#fecccc\" fill-opacity=\"0.698039\" stroke=\"#000000\" cx=\"3616\" cy=\"-140.6102\" rx=\"79.8063\" ry=\"26.7407\"/>\n",
       "<text text-anchor=\"middle\" x=\"3616\" y=\"-144.4102\" font-family=\"Times,serif\" font-size=\"14.00\" fill=\"#000000\">tile_1_0</text>\n",
       "<text text-anchor=\"middle\" x=\"3616\" y=\"-129.4102\" font-family=\"Times,serif\" font-size=\"14.00\" fill=\"#000000\">(callgraph.py:26)</text>\n",
       "</g>\n",
       "<!-- callgraphX&#45;&gt;callgraphX__tile_1_0 -->\n",
       "<g id=\"edge28\" class=\"edge\">\n",
       "<title>callgraphX&#45;&gt;callgraphX__tile_1_0</title>\n",
       "<path fill=\"none\" stroke=\"#838b8b\" stroke-dasharray=\"5,2\" d=\"M3748.1916,-1917.6938C3742.4188,-1905.333 3735.1909,-1888.2943 3731,-1872.5424 3717.5649,-1822.0453 3716,-1808.186 3716,-1755.9322 3716,-1755.9322 3716,-1755.9322 3716,-320.0904 3716,-267.6499 3724.7327,-248.5953 3698,-203.4802 3690.1984,-190.314 3678.4899,-178.9409 3666.345,-169.6281\"/>\n",
       "<polygon fill=\"#838b8b\" stroke=\"#838b8b\" points=\"3668.0605,-166.5488 3657.9098,-163.5132 3663.9519,-172.2163 3668.0605,-166.5488\"/>\n",
       "</g>\n",
       "<!-- callgraphX__tile_1_1 -->\n",
       "<g id=\"node6\" class=\"node\">\n",
       "<title>callgraphX__tile_1_1</title>\n",
       "<ellipse fill=\"#fecccc\" fill-opacity=\"0.698039\" stroke=\"#000000\" cx=\"1858\" cy=\"-1217.4916\" rx=\"79.8063\" ry=\"26.7407\"/>\n",
       "<text text-anchor=\"middle\" x=\"1858\" y=\"-1221.2916\" font-family=\"Times,serif\" font-size=\"14.00\" fill=\"#000000\">tile_1_1</text>\n",
       "<text text-anchor=\"middle\" x=\"1858\" y=\"-1206.2916\" font-family=\"Times,serif\" font-size=\"14.00\" fill=\"#000000\">(callgraph.py:31)</text>\n",
       "</g>\n",
       "<!-- callgraphX&#45;&gt;callgraphX__tile_1_1 -->\n",
       "<g id=\"edge33\" class=\"edge\">\n",
       "<title>callgraphX&#45;&gt;callgraphX__tile_1_1</title>\n",
       "<path fill=\"none\" stroke=\"#838b8b\" stroke-dasharray=\"5,2\" d=\"M3734.0305,-1919.9293C3726.119,-1915.3984 3716.9827,-1911.0043 3708,-1908.5424 3650.2625,-1892.7183 2677.0798,-1910.7613 2631,-1872.5424 2590.1291,-1838.6438 2605,-1809.0316 2605,-1755.9322 2605,-1755.9322 2605,-1755.9322 2605,-1396.9718 2605,-1344.915 2631.5186,-1316.4486 2594,-1280.3616 2541.7081,-1230.065 2013.3515,-1257.5207 1942,-1244.3616 1935.6759,-1243.1953 1929.1659,-1241.6884 1922.7013,-1239.9841\"/>\n",
       "<polygon fill=\"#838b8b\" stroke=\"#838b8b\" points=\"1923.1862,-1236.4855 1912.6131,-1237.164 1921.3016,-1243.2271 1923.1862,-1236.4855\"/>\n",
       "</g>\n",
       "<!-- callgraphX__tile_1_2 -->\n",
       "<g id=\"node7\" class=\"node\">\n",
       "<title>callgraphX__tile_1_2</title>\n",
       "<ellipse fill=\"#fecccc\" fill-opacity=\"0.698039\" stroke=\"#000000\" cx=\"2498\" cy=\"-140.6102\" rx=\"79.8063\" ry=\"26.7407\"/>\n",
       "<text text-anchor=\"middle\" x=\"2498\" y=\"-144.4102\" font-family=\"Times,serif\" font-size=\"14.00\" fill=\"#000000\">tile_1_2</text>\n",
       "<text text-anchor=\"middle\" x=\"2498\" y=\"-129.4102\" font-family=\"Times,serif\" font-size=\"14.00\" fill=\"#000000\">(callgraph.py:36)</text>\n",
       "</g>\n",
       "<!-- callgraphX&#45;&gt;callgraphX__tile_1_2 -->\n",
       "<g id=\"edge39\" class=\"edge\">\n",
       "<title>callgraphX&#45;&gt;callgraphX__tile_1_2</title>\n",
       "<path fill=\"none\" stroke=\"#838b8b\" stroke-dasharray=\"5,2\" d=\"M3733.4233,-1920.0252C3725.6212,-1915.6152 3716.703,-1911.2684 3708,-1908.5424 3635.4955,-1885.8326 3425.3071,-1922.4276 3368,-1872.5424 3327.7184,-1837.4778 3339,-1809.3376 3339,-1755.9322 3339,-1755.9322 3339,-1755.9322 3339,-320.0904 3339,-265.8501 3345.8229,-236.77 3303,-203.4802 3240.1113,-154.5916 2665.4845,-181.0919 2587,-167.4802 2579.5915,-166.1954 2571.9321,-164.4883 2564.3584,-162.5553\"/>\n",
       "<polygon fill=\"#838b8b\" stroke=\"#838b8b\" points=\"2565.0454,-159.1158 2554.4797,-159.9005 2563.2287,-165.876 2565.0454,-159.1158\"/>\n",
       "</g>\n",
       "<!-- callgraphX__tile_1_3 -->\n",
       "<g id=\"node8\" class=\"node\">\n",
       "<title>callgraphX__tile_1_3</title>\n",
       "<ellipse fill=\"#fecccc\" fill-opacity=\"0.698039\" stroke=\"#000000\" cx=\"404\" cy=\"-499.5706\" rx=\"79.8062\" ry=\"26.7407\"/>\n",
       "<text text-anchor=\"middle\" x=\"404\" y=\"-503.3706\" font-family=\"Times,serif\" font-size=\"14.00\" fill=\"#000000\">tile_1_3</text>\n",
       "<text text-anchor=\"middle\" x=\"404\" y=\"-488.3706\" font-family=\"Times,serif\" font-size=\"14.00\" fill=\"#000000\">(callgraph.py:41)</text>\n",
       "</g>\n",
       "<!-- callgraphX&#45;&gt;callgraphX__tile_1_3 -->\n",
       "<g id=\"edge42\" class=\"edge\">\n",
       "<title>callgraphX&#45;&gt;callgraphX__tile_1_3</title>\n",
       "<path fill=\"none\" stroke=\"#838b8b\" stroke-dasharray=\"5,2\" d=\"M3734.063,-1919.808C3726.1537,-1915.269 3717.0104,-1910.9008 3708,-1908.5424 3615.0698,-1884.2186 319.018,-1939.357 250,-1872.5424 212.7292,-1836.4615 245,-1807.8066 245,-1755.9322 245,-1755.9322 245,-1755.9322 245,-679.0509 245,-622.4842 258.3637,-604.6698 296,-562.4407 309.3986,-547.407 327.2792,-535.01 344.6302,-525.314\"/>\n",
       "<polygon fill=\"#838b8b\" stroke=\"#838b8b\" points=\"346.4689,-528.2996 353.6288,-520.4902 343.1617,-522.1301 346.4689,-528.2996\"/>\n",
       "</g>\n",
       "<!-- callgraphX__tile_1_4 -->\n",
       "<g id=\"node9\" class=\"node\">\n",
       "<title>callgraphX__tile_1_4</title>\n",
       "<ellipse fill=\"#fecccc\" fill-opacity=\"0.698039\" stroke=\"#000000\" cx=\"1386\" cy=\"-679.0509\" rx=\"79.8063\" ry=\"26.7407\"/>\n",
       "<text text-anchor=\"middle\" x=\"1386\" y=\"-682.8509\" font-family=\"Times,serif\" font-size=\"14.00\" fill=\"#000000\">tile_1_4</text>\n",
       "<text text-anchor=\"middle\" x=\"1386\" y=\"-667.8509\" font-family=\"Times,serif\" font-size=\"14.00\" fill=\"#000000\">(callgraph.py:46)</text>\n",
       "</g>\n",
       "<!-- callgraphX&#45;&gt;callgraphX__tile_1_4 -->\n",
       "<g id=\"edge49\" class=\"edge\">\n",
       "<title>callgraphX&#45;&gt;callgraphX__tile_1_4</title>\n",
       "<path fill=\"none\" stroke=\"#838b8b\" stroke-dasharray=\"5,2\" d=\"M3733.5001,-1919.7688C3725.7022,-1915.3452 3716.767,-1911.055 3708,-1908.5424 3640.066,-1889.0731 3124.7197,-1920.7001 3073,-1872.5424 3034.7576,-1836.9338 3058,-1808.186 3058,-1755.9322 3058,-1755.9322 3058,-1755.9322 3058,-858.5311 3058,-806.2773 3081.8379,-776.8791 3043,-741.9209 2978.0308,-683.4417 1556.2067,-720.3853 1470,-705.9209 1463.4055,-704.8144 1456.6163,-703.3035 1449.8909,-701.5583\"/>\n",
       "<polygon fill=\"#838b8b\" stroke=\"#838b8b\" points=\"1450.6842,-698.1464 1440.113,-698.8536 1448.8179,-704.893 1450.6842,-698.1464\"/>\n",
       "</g>\n",
       "<!-- callgraphX__tile_1_5 -->\n",
       "<g id=\"node10\" class=\"node\">\n",
       "<title>callgraphX__tile_1_5</title>\n",
       "<ellipse fill=\"#fecccc\" fill-opacity=\"0.698039\" stroke=\"#000000\" cx=\"1744\" cy=\"-589.3107\" rx=\"79.8063\" ry=\"26.7407\"/>\n",
       "<text text-anchor=\"middle\" x=\"1744\" y=\"-593.1107\" font-family=\"Times,serif\" font-size=\"14.00\" fill=\"#000000\">tile_1_5</text>\n",
       "<text text-anchor=\"middle\" x=\"1744\" y=\"-578.1107\" font-family=\"Times,serif\" font-size=\"14.00\" fill=\"#000000\">(callgraph.py:51)</text>\n",
       "</g>\n",
       "<!-- callgraphX&#45;&gt;callgraphX__tile_1_5 -->\n",
       "<g id=\"edge53\" class=\"edge\">\n",
       "<title>callgraphX&#45;&gt;callgraphX__tile_1_5</title>\n",
       "<path fill=\"none\" stroke=\"#838b8b\" stroke-dasharray=\"5,2\" d=\"M3733.4815,-1919.8331C3725.6826,-1915.4129 3716.7515,-1911.1085 3708,-1908.5424 3652.2111,-1892.1841 3228.3058,-1912.42 3186,-1872.5424 3147.9759,-1836.7008 3171,-1808.186 3171,-1755.9322 3171,-1755.9322 3171,-1755.9322 3171,-768.791 3171,-715.6916 3185.9738,-685.9549 3145,-652.1808 3088.5203,-605.6255 1900.1579,-628.453 1828,-616.1808 1821.6603,-615.1026 1815.1398,-613.6549 1808.6685,-611.988\"/>\n",
       "<polygon fill=\"#838b8b\" stroke=\"#838b8b\" points=\"1809.1432,-608.4886 1798.5729,-609.2098 1807.2858,-615.2377 1809.1432,-608.4886\"/>\n",
       "</g>\n",
       "<!-- callgraphX__tile_1_6 -->\n",
       "<g id=\"node11\" class=\"node\">\n",
       "<title>callgraphX__tile_1_6</title>\n",
       "<ellipse fill=\"#fecccc\" fill-opacity=\"0.698039\" stroke=\"#000000\" cx=\"1035\" cy=\"-499.5706\" rx=\"79.8063\" ry=\"26.7407\"/>\n",
       "<text text-anchor=\"middle\" x=\"1035\" y=\"-503.3706\" font-family=\"Times,serif\" font-size=\"14.00\" fill=\"#000000\">tile_1_6</text>\n",
       "<text text-anchor=\"middle\" x=\"1035\" y=\"-488.3706\" font-family=\"Times,serif\" font-size=\"14.00\" fill=\"#000000\">(callgraph.py:56)</text>\n",
       "</g>\n",
       "<!-- callgraphX&#45;&gt;callgraphX__tile_1_6 -->\n",
       "<g id=\"edge56\" class=\"edge\">\n",
       "<title>callgraphX&#45;&gt;callgraphX__tile_1_6</title>\n",
       "<path fill=\"none\" stroke=\"#838b8b\" stroke-dasharray=\"5,2\" d=\"M3734.0628,-1919.8087C3726.1535,-1915.2697 3717.0103,-1910.9014 3708,-1908.5424 3616.1461,-1884.4943 358.2157,-1938.5883 290,-1872.5424 252.7313,-1836.4592 285,-1807.8066 285,-1755.9322 285,-1755.9322 285,-1755.9322 285,-679.0509 285,-611.2374 754.7538,-538.3458 950.7206,-510.8881\"/>\n",
       "<polygon fill=\"#838b8b\" stroke=\"#838b8b\" points=\"951.2697,-514.3455 960.6902,-509.4974 950.3025,-507.4126 951.2697,-514.3455\"/>\n",
       "</g>\n",
       "<!-- callgraphX__tile_1_7 -->\n",
       "<g id=\"node12\" class=\"node\">\n",
       "<title>callgraphX__tile_1_7</title>\n",
       "<ellipse fill=\"#fecccc\" fill-opacity=\"0.698039\" stroke=\"#000000\" cx=\"818\" cy=\"-409.8305\" rx=\"79.8062\" ry=\"26.7407\"/>\n",
       "<text text-anchor=\"middle\" x=\"818\" y=\"-413.6305\" font-family=\"Times,serif\" font-size=\"14.00\" fill=\"#000000\">tile_1_7</text>\n",
       "<text text-anchor=\"middle\" x=\"818\" y=\"-398.6305\" font-family=\"Times,serif\" font-size=\"14.00\" fill=\"#000000\">(callgraph.py:61)</text>\n",
       "</g>\n",
       "<!-- callgraphX&#45;&gt;callgraphX__tile_1_7 -->\n",
       "<g id=\"edge60\" class=\"edge\">\n",
       "<title>callgraphX&#45;&gt;callgraphX__tile_1_7</title>\n",
       "<path fill=\"none\" stroke=\"#838b8b\" stroke-dasharray=\"5,2\" d=\"M3734.0631,-1919.8077C3726.1538,-1915.2687 3717.0105,-1910.9006 3708,-1908.5424 3614.5317,-1884.0807 299.4192,-1939.7413 230,-1872.5424 192.7281,-1836.4626 225,-1807.8066 225,-1755.9322 225,-1755.9322 225,-1755.9322 225,-589.3107 225,-523.8431 257.5503,-504.0939 315,-472.7006 396.0373,-428.4178 638.3142,-454.1388 729,-436.7006 736.2736,-435.3019 743.7994,-433.5413 751.2533,-431.5933\"/>\n",
       "<polygon fill=\"#838b8b\" stroke=\"#838b8b\" points=\"752.2569,-434.9475 760.9835,-428.9394 750.4149,-428.1942 752.2569,-434.9475\"/>\n",
       "</g>\n",
       "<!-- callgraphX__tile_1_8 -->\n",
       "<g id=\"node13\" class=\"node\">\n",
       "<title>callgraphX__tile_1_8</title>\n",
       "<ellipse fill=\"#fecccc\" fill-opacity=\"0.698039\" stroke=\"#000000\" cx=\"2320\" cy=\"-140.6102\" rx=\"79.8063\" ry=\"26.7407\"/>\n",
       "<text text-anchor=\"middle\" x=\"2320\" y=\"-144.4102\" font-family=\"Times,serif\" font-size=\"14.00\" fill=\"#000000\">tile_1_8</text>\n",
       "<text text-anchor=\"middle\" x=\"2320\" y=\"-129.4102\" font-family=\"Times,serif\" font-size=\"14.00\" fill=\"#000000\">(callgraph.py:66)</text>\n",
       "</g>\n",
       "<!-- callgraphX&#45;&gt;callgraphX__tile_1_8 -->\n",
       "<g id=\"edge64\" class=\"edge\">\n",
       "<title>callgraphX&#45;&gt;callgraphX__tile_1_8</title>\n",
       "<path fill=\"none\" stroke=\"#838b8b\" stroke-dasharray=\"5,2\" d=\"M3733.4387,-1919.9753C3725.6376,-1915.5627 3716.7159,-1911.2269 3708,-1908.5424 3628.2038,-1883.9656 3398.7311,-1925.2809 3334,-1872.5424 3291.9493,-1838.2824 3298,-1810.1726 3298,-1755.9322 3298,-1755.9322 3298,-1755.9322 3298,-320.0904 3298,-293.9342 3301.3538,-221.075 3282,-203.4802 3246.0828,-170.8275 2456.8642,-175.5591 2409,-167.4802 2401.3906,-166.1959 2393.519,-164.454 2385.7487,-162.4702\"/>\n",
       "<polygon fill=\"#838b8b\" stroke=\"#838b8b\" points=\"2386.5537,-159.0624 2375.9878,-159.8444 2384.7352,-165.8221 2386.5537,-159.0624\"/>\n",
       "</g>\n",
       "<!-- callgraphX__tile_2_0 -->\n",
       "<g id=\"node14\" class=\"node\">\n",
       "<title>callgraphX__tile_2_0</title>\n",
       "<ellipse fill=\"#fecccc\" fill-opacity=\"0.698039\" stroke=\"#000000\" cx=\"593\" cy=\"-1935.4125\" rx=\"79.8062\" ry=\"26.7407\"/>\n",
       "<text text-anchor=\"middle\" x=\"593\" y=\"-1939.2125\" font-family=\"Times,serif\" font-size=\"14.00\" fill=\"#000000\">tile_2_0</text>\n",
       "<text text-anchor=\"middle\" x=\"593\" y=\"-1924.2125\" font-family=\"Times,serif\" font-size=\"14.00\" fill=\"#000000\">(callgraph.py:71)</text>\n",
       "</g>\n",
       "<!-- callgraphX&#45;&gt;callgraphX__tile_2_0 -->\n",
       "<g id=\"edge1\" class=\"edge\">\n",
       "<title>callgraphX&#45;&gt;callgraphX__tile_2_0</title>\n",
       "<path fill=\"none\" stroke=\"#838b8b\" stroke-dasharray=\"5,2\" d=\"M3741.0365,-1952.5133C3730.2778,-1962.7318 3715.1433,-1974.7671 3699,-1980.2825 3620.0634,-2007.2519 777.6629,-1997.2978 696,-1980.2825 678.6012,-1976.6573 660.5394,-1969.9284 644.4906,-1962.7645\"/>\n",
       "<polygon fill=\"#838b8b\" stroke=\"#838b8b\" points=\"645.8402,-1959.5326 635.2942,-1958.5163 642.9047,-1965.8873 645.8402,-1959.5326\"/>\n",
       "</g>\n",
       "<!-- callgraphX__tile_2_1 -->\n",
       "<g id=\"node15\" class=\"node\">\n",
       "<title>callgraphX__tile_2_1</title>\n",
       "<ellipse fill=\"#fecccc\" fill-opacity=\"0.698039\" stroke=\"#000000\" cx=\"888\" cy=\"-2114.8927\" rx=\"79.8062\" ry=\"26.7407\"/>\n",
       "<text text-anchor=\"middle\" x=\"888\" y=\"-2118.6927\" font-family=\"Times,serif\" font-size=\"14.00\" fill=\"#000000\">tile_2_1</text>\n",
       "<text text-anchor=\"middle\" x=\"888\" y=\"-2103.6927\" font-family=\"Times,serif\" font-size=\"14.00\" fill=\"#000000\">(callgraph.py:76)</text>\n",
       "</g>\n",
       "<!-- callgraphX&#45;&gt;callgraphX__tile_2_1 -->\n",
       "<g id=\"edge4\" class=\"edge\">\n",
       "<title>callgraphX&#45;&gt;callgraphX__tile_2_1</title>\n",
       "<path fill=\"none\" stroke=\"#838b8b\" stroke-dasharray=\"5,2\" d=\"M3733.5161,-1951.1126C3725.7191,-1955.5392 3716.7803,-1959.817 3708,-1962.2825 3634.7529,-1982.8509 1046.8814,-2074.5697 972,-2088.0227 965.6706,-2089.1598 959.157,-2090.647 952.6901,-2092.3389\"/>\n",
       "<polygon fill=\"#838b8b\" stroke=\"#838b8b\" points=\"951.296,-2089.0937 942.5994,-2095.1451 953.1716,-2095.8378 951.296,-2089.0937\"/>\n",
       "</g>\n",
       "<!-- callgraphX__tile_2_2 -->\n",
       "<g id=\"node16\" class=\"node\">\n",
       "<title>callgraphX__tile_2_2</title>\n",
       "<ellipse fill=\"#fecccc\" fill-opacity=\"0.698039\" stroke=\"#000000\" cx=\"484\" cy=\"-768.791\" rx=\"79.8062\" ry=\"26.7407\"/>\n",
       "<text text-anchor=\"middle\" x=\"484\" y=\"-772.591\" font-family=\"Times,serif\" font-size=\"14.00\" fill=\"#000000\">tile_2_2</text>\n",
       "<text text-anchor=\"middle\" x=\"484\" y=\"-757.591\" font-family=\"Times,serif\" font-size=\"14.00\" fill=\"#000000\">(callgraph.py:87)</text>\n",
       "</g>\n",
       "<!-- callgraphX&#45;&gt;callgraphX__tile_2_2 -->\n",
       "<g id=\"edge12\" class=\"edge\">\n",
       "<title>callgraphX&#45;&gt;callgraphX__tile_2_2</title>\n",
       "<path fill=\"none\" stroke=\"#838b8b\" stroke-dasharray=\"5,2\" d=\"M3734.0627,-1919.8093C3726.1533,-1915.2704 3717.0101,-1910.902 3708,-1908.5424 3617.2224,-1884.7701 397.4134,-1937.8197 330,-1872.5424 292.7336,-1836.4569 325,-1807.8066 325,-1755.9322 325,-1755.9322 325,-1755.9322 325,-948.2712 325,-894.1603 325.2829,-873.1666 360,-831.661 374.705,-814.0807 395.5617,-800.8923 415.9833,-791.2565\"/>\n",
       "<polygon fill=\"#838b8b\" stroke=\"#838b8b\" points=\"417.6175,-794.3596 425.3119,-787.0763 414.7549,-787.9717 417.6175,-794.3596\"/>\n",
       "</g>\n",
       "<!-- callgraphX__tile_2_3 -->\n",
       "<g id=\"node17\" class=\"node\">\n",
       "<title>callgraphX__tile_2_3</title>\n",
       "<ellipse fill=\"#fecccc\" fill-opacity=\"0.698039\" stroke=\"#000000\" cx=\"752\" cy=\"-858.5311\" rx=\"79.8062\" ry=\"26.7407\"/>\n",
       "<text text-anchor=\"middle\" x=\"752\" y=\"-862.3311\" font-family=\"Times,serif\" font-size=\"14.00\" fill=\"#000000\">tile_2_3</text>\n",
       "<text text-anchor=\"middle\" x=\"752\" y=\"-847.3311\" font-family=\"Times,serif\" font-size=\"14.00\" fill=\"#000000\">(callgraph.py:92)</text>\n",
       "</g>\n",
       "<!-- callgraphX&#45;&gt;callgraphX__tile_2_3 -->\n",
       "<g id=\"edge17\" class=\"edge\">\n",
       "<title>callgraphX&#45;&gt;callgraphX__tile_2_3</title>\n",
       "<path fill=\"none\" stroke=\"#838b8b\" stroke-dasharray=\"5,2\" d=\"M3734.0623,-1919.8106C3726.153,-1915.2718 3717.0099,-1910.903 3708,-1908.5424 3619.1867,-1885.2733 472.3699,-1932.6846 403,-1872.5424 363.3774,-1838.1905 385,-1808.3728 385,-1755.9322 385,-1755.9322 385,-1755.9322 385,-1038.0113 385,-973.1009 572.6111,-909.2596 679.5555,-878.141\"/>\n",
       "<polygon fill=\"#838b8b\" stroke=\"#838b8b\" points=\"680.6887,-881.4569 689.3275,-875.3232 678.7492,-874.731 680.6887,-881.4569\"/>\n",
       "</g>\n",
       "<!-- callgraphX__tile_2_4 -->\n",
       "<g id=\"node18\" class=\"node\">\n",
       "<title>callgraphX__tile_2_4</title>\n",
       "<ellipse fill=\"#fecccc\" fill-opacity=\"0.698039\" stroke=\"#000000\" cx=\"787\" cy=\"-768.791\" rx=\"84.7059\" ry=\"26.7407\"/>\n",
       "<text text-anchor=\"middle\" x=\"787\" y=\"-772.591\" font-family=\"Times,serif\" font-size=\"14.00\" fill=\"#000000\">tile_2_4</text>\n",
       "<text text-anchor=\"middle\" x=\"787\" y=\"-757.591\" font-family=\"Times,serif\" font-size=\"14.00\" fill=\"#000000\">(callgraph.py:100)</text>\n",
       "</g>\n",
       "<!-- callgraphX&#45;&gt;callgraphX__tile_2_4 -->\n",
       "<g id=\"edge22\" class=\"edge\">\n",
       "<title>callgraphX&#45;&gt;callgraphX__tile_2_4</title>\n",
       "<path fill=\"none\" stroke=\"#838b8b\" stroke-dasharray=\"5,2\" d=\"M3734.0626,-1919.8097C3726.1532,-1915.2708 3717.0101,-1910.9023 3708,-1908.5424 3617.8144,-1884.9217 419.5244,-1936.8218 352,-1872.5424 314.3945,-1836.7441 345,-1807.8523 345,-1755.9322 345,-1755.9322 345,-1755.9322 345,-948.2712 345,-882.8036 379.0208,-865.6071 435,-831.661 457.3331,-818.1181 602.4278,-795.2106 699.2256,-781.104\"/>\n",
       "<polygon fill=\"#838b8b\" stroke=\"#838b8b\" points=\"699.9196,-784.54 709.3134,-779.6402 698.9144,-777.6126 699.9196,-784.54\"/>\n",
       "</g>\n",
       "<!-- callgraphX__tile_2_5 -->\n",
       "<g id=\"node19\" class=\"node\">\n",
       "<title>callgraphX__tile_2_5</title>\n",
       "<ellipse fill=\"#fecccc\" fill-opacity=\"0.698039\" stroke=\"#000000\" cx=\"1055\" cy=\"-679.0509\" rx=\"84.7059\" ry=\"26.7407\"/>\n",
       "<text text-anchor=\"middle\" x=\"1055\" y=\"-682.8509\" font-family=\"Times,serif\" font-size=\"14.00\" fill=\"#000000\">tile_2_5</text>\n",
       "<text text-anchor=\"middle\" x=\"1055\" y=\"-667.8509\" font-family=\"Times,serif\" font-size=\"14.00\" fill=\"#000000\">(callgraph.py:108)</text>\n",
       "</g>\n",
       "<!-- callgraphX&#45;&gt;callgraphX__tile_2_5 -->\n",
       "<g id=\"edge27\" class=\"edge\">\n",
       "<title>callgraphX&#45;&gt;callgraphX__tile_2_5</title>\n",
       "<path fill=\"none\" stroke=\"#838b8b\" stroke-dasharray=\"5,2\" d=\"M3733.5035,-1919.7571C3725.7058,-1915.3328 3716.7698,-1911.0452 3708,-1908.5424 3637.2707,-1888.357 3099.5949,-1923.9609 3047,-1872.5424 3009.8306,-1836.2044 3038,-1807.9131 3038,-1755.9322 3038,-1755.9322 3038,-1755.9322 3038,-858.5311 3038,-664.3449 1490.2352,-725.1153 1297,-705.9209 1246.6493,-700.9195 1190.4774,-694.7208 1144.9356,-689.5378\"/>\n",
       "<polygon fill=\"#838b8b\" stroke=\"#838b8b\" points=\"1145.1245,-686.0367 1134.7921,-688.3802 1144.3307,-692.9916 1145.1245,-686.0367\"/>\n",
       "</g>\n",
       "<!-- callgraphX__tile_2_6 -->\n",
       "<g id=\"node20\" class=\"node\">\n",
       "<title>callgraphX__tile_2_6</title>\n",
       "<ellipse fill=\"#fecccc\" fill-opacity=\"0.698039\" stroke=\"#000000\" cx=\"1035\" cy=\"-589.3107\" rx=\"84.7059\" ry=\"26.7407\"/>\n",
       "<text text-anchor=\"middle\" x=\"1035\" y=\"-593.1107\" font-family=\"Times,serif\" font-size=\"14.00\" fill=\"#000000\">tile_2_6</text>\n",
       "<text text-anchor=\"middle\" x=\"1035\" y=\"-578.1107\" font-family=\"Times,serif\" font-size=\"14.00\" fill=\"#000000\">(callgraph.py:116)</text>\n",
       "</g>\n",
       "<!-- callgraphX&#45;&gt;callgraphX__tile_2_6 -->\n",
       "<g id=\"edge30\" class=\"edge\">\n",
       "<title>callgraphX&#45;&gt;callgraphX__tile_2_6</title>\n",
       "<path fill=\"none\" stroke=\"#838b8b\" stroke-dasharray=\"5,2\" d=\"M3733.4915,-1919.7987C3725.6932,-1915.3767 3716.7598,-1911.0799 3708,-1908.5424 3584.6012,-1872.7978 3236.7954,-1945.4278 3131,-1872.5424 3084.1196,-1840.2452 3078,-1812.8609 3078,-1755.9322 3078,-1755.9322 3078,-1755.9322 3078,-768.791 3078,-564.6411 1450.1768,-636.09 1247,-616.1808 1206.1574,-612.1787 1161.0293,-606.6184 1122.9445,-601.5937\"/>\n",
       "<polygon fill=\"#838b8b\" stroke=\"#838b8b\" points=\"1123.2852,-598.1083 1112.9114,-600.261 1122.3634,-605.0474 1123.2852,-598.1083\"/>\n",
       "</g>\n",
       "<!-- callgraphX__tile_2_7 -->\n",
       "<g id=\"node21\" class=\"node\">\n",
       "<title>callgraphX__tile_2_7</title>\n",
       "<ellipse fill=\"#fecccc\" fill-opacity=\"0.698039\" stroke=\"#000000\" cx=\"650\" cy=\"-499.5706\" rx=\"84.7059\" ry=\"26.7407\"/>\n",
       "<text text-anchor=\"middle\" x=\"650\" y=\"-503.3706\" font-family=\"Times,serif\" font-size=\"14.00\" fill=\"#000000\">tile_2_7</text>\n",
       "<text text-anchor=\"middle\" x=\"650\" y=\"-488.3706\" font-family=\"Times,serif\" font-size=\"14.00\" fill=\"#000000\">(callgraph.py:124)</text>\n",
       "</g>\n",
       "<!-- callgraphX&#45;&gt;callgraphX__tile_2_7 -->\n",
       "<g id=\"edge35\" class=\"edge\">\n",
       "<title>callgraphX&#45;&gt;callgraphX__tile_2_7</title>\n",
       "<path fill=\"none\" stroke=\"#838b8b\" stroke-dasharray=\"5,2\" d=\"M3734.0629,-1919.8084C3726.1536,-1915.2694 3717.0104,-1910.9011 3708,-1908.5424 3615.608,-1884.3565 338.6169,-1938.9726 270,-1872.5424 232.7302,-1836.4604 265,-1807.8066 265,-1755.9322 265,-1755.9322 265,-1755.9322 265,-679.0509 265,-616.4483 316.1996,-604.542 407,-562.4407 456.8263,-539.3378 516.4904,-523.7445 564.2285,-513.8662\"/>\n",
       "<polygon fill=\"#838b8b\" stroke=\"#838b8b\" points=\"565.1186,-517.2571 574.2264,-511.8444 563.731,-510.396 565.1186,-517.2571\"/>\n",
       "</g>\n",
       "<!-- callgraphX__tile_2_8 -->\n",
       "<g id=\"node22\" class=\"node\">\n",
       "<title>callgraphX__tile_2_8</title>\n",
       "<ellipse fill=\"#fecccc\" fill-opacity=\"0.698039\" stroke=\"#000000\" cx=\"635\" cy=\"-409.8305\" rx=\"84.7059\" ry=\"26.7407\"/>\n",
       "<text text-anchor=\"middle\" x=\"635\" y=\"-413.6305\" font-family=\"Times,serif\" font-size=\"14.00\" fill=\"#000000\">tile_2_8</text>\n",
       "<text text-anchor=\"middle\" x=\"635\" y=\"-398.6305\" font-family=\"Times,serif\" font-size=\"14.00\" fill=\"#000000\">(callgraph.py:132)</text>\n",
       "</g>\n",
       "<!-- callgraphX&#45;&gt;callgraphX__tile_2_8 -->\n",
       "<g id=\"edge40\" class=\"edge\">\n",
       "<title>callgraphX&#45;&gt;callgraphX__tile_2_8</title>\n",
       "<path fill=\"none\" stroke=\"#838b8b\" stroke-dasharray=\"5,2\" d=\"M3734.0632,-1919.8074C3726.1538,-1915.2684 3717.0106,-1910.9003 3708,-1908.5424 3613.9935,-1883.9429 279.8203,-1940.1256 210,-1872.5424 172.727,-1836.4637 205,-1807.8066 205,-1755.9322 205,-1755.9322 205,-1755.9322 205,-589.3107 205,-535.1999 198.5831,-507.5234 240,-472.7006 291.5622,-429.3478 474.9603,-450.0003 541,-436.7006 548.6631,-435.1573 556.6112,-433.2997 564.4938,-431.2908\"/>\n",
       "<polygon fill=\"#838b8b\" stroke=\"#838b8b\" points=\"565.6381,-434.6088 574.417,-428.6775 563.8554,-427.8396 565.6381,-434.6088\"/>\n",
       "</g>\n",
       "<!-- callgraphX__tile_3_0 -->\n",
       "<g id=\"node23\" class=\"node\">\n",
       "<title>callgraphX__tile_3_0</title>\n",
       "<ellipse fill=\"#fecccc\" fill-opacity=\"0.698039\" stroke=\"#000000\" cx=\"549\" cy=\"-1127.7514\" rx=\"84.7059\" ry=\"26.7407\"/>\n",
       "<text text-anchor=\"middle\" x=\"549\" y=\"-1131.5514\" font-family=\"Times,serif\" font-size=\"14.00\" fill=\"#000000\">tile_3_0</text>\n",
       "<text text-anchor=\"middle\" x=\"549\" y=\"-1116.5514\" font-family=\"Times,serif\" font-size=\"14.00\" fill=\"#000000\">(callgraph.py:137)</text>\n",
       "</g>\n",
       "<!-- callgraphX&#45;&gt;callgraphX__tile_3_0 -->\n",
       "<g id=\"edge46\" class=\"edge\">\n",
       "<title>callgraphX&#45;&gt;callgraphX__tile_3_0</title>\n",
       "<path fill=\"none\" stroke=\"#838b8b\" stroke-dasharray=\"5,2\" d=\"M3734.0615,-1919.8137C3726.1521,-1915.2751 3717.0092,-1910.9057 3708,-1908.5424 3623.734,-1886.4383 642.4051,-1923.85 572,-1872.5424 527.8348,-1840.3571 533,-1810.5807 533,-1755.9322 533,-1755.9322 533,-1755.9322 533,-1307.2317 533,-1257.8315 539.0879,-1201.0841 543.7532,-1164.8503\"/>\n",
       "<polygon fill=\"#838b8b\" stroke=\"#838b8b\" points=\"547.2481,-1165.1184 545.086,-1154.7465 540.3082,-1164.2029 547.2481,-1165.1184\"/>\n",
       "</g>\n",
       "<!-- callgraphX__tile_3_1 -->\n",
       "<g id=\"node24\" class=\"node\">\n",
       "<title>callgraphX__tile_3_1</title>\n",
       "<ellipse fill=\"#fecccc\" fill-opacity=\"0.698039\" stroke=\"#000000\" cx=\"888\" cy=\"-2025.1526\" rx=\"84.7059\" ry=\"26.7407\"/>\n",
       "<text text-anchor=\"middle\" x=\"888\" y=\"-2028.9526\" font-family=\"Times,serif\" font-size=\"14.00\" fill=\"#000000\">tile_3_1</text>\n",
       "<text text-anchor=\"middle\" x=\"888\" y=\"-2013.9526\" font-family=\"Times,serif\" font-size=\"14.00\" fill=\"#000000\">(callgraph.py:142)</text>\n",
       "</g>\n",
       "<!-- callgraphX&#45;&gt;callgraphX__tile_3_1 -->\n",
       "<g id=\"edge54\" class=\"edge\">\n",
       "<title>callgraphX&#45;&gt;callgraphX__tile_3_1</title>\n",
       "<path fill=\"none\" stroke=\"#838b8b\" stroke-dasharray=\"5,2\" d=\"M3734.0592,-1951.0023C3726.1496,-1955.5403 3717.0072,-1959.9116 3708,-1962.2825 3414.5259,-2039.532 1276.9167,-1951.9739 977,-1998.2825 969.8718,-1999.3832 962.5203,-2000.9183 955.2405,-2002.7027\"/>\n",
       "<polygon fill=\"#838b8b\" stroke=\"#838b8b\" points=\"954.1788,-1999.3625 945.3859,-2005.2732 955.9456,-2006.1359 954.1788,-1999.3625\"/>\n",
       "</g>\n",
       "<!-- callgraphX__tile_3_2 -->\n",
       "<g id=\"node25\" class=\"node\">\n",
       "<title>callgraphX__tile_3_2</title>\n",
       "<ellipse fill=\"#fecccc\" fill-opacity=\"0.698039\" stroke=\"#000000\" cx=\"529\" cy=\"-858.5311\" rx=\"84.7059\" ry=\"26.7407\"/>\n",
       "<text text-anchor=\"middle\" x=\"529\" y=\"-862.3311\" font-family=\"Times,serif\" font-size=\"14.00\" fill=\"#000000\">tile_3_2</text>\n",
       "<text text-anchor=\"middle\" x=\"529\" y=\"-847.3311\" font-family=\"Times,serif\" font-size=\"14.00\" fill=\"#000000\">(callgraph.py:150)</text>\n",
       "</g>\n",
       "<!-- callgraphX&#45;&gt;callgraphX__tile_3_2 -->\n",
       "<g id=\"edge61\" class=\"edge\">\n",
       "<title>callgraphX&#45;&gt;callgraphX__tile_3_2</title>\n",
       "<path fill=\"none\" stroke=\"#838b8b\" stroke-dasharray=\"5,2\" d=\"M3734.0625,-1919.8101C3726.1531,-1915.2713 3717.01,-1910.9026 3708,-1908.5424 3618.4602,-1885.0872 444.1174,-1935.2126 376,-1872.5424 337.6904,-1837.2963 365,-1807.9891 365,-1755.9322 365,-1755.9322 365,-1755.9322 365,-1038.0113 365,-970.6591 428.7173,-917.5384 476.7202,-887.0754\"/>\n",
       "<polygon fill=\"#838b8b\" stroke=\"#838b8b\" points=\"478.8205,-889.8917 485.4816,-881.6527 475.1365,-883.9395 478.8205,-889.8917\"/>\n",
       "</g>\n",
       "<!-- callgraphX__tile_3_3 -->\n",
       "<g id=\"node26\" class=\"node\">\n",
       "<title>callgraphX__tile_3_3</title>\n",
       "<ellipse fill=\"#fecccc\" fill-opacity=\"0.698039\" stroke=\"#000000\" cx=\"767\" cy=\"-948.2712\" rx=\"84.7059\" ry=\"26.7407\"/>\n",
       "<text text-anchor=\"middle\" x=\"767\" y=\"-952.0712\" font-family=\"Times,serif\" font-size=\"14.00\" fill=\"#000000\">tile_3_3</text>\n",
       "<text text-anchor=\"middle\" x=\"767\" y=\"-937.0712\" font-family=\"Times,serif\" font-size=\"14.00\" fill=\"#000000\">(callgraph.py:155)</text>\n",
       "</g>\n",
       "<!-- callgraphX&#45;&gt;callgraphX__tile_3_3 -->\n",
       "<g id=\"edge3\" class=\"edge\">\n",
       "<title>callgraphX&#45;&gt;callgraphX__tile_3_3</title>\n",
       "<path fill=\"none\" stroke=\"#838b8b\" stroke-dasharray=\"5,2\" d=\"M3733.5109,-1919.7311C3725.7135,-1915.3055 3716.7759,-1911.0236 3708,-1908.5424 3396.6956,-1820.5288 3298.8242,-1932.9125 2981,-1872.5424 2821.9879,-1842.3384 2636,-1917.7875 2636,-1755.9322 2636,-1755.9322 2636,-1755.9322 2636,-1127.7514 2636,-940.6482 1145.1548,-993.9567 959,-975.1413 924.2514,-971.6291 886.1276,-966.5495 853.0738,-961.7501\"/>\n",
       "<polygon fill=\"#838b8b\" stroke=\"#838b8b\" points=\"853.3897,-958.2591 842.9878,-960.2717 852.3745,-965.1851 853.3897,-958.2591\"/>\n",
       "</g>\n",
       "<!-- callgraphX__tile_3_4 -->\n",
       "<g id=\"node27\" class=\"node\">\n",
       "<title>callgraphX__tile_3_4</title>\n",
       "<ellipse fill=\"#fecccc\" fill-opacity=\"0.698039\" stroke=\"#000000\" cx=\"747\" cy=\"-679.0509\" rx=\"84.7059\" ry=\"26.7407\"/>\n",
       "<text text-anchor=\"middle\" x=\"747\" y=\"-682.8509\" font-family=\"Times,serif\" font-size=\"14.00\" fill=\"#000000\">tile_3_4</text>\n",
       "<text text-anchor=\"middle\" x=\"747\" y=\"-667.8509\" font-family=\"Times,serif\" font-size=\"14.00\" fill=\"#000000\">(callgraph.py:163)</text>\n",
       "</g>\n",
       "<!-- callgraphX&#45;&gt;callgraphX__tile_3_4 -->\n",
       "<g id=\"edge9\" class=\"edge\">\n",
       "<title>callgraphX&#45;&gt;callgraphX__tile_3_4</title>\n",
       "<path fill=\"none\" stroke=\"#838b8b\" stroke-dasharray=\"5,2\" d=\"M3734.0628,-1919.809C3726.1534,-1915.2701 3717.0102,-1910.9017 3708,-1908.5424 3616.6843,-1884.6322 377.8146,-1938.204 310,-1872.5424 272.7325,-1836.4581 305,-1807.8066 305,-1755.9322 305,-1755.9322 305,-1755.9322 305,-858.5311 305,-793.0635 338.3415,-774.7207 395,-741.9209 497.104,-682.8127 542.7279,-731.0479 658,-705.9209 664.4632,-704.5121 671.1381,-702.8656 677.7912,-701.0938\"/>\n",
       "<polygon fill=\"#838b8b\" stroke=\"#838b8b\" points=\"678.7842,-704.4507 687.4959,-698.4212 676.9256,-697.7019 678.7842,-704.4507\"/>\n",
       "</g>\n",
       "<!-- callgraphX__tile_3_5 -->\n",
       "<g id=\"node28\" class=\"node\">\n",
       "<title>callgraphX__tile_3_5</title>\n",
       "<ellipse fill=\"#fecccc\" fill-opacity=\"0.698039\" stroke=\"#000000\" cx=\"1341\" cy=\"-589.3107\" rx=\"84.7059\" ry=\"26.7407\"/>\n",
       "<text text-anchor=\"middle\" x=\"1341\" y=\"-593.1107\" font-family=\"Times,serif\" font-size=\"14.00\" fill=\"#000000\">tile_3_5</text>\n",
       "<text text-anchor=\"middle\" x=\"1341\" y=\"-578.1107\" font-family=\"Times,serif\" font-size=\"14.00\" fill=\"#000000\">(callgraph.py:168)</text>\n",
       "</g>\n",
       "<!-- callgraphX&#45;&gt;callgraphX__tile_3_5 -->\n",
       "<g id=\"edge15\" class=\"edge\">\n",
       "<title>callgraphX&#45;&gt;callgraphX__tile_3_5</title>\n",
       "<path fill=\"none\" stroke=\"#838b8b\" stroke-dasharray=\"5,2\" d=\"M3733.4865,-1919.816C3725.6879,-1915.3949 3716.7556,-1911.0943 3708,-1908.5424 3649.4173,-1891.4685 3205.3374,-1913.3833 3160,-1872.5424 3120.9309,-1837.3482 3140,-1808.5157 3140,-1755.9322 3140,-1755.9322 3140,-1755.9322 3140,-768.791 3140,-711.104 3131.5458,-683.3433 3083,-652.1808 3016.2168,-609.3114 1734.2373,-620.5659 1655,-616.1808 1579.835,-612.0211 1494.7629,-604.5709 1432.1457,-598.5689\"/>\n",
       "<polygon fill=\"#838b8b\" stroke=\"#838b8b\" points=\"1432.1922,-595.0572 1421.9023,-597.5807 1431.52,-602.0248 1432.1922,-595.0572\"/>\n",
       "</g>\n",
       "<!-- callgraphX__tile_3_6 -->\n",
       "<g id=\"node29\" class=\"node\">\n",
       "<title>callgraphX__tile_3_6</title>\n",
       "<ellipse fill=\"#fecccc\" fill-opacity=\"0.698039\" stroke=\"#000000\" cx=\"429\" cy=\"-320.0904\" rx=\"84.7059\" ry=\"26.7407\"/>\n",
       "<text text-anchor=\"middle\" x=\"429\" y=\"-323.8904\" font-family=\"Times,serif\" font-size=\"14.00\" fill=\"#000000\">tile_3_6</text>\n",
       "<text text-anchor=\"middle\" x=\"429\" y=\"-308.8904\" font-family=\"Times,serif\" font-size=\"14.00\" fill=\"#000000\">(callgraph.py:173)</text>\n",
       "</g>\n",
       "<!-- callgraphX&#45;&gt;callgraphX__tile_3_6 -->\n",
       "<g id=\"edge20\" class=\"edge\">\n",
       "<title>callgraphX&#45;&gt;callgraphX__tile_3_6</title>\n",
       "<path fill=\"none\" stroke=\"#838b8b\" stroke-dasharray=\"5,2\" d=\"M3734.0634,-1919.8065C3726.1541,-1915.2674 3717.0108,-1910.8995 3708,-1908.5424 3612.379,-1883.5292 221.0238,-1941.2785 150,-1872.5424 112.7239,-1836.4669 145,-1807.8066 145,-1755.9322 145,-1755.9322 145,-1755.9322 145,-499.5706 145,-443.6926 150.1191,-419.9516 192,-382.9605 214.696,-362.9143 285.3627,-345.7318 343.6719,-334.4213\"/>\n",
       "<polygon fill=\"#838b8b\" stroke=\"#838b8b\" points=\"344.4884,-337.8287 353.6559,-332.5178 343.1774,-330.9526 344.4884,-337.8287\"/>\n",
       "</g>\n",
       "<!-- callgraphX__tile_3_7 -->\n",
       "<g id=\"node30\" class=\"node\">\n",
       "<title>callgraphX__tile_3_7</title>\n",
       "<ellipse fill=\"#fecccc\" fill-opacity=\"0.698039\" stroke=\"#000000\" cx=\"429\" cy=\"-409.8305\" rx=\"84.7059\" ry=\"26.7407\"/>\n",
       "<text text-anchor=\"middle\" x=\"429\" y=\"-413.6305\" font-family=\"Times,serif\" font-size=\"14.00\" fill=\"#000000\">tile_3_7</text>\n",
       "<text text-anchor=\"middle\" x=\"429\" y=\"-398.6305\" font-family=\"Times,serif\" font-size=\"14.00\" fill=\"#000000\">(callgraph.py:178)</text>\n",
       "</g>\n",
       "<!-- callgraphX&#45;&gt;callgraphX__tile_3_7 -->\n",
       "<g id=\"edge24\" class=\"edge\">\n",
       "<title>callgraphX&#45;&gt;callgraphX__tile_3_7</title>\n",
       "<path fill=\"none\" stroke=\"#838b8b\" stroke-dasharray=\"5,2\" d=\"M3734.0633,-1919.8071C3726.1539,-1915.268 3717.0106,-1910.9 3708,-1908.5424 3613.4553,-1883.805 260.2215,-1940.5099 190,-1872.5424 152.7259,-1836.4648 185,-1807.8066 185,-1755.9322 185,-1755.9322 185,-1755.9322 185,-589.3107 185,-536.8702 167.8928,-511.6556 203,-472.7006 245.147,-425.9343 279.411,-453.8013 340,-436.7006 345.9124,-435.0318 352.0341,-433.2653 358.1722,-431.467\"/>\n",
       "<polygon fill=\"#838b8b\" stroke=\"#838b8b\" points=\"359.2033,-434.812 367.8036,-428.6244 357.2218,-428.0983 359.2033,-434.812\"/>\n",
       "</g>\n",
       "<!-- callgraphX__tile_3_8 -->\n",
       "<g id=\"node31\" class=\"node\">\n",
       "<title>callgraphX__tile_3_8</title>\n",
       "<ellipse fill=\"#fecccc\" fill-opacity=\"0.698039\" stroke=\"#000000\" cx=\"161\" cy=\"-320.0904\" rx=\"84.7059\" ry=\"26.7407\"/>\n",
       "<text text-anchor=\"middle\" x=\"161\" y=\"-323.8904\" font-family=\"Times,serif\" font-size=\"14.00\" fill=\"#000000\">tile_3_8</text>\n",
       "<text text-anchor=\"middle\" x=\"161\" y=\"-308.8904\" font-family=\"Times,serif\" font-size=\"14.00\" fill=\"#000000\">(callgraph.py:186)</text>\n",
       "</g>\n",
       "<!-- callgraphX&#45;&gt;callgraphX__tile_3_8 -->\n",
       "<g id=\"edge29\" class=\"edge\">\n",
       "<title>callgraphX&#45;&gt;callgraphX__tile_3_8</title>\n",
       "<path fill=\"none\" stroke=\"#838b8b\" stroke-dasharray=\"5,2\" d=\"M3734.0635,-1919.8062C3726.1542,-1915.2671 3717.0108,-1910.8993 3708,-1908.5424 3611.8409,-1883.3914 201.4249,-1941.6628 130,-1872.5424 92.7229,-1836.468 125,-1807.8066 125,-1755.9322 125,-1755.9322 125,-1755.9322 125,-499.5706 125,-449.3855 138.6979,-392.8216 149.1947,-356.8435\"/>\n",
       "<polygon fill=\"#838b8b\" stroke=\"#838b8b\" points=\"152.6813,-357.4004 152.1934,-346.8168 145.9748,-355.3947 152.6813,-357.4004\"/>\n",
       "</g>\n",
       "<!-- callgraphX__tile_4_0 -->\n",
       "<g id=\"node32\" class=\"node\">\n",
       "<title>callgraphX__tile_4_0</title>\n",
       "<ellipse fill=\"#fecccc\" fill-opacity=\"0.698039\" stroke=\"#000000\" cx=\"1084\" cy=\"-1845.6724\" rx=\"84.7059\" ry=\"26.7407\"/>\n",
       "<text text-anchor=\"middle\" x=\"1084\" y=\"-1849.4724\" font-family=\"Times,serif\" font-size=\"14.00\" fill=\"#000000\">tile_4_0</text>\n",
       "<text text-anchor=\"middle\" x=\"1084\" y=\"-1834.4724\" font-family=\"Times,serif\" font-size=\"14.00\" fill=\"#000000\">(callgraph.py:191)</text>\n",
       "</g>\n",
       "<!-- callgraphX&#45;&gt;callgraphX__tile_4_0 -->\n",
       "<g id=\"edge34\" class=\"edge\">\n",
       "<title>callgraphX&#45;&gt;callgraphX__tile_4_0</title>\n",
       "<path fill=\"none\" stroke=\"#838b8b\" stroke-dasharray=\"5,2\" d=\"M3734.0577,-1919.8282C3726.148,-1915.2905 3717.0059,-1910.918 3708,-1908.5424 3436.159,-1836.8352 1456.1351,-1913.5342 1178,-1872.5424 1169.7327,-1871.324 1161.1685,-1869.5803 1152.7275,-1867.5586\"/>\n",
       "<polygon fill=\"#838b8b\" stroke=\"#838b8b\" points=\"1153.4531,-1864.132 1142.9001,-1865.0723 1151.7362,-1870.9182 1153.4531,-1864.132\"/>\n",
       "</g>\n",
       "<!-- callgraphX__tile_4_1 -->\n",
       "<g id=\"node33\" class=\"node\">\n",
       "<title>callgraphX__tile_4_1</title>\n",
       "<ellipse fill=\"#fecccc\" fill-opacity=\"0.698039\" stroke=\"#000000\" cx=\"1032\" cy=\"-1935.4125\" rx=\"84.7059\" ry=\"26.7407\"/>\n",
       "<text text-anchor=\"middle\" x=\"1032\" y=\"-1939.2125\" font-family=\"Times,serif\" font-size=\"14.00\" fill=\"#000000\">tile_4_1</text>\n",
       "<text text-anchor=\"middle\" x=\"1032\" y=\"-1924.2125\" font-family=\"Times,serif\" font-size=\"14.00\" fill=\"#000000\">(callgraph.py:196)</text>\n",
       "</g>\n",
       "<!-- callgraphX&#45;&gt;callgraphX__tile_4_1 -->\n",
       "<g id=\"edge37\" class=\"edge\">\n",
       "<title>callgraphX&#45;&gt;callgraphX__tile_4_1</title>\n",
       "<path fill=\"none\" stroke=\"#838b8b\" stroke-dasharray=\"5,2\" d=\"M3711.8855,-1935.4125C2850.3543,-1935.4125 1988.8231,-1935.4125 1127.2919,-1935.4125\"/>\n",
       "<polygon fill=\"#838b8b\" stroke=\"#838b8b\" points=\"1127.1563,-1931.9126 1117.1563,-1935.4125 1127.1562,-1938.9126 1127.1563,-1931.9126\"/>\n",
       "</g>\n",
       "<!-- callgraphX__tile_4_2 -->\n",
       "<g id=\"node34\" class=\"node\">\n",
       "<title>callgraphX__tile_4_2</title>\n",
       "<ellipse fill=\"#fecccc\" fill-opacity=\"0.698039\" stroke=\"#000000\" cx=\"1053\" cy=\"-948.2712\" rx=\"84.7059\" ry=\"26.7407\"/>\n",
       "<text text-anchor=\"middle\" x=\"1053\" y=\"-952.0712\" font-family=\"Times,serif\" font-size=\"14.00\" fill=\"#000000\">tile_4_2</text>\n",
       "<text text-anchor=\"middle\" x=\"1053\" y=\"-937.0712\" font-family=\"Times,serif\" font-size=\"14.00\" fill=\"#000000\">(callgraph.py:204)</text>\n",
       "</g>\n",
       "<!-- callgraphX&#45;&gt;callgraphX__tile_4_2 -->\n",
       "<g id=\"edge43\" class=\"edge\">\n",
       "<title>callgraphX&#45;&gt;callgraphX__tile_4_2</title>\n",
       "<path fill=\"none\" stroke=\"#838b8b\" stroke-dasharray=\"5,2\" d=\"M3733.5082,-1919.7404C3725.7108,-1915.3152 3716.7737,-1911.0313 3708,-1908.5424 3632.8622,-1887.2277 3062.6253,-1926.3344 3006,-1872.5424 2968.2265,-1836.659 2994,-1808.0327 2994,-1755.9322 2994,-1755.9322 2994,-1755.9322 2994,-1127.7514 2994,-962.5239 2803.6539,-1040.19 2641,-1011.1413 2412.0406,-970.2509 1827.3773,-984.8997 1595,-975.1413 1437.9282,-968.5452 1255.3404,-959.1317 1147.2365,-953.3762\"/>\n",
       "<polygon fill=\"#838b8b\" stroke=\"#838b8b\" points=\"1147.1829,-949.8684 1137.0107,-952.8308 1146.8101,-956.8585 1147.1829,-949.8684\"/>\n",
       "</g>\n",
       "<!-- callgraphX__tile_4_3 -->\n",
       "<g id=\"node35\" class=\"node\">\n",
       "<title>callgraphX__tile_4_3</title>\n",
       "<ellipse fill=\"#fecccc\" fill-opacity=\"0.698039\" stroke=\"#000000\" cx=\"767\" cy=\"-1038.0113\" rx=\"84.7059\" ry=\"26.7407\"/>\n",
       "<text text-anchor=\"middle\" x=\"767\" y=\"-1041.8113\" font-family=\"Times,serif\" font-size=\"14.00\" fill=\"#000000\">tile_4_3</text>\n",
       "<text text-anchor=\"middle\" x=\"767\" y=\"-1026.8113\" font-family=\"Times,serif\" font-size=\"14.00\" fill=\"#000000\">(callgraph.py:209)</text>\n",
       "</g>\n",
       "<!-- callgraphX&#45;&gt;callgraphX__tile_4_3 -->\n",
       "<g id=\"edge48\" class=\"edge\">\n",
       "<title>callgraphX&#45;&gt;callgraphX__tile_4_3</title>\n",
       "<path fill=\"none\" stroke=\"#838b8b\" stroke-dasharray=\"5,2\" d=\"M3734.0622,-1919.8113C3726.1528,-1915.2725 3717.0097,-1910.9036 3708,-1908.5424 3620.2092,-1885.5352 513.7301,-1926.8277 441,-1872.5424 397.5326,-1840.0987 405,-1810.1726 405,-1755.9322 405,-1755.9322 405,-1755.9322 405,-1217.4916 405,-1165.1792 384.0617,-1137.9238 421,-1100.8814 461.7205,-1060.0461 621.6737,-1077.2519 678,-1064.8814 684.461,-1063.4624 691.1343,-1061.8091 697.7865,-1060.0328\"/>\n",
       "<polygon fill=\"#838b8b\" stroke=\"#838b8b\" points=\"698.7814,-1063.3892 707.4902,-1057.3554 696.9195,-1056.6413 698.7814,-1063.3892\"/>\n",
       "</g>\n",
       "<!-- callgraphX__tile_4_4 -->\n",
       "<g id=\"node36\" class=\"node\">\n",
       "<title>callgraphX__tile_4_4</title>\n",
       "<ellipse fill=\"#fecccc\" fill-opacity=\"0.698039\" stroke=\"#000000\" cx=\"817\" cy=\"-1127.7514\" rx=\"84.7059\" ry=\"26.7407\"/>\n",
       "<text text-anchor=\"middle\" x=\"817\" y=\"-1131.5514\" font-family=\"Times,serif\" font-size=\"14.00\" fill=\"#000000\">tile_4_4</text>\n",
       "<text text-anchor=\"middle\" x=\"817\" y=\"-1116.5514\" font-family=\"Times,serif\" font-size=\"14.00\" fill=\"#000000\">(callgraph.py:217)</text>\n",
       "</g>\n",
       "<!-- callgraphX&#45;&gt;callgraphX__tile_4_4 -->\n",
       "<g id=\"edge51\" class=\"edge\">\n",
       "<title>callgraphX&#45;&gt;callgraphX__tile_4_4</title>\n",
       "<path fill=\"none\" stroke=\"#838b8b\" stroke-dasharray=\"5,2\" d=\"M3734.0605,-1919.8176C3726.151,-1915.2793 3717.0083,-1910.909 3708,-1908.5424 3391.601,-1825.4199 1080.2619,-1956.1852 764,-1872.5424 660.4154,-1845.1471 553,-1863.0783 553,-1755.9322 553,-1755.9322 553,-1755.9322 553,-1307.2317 553,-1217.0111 659.7497,-1168.9574 737.4872,-1145.9248\"/>\n",
       "<polygon fill=\"#838b8b\" stroke=\"#838b8b\" points=\"738.6485,-1149.2327 747.2918,-1143.1054 736.714,-1142.5053 738.6485,-1149.2327\"/>\n",
       "</g>\n",
       "<!-- callgraphX__tile_4_5 -->\n",
       "<g id=\"node37\" class=\"node\">\n",
       "<title>callgraphX__tile_4_5</title>\n",
       "<ellipse fill=\"#fecccc\" fill-opacity=\"0.698039\" stroke=\"#000000\" cx=\"1312\" cy=\"-1217.4916\" rx=\"84.7059\" ry=\"26.7407\"/>\n",
       "<text text-anchor=\"middle\" x=\"1312\" y=\"-1221.2916\" font-family=\"Times,serif\" font-size=\"14.00\" fill=\"#000000\">tile_4_5</text>\n",
       "<text text-anchor=\"middle\" x=\"1312\" y=\"-1206.2916\" font-family=\"Times,serif\" font-size=\"14.00\" fill=\"#000000\">(callgraph.py:225)</text>\n",
       "</g>\n",
       "<!-- callgraphX&#45;&gt;callgraphX__tile_4_5 -->\n",
       "<g id=\"edge57\" class=\"edge\">\n",
       "<title>callgraphX&#45;&gt;callgraphX__tile_4_5</title>\n",
       "<path fill=\"none\" stroke=\"#838b8b\" stroke-dasharray=\"5,2\" d=\"M3734.0591,-1919.823C3726.1495,-1915.285 3717.0071,-1910.9136 3708,-1908.5424 3415.925,-1831.6515 1283.9773,-1941.8053 990,-1872.5424 811.3216,-1830.4447 724.7979,-1842.3686 618,-1693.0622 564.254,-1617.9238 593,-1579.0938 593,-1486.7119 593,-1486.7119 593,-1486.7119 593,-1396.9718 593,-1254.0024 1079.7976,-1280.9723 1218,-1244.3616 1224.9936,-1242.509 1232.2642,-1240.5283 1239.5258,-1238.5137\"/>\n",
       "<polygon fill=\"#838b8b\" stroke=\"#838b8b\" points=\"1240.7073,-1241.8177 1249.3955,-1235.7542 1238.8224,-1235.0762 1240.7073,-1241.8177\"/>\n",
       "</g>\n",
       "<!-- callgraphX__tile_4_6 -->\n",
       "<g id=\"node38\" class=\"node\">\n",
       "<title>callgraphX__tile_4_6</title>\n",
       "<ellipse fill=\"#fecccc\" fill-opacity=\"0.698039\" stroke=\"#000000\" cx=\"1301\" cy=\"-230.3503\" rx=\"84.7059\" ry=\"26.7407\"/>\n",
       "<text text-anchor=\"middle\" x=\"1301\" y=\"-234.1503\" font-family=\"Times,serif\" font-size=\"14.00\" fill=\"#000000\">tile_4_6</text>\n",
       "<text text-anchor=\"middle\" x=\"1301\" y=\"-219.1503\" font-family=\"Times,serif\" font-size=\"14.00\" fill=\"#000000\">(callgraph.py:233)</text>\n",
       "</g>\n",
       "<!-- callgraphX&#45;&gt;callgraphX__tile_4_6 -->\n",
       "<g id=\"edge63\" class=\"edge\">\n",
       "<title>callgraphX&#45;&gt;callgraphX__tile_4_6</title>\n",
       "<path fill=\"none\" stroke=\"#838b8b\" stroke-dasharray=\"5,2\" d=\"M3733.4786,-1919.8431C3725.6795,-1915.4234 3716.749,-1911.1168 3708,-1908.5424 3653.7152,-1892.5694 3240.1378,-1912.4289 3200,-1872.5424 3163.1287,-1835.902 3191,-1807.9131 3191,-1755.9322 3191,-1755.9322 3191,-1755.9322 3191,-409.8305 3191,-364.1797 1774.7472,-263.0719 1394.184,-236.7271\"/>\n",
       "<polygon fill=\"#838b8b\" stroke=\"#838b8b\" points=\"1394.2546,-233.2238 1384.0369,-236.0254 1393.7716,-240.2071 1394.2546,-233.2238\"/>\n",
       "</g>\n",
       "<!-- callgraphX__tile_4_7 -->\n",
       "<g id=\"node39\" class=\"node\">\n",
       "<title>callgraphX__tile_4_7</title>\n",
       "<ellipse fill=\"#fecccc\" fill-opacity=\"0.698039\" stroke=\"#000000\" cx=\"679\" cy=\"-320.0904\" rx=\"84.7059\" ry=\"26.7407\"/>\n",
       "<text text-anchor=\"middle\" x=\"679\" y=\"-323.8904\" font-family=\"Times,serif\" font-size=\"14.00\" fill=\"#000000\">tile_4_7</text>\n",
       "<text text-anchor=\"middle\" x=\"679\" y=\"-308.8904\" font-family=\"Times,serif\" font-size=\"14.00\" fill=\"#000000\">(callgraph.py:238)</text>\n",
       "</g>\n",
       "<!-- callgraphX&#45;&gt;callgraphX__tile_4_7 -->\n",
       "<g id=\"edge66\" class=\"edge\">\n",
       "<title>callgraphX&#45;&gt;callgraphX__tile_4_7</title>\n",
       "<path fill=\"none\" stroke=\"#838b8b\" stroke-dasharray=\"5,2\" d=\"M3734.0633,-1919.8068C3726.154,-1915.2677 3717.0107,-1910.8998 3708,-1908.5424 3612.9172,-1883.6671 240.6226,-1940.8942 170,-1872.5424 132.7249,-1836.4659 165,-1807.8066 165,-1755.9322 165,-1755.9322 165,-1755.9322 165,-499.5706 165,-415.1443 254.9054,-412.0751 335,-382.9605 347.2051,-378.5239 496.8009,-351.9267 594.6564,-334.7777\"/>\n",
       "<polygon fill=\"#838b8b\" stroke=\"#838b8b\" points=\"595.3013,-338.2181 604.5477,-333.0456 594.0938,-331.323 595.3013,-338.2181\"/>\n",
       "</g>\n",
       "<!-- callgraphX__tile_4_8 -->\n",
       "<g id=\"node40\" class=\"node\">\n",
       "<title>callgraphX__tile_4_8</title>\n",
       "<ellipse fill=\"#fecccc\" fill-opacity=\"0.698039\" stroke=\"#000000\" cx=\"161\" cy=\"-230.3503\" rx=\"84.7059\" ry=\"26.7407\"/>\n",
       "<text text-anchor=\"middle\" x=\"161\" y=\"-234.1503\" font-family=\"Times,serif\" font-size=\"14.00\" fill=\"#000000\">tile_4_8</text>\n",
       "<text text-anchor=\"middle\" x=\"161\" y=\"-219.1503\" font-family=\"Times,serif\" font-size=\"14.00\" fill=\"#000000\">(callgraph.py:246)</text>\n",
       "</g>\n",
       "<!-- callgraphX&#45;&gt;callgraphX__tile_4_8 -->\n",
       "<g id=\"edge6\" class=\"edge\">\n",
       "<title>callgraphX&#45;&gt;callgraphX__tile_4_8</title>\n",
       "<path fill=\"none\" stroke=\"#838b8b\" stroke-dasharray=\"5,2\" d=\"M3734.0636,-1919.8059C3726.1543,-1915.2667 3717.0109,-1910.899 3708,-1908.5424 3611.2758,-1883.2466 198.7434,-1916.6057 109,-1872.5424 49.7429,-1843.4477 17,-1821.9467 17,-1755.9322 17,-1755.9322 17,-1755.9322 17,-409.8305 17,-353.4405 30.9674,-336.5965 67,-293.2203 78.1164,-279.8384 92.7991,-268.1881 107.2475,-258.6738\"/>\n",
       "<polygon fill=\"#838b8b\" stroke=\"#838b8b\" points=\"109.1229,-261.629 115.6987,-253.3219 105.3777,-255.7151 109.1229,-261.629\"/>\n",
       "</g>\n",
       "<!-- callgraphX__tile_5_0 -->\n",
       "<g id=\"node41\" class=\"node\">\n",
       "<title>callgraphX__tile_5_0</title>\n",
       "<ellipse fill=\"#fecccc\" fill-opacity=\"0.698039\" stroke=\"#000000\" cx=\"1376\" cy=\"-1755.9322\" rx=\"84.7059\" ry=\"26.7407\"/>\n",
       "<text text-anchor=\"middle\" x=\"1376\" y=\"-1759.7322\" font-family=\"Times,serif\" font-size=\"14.00\" fill=\"#000000\">tile_5_0</text>\n",
       "<text text-anchor=\"middle\" x=\"1376\" y=\"-1744.7322\" font-family=\"Times,serif\" font-size=\"14.00\" fill=\"#000000\">(callgraph.py:251)</text>\n",
       "</g>\n",
       "<!-- callgraphX&#45;&gt;callgraphX__tile_5_0 -->\n",
       "<g id=\"edge13\" class=\"edge\">\n",
       "<title>callgraphX&#45;&gt;callgraphX__tile_5_0</title>\n",
       "<path fill=\"none\" stroke=\"#838b8b\" stroke-dasharray=\"5,2\" d=\"M3734.0529,-1919.8465C3726.1428,-1915.3101 3717.0018,-1910.9337 3708,-1908.5424 3489.6486,-1850.5386 1896.6521,-1916.2705 1675,-1872.5424 1585.4928,-1854.8842 1488.1637,-1812.1094 1429.6362,-1783.5716\"/>\n",
       "<polygon fill=\"#838b8b\" stroke=\"#838b8b\" points=\"1431.1014,-1780.3919 1420.5832,-1779.1197 1428.0124,-1786.6734 1431.1014,-1780.3919\"/>\n",
       "</g>\n",
       "<!-- callgraphX__tile_5_1 -->\n",
       "<g id=\"node42\" class=\"node\">\n",
       "<title>callgraphX__tile_5_1</title>\n",
       "<ellipse fill=\"#fecccc\" fill-opacity=\"0.698039\" stroke=\"#000000\" cx=\"1272\" cy=\"-1845.6724\" rx=\"84.7059\" ry=\"26.7407\"/>\n",
       "<text text-anchor=\"middle\" x=\"1272\" y=\"-1849.4724\" font-family=\"Times,serif\" font-size=\"14.00\" fill=\"#000000\">tile_5_1</text>\n",
       "<text text-anchor=\"middle\" x=\"1272\" y=\"-1834.4724\" font-family=\"Times,serif\" font-size=\"14.00\" fill=\"#000000\">(callgraph.py:256)</text>\n",
       "</g>\n",
       "<!-- callgraphX&#45;&gt;callgraphX__tile_5_1 -->\n",
       "<g id=\"edge19\" class=\"edge\">\n",
       "<title>callgraphX&#45;&gt;callgraphX__tile_5_1</title>\n",
       "<path fill=\"none\" stroke=\"#838b8b\" stroke-dasharray=\"5,2\" d=\"M3734.0562,-1919.8341C3726.1464,-1915.2968 3717.0046,-1910.923 3708,-1908.5424 3455.8546,-1841.8809 1618.711,-1912.6188 1361,-1872.5424 1353.873,-1871.4341 1346.5222,-1869.894 1339.243,-1868.1065\"/>\n",
       "<polygon fill=\"#838b8b\" stroke=\"#838b8b\" points=\"1339.9487,-1864.6735 1329.3888,-1865.5331 1338.1799,-1871.4464 1339.9487,-1864.6735\"/>\n",
       "</g>\n",
       "<!-- callgraphX__tile_5_2 -->\n",
       "<g id=\"node43\" class=\"node\">\n",
       "<title>callgraphX__tile_5_2</title>\n",
       "<ellipse fill=\"#fecccc\" fill-opacity=\"0.698039\" stroke=\"#000000\" cx=\"1607\" cy=\"-1576.452\" rx=\"84.7059\" ry=\"26.7407\"/>\n",
       "<text text-anchor=\"middle\" x=\"1607\" y=\"-1580.252\" font-family=\"Times,serif\" font-size=\"14.00\" fill=\"#000000\">tile_5_2</text>\n",
       "<text text-anchor=\"middle\" x=\"1607\" y=\"-1565.252\" font-family=\"Times,serif\" font-size=\"14.00\" fill=\"#000000\">(callgraph.py:264)</text>\n",
       "</g>\n",
       "<!-- callgraphX&#45;&gt;callgraphX__tile_5_2 -->\n",
       "<g id=\"edge25\" class=\"edge\">\n",
       "<title>callgraphX&#45;&gt;callgraphX__tile_5_2</title>\n",
       "<path fill=\"none\" stroke=\"#838b8b\" stroke-dasharray=\"5,2\" d=\"M3734.0493,-1919.8599C3726.139,-1915.3244 3716.9987,-1910.9451 3708,-1908.5424 3612.5459,-1883.0558 2017.413,-1918.5861 1930,-1872.5424 1817.2039,-1813.1284 1863.2244,-1718.1132 1763,-1639.3221 1739.2825,-1620.6767 1709.2995,-1606.8409 1681.9715,-1596.9696\"/>\n",
       "<polygon fill=\"#838b8b\" stroke=\"#838b8b\" points=\"1683.0254,-1593.6305 1672.4306,-1593.6419 1680.7201,-1600.24 1683.0254,-1593.6305\"/>\n",
       "</g>\n",
       "<!-- callgraphX__tile_5_3 -->\n",
       "<g id=\"node44\" class=\"node\">\n",
       "<title>callgraphX__tile_5_3</title>\n",
       "<ellipse fill=\"#fecccc\" fill-opacity=\"0.698039\" stroke=\"#000000\" cx=\"1689\" cy=\"-948.2712\" rx=\"84.7059\" ry=\"26.7407\"/>\n",
       "<text text-anchor=\"middle\" x=\"1689\" y=\"-952.0712\" font-family=\"Times,serif\" font-size=\"14.00\" fill=\"#000000\">tile_5_3</text>\n",
       "<text text-anchor=\"middle\" x=\"1689\" y=\"-937.0712\" font-family=\"Times,serif\" font-size=\"14.00\" fill=\"#000000\">(callgraph.py:269)</text>\n",
       "</g>\n",
       "<!-- callgraphX&#45;&gt;callgraphX__tile_5_3 -->\n",
       "<g id=\"edge32\" class=\"edge\">\n",
       "<title>callgraphX&#45;&gt;callgraphX__tile_5_3</title>\n",
       "<path fill=\"none\" stroke=\"#838b8b\" stroke-dasharray=\"5,2\" d=\"M3733.5052,-1919.7512C3725.7075,-1915.3266 3716.7712,-1911.0403 3708,-1908.5424 3635.7654,-1887.9714 3088.2679,-1923.3996 3033,-1872.5424 2994.5055,-1837.12 3017,-1808.2446 3017,-1755.9322 3017,-1755.9322 3017,-1755.9322 3017,-1127.7514 3017,-1075.3109 3038.3018,-1045.8599 2999,-1011.1413 2948.14,-966.2122 1844.9814,-986.043 1778,-975.1413 1770.9905,-974.0004 1763.7614,-972.458 1756.5952,-970.6857\"/>\n",
       "<polygon fill=\"#838b8b\" stroke=\"#838b8b\" points=\"1757.4493,-967.2914 1746.8887,-968.1426 1755.6751,-974.0628 1757.4493,-967.2914\"/>\n",
       "</g>\n",
       "<!-- callgraphX__tile_5_4 -->\n",
       "<g id=\"node45\" class=\"node\">\n",
       "<title>callgraphX__tile_5_4</title>\n",
       "<ellipse fill=\"#fecccc\" fill-opacity=\"0.698039\" stroke=\"#000000\" cx=\"1441\" cy=\"-1038.0113\" rx=\"84.7059\" ry=\"26.7407\"/>\n",
       "<text text-anchor=\"middle\" x=\"1441\" y=\"-1041.8113\" font-family=\"Times,serif\" font-size=\"14.00\" fill=\"#000000\">tile_5_4</text>\n",
       "<text text-anchor=\"middle\" x=\"1441\" y=\"-1026.8113\" font-family=\"Times,serif\" font-size=\"14.00\" fill=\"#000000\">(callgraph.py:274)</text>\n",
       "</g>\n",
       "<!-- callgraphX&#45;&gt;callgraphX__tile_5_4 -->\n",
       "<g id=\"edge36\" class=\"edge\">\n",
       "<title>callgraphX&#45;&gt;callgraphX__tile_5_4</title>\n",
       "<path fill=\"none\" stroke=\"#838b8b\" stroke-dasharray=\"5,2\" d=\"M3734.0617,-1919.8129C3726.1523,-1915.2743 3717.0093,-1910.905 3708,-1908.5424 3537.3155,-1863.7826 693.1312,-1944.4686 532,-1872.5424 467.7699,-1843.8712 425,-1826.271 425,-1755.9322 425,-1755.9322 425,-1755.9322 425,-1217.4916 425,-1163.9772 413.7727,-1135.0003 455,-1100.8814 472.0577,-1086.7648 1103.3597,-1054.5051 1346.6941,-1042.5651\"/>\n",
       "<polygon fill=\"#838b8b\" stroke=\"#838b8b\" points=\"1347.1197,-1046.0486 1356.9364,-1042.0633 1346.7771,-1039.057 1347.1197,-1046.0486\"/>\n",
       "</g>\n",
       "<!-- callgraphX__tile_5_5 -->\n",
       "<g id=\"node46\" class=\"node\">\n",
       "<title>callgraphX__tile_5_5</title>\n",
       "<ellipse fill=\"#fecccc\" fill-opacity=\"0.698039\" stroke=\"#000000\" cx=\"2081\" cy=\"-1307.2317\" rx=\"84.7059\" ry=\"26.7407\"/>\n",
       "<text text-anchor=\"middle\" x=\"2081\" y=\"-1311.0317\" font-family=\"Times,serif\" font-size=\"14.00\" fill=\"#000000\">tile_5_5</text>\n",
       "<text text-anchor=\"middle\" x=\"2081\" y=\"-1296.0317\" font-family=\"Times,serif\" font-size=\"14.00\" fill=\"#000000\">(callgraph.py:279)</text>\n",
       "</g>\n",
       "<!-- callgraphX&#45;&gt;callgraphX__tile_5_5 -->\n",
       "<g id=\"edge41\" class=\"edge\">\n",
       "<title>callgraphX&#45;&gt;callgraphX__tile_5_5</title>\n",
       "<path fill=\"none\" stroke=\"#838b8b\" stroke-dasharray=\"5,2\" d=\"M3734.0365,-1919.9073C3726.1254,-1915.3749 3716.9878,-1910.9855 3708,-1908.5424 3575.9552,-1872.6492 2592.2587,-1946.2961 2477,-1872.5424 2428.2441,-1841.3436 2419,-1813.8158 2419,-1755.9322 2419,-1755.9322 2419,-1755.9322 2419,-1486.7119 2419,-1428.8284 2406.5475,-1405.822 2361,-1370.1017 2353.0462,-1363.864 2242.6247,-1340.2636 2162.8651,-1323.8244\"/>\n",
       "<polygon fill=\"#838b8b\" stroke=\"#838b8b\" points=\"2163.3099,-1320.3427 2152.8098,-1321.7564 2161.8997,-1327.1992 2163.3099,-1320.3427\"/>\n",
       "</g>\n",
       "<!-- callgraphX__tile_5_6 -->\n",
       "<g id=\"node47\" class=\"node\">\n",
       "<title>callgraphX__tile_5_6</title>\n",
       "<ellipse fill=\"#fecccc\" fill-opacity=\"0.698039\" stroke=\"#000000\" cx=\"2097\" cy=\"-140.6102\" rx=\"84.7059\" ry=\"26.7407\"/>\n",
       "<text text-anchor=\"middle\" x=\"2097\" y=\"-144.4102\" font-family=\"Times,serif\" font-size=\"14.00\" fill=\"#000000\">tile_5_6</text>\n",
       "<text text-anchor=\"middle\" x=\"2097\" y=\"-129.4102\" font-family=\"Times,serif\" font-size=\"14.00\" fill=\"#000000\">(callgraph.py:287)</text>\n",
       "</g>\n",
       "<!-- callgraphX&#45;&gt;callgraphX__tile_5_6 -->\n",
       "<g id=\"edge47\" class=\"edge\">\n",
       "<title>callgraphX&#45;&gt;callgraphX__tile_5_6</title>\n",
       "<path fill=\"none\" stroke=\"#838b8b\" stroke-dasharray=\"5,2\" d=\"M3733.4532,-1919.9281C3725.6528,-1915.513 3716.7279,-1911.1876 3708,-1908.5424 3619.8343,-1881.8223 3362.2631,-1935.4935 3295,-1872.5424 3256.712,-1836.7089 3277,-1808.3728 3277,-1755.9322 3277,-1755.9322 3277,-1755.9322 3277,-320.0904 3277,-293.9342 3280.4089,-221.0142 3261,-203.4802 3218.5129,-165.0976 2287.8696,-174.1309 2231,-167.4802 2212.9054,-165.3641 2193.6108,-162.1003 2175.4638,-158.5675\"/>\n",
       "<polygon fill=\"#838b8b\" stroke=\"#838b8b\" points=\"2176.0066,-155.1069 2165.5151,-156.5827 2174.637,-161.9716 2176.0066,-155.1069\"/>\n",
       "</g>\n",
       "<!-- callgraphX__tile_5_7 -->\n",
       "<g id=\"node48\" class=\"node\">\n",
       "<title>callgraphX__tile_5_7</title>\n",
       "<ellipse fill=\"#fecccc\" fill-opacity=\"0.698039\" stroke=\"#000000\" cx=\"1869\" cy=\"-230.3503\" rx=\"84.7059\" ry=\"26.7407\"/>\n",
       "<text text-anchor=\"middle\" x=\"1869\" y=\"-234.1503\" font-family=\"Times,serif\" font-size=\"14.00\" fill=\"#000000\">tile_5_7</text>\n",
       "<text text-anchor=\"middle\" x=\"1869\" y=\"-219.1503\" font-family=\"Times,serif\" font-size=\"14.00\" fill=\"#000000\">(callgraph.py:292)</text>\n",
       "</g>\n",
       "<!-- callgraphX&#45;&gt;callgraphX__tile_5_7 -->\n",
       "<g id=\"edge50\" class=\"edge\">\n",
       "<title>callgraphX&#45;&gt;callgraphX__tile_5_7</title>\n",
       "<path fill=\"none\" stroke=\"#838b8b\" stroke-dasharray=\"5,2\" d=\"M3733.4727,-1919.863C3725.6733,-1915.4444 3716.7441,-1911.1334 3708,-1908.5424 3605.0165,-1878.0271 3303.9498,-1946.4384 3226,-1872.5424 3188.0781,-1836.5927 3211,-1808.186 3211,-1755.9322 3211,-1755.9322 3211,-1755.9322 3211,-409.8305 3211,-357.5768 3234.7295,-328.2986 3196,-293.2203 3145.0017,-247.03 2025.9155,-268.26 1958,-257.2203 1950.9903,-256.0809 1943.761,-254.5394 1936.5948,-252.7677\"/>\n",
       "<polygon fill=\"#838b8b\" stroke=\"#838b8b\" points=\"1937.4487,-249.3733 1926.8881,-250.2251 1935.6749,-256.1449 1937.4487,-249.3733\"/>\n",
       "</g>\n",
       "<!-- callgraphX__tile_5_8 -->\n",
       "<g id=\"node49\" class=\"node\">\n",
       "<title>callgraphX__tile_5_8</title>\n",
       "<ellipse fill=\"#fecccc\" fill-opacity=\"0.698039\" stroke=\"#000000\" cx=\"1721\" cy=\"-140.6102\" rx=\"84.7059\" ry=\"26.7407\"/>\n",
       "<text text-anchor=\"middle\" x=\"1721\" y=\"-144.4102\" font-family=\"Times,serif\" font-size=\"14.00\" fill=\"#000000\">tile_5_8</text>\n",
       "<text text-anchor=\"middle\" x=\"1721\" y=\"-129.4102\" font-family=\"Times,serif\" font-size=\"14.00\" fill=\"#000000\">(callgraph.py:300)</text>\n",
       "</g>\n",
       "<!-- callgraphX&#45;&gt;callgraphX__tile_5_8 -->\n",
       "<g id=\"edge55\" class=\"edge\">\n",
       "<title>callgraphX&#45;&gt;callgraphX__tile_5_8</title>\n",
       "<path fill=\"none\" stroke=\"#838b8b\" stroke-dasharray=\"5,2\" d=\"M3733.4684,-1919.8773C3725.6688,-1915.4595 3716.7406,-1911.1453 3708,-1908.5424 3608.6682,-1878.9625 3317.2068,-1944.8966 3243,-1872.5424 3205.6967,-1836.1705 3231,-1808.0327 3231,-1755.9322 3231,-1755.9322 3231,-1755.9322 3231,-320.0904 3231,-161.846 1970.5705,-196.4481 1815,-167.4802 1807.1705,-166.0223 1799.0532,-164.1962 1791.0166,-162.1857\"/>\n",
       "<polygon fill=\"#838b8b\" stroke=\"#838b8b\" points=\"1791.8375,-158.7829 1781.2786,-159.6544 1790.0764,-165.5577 1791.8375,-158.7829\"/>\n",
       "</g>\n",
       "<!-- callgraphX__tile_6_0 -->\n",
       "<g id=\"node50\" class=\"node\">\n",
       "<title>callgraphX__tile_6_0</title>\n",
       "<ellipse fill=\"#fecccc\" fill-opacity=\"0.698039\" stroke=\"#000000\" cx=\"1627\" cy=\"-1486.7119\" rx=\"84.7059\" ry=\"26.7407\"/>\n",
       "<text text-anchor=\"middle\" x=\"1627\" y=\"-1490.5119\" font-family=\"Times,serif\" font-size=\"14.00\" fill=\"#000000\">tile_6_0</text>\n",
       "<text text-anchor=\"middle\" x=\"1627\" y=\"-1475.5119\" font-family=\"Times,serif\" font-size=\"14.00\" fill=\"#000000\">(callgraph.py:305)</text>\n",
       "</g>\n",
       "<!-- callgraphX&#45;&gt;callgraphX__tile_6_0 -->\n",
       "<g id=\"edge59\" class=\"edge\">\n",
       "<title>callgraphX&#45;&gt;callgraphX__tile_6_0</title>\n",
       "<path fill=\"none\" stroke=\"#838b8b\" stroke-dasharray=\"5,2\" d=\"M3734.0455,-1919.874C3726.135,-1915.3394 3716.9955,-1910.9571 3708,-1908.5424 3539.3684,-1863.2762 2300.2702,-1934.4172 2137,-1872.5424 2061.913,-1844.0866 1999,-1836.2304 1999,-1755.9322 1999,-1755.9322 1999,-1755.9322 1999,-1666.1921 1999,-1605.2823 1976.8508,-1584.5807 1927,-1549.582 1893.5507,-1526.0982 1792.2365,-1508.1613 1716.5395,-1497.5695\"/>\n",
       "<polygon fill=\"#838b8b\" stroke=\"#838b8b\" points=\"1716.8911,-1494.0849 1706.5069,-1496.1874 1715.9357,-1501.0195 1716.8911,-1494.0849\"/>\n",
       "</g>\n",
       "<!-- callgraphX__tile_6_1 -->\n",
       "<g id=\"node51\" class=\"node\">\n",
       "<title>callgraphX__tile_6_1</title>\n",
       "<ellipse fill=\"#fecccc\" fill-opacity=\"0.698039\" stroke=\"#000000\" cx=\"1564\" cy=\"-1755.9322\" rx=\"84.7059\" ry=\"26.7407\"/>\n",
       "<text text-anchor=\"middle\" x=\"1564\" y=\"-1759.7322\" font-family=\"Times,serif\" font-size=\"14.00\" fill=\"#000000\">tile_6_1</text>\n",
       "<text text-anchor=\"middle\" x=\"1564\" y=\"-1744.7322\" font-family=\"Times,serif\" font-size=\"14.00\" fill=\"#000000\">(callgraph.py:310)</text>\n",
       "</g>\n",
       "<!-- callgraphX&#45;&gt;callgraphX__tile_6_1 -->\n",
       "<g id=\"edge65\" class=\"edge\">\n",
       "<title>callgraphX&#45;&gt;callgraphX__tile_6_1</title>\n",
       "<path fill=\"none\" stroke=\"#838b8b\" stroke-dasharray=\"5,2\" d=\"M3734.0509,-1919.8539C3726.1407,-1915.318 3717.0001,-1910.94 3708,-1908.5424 3505.6842,-1854.6467 2028.3089,-1918.3063 1824,-1872.5424 1746.1259,-1855.0991 1663.1561,-1813.3367 1612.4339,-1784.83\"/>\n",
       "<polygon fill=\"#838b8b\" stroke=\"#838b8b\" points=\"1614.0789,-1781.7393 1603.6544,-1779.8468 1610.6235,-1787.827 1614.0789,-1781.7393\"/>\n",
       "</g>\n",
       "<!-- callgraphX__tile_6_2 -->\n",
       "<g id=\"node52\" class=\"node\">\n",
       "<title>callgraphX__tile_6_2</title>\n",
       "<ellipse fill=\"#fecccc\" fill-opacity=\"0.698039\" stroke=\"#000000\" cx=\"1651\" cy=\"-1666.1921\" rx=\"84.7059\" ry=\"26.7407\"/>\n",
       "<text text-anchor=\"middle\" x=\"1651\" y=\"-1669.9921\" font-family=\"Times,serif\" font-size=\"14.00\" fill=\"#000000\">tile_6_2</text>\n",
       "<text text-anchor=\"middle\" x=\"1651\" y=\"-1654.9921\" font-family=\"Times,serif\" font-size=\"14.00\" fill=\"#000000\">(callgraph.py:318)</text>\n",
       "</g>\n",
       "<!-- callgraphX&#45;&gt;callgraphX__tile_6_2 -->\n",
       "<g id=\"edge5\" class=\"edge\">\n",
       "<title>callgraphX&#45;&gt;callgraphX__tile_6_2</title>\n",
       "<path fill=\"none\" stroke=\"#838b8b\" stroke-dasharray=\"5,2\" d=\"M3734.0505,-1919.8553C3726.1404,-1915.3194 3716.9998,-1910.9411 3708,-1908.5424 3508.3747,-1855.336 2038.2485,-1955.405 1849,-1872.5424 1767.65,-1836.9233 1703.3185,-1750.3419 1671.9375,-1701.4015\"/>\n",
       "<polygon fill=\"#838b8b\" stroke=\"#838b8b\" points=\"1674.759,-1699.3142 1666.4647,-1692.7221 1668.8378,-1703.0478 1674.759,-1699.3142\"/>\n",
       "</g>\n",
       "<!-- callgraphX__tile_6_3 -->\n",
       "<g id=\"node53\" class=\"node\">\n",
       "<title>callgraphX__tile_6_3</title>\n",
       "<ellipse fill=\"#fecccc\" fill-opacity=\"0.698039\" stroke=\"#000000\" cx=\"1815\" cy=\"-1576.452\" rx=\"84.7059\" ry=\"26.7407\"/>\n",
       "<text text-anchor=\"middle\" x=\"1815\" y=\"-1580.252\" font-family=\"Times,serif\" font-size=\"14.00\" fill=\"#000000\">tile_6_3</text>\n",
       "<text text-anchor=\"middle\" x=\"1815\" y=\"-1565.252\" font-family=\"Times,serif\" font-size=\"14.00\" fill=\"#000000\">(callgraph.py:326)</text>\n",
       "</g>\n",
       "<!-- callgraphX&#45;&gt;callgraphX__tile_6_3 -->\n",
       "<g id=\"edge11\" class=\"edge\">\n",
       "<title>callgraphX&#45;&gt;callgraphX__tile_6_3</title>\n",
       "<path fill=\"none\" stroke=\"#838b8b\" stroke-dasharray=\"5,2\" d=\"M3734.0482,-1919.8639C3726.1379,-1915.3286 3716.9978,-1910.9485 3708,-1908.5424 3615.9897,-1883.9381 2076.0057,-1920.9813 1994,-1872.5424 1890.8793,-1811.6314 1923.3955,-1740.3036 1859,-1639.3221 1853.0831,-1630.0435 1846.4037,-1620.2072 1840.0698,-1611.139\"/>\n",
       "<polygon fill=\"#838b8b\" stroke=\"#838b8b\" points=\"1842.7606,-1608.8814 1834.1391,-1602.7235 1837.0387,-1612.9138 1842.7606,-1608.8814\"/>\n",
       "</g>\n",
       "<!-- callgraphX__tile_6_4 -->\n",
       "<g id=\"node54\" class=\"node\">\n",
       "<title>callgraphX__tile_6_4</title>\n",
       "<ellipse fill=\"#fecccc\" fill-opacity=\"0.698039\" stroke=\"#000000\" cx=\"2066\" cy=\"-1486.7119\" rx=\"84.7059\" ry=\"26.7407\"/>\n",
       "<text text-anchor=\"middle\" x=\"2066\" y=\"-1490.5119\" font-family=\"Times,serif\" font-size=\"14.00\" fill=\"#000000\">tile_6_4</text>\n",
       "<text text-anchor=\"middle\" x=\"2066\" y=\"-1475.5119\" font-family=\"Times,serif\" font-size=\"14.00\" fill=\"#000000\">(callgraph.py:334)</text>\n",
       "</g>\n",
       "<!-- callgraphX&#45;&gt;callgraphX__tile_6_4 -->\n",
       "<g id=\"edge16\" class=\"edge\">\n",
       "<title>callgraphX&#45;&gt;callgraphX__tile_6_4</title>\n",
       "<path fill=\"none\" stroke=\"#838b8b\" stroke-dasharray=\"5,2\" d=\"M3734.0424,-1919.8855C3726.1317,-1915.3517 3716.9929,-1910.967 3708,-1908.5424 3554.1113,-1867.0531 2424.6019,-1924.7169 2274,-1872.5424 2192.2066,-1844.2059 2118,-1842.4951 2118,-1755.9322 2118,-1755.9322 2118,-1755.9322 2118,-1666.1921 2118,-1614.8919 2098.1588,-1558.486 2082.9885,-1522.8561\"/>\n",
       "<polygon fill=\"#838b8b\" stroke=\"#838b8b\" points=\"2086.0607,-1521.1453 2078.8539,-1513.3791 2079.6448,-1523.9444 2086.0607,-1521.1453\"/>\n",
       "</g>\n",
       "<!-- callgraphX__tile_6_5 -->\n",
       "<g id=\"node55\" class=\"node\">\n",
       "<title>callgraphX__tile_6_5</title>\n",
       "<ellipse fill=\"#fecccc\" fill-opacity=\"0.698039\" stroke=\"#000000\" cx=\"2249\" cy=\"-1396.9718\" rx=\"84.7059\" ry=\"26.7407\"/>\n",
       "<text text-anchor=\"middle\" x=\"2249\" y=\"-1400.7718\" font-family=\"Times,serif\" font-size=\"14.00\" fill=\"#000000\">tile_6_5</text>\n",
       "<text text-anchor=\"middle\" x=\"2249\" y=\"-1385.7718\" font-family=\"Times,serif\" font-size=\"14.00\" fill=\"#000000\">(callgraph.py:342)</text>\n",
       "</g>\n",
       "<!-- callgraphX&#45;&gt;callgraphX__tile_6_5 -->\n",
       "<g id=\"edge21\" class=\"edge\">\n",
       "<title>callgraphX&#45;&gt;callgraphX__tile_6_5</title>\n",
       "<path fill=\"none\" stroke=\"#838b8b\" stroke-dasharray=\"5,2\" d=\"M3734.0386,-1919.8998C3726.1276,-1915.3669 3716.9896,-1910.9792 3708,-1908.5424 3569.1762,-1870.9125 2539.4944,-1942.822 2414,-1872.5424 2360.0252,-1842.3154 2338,-1817.7946 2338,-1755.9322 2338,-1755.9322 2338,-1755.9322 2338,-1576.452 2338,-1523.7916 2342.3104,-1506.0209 2317,-1459.8418 2310.5957,-1448.1571 2301.2114,-1437.4489 2291.4478,-1428.3095\"/>\n",
       "<polygon fill=\"#838b8b\" stroke=\"#838b8b\" points=\"2293.7472,-1425.6706 2283.9506,-1421.6362 2289.0931,-1430.8993 2293.7472,-1425.6706\"/>\n",
       "</g>\n",
       "<!-- callgraphX__tile_6_6 -->\n",
       "<g id=\"node56\" class=\"node\">\n",
       "<title>callgraphX__tile_6_6</title>\n",
       "<ellipse fill=\"#fecccc\" fill-opacity=\"0.698039\" stroke=\"#000000\" cx=\"1124\" cy=\"-1217.4916\" rx=\"84.7059\" ry=\"26.7407\"/>\n",
       "<text text-anchor=\"middle\" x=\"1124\" y=\"-1221.2916\" font-family=\"Times,serif\" font-size=\"14.00\" fill=\"#000000\">tile_6_6</text>\n",
       "<text text-anchor=\"middle\" x=\"1124\" y=\"-1206.2916\" font-family=\"Times,serif\" font-size=\"14.00\" fill=\"#000000\">(callgraph.py:350)</text>\n",
       "</g>\n",
       "<!-- callgraphX&#45;&gt;callgraphX__tile_6_6 -->\n",
       "<g id=\"edge26\" class=\"edge\">\n",
       "<title>callgraphX&#45;&gt;callgraphX__tile_6_6</title>\n",
       "<path fill=\"none\" stroke=\"#838b8b\" stroke-dasharray=\"5,2\" d=\"M3734.0556,-1919.8361C3726.1458,-1915.299 3717.0041,-1910.9248 3708,-1908.5424 3585.0484,-1876.0113 1530.33,-1934.0322 1419,-1872.5424 1394.0493,-1858.7617 1408.1999,-1833.8625 1384,-1818.8023 1270.3601,-1748.0815 1216.3012,-1808.7917 1085,-1782.8023 827.1361,-1731.7614 573,-1749.5787 573,-1486.7119 573,-1486.7119 573,-1486.7119 573,-1396.9718 573,-1371.9476 574.4184,-1322.4973 641,-1280.3616 715.2932,-1233.3457 948.698,-1261.1529 1035,-1244.3616 1041.7061,-1243.0568 1048.6277,-1241.449 1055.5103,-1239.6739\"/>\n",
       "<polygon fill=\"#838b8b\" stroke=\"#838b8b\" points=\"1056.793,-1242.953 1065.5363,-1236.9693 1054.9699,-1236.1946 1056.793,-1242.953\"/>\n",
       "</g>\n",
       "<!-- callgraphX__tile_6_7 -->\n",
       "<g id=\"node57\" class=\"node\">\n",
       "<title>callgraphX__tile_6_7</title>\n",
       "<ellipse fill=\"#fecccc\" fill-opacity=\"0.698039\" stroke=\"#000000\" cx=\"1909\" cy=\"-140.6102\" rx=\"84.7059\" ry=\"26.7407\"/>\n",
       "<text text-anchor=\"middle\" x=\"1909\" y=\"-144.4102\" font-family=\"Times,serif\" font-size=\"14.00\" fill=\"#000000\">tile_6_7</text>\n",
       "<text text-anchor=\"middle\" x=\"1909\" y=\"-129.4102\" font-family=\"Times,serif\" font-size=\"14.00\" fill=\"#000000\">(callgraph.py:355)</text>\n",
       "</g>\n",
       "<!-- callgraphX&#45;&gt;callgraphX__tile_6_7 -->\n",
       "<g id=\"edge31\" class=\"edge\">\n",
       "<title>callgraphX&#45;&gt;callgraphX__tile_6_7</title>\n",
       "<path fill=\"none\" stroke=\"#838b8b\" stroke-dasharray=\"5,2\" d=\"M3733.4619,-1919.8993C3725.6619,-1915.4826 3716.7351,-1911.1636 3708,-1908.5424 3613.8226,-1880.2826 3336.9636,-1941.63 3267,-1872.5424 3229.9591,-1835.9653 3256,-1807.9891 3256,-1755.9322 3256,-1755.9322 3256,-1755.9322 3256,-320.0904 3256,-267.5069 3275.7033,-237.9574 3236,-203.4802 3184.2569,-158.548 2070.7202,-177.979 2003,-167.4802 1994.8023,-166.2093 1986.3086,-164.4443 1977.9305,-162.4201\"/>\n",
       "<polygon fill=\"#838b8b\" stroke=\"#838b8b\" points=\"1978.7275,-159.0115 1968.1733,-159.939 1977.0023,-165.7956 1978.7275,-159.0115\"/>\n",
       "</g>\n",
       "<!-- callgraphX__tile_6_8 -->\n",
       "<g id=\"node58\" class=\"node\">\n",
       "<title>callgraphX__tile_6_8</title>\n",
       "<ellipse fill=\"#fecccc\" fill-opacity=\"0.698039\" stroke=\"#000000\" cx=\"2681\" cy=\"-140.6102\" rx=\"84.7059\" ry=\"26.7407\"/>\n",
       "<text text-anchor=\"middle\" x=\"2681\" y=\"-144.4102\" font-family=\"Times,serif\" font-size=\"14.00\" fill=\"#000000\">tile_6_8</text>\n",
       "<text text-anchor=\"middle\" x=\"2681\" y=\"-129.4102\" font-family=\"Times,serif\" font-size=\"14.00\" fill=\"#000000\">(callgraph.py:361)</text>\n",
       "</g>\n",
       "<!-- callgraphX&#45;&gt;callgraphX__tile_6_8 -->\n",
       "<g id=\"edge45\" class=\"edge\">\n",
       "<title>callgraphX&#45;&gt;callgraphX__tile_6_8</title>\n",
       "<path fill=\"none\" stroke=\"#838b8b\" stroke-dasharray=\"5,2\" d=\"M3732.4597,-1920.2193C3724.8317,-1915.9768 3716.2541,-1911.6758 3708,-1908.5424 3549.7278,-1848.4606 3359,-1925.2247 3359,-1755.9322 3359,-1755.9322 3359,-1755.9322 3359,-320.0904 3359,-267.8366 3382.1256,-239.2139 3344,-203.4802 3297.7793,-160.1593 2837.4268,-178.248 2775,-167.4802 2767.0329,-166.106 2758.7763,-164.3129 2750.6137,-162.3044\"/>\n",
       "<polygon fill=\"#838b8b\" stroke=\"#838b8b\" points=\"2751.2863,-158.8636 2740.7296,-159.7613 2749.542,-165.6428 2751.2863,-158.8636\"/>\n",
       "</g>\n",
       "<!-- callgraphX__tile_7_0 -->\n",
       "<g id=\"node59\" class=\"node\">\n",
       "<title>callgraphX__tile_7_0</title>\n",
       "<ellipse fill=\"#fecccc\" fill-opacity=\"0.698039\" stroke=\"#000000\" cx=\"2869\" cy=\"-140.6102\" rx=\"84.7059\" ry=\"26.7407\"/>\n",
       "<text text-anchor=\"middle\" x=\"2869\" y=\"-144.4102\" font-family=\"Times,serif\" font-size=\"14.00\" fill=\"#000000\">tile_7_0</text>\n",
       "<text text-anchor=\"middle\" x=\"2869\" y=\"-129.4102\" font-family=\"Times,serif\" font-size=\"14.00\" fill=\"#000000\">(callgraph.py:366)</text>\n",
       "</g>\n",
       "<!-- callgraphX&#45;&gt;callgraphX__tile_7_0 -->\n",
       "<g id=\"edge52\" class=\"edge\">\n",
       "<title>callgraphX&#45;&gt;callgraphX__tile_7_0</title>\n",
       "<path fill=\"none\" stroke=\"#838b8b\" stroke-dasharray=\"5,2\" d=\"M3731.8026,-1920.3205C3724.2986,-1916.1776 3715.9531,-1911.9053 3708,-1908.5424 3657.8898,-1887.3536 3630.5099,-1909.9452 3591,-1872.5424 3550.8857,-1834.5676 3548,-1811.1703 3548,-1755.9322 3548,-1755.9322 3548,-1755.9322 3548,-320.0904 3548,-109.7155 3064.6745,-186.4004 2963,-167.4802 2955.1703,-166.0232 2947.0529,-164.1977 2939.0163,-162.1875\"/>\n",
       "<polygon fill=\"#838b8b\" stroke=\"#838b8b\" points=\"2939.8371,-158.7847 2929.2782,-159.6565 2938.0762,-165.5596 2939.8371,-158.7847\"/>\n",
       "</g>\n",
       "<!-- callgraphX__tile_7_1 -->\n",
       "<g id=\"node60\" class=\"node\">\n",
       "<title>callgraphX__tile_7_1</title>\n",
       "<ellipse fill=\"#fecccc\" fill-opacity=\"0.698039\" stroke=\"#000000\" cx=\"856\" cy=\"-1666.1921\" rx=\"84.7059\" ry=\"26.7407\"/>\n",
       "<text text-anchor=\"middle\" x=\"856\" y=\"-1669.9921\" font-family=\"Times,serif\" font-size=\"14.00\" fill=\"#000000\">tile_7_1</text>\n",
       "<text text-anchor=\"middle\" x=\"856\" y=\"-1654.9921\" font-family=\"Times,serif\" font-size=\"14.00\" fill=\"#000000\">(callgraph.py:371)</text>\n",
       "</g>\n",
       "<!-- callgraphX&#45;&gt;callgraphX__tile_7_1 -->\n",
       "<g id=\"edge58\" class=\"edge\">\n",
       "<title>callgraphX&#45;&gt;callgraphX__tile_7_1</title>\n",
       "<path fill=\"none\" stroke=\"#838b8b\" stroke-dasharray=\"5,2\" d=\"M3734.0548,-1919.8393C3726.1449,-1915.3024 3717.0034,-1910.9275 3708,-1908.5424 3471.3526,-1845.8514 1739.7674,-1941.943 1505,-1872.5424 1461.7779,-1859.7653 1460.3762,-1836.6746 1419,-1818.8023 1361.2052,-1793.838 1342.8063,-1799.1133 1282,-1782.8023 1158.3983,-1749.6467 1014.9029,-1710.1612 929.9831,-1686.6903\"/>\n",
       "<polygon fill=\"#838b8b\" stroke=\"#838b8b\" points=\"930.7477,-1683.2704 920.1765,-1683.979 928.8823,-1690.0173 930.7477,-1683.2704\"/>\n",
       "</g>\n",
       "<!-- callgraphX__tile_7_2 -->\n",
       "<g id=\"node61\" class=\"node\">\n",
       "<title>callgraphX__tile_7_2</title>\n",
       "<ellipse fill=\"#fecccc\" fill-opacity=\"0.698039\" stroke=\"#000000\" cx=\"1833\" cy=\"-1396.9718\" rx=\"84.7059\" ry=\"26.7407\"/>\n",
       "<text text-anchor=\"middle\" x=\"1833\" y=\"-1400.7718\" font-family=\"Times,serif\" font-size=\"14.00\" fill=\"#000000\">tile_7_2</text>\n",
       "<text text-anchor=\"middle\" x=\"1833\" y=\"-1385.7718\" font-family=\"Times,serif\" font-size=\"14.00\" fill=\"#000000\">(callgraph.py:376)</text>\n",
       "</g>\n",
       "<!-- callgraphX&#45;&gt;callgraphX__tile_7_2 -->\n",
       "<g id=\"edge44\" class=\"edge\">\n",
       "<title>callgraphX&#45;&gt;callgraphX__tile_7_2</title>\n",
       "<path fill=\"none\" stroke=\"#838b8b\" stroke-dasharray=\"5,2\" d=\"M3734.0415,-1919.8888C3726.1308,-1915.3552 3716.9921,-1910.9698 3708,-1908.5424 3632.9388,-1888.2802 2369.8265,-1920.9664 2309,-1872.5424 2267.1328,-1839.2119 2279,-1809.4466 2279,-1755.9322 2279,-1755.9322 2279,-1755.9322 2279,-1576.452 2279,-1422.0859 2118.7761,-1452.0008 1967,-1423.8418 1949.9362,-1420.676 1931.6841,-1417.1257 1914.3157,-1413.669\"/>\n",
       "<polygon fill=\"#838b8b\" stroke=\"#838b8b\" points=\"1914.6994,-1410.1766 1904.2073,-1411.6483 1913.3271,-1417.0407 1914.6994,-1410.1766\"/>\n",
       "</g>\n",
       "<!-- callgraphX__tile_7_3 -->\n",
       "<g id=\"node62\" class=\"node\">\n",
       "<title>callgraphX__tile_7_3</title>\n",
       "<ellipse fill=\"#fecccc\" fill-opacity=\"0.698039\" stroke=\"#000000\" cx=\"2061\" cy=\"-1396.9718\" rx=\"84.7059\" ry=\"26.7407\"/>\n",
       "<text text-anchor=\"middle\" x=\"2061\" y=\"-1400.7718\" font-family=\"Times,serif\" font-size=\"14.00\" fill=\"#000000\">tile_7_3</text>\n",
       "<text text-anchor=\"middle\" x=\"2061\" y=\"-1385.7718\" font-family=\"Times,serif\" font-size=\"14.00\" fill=\"#000000\">(callgraph.py:381)</text>\n",
       "</g>\n",
       "<!-- callgraphX&#45;&gt;callgraphX__tile_7_3 -->\n",
       "<g id=\"edge62\" class=\"edge\">\n",
       "<title>callgraphX&#45;&gt;callgraphX__tile_7_3</title>\n",
       "<path fill=\"none\" stroke=\"#838b8b\" stroke-dasharray=\"5,2\" d=\"M3734.0405,-1919.8926C3726.1297,-1915.3593 3716.9912,-1910.973 3708,-1908.5424 3634.9833,-1888.804 2407.0843,-1918.4872 2347,-1872.5424 2304.0159,-1839.6737 2312,-1810.0431 2312,-1755.9322 2312,-1755.9322 2312,-1755.9322 2312,-1576.452 2312,-1523.1522 2320.9948,-1498.2119 2284,-1459.8418 2242.6851,-1416.9911 2212.2828,-1440.0218 2155,-1423.8418 2148.0938,-1421.8911 2140.9047,-1419.8518 2133.7145,-1417.8064\"/>\n",
       "<polygon fill=\"#838b8b\" stroke=\"#838b8b\" points=\"2134.5119,-1414.3943 2123.9356,-1415.0211 2132.5943,-1421.1266 2134.5119,-1414.3943\"/>\n",
       "</g>\n",
       "<!-- callgraphX__tile_7_4 -->\n",
       "<g id=\"node63\" class=\"node\">\n",
       "<title>callgraphX__tile_7_4</title>\n",
       "<ellipse fill=\"#fecccc\" fill-opacity=\"0.698039\" stroke=\"#000000\" cx=\"2312\" cy=\"-1307.2317\" rx=\"84.7059\" ry=\"26.7407\"/>\n",
       "<text text-anchor=\"middle\" x=\"2312\" y=\"-1311.0317\" font-family=\"Times,serif\" font-size=\"14.00\" fill=\"#000000\">tile_7_4</text>\n",
       "<text text-anchor=\"middle\" x=\"2312\" y=\"-1296.0317\" font-family=\"Times,serif\" font-size=\"14.00\" fill=\"#000000\">(callgraph.py:386)</text>\n",
       "</g>\n",
       "<!-- callgraphX&#45;&gt;callgraphX__tile_7_4 -->\n",
       "<g id=\"edge2\" class=\"edge\">\n",
       "<title>callgraphX&#45;&gt;callgraphX__tile_7_4</title>\n",
       "<path fill=\"none\" stroke=\"#838b8b\" stroke-dasharray=\"5,2\" d=\"M3734.034,-1919.9166C3726.1227,-1915.3848 3716.9857,-1910.9935 3708,-1908.5424 3583.4871,-1874.5788 2660.2473,-1934.446 2547,-1872.5424 2491.8508,-1842.3966 2467,-1818.7829 2467,-1755.9322 2467,-1755.9322 2467,-1755.9322 2467,-1486.7119 2467,-1431.4738 2459.8501,-1412.1257 2424,-1370.1017 2410.8752,-1354.7167 2392.9933,-1342.342 2375.3722,-1332.7756\"/>\n",
       "<polygon fill=\"#838b8b\" stroke=\"#838b8b\" points=\"2376.697,-1329.5202 2366.2078,-1328.0279 2373.477,-1335.7356 2376.697,-1329.5202\"/>\n",
       "</g>\n",
       "<!-- callgraphX__tile_7_5 -->\n",
       "<g id=\"node64\" class=\"node\">\n",
       "<title>callgraphX__tile_7_5</title>\n",
       "<ellipse fill=\"#fecccc\" fill-opacity=\"0.698039\" stroke=\"#000000\" cx=\"2500\" cy=\"-1307.2317\" rx=\"84.7059\" ry=\"26.7407\"/>\n",
       "<text text-anchor=\"middle\" x=\"2500\" y=\"-1311.0317\" font-family=\"Times,serif\" font-size=\"14.00\" fill=\"#000000\">tile_7_5</text>\n",
       "<text text-anchor=\"middle\" x=\"2500\" y=\"-1296.0317\" font-family=\"Times,serif\" font-size=\"14.00\" fill=\"#000000\">(callgraph.py:391)</text>\n",
       "</g>\n",
       "<!-- callgraphX&#45;&gt;callgraphX__tile_7_5 -->\n",
       "<g id=\"edge7\" class=\"edge\">\n",
       "<title>callgraphX&#45;&gt;callgraphX__tile_7_5</title>\n",
       "<path fill=\"none\" stroke=\"#838b8b\" stroke-dasharray=\"5,2\" d=\"M3734.0319,-1919.9244C3726.1204,-1915.3931 3716.9839,-1911.0001 3708,-1908.5424 3589.1896,-1876.0397 2703.4146,-1939.4586 2600,-1872.5424 2551.5679,-1841.2036 2543,-1813.6192 2543,-1755.9322 2543,-1755.9322 2543,-1755.9322 2543,-1486.7119 2543,-1436.0437 2526.5929,-1379.489 2514.0482,-1343.653\"/>\n",
       "<polygon fill=\"#838b8b\" stroke=\"#838b8b\" points=\"2517.2989,-1342.349 2510.6292,-1334.1169 2510.7096,-1344.7115 2517.2989,-1342.349\"/>\n",
       "</g>\n",
       "<!-- callgraphX__tile_7_6 -->\n",
       "<g id=\"node65\" class=\"node\">\n",
       "<title>callgraphX__tile_7_6</title>\n",
       "<ellipse fill=\"#fecccc\" fill-opacity=\"0.698039\" stroke=\"#000000\" cx=\"3057\" cy=\"-140.6102\" rx=\"84.7059\" ry=\"26.7407\"/>\n",
       "<text text-anchor=\"middle\" x=\"3057\" y=\"-144.4102\" font-family=\"Times,serif\" font-size=\"14.00\" fill=\"#000000\">tile_7_6</text>\n",
       "<text text-anchor=\"middle\" x=\"3057\" y=\"-129.4102\" font-family=\"Times,serif\" font-size=\"14.00\" fill=\"#000000\">(callgraph.py:396)</text>\n",
       "</g>\n",
       "<!-- callgraphX&#45;&gt;callgraphX__tile_7_6 -->\n",
       "<g id=\"edge10\" class=\"edge\">\n",
       "<title>callgraphX&#45;&gt;callgraphX__tile_7_6</title>\n",
       "<path fill=\"none\" stroke=\"#838b8b\" stroke-dasharray=\"5,2\" d=\"M3732.2767,-1920.0735C3713.9445,-1908.1625 3688.8072,-1890.6696 3669,-1872.5424 3618.6344,-1826.4488 3569,-1824.2061 3569,-1755.9322 3569,-1755.9322 3569,-1755.9322 3569,-320.0904 3569,-293.9342 3571.9251,-221.5353 3553,-203.4802 3488.1049,-141.5684 3239.1789,-183.8789 3151,-167.4802 3143.1702,-166.0241 3135.0526,-164.1991 3127.016,-162.1893\"/>\n",
       "<polygon fill=\"#838b8b\" stroke=\"#838b8b\" points=\"3127.8367,-158.7864 3117.2779,-159.6585 3126.076,-165.5613 3127.8367,-158.7864\"/>\n",
       "</g>\n",
       "<!-- callgraphX__tile_7_7 -->\n",
       "<g id=\"node66\" class=\"node\">\n",
       "<title>callgraphX__tile_7_7</title>\n",
       "<ellipse fill=\"#fecccc\" fill-opacity=\"0.698039\" stroke=\"#000000\" cx=\"3245\" cy=\"-140.6102\" rx=\"84.7059\" ry=\"26.7407\"/>\n",
       "<text text-anchor=\"middle\" x=\"3245\" y=\"-144.4102\" font-family=\"Times,serif\" font-size=\"14.00\" fill=\"#000000\">tile_7_7</text>\n",
       "<text text-anchor=\"middle\" x=\"3245\" y=\"-129.4102\" font-family=\"Times,serif\" font-size=\"14.00\" fill=\"#000000\">(callgraph.py:401)</text>\n",
       "</g>\n",
       "<!-- callgraphX&#45;&gt;callgraphX__tile_7_7 -->\n",
       "<g id=\"edge14\" class=\"edge\">\n",
       "<title>callgraphX&#45;&gt;callgraphX__tile_7_7</title>\n",
       "<path fill=\"none\" stroke=\"#838b8b\" stroke-dasharray=\"5,2\" d=\"M3734.3826,-1919.643C3719.881,-1908.268 3701.9663,-1891.6027 3692,-1872.5424 3667.6688,-1826.0095 3673,-1808.4424 3673,-1755.9322 3673,-1755.9322 3673,-1755.9322 3673,-320.0904 3673,-252.105 3633.3521,-236.6366 3574,-203.4802 3481.755,-151.9486 3442.2252,-190.0457 3339,-167.4802 3331.48,-165.8363 3323.6744,-163.9316 3315.9203,-161.91\"/>\n",
       "<polygon fill=\"#838b8b\" stroke=\"#838b8b\" points=\"3316.7161,-158.4999 3306.1513,-159.2978 3314.9077,-165.2623 3316.7161,-158.4999\"/>\n",
       "</g>\n",
       "<!-- callgraphX__tile_7_8 -->\n",
       "<g id=\"node67\" class=\"node\">\n",
       "<title>callgraphX__tile_7_8</title>\n",
       "<ellipse fill=\"#fecccc\" fill-opacity=\"0.698039\" stroke=\"#000000\" cx=\"3433\" cy=\"-140.6102\" rx=\"84.7059\" ry=\"26.7407\"/>\n",
       "<text text-anchor=\"middle\" x=\"3433\" y=\"-144.4102\" font-family=\"Times,serif\" font-size=\"14.00\" fill=\"#000000\">tile_7_8</text>\n",
       "<text text-anchor=\"middle\" x=\"3433\" y=\"-129.4102\" font-family=\"Times,serif\" font-size=\"14.00\" fill=\"#000000\">(callgraph.py:406)</text>\n",
       "</g>\n",
       "<!-- callgraphX&#45;&gt;callgraphX__tile_7_8 -->\n",
       "<g id=\"edge18\" class=\"edge\">\n",
       "<title>callgraphX&#45;&gt;callgraphX__tile_7_8</title>\n",
       "<path fill=\"none\" stroke=\"#838b8b\" stroke-dasharray=\"5,2\" d=\"M3742.2181,-1918.1537C3732.7031,-1906.1321 3720.8713,-1889.3052 3714,-1872.5424 3694.0266,-1823.8168 3693,-1808.5927 3693,-1755.9322 3693,-1755.9322 3693,-1755.9322 3693,-320.0904 3693,-293.9635 3695.4688,-222.9084 3678,-203.4802 3631.871,-152.1771 3593.7395,-184.9655 3527,-167.4802 3519.945,-165.6319 3512.6101,-163.647 3505.288,-161.6235\"/>\n",
       "<polygon fill=\"#838b8b\" stroke=\"#838b8b\" points=\"3505.9114,-158.1639 3495.3388,-158.8494 3504.0313,-164.9067 3505.9114,-158.1639\"/>\n",
       "</g>\n",
       "<!-- callgraphX__maze&#45;&gt;callgraphX__tile_2_1 -->\n",
       "<g id=\"edge83\" class=\"edge\">\n",
       "<title>callgraphX__maze&#45;&gt;callgraphX__tile_2_1</title>\n",
       "<path fill=\"none\" stroke=\"#000000\" d=\"M1890.3977,-2202.1519C1686.2145,-2195.3823 1147.6163,-2174.8556 972,-2141.7628 965.7792,-2140.5905 959.3769,-2139.0961 953.0138,-2137.4141\"/>\n",
       "<polygon fill=\"#000000\" stroke=\"#000000\" points=\"953.652,-2133.9584 943.0789,-2134.636 951.7669,-2140.6998 953.652,-2133.9584\"/>\n",
       "</g>\n",
       "<!-- callgraphX__tile_1_0&#45;&gt;callgraphX__print_maze -->\n",
       "<g id=\"edge67\" class=\"edge\">\n",
       "<title>callgraphX__tile_1_0&#45;&gt;callgraphX__print_maze</title>\n",
       "<path fill=\"none\" stroke=\"#000000\" d=\"M3560.0316,-121.2585C3549.1924,-118.2123 3537.8343,-115.4942 3527,-113.7401 3309.6984,-78.5584 1737.8188,-56.7585 1352.2284,-51.9032\"/>\n",
       "<polygon fill=\"#000000\" stroke=\"#000000\" points=\"1352.0246,-48.4005 1341.9815,-51.7747 1351.9367,-55.4 1352.0246,-48.4005\"/>\n",
       "</g>\n",
       "<!-- callgraphX__tile_1_1&#45;&gt;callgraphX__print_maze -->\n",
       "<g id=\"edge68\" class=\"edge\">\n",
       "<title>callgraphX__tile_1_1&#45;&gt;callgraphX__print_maze</title>\n",
       "<path fill=\"none\" stroke=\"#000000\" d=\"M1854.3306,-1190.4884C1849.8899,-1155.4171 1843,-1092.262 1843,-1038.0113 1843,-1038.0113 1843,-1038.0113 1843,-679.0509 1843,-627.0339 1861.5781,-605.904 1833,-562.4407 1814.428,-534.1954 1787.5285,-552.5029 1766,-526.4407 1718.1101,-468.4657 1719.1923,-255.6121 1665,-203.4802 1620.8671,-161.0254 1580.2651,-205.1711 1532,-167.4802 1510.4408,-150.6443 1523.5839,-130.5444 1502,-113.7401 1477.389,-94.5791 1402.9468,-76.5995 1344.3688,-64.8168\"/>\n",
       "<polygon fill=\"#000000\" stroke=\"#000000\" points=\"1344.8642,-61.3469 1334.3744,-62.835 1343.5027,-68.2133 1344.8642,-61.3469\"/>\n",
       "</g>\n",
       "<!-- callgraphX__tile_1_2&#45;&gt;callgraphX__print_maze -->\n",
       "<g id=\"edge69\" class=\"edge\">\n",
       "<title>callgraphX__tile_1_2&#45;&gt;callgraphX__print_maze</title>\n",
       "<path fill=\"none\" stroke=\"#000000\" d=\"M2441.5131,-121.3613C2430.8223,-118.3466 2419.6505,-115.6134 2409,-113.7401 2206.0455,-78.0437 1581.4825,-58.9026 1352.3907,-52.937\"/>\n",
       "<polygon fill=\"#000000\" stroke=\"#000000\" points=\"1352.1981,-49.4309 1342.1109,-52.6712 1352.0171,-56.4286 1352.1981,-49.4309\"/>\n",
       "</g>\n",
       "<!-- callgraphX__tile_1_3&#45;&gt;callgraphX__print_maze -->\n",
       "<g id=\"edge70\" class=\"edge\">\n",
       "<title>callgraphX__tile_1_3&#45;&gt;callgraphX__print_maze</title>\n",
       "<path fill=\"none\" stroke=\"#000000\" d=\"M340.9407,-482.9677C317.6196,-473.4377 293.5793,-458.8105 280,-436.7006 258.9973,-402.5039 280.2614,-385.8923 290,-346.9605 299.9161,-307.3189 301.3738,-297.1625 310,-257.2203 323.7528,-193.5405 290.8584,-156.5112 340,-113.7401 371.5125,-86.3128 959.2279,-62.0998 1182.192,-53.8638\"/>\n",
       "<polygon fill=\"#000000\" stroke=\"#000000\" points=\"1182.346,-57.3606 1192.2106,-53.4954 1182.0887,-50.3653 1182.346,-57.3606\"/>\n",
       "</g>\n",
       "<!-- callgraphX__tile_1_4&#45;&gt;callgraphX__print_maze -->\n",
       "<g id=\"edge71\" class=\"edge\">\n",
       "<title>callgraphX__tile_1_4&#45;&gt;callgraphX__print_maze</title>\n",
       "<path fill=\"none\" stroke=\"#000000\" d=\"M1418.9371,-654.5211C1430.6491,-644.0351 1442.7232,-630.8269 1450,-616.1808 1473.2503,-569.3847 1465,-551.8244 1465,-499.5706 1465,-499.5706 1465,-499.5706 1465,-320.0904 1465,-267.8366 1484.5249,-242.7038 1450,-203.4802 1408.1199,-155.9005 1359.2825,-209.6957 1312,-167.4802 1299.6748,-156.4759 1286.0894,-117.2997 1277.1045,-87.3625\"/>\n",
       "<polygon fill=\"#000000\" stroke=\"#000000\" points=\"1280.4188,-86.2264 1274.2423,-77.6181 1273.7025,-88.1992 1280.4188,-86.2264\"/>\n",
       "</g>\n",
       "<!-- callgraphX__tile_1_5&#45;&gt;callgraphX__print_maze -->\n",
       "<g id=\"edge72\" class=\"edge\">\n",
       "<title>callgraphX__tile_1_5&#45;&gt;callgraphX__print_maze</title>\n",
       "<path fill=\"none\" stroke=\"#000000\" d=\"M1724.2687,-563.2269C1700.8695,-529.6327 1665,-468.5576 1665,-409.8305 1665,-409.8305 1665,-409.8305 1665,-320.0904 1665,-267.8366 1684.5249,-242.7038 1650,-203.4802 1608.1199,-155.9005 1562.1359,-206.2638 1512,-167.4802 1490.3639,-150.7432 1503.3885,-130.7923 1482,-113.7401 1444.2681,-83.658 1392.602,-67.9672 1349.3744,-59.784\"/>\n",
       "<polygon fill=\"#000000\" stroke=\"#000000\" points=\"1349.8972,-56.3221 1339.4369,-58.0052 1348.6637,-63.2125 1349.8972,-56.3221\"/>\n",
       "</g>\n",
       "<!-- callgraphX__tile_1_6&#45;&gt;callgraphX__print_maze -->\n",
       "<g id=\"edge73\" class=\"edge\">\n",
       "<title>callgraphX__tile_1_6&#45;&gt;callgraphX__print_maze</title>\n",
       "<path fill=\"none\" stroke=\"#000000\" d=\"M1069.4752,-475.3196C1081.7354,-464.8699 1094.3766,-451.6137 1102,-436.7006 1125.7842,-390.1735 1117,-372.3442 1117,-320.0904 1117,-320.0904 1117,-320.0904 1117,-230.3503 1117,-178.0965 1101.154,-155.918 1132,-113.7401 1147.2249,-92.922 1171.0833,-78.7819 1194.535,-69.2765\"/>\n",
       "<polygon fill=\"#000000\" stroke=\"#000000\" points=\"1196.0798,-72.4335 1204.1815,-65.6061 1193.5905,-65.8911 1196.0798,-72.4335\"/>\n",
       "</g>\n",
       "<!-- callgraphX__tile_1_7&#45;&gt;callgraphX__print_maze -->\n",
       "<g id=\"edge74\" class=\"edge\">\n",
       "<title>callgraphX__tile_1_7&#45;&gt;callgraphX__print_maze</title>\n",
       "<path fill=\"none\" stroke=\"#000000\" d=\"M822.9374,-382.6302C835.4976,-316.4855 870.6179,-149.9864 912,-113.7401 951.3692,-79.2569 1090.7921,-62.9972 1182.7493,-55.8671\"/>\n",
       "<polygon fill=\"#000000\" stroke=\"#000000\" points=\"1183.1745,-59.3451 1192.8831,-55.1033 1182.6483,-52.3649 1183.1745,-59.3451\"/>\n",
       "</g>\n",
       "<!-- callgraphX__tile_1_8&#45;&gt;callgraphX__print_maze -->\n",
       "<g id=\"edge75\" class=\"edge\">\n",
       "<title>callgraphX__tile_1_8&#45;&gt;callgraphX__print_maze</title>\n",
       "<path fill=\"none\" stroke=\"#000000\" d=\"M2262.2824,-122.0245C2250.3909,-118.787 2237.8732,-115.802 2226,-113.7401 2059.168,-84.768 1554.0372,-62.2159 1351.9254,-54.116\"/>\n",
       "<polygon fill=\"#000000\" stroke=\"#000000\" points=\"1351.7928,-50.608 1341.6612,-53.7067 1351.5138,-57.6025 1351.7928,-50.608\"/>\n",
       "</g>\n",
       "<!-- callgraphX__tile_2_0&#45;&gt;callgraphX__print_maze -->\n",
       "<g id=\"edge76\" class=\"edge\">\n",
       "<title>callgraphX__tile_2_0&#45;&gt;callgraphX__print_maze</title>\n",
       "<path fill=\"none\" stroke=\"#000000\" d=\"M604.6605,-1908.8259C609.2315,-1897.7498 614.2646,-1884.666 618,-1872.5424 630.0321,-1833.491 632.8889,-1823.3444 638,-1782.8023 664.4502,-1572.9932 653,-1518.7015 653,-1307.2317 653,-1307.2317 653,-1307.2317 653,-1217.4916 653,-1191.4831 658.2328,-1121.9623 643,-1100.8814 619.2109,-1067.9594 592.4565,-1087.9127 559,-1064.8814 513.243,-1033.3824 505.04,-1019.7982 472,-975.1413 468.6135,-970.5641 374.8896,-801.0321 373,-795.661 337.9935,-696.1572 381.1379,-654.1364 329,-562.4407 317.3403,-541.9347 302.6082,-546.3775 290,-526.4407 278.8342,-508.7847 265.147,-457.3526 262,-436.7006 258.4019,-413.0887 260.9385,-406.8214 262,-382.9605 263.3371,-352.9038 269.1783,-134.4526 291,-113.7401 323.1006,-83.2713 950.4754,-60.7254 1182.0636,-53.4111\"/>\n",
       "<polygon fill=\"#000000\" stroke=\"#000000\" points=\"1182.2413,-56.9073 1192.1264,-53.095 1182.0214,-49.9108 1182.2413,-56.9073\"/>\n",
       "</g>\n",
       "<!-- callgraphX__tile_2_1&#45;&gt;callgraphX__print_maze -->\n",
       "<g id=\"edge81\" class=\"edge\">\n",
       "<title>callgraphX__tile_2_1&#45;&gt;callgraphX__print_maze</title>\n",
       "<path fill=\"none\" stroke=\"#000000\" d=\"M814.1267,-2104.3886C761.4044,-2095.1056 689.7279,-2078.7815 631,-2052.0227 568.1069,-2023.366 535.7818,-2023.6557 504,-1962.2825 460.8905,-1879.0348 585.6142,-1823.5312 618,-1693.0622 623.7541,-1669.8812 618.3911,-1663.2034 618,-1639.3221 616.8887,-1571.468 613,-1554.575 613,-1486.7119 613,-1486.7119 613,-1486.7119 613,-1396.9718 613,-1345.0974 616.1057,-1331.5988 608,-1280.3616 605.4052,-1263.9598 601.7447,-1260.5397 598,-1244.3616 592.5215,-1220.6929 604.4748,-1208.4765 588,-1190.6215 546.4725,-1145.6149 497.6653,-1198.5509 455,-1154.6215 451.4282,-1150.9439 413.1559,-980.1359 412,-975.1413 406.4823,-951.2987 410.8035,-943.3602 400,-921.4012 390.8057,-902.7131 378.8591,-904.2504 370,-885.4012 359.6661,-863.414 367.205,-854.8625 360,-831.661 354.8073,-814.9397 349.1094,-812.408 344,-795.661 343.0403,-792.5153 304.786,-565.2023 303,-562.4407 287.536,-538.5299 265.5829,-550.2742 250,-526.4407 236.7052,-506.1067 253.607,-492.827 240,-472.7006 225.4034,-451.1105 54.5516,-369.8001 42,-346.9605 11.2877,-291.0745 27.0381,-265.4691 42,-203.4802 52.5158,-159.9123 50.3931,-138.1218 88,-113.7401 133.7731,-84.064 918.881,-60.2641 1181.9099,-53.0921\"/>\n",
       "<polygon fill=\"#000000\" stroke=\"#000000\" points=\"1182.2681,-56.5838 1192.1694,-52.8136 1182.078,-49.5864 1182.2681,-56.5838\"/>\n",
       "</g>\n",
       "<!-- callgraphX__tile_2_1&#45;&gt;callgraphX__tile_1_1 -->\n",
       "<g id=\"edge77\" class=\"edge\">\n",
       "<title>callgraphX__tile_2_1&#45;&gt;callgraphX__tile_1_1</title>\n",
       "<path fill=\"none\" stroke=\"#000000\" d=\"M942.18,-2094.9347C1057.7833,-2051.3563 1323.0637,-1945.7389 1384,-1872.5424 1399.8656,-1853.4847 1380.2581,-1835.0397 1399,-1818.8023 1492.8299,-1737.5109 1564.4669,-1837.3248 1676,-1782.8023 1757.4506,-1742.9855 1743.8875,-1687.0005 1821,-1639.3221 1863.3183,-1613.1568 1896.3196,-1642.4905 1927,-1603.3221 1943.0379,-1582.8471 1937,-1512.7204 1937,-1486.7119 1937,-1486.7119 1937,-1486.7119 1937,-1396.9718 1937,-1342.8328 1906.5162,-1286.6982 1883.4207,-1251.938\"/>\n",
       "<polygon fill=\"#000000\" stroke=\"#000000\" points=\"1886.2501,-1249.8746 1877.7313,-1243.5754 1880.4626,-1253.8122 1886.2501,-1249.8746\"/>\n",
       "</g>\n",
       "<!-- callgraphX__tile_2_1&#45;&gt;callgraphX__tile_2_0 -->\n",
       "<g id=\"edge78\" class=\"edge\">\n",
       "<title>callgraphX__tile_2_1&#45;&gt;callgraphX__tile_2_0</title>\n",
       "<path fill=\"none\" stroke=\"#000000\" d=\"M816.0383,-2103.1042C775.5434,-2093.9557 725.5346,-2078.2582 687,-2052.0227 656.0436,-2030.9466 630.1676,-1996.6781 613.4533,-1970.7311\"/>\n",
       "<polygon fill=\"#000000\" stroke=\"#000000\" points=\"616.2121,-1968.543 607.93,-1961.9356 610.284,-1972.2657 616.2121,-1968.543\"/>\n",
       "</g>\n",
       "<!-- callgraphX__tile_2_1&#45;&gt;callgraphX__tile_2_1 -->\n",
       "<g id=\"edge80\" class=\"edge\">\n",
       "<title>callgraphX__tile_2_1&#45;&gt;callgraphX__tile_2_1</title>\n",
       "<path fill=\"none\" stroke=\"#000000\" d=\"M951.5602,-2131.3675C970.8358,-2130.9546 985.9031,-2125.463 985.9031,-2114.8927 985.9031,-2106.3043 975.9563,-2101.0687 961.8873,-2099.1858\"/>\n",
       "<polygon fill=\"#000000\" stroke=\"#000000\" points=\"961.7923,-2095.6691 951.5602,-2098.4179 961.2731,-2102.6499 961.7923,-2095.6691\"/>\n",
       "</g>\n",
       "<!-- callgraphX__tile_2_1&#45;&gt;callgraphX__tile_2_2 -->\n",
       "<g id=\"edge82\" class=\"edge\">\n",
       "<title>callgraphX__tile_2_1&#45;&gt;callgraphX__tile_2_2</title>\n",
       "<path fill=\"none\" stroke=\"#000000\" d=\"M836.5033,-2094.292C778.4319,-2067.259 692,-2013.849 692,-1935.4125 692,-1935.4125 692,-1935.4125 692,-1576.452 692,-1470.4999 704.5312,-1196.0691 658,-1100.8814 647.4961,-1079.3938 635.4225,-1081.2675 618,-1064.8814 551.7278,-1002.5512 537.0479,-985.0079 472,-921.4012 455.5956,-905.3601 443.9252,-906.5379 435,-885.4012 425.7089,-863.3979 427.2373,-854.2489 435,-831.661 438.6157,-821.1401 444.7925,-811.0272 451.5655,-802.1034\"/>\n",
       "<polygon fill=\"#000000\" stroke=\"#000000\" points=\"454.336,-804.2434 457.8967,-794.2648 448.8904,-799.845 454.336,-804.2434\"/>\n",
       "</g>\n",
       "<!-- callgraphX__tile_2_1&#45;&gt;callgraphX__tile_3_1 -->\n",
       "<g id=\"edge79\" class=\"edge\">\n",
       "<title>callgraphX__tile_2_1&#45;&gt;callgraphX__tile_3_1</title>\n",
       "<path fill=\"none\" stroke=\"#000000\" d=\"M881.7547,-2087.9677C881.276,-2079.8928 881.1378,-2070.8895 881.3402,-2062.2786\"/>\n",
       "<polygon fill=\"#000000\" stroke=\"#000000\" points=\"884.8465,-2062.1926 881.7558,-2052.0586 877.8522,-2061.9081 884.8465,-2062.1926\"/>\n",
       "</g>\n",
       "<!-- callgraphX__tile_2_2&#45;&gt;callgraphX__print_maze -->\n",
       "<g id=\"edge84\" class=\"edge\">\n",
       "<title>callgraphX__tile_2_2&#45;&gt;callgraphX__print_maze</title>\n",
       "<path fill=\"none\" stroke=\"#000000\" d=\"M486.8056,-741.6719C493.691,-672.4596 509.6879,-493.2675 493,-472.7006 444.0646,-412.3903 370.9354,-497.0108 322,-436.7006 306.3587,-417.4235 329.3657,-306.3054 335,-293.2203 375.2274,-199.7973 387.2738,-161.6495 477,-113.7401 538.0335,-81.1512 990.8964,-60.9598 1182.1503,-53.8035\"/>\n",
       "<polygon fill=\"#000000\" stroke=\"#000000\" points=\"1182.2982,-57.3005 1192.1615,-53.4319 1182.0385,-50.3054 1182.2982,-57.3005\"/>\n",
       "</g>\n",
       "<!-- callgraphX__tile_2_3&#45;&gt;callgraphX__print_maze -->\n",
       "<g id=\"edge88\" class=\"edge\">\n",
       "<title>callgraphX__tile_2_3&#45;&gt;callgraphX__print_maze</title>\n",
       "<path fill=\"none\" stroke=\"#000000\" d=\"M706.9295,-835.95C691.1709,-825.7888 674.9474,-812.2941 665,-795.661 632.1555,-740.7414 615.0448,-703.701 653,-652.1808 685.0178,-608.72 729.9473,-653.4482 769,-616.1808 781.2675,-604.4741 808.4383,-484.091 821,-472.7006 868.9125,-429.2552 919.1407,-485.1381 962,-436.7006 979.3134,-417.1338 977,-346.2173 977,-320.0904 977,-320.0904 977,-320.0904 977,-230.3503 977,-178.3333 952.7895,-152.9244 987,-113.7401 1012.5834,-84.4373 1111.1377,-67.4903 1184.1221,-58.7284\"/>\n",
       "<polygon fill=\"#000000\" stroke=\"#000000\" points=\"1184.7144,-62.1831 1194.2405,-57.546 1183.9018,-55.2304 1184.7144,-62.1831\"/>\n",
       "</g>\n",
       "<!-- callgraphX__tile_2_3&#45;&gt;callgraphX__tile_1_3 -->\n",
       "<g id=\"edge89\" class=\"edge\">\n",
       "<title>callgraphX__tile_2_3&#45;&gt;callgraphX__tile_1_3</title>\n",
       "<path fill=\"none\" stroke=\"#000000\" d=\"M703.2657,-837.0521C681.9799,-826.3574 657.4848,-812.1729 638,-795.661 544.3365,-716.2889 462.4203,-594.4772 425.2356,-534.8782\"/>\n",
       "<polygon fill=\"#000000\" stroke=\"#000000\" points=\"428.1065,-532.8662 419.8671,-526.2057 422.1546,-536.5506 428.1065,-532.8662\"/>\n",
       "</g>\n",
       "<!-- callgraphX__tile_2_3&#45;&gt;callgraphX__tile_2_2 -->\n",
       "<g id=\"edge90\" class=\"edge\">\n",
       "<title>callgraphX__tile_2_3&#45;&gt;callgraphX__tile_2_2</title>\n",
       "<path fill=\"none\" stroke=\"#000000\" d=\"M695.1641,-839.4995C652.7926,-825.3114 594.8064,-805.8946 550.3176,-790.9975\"/>\n",
       "<polygon fill=\"#000000\" stroke=\"#000000\" points=\"551.3478,-787.6515 540.754,-787.7951 549.1251,-794.2893 551.3478,-787.6515\"/>\n",
       "</g>\n",
       "<!-- callgraphX__tile_2_3&#45;&gt;callgraphX__tile_2_3 -->\n",
       "<g id=\"edge85\" class=\"edge\">\n",
       "<title>callgraphX__tile_2_3&#45;&gt;callgraphX__tile_2_3</title>\n",
       "<path fill=\"none\" stroke=\"#000000\" d=\"M815.5602,-875.0059C834.8358,-874.593 849.9031,-869.1014 849.9031,-858.5311 849.9031,-849.9427 839.9563,-844.7071 825.8873,-842.8242\"/>\n",
       "<polygon fill=\"#000000\" stroke=\"#000000\" points=\"825.7923,-839.3075 815.5602,-842.0563 825.2731,-846.2883 825.7923,-839.3075\"/>\n",
       "</g>\n",
       "<!-- callgraphX__tile_2_3&#45;&gt;callgraphX__tile_2_4 -->\n",
       "<g id=\"edge87\" class=\"edge\">\n",
       "<title>callgraphX__tile_2_3&#45;&gt;callgraphX__tile_2_4</title>\n",
       "<path fill=\"none\" stroke=\"#000000\" d=\"M756.2558,-831.6061C759.0396,-823.1891 762.5868,-813.7635 766.3139,-804.825\"/>\n",
       "<polygon fill=\"#000000\" stroke=\"#000000\" points=\"769.6386,-805.9551 770.4012,-795.3877 763.2151,-803.173 769.6386,-805.9551\"/>\n",
       "</g>\n",
       "<!-- callgraphX__tile_2_3&#45;&gt;callgraphX__tile_3_3 -->\n",
       "<g id=\"edge86\" class=\"edge\">\n",
       "<title>callgraphX__tile_2_3&#45;&gt;callgraphX__tile_3_3</title>\n",
       "<path fill=\"none\" stroke=\"#000000\" d=\"M762.7415,-885.4371C764.5903,-893.5993 766.2498,-902.7114 767.492,-911.4087\"/>\n",
       "<polygon fill=\"#000000\" stroke=\"#000000\" points=\"764.0214,-911.8626 768.7448,-921.3462 770.9664,-910.9869 764.0214,-911.8626\"/>\n",
       "</g>\n",
       "<!-- callgraphX__tile_2_4&#45;&gt;callgraphX__print_maze -->\n",
       "<g id=\"edge93\" class=\"edge\">\n",
       "<title>callgraphX__tile_2_4&#45;&gt;callgraphX__print_maze</title>\n",
       "<path fill=\"none\" stroke=\"#000000\" d=\"M816.0064,-743.4587C825.9143,-732.9597 835.8012,-719.9527 841,-705.9209 849.2981,-683.5242 854.0422,-672.1901 841,-652.1808 765.4008,-536.1969 667.9803,-607.8528 556,-526.4407 530.0974,-507.6089 535.7364,-488.7091 508,-472.7006 439.9804,-433.4419 384.5546,-497.6287 335,-436.7006 319.9294,-418.171 319.7819,-401.3691 335,-382.9605 389.2049,-317.391 460.4,-404.5693 523,-346.9605 541.2468,-330.1685 526.7149,-315.3011 538,-293.2203 584.4156,-202.4019 591.614,-162.8579 681,-113.7401 723.9803,-90.1223 1031.248,-66.6183 1182.8445,-56.3038\"/>\n",
       "<polygon fill=\"#000000\" stroke=\"#000000\" points=\"1183.3017,-59.781 1193.0426,-55.6139 1182.8291,-52.797 1183.3017,-59.781\"/>\n",
       "</g>\n",
       "<!-- callgraphX__tile_2_4&#45;&gt;callgraphX__tile_1_4 -->\n",
       "<g id=\"edge96\" class=\"edge\">\n",
       "<title>callgraphX__tile_2_4&#45;&gt;callgraphX__tile_1_4</title>\n",
       "<path fill=\"none\" stroke=\"#000000\" d=\"M863.7771,-757.2885C976.6601,-740.3768 1186.5863,-708.9263 1302.9474,-691.4935\"/>\n",
       "<polygon fill=\"#000000\" stroke=\"#000000\" points=\"1303.5075,-694.9488 1312.8786,-690.0057 1302.4703,-688.026 1303.5075,-694.9488\"/>\n",
       "</g>\n",
       "<!-- callgraphX__tile_2_4&#45;&gt;callgraphX__tile_2_3 -->\n",
       "<g id=\"edge91\" class=\"edge\">\n",
       "<title>callgraphX__tile_2_4&#45;&gt;callgraphX__tile_2_3</title>\n",
       "<path fill=\"none\" stroke=\"#000000\" d=\"M782.7618,-795.6628C779.9343,-804.2171 776.3164,-813.8177 772.5213,-822.8918\"/>\n",
       "<polygon fill=\"#000000\" stroke=\"#000000\" points=\"769.2992,-821.5247 768.5279,-832.0915 775.7204,-824.312 769.2992,-821.5247\"/>\n",
       "</g>\n",
       "<!-- callgraphX__tile_2_4&#45;&gt;callgraphX__tile_2_4 -->\n",
       "<g id=\"edge92\" class=\"edge\">\n",
       "<title>callgraphX__tile_2_4&#45;&gt;callgraphX__tile_2_4</title>\n",
       "<path fill=\"none\" stroke=\"#000000\" d=\"M854.2667,-785.2547C874.2801,-784.7633 889.8528,-779.2754 889.8528,-768.791 889.8528,-760.1905 879.3737,-754.9522 864.5604,-753.0761\"/>\n",
       "<polygon fill=\"#000000\" stroke=\"#000000\" points=\"864.4943,-749.5622 854.2667,-752.3272 863.9863,-756.5437 864.4943,-749.5622\"/>\n",
       "</g>\n",
       "<!-- callgraphX__tile_2_4&#45;&gt;callgraphX__tile_2_5 -->\n",
       "<g id=\"edge95\" class=\"edge\">\n",
       "<title>callgraphX__tile_2_4&#45;&gt;callgraphX__tile_2_5</title>\n",
       "<path fill=\"none\" stroke=\"#000000\" d=\"M842.3778,-748.3153C883.4262,-734.1462 939.6273,-715.3144 983.9725,-700.8637\"/>\n",
       "<polygon fill=\"#000000\" stroke=\"#000000\" points=\"985.1032,-704.1765 993.5318,-697.7571 982.9396,-697.5192 985.1032,-704.1765\"/>\n",
       "</g>\n",
       "<!-- callgraphX__tile_2_4&#45;&gt;callgraphX__tile_3_4 -->\n",
       "<g id=\"edge94\" class=\"edge\">\n",
       "<title>callgraphX__tile_2_4&#45;&gt;callgraphX__tile_3_4</title>\n",
       "<path fill=\"none\" stroke=\"#000000\" d=\"M774.9987,-741.866C771.2808,-733.5248 767.1213,-724.1931 763.1692,-715.3266\"/>\n",
       "<polygon fill=\"#000000\" stroke=\"#000000\" points=\"766.2609,-713.6657 758.9928,-705.9569 759.8673,-716.5156 766.2609,-713.6657\"/>\n",
       "</g>\n",
       "<!-- callgraphX__tile_2_5&#45;&gt;callgraphX__print_maze -->\n",
       "<g id=\"edge99\" class=\"edge\">\n",
       "<title>callgraphX__tile_2_5&#45;&gt;callgraphX__print_maze</title>\n",
       "<path fill=\"none\" stroke=\"#000000\" d=\"M1103.5399,-656.9631C1120.0986,-646.9271 1136.9538,-633.3887 1147,-616.1808 1173.2259,-571.259 1157,-551.5876 1157,-499.5706 1157,-499.5706 1157,-499.5706 1157,-230.3503 1157,-178.0965 1144.3741,-158.094 1172,-113.7401 1181.3526,-98.7244 1195.767,-86.5265 1210.5644,-77.0105\"/>\n",
       "<polygon fill=\"#000000\" stroke=\"#000000\" points=\"1212.5536,-79.8974 1219.2857,-71.7164 1208.9212,-73.9136 1212.5536,-79.8974\"/>\n",
       "</g>\n",
       "<!-- callgraphX__tile_2_5&#45;&gt;callgraphX__tile_1_5 -->\n",
       "<g id=\"edge97\" class=\"edge\">\n",
       "<title>callgraphX__tile_2_5&#45;&gt;callgraphX__tile_1_5</title>\n",
       "<path fill=\"none\" stroke=\"#000000\" d=\"M1133.7014,-668.8003C1264.2971,-651.7906 1524.6941,-617.8747 1659.2066,-600.3548\"/>\n",
       "<polygon fill=\"#000000\" stroke=\"#000000\" points=\"1659.9946,-603.7818 1669.4588,-599.0195 1659.0904,-596.8405 1659.9946,-603.7818\"/>\n",
       "</g>\n",
       "<!-- callgraphX__tile_2_5&#45;&gt;callgraphX__tile_2_4 -->\n",
       "<g id=\"edge98\" class=\"edge\">\n",
       "<title>callgraphX__tile_2_5&#45;&gt;callgraphX__tile_2_4</title>\n",
       "<path fill=\"none\" stroke=\"#000000\" d=\"M999.3861,-699.6081C958.3503,-713.7706 902.2655,-732.5626 858.0012,-746.9867\"/>\n",
       "<polygon fill=\"#000000\" stroke=\"#000000\" points=\"856.8876,-743.6683 848.459,-750.0877 859.0511,-750.3256 856.8876,-743.6683\"/>\n",
       "</g>\n",
       "<!-- callgraphX__tile_2_5&#45;&gt;callgraphX__tile_2_5 -->\n",
       "<g id=\"edge100\" class=\"edge\">\n",
       "<title>callgraphX__tile_2_5&#45;&gt;callgraphX__tile_2_5</title>\n",
       "<path fill=\"none\" stroke=\"#000000\" d=\"M1122.2667,-695.5146C1142.2801,-695.0232 1157.8528,-689.5352 1157.8528,-679.0509 1157.8528,-670.4504 1147.3737,-665.2121 1132.5604,-663.336\"/>\n",
       "<polygon fill=\"#000000\" stroke=\"#000000\" points=\"1132.4943,-659.822 1122.2667,-662.5871 1131.9863,-666.8036 1132.4943,-659.822\"/>\n",
       "</g>\n",
       "<!-- callgraphX__tile_2_5&#45;&gt;callgraphX__tile_2_6 -->\n",
       "<g id=\"edge101\" class=\"edge\">\n",
       "<title>callgraphX__tile_2_5&#45;&gt;callgraphX__tile_2_6</title>\n",
       "<path fill=\"none\" stroke=\"#000000\" d=\"M1042.754,-652.1259C1040.4507,-643.9622 1038.2839,-634.8497 1036.5578,-626.153\"/>\n",
       "<polygon fill=\"#000000\" stroke=\"#000000\" points=\"1039.9838,-625.4298 1034.7522,-616.2167 1033.0966,-626.6814 1039.9838,-625.4298\"/>\n",
       "</g>\n",
       "<!-- callgraphX__tile_2_5&#45;&gt;callgraphX__tile_3_5 -->\n",
       "<g id=\"edge102\" class=\"edge\">\n",
       "<title>callgraphX__tile_2_5&#45;&gt;callgraphX__tile_3_5</title>\n",
       "<path fill=\"none\" stroke=\"#000000\" d=\"M1115.3038,-660.129C1160.6871,-645.8887 1223.0017,-626.3359 1270.6564,-611.3829\"/>\n",
       "<polygon fill=\"#000000\" stroke=\"#000000\" points=\"1271.7932,-614.6946 1280.2866,-608.3612 1269.6974,-608.0156 1271.7932,-614.6946\"/>\n",
       "</g>\n",
       "<!-- callgraphX__tile_2_6&#45;&gt;callgraphX__print_maze -->\n",
       "<g id=\"edge106\" class=\"edge\">\n",
       "<title>callgraphX__tile_2_6&#45;&gt;callgraphX__print_maze</title>\n",
       "<path fill=\"none\" stroke=\"#000000\" d=\"M1081.7545,-566.7627C1097.7499,-556.6736 1114.0924,-543.2191 1124,-526.4407 1150.5155,-481.5372 1137,-461.9783 1137,-409.8305 1137,-409.8305 1137,-409.8305 1137,-230.3503 1137,-178.0965 1122.5293,-156.8902 1152,-113.7401 1164.0762,-96.0586 1182.8129,-82.881 1201.6819,-73.2854\"/>\n",
       "<polygon fill=\"#000000\" stroke=\"#000000\" points=\"1203.4191,-76.3342 1210.9268,-68.8585 1200.3959,-70.0207 1203.4191,-76.3342\"/>\n",
       "</g>\n",
       "<!-- callgraphX__tile_2_6&#45;&gt;callgraphX__tile_1_6 -->\n",
       "<g id=\"edge105\" class=\"edge\">\n",
       "<title>callgraphX__tile_2_6&#45;&gt;callgraphX__tile_1_6</title>\n",
       "<path fill=\"none\" stroke=\"#000000\" d=\"M1035,-562.3858C1035,-554.3108 1035,-545.3075 1035,-536.6966\"/>\n",
       "<polygon fill=\"#000000\" stroke=\"#000000\" points=\"1038.5001,-536.4766 1035,-526.4766 1031.5001,-536.4767 1038.5001,-536.4766\"/>\n",
       "</g>\n",
       "<!-- callgraphX__tile_2_6&#45;&gt;callgraphX__tile_2_5 -->\n",
       "<g id=\"edge107\" class=\"edge\">\n",
       "<title>callgraphX__tile_2_6&#45;&gt;callgraphX__tile_2_5</title>\n",
       "<path fill=\"none\" stroke=\"#000000\" d=\"M1047.1531,-615.9075C1049.4811,-624.1194 1051.6741,-633.3162 1053.4197,-642.0955\"/>\n",
       "<polygon fill=\"#000000\" stroke=\"#000000\" points=\"1050.0111,-642.9139 1055.2447,-652.1259 1056.898,-641.6608 1050.0111,-642.9139\"/>\n",
       "</g>\n",
       "<!-- callgraphX__tile_2_6&#45;&gt;callgraphX__tile_2_6 -->\n",
       "<g id=\"edge108\" class=\"edge\">\n",
       "<title>callgraphX__tile_2_6&#45;&gt;callgraphX__tile_2_6</title>\n",
       "<path fill=\"none\" stroke=\"#000000\" d=\"M1102.2667,-605.7745C1122.2801,-605.283 1137.8528,-599.7951 1137.8528,-589.3107 1137.8528,-580.7103 1127.3737,-575.472 1112.5604,-573.5959\"/>\n",
       "<polygon fill=\"#000000\" stroke=\"#000000\" points=\"1112.4943,-570.0819 1102.2667,-572.847 1111.9863,-577.0635 1112.4943,-570.0819\"/>\n",
       "</g>\n",
       "<!-- callgraphX__tile_2_6&#45;&gt;callgraphX__tile_2_7 -->\n",
       "<g id=\"edge103\" class=\"edge\">\n",
       "<title>callgraphX__tile_2_6&#45;&gt;callgraphX__tile_2_7</title>\n",
       "<path fill=\"none\" stroke=\"#000000\" d=\"M964.473,-574.0876C897.0482,-558.8118 795.7704,-535.2382 726.4478,-518.706\"/>\n",
       "<polygon fill=\"#000000\" stroke=\"#000000\" points=\"726.9992,-515.2393 716.4596,-516.3197 725.3725,-522.0477 726.9992,-515.2393\"/>\n",
       "</g>\n",
       "<!-- callgraphX__tile_2_6&#45;&gt;callgraphX__tile_3_6 -->\n",
       "<g id=\"edge104\" class=\"edge\">\n",
       "<title>callgraphX__tile_2_6&#45;&gt;callgraphX__tile_3_6</title>\n",
       "<path fill=\"none\" stroke=\"#000000\" d=\"M951.0629,-585.3025C832.4374,-578.4629 622.7404,-561.7083 556,-526.4407 527.6855,-511.4784 535.7364,-488.7091 508,-472.7006 439.9804,-433.4419 384.5546,-497.6287 335,-436.7006 319.9294,-418.171 323.7457,-404.0272 335,-382.9605 342.8143,-368.333 355.7057,-356.5137 369.473,-347.2419\"/>\n",
       "<polygon fill=\"#000000\" stroke=\"#000000\" points=\"371.5242,-350.0864 378.1208,-341.7957 367.7938,-344.1632 371.5242,-350.0864\"/>\n",
       "</g>\n",
       "<!-- callgraphX__tile_2_7&#45;&gt;callgraphX__print_maze -->\n",
       "<g id=\"edge110\" class=\"edge\">\n",
       "<title>callgraphX__tile_2_7&#45;&gt;callgraphX__print_maze</title>\n",
       "<path fill=\"none\" stroke=\"#000000\" d=\"M718.7794,-483.7673C793.8357,-466.3721 903.8581,-440.3693 907,-436.7006 940.8358,-397.1923 917,-372.1074 917,-320.0904 917,-320.0904 917,-320.0904 917,-230.3503 917,-178.0965 896.13,-151.7375 932,-113.7401 965.4572,-78.2987 1094.5642,-62.4367 1182.3729,-55.6312\"/>\n",
       "<polygon fill=\"#000000\" stroke=\"#000000\" points=\"1182.8897,-59.1024 1192.6002,-54.8648 1182.3666,-52.122 1182.8897,-59.1024\"/>\n",
       "</g>\n",
       "<!-- callgraphX__tile_2_7&#45;&gt;callgraphX__tile_1_7 -->\n",
       "<g id=\"edge113\" class=\"edge\">\n",
       "<title>callgraphX__tile_2_7&#45;&gt;callgraphX__tile_1_7</title>\n",
       "<path fill=\"none\" stroke=\"#000000\" d=\"M693.7015,-476.2267C715.9311,-464.3524 743.0954,-449.8421 766.3535,-437.4184\"/>\n",
       "<polygon fill=\"#000000\" stroke=\"#000000\" points=\"768.2171,-440.391 775.3885,-432.5922 764.9189,-434.2167 768.2171,-440.391\"/>\n",
       "</g>\n",
       "<!-- callgraphX__tile_2_7&#45;&gt;callgraphX__tile_2_6 -->\n",
       "<g id=\"edge114\" class=\"edge\">\n",
       "<title>callgraphX__tile_2_7&#45;&gt;callgraphX__tile_2_6</title>\n",
       "<path fill=\"none\" stroke=\"#000000\" d=\"M720.4123,-514.7678C787.8012,-530.0348 889.0829,-553.6088 958.4419,-570.1491\"/>\n",
       "<polygon fill=\"#000000\" stroke=\"#000000\" points=\"957.8962,-573.6171 968.4358,-572.5366 959.5227,-566.8087 957.8962,-573.6171\"/>\n",
       "</g>\n",
       "<!-- callgraphX__tile_2_7&#45;&gt;callgraphX__tile_2_7 -->\n",
       "<g id=\"edge109\" class=\"edge\">\n",
       "<title>callgraphX__tile_2_7&#45;&gt;callgraphX__tile_2_7</title>\n",
       "<path fill=\"none\" stroke=\"#000000\" d=\"M717.2667,-516.0344C737.2801,-515.5429 752.8528,-510.055 752.8528,-499.5706 752.8528,-490.9702 742.3737,-485.7319 727.5604,-483.8558\"/>\n",
       "<polygon fill=\"#000000\" stroke=\"#000000\" points=\"727.4943,-480.3418 717.2667,-483.1069 726.9863,-487.3234 727.4943,-480.3418\"/>\n",
       "</g>\n",
       "<!-- callgraphX__tile_2_7&#45;&gt;callgraphX__tile_2_8 -->\n",
       "<g id=\"edge111\" class=\"edge\">\n",
       "<title>callgraphX__tile_2_7&#45;&gt;callgraphX__tile_2_8</title>\n",
       "<path fill=\"none\" stroke=\"#000000\" d=\"M645.4995,-472.6456C644.135,-464.482 642.6118,-455.3694 641.1582,-446.6728\"/>\n",
       "<polygon fill=\"#000000\" stroke=\"#000000\" points=\"644.5981,-446.0226 639.4973,-436.7365 637.6939,-447.1767 644.5981,-446.0226\"/>\n",
       "</g>\n",
       "<!-- callgraphX__tile_2_7&#45;&gt;callgraphX__tile_3_7 -->\n",
       "<g id=\"edge112\" class=\"edge\">\n",
       "<title>callgraphX__tile_2_7&#45;&gt;callgraphX__tile_3_7</title>\n",
       "<path fill=\"none\" stroke=\"#000000\" d=\"M594.0909,-479.2072C561.4115,-466.405 520.2826,-449.7633 487.2189,-435.9882\"/>\n",
       "<polygon fill=\"#000000\" stroke=\"#000000\" points=\"488.2554,-432.6279 477.6792,-431.9991 485.5548,-439.086 488.2554,-432.6279\"/>\n",
       "</g>\n",
       "<!-- callgraphX__tile_2_8&#45;&gt;callgraphX__print_maze -->\n",
       "<g id=\"edge115\" class=\"edge\">\n",
       "<title>callgraphX__tile_2_8&#45;&gt;callgraphX__print_maze</title>\n",
       "<path fill=\"none\" stroke=\"#000000\" d=\"M695.7739,-391.0266C733.3965,-378.3341 777.096,-361.3396 791,-346.9605 867.6887,-267.6506 790.9391,-183.9957 876,-113.7401 921.4845,-76.1724 1081.6859,-60.72 1182.3675,-54.6146\"/>\n",
       "<polygon fill=\"#000000\" stroke=\"#000000\" points=\"1182.7456,-58.0985 1192.5231,-54.0181 1182.3351,-51.1105 1182.7456,-58.0985\"/>\n",
       "</g>\n",
       "<!-- callgraphX__tile_3_0&#45;&gt;callgraphX__print_maze -->\n",
       "<g id=\"edge116\" class=\"edge\">\n",
       "<title>callgraphX__tile_3_0&#45;&gt;callgraphX__print_maze</title>\n",
       "<path fill=\"none\" stroke=\"#000000\" d=\"M518.4918,-1102.5456C506.7157,-1091.781 493.7592,-1078.5545 484,-1064.8814 432.834,-993.1952 436.5964,-965.5109 400,-885.4012 381.8553,-845.6822 373.2828,-837.259 360,-795.661 327.8365,-694.9342 360.9252,-656.6934 313,-562.4407 303.1622,-543.0931 292.7092,-544.0358 280,-526.4407 263.983,-504.2663 265.4891,-495.2468 250,-472.7006 238.2066,-455.5339 231.7934,-453.8672 220,-436.7006 204.5109,-414.1543 211.3865,-400.0153 190,-382.9605 145.4665,-347.4469 101.1547,-392.5445 67,-346.9605 28.7625,-295.9274 37.2652,-259.8924 67,-203.4802 99.9076,-141.0487 131.2273,-136.5875 198,-113.7401 289.9692,-82.2713 945.1385,-60.2592 1181.906,-53.2552\"/>\n",
       "<polygon fill=\"#000000\" stroke=\"#000000\" points=\"1182.2922,-56.7455 1192.1849,-52.9528 1182.0863,-49.7485 1182.2922,-56.7455\"/>\n",
       "</g>\n",
       "<!-- callgraphX__tile_3_1&#45;&gt;callgraphX__print_maze -->\n",
       "<g id=\"edge120\" class=\"edge\">\n",
       "<title>callgraphX__tile_3_1&#45;&gt;callgraphX__print_maze</title>\n",
       "<path fill=\"none\" stroke=\"#000000\" d=\"M852.2676,-2000.4976C811.9731,-1969.4731 752,-1912.1338 752,-1845.6724 752,-1845.6724 752,-1845.6724 752,-1666.1921 752,-1534.5214 749.3438,-1501.5675 742,-1370.1017 739.7687,-1330.1584 740.2865,-1320.0164 735,-1280.3616 729.6358,-1240.1238 727.4366,-1230.1033 718,-1190.6215 708.347,-1150.2343 707.5493,-1139.3849 692,-1100.8814 685.2254,-1084.106 678.6007,-1082.0843 673,-1064.8814 635.5721,-949.9181 646.7089,-915.8937 634,-795.661 627.291,-732.1899 595.5968,-707.1683 628,-652.1808 644.7659,-623.7296 666.7201,-636.1792 693,-616.1808 737.4535,-582.3527 751.4353,-573.8367 781,-526.4407 794.4078,-504.9463 781.3755,-489.8734 800,-472.7006 845.968,-430.3157 893.6043,-482.6586 936,-436.7006 971.7062,-397.9941 957,-372.7508 957,-320.0904 957,-320.0904 957,-320.0904 957,-230.3503 957,-178.4303 930.0356,-153.0098 964,-113.7401 992.1424,-81.2019 1103.6557,-64.7699 1183.2145,-57.0265\"/>\n",
       "<polygon fill=\"#000000\" stroke=\"#000000\" points=\"1183.6116,-60.5047 1193.2383,-56.0801 1182.9536,-53.5357 1183.6116,-60.5047\"/>\n",
       "</g>\n",
       "<!-- callgraphX__tile_3_1&#45;&gt;callgraphX__tile_2_1 -->\n",
       "<g id=\"edge118\" class=\"edge\">\n",
       "<title>callgraphX__tile_3_1&#45;&gt;callgraphX__tile_2_1</title>\n",
       "<path fill=\"none\" stroke=\"#000000\" d=\"M894.2442,-2052.0586C894.7234,-2060.1321 894.8621,-2069.1349 894.6603,-2077.7464\"/>\n",
       "<polygon fill=\"#000000\" stroke=\"#000000\" points=\"891.154,-2077.8339 894.2453,-2087.9677 898.1482,-2078.118 891.154,-2077.8339\"/>\n",
       "</g>\n",
       "<!-- callgraphX__tile_3_1&#45;&gt;callgraphX__tile_3_0 -->\n",
       "<g id=\"edge122\" class=\"edge\">\n",
       "<title>callgraphX__tile_3_1&#45;&gt;callgraphX__tile_3_0</title>\n",
       "<path fill=\"none\" stroke=\"#000000\" d=\"M812.125,-2012.9927C781.0936,-2004.1101 747.6909,-1988.7659 727,-1962.2825 694.8296,-1921.1058 712,-1897.9261 712,-1845.6724 712,-1845.6724 712,-1845.6724 712,-1666.1921 712,-1448.8395 692.2782,-1386.4627 598,-1190.6215 593.1286,-1180.5022 586.4213,-1170.4805 579.5318,-1161.5114\"/>\n",
       "<polygon fill=\"#000000\" stroke=\"#000000\" points=\"582.1809,-1159.2201 573.2008,-1153.5979 576.7148,-1163.593 582.1809,-1159.2201\"/>\n",
       "</g>\n",
       "<!-- callgraphX__tile_3_1&#45;&gt;callgraphX__tile_3_1 -->\n",
       "<g id=\"edge117\" class=\"edge\">\n",
       "<title>callgraphX__tile_3_1&#45;&gt;callgraphX__tile_3_1</title>\n",
       "<path fill=\"none\" stroke=\"#000000\" d=\"M955.2667,-2041.6163C975.2801,-2041.1249 990.8528,-2035.637 990.8528,-2025.1526 990.8528,-2016.5521 980.3737,-2011.3138 965.5604,-2009.4377\"/>\n",
       "<polygon fill=\"#000000\" stroke=\"#000000\" points=\"965.4943,-2005.9238 955.2667,-2008.6889 964.9863,-2012.9053 965.4943,-2005.9238\"/>\n",
       "</g>\n",
       "<!-- callgraphX__tile_3_1&#45;&gt;callgraphX__tile_3_2 -->\n",
       "<g id=\"edge121\" class=\"edge\">\n",
       "<title>callgraphX__tile_3_1&#45;&gt;callgraphX__tile_3_2</title>\n",
       "<path fill=\"none\" stroke=\"#000000\" d=\"M818.436,-2009.6963C792.0734,-2000.3247 764.2786,-1985.5065 747,-1962.2825 715.809,-1920.3591 732,-1897.9261 732,-1845.6724 732,-1845.6724 732,-1845.6724 732,-1666.1921 732,-1413.7992 760.2347,-1339.5016 678,-1100.8814 671.8138,-1082.9308 665.059,-1080.9845 655,-1064.8814 617.604,-1005.0153 574.9695,-934.7606 550.1147,-893.5971\"/>\n",
       "<polygon fill=\"#000000\" stroke=\"#000000\" points=\"553.1031,-891.775 544.9398,-885.0214 547.1097,-895.3917 553.1031,-891.775\"/>\n",
       "</g>\n",
       "<!-- callgraphX__tile_3_1&#45;&gt;callgraphX__tile_4_1 -->\n",
       "<g id=\"edge119\" class=\"edge\">\n",
       "<title>callgraphX__tile_3_1&#45;&gt;callgraphX__tile_4_1</title>\n",
       "<path fill=\"none\" stroke=\"#000000\" d=\"M921.6226,-2000.3932C938.9703,-1989.1008 960.4524,-1975.6657 979.871,-1963.9506\"/>\n",
       "<polygon fill=\"#000000\" stroke=\"#000000\" points=\"981.8479,-1966.8463 988.6255,-1958.7029 978.2489,-1960.8423 981.8479,-1966.8463\"/>\n",
       "</g>\n",
       "<!-- callgraphX__tile_3_2&#45;&gt;callgraphX__print_maze -->\n",
       "<g id=\"edge123\" class=\"edge\">\n",
       "<title>callgraphX__tile_3_2&#45;&gt;callgraphX__print_maze</title>\n",
       "<path fill=\"none\" stroke=\"#000000\" d=\"M549.9694,-832.4282C557.9871,-821.5332 566.7064,-808.4515 573,-795.661 602.5064,-735.6956 581.4611,-708.1397 618,-652.1808 664.4529,-581.0387 709.4607,-593.2142 762,-526.4407 778.6538,-505.275 769.047,-489.6212 790,-472.7006 836.9758,-434.7651 881.2094,-482.1157 921,-436.7006 955.4736,-397.354 937,-372.4027 937,-320.0904 937,-320.0904 937,-320.0904 937,-230.3503 937,-178.0965 916.3488,-151.9428 952,-113.7401 982.7716,-80.7662 1100.4158,-64.3616 1182.8667,-56.7519\"/>\n",
       "<polygon fill=\"#000000\" stroke=\"#000000\" points=\"1183.3431,-60.2233 1192.991,-55.8451 1182.7186,-53.2512 1183.3431,-60.2233\"/>\n",
       "</g>\n",
       "<!-- callgraphX__tile_3_3&#45;&gt;callgraphX__print_maze -->\n",
       "<g id=\"edge126\" class=\"edge\">\n",
       "<title>callgraphX__tile_3_3&#45;&gt;callgraphX__print_maze</title>\n",
       "<path fill=\"none\" stroke=\"#000000\" d=\"M838.949,-933.9567C1002.5377,-899.8697 1394.4596,-808.9982 1475,-705.9209 1507.0267,-664.9325 1485,-641.3277 1485,-589.3107 1485,-589.3107 1485,-589.3107 1485,-320.0904 1485,-267.5069 1500.3848,-242.3768 1465,-203.4802 1423.7912,-158.1817 1379.9944,-205.5153 1332,-167.4802 1310.7293,-150.6235 1316.1886,-137.4604 1303,-113.7401 1298.0034,-104.7535 1292.5269,-95.0952 1287.3865,-86.1106\"/>\n",
       "<polygon fill=\"#000000\" stroke=\"#000000\" points=\"1290.4011,-84.3319 1282.3883,-77.4004 1284.3297,-87.8158 1290.4011,-84.3319\"/>\n",
       "</g>\n",
       "<!-- callgraphX__tile_3_3&#45;&gt;callgraphX__tile_2_3 -->\n",
       "<g id=\"edge124\" class=\"edge\">\n",
       "<title>callgraphX__tile_3_3&#45;&gt;callgraphX__tile_2_3</title>\n",
       "<path fill=\"none\" stroke=\"#000000\" d=\"M756.2542,-921.3462C754.4057,-913.1825 752.7466,-904.07 751.5051,-895.3734\"/>\n",
       "<polygon fill=\"#000000\" stroke=\"#000000\" points=\"754.9759,-894.9211 750.2531,-885.4371 748.0308,-895.7962 754.9759,-894.9211\"/>\n",
       "</g>\n",
       "<!-- callgraphX__tile_3_3&#45;&gt;callgraphX__tile_3_2 -->\n",
       "<g id=\"edge128\" class=\"edge\">\n",
       "<title>callgraphX__tile_3_3&#45;&gt;callgraphX__tile_3_2</title>\n",
       "<path fill=\"none\" stroke=\"#000000\" d=\"M712.398,-927.683C676.9976,-914.335 630.7168,-896.8844 593.5042,-882.853\"/>\n",
       "<polygon fill=\"#000000\" stroke=\"#000000\" points=\"594.3513,-879.4319 583.7595,-879.1787 591.8816,-885.9818 594.3513,-879.4319\"/>\n",
       "</g>\n",
       "<!-- callgraphX__tile_3_3&#45;&gt;callgraphX__tile_3_3 -->\n",
       "<g id=\"edge125\" class=\"edge\">\n",
       "<title>callgraphX__tile_3_3&#45;&gt;callgraphX__tile_3_3</title>\n",
       "<path fill=\"none\" stroke=\"#000000\" d=\"M834.2667,-964.735C854.2801,-964.2435 869.8528,-958.7556 869.8528,-948.2712 869.8528,-939.6707 859.3737,-934.4325 844.5604,-932.5564\"/>\n",
       "<polygon fill=\"#000000\" stroke=\"#000000\" points=\"844.4943,-929.0424 834.2667,-931.8075 843.9863,-936.0239 844.4943,-929.0424\"/>\n",
       "</g>\n",
       "<!-- callgraphX__tile_3_3&#45;&gt;callgraphX__tile_3_4 -->\n",
       "<g id=\"edge127\" class=\"edge\">\n",
       "<title>callgraphX__tile_3_3&#45;&gt;callgraphX__tile_3_4</title>\n",
       "<path fill=\"none\" stroke=\"#000000\" d=\"M816.8232,-926.3351C833.3129,-916.3773 849.7891,-902.8518 859,-885.4012 870.1491,-864.2785 874.1523,-850.1239 859,-831.661 806.9664,-768.259 730.0336,-859.0631 678,-795.661 662.8477,-777.1982 668.3498,-763.7691 678,-741.9209 683.3743,-729.7533 692.3954,-718.9253 702.1722,-709.8286\"/>\n",
       "<polygon fill=\"#000000\" stroke=\"#000000\" points=\"704.5157,-712.4288 709.7481,-703.2162 699.9127,-707.1551 704.5157,-712.4288\"/>\n",
       "</g>\n",
       "<!-- callgraphX__tile_3_3&#45;&gt;callgraphX__tile_4_3 -->\n",
       "<g id=\"edge129\" class=\"edge\">\n",
       "<title>callgraphX__tile_3_3&#45;&gt;callgraphX__tile_4_3</title>\n",
       "<path fill=\"none\" stroke=\"#000000\" d=\"M773.2442,-975.1772C773.7234,-983.2507 773.8621,-992.2535 773.6603,-1000.865\"/>\n",
       "<polygon fill=\"#000000\" stroke=\"#000000\" points=\"770.154,-1000.9525 773.2453,-1011.0863 777.1482,-1001.2366 770.154,-1000.9525\"/>\n",
       "</g>\n",
       "<!-- callgraphX__tile_3_4&#45;&gt;callgraphX__print_maze -->\n",
       "<g id=\"edge130\" class=\"edge\">\n",
       "<title>callgraphX__tile_3_4&#45;&gt;callgraphX__print_maze</title>\n",
       "<path fill=\"none\" stroke=\"#000000\" d=\"M776.3337,-653.8055C787.2417,-643.1323 798.9177,-629.9814 807,-616.1808 840.7077,-558.6248 803.1484,-519.167 851,-472.7006 894.3179,-430.6365 942.4011,-482.283 982,-436.7006 1016.2691,-397.2533 997,-372.3442 997,-320.0904 997,-320.0904 997,-320.0904 997,-230.3503 997,-178.0965 977.212,-152.7305 1012,-113.7401 1034.9907,-87.9721 1120.0509,-70.6867 1185.6789,-60.8671\"/>\n",
       "<polygon fill=\"#000000\" stroke=\"#000000\" points=\"1186.2327,-64.3235 1195.6213,-59.4138 1185.2201,-57.3971 1186.2327,-64.3235\"/>\n",
       "</g>\n",
       "<!-- callgraphX__tile_3_5&#45;&gt;callgraphX__print_maze -->\n",
       "<g id=\"edge131\" class=\"edge\">\n",
       "<title>callgraphX__tile_3_5&#45;&gt;callgraphX__print_maze</title>\n",
       "<path fill=\"none\" stroke=\"#000000\" d=\"M1362.1967,-563.1334C1387.0811,-529.6838 1425,-469.0046 1425,-409.8305 1425,-409.8305 1425,-409.8305 1425,-320.0904 1425,-267.8366 1444.5249,-242.7038 1410,-203.4802 1368.1199,-155.9005 1311.8188,-216.798 1272,-167.4802 1254.323,-145.5864 1254.3525,-113.1324 1258.0803,-88.0173\"/>\n",
       "<polygon fill=\"#000000\" stroke=\"#000000\" points=\"1261.5398,-88.5513 1259.795,-78.1011 1254.6422,-87.3584 1261.5398,-88.5513\"/>\n",
       "</g>\n",
       "<!-- callgraphX__tile_3_6&#45;&gt;callgraphX__print_maze -->\n",
       "<g id=\"edge132\" class=\"edge\">\n",
       "<title>callgraphX__tile_3_6&#45;&gt;callgraphX__print_maze</title>\n",
       "<path fill=\"none\" stroke=\"#000000\" d=\"M433.2317,-293.1293C441.9491,-247.5702 466.5233,-156.1759 528,-113.7401 580.7809,-77.3069 999.0064,-59.5031 1181.8896,-53.3988\"/>\n",
       "<polygon fill=\"#000000\" stroke=\"#000000\" points=\"1182.1266,-56.893 1192.0057,-53.0651 1181.8957,-49.8968 1182.1266,-56.893\"/>\n",
       "</g>\n",
       "<!-- callgraphX__tile_3_7&#45;&gt;callgraphX__print_maze -->\n",
       "<g id=\"edge135\" class=\"edge\">\n",
       "<title>callgraphX__tile_3_7&#45;&gt;callgraphX__print_maze</title>\n",
       "<path fill=\"none\" stroke=\"#000000\" d=\"M475.7194,-387.2742C495.8672,-376.4663 519.0938,-362.4912 538,-346.9605 562.5185,-326.8195 563.5054,-316.5612 585,-293.2203 660.2619,-211.4941 659.5469,-163.2641 759,-113.7401 831.3455,-77.7147 1057.3287,-61.144 1182.1118,-54.5689\"/>\n",
       "<polygon fill=\"#000000\" stroke=\"#000000\" points=\"1182.584,-58.0492 1192.3901,-54.0378 1182.2228,-51.0586 1182.584,-58.0492\"/>\n",
       "</g>\n",
       "<!-- callgraphX__tile_3_7&#45;&gt;callgraphX__tile_2_7 -->\n",
       "<g id=\"edge133\" class=\"edge\">\n",
       "<title>callgraphX__tile_3_7&#45;&gt;callgraphX__tile_2_7</title>\n",
       "<path fill=\"none\" stroke=\"#000000\" d=\"M484.7286,-430.1232C517.5075,-442.9624 558.8343,-459.6844 591.9953,-473.5022\"/>\n",
       "<polygon fill=\"#000000\" stroke=\"#000000\" points=\"590.9846,-476.8733 601.5607,-477.5028 593.6855,-470.4153 590.9846,-476.8733\"/>\n",
       "</g>\n",
       "<!-- callgraphX__tile_3_7&#45;&gt;callgraphX__tile_3_6 -->\n",
       "<g id=\"edge134\" class=\"edge\">\n",
       "<title>callgraphX__tile_3_7&#45;&gt;callgraphX__tile_3_6</title>\n",
       "<path fill=\"none\" stroke=\"#000000\" d=\"M429,-382.9055C429,-374.8306 429,-365.8273 429,-357.2164\"/>\n",
       "<polygon fill=\"#000000\" stroke=\"#000000\" points=\"432.5001,-356.9964 429,-346.9964 425.5001,-356.9964 432.5001,-356.9964\"/>\n",
       "</g>\n",
       "<!-- callgraphX__tile_3_7&#45;&gt;callgraphX__tile_3_7 -->\n",
       "<g id=\"edge136\" class=\"edge\">\n",
       "<title>callgraphX__tile_3_7&#45;&gt;callgraphX__tile_3_7</title>\n",
       "<path fill=\"none\" stroke=\"#000000\" d=\"M496.2667,-426.2943C516.2801,-425.8028 531.8528,-420.3149 531.8528,-409.8305 531.8528,-401.2301 521.3737,-395.9918 506.5604,-394.1157\"/>\n",
       "<polygon fill=\"#000000\" stroke=\"#000000\" points=\"506.4943,-390.6017 496.2667,-393.3668 505.9863,-397.5832 506.4943,-390.6017\"/>\n",
       "</g>\n",
       "<!-- callgraphX__tile_3_7&#45;&gt;callgraphX__tile_3_8 -->\n",
       "<g id=\"edge137\" class=\"edge\">\n",
       "<title>callgraphX__tile_3_7&#45;&gt;callgraphX__tile_3_8</title>\n",
       "<path fill=\"none\" stroke=\"#000000\" d=\"M370.5174,-390.2476C328.8501,-376.2952 272.7186,-357.4995 229.0423,-342.8744\"/>\n",
       "<polygon fill=\"#000000\" stroke=\"#000000\" points=\"229.9518,-339.488 219.3579,-339.6316 227.729,-346.1258 229.9518,-339.488\"/>\n",
       "</g>\n",
       "<!-- callgraphX__tile_3_7&#45;&gt;callgraphX__tile_4_7 -->\n",
       "<g id=\"edge138\" class=\"edge\">\n",
       "<title>callgraphX__tile_3_7&#45;&gt;callgraphX__tile_4_7</title>\n",
       "<path fill=\"none\" stroke=\"#000000\" d=\"M481.7934,-388.7904C519.0808,-374.9778 569.339,-356.9208 609.8185,-342.7857\"/>\n",
       "<polygon fill=\"#000000\" stroke=\"#000000\" points=\"611.0607,-346.0594 619.3539,-339.466 608.759,-339.4486 611.0607,-346.0594\"/>\n",
       "</g>\n",
       "<!-- callgraphX__tile_3_8&#45;&gt;callgraphX__print_maze -->\n",
       "<g id=\"edge139\" class=\"edge\">\n",
       "<title>callgraphX__tile_3_8&#45;&gt;callgraphX__print_maze</title>\n",
       "<path fill=\"none\" stroke=\"#000000\" d=\"M209.7752,-297.7255C226.5992,-287.6575 243.9702,-274.1696 255,-257.2203 290.3056,-202.9667 231.8061,-156.9522 280,-113.7401 313.3613,-83.8274 948.7253,-60.8906 1182.0225,-53.4457\"/>\n",
       "<polygon fill=\"#000000\" stroke=\"#000000\" points=\"1182.2735,-56.9396 1192.1573,-53.1239 1182.0513,-49.9431 1182.2735,-56.9396\"/>\n",
       "</g>\n",
       "<!-- callgraphX__tile_4_0&#45;&gt;callgraphX__print_maze -->\n",
       "<g id=\"edge140\" class=\"edge\">\n",
       "<title>callgraphX__tile_4_0&#45;&gt;callgraphX__print_maze</title>\n",
       "<path fill=\"none\" stroke=\"#000000\" d=\"M1062.8033,-1819.495C1037.9189,-1786.0454 1000,-1725.3662 1000,-1666.1921 1000,-1666.1921 1000,-1666.1921 1000,-1307.2317 1000,-1255.1749 994.2037,-1239.8942 1011,-1190.6215 1047.5399,-1083.4298 1115.5394,-1083.9322 1147,-975.1413 1187.4014,-835.4328 1026.3053,-835.8669 961,-705.9209 942.6508,-669.4094 945.4713,-656.7985 941,-616.1808 937.509,-584.4685 925.9606,-497.5255 946,-472.7006 983.9262,-425.7173 1036.4543,-481.4429 1077,-436.7006 1112.3099,-397.736 1097,-372.6739 1097,-320.0904 1097,-320.0904 1097,-320.0904 1097,-230.3503 1097,-178.2935 1076.7387,-155.3652 1108,-113.7401 1127.1383,-88.257 1158.1898,-73.0906 1187.7957,-64.0695\"/>\n",
       "<polygon fill=\"#000000\" stroke=\"#000000\" points=\"1189.0977,-67.3383 1197.7613,-61.2398 1187.1856,-60.6045 1189.0977,-67.3383\"/>\n",
       "</g>\n",
       "<!-- callgraphX__tile_4_1&#45;&gt;callgraphX__print_maze -->\n",
       "<g id=\"edge145\" class=\"edge\">\n",
       "<title>callgraphX__tile_4_1&#45;&gt;callgraphX__print_maze</title>\n",
       "<path fill=\"none\" stroke=\"#000000\" d=\"M1001.7828,-1910.0713C991.2561,-1899.5712 980.4706,-1886.5658 974,-1872.5424 952.1304,-1825.1457 960,-1808.1312 960,-1755.9322 960,-1755.9322 960,-1755.9322 960,-1666.1921 960,-1546.5378 959,-1516.6261 959,-1396.9718 959,-1396.9718 959,-1396.9718 959,-1217.4916 959,-949.3922 930.6096,-883.562 911,-616.1808 906.3317,-552.527 866.6189,-523.6955 905,-472.7006 939.7664,-426.5084 990.2146,-478.6475 1030,-436.7006 1066.6089,-398.1027 1057,-373.2883 1057,-320.0904 1057,-320.0904 1057,-320.0904 1057,-230.3503 1057,-178.2935 1035.2905,-154.237 1068,-113.7401 1083.8941,-94.062 1141.6515,-77.1465 1190.8766,-65.834\"/>\n",
       "<polygon fill=\"#000000\" stroke=\"#000000\" points=\"1191.9244,-69.1859 1200.9125,-63.5767 1190.3882,-62.3565 1191.9244,-69.1859\"/>\n",
       "</g>\n",
       "<!-- callgraphX__tile_4_1&#45;&gt;callgraphX__tile_3_1 -->\n",
       "<g id=\"edge143\" class=\"edge\">\n",
       "<title>callgraphX__tile_4_1&#45;&gt;callgraphX__tile_3_1</title>\n",
       "<path fill=\"none\" stroke=\"#000000\" d=\"M998.3188,-1960.21C981.003,-1971.4805 959.5791,-1984.8792 940.2014,-1996.5708\"/>\n",
       "<polygon fill=\"#000000\" stroke=\"#000000\" points=\"938.2414,-1993.665 931.4642,-2001.8087 941.8407,-1999.6688 938.2414,-1993.665\"/>\n",
       "</g>\n",
       "<!-- callgraphX__tile_4_1&#45;&gt;callgraphX__tile_4_0 -->\n",
       "<g id=\"edge141\" class=\"edge\">\n",
       "<title>callgraphX__tile_4_1&#45;&gt;callgraphX__tile_4_0</title>\n",
       "<path fill=\"none\" stroke=\"#000000\" d=\"M1047.3205,-1908.9729C1052.4059,-1900.1965 1058.1511,-1890.2816 1063.5596,-1880.9478\"/>\n",
       "<polygon fill=\"#000000\" stroke=\"#000000\" points=\"1066.624,-1882.6403 1068.6093,-1872.2331 1060.5673,-1879.1307 1066.624,-1882.6403\"/>\n",
       "</g>\n",
       "<!-- callgraphX__tile_4_1&#45;&gt;callgraphX__tile_4_1 -->\n",
       "<g id=\"edge144\" class=\"edge\">\n",
       "<title>callgraphX__tile_4_1&#45;&gt;callgraphX__tile_4_1</title>\n",
       "<path fill=\"none\" stroke=\"#000000\" d=\"M1099.2667,-1951.8762C1119.2801,-1951.3848 1134.8528,-1945.8969 1134.8528,-1935.4125 1134.8528,-1926.812 1124.3737,-1921.5737 1109.5604,-1919.6976\"/>\n",
       "<polygon fill=\"#000000\" stroke=\"#000000\" points=\"1109.4943,-1916.1837 1099.2667,-1918.9487 1108.9863,-1923.1652 1109.4943,-1916.1837\"/>\n",
       "</g>\n",
       "<!-- callgraphX__tile_4_1&#45;&gt;callgraphX__tile_4_2 -->\n",
       "<g id=\"edge146\" class=\"edge\">\n",
       "<title>callgraphX__tile_4_1&#45;&gt;callgraphX__tile_4_2</title>\n",
       "<path fill=\"none\" stroke=\"#000000\" d=\"M1010.1609,-1909.1713C1002.4457,-1898.4624 994.5607,-1885.5488 990,-1872.5424 972.7879,-1823.4557 980,-1807.9492 980,-1755.9322 980,-1755.9322 980,-1755.9322 980,-1127.7514 980,-1074.4849 1007.9304,-1018.4442 1029.2383,-983.4414\"/>\n",
       "<polygon fill=\"#000000\" stroke=\"#000000\" points=\"1032.4438,-984.9156 1034.7673,-974.5787 1026.5048,-981.2105 1032.4438,-984.9156\"/>\n",
       "</g>\n",
       "<!-- callgraphX__tile_4_1&#45;&gt;callgraphX__tile_5_1 -->\n",
       "<g id=\"edge142\" class=\"edge\">\n",
       "<title>callgraphX__tile_4_1&#45;&gt;callgraphX__tile_5_1</title>\n",
       "<path fill=\"none\" stroke=\"#000000\" d=\"M1083.6268,-1913.9175C1118.918,-1900.2939 1165.9778,-1882.6815 1204.2638,-1868.7616\"/>\n",
       "<polygon fill=\"#000000\" stroke=\"#000000\" points=\"1205.587,-1872.0049 1213.796,-1865.3068 1203.2018,-1865.4238 1205.587,-1872.0049\"/>\n",
       "</g>\n",
       "<!-- callgraphX__tile_4_2&#45;&gt;callgraphX__print_maze -->\n",
       "<g id=\"edge147\" class=\"edge\">\n",
       "<title>callgraphX__tile_4_2&#45;&gt;callgraphX__print_maze</title>\n",
       "<path fill=\"none\" stroke=\"#000000\" d=\"M1037.2858,-921.4933C1006.3069,-866.5499 939.2045,-736.132 926,-616.1808 919.0181,-552.7562 890.9212,-522.3505 931,-472.7006 968.9262,-425.7173 1022.4011,-482.283 1062,-436.7006 1096.2691,-397.2533 1077,-372.3442 1077,-320.0904 1077,-320.0904 1077,-320.0904 1077,-230.3503 1077,-178.0965 1059.2687,-154.4724 1092,-113.7401 1105.5545,-96.8723 1152.9019,-80.4302 1194.9332,-68.5935\"/>\n",
       "<polygon fill=\"#000000\" stroke=\"#000000\" points=\"1195.9323,-71.9487 1204.64,-65.9132 1194.0691,-65.2012 1195.9323,-71.9487\"/>\n",
       "</g>\n",
       "<!-- callgraphX__tile_4_3&#45;&gt;callgraphX__print_maze -->\n",
       "<g id=\"edge151\" class=\"edge\">\n",
       "<title>callgraphX__tile_4_3&#45;&gt;callgraphX__print_maze</title>\n",
       "<path fill=\"none\" stroke=\"#000000\" d=\"M720.6318,-1015.215C703.6913,-1004.9548 685.6117,-991.4482 673,-975.1413 631.6865,-921.7231 674.8218,-874.9602 623,-831.661 544.2747,-765.8829 467.1106,-868.6303 395,-795.661 358.1854,-758.4081 387.2852,-607.7418 361,-562.4407 347.971,-539.9859 331.1435,-546.772 315,-526.4407 298.6193,-505.8107 302.4436,-495.9187 290,-472.7006 281.1424,-456.1734 273.0787,-454.7508 268,-436.7006 257.1165,-398.0195 283.7626,-296.9163 290,-257.2203 294.9971,-225.4178 286.4219,-135.6592 310,-113.7401 341.6958,-84.2746 953.2433,-61.1984 1181.794,-53.5711\"/>\n",
       "<polygon fill=\"#000000\" stroke=\"#000000\" points=\"1182.1788,-57.0603 1192.0572,-53.2304 1181.9465,-50.0642 1182.1788,-57.0603\"/>\n",
       "</g>\n",
       "<!-- callgraphX__tile_4_3&#45;&gt;callgraphX__tile_3_3 -->\n",
       "<g id=\"edge149\" class=\"edge\">\n",
       "<title>callgraphX__tile_4_3&#45;&gt;callgraphX__tile_3_3</title>\n",
       "<path fill=\"none\" stroke=\"#000000\" d=\"M760.7547,-1011.0863C760.276,-1003.0114 760.1378,-994.0081 760.3402,-985.3972\"/>\n",
       "<polygon fill=\"#000000\" stroke=\"#000000\" points=\"763.8465,-985.3112 760.7558,-975.1772 756.8522,-985.0267 763.8465,-985.3112\"/>\n",
       "</g>\n",
       "<!-- callgraphX__tile_4_3&#45;&gt;callgraphX__tile_4_2 -->\n",
       "<g id=\"edge152\" class=\"edge\">\n",
       "<title>callgraphX__tile_4_3&#45;&gt;callgraphX__tile_4_2</title>\n",
       "<path fill=\"none\" stroke=\"#000000\" d=\"M827.3038,-1019.0894C872.6871,-1004.8492 935.0017,-985.2963 982.6564,-970.3434\"/>\n",
       "<polygon fill=\"#000000\" stroke=\"#000000\" points=\"983.7932,-973.655 992.2866,-967.3216 981.6974,-966.9761 983.7932,-973.655\"/>\n",
       "</g>\n",
       "<!-- callgraphX__tile_4_3&#45;&gt;callgraphX__tile_4_3 -->\n",
       "<g id=\"edge153\" class=\"edge\">\n",
       "<title>callgraphX__tile_4_3&#45;&gt;callgraphX__tile_4_3</title>\n",
       "<path fill=\"none\" stroke=\"#000000\" d=\"M834.2667,-1054.4751C854.2801,-1053.9836 869.8528,-1048.4957 869.8528,-1038.0113 869.8528,-1029.4109 859.3737,-1024.1726 844.5604,-1022.2965\"/>\n",
       "<polygon fill=\"#000000\" stroke=\"#000000\" points=\"844.4943,-1018.7825 834.2667,-1021.5476 843.9863,-1025.7641 844.4943,-1018.7825\"/>\n",
       "</g>\n",
       "<!-- callgraphX__tile_4_3&#45;&gt;callgraphX__tile_4_4 -->\n",
       "<g id=\"edge148\" class=\"edge\">\n",
       "<title>callgraphX__tile_4_3&#45;&gt;callgraphX__tile_4_4</title>\n",
       "<path fill=\"none\" stroke=\"#000000\" d=\"M787.8537,-1064.2997C793.1899,-1072.9197 798.7523,-1082.6509 803.6292,-1091.8565\"/>\n",
       "<polygon fill=\"#000000\" stroke=\"#000000\" points=\"800.5567,-1093.5353 808.2437,-1100.8264 806.7813,-1090.333 800.5567,-1093.5353\"/>\n",
       "</g>\n",
       "<!-- callgraphX__tile_4_3&#45;&gt;callgraphX__tile_5_3 -->\n",
       "<g id=\"edge150\" class=\"edge\">\n",
       "<title>callgraphX__tile_4_3&#45;&gt;callgraphX__tile_5_3</title>\n",
       "<path fill=\"none\" stroke=\"#000000\" d=\"M848.4169,-1030.0869C1019.992,-1013.3871 1417.6812,-974.6792 1597.6318,-957.1643\"/>\n",
       "<polygon fill=\"#000000\" stroke=\"#000000\" points=\"1597.9876,-960.6463 1607.6015,-956.1939 1597.3094,-953.6792 1597.9876,-960.6463\"/>\n",
       "</g>\n",
       "<!-- callgraphX__tile_4_4&#45;&gt;callgraphX__print_maze -->\n",
       "<g id=\"edge157\" class=\"edge\">\n",
       "<title>callgraphX__tile_4_4&#45;&gt;callgraphX__print_maze</title>\n",
       "<path fill=\"none\" stroke=\"#000000\" d=\"M854.073,-1103.4964C867.0868,-1093.1296 880.5533,-1079.9317 889,-1064.8814 914.7354,-1019.026 909,-1000.8547 909,-948.2712 909,-948.2712 909,-948.2712 909,-858.5311 909,-806.5141 910.1507,-792.7287 899,-741.9209 895.3534,-725.3051 890.7487,-722.2559 886,-705.9209 874.593,-666.6823 870.4713,-656.7985 866,-616.1808 863.3865,-592.4397 865.3354,-586.3159 866,-562.4407 867.1115,-522.5098 846.0664,-503.91 871,-472.7006 907.3526,-427.198 958.1098,-480.0544 997,-436.7006 1032.1125,-397.558 1017,-372.6739 1017,-320.0904 1017,-320.0904 1017,-320.0904 1017,-230.3503 1017,-178.0965 997.5974,-153.071 1032,-113.7401 1052.4693,-90.3385 1127.1248,-73.0591 1186.8681,-62.6004\"/>\n",
       "<polygon fill=\"#000000\" stroke=\"#000000\" points=\"1187.8073,-65.9906 1197.0736,-60.8539 1186.6265,-59.0909 1187.8073,-65.9906\"/>\n",
       "</g>\n",
       "<!-- callgraphX__tile_4_4&#45;&gt;callgraphX__tile_3_4 -->\n",
       "<g id=\"edge158\" class=\"edge\">\n",
       "<title>callgraphX__tile_4_4&#45;&gt;callgraphX__tile_3_4</title>\n",
       "<path fill=\"none\" stroke=\"#000000\" d=\"M850.5462,-1102.8783C861.8017,-1092.5206 873.0085,-1079.4899 879,-1064.8814 898.6882,-1016.8776 903.1738,-869.8027 868,-831.661 814.1682,-773.2871 743.1741,-857.2073 693,-795.661 672.7747,-770.8515 692.1805,-737.2241 713.1484,-712.455\"/>\n",
       "<polygon fill=\"#000000\" stroke=\"#000000\" points=\"715.9617,-714.5571 719.9628,-704.7468 710.7172,-709.9207 715.9617,-714.5571\"/>\n",
       "</g>\n",
       "<!-- callgraphX__tile_4_4&#45;&gt;callgraphX__tile_4_3 -->\n",
       "<g id=\"edge159\" class=\"edge\">\n",
       "<title>callgraphX__tile_4_4&#45;&gt;callgraphX__tile_4_3</title>\n",
       "<path fill=\"none\" stroke=\"#000000\" d=\"M796.0527,-1101.3118C790.7292,-1092.7035 785.1859,-1082.9998 780.3271,-1073.8235\"/>\n",
       "<polygon fill=\"#000000\" stroke=\"#000000\" points=\"783.4154,-1072.1758 775.7299,-1064.8831 777.1902,-1075.3768 783.4154,-1072.1758\"/>\n",
       "</g>\n",
       "<!-- callgraphX__tile_4_4&#45;&gt;callgraphX__tile_4_4 -->\n",
       "<g id=\"edge154\" class=\"edge\">\n",
       "<title>callgraphX__tile_4_4&#45;&gt;callgraphX__tile_4_4</title>\n",
       "<path fill=\"none\" stroke=\"#000000\" d=\"M884.2667,-1144.2152C904.2801,-1143.7237 919.8528,-1138.2358 919.8528,-1127.7514 919.8528,-1119.151 909.3737,-1113.9127 894.5604,-1112.0366\"/>\n",
       "<polygon fill=\"#000000\" stroke=\"#000000\" points=\"894.4943,-1108.5226 884.2667,-1111.2877 893.9863,-1115.5042 894.4943,-1108.5226\"/>\n",
       "</g>\n",
       "<!-- callgraphX__tile_4_4&#45;&gt;callgraphX__tile_4_5 -->\n",
       "<g id=\"edge156\" class=\"edge\">\n",
       "<title>callgraphX__tile_4_4&#45;&gt;callgraphX__tile_4_5</title>\n",
       "<path fill=\"none\" stroke=\"#000000\" d=\"M897.2908,-1136.5412C980.5021,-1146.8234 1113.7972,-1165.6668 1227,-1190.6215 1232.8401,-1191.9089 1238.8533,-1193.3509 1244.8579,-1194.8807\"/>\n",
       "<polygon fill=\"#000000\" stroke=\"#000000\" points=\"1244.3615,-1198.369 1254.9228,-1197.526 1246.1409,-1191.5989 1244.3615,-1198.369\"/>\n",
       "</g>\n",
       "<!-- callgraphX__tile_4_4&#45;&gt;callgraphX__tile_5_4 -->\n",
       "<g id=\"edge155\" class=\"edge\">\n",
       "<title>callgraphX__tile_4_4&#45;&gt;callgraphX__tile_5_4</title>\n",
       "<path fill=\"none\" stroke=\"#000000\" d=\"M894.4542,-1116.6124C1011.1238,-1099.8337 1231.2797,-1068.1721 1353.5589,-1050.5866\"/>\n",
       "<polygon fill=\"#000000\" stroke=\"#000000\" points=\"1354.2351,-1054.0255 1363.635,-1049.1375 1353.2386,-1047.0967 1354.2351,-1054.0255\"/>\n",
       "</g>\n",
       "<!-- callgraphX__tile_4_5&#45;&gt;callgraphX__print_maze -->\n",
       "<g id=\"edge162\" class=\"edge\">\n",
       "<title>callgraphX__tile_4_5&#45;&gt;callgraphX__print_maze</title>\n",
       "<path fill=\"none\" stroke=\"#000000\" d=\"M1291.382,-1191.1621C1283.7348,-1180.3396 1275.5757,-1167.3696 1270,-1154.6215 1248.6415,-1105.7882 1242,-1091.3112 1242,-1038.0113 1242,-1038.0113 1242,-1038.0113 1242,-858.5311 1242,-726.9166 1216.4584,-690.4625 1247,-562.4407 1281.9844,-415.796 1361.2549,-404.1552 1395,-257.2203 1400.3461,-233.9419 1409.6833,-222.3182 1395,-203.4802 1354.7092,-151.7892 1292.2908,-219.1713 1252,-167.4802 1234.3863,-144.8827 1240.5977,-112.008 1249.8027,-86.92\"/>\n",
       "<polygon fill=\"#000000\" stroke=\"#000000\" points=\"1253.1515,-87.9694 1253.5779,-77.3832 1246.6429,-85.3929 1253.1515,-87.9694\"/>\n",
       "</g>\n",
       "<!-- callgraphX__tile_4_5&#45;&gt;callgraphX__tile_3_5 -->\n",
       "<g id=\"edge165\" class=\"edge\">\n",
       "<title>callgraphX__tile_4_5&#45;&gt;callgraphX__tile_3_5</title>\n",
       "<path fill=\"none\" stroke=\"#000000\" d=\"M1300.8764,-1190.6514C1287.5506,-1156.0133 1267,-1093.5862 1267,-1038.0113 1267,-1038.0113 1267,-1038.0113 1267,-768.791 1267,-716.5372 1259.7056,-699.4398 1282,-652.1808 1287.189,-641.1814 1295.0273,-630.831 1303.3106,-621.8257\"/>\n",
       "<polygon fill=\"#000000\" stroke=\"#000000\" points=\"1305.8757,-624.2082 1310.3249,-614.5928 1300.8506,-619.335 1305.8757,-624.2082\"/>\n",
       "</g>\n",
       "<!-- callgraphX__tile_4_5&#45;&gt;callgraphX__tile_4_4 -->\n",
       "<g id=\"edge160\" class=\"edge\">\n",
       "<title>callgraphX__tile_4_5&#45;&gt;callgraphX__tile_4_4</title>\n",
       "<path fill=\"none\" stroke=\"#000000\" d=\"M1246.838,-1200.1589C1234.2945,-1196.7112 1221.2656,-1193.3254 1209,-1190.6215 1105.5548,-1167.8178 985.3318,-1150.1172 905.5238,-1139.3893\"/>\n",
       "<polygon fill=\"#000000\" stroke=\"#000000\" points=\"905.8854,-1135.9066 895.5099,-1138.0512 904.9582,-1142.8449 905.8854,-1135.9066\"/>\n",
       "</g>\n",
       "<!-- callgraphX__tile_4_5&#45;&gt;callgraphX__tile_4_5 -->\n",
       "<g id=\"edge161\" class=\"edge\">\n",
       "<title>callgraphX__tile_4_5&#45;&gt;callgraphX__tile_4_5</title>\n",
       "<path fill=\"none\" stroke=\"#000000\" d=\"M1379.2667,-1233.9553C1399.2801,-1233.4638 1414.8528,-1227.9759 1414.8528,-1217.4916 1414.8528,-1208.8911 1404.3737,-1203.6528 1389.5604,-1201.7767\"/>\n",
       "<polygon fill=\"#000000\" stroke=\"#000000\" points=\"1389.4943,-1198.2627 1379.2667,-1201.0278 1388.9863,-1205.2443 1389.4943,-1198.2627\"/>\n",
       "</g>\n",
       "<!-- callgraphX__tile_4_5&#45;&gt;callgraphX__tile_4_6 -->\n",
       "<g id=\"edge164\" class=\"edge\">\n",
       "<title>callgraphX__tile_4_5&#45;&gt;callgraphX__tile_4_6</title>\n",
       "<path fill=\"none\" stroke=\"#000000\" d=\"M1272.6529,-1193.4165C1259.1797,-1183.151 1245.3984,-1169.9749 1237,-1154.6215 1211.9234,-1108.7781 1222,-1090.2651 1222,-1038.0113 1222,-1038.0113 1222,-1038.0113 1222,-858.5311 1222,-698.9776 1217,-659.1241 1217,-499.5706 1217,-499.5706 1217,-499.5706 1217,-409.8305 1217,-355.2794 1249.2255,-299.4492 1273.7566,-264.8523\"/>\n",
       "<polygon fill=\"#000000\" stroke=\"#000000\" points=\"1276.7582,-266.6754 1279.8033,-256.5276 1271.0945,-262.5616 1276.7582,-266.6754\"/>\n",
       "</g>\n",
       "<!-- callgraphX__tile_4_5&#45;&gt;callgraphX__tile_5_5 -->\n",
       "<g id=\"edge163\" class=\"edge\">\n",
       "<title>callgraphX__tile_4_5&#45;&gt;callgraphX__tile_5_5</title>\n",
       "<path fill=\"none\" stroke=\"#000000\" d=\"M1392.159,-1226.3523C1536.8017,-1242.855 1840.2489,-1278.2516 1991.4628,-1296.2448\"/>\n",
       "<polygon fill=\"#000000\" stroke=\"#000000\" points=\"1991.2974,-1299.7498 2001.6412,-1297.4571 1992.1253,-1292.7989 1991.2974,-1299.7498\"/>\n",
       "</g>\n",
       "<!-- callgraphX__tile_4_6&#45;&gt;callgraphX__print_maze -->\n",
       "<g id=\"edge166\" class=\"edge\">\n",
       "<title>callgraphX__tile_4_6&#45;&gt;callgraphX__print_maze</title>\n",
       "<path fill=\"none\" stroke=\"#000000\" d=\"M1263.7481,-206.1849C1251.2313,-195.909 1238.7443,-182.7493 1232,-167.4802 1220.314,-141.023 1231.1205,-109.5331 1243.713,-85.9496\"/>\n",
       "<polygon fill=\"#000000\" stroke=\"#000000\" points=\"1246.895,-87.433 1248.7737,-77.0061 1240.8027,-83.9857 1246.895,-87.433\"/>\n",
       "</g>\n",
       "<!-- callgraphX__tile_4_7&#45;&gt;callgraphX__print_maze -->\n",
       "<g id=\"edge169\" class=\"edge\">\n",
       "<title>callgraphX__tile_4_7&#45;&gt;callgraphX__print_maze</title>\n",
       "<path fill=\"none\" stroke=\"#000000\" d=\"M688.8906,-293.2534C707.1397,-247.8815 750.6954,-156.7619 820,-113.7401 878.8364,-77.2166 1069.476,-61.1581 1181.8936,-54.7152\"/>\n",
       "<polygon fill=\"#000000\" stroke=\"#000000\" points=\"1182.3981,-58.1926 1192.187,-54.1396 1182.0072,-51.2035 1182.3981,-58.1926\"/>\n",
       "</g>\n",
       "<!-- callgraphX__tile_4_7&#45;&gt;callgraphX__tile_3_7 -->\n",
       "<g id=\"edge170\" class=\"edge\">\n",
       "<title>callgraphX__tile_4_7&#45;&gt;callgraphX__tile_3_7</title>\n",
       "<path fill=\"none\" stroke=\"#000000\" d=\"M626.0415,-341.1916C588.6606,-355.0373 538.3039,-373.1278 497.8224,-387.2605\"/>\n",
       "<polygon fill=\"#000000\" stroke=\"#000000\" points=\"496.5823,-383.9862 488.2886,-390.579 498.8834,-390.5972 496.5823,-383.9862\"/>\n",
       "</g>\n",
       "<!-- callgraphX__tile_4_7&#45;&gt;callgraphX__tile_4_6 -->\n",
       "<g id=\"edge171\" class=\"edge\">\n",
       "<title>callgraphX__tile_4_7&#45;&gt;callgraphX__tile_4_6</title>\n",
       "<path fill=\"none\" stroke=\"#000000\" d=\"M756.5191,-308.9062C872.7684,-292.1341 1091.5836,-260.5642 1213.4406,-242.9831\"/>\n",
       "<polygon fill=\"#000000\" stroke=\"#000000\" points=\"1214.0857,-246.4263 1223.4834,-241.5341 1213.086,-239.4981 1214.0857,-246.4263\"/>\n",
       "</g>\n",
       "<!-- callgraphX__tile_4_7&#45;&gt;callgraphX__tile_4_7 -->\n",
       "<g id=\"edge172\" class=\"edge\">\n",
       "<title>callgraphX__tile_4_7&#45;&gt;callgraphX__tile_4_7</title>\n",
       "<path fill=\"none\" stroke=\"#000000\" d=\"M746.2667,-336.5541C766.2801,-336.0627 781.8528,-330.5748 781.8528,-320.0904 781.8528,-311.4899 771.3737,-306.2517 756.5604,-304.3756\"/>\n",
       "<polygon fill=\"#000000\" stroke=\"#000000\" points=\"756.4943,-300.8616 746.2667,-303.6267 755.9863,-307.8431 756.4943,-300.8616\"/>\n",
       "</g>\n",
       "<!-- callgraphX__tile_4_7&#45;&gt;callgraphX__tile_4_8 -->\n",
       "<g id=\"edge168\" class=\"edge\">\n",
       "<title>callgraphX__tile_4_7&#45;&gt;callgraphX__tile_4_8</title>\n",
       "<path fill=\"none\" stroke=\"#000000\" d=\"M604.5076,-307.1851C509.5033,-290.7262 345.6082,-262.3325 245.8757,-245.0544\"/>\n",
       "<polygon fill=\"#000000\" stroke=\"#000000\" points=\"246.2834,-241.573 235.8326,-243.3146 245.0884,-248.4703 246.2834,-241.573\"/>\n",
       "</g>\n",
       "<!-- callgraphX__tile_4_7&#45;&gt;callgraphX__tile_5_7 -->\n",
       "<g id=\"edge167\" class=\"edge\">\n",
       "<title>callgraphX__tile_4_7&#45;&gt;callgraphX__tile_5_7</title>\n",
       "<path fill=\"none\" stroke=\"#000000\" d=\"M761.3488,-313.6004C975.7881,-297.1251 1550.1974,-253.8064 1776.0306,-237.0771\"/>\n",
       "<polygon fill=\"#000000\" stroke=\"#000000\" points=\"1776.4794,-240.5535 1786.1937,-236.3247 1775.9626,-233.5726 1776.4794,-240.5535\"/>\n",
       "</g>\n",
       "<!-- callgraphX__tile_4_8&#45;&gt;callgraphX__print_maze -->\n",
       "<g id=\"edge173\" class=\"edge\">\n",
       "<title>callgraphX__tile_4_8&#45;&gt;callgraphX__print_maze</title>\n",
       "<path fill=\"none\" stroke=\"#000000\" d=\"M174.9332,-203.8105C191.2042,-175.8823 220.9452,-133.3151 260,-113.7401 341.3066,-72.9877 953.4442,-56.9794 1181.6153,-52.3883\"/>\n",
       "<polygon fill=\"#000000\" stroke=\"#000000\" points=\"1181.9319,-55.8828 1191.8604,-52.1847 1181.7928,-48.8842 1181.9319,-55.8828\"/>\n",
       "</g>\n",
       "<!-- callgraphX__tile_5_0&#45;&gt;callgraphX__print_maze -->\n",
       "<g id=\"edge174\" class=\"edge\">\n",
       "<title>callgraphX__tile_5_0&#45;&gt;callgraphX__print_maze</title>\n",
       "<path fill=\"none\" stroke=\"#000000\" d=\"M1390.3371,-1729.4315C1407.5125,-1695.1519 1434,-1633.1032 1434,-1576.452 1434,-1576.452 1434,-1576.452 1434,-1307.2317 1434,-1255.2147 1442.2563,-1239.3295 1424,-1190.6215 1399.6969,-1125.7806 1356.6804,-1129.5796 1332,-1064.8814 1315.5976,-1021.8835 1268.864,-688.5982 1297,-652.1808 1335.7531,-602.0213 1394.1375,-664.6373 1435,-616.1808 1451.7667,-596.2981 1445,-525.5791 1445,-499.5706 1445,-499.5706 1445,-499.5706 1445,-320.0904 1445,-267.5069 1460.728,-242.0618 1425,-203.4802 1380.4696,-155.3933 1325.5126,-216.4901 1282,-167.4802 1276.7494,-161.5662 1272.3586,-120.0752 1269.711,-88.2507\"/>\n",
       "<polygon fill=\"#000000\" stroke=\"#000000\" points=\"1273.1687,-87.5825 1268.8812,-77.894 1266.1911,-88.1416 1273.1687,-87.5825\"/>\n",
       "</g>\n",
       "<!-- callgraphX__tile_5_1&#45;&gt;callgraphX__print_maze -->\n",
       "<g id=\"edge177\" class=\"edge\">\n",
       "<title>callgraphX__tile_5_1&#45;&gt;callgraphX__print_maze</title>\n",
       "<path fill=\"none\" stroke=\"#000000\" d=\"M1224.6007,-1823.3785C1151.6025,-1787.4814 1020,-1715.8759 1020,-1666.1921 1020,-1666.1921 1020,-1666.1921 1020,-1307.2317 1020,-1255.2147 1003.7108,-1235.5063 1030,-1190.6215 1044.3915,-1166.0502 1064.778,-1176.5035 1083,-1154.6215 1138.7714,-1087.6481 1142.4067,-1060.0647 1162,-975.1413 1200.5798,-807.9243 1177,-760.9205 1177,-589.3107 1177,-589.3107 1177,-589.3107 1177,-230.3503 1177,-177.6898 1172.5219,-159.8269 1198,-113.7401 1204.623,-101.7599 1214.3875,-90.8408 1224.4994,-81.587\"/>\n",
       "<polygon fill=\"#000000\" stroke=\"#000000\" points=\"1227.0035,-84.0477 1232.2534,-74.8451 1222.4105,-78.7653 1227.0035,-84.0477\"/>\n",
       "</g>\n",
       "<!-- callgraphX__tile_5_1&#45;&gt;callgraphX__tile_4_1 -->\n",
       "<g id=\"edge176\" class=\"edge\">\n",
       "<title>callgraphX__tile_5_1&#45;&gt;callgraphX__tile_4_1</title>\n",
       "<path fill=\"none\" stroke=\"#000000\" d=\"M1220.2785,-1867.2039C1185.044,-1880.8046 1138.111,-1898.3697 1099.8864,-1912.2686\"/>\n",
       "<polygon fill=\"#000000\" stroke=\"#000000\" points=\"1098.5771,-1909.0203 1090.3683,-1915.7186 1100.9625,-1915.6014 1098.5771,-1909.0203\"/>\n",
       "</g>\n",
       "<!-- callgraphX__tile_5_1&#45;&gt;callgraphX__tile_5_0 -->\n",
       "<g id=\"edge179\" class=\"edge\">\n",
       "<title>callgraphX__tile_5_1&#45;&gt;callgraphX__tile_5_0</title>\n",
       "<path fill=\"none\" stroke=\"#000000\" d=\"M1301.2466,-1820.4359C1312.8775,-1810.3997 1326.4003,-1798.7311 1338.7214,-1788.0994\"/>\n",
       "<polygon fill=\"#000000\" stroke=\"#000000\" points=\"1341.3281,-1790.473 1346.6126,-1781.2902 1336.755,-1785.1733 1341.3281,-1790.473\"/>\n",
       "</g>\n",
       "<!-- callgraphX__tile_5_1&#45;&gt;callgraphX__tile_5_1 -->\n",
       "<g id=\"edge175\" class=\"edge\">\n",
       "<title>callgraphX__tile_5_1&#45;&gt;callgraphX__tile_5_1</title>\n",
       "<path fill=\"none\" stroke=\"#000000\" d=\"M1339.2667,-1862.1361C1359.2801,-1861.6447 1374.8528,-1856.1567 1374.8528,-1845.6724 1374.8528,-1837.0719 1364.3737,-1831.8336 1349.5604,-1829.9575\"/>\n",
       "<polygon fill=\"#000000\" stroke=\"#000000\" points=\"1349.4943,-1826.4435 1339.2667,-1829.2086 1348.9863,-1833.4251 1349.4943,-1826.4435\"/>\n",
       "</g>\n",
       "<!-- callgraphX__tile_5_1&#45;&gt;callgraphX__tile_5_2 -->\n",
       "<g id=\"edge178\" class=\"edge\">\n",
       "<title>callgraphX__tile_5_1&#45;&gt;callgraphX__tile_5_2</title>\n",
       "<path fill=\"none\" stroke=\"#000000\" d=\"M1267.1463,-1818.585C1264.1312,-1793.1633 1263.7598,-1755.2341 1282,-1729.0622 1337.5138,-1649.4082 1445.7845,-1610.1878 1522.0647,-1591.6857\"/>\n",
       "<polygon fill=\"#000000\" stroke=\"#000000\" points=\"1523.2046,-1595.0132 1532.138,-1589.3171 1521.6023,-1588.1991 1523.2046,-1595.0132\"/>\n",
       "</g>\n",
       "<!-- callgraphX__tile_5_1&#45;&gt;callgraphX__tile_6_1 -->\n",
       "<g id=\"edge180\" class=\"edge\">\n",
       "<title>callgraphX__tile_5_1&#45;&gt;callgraphX__tile_6_1</title>\n",
       "<path fill=\"none\" stroke=\"#000000\" d=\"M1330.3813,-1825.9785C1376.4671,-1811.395 1440.9566,-1791.5652 1490.5399,-1776.7265\"/>\n",
       "<polygon fill=\"#000000\" stroke=\"#000000\" points=\"1491.667,-1780.0427 1500.2479,-1773.8283 1489.6646,-1773.3352 1491.667,-1780.0427\"/>\n",
       "</g>\n",
       "<!-- callgraphX__tile_5_2&#45;&gt;callgraphX__print_maze -->\n",
       "<g id=\"edge181\" class=\"edge\">\n",
       "<title>callgraphX__tile_5_2&#45;&gt;callgraphX__print_maze</title>\n",
       "<path fill=\"none\" stroke=\"#000000\" d=\"M1566.7189,-1552.5134C1553.4332,-1542.3389 1540.2191,-1529.1881 1533,-1513.582 1522.9723,-1491.9044 1532.2541,-1483.7147 1533,-1459.8418 1540.1146,-1232.1439 1565,-1176.0803 1565,-948.2712 1565,-948.2712 1565,-948.2712 1565,-320.0904 1565,-293.9635 1567.4244,-222.9483 1550,-203.4802 1504.8528,-153.0378 1452.6,-212.4508 1402,-167.4802 1382.951,-150.5505 1398.6773,-133.0105 1382,-113.7401 1367.6673,-97.1788 1347.8546,-84.1833 1328.7091,-74.4135\"/>\n",
       "<polygon fill=\"#000000\" stroke=\"#000000\" points=\"1330.2097,-71.2513 1319.6874,-70.0131 1327.1409,-77.5428 1330.2097,-71.2513\"/>\n",
       "</g>\n",
       "<!-- callgraphX__tile_5_3&#45;&gt;callgraphX__print_maze -->\n",
       "<g id=\"edge182\" class=\"edge\">\n",
       "<title>callgraphX__tile_5_3&#45;&gt;callgraphX__print_maze</title>\n",
       "<path fill=\"none\" stroke=\"#000000\" d=\"M1667.8033,-922.0939C1642.9189,-888.6442 1605,-827.9651 1605,-768.791 1605,-768.791 1605,-768.791 1605,-320.0904 1605,-267.8366 1624.5249,-242.7038 1590,-203.4802 1548.1199,-155.9005 1502.1359,-206.2638 1452,-167.4802 1430.3639,-150.7432 1442.5019,-131.8487 1422,-113.7401 1398.6369,-93.1043 1367.6142,-78.7202 1339.4631,-68.9732\"/>\n",
       "<polygon fill=\"#000000\" stroke=\"#000000\" points=\"1340.2362,-65.5422 1329.6428,-65.7164 1338.0327,-72.1864 1340.2362,-65.5422\"/>\n",
       "</g>\n",
       "<!-- callgraphX__tile_5_4&#45;&gt;callgraphX__print_maze -->\n",
       "<g id=\"edge183\" class=\"edge\">\n",
       "<title>callgraphX__tile_5_4&#45;&gt;callgraphX__print_maze</title>\n",
       "<path fill=\"none\" stroke=\"#000000\" d=\"M1462.1967,-1011.834C1487.0811,-978.3844 1525,-917.7052 1525,-858.5311 1525,-858.5311 1525,-858.5311 1525,-320.0904 1525,-267.8366 1544.5249,-242.7038 1510,-203.4802 1468.1199,-155.9005 1422.1359,-206.2638 1372,-167.4802 1350.3639,-150.7432 1359.4362,-134.8168 1342,-113.7401 1332.4085,-102.146 1320.4774,-91.0496 1308.9733,-81.494\"/>\n",
       "<polygon fill=\"#000000\" stroke=\"#000000\" points=\"1311.088,-78.703 1301.1111,-75.1376 1306.6871,-84.1465 1311.088,-78.703\"/>\n",
       "</g>\n",
       "<!-- callgraphX__tile_5_5&#45;&gt;callgraphX__print_maze -->\n",
       "<g id=\"edge187\" class=\"edge\">\n",
       "<title>callgraphX__tile_5_5&#45;&gt;callgraphX__print_maze</title>\n",
       "<path fill=\"none\" stroke=\"#000000\" d=\"M2100.6827,-1280.8163C2123.7896,-1247.1211 2159,-1186.1886 2159,-1127.7514 2159,-1127.7514 2159,-1127.7514 2159,-679.0509 2159,-616.138 2233.9496,-159.7114 2191,-113.7401 2162.5716,-83.3117 1574.9132,-60.9554 1351.8588,-53.5365\"/>\n",
       "<polygon fill=\"#000000\" stroke=\"#000000\" points=\"1351.9462,-50.0376 1341.8359,-53.205 1351.7147,-57.0338 1351.9462,-50.0376\"/>\n",
       "</g>\n",
       "<!-- callgraphX__tile_5_5&#45;&gt;callgraphX__tile_4_5 -->\n",
       "<g id=\"edge186\" class=\"edge\">\n",
       "<title>callgraphX__tile_5_5&#45;&gt;callgraphX__tile_4_5</title>\n",
       "<path fill=\"none\" stroke=\"#000000\" d=\"M2000.5722,-1298.3402C1855.7614,-1281.8174 1552.4007,-1246.4306 1401.3453,-1228.4556\"/>\n",
       "<polygon fill=\"#000000\" stroke=\"#000000\" points=\"1401.5217,-1224.952 1391.1779,-1227.2446 1400.6937,-1231.9028 1401.5217,-1224.952\"/>\n",
       "</g>\n",
       "<!-- callgraphX__tile_5_5&#45;&gt;callgraphX__tile_5_4 -->\n",
       "<g id=\"edge184\" class=\"edge\">\n",
       "<title>callgraphX__tile_5_5&#45;&gt;callgraphX__tile_5_4</title>\n",
       "<path fill=\"none\" stroke=\"#000000\" d=\"M1999.7752,-1299.2204C1935.3756,-1290.9112 1844.0458,-1274.708 1769,-1244.3616 1659.3943,-1200.0402 1645.3748,-1163.3529 1545,-1100.8814 1527.1534,-1089.774 1507.4454,-1077.7895 1490.0282,-1067.293\"/>\n",
       "<polygon fill=\"#000000\" stroke=\"#000000\" points=\"1491.524,-1064.1084 1481.1509,-1061.9522 1487.9154,-1070.1065 1491.524,-1064.1084\"/>\n",
       "</g>\n",
       "<!-- callgraphX__tile_5_5&#45;&gt;callgraphX__tile_5_5 -->\n",
       "<g id=\"edge188\" class=\"edge\">\n",
       "<title>callgraphX__tile_5_5&#45;&gt;callgraphX__tile_5_5</title>\n",
       "<path fill=\"none\" stroke=\"#000000\" d=\"M2148.2667,-1323.6954C2168.2801,-1323.204 2183.8528,-1317.716 2183.8528,-1307.2317 2183.8528,-1298.6312 2173.3737,-1293.3929 2158.5604,-1291.5168\"/>\n",
       "<polygon fill=\"#000000\" stroke=\"#000000\" points=\"2158.4943,-1288.0029 2148.2667,-1290.7679 2157.9863,-1294.9844 2158.4943,-1288.0029\"/>\n",
       "</g>\n",
       "<!-- callgraphX__tile_5_5&#45;&gt;callgraphX__tile_5_6 -->\n",
       "<g id=\"edge189\" class=\"edge\">\n",
       "<title>callgraphX__tile_5_5&#45;&gt;callgraphX__tile_5_6</title>\n",
       "<path fill=\"none\" stroke=\"#000000\" d=\"M2082.957,-1280.1865C2085.3254,-1245.0704 2089,-1181.8673 2089,-1127.7514 2089,-1127.7514 2089,-1127.7514 2089,-320.0904 2089,-270.8365 2092.044,-214.0549 2094.3766,-177.7734\"/>\n",
       "<polygon fill=\"#000000\" stroke=\"#000000\" points=\"2097.8781,-177.8638 2095.043,-167.6553 2090.8933,-177.4037 2097.8781,-177.8638\"/>\n",
       "</g>\n",
       "<!-- callgraphX__tile_5_5&#45;&gt;callgraphX__tile_6_5 -->\n",
       "<g id=\"edge185\" class=\"edge\">\n",
       "<title>callgraphX__tile_5_5&#45;&gt;callgraphX__tile_6_5</title>\n",
       "<path fill=\"none\" stroke=\"#000000\" d=\"M2128.6056,-1329.4975C2151.35,-1341.1486 2178.4585,-1355.552 2201.2216,-1368.0552\"/>\n",
       "<polygon fill=\"#000000\" stroke=\"#000000\" points=\"2199.5906,-1371.1527 2210.0365,-1372.9231 2202.9746,-1365.025 2199.5906,-1371.1527\"/>\n",
       "</g>\n",
       "<!-- callgraphX__tile_5_6&#45;&gt;callgraphX__print_maze -->\n",
       "<g id=\"edge190\" class=\"edge\">\n",
       "<title>callgraphX__tile_5_6&#45;&gt;callgraphX__print_maze</title>\n",
       "<path fill=\"none\" stroke=\"#000000\" d=\"M2036.9818,-121.5925C2025.7777,-118.5748 2014.1011,-115.7811 2003,-113.7401 1769.9744,-70.8981 1489.9601,-57.1484 1352.1461,-52.8134\"/>\n",
       "<polygon fill=\"#000000\" stroke=\"#000000\" points=\"1352.1722,-49.3127 1342.0698,-52.5053 1351.9582,-56.3094 1352.1722,-49.3127\"/>\n",
       "</g>\n",
       "<!-- callgraphX__tile_5_7&#45;&gt;callgraphX__print_maze -->\n",
       "<g id=\"edge193\" class=\"edge\">\n",
       "<title>callgraphX__tile_5_7&#45;&gt;callgraphX__print_maze</title>\n",
       "<path fill=\"none\" stroke=\"#000000\" d=\"M1804.6085,-212.6892C1793.0938,-209.5835 1781.1993,-206.4095 1770,-203.4802 1706.5944,-186.896 1677.5047,-209.2484 1627,-167.4802 1606.7002,-150.692 1622.8032,-129.9004 1602,-113.7401 1563.6223,-83.9277 1436.5917,-66.4903 1350.4634,-57.8205\"/>\n",
       "<polygon fill=\"#000000\" stroke=\"#000000\" points=\"1350.7285,-54.3297 1340.4334,-56.8317 1350.0417,-61.296 1350.7285,-54.3297\"/>\n",
       "</g>\n",
       "<!-- callgraphX__tile_5_7&#45;&gt;callgraphX__tile_4_7 -->\n",
       "<g id=\"edge196\" class=\"edge\">\n",
       "<title>callgraphX__tile_5_7&#45;&gt;callgraphX__tile_4_7</title>\n",
       "<path fill=\"none\" stroke=\"#000000\" d=\"M1786.2951,-236.8676C1571.6547,-253.3575 998.0953,-296.6121 772.216,-313.3454\"/>\n",
       "<polygon fill=\"#000000\" stroke=\"#000000\" points=\"771.7643,-309.8691 762.0501,-314.0979 772.2812,-316.85 771.7643,-309.8691\"/>\n",
       "</g>\n",
       "<!-- callgraphX__tile_5_7&#45;&gt;callgraphX__tile_5_6 -->\n",
       "<g id=\"edge194\" class=\"edge\">\n",
       "<title>callgraphX__tile_5_7&#45;&gt;callgraphX__tile_5_6</title>\n",
       "<path fill=\"none\" stroke=\"#000000\" d=\"M1922.4559,-209.3102C1955.7817,-196.1933 1998.8319,-179.2488 2033.8388,-165.4702\"/>\n",
       "<polygon fill=\"#000000\" stroke=\"#000000\" points=\"2035.4612,-168.5931 2043.4845,-161.6737 2032.8974,-162.0795 2035.4612,-168.5931\"/>\n",
       "</g>\n",
       "<!-- callgraphX__tile_5_7&#45;&gt;callgraphX__tile_5_7 -->\n",
       "<g id=\"edge191\" class=\"edge\">\n",
       "<title>callgraphX__tile_5_7&#45;&gt;callgraphX__tile_5_7</title>\n",
       "<path fill=\"none\" stroke=\"#000000\" d=\"M1936.2667,-246.814C1956.2801,-246.3226 1971.8528,-240.8347 1971.8528,-230.3503 1971.8528,-221.7498 1961.3737,-216.5115 1946.5604,-214.6354\"/>\n",
       "<polygon fill=\"#000000\" stroke=\"#000000\" points=\"1946.4943,-211.1215 1936.2667,-213.8865 1945.9863,-218.103 1946.4943,-211.1215\"/>\n",
       "</g>\n",
       "<!-- callgraphX__tile_5_7&#45;&gt;callgraphX__tile_5_8 -->\n",
       "<g id=\"edge192\" class=\"edge\">\n",
       "<title>callgraphX__tile_5_7&#45;&gt;callgraphX__tile_5_8</title>\n",
       "<path fill=\"none\" stroke=\"#000000\" d=\"M1829.3387,-206.3016C1810.85,-195.0909 1788.6866,-181.6521 1769.2366,-169.8585\"/>\n",
       "<polygon fill=\"#000000\" stroke=\"#000000\" points=\"1770.8795,-166.7616 1760.5139,-164.5695 1767.2501,-172.7472 1770.8795,-166.7616\"/>\n",
       "</g>\n",
       "<!-- callgraphX__tile_5_7&#45;&gt;callgraphX__tile_6_7 -->\n",
       "<g id=\"edge195\" class=\"edge\">\n",
       "<title>callgraphX__tile_5_7&#45;&gt;callgraphX__tile_6_7</title>\n",
       "<path fill=\"none\" stroke=\"#000000\" d=\"M1881.0013,-203.4253C1884.7192,-195.0842 1888.8787,-185.7525 1892.8308,-176.8859\"/>\n",
       "<polygon fill=\"#000000\" stroke=\"#000000\" points=\"1896.1327,-178.0749 1897.0072,-167.5162 1889.7391,-175.225 1896.1327,-178.0749\"/>\n",
       "</g>\n",
       "<!-- callgraphX__tile_5_8&#45;&gt;callgraphX__print_maze -->\n",
       "<g id=\"edge197\" class=\"edge\">\n",
       "<title>callgraphX__tile_5_8&#45;&gt;callgraphX__print_maze</title>\n",
       "<path fill=\"none\" stroke=\"#000000\" d=\"M1657.8344,-122.5592C1645.9746,-119.4282 1633.6442,-116.3459 1622,-113.7401 1527.9325,-92.6894 1418.5676,-74.2133 1346.3544,-62.8324\"/>\n",
       "<polygon fill=\"#000000\" stroke=\"#000000\" points=\"1346.8383,-59.3656 1336.4168,-61.2741 1345.7538,-66.2811 1346.8383,-59.3656\"/>\n",
       "</g>\n",
       "<!-- callgraphX__tile_6_0&#45;&gt;callgraphX__print_maze -->\n",
       "<g id=\"edge198\" class=\"edge\">\n",
       "<title>callgraphX__tile_6_0&#45;&gt;callgraphX__print_maze</title>\n",
       "<path fill=\"none\" stroke=\"#000000\" d=\"M1620.3951,-1459.8395C1612.4017,-1424.9081 1600,-1361.9022 1600,-1307.2317 1600,-1307.2317 1600,-1307.2317 1600,-1217.4916 1600,-1057.8143 1585,-1018.2083 1585,-858.5311 1585,-858.5311 1585,-858.5311 1585,-320.0904 1585,-293.9635 1587.4244,-222.9483 1570,-203.4802 1524.8528,-153.0378 1472.6,-212.4508 1422,-167.4802 1402.951,-150.5505 1419.2897,-132.4631 1402,-113.7401 1384.3483,-94.6251 1359.7128,-80.8231 1336.312,-71.1109\"/>\n",
       "<polygon fill=\"#000000\" stroke=\"#000000\" points=\"1337.318,-67.7451 1326.7315,-67.3262 1334.7461,-74.2555 1337.318,-67.7451\"/>\n",
       "</g>\n",
       "<!-- callgraphX__tile_6_1&#45;&gt;callgraphX__print_maze -->\n",
       "<g id=\"edge202\" class=\"edge\">\n",
       "<title>callgraphX__tile_6_1&#45;&gt;callgraphX__print_maze</title>\n",
       "<path fill=\"none\" stroke=\"#000000\" d=\"M1533.7714,-1730.5394C1522.3968,-1719.8459 1510.0416,-1706.7196 1501,-1693.0622 1470.1543,-1646.4693 1454,-1632.3301 1454,-1576.452 1454,-1576.452 1454,-1576.452 1454,-1217.4916 1454,-1156.814 1420.4968,-1148.5863 1383,-1100.8814 1369.017,-1083.0916 1355.6591,-1085.7864 1347,-1064.8814 1337.8598,-1042.815 1341.8722,-1034.4688 1347,-1011.1413 1389.9816,-815.6097 1505,-789.5106 1505,-589.3107 1505,-589.3107 1505,-589.3107 1505,-320.0904 1505,-267.1774 1517.4597,-241.8271 1481,-203.4802 1437.0276,-157.2318 1389.3848,-210.2257 1342,-167.4802 1323.0769,-150.4098 1335.0481,-135.6314 1322,-113.7401 1315.7352,-103.2294 1307.6254,-92.8176 1299.5673,-83.5812\"/>\n",
       "<polygon fill=\"#000000\" stroke=\"#000000\" points=\"1302.1445,-81.2128 1292.8523,-76.1228 1296.9422,-85.8965 1302.1445,-81.2128\"/>\n",
       "</g>\n",
       "<!-- callgraphX__tile_6_1&#45;&gt;callgraphX__tile_5_1 -->\n",
       "<g id=\"edge199\" class=\"edge\">\n",
       "<title>callgraphX__tile_6_1&#45;&gt;callgraphX__tile_5_1</title>\n",
       "<path fill=\"none\" stroke=\"#000000\" d=\"M1505.9325,-1775.5268C1459.7725,-1790.1365 1395.0059,-1810.0518 1345.2871,-1824.9299\"/>\n",
       "<polygon fill=\"#000000\" stroke=\"#000000\" points=\"1344.135,-1821.6211 1335.554,-1827.8353 1346.1373,-1828.3287 1344.135,-1821.6211\"/>\n",
       "</g>\n",
       "<!-- callgraphX__tile_6_1&#45;&gt;callgraphX__tile_6_0 -->\n",
       "<g id=\"edge203\" class=\"edge\">\n",
       "<title>callgraphX__tile_6_1&#45;&gt;callgraphX__tile_6_0</title>\n",
       "<path fill=\"none\" stroke=\"#000000\" d=\"M1545.761,-1729.6859C1519.7014,-1688.631 1478.5684,-1607.8912 1513,-1549.582 1523.129,-1532.4287 1539.796,-1519.6346 1557.2987,-1510.2312\"/>\n",
       "<polygon fill=\"#000000\" stroke=\"#000000\" points=\"1559.1277,-1513.2295 1566.4974,-1505.6178 1555.9895,-1506.9723 1559.1277,-1513.2295\"/>\n",
       "</g>\n",
       "<!-- callgraphX__tile_6_1&#45;&gt;callgraphX__tile_6_1 -->\n",
       "<g id=\"edge204\" class=\"edge\">\n",
       "<title>callgraphX__tile_6_1&#45;&gt;callgraphX__tile_6_1</title>\n",
       "<path fill=\"none\" stroke=\"#000000\" d=\"M1631.2667,-1772.396C1651.2801,-1771.9045 1666.8528,-1766.4166 1666.8528,-1755.9322 1666.8528,-1747.3318 1656.3737,-1742.0935 1641.5604,-1740.2174\"/>\n",
       "<polygon fill=\"#000000\" stroke=\"#000000\" points=\"1641.4943,-1736.7034 1631.2667,-1739.4685 1640.9863,-1743.685 1641.4943,-1736.7034\"/>\n",
       "</g>\n",
       "<!-- callgraphX__tile_6_1&#45;&gt;callgraphX__tile_6_2 -->\n",
       "<g id=\"edge200\" class=\"edge\">\n",
       "<title>callgraphX__tile_6_1&#45;&gt;callgraphX__tile_6_2</title>\n",
       "<path fill=\"none\" stroke=\"#000000\" d=\"M1583.4163,-1729.4926C1592.1823,-1719.8406 1602.7745,-1708.8115 1612.9751,-1698.6927\"/>\n",
       "<polygon fill=\"#000000\" stroke=\"#000000\" points=\"1615.6057,-1701.0155 1620.3019,-1691.5183 1610.7082,-1696.014 1615.6057,-1701.0155\"/>\n",
       "</g>\n",
       "<!-- callgraphX__tile_6_1&#45;&gt;callgraphX__tile_7_1 -->\n",
       "<g id=\"edge201\" class=\"edge\">\n",
       "<title>callgraphX__tile_6_1&#45;&gt;callgraphX__tile_7_1</title>\n",
       "<path fill=\"none\" stroke=\"#000000\" d=\"M1503.7002,-1736.9996C1492.5763,-1733.9924 1481.0002,-1731.1804 1470,-1729.0622 1287.827,-1693.9828 1071.2288,-1677.5962 950.0916,-1670.6631\"/>\n",
       "<polygon fill=\"#000000\" stroke=\"#000000\" points=\"950.2854,-1667.1686 940.1044,-1670.1006 949.8917,-1674.1575 950.2854,-1667.1686\"/>\n",
       "</g>\n",
       "<!-- callgraphX__tile_6_2&#45;&gt;callgraphX__print_maze -->\n",
       "<g id=\"edge206\" class=\"edge\">\n",
       "<title>callgraphX__tile_6_2&#45;&gt;callgraphX__print_maze</title>\n",
       "<path fill=\"none\" stroke=\"#000000\" d=\"M1580.299,-1651.0373C1554.6013,-1641.7446 1528.1697,-1626.9029 1513,-1603.3221 1500.0779,-1583.2351 1512.3651,-1573.458 1513,-1549.582 1520.1136,-1282.0491 1545,-1215.8986 1545,-948.2712 1545,-948.2712 1545,-948.2712 1545,-320.0904 1545,-267.5069 1560.728,-242.0618 1525,-203.4802 1480.4696,-155.3933 1430.8128,-211.2138 1382,-167.4802 1363.019,-150.4743 1377.8503,-133.6963 1362,-113.7401 1350.7919,-99.6287 1335.5274,-87.598 1320.5139,-77.9544\"/>\n",
       "<polygon fill=\"#000000\" stroke=\"#000000\" points=\"1322.0871,-74.813 1311.7358,-72.5546 1318.4195,-80.7753 1322.0871,-74.813\"/>\n",
       "</g>\n",
       "<!-- callgraphX__tile_6_2&#45;&gt;callgraphX__tile_5_2 -->\n",
       "<g id=\"edge207\" class=\"edge\">\n",
       "<title>callgraphX__tile_6_2&#45;&gt;callgraphX__tile_5_2</title>\n",
       "<path fill=\"none\" stroke=\"#000000\" d=\"M1637.7985,-1639.2671C1633.6278,-1630.7606 1628.9519,-1621.2239 1624.5279,-1612.2009\"/>\n",
       "<polygon fill=\"#000000\" stroke=\"#000000\" points=\"1627.5855,-1610.4867 1620.0405,-1603.0488 1621.3003,-1613.5684 1627.5855,-1610.4867\"/>\n",
       "</g>\n",
       "<!-- callgraphX__tile_6_2&#45;&gt;callgraphX__tile_6_1 -->\n",
       "<g id=\"edge210\" class=\"edge\">\n",
       "<title>callgraphX__tile_6_2&#45;&gt;callgraphX__tile_6_1</title>\n",
       "<path fill=\"none\" stroke=\"#000000\" d=\"M1631.5494,-1692.6696C1622.8247,-1702.2744 1612.2959,-1713.239 1602.1458,-1723.3117\"/>\n",
       "<polygon fill=\"#000000\" stroke=\"#000000\" points=\"1599.5469,-1720.958 1594.8531,-1730.4564 1604.4457,-1725.9583 1599.5469,-1720.958\"/>\n",
       "</g>\n",
       "<!-- callgraphX__tile_6_2&#45;&gt;callgraphX__tile_6_2 -->\n",
       "<g id=\"edge205\" class=\"edge\">\n",
       "<title>callgraphX__tile_6_2&#45;&gt;callgraphX__tile_6_2</title>\n",
       "<path fill=\"none\" stroke=\"#000000\" d=\"M1718.2667,-1682.6559C1738.2801,-1682.1644 1753.8528,-1676.6765 1753.8528,-1666.1921 1753.8528,-1657.5917 1743.3737,-1652.3534 1728.5604,-1650.4773\"/>\n",
       "<polygon fill=\"#000000\" stroke=\"#000000\" points=\"1728.4943,-1646.9633 1718.2667,-1649.7284 1727.9863,-1653.9449 1728.4943,-1646.9633\"/>\n",
       "</g>\n",
       "<!-- callgraphX__tile_6_2&#45;&gt;callgraphX__tile_6_3 -->\n",
       "<g id=\"edge208\" class=\"edge\">\n",
       "<title>callgraphX__tile_6_2&#45;&gt;callgraphX__tile_6_3</title>\n",
       "<path fill=\"none\" stroke=\"#000000\" d=\"M1688.8915,-1642.1434C1709.7359,-1630.2724 1735.9282,-1615.9031 1759.064,-1603.6343\"/>\n",
       "<polygon fill=\"#000000\" stroke=\"#000000\" points=\"1760.884,-1606.6314 1768.0962,-1598.8703 1757.6182,-1600.4399 1760.884,-1606.6314\"/>\n",
       "</g>\n",
       "<!-- callgraphX__tile_6_2&#45;&gt;callgraphX__tile_7_2 -->\n",
       "<g id=\"edge209\" class=\"edge\">\n",
       "<title>callgraphX__tile_6_2&#45;&gt;callgraphX__tile_7_2</title>\n",
       "<path fill=\"none\" stroke=\"#000000\" d=\"M1674.6401,-1640.2955C1683.7237,-1629.4305 1693.6624,-1616.3155 1701,-1603.3221 1713.5316,-1581.1311 1708.9006,-1572.0116 1721,-1549.582 1744.5322,-1505.9583 1779.2107,-1460.7665 1803.7342,-1430.9955\"/>\n",
       "<polygon fill=\"#000000\" stroke=\"#000000\" points=\"1806.662,-1432.9487 1810.3641,-1423.0216 1801.2795,-1428.4733 1806.662,-1432.9487\"/>\n",
       "</g>\n",
       "<!-- callgraphX__tile_6_3&#45;&gt;callgraphX__print_maze -->\n",
       "<g id=\"edge213\" class=\"edge\">\n",
       "<title>callgraphX__tile_6_3&#45;&gt;callgraphX__print_maze</title>\n",
       "<path fill=\"none\" stroke=\"#000000\" d=\"M1797.0861,-1550.0651C1778.3504,-1520.7363 1750.1486,-1471.2378 1739,-1423.8418 1693.1184,-1228.7864 1771.1112,-1175.1673 1783,-975.1413 1784.4171,-951.2988 1789.804,-944.296 1783,-921.4012 1773.8428,-890.588 1625,-711.1959 1625,-679.0509 1625,-679.0509 1625,-679.0509 1625,-320.0904 1625,-267.5069 1640.728,-242.0618 1605,-203.4802 1560.4696,-155.3933 1510.8128,-211.2138 1462,-167.4802 1443.019,-150.4743 1460.1228,-131.6578 1442,-113.7401 1416.1952,-88.2274 1379.3127,-72.9981 1346.0555,-63.9404\"/>\n",
       "<polygon fill=\"#000000\" stroke=\"#000000\" points=\"1346.8839,-60.5396 1336.3269,-61.4345 1345.1378,-67.3183 1346.8839,-60.5396\"/>\n",
       "</g>\n",
       "<!-- callgraphX__tile_6_3&#45;&gt;callgraphX__tile_5_3 -->\n",
       "<g id=\"edge212\" class=\"edge\">\n",
       "<title>callgraphX__tile_6_3&#45;&gt;callgraphX__tile_5_3</title>\n",
       "<path fill=\"none\" stroke=\"#000000\" d=\"M1794.1567,-1550.4029C1785.3227,-1539.1856 1775.0089,-1525.8523 1766,-1513.582 1737.31,-1474.5055 1721.3609,-1469.1042 1704,-1423.8418 1685.2867,-1375.0538 1689,-1359.4854 1689,-1307.2317 1689,-1307.2317 1689,-1307.2317 1689,-1127.7514 1689,-1078.5464 1689,-1021.7534 1689,-985.456\"/>\n",
       "<polygon fill=\"#000000\" stroke=\"#000000\" points=\"1692.5001,-985.3331 1689,-975.3331 1685.5001,-985.3331 1692.5001,-985.3331\"/>\n",
       "</g>\n",
       "<!-- callgraphX__tile_6_3&#45;&gt;callgraphX__tile_6_2 -->\n",
       "<g id=\"edge211\" class=\"edge\">\n",
       "<title>callgraphX__tile_6_3&#45;&gt;callgraphX__tile_6_2</title>\n",
       "<path fill=\"none\" stroke=\"#000000\" d=\"M1776.8922,-1600.6238C1756.0723,-1612.4772 1729.9647,-1626.7984 1706.9,-1639.029\"/>\n",
       "<polygon fill=\"#000000\" stroke=\"#000000\" points=\"1705.1075,-1636.0173 1697.8952,-1643.7784 1708.3732,-1642.2089 1705.1075,-1636.0173\"/>\n",
       "</g>\n",
       "<!-- callgraphX__tile_6_3&#45;&gt;callgraphX__tile_6_3 -->\n",
       "<g id=\"edge214\" class=\"edge\">\n",
       "<title>callgraphX__tile_6_3&#45;&gt;callgraphX__tile_6_3</title>\n",
       "<path fill=\"none\" stroke=\"#000000\" d=\"M1882.2667,-1592.9158C1902.2801,-1592.4243 1917.8528,-1586.9364 1917.8528,-1576.452 1917.8528,-1567.8516 1907.3737,-1562.6133 1892.5604,-1560.7372\"/>\n",
       "<polygon fill=\"#000000\" stroke=\"#000000\" points=\"1892.4943,-1557.2232 1882.2667,-1559.9883 1891.9863,-1564.2047 1892.4943,-1557.2232\"/>\n",
       "</g>\n",
       "<!-- callgraphX__tile_6_3&#45;&gt;callgraphX__tile_6_4 -->\n",
       "<g id=\"edge215\" class=\"edge\">\n",
       "<title>callgraphX__tile_6_3&#45;&gt;callgraphX__tile_6_4</title>\n",
       "<path fill=\"none\" stroke=\"#000000\" d=\"M1868.0279,-1555.4119C1905.5991,-1541.5513 1956.2792,-1523.4169 1996.9886,-1509.2601\"/>\n",
       "<polygon fill=\"#000000\" stroke=\"#000000\" points=\"1998.2736,-1512.5191 2006.5753,-1505.9363 1995.9805,-1505.9053 1998.2736,-1512.5191\"/>\n",
       "</g>\n",
       "<!-- callgraphX__tile_6_3&#45;&gt;callgraphX__tile_7_3 -->\n",
       "<g id=\"edge216\" class=\"edge\">\n",
       "<title>callgraphX__tile_6_3&#45;&gt;callgraphX__tile_7_3</title>\n",
       "<path fill=\"none\" stroke=\"#000000\" d=\"M1847.9108,-1551.653C1879.5616,-1527.8877 1928.831,-1491.1142 1972,-1459.8418 1986.7278,-1449.1728 2002.9447,-1437.651 2017.4556,-1427.4214\"/>\n",
       "<polygon fill=\"#000000\" stroke=\"#000000\" points=\"2019.6149,-1430.1817 2025.7781,-1421.564 2015.586,-1424.4574 2019.6149,-1430.1817\"/>\n",
       "</g>\n",
       "<!-- callgraphX__tile_6_4&#45;&gt;callgraphX__print_maze -->\n",
       "<g id=\"edge220\" class=\"edge\">\n",
       "<title>callgraphX__tile_6_4&#45;&gt;callgraphX__print_maze</title>\n",
       "<path fill=\"none\" stroke=\"#000000\" d=\"M2013.8378,-1465.398C1996.0273,-1455.4513 1977.8768,-1441.7719 1967,-1423.8418 1913.0425,-1334.8944 1959.7905,-1293.8662 1947,-1190.6215 1929.6125,-1050.2704 1885.6159,-697.9069 1845,-562.4407 1843.4308,-557.2068 1688.1836,-206.995 1684,-203.4802 1634.1498,-161.5998 1590.4556,-210.9666 1542,-167.4802 1523.0332,-150.4585 1541.0226,-130.6996 1522,-113.7401 1496.2763,-90.8063 1412.0211,-73.0357 1347.3268,-62.327\"/>\n",
       "<polygon fill=\"#000000\" stroke=\"#000000\" points=\"1347.5556,-58.8184 1337.1237,-60.6693 1346.4329,-65.7278 1347.5556,-58.8184\"/>\n",
       "</g>\n",
       "<!-- callgraphX__tile_6_4&#45;&gt;callgraphX__tile_5_4 -->\n",
       "<g id=\"edge217\" class=\"edge\">\n",
       "<title>callgraphX__tile_6_4&#45;&gt;callgraphX__tile_5_4</title>\n",
       "<path fill=\"none\" stroke=\"#000000\" d=\"M1985.681,-1477.8603C1902.5955,-1467.5549 1779.437,-1448.7198 1739,-1423.8418 1595.7265,-1335.696 1495.3007,-1151.8602 1457.5488,-1074.0445\"/>\n",
       "<polygon fill=\"#000000\" stroke=\"#000000\" points=\"1460.5283,-1072.163 1453.0504,-1064.6576 1454.2158,-1075.1882 1460.5283,-1072.163\"/>\n",
       "</g>\n",
       "<!-- callgraphX__tile_6_4&#45;&gt;callgraphX__tile_6_3 -->\n",
       "<g id=\"edge221\" class=\"edge\">\n",
       "<title>callgraphX__tile_6_4&#45;&gt;callgraphX__tile_6_3</title>\n",
       "<path fill=\"none\" stroke=\"#000000\" d=\"M2012.8064,-1507.8131C1975.2712,-1521.6588 1924.7129,-1539.7493 1884.0739,-1553.882\"/>\n",
       "<polygon fill=\"#000000\" stroke=\"#000000\" points=\"1882.8047,-1550.6176 1874.5031,-1557.2005 1885.0979,-1557.2314 1882.8047,-1550.6176\"/>\n",
       "</g>\n",
       "<!-- callgraphX__tile_6_4&#45;&gt;callgraphX__tile_6_4 -->\n",
       "<g id=\"edge222\" class=\"edge\">\n",
       "<title>callgraphX__tile_6_4&#45;&gt;callgraphX__tile_6_4</title>\n",
       "<path fill=\"none\" stroke=\"#000000\" d=\"M2133.2667,-1503.1756C2153.2801,-1502.6842 2168.8528,-1497.1963 2168.8528,-1486.7119 2168.8528,-1478.1114 2158.3737,-1472.8732 2143.5604,-1470.9971\"/>\n",
       "<polygon fill=\"#000000\" stroke=\"#000000\" points=\"2143.4943,-1467.4831 2133.2667,-1470.2482 2142.9863,-1474.4646 2143.4943,-1467.4831\"/>\n",
       "</g>\n",
       "<!-- callgraphX__tile_6_4&#45;&gt;callgraphX__tile_6_5 -->\n",
       "<g id=\"edge218\" class=\"edge\">\n",
       "<title>callgraphX__tile_6_4&#45;&gt;callgraphX__tile_6_5</title>\n",
       "<path fill=\"none\" stroke=\"#000000\" d=\"M2108.0578,-1463.1337C2132.2531,-1450.8236 2162.9752,-1435.7299 2189.5871,-1423.069\"/>\n",
       "<polygon fill=\"#000000\" stroke=\"#000000\" points=\"2191.2714,-1426.1441 2198.8112,-1418.7007 2188.2754,-1419.8176 2191.2714,-1426.1441\"/>\n",
       "</g>\n",
       "<!-- callgraphX__tile_6_4&#45;&gt;callgraphX__tile_7_4 -->\n",
       "<g id=\"edge219\" class=\"edge\">\n",
       "<title>callgraphX__tile_6_4&#45;&gt;callgraphX__tile_7_4</title>\n",
       "<path fill=\"none\" stroke=\"#000000\" d=\"M2126.0556,-1467.512C2135.6833,-1464.7434 2145.5778,-1462.0789 2155,-1459.8418 2200.2146,-1449.1067 2331.1016,-1459.4184 2361,-1423.8418 2381.27,-1399.7223 2363.4292,-1366.0115 2343.8286,-1341.0358\"/>\n",
       "<polygon fill=\"#000000\" stroke=\"#000000\" points=\"2346.4966,-1338.7697 2337.449,-1333.2569 2341.0841,-1343.2087 2346.4966,-1338.7697\"/>\n",
       "</g>\n",
       "<!-- callgraphX__tile_6_5&#45;&gt;callgraphX__print_maze -->\n",
       "<g id=\"edge225\" class=\"edge\">\n",
       "<title>callgraphX__tile_6_5&#45;&gt;callgraphX__print_maze</title>\n",
       "<path fill=\"none\" stroke=\"#000000\" d=\"M2234.4422,-1370.2325C2228.8248,-1359.2449 2222.6468,-1346.266 2218,-1334.1017 2184.6933,-1246.9119 2179,-1221.0863 2179,-1127.7514 2179,-1127.7514 2179,-1127.7514 2179,-679.0509 2179,-545.351 1823.6253,-368.8222 1750,-257.2203 1735.8788,-235.8154 1748.292,-220.374 1729,-203.4802 1678.396,-159.1668 1632.2424,-212.2032 1582,-167.4802 1562.9642,-150.5356 1581.2894,-130.3954 1562,-113.7401 1530.6112,-86.6377 1425.1382,-69.0056 1349.2692,-59.5\"/>\n",
       "<polygon fill=\"#000000\" stroke=\"#000000\" points=\"1349.5905,-56.0132 1339.2385,-58.2686 1348.7375,-62.9611 1349.5905,-56.0132\"/>\n",
       "</g>\n",
       "<!-- callgraphX__tile_6_5&#45;&gt;callgraphX__tile_5_5 -->\n",
       "<g id=\"edge226\" class=\"edge\">\n",
       "<title>callgraphX__tile_6_5&#45;&gt;callgraphX__tile_5_5</title>\n",
       "<path fill=\"none\" stroke=\"#000000\" d=\"M2201.1057,-1374.5581C2178.3894,-1362.917 2151.3703,-1348.5588 2128.6839,-1336.0964\"/>\n",
       "<polygon fill=\"#000000\" stroke=\"#000000\" points=\"2130.3446,-1333.0152 2119.8988,-1331.2444 2126.9604,-1339.1428 2130.3446,-1333.0152\"/>\n",
       "</g>\n",
       "<!-- callgraphX__tile_6_5&#45;&gt;callgraphX__tile_6_4 -->\n",
       "<g id=\"edge228\" class=\"edge\">\n",
       "<title>callgraphX__tile_6_5&#45;&gt;callgraphX__tile_6_4</title>\n",
       "<path fill=\"none\" stroke=\"#000000\" d=\"M2207.2732,-1420.3815C2183.036,-1432.718 2152.1677,-1447.8854 2125.4407,-1460.6014\"/>\n",
       "<polygon fill=\"#000000\" stroke=\"#000000\" points=\"2123.7171,-1457.545 2116.1774,-1464.9883 2126.7132,-1463.8714 2123.7171,-1457.545\"/>\n",
       "</g>\n",
       "<!-- callgraphX__tile_6_5&#45;&gt;callgraphX__tile_6_5 -->\n",
       "<g id=\"edge223\" class=\"edge\">\n",
       "<title>callgraphX__tile_6_5&#45;&gt;callgraphX__tile_6_5</title>\n",
       "<path fill=\"none\" stroke=\"#000000\" d=\"M2316.2667,-1413.4355C2336.2801,-1412.9441 2351.8528,-1407.4562 2351.8528,-1396.9718 2351.8528,-1388.3713 2341.3737,-1383.133 2326.5604,-1381.2569\"/>\n",
       "<polygon fill=\"#000000\" stroke=\"#000000\" points=\"2326.4943,-1377.743 2316.2667,-1380.508 2325.9863,-1384.7245 2326.4943,-1377.743\"/>\n",
       "</g>\n",
       "<!-- callgraphX__tile_6_5&#45;&gt;callgraphX__tile_6_6 -->\n",
       "<g id=\"edge227\" class=\"edge\">\n",
       "<title>callgraphX__tile_6_5&#45;&gt;callgraphX__tile_6_6</title>\n",
       "<path fill=\"none\" stroke=\"#000000\" d=\"M2188.1375,-1378.1858C2177.1748,-1375.1999 2165.7994,-1372.3574 2155,-1370.1017 1743.6989,-1284.1922 1629.3011,-1330.2711 1218,-1244.3616 1210.4066,-1242.7756 1202.5285,-1240.8994 1194.7094,-1238.8873\"/>\n",
       "<polygon fill=\"#000000\" stroke=\"#000000\" points=\"1195.4255,-1235.4563 1184.8625,-1236.2775 1193.6321,-1242.2227 1195.4255,-1235.4563\"/>\n",
       "</g>\n",
       "<!-- callgraphX__tile_6_5&#45;&gt;callgraphX__tile_7_5 -->\n",
       "<g id=\"edge224\" class=\"edge\">\n",
       "<title>callgraphX__tile_6_5&#45;&gt;callgraphX__tile_7_5</title>\n",
       "<path fill=\"none\" stroke=\"#000000\" d=\"M2305.3293,-1376.8324C2343.3847,-1363.2264 2393.7802,-1345.2085 2433.7607,-1330.9142\"/>\n",
       "<polygon fill=\"#000000\" stroke=\"#000000\" points=\"2435.1871,-1334.1213 2443.425,-1327.4589 2432.8304,-1327.5299 2435.1871,-1334.1213\"/>\n",
       "</g>\n",
       "<!-- callgraphX__tile_6_6&#45;&gt;callgraphX__print_maze -->\n",
       "<g id=\"edge229\" class=\"edge\">\n",
       "<title>callgraphX__tile_6_6&#45;&gt;callgraphX__print_maze</title>\n",
       "<path fill=\"none\" stroke=\"#000000\" d=\"M1143.6827,-1191.0762C1166.7896,-1157.381 1202,-1096.4485 1202,-1038.0113 1202,-1038.0113 1202,-1038.0113 1202,-858.5311 1202,-698.9776 1197,-659.1241 1197,-499.5706 1197,-499.5706 1197,-499.5706 1197,-230.3503 1197,-177.3459 1200.5705,-162.2194 1222,-113.7401 1226.4004,-103.7853 1232.5278,-93.8293 1238.8468,-84.8714\"/>\n",
       "<polygon fill=\"#000000\" stroke=\"#000000\" points=\"1241.8089,-86.7512 1244.9138,-76.6215 1236.1696,-82.6041 1241.8089,-86.7512\"/>\n",
       "</g>\n",
       "<!-- callgraphX__tile_6_7&#45;&gt;callgraphX__print_maze -->\n",
       "<g id=\"edge230\" class=\"edge\">\n",
       "<title>callgraphX__tile_6_7&#45;&gt;callgraphX__print_maze</title>\n",
       "<path fill=\"none\" stroke=\"#000000\" d=\"M1848.4257,-121.7197C1837.3816,-118.7267 1825.9038,-115.9088 1815,-113.7401 1652.586,-81.4378 1459.5507,-64.0888 1351.3663,-56.2304\"/>\n",
       "<polygon fill=\"#000000\" stroke=\"#000000\" points=\"1351.3903,-52.7232 1341.1657,-55.4993 1350.8898,-59.7053 1351.3903,-52.7232\"/>\n",
       "</g>\n",
       "<!-- callgraphX__tile_6_8&#45;&gt;callgraphX__print_maze -->\n",
       "<g id=\"edge231\" class=\"edge\">\n",
       "<title>callgraphX__tile_6_8&#45;&gt;callgraphX__print_maze</title>\n",
       "<path fill=\"none\" stroke=\"#000000\" d=\"M2621.5471,-121.3835C2610.1835,-118.3463 2598.305,-115.5994 2587,-113.7401 2347.9402,-74.4222 1604.9206,-57.1881 1352.1713,-52.3601\"/>\n",
       "<polygon fill=\"#000000\" stroke=\"#000000\" points=\"1352.0107,-48.8566 1341.9462,-52.1665 1351.8781,-55.8553 1352.0107,-48.8566\"/>\n",
       "</g>\n",
       "<!-- callgraphX__tile_7_0&#45;&gt;callgraphX__print_maze -->\n",
       "<g id=\"edge232\" class=\"edge\">\n",
       "<title>callgraphX__tile_7_0&#45;&gt;callgraphX__print_maze</title>\n",
       "<path fill=\"none\" stroke=\"#000000\" d=\"M2809.556,-121.329C2798.1915,-118.297 2786.3104,-115.5659 2775,-113.7401 2498.0505,-69.0329 1629.4128,-55.13 1352.6283,-51.7778\"/>\n",
       "<polygon fill=\"#000000\" stroke=\"#000000\" points=\"1352.2884,-48.2735 1342.2472,-51.6536 1352.2046,-55.273 1352.2884,-48.2735\"/>\n",
       "</g>\n",
       "<!-- callgraphX__tile_7_1&#45;&gt;callgraphX__print_maze -->\n",
       "<g id=\"edge233\" class=\"edge\">\n",
       "<title>callgraphX__tile_7_1&#45;&gt;callgraphX__print_maze</title>\n",
       "<path fill=\"none\" stroke=\"#000000\" d=\"M876.9444,-1639.9741C901.5325,-1606.4825 939,-1545.7601 939,-1486.7119 939,-1486.7119 939,-1486.7119 939,-1217.4916 939,-1005.6783 933.3536,-952.2114 908,-741.9209 901.2091,-685.5954 890.9073,-672.7016 886,-616.1808 880.4808,-552.6123 851.3884,-522.724 891,-472.7006 926.0959,-428.3798 974.7376,-478.3183 1013,-436.7006 1048.812,-397.7482 1037,-373.0034 1037,-320.0904 1037,-320.0904 1037,-320.0904 1037,-230.3503 1037,-178.0965 1018.0535,-153.4653 1052,-113.7401 1070.1057,-92.5523 1135.3323,-75.3822 1189.2403,-64.3725\"/>\n",
       "<polygon fill=\"#000000\" stroke=\"#000000\" points=\"1190.0409,-67.7818 1199.1605,-62.3889 1188.6683,-60.9177 1190.0409,-67.7818\"/>\n",
       "</g>\n",
       "<!-- callgraphX__tile_7_2&#45;&gt;callgraphX__print_maze -->\n",
       "<g id=\"edge234\" class=\"edge\">\n",
       "<title>callgraphX__tile_7_2&#45;&gt;callgraphX__print_maze</title>\n",
       "<path fill=\"none\" stroke=\"#000000\" d=\"M1818.033,-1370.4476C1802.2344,-1340.799 1778.3504,-1290.8354 1769,-1244.3616 1764.2889,-1220.9463 1767.4036,-1214.4526 1769,-1190.6215 1777.0439,-1070.545 1824.1539,-1038.8705 1798,-921.4012 1765.4441,-775.1777 1693.7786,-760.8784 1655,-616.1808 1641.5347,-565.9369 1645,-551.5876 1645,-499.5706 1645,-499.5706 1645,-499.5706 1645,-320.0904 1645,-293.9635 1647.4244,-222.9483 1630,-203.4802 1584.8528,-153.0378 1532.6,-212.4508 1482,-167.4802 1462.951,-150.5505 1480.4161,-131.3563 1462,-113.7401 1444.1822,-96.6962 1388.4727,-79.674 1341.1382,-67.6487\"/>\n",
       "<polygon fill=\"#000000\" stroke=\"#000000\" points=\"1341.7315,-64.1894 1331.1813,-65.1603 1340.0342,-70.9805 1341.7315,-64.1894\"/>\n",
       "</g>\n",
       "<!-- callgraphX__tile_7_3&#45;&gt;callgraphX__print_maze -->\n",
       "<g id=\"edge235\" class=\"edge\">\n",
       "<title>callgraphX__tile_7_3&#45;&gt;callgraphX__print_maze</title>\n",
       "<path fill=\"none\" stroke=\"#000000\" d=\"M2022.3157,-1372.7195C2009.0382,-1362.4336 1995.4154,-1349.2897 1987,-1334.1017 1976.5006,-1315.1525 1880.132,-583.2184 1874,-562.4407 1867.794,-541.4124 1726.7874,-217.5831 1710,-203.4802 1661.4672,-162.7084 1622.1359,-206.2638 1572,-167.4802 1550.3639,-150.7432 1563.8882,-130.146 1542,-113.7401 1511.605,-90.9581 1417.0747,-72.7015 1347.2936,-61.8509\"/>\n",
       "<polygon fill=\"#000000\" stroke=\"#000000\" points=\"1347.6027,-58.3575 1337.1882,-60.304 1346.5435,-65.2769 1347.6027,-58.3575\"/>\n",
       "</g>\n",
       "<!-- callgraphX__tile_7_4&#45;&gt;callgraphX__print_maze -->\n",
       "<g id=\"edge236\" class=\"edge\">\n",
       "<title>callgraphX__tile_7_4&#45;&gt;callgraphX__print_maze</title>\n",
       "<path fill=\"none\" stroke=\"#000000\" d=\"M2262.1936,-1285.3879C2244.9048,-1275.349 2227.0903,-1261.7452 2216,-1244.3616 2187.8307,-1200.2075 2199,-1180.126 2199,-1127.7514 2199,-1127.7514 2199,-1127.7514 2199,-679.0509 2199,-582.0627 2193.1226,-544.5737 2128,-472.7006 2040.2304,-375.8329 2011.3103,-352.8756 1895,-293.2203 1845.4551,-267.8089 1817.1026,-293.6595 1775,-257.2203 1755.0816,-239.9813 1770.3669,-220.187 1750,-203.4802 1697.6605,-160.5467 1652.6,-212.4508 1602,-167.4802 1582.951,-150.5505 1601.3971,-130.2699 1582,-113.7401 1547.7579,-84.5597 1431.5487,-67.1879 1350.2975,-58.331\"/>\n",
       "<polygon fill=\"#000000\" stroke=\"#000000\" points=\"1350.3879,-54.8209 1340.0732,-57.2411 1349.6458,-61.7815 1350.3879,-54.8209\"/>\n",
       "</g>\n",
       "<!-- callgraphX__tile_7_5&#45;&gt;callgraphX__print_maze -->\n",
       "<g id=\"edge237\" class=\"edge\">\n",
       "<title>callgraphX__tile_7_5&#45;&gt;callgraphX__print_maze</title>\n",
       "<path fill=\"none\" stroke=\"#000000\" d=\"M2437.996,-1288.7396C2427.3618,-1285.7887 2416.3919,-1282.8817 2406,-1280.3616 2326.7137,-1261.1344 2279.0634,-1306.3316 2226,-1244.3616 2209.1302,-1224.6602 2221,-1153.6886 2221,-1127.7514 2221,-1127.7514 2221,-1127.7514 2221,-230.3503 2221,-177.8401 2240.8405,-149.0776 2202,-113.7401 2170.7964,-85.3507 1576.2532,-61.6896 1351.8065,-53.7341\"/>\n",
       "<polygon fill=\"#000000\" stroke=\"#000000\" points=\"1351.8406,-50.2333 1341.7234,-53.3785 1351.5938,-57.2289 1351.8406,-50.2333\"/>\n",
       "</g>\n",
       "<!-- callgraphX__tile_7_6&#45;&gt;callgraphX__print_maze -->\n",
       "<g id=\"edge238\" class=\"edge\">\n",
       "<title>callgraphX__tile_7_6&#45;&gt;callgraphX__print_maze</title>\n",
       "<path fill=\"none\" stroke=\"#000000\" d=\"M2997.8153,-121.3539C2986.3737,-118.2989 2974.3984,-115.5532 2963,-113.7401 2647.742,-63.5948 1651.1305,-53.2958 1352.426,-51.315\"/>\n",
       "<polygon fill=\"#000000\" stroke=\"#000000\" points=\"1352.1194,-47.813 1342.0969,-51.248 1352.0739,-54.8129 1352.1194,-47.813\"/>\n",
       "</g>\n",
       "<!-- callgraphX__tile_7_7&#45;&gt;callgraphX__print_maze -->\n",
       "<g id=\"edge239\" class=\"edge\">\n",
       "<title>callgraphX__tile_7_7&#45;&gt;callgraphX__print_maze</title>\n",
       "<path fill=\"none\" stroke=\"#000000\" d=\"M3185.8207,-121.3198C3174.3786,-118.268 3162.4017,-115.5321 3151,-113.7401 2972.2161,-85.6411 1695.7805,-59.1615 1352.0626,-52.4817\"/>\n",
       "<polygon fill=\"#000000\" stroke=\"#000000\" points=\"1351.9907,-48.9798 1341.9247,-52.2852 1351.855,-55.9785 1351.9907,-48.9798\"/>\n",
       "</g>\n",
       "<!-- callgraphX__tile_7_8&#45;&gt;callgraphX__print_maze -->\n",
       "<g id=\"edge240\" class=\"edge\">\n",
       "<title>callgraphX__tile_7_8&#45;&gt;callgraphX__print_maze</title>\n",
       "<path fill=\"none\" stroke=\"#000000\" d=\"M3373.825,-121.2919C3362.3826,-118.2426 3350.4044,-115.5149 3339,-113.7401 3140.8753,-82.9083 1717.4645,-58.1118 1352.2293,-52.2081\"/>\n",
       "<polygon fill=\"#000000\" stroke=\"#000000\" points=\"1352.0467,-48.7048 1341.9916,-52.0431 1351.9339,-55.7039 1352.0467,-48.7048\"/>\n",
       "</g>\n",
       "</g>\n",
       "</svg>\n"
      ],
      "text/plain": [
       "<graphviz.files.Source at 0x11d0b2ef0>"
      ]
     },
     "execution_count": 54,
     "metadata": {},
     "output_type": "execute_result"
    }
   ],
   "source": [
    "callgraph(maze_code)"
   ]
  },
  {
   "cell_type": "markdown",
   "metadata": {
    "slideshow": {
     "slide_type": "subslide"
    }
   },
   "source": [
    "### A First Attempt\n",
    "\n",
    "We introduce a `DictMutator` class which mutates strings by inserting a keyword from a given dictionary:"
   ]
  },
  {
   "cell_type": "code",
   "execution_count": 55,
   "metadata": {
    "slideshow": {
     "slide_type": "fragment"
    }
   },
   "outputs": [],
   "source": [
    "class DictMutator(Mutator):\n",
    "    def __init__(self, dictionary):\n",
    "        super().__init__()\n",
    "        self.dictionary = dictionary\n",
    "        self.mutators.append(self.insert_from_dictionary)\n",
    "        \n",
    "    def insert_from_dictionary(self, s):\n",
    "        \"\"\"Returns s with a keyword from the dictionary inserted\"\"\"\n",
    "        pos = random.randint(0, len(s))\n",
    "        random_keyword = random.choice(self.dictionary)\n",
    "        return s[:pos] + random_keyword + s[pos:]"
   ]
  },
  {
   "cell_type": "markdown",
   "metadata": {
    "slideshow": {
     "slide_type": "subslide"
    }
   },
   "source": [
    "To fuzz the maze, we extend the `DictMutator` class to append dictionary keywords to the end of the seed and to remove a character from the end of the seed."
   ]
  },
  {
   "cell_type": "code",
   "execution_count": 56,
   "metadata": {
    "slideshow": {
     "slide_type": "subslide"
    }
   },
   "outputs": [],
   "source": [
    "class MazeMutator(DictMutator):\n",
    "    def __init__(self, dictionary):\n",
    "        super().__init__(dictionary)\n",
    "        self.mutators.append(self.delete_last_character)\n",
    "        self.mutators.append(self.append_from_dictionary)\n",
    "\n",
    "    def append_from_dictionary(self,s):\n",
    "        \"\"\"Returns s with a keyword from the dictionary appended\"\"\"\n",
    "        random_keyword = random.choice(self.dictionary)\n",
    "        return s + random_keyword\n",
    "    \n",
    "    def delete_last_character(self,s):\n",
    "        \"\"\"Returns s without the last character\"\"\"\n",
    "        if (len(s) > 0):\n",
    "            return s[:-1]"
   ]
  },
  {
   "cell_type": "markdown",
   "metadata": {
    "slideshow": {
     "slide_type": "subslide"
    }
   },
   "source": [
    "Let's try a standard greybox fuzzer with the classic power schedule and our extended maze mutator (n=10k)."
   ]
  },
  {
   "cell_type": "code",
   "execution_count": 57,
   "metadata": {
    "slideshow": {
     "slide_type": "fragment"
    }
   },
   "outputs": [
    {
     "data": {
      "text/plain": [
       "'It took the fuzzer 10.68 seconds to generate and execute 10000 inputs.'"
      ]
     },
     "execution_count": 57,
     "metadata": {},
     "output_type": "execute_result"
    }
   ],
   "source": [
    "n = 10000\n",
    "seed_input = \" \" # empty seed\n",
    "\n",
    "maze_mutator = MazeMutator([\"L\",\"R\",\"U\",\"D\"])\n",
    "maze_schedule = PowerSchedule()\n",
    "maze_fuzzer  = GreyboxFuzzer([seed_input], maze_mutator, maze_schedule)\n",
    "\n",
    "start = time.time()\n",
    "maze_fuzzer.runs(FunctionCoverageRunner(maze), trials=n)\n",
    "end = time.time()\n",
    "\n",
    "\"It took the fuzzer %0.2f seconds to generate and execute %d inputs.\" % (end - start, n)"
   ]
  },
  {
   "cell_type": "markdown",
   "metadata": {
    "slideshow": {
     "slide_type": "subslide"
    }
   },
   "source": [
    "We will need to print statistics for several fuzzers. Why don't we define a function for that?"
   ]
  },
  {
   "cell_type": "code",
   "execution_count": 58,
   "metadata": {
    "slideshow": {
     "slide_type": "subslide"
    }
   },
   "outputs": [],
   "source": [
    "def print_stats(fuzzer):\n",
    "    total = len(fuzzer.population)\n",
    "    solved = 0\n",
    "    invalid = 0\n",
    "    valid = 0\n",
    "    for seed in fuzzer.population:\n",
    "        s = maze(str(seed.data))\n",
    "        if \"INVALID\" in s: invalid += 1\n",
    "        elif \"VALID\" in s: valid += 1\n",
    "        elif \"SOLVED\" in s: \n",
    "            solved += 1\n",
    "            if solved == 1: \n",
    "                print(\"First solution: %s\" % repr(seed))\n",
    "        else: print(\"??\")\n",
    "\n",
    "    print(\"\"\"Out of %d seeds, \n",
    "* %4d solved the maze, \n",
    "* %4d were valid but did not solve the maze, and \n",
    "* %4d were invalid\"\"\" % (total, solved, valid, invalid))   "
   ]
  },
  {
   "cell_type": "markdown",
   "metadata": {
    "slideshow": {
     "slide_type": "subslide"
    }
   },
   "source": [
    "How well does our good, old greybox fuzzer do?"
   ]
  },
  {
   "cell_type": "code",
   "execution_count": 59,
   "metadata": {
    "slideshow": {
     "slide_type": "fragment"
    }
   },
   "outputs": [
    {
     "name": "stdout",
     "output_type": "stream",
     "text": [
      "Out of 790 seeds, \n",
      "*    0 solved the maze, \n",
      "*  179 were valid but did not solve the maze, and \n",
      "*  611 were invalid\n"
     ]
    }
   ],
   "source": [
    "print_stats(maze_fuzzer)"
   ]
  },
  {
   "cell_type": "markdown",
   "metadata": {
    "slideshow": {
     "slide_type": "subslide"
    }
   },
   "source": [
    "It probably didn't solve the maze a single time. How can we make the fuzzer aware how \"far\" a seed is from reaching the target? If we know that, we can just assign more energy to that seed.\n",
    "\n",
    "***Try it***. Print the statistics for the boosted fuzzer using the `AFLFastSchedule` and the `CountingGreyboxFuzzer`. It will likely perform much better than the unboosted greybox fuzzer: The lowest-probablity path happens to be also the path which reaches the target. You can execute your own code by opening this chapter as Jupyter notebook."
   ]
  },
  {
   "cell_type": "markdown",
   "metadata": {
    "slideshow": {
     "slide_type": "subslide"
    }
   },
   "source": [
    "### Computing Function-Level Distance\n",
    "\n",
    "Using the static call graph for the maze code and the target function, we can compute the distance of each function $f$ to the target $t$ as the length of the shortest path between $f$ and $t$.\n",
    "\n",
    "Fortunately, the generated maze code includes a function called `target_tile` which returns the name of the target-function."
   ]
  },
  {
   "cell_type": "code",
   "execution_count": 60,
   "metadata": {
    "slideshow": {
     "slide_type": "fragment"
    }
   },
   "outputs": [
    {
     "data": {
      "text/plain": [
       "'tile_6_7'"
      ]
     },
     "execution_count": 60,
     "metadata": {},
     "output_type": "execute_result"
    }
   ],
   "source": [
    "target = target_tile()\n",
    "target"
   ]
  },
  {
   "cell_type": "markdown",
   "metadata": {
    "slideshow": {
     "slide_type": "subslide"
    }
   },
   "source": [
    "Now, we need to find the corresponding function in the call graph. The function `get_callgraph` returns the call graph for the maze code as [networkx](https://networkx.github.io/) graph. Networkx provides some useful functions for graph analysis."
   ]
  },
  {
   "cell_type": "code",
   "execution_count": 61,
   "metadata": {
    "slideshow": {
     "slide_type": "skip"
    }
   },
   "outputs": [],
   "source": [
    "import networkx as nx\n",
    "from ControlFlow import get_callgraph"
   ]
  },
  {
   "cell_type": "code",
   "execution_count": 62,
   "metadata": {
    "slideshow": {
     "slide_type": "fragment"
    }
   },
   "outputs": [
    {
     "data": {
      "text/plain": [
       "'callgraphX__tile_6_7'"
      ]
     },
     "execution_count": 62,
     "metadata": {},
     "output_type": "execute_result"
    }
   ],
   "source": [
    "cg = get_callgraph(maze_code)\n",
    "for node in cg.nodes():\n",
    "    if target in node:\n",
    "        target_node = node\n",
    "        break\n",
    "target_node"
   ]
  },
  {
   "cell_type": "markdown",
   "metadata": {
    "slideshow": {
     "slide_type": "subslide"
    }
   },
   "source": [
    "We can now generate the function-level distance. The dictionary `distance` contains for each function the distance to the target-function.  If there is no path to the target, we assign a maximum distance (`0xFFFF`).\n",
    "\n",
    "The function `nx.shortest_path_length(CG, node, target_node)` returns the length of the shortest path from function `node` to function `target_node` in the call graph `CG`."
   ]
  },
  {
   "cell_type": "code",
   "execution_count": 63,
   "metadata": {
    "slideshow": {
     "slide_type": "subslide"
    }
   },
   "outputs": [],
   "source": [
    "distance = {}\n",
    "for node in cg.nodes():\n",
    "    if \"__\" in node: \n",
    "        name = node.split(\"__\")[-1]\n",
    "    else: \n",
    "        name = node\n",
    "    try:\n",
    "        distance[name] = nx.shortest_path_length(cg, node, target_node)\n",
    "    except:\n",
    "        distance[name] = 0xFFFF"
   ]
  },
  {
   "cell_type": "markdown",
   "metadata": {
    "slideshow": {
     "slide_type": "fragment"
    }
   },
   "source": [
    "These are the distance values for all tile-functions on the path to the target function."
   ]
  },
  {
   "cell_type": "code",
   "execution_count": 64,
   "metadata": {
    "slideshow": {
     "slide_type": "subslide"
    }
   },
   "outputs": [
    {
     "data": {
      "text/plain": [
       "{'callgraphX': 1,\n",
       " 'tile_3_3': 9,\n",
       " 'tile_2_1': 22,\n",
       " 'tile_6_2': 17,\n",
       " 'maze': 23,\n",
       " 'tile_6_3': 16,\n",
       " 'tile_6_4': 15,\n",
       " 'tile_2_3': 8,\n",
       " 'tile_5_1': 19,\n",
       " 'tile_6_5': 14,\n",
       " 'tile_2_4': 7,\n",
       " 'tile_3_7': 3,\n",
       " 'tile_2_5': 6,\n",
       " 'tile_2_6': 5,\n",
       " 'tile_6_7': 0,\n",
       " 'tile_2_7': 4,\n",
       " 'tile_4_1': 20,\n",
       " 'tile_5_5': 13,\n",
       " 'tile_4_3': 10,\n",
       " 'tile_5_7': 1,\n",
       " 'tile_4_4': 11,\n",
       " 'tile_3_1': 21,\n",
       " 'tile_4_5': 12,\n",
       " 'tile_6_1': 18,\n",
       " 'tile_4_7': 2}"
      ]
     },
     "execution_count": 64,
     "metadata": {},
     "output_type": "execute_result"
    }
   ],
   "source": [
    "{k: distance[k] for k in list(distance) if distance[k] < 0xFFFF}"
   ]
  },
  {
   "cell_type": "markdown",
   "metadata": {
    "slideshow": {
     "slide_type": "subslide"
    }
   },
   "source": [
    "***Summary***. Using the static call graph and the target function $t$, we have shown how to compute the function-level distance of each function $f$ to the target $t$.\n",
    "\n",
    "***Try it***. You can try and execute your own code by opening this chapter as Jupyter notebook.\n",
    "\n",
    "* How do we compute distance if there are multiple targets? (Hint: [Geometric Mean](https://en.wikipedia.org/wiki/Geometric_mean)).\n",
    "* Given the call graph (CG) and the control-flow graph (CFG$_f$) for each function $f$, how do we compute basic-block (BB)-level distance? (Hint: In CFG$_f$, measure the BB-level distance to *calls* of functions on the path to the target function. Remember that BB-level distance in functions with higher function-level distance is higher, too.)\n",
    "\n",
    "***Read***. If you are interested in other aspects of search, you can follow up by reading the chapter on [Search-based Fuzzing](SearchBasedFuzzer.ipynb). If you are interested, how to solve the problems above, you can have a look at our paper on \"[Directed Greybox Fuzzing](https://mboehme.github.io/paper/CCS17.pdf)\"."
   ]
  },
  {
   "cell_type": "markdown",
   "metadata": {
    "slideshow": {
     "slide_type": "subslide"
    }
   },
   "source": [
    "### Directed Power Schedule\n",
    "Now that we know how to compute the function-level distance, let's try to implement a power schedule that assigns *more energy to seeds with a lower average distance* to the target function. Notice that the distance values are all *pre-computed*. These values are injected into program binary, just like the coverage instrumentation. In practice, this makes the computation of the average distance *extremely efficient*.\n",
    "\n",
    "If you really want to know. Given the function-level distance $d_f(s,t)$ of a function $s$ to a function $t$ in call graph $CG$, our directed power schedule computes the seed distance $d(i,t)$ for a seed $i$ to function $t$ as $d(i,t)=\\sum_{s\\in CG}\\dfrac{d_f(s,t)}{|CG|}$ where $|CG|$ is the number of nodes in the call graph $CG$."
   ]
  },
  {
   "cell_type": "code",
   "execution_count": 65,
   "metadata": {
    "slideshow": {
     "slide_type": "subslide"
    }
   },
   "outputs": [],
   "source": [
    "class DirectedSchedule(PowerSchedule):\n",
    "    def __init__(self, distance, exponent):\n",
    "        self.distance = distance\n",
    "        self.exponent = exponent\n",
    "\n",
    "    def __getFunctions__(self, coverage):\n",
    "        functions = set()\n",
    "        for f, _ in set(coverage):\n",
    "            functions.add(f)\n",
    "        return functions\n",
    "    \n",
    "    def assignEnergy(self, population):\n",
    "        \"\"\"Assigns each seed energy inversely proportional\n",
    "           to the average function-level distance to target.\"\"\"\n",
    "        for seed in population:\n",
    "            if not hasattr(seed, 'distance'):\n",
    "                num_dist = 0\n",
    "                sum_dist = 0\n",
    "                for f in self.__getFunctions__(seed.coverage):\n",
    "                    if f in list(distance):\n",
    "                        sum_dist += distance[f]\n",
    "                        num_dist += 1\n",
    "                seed.distance = sum_dist / num_dist\n",
    "                seed.energy = (1 / seed.distance) ** self.exponent"
   ]
  },
  {
   "cell_type": "markdown",
   "metadata": {
    "slideshow": {
     "slide_type": "subslide"
    }
   },
   "source": [
    "Let's see how the directed schedule performs against the good, old greybox fuzzer."
   ]
  },
  {
   "cell_type": "code",
   "execution_count": 66,
   "metadata": {
    "slideshow": {
     "slide_type": "fragment"
    }
   },
   "outputs": [
    {
     "data": {
      "text/plain": [
       "'It took the fuzzer 16.06 seconds to generate and execute 10000 inputs.'"
      ]
     },
     "execution_count": 66,
     "metadata": {},
     "output_type": "execute_result"
    }
   ],
   "source": [
    "directed_schedule = DirectedSchedule(distance, 3)\n",
    "directed_fuzzer  = GreyboxFuzzer([seed_input], maze_mutator, directed_schedule)\n",
    "\n",
    "start = time.time()\n",
    "directed_fuzzer.runs(FunctionCoverageRunner(maze), trials=n)\n",
    "end = time.time()\n",
    "\n",
    "\"It took the fuzzer %0.2f seconds to generate and execute %d inputs.\" % (end - start, n)"
   ]
  },
  {
   "cell_type": "code",
   "execution_count": 67,
   "metadata": {
    "slideshow": {
     "slide_type": "subslide"
    }
   },
   "outputs": [
    {
     "name": "stdout",
     "output_type": "stream",
     "text": [
      "Out of 1412 seeds, \n",
      "*    0 solved the maze, \n",
      "*  521 were valid but did not solve the maze, and \n",
      "*  891 were invalid\n"
     ]
    }
   ],
   "source": [
    "print_stats(directed_fuzzer)"
   ]
  },
  {
   "cell_type": "markdown",
   "metadata": {
    "slideshow": {
     "slide_type": "fragment"
    }
   },
   "source": [
    "It probably didn't solve a single maze either, but we have more valid solutions. So, there is definitely progress.\n",
    "\n",
    "Let's have a look at the distance values for each seed."
   ]
  },
  {
   "cell_type": "code",
   "execution_count": 68,
   "metadata": {
    "slideshow": {
     "slide_type": "subslide"
    }
   },
   "outputs": [
    {
     "data": {
      "image/png": "[encoded data removed]",
      "text/plain": [
       "<Figure size 432x288 with 1 Axes>"
      ]
     },
     "metadata": {
      "needs_background": "light"
     },
     "output_type": "display_data"
    }
   ],
   "source": [
    "y = [seed.distance for seed in directed_fuzzer.population]\n",
    "x = range(len(y))\n",
    "plt.scatter(x, y)\n",
    "plt.ylim(0,max(y))\n",
    "plt.xlabel(\"Seed ID\")\n",
    "plt.ylabel(\"Distance\");"
   ]
  },
  {
   "cell_type": "markdown",
   "metadata": {
    "slideshow": {
     "slide_type": "subslide"
    }
   },
   "source": [
    "Let's normalize the y-axis and improve the importance of the small distance seeds.\n",
    "\n",
    "### Improved Directed Power Schedule\n",
    "The improved directed schedule normalizes seed distance between the minimal and maximal distance.\n",
    "Again, if you really want to know. Given the seed distance $d(i,t)$ of a seed $i$ to a function $t$, our improved power schedule computes the new seed distance $d'(i,t)$ as \n",
    "$$\n",
    "d'(i,t)=\\begin{cases}\n",
    "1 & \\text{if } d(i,t) = \\text{minD} = \\text{maxD}\\\\\n",
    "\\text{maxD} - \\text{minD} & \\text{if } d(i,t) = \\text{minD} \\neq \\text{maxD}\\\\\n",
    "\\frac{d(i,t)-\\text{minD}}{\\text{maxD} - \\text{minD}} & \\text{otherwise}\n",
    "\\end{cases}\n",
    "$$\n",
    "where \n",
    "$$\\text{minD}=\\min_{i\\in T}[d(i,t)]$$\n",
    "and\n",
    "$$\\text{maxD}=\\max_{i\\in T}[d(i,t)]$$\n",
    "where $T$ is the set of seeds (i.e., the population)."
   ]
  },
  {
   "cell_type": "code",
   "execution_count": 69,
   "metadata": {
    "slideshow": {
     "slide_type": "subslide"
    }
   },
   "outputs": [],
   "source": [
    "class AFLGoSchedule(DirectedSchedule):\n",
    "    def assignEnergy(self, population):\n",
    "        \"\"\"Assigns each seed energy inversely proportional\n",
    "           to the average function-level distance to target.\"\"\"\n",
    "        min_dist = 0xFFFF\n",
    "        max_dist = 0\n",
    "        for seed in population:\n",
    "            if not hasattr(seed, 'distance'):\n",
    "                num_dist = 0\n",
    "                sum_dist = 0\n",
    "                for f in self.__getFunctions__(seed.coverage):\n",
    "                    if f in list(distance):\n",
    "                        sum_dist += distance[f]\n",
    "                        num_dist += 1\n",
    "                seed.distance = sum_dist / num_dist\n",
    "            if seed.distance < min_dist: min_dist = seed.distance\n",
    "            if seed.distance > max_dist: max_dist = seed.distance\n",
    "\n",
    "        for seed in population:\n",
    "            if (seed.distance == min_dist):\n",
    "                if min_dist == max_dist:\n",
    "                    seed.energy = 1\n",
    "                else: \n",
    "                    seed.energy = max_dist - min_dist\n",
    "            else:\n",
    "                seed.energy = ((max_dist - min_dist) / (seed.distance - min_dist)) "
   ]
  },
  {
   "cell_type": "markdown",
   "metadata": {
    "slideshow": {
     "slide_type": "subslide"
    }
   },
   "source": [
    "Let's see how the improved power schedule performs."
   ]
  },
  {
   "cell_type": "code",
   "execution_count": 70,
   "metadata": {
    "slideshow": {
     "slide_type": "fragment"
    }
   },
   "outputs": [
    {
     "data": {
      "text/plain": [
       "'It took the fuzzer 27.11 seconds to generate and execute 10000 inputs.'"
      ]
     },
     "execution_count": 70,
     "metadata": {},
     "output_type": "execute_result"
    }
   ],
   "source": [
    "aflgo_schedule = AFLGoSchedule(distance, 3)\n",
    "aflgo_fuzzer  = GreyboxFuzzer([seed_input], maze_mutator, aflgo_schedule)\n",
    "\n",
    "start = time.time()\n",
    "aflgo_fuzzer.runs(FunctionCoverageRunner(maze), trials=n)\n",
    "end = time.time()\n",
    "\n",
    "\"It took the fuzzer %0.2f seconds to generate and execute %d inputs.\" % (end - start, n)"
   ]
  },
  {
   "cell_type": "code",
   "execution_count": 71,
   "metadata": {
    "slideshow": {
     "slide_type": "subslide"
    }
   },
   "outputs": [
    {
     "name": "stdout",
     "output_type": "stream",
     "text": [
      "First solution: D_nDDb*@FH!DR'RRRUUL1LUxUkRRWRRDDDDU\n",
      "Out of 2418 seeds, \n",
      "*  325 solved the maze, \n",
      "*  253 were valid but did not solve the maze, and \n",
      "* 1840 were invalid\n"
     ]
    }
   ],
   "source": [
    "print_stats(aflgo_fuzzer)"
   ]
  },
  {
   "cell_type": "markdown",
   "metadata": {
    "slideshow": {
     "slide_type": "fragment"
    }
   },
   "source": [
    "In contrast to all previous power schedules, this one generates hundreds of solutions. It has generated many solutions. \n",
    "\n",
    "Let's filter out all ignored input characters from the first solution. The function `filter(f, seed.data)` returns a list of elements `e` in `seed.data` where the function `f` applied on `e` returns True."
   ]
  },
  {
   "cell_type": "code",
   "execution_count": 72,
   "metadata": {
    "slideshow": {
     "slide_type": "subslide"
    }
   },
   "outputs": [
    {
     "name": "stdout",
     "output_type": "stream",
     "text": [
      "DDDDRRRRUULLUURRRRDDDDU\n"
     ]
    }
   ],
   "source": [
    "for seed in aflgo_fuzzer.population:\n",
    "    s = maze(str(seed.data))\n",
    "    if \"SOLVED\" in s:\n",
    "        filtered = \"\".join(list(filter(lambda c: c in \"UDLR\", seed.data)))\n",
    "        print(filtered)\n",
    "        break"
   ]
  },
  {
   "cell_type": "markdown",
   "metadata": {
    "slideshow": {
     "slide_type": "subslide"
    }
   },
   "source": [
    "This is definitely a solution for the maze specified at the beginning!\n",
    "\n",
    "***Summary***. After pre-computing the function-level distance to the target, we can develop a power schedule that assigns more energy to a seed with a smaller average function-level distance to the target. By normalizing seed distance values between the minimum and maximum seed distance, we can further boost the directed power schedule.\n",
    "\n",
    "***Try it***. Implement and evaluate a simpler directed power that uses the minimal (rather than average) function-level distance. What is the downside of using the minimal distance? In order to execute your code, you just need to open this chapter as Jupyter notebook.\n",
    "\n",
    "***Read***. You can find out more about directed greybox fuzzing in the equally-named paper \"[Directed Greybox Fuzzing](https://mboehme.github.io/paper/CCS17.pdf)\" \\cite{boehme2017greybox} and check out the implementation into AFL at [http://github.com/aflgo/aflgo](http://github.com/aflgo/aflgo)."
   ]
  },
  {
   "cell_type": "markdown",
   "metadata": {
    "button": false,
    "new_sheet": true,
    "run_control": {
     "read_only": false
    },
    "slideshow": {
     "slide_type": "slide"
    }
   },
   "source": [
    "## Lessons Learned\n",
    "\n",
    "* A *greybox fuzzer* generates thousands of inputs per second. Pre-processing and lightweight instrumentation \n",
    "  * allows to maintain the efficiency *during* the fuzzing campaign, and \n",
    "  * still provides enough information to control progress and slightly steer the fuzzer.\n",
    "* The *power schedule* allows to steer/control the fuzzer. For instance,\n",
    "  * Our [boosted greybox fuzzer](#Fuzzer-Boosting) spends more energy on seeds that exercise \"unlikely\" paths. The hope is that the generated inputs exercise even more unlikely paths. This in turn increases the number of paths explored per unit time.\n",
    "  * Our [directed greybox fuzzer](#Directed-Greybox-Fuzzing) spends more energy on seeds that are \"closer\" to a target location. The hope is that the generated inputs get even closer to the target.\n",
    "* The *mutator* defines the fuzzer's search space. [Customizing the mutator](GreyboxFuzzer.ipynb#A-First-Attempt) for the given program allows to reduce the search space to only relevant inputs. In a couple of chapters, we'll learn about [dictionary-based, and grammar-based mutators](GreyboxGrammarFuzzer.ipynb) to increase the ratio of valid inputs generated.\n"
   ]
  },
  {
   "cell_type": "markdown",
   "metadata": {
    "button": false,
    "new_sheet": false,
    "run_control": {
     "read_only": false
    },
    "slideshow": {
     "slide_type": "slide"
    }
   },
   "source": [
    "## Next Steps\n",
    "\n",
    "Our aim is still to sufficiently cover functionality, such that we can trigger as many bugs as possible.  To this end, we focus on two classes of techniques:\n",
    "\n",
    "1. Try to cover as much _specified_ functionality as possible.  Here, we would need a _specification of the input format,_ distinguishing between individual input elements such as (in our case) numbers, operators, comments, and strings – and attempting to cover as many of these as possible.  We will explore this as it comes to [grammar-based testing](GrammarFuzzer.ipynb), and especially in [grammar-based mutations](GreyboxGrammarFuzzer.ipynb).\n",
    "\n",
    "2. Try to cover as much _implemented_ functionality as possible.  The concept of a \"population\" that is systematically \"evolved\" through \"mutations\" will be explored in depth when discussing [search-based testing](SearchBasedFuzzer.ipynb).  Furthermore, [symbolic testing](SymbolicFuzzer.ipynb) introduces how to systematically reach program locations by solving the conditions that lie on their paths.\n",
    "\n",
    "These two techniques make up the gist of the book; and, of course, they can also be combined with each other.  As usual, we provide runnable code for all.  Enjoy!"
   ]
  },
  {
   "cell_type": "markdown",
   "metadata": {
    "slideshow": {
     "slide_type": "subslide"
    }
   },
   "source": [
    "We're done, so we clean up:"
   ]
  },
  {
   "cell_type": "code",
   "execution_count": 73,
   "metadata": {
    "slideshow": {
     "slide_type": "skip"
    }
   },
   "outputs": [],
   "source": [
    "import shutil\n",
    "import os"
   ]
  },
  {
   "cell_type": "code",
   "execution_count": 74,
   "metadata": {
    "slideshow": {
     "slide_type": "fragment"
    }
   },
   "outputs": [],
   "source": [
    "if os.path.exists('callgraph.dot'):\n",
    "    os.remove('callgraph.dot')\n",
    "    \n",
    "if os.path.exists('callgraph.py'):\n",
    "    os.remove('callgraph.py')"
   ]
  },
  {
   "cell_type": "markdown",
   "metadata": {
    "slideshow": {
     "slide_type": "slide"
    }
   },
   "source": [
    "## Background\n",
    "\n",
    "* **Find out more about AFL**: http://lcamtuf.coredump.cx/afl/\n",
    "* **Learn about LibFuzzer** (another famous greybox fuzzer): http://llvm.org/docs/LibFuzzer.html\n",
    "* **How quickly must a whitebox fuzzer exercise each path to remain more efficient than a greybox fuzzer?** Marcel Böhme and Soumya Paul. 2016. [A Probabilistic Analysis of the Efficiency of Automated Software Testing](https://mboehme.github.io/paper/TSE15.pdf), IEEE TSE, 42:345-360 \\cite{boehme2016efficiency}"
   ]
  },
  {
   "cell_type": "markdown",
   "metadata": {
    "button": false,
    "new_sheet": true,
    "run_control": {
     "read_only": false
    },
    "slideshow": {
     "slide_type": "slide"
    }
   },
   "source": [
    "## Exercises\n",
    "\n",
    "To be added. \\todo{}"
   ]
  }
 ],
 "metadata": {
  "ipub": {
   "bibliography": "fuzzingbook.bib",
   "toc": true
  },
  "kernelspec": {
   "display_name": "Python 3",
   "language": "python",
   "name": "python3"
  },
  "language_info": {
   "codemirror_mode": {
    "name": "ipython",
    "version": 3
   },
   "file_extension": ".py",
   "mimetype": "text/x-python",
   "name": "python",
   "nbconvert_exporter": "python",
   "pygments_lexer": "ipython3",
   "version": "3.6.8"
  },
  "toc": {
   "base_numbering": 1,
   "nav_menu": {},
   "number_sections": true,
   "sideBar": true,
   "skip_h1_title": true,
   "title_cell": "",
   "title_sidebar": "Contents",
   "toc_cell": false,
   "toc_position": {},
   "toc_section_display": true,
   "toc_window_display": true
  },
  "toc-autonumbering": false,
  "varInspector": {
   "cols": {
    "lenName": 16,
    "lenType": 16,
    "lenVar": 40
   },
   "kernels_config": {
    "python": {
     "delete_cmd_postfix": "",
     "delete_cmd_prefix": "del ",
     "library": "var_list.py",
     "varRefreshCmd": "print(var_dic_list())"
    },
    "r": {
     "delete_cmd_postfix": ") ",
     "delete_cmd_prefix": "rm(",
     "library": "var_list.r",
     "varRefreshCmd": "cat(var_dic_list()) "
    }
   },
   "types_to_exclude": [
    "module",
    "function",
    "builtin_function_or_method",
    "instance",
    "_Feature"
   ],
   "window_display": false
  }
 },
 "nbformat": 4,
 "nbformat_minor": 2
}
